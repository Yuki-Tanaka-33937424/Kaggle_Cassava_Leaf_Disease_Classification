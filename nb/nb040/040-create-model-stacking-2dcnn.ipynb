{
 "cells": [
  {
   "cell_type": "code",
   "execution_count": 1,
   "metadata": {
    "_cell_guid": "79c7e3d0-c299-4dcb-8224-4455121ee9b0",
    "_uuid": "d629ff2d2480ee46fbb7e2d37f6b5fab8052498a",
    "execution": {
     "iopub.execute_input": "2021-02-17T12:25:06.177600Z",
     "iopub.status.busy": "2021-02-17T12:25:06.176839Z",
     "iopub.status.idle": "2021-02-17T12:25:06.180634Z",
     "shell.execute_reply": "2021-02-17T12:25:06.179910Z"
    },
    "papermill": {
     "duration": 0.030414,
     "end_time": "2021-02-17T12:25:06.180771",
     "exception": false,
     "start_time": "2021-02-17T12:25:06.150357",
     "status": "completed"
    },
    "tags": []
   },
   "outputs": [],
   "source": [
    "import numpy as np\n",
    "import pandas as pd\n",
    "import os"
   ]
  },
  {
   "cell_type": "code",
   "execution_count": 2,
   "metadata": {
    "execution": {
     "iopub.execute_input": "2021-02-17T12:25:06.225344Z",
     "iopub.status.busy": "2021-02-17T12:25:06.224719Z",
     "iopub.status.idle": "2021-02-17T12:25:06.232283Z",
     "shell.execute_reply": "2021-02-17T12:25:06.231617Z"
    },
    "papermill": {
     "duration": 0.031464,
     "end_time": "2021-02-17T12:25:06.232414",
     "exception": false,
     "start_time": "2021-02-17T12:25:06.200950",
     "status": "completed"
    },
    "tags": []
   },
   "outputs": [
    {
     "data": {
      "text/plain": [
       "['train_tfrecords',\n",
       " 'sample_submission.csv',\n",
       " 'test_tfrecords',\n",
       " 'label_num_to_disease_map.json',\n",
       " 'train_images',\n",
       " 'train.csv',\n",
       " 'test_images']"
      ]
     },
     "execution_count": 2,
     "metadata": {},
     "output_type": "execute_result"
    }
   ],
   "source": [
    "os.listdir('../input/cassava-leaf-disease-classification/')"
   ]
  },
  {
   "cell_type": "code",
   "execution_count": 3,
   "metadata": {
    "execution": {
     "iopub.execute_input": "2021-02-17T12:25:06.283682Z",
     "iopub.status.busy": "2021-02-17T12:25:06.282940Z",
     "iopub.status.idle": "2021-02-17T12:25:06.709015Z",
     "shell.execute_reply": "2021-02-17T12:25:06.708273Z"
    },
    "papermill": {
     "duration": 0.456201,
     "end_time": "2021-02-17T12:25:06.709132",
     "exception": false,
     "start_time": "2021-02-17T12:25:06.252931",
     "status": "completed"
    },
    "tags": []
   },
   "outputs": [],
   "source": [
    "train = pd.read_csv('../input/cassava-leaf-disease-merged/merged.csv')\n",
    "test = pd.read_csv('../input/cassava-leaf-disease-classification//sample_submission.csv')\n",
    "label_map = pd.read_json('../input/cassava-leaf-disease-classification/label_num_to_disease_map.json', orient='index')"
   ]
  },
  {
   "cell_type": "markdown",
   "metadata": {
    "papermill": {
     "duration": 0.019986,
     "end_time": "2021-02-17T12:25:06.749656",
     "exception": false,
     "start_time": "2021-02-17T12:25:06.729670",
     "status": "completed"
    },
    "tags": []
   },
   "source": [
    "## Directory settings"
   ]
  },
  {
   "cell_type": "code",
   "execution_count": 4,
   "metadata": {
    "execution": {
     "iopub.execute_input": "2021-02-17T12:25:06.797240Z",
     "iopub.status.busy": "2021-02-17T12:25:06.796030Z",
     "iopub.status.idle": "2021-02-17T12:25:06.799440Z",
     "shell.execute_reply": "2021-02-17T12:25:06.798811Z"
    },
    "papermill": {
     "duration": 0.029443,
     "end_time": "2021-02-17T12:25:06.799554",
     "exception": false,
     "start_time": "2021-02-17T12:25:06.770111",
     "status": "completed"
    },
    "tags": []
   },
   "outputs": [],
   "source": [
    "OUTPUT_DIR = './'\n",
    "if not os.path.exists(OUTPUT_DIR):\n",
    "    os.makedirs(OUTPUT_DIR)\n",
    "    \n",
    "TRAIN_PATH = '../input/cassava-leaf-disease-merged/train'\n",
    "TEST_PATH = '../input/cassava-leaf-disease-classification/test_images'"
   ]
  },
  {
   "cell_type": "markdown",
   "metadata": {
    "papermill": {
     "duration": 0.019752,
     "end_time": "2021-02-17T12:25:06.839652",
     "exception": false,
     "start_time": "2021-02-17T12:25:06.819900",
     "status": "completed"
    },
    "tags": []
   },
   "source": [
    "## CFG"
   ]
  },
  {
   "cell_type": "code",
   "execution_count": 5,
   "metadata": {
    "execution": {
     "iopub.execute_input": "2021-02-17T12:25:06.889663Z",
     "iopub.status.busy": "2021-02-17T12:25:06.888284Z",
     "iopub.status.idle": "2021-02-17T12:25:06.893149Z",
     "shell.execute_reply": "2021-02-17T12:25:06.892610Z"
    },
    "papermill": {
     "duration": 0.033427,
     "end_time": "2021-02-17T12:25:06.893260",
     "exception": false,
     "start_time": "2021-02-17T12:25:06.859833",
     "status": "completed"
    },
    "tags": []
   },
   "outputs": [],
   "source": [
    "class CFG:\n",
    "    debug = False\n",
    "    apex = False\n",
    "    print_freq = 100\n",
    "    num_workers = 4\n",
    "    model_name = '2D_CNN'\n",
    "    size = 256\n",
    "    scheduler = 'CosineAnnealingWarmRestarts'\n",
    "    epochs = 30\n",
    "    T_0 = 10\n",
    "    lr = 1e-3\n",
    "    min_lr = 1e-6\n",
    "    batch_size = 256\n",
    "    weight_decay = 1e-6\n",
    "    gradient_accumulation_steps = 1\n",
    "    max_grad_norm = 1000\n",
    "    seed = 42\n",
    "    target_size = 5\n",
    "    target_col = 'label'\n",
    "    n_fold = 5\n",
    "    trn_fold = [0, 1, 2, 3, 4]\n",
    "    train = True\n",
    "    inference = False\n",
    "    \n",
    "if CFG.debug:\n",
    "    CFG.epochs = 1\n",
    "    train = train.sample(n=1000, random_state=CFG.seed).reset_index(drop=True)"
   ]
  },
  {
   "cell_type": "markdown",
   "metadata": {
    "papermill": {
     "duration": 0.020207,
     "end_time": "2021-02-17T12:25:06.934102",
     "exception": false,
     "start_time": "2021-02-17T12:25:06.913895",
     "status": "completed"
    },
    "tags": []
   },
   "source": [
    "## Library"
   ]
  },
  {
   "cell_type": "code",
   "execution_count": 6,
   "metadata": {
    "execution": {
     "iopub.execute_input": "2021-02-17T12:25:06.988831Z",
     "iopub.status.busy": "2021-02-17T12:25:06.983095Z",
     "iopub.status.idle": "2021-02-17T12:25:11.173481Z",
     "shell.execute_reply": "2021-02-17T12:25:11.172653Z"
    },
    "papermill": {
     "duration": 4.219131,
     "end_time": "2021-02-17T12:25:11.173604",
     "exception": false,
     "start_time": "2021-02-17T12:25:06.954473",
     "status": "completed"
    },
    "tags": []
   },
   "outputs": [],
   "source": [
    "import sys\n",
    "sys.path.append('../input/pytorch-image-models/pytorch-image-models-master')\n",
    "\n",
    "import os\n",
    "import math\n",
    "import time\n",
    "import random\n",
    "import shutil\n",
    "from pathlib import Path\n",
    "from contextlib import contextmanager\n",
    "from collections import defaultdict, Counter\n",
    "\n",
    "import scipy as sp\n",
    "import numpy as np\n",
    "import pandas as pd\n",
    "\n",
    "from sklearn import preprocessing\n",
    "from sklearn.metrics import accuracy_score\n",
    "from sklearn.model_selection import StratifiedKFold\n",
    "\n",
    "from tqdm.auto import tqdm\n",
    "from functools import partial\n",
    "\n",
    "import cv2\n",
    "from PIL import Image\n",
    "\n",
    "import torch\n",
    "import torch.nn as nn\n",
    "import torch.nn.functional as F\n",
    "from torch.optim import Adam, SGD\n",
    "import torchvision.models as models\n",
    "from torch.nn.parameter import Parameter\n",
    "from torch.utils.data import DataLoader, Dataset\n",
    "from torch.optim.lr_scheduler import CosineAnnealingWarmRestarts, CosineAnnealingLR, ReduceLROnPlateau\n",
    "\n",
    "from albumentations import (\n",
    "    Compose, OneOf, Normalize, Resize, RandomResizedCrop, RandomCrop, HorizontalFlip, VerticalFlip, \n",
    "    RandomBrightness, RandomContrast, RandomBrightnessContrast, Rotate, ShiftScaleRotate, Cutout, \n",
    "    IAAAdditiveGaussianNoise, Transpose\n",
    "    )\n",
    "from albumentations.pytorch import ToTensorV2\n",
    "from albumentations import ImageOnlyTransform\n",
    "\n",
    "import timm\n",
    "\n",
    "import warnings \n",
    "warnings.filterwarnings('ignore')\n",
    "\n",
    "if CFG.apex:\n",
    "    from apex import amp\n",
    "\n",
    "device = torch.device('cuda' if torch.cuda.is_available() else 'cpu')"
   ]
  },
  {
   "cell_type": "markdown",
   "metadata": {
    "papermill": {
     "duration": 0.020336,
     "end_time": "2021-02-17T12:25:11.214973",
     "exception": false,
     "start_time": "2021-02-17T12:25:11.194637",
     "status": "completed"
    },
    "tags": []
   },
   "source": [
    "## Utils"
   ]
  },
  {
   "cell_type": "code",
   "execution_count": 7,
   "metadata": {
    "execution": {
     "iopub.execute_input": "2021-02-17T12:25:11.270971Z",
     "iopub.status.busy": "2021-02-17T12:25:11.270228Z",
     "iopub.status.idle": "2021-02-17T12:25:11.277577Z",
     "shell.execute_reply": "2021-02-17T12:25:11.276885Z"
    },
    "papermill": {
     "duration": 0.041863,
     "end_time": "2021-02-17T12:25:11.277694",
     "exception": false,
     "start_time": "2021-02-17T12:25:11.235831",
     "status": "completed"
    },
    "tags": []
   },
   "outputs": [],
   "source": [
    "def get_score(y_true, y_pred):\n",
    "    return accuracy_score(y_true, y_pred)\n",
    "\n",
    "@contextmanager\n",
    "def timer(name):\n",
    "    t0 = time.time()\n",
    "    LOGGER.info(f'[{name}] start')\n",
    "    yield\n",
    "    LOGGER.info(f'[{name}] done in {time.time() - t0:.0f}')\n",
    "    \n",
    "def init_logger(log_file=OUTPUT_DIR+'train.log'):\n",
    "    from logging import getLogger, INFO, FileHandler,  Formatter,  StreamHandler\n",
    "    logger = getLogger(__name__)\n",
    "    logger.setLevel(INFO)\n",
    "    handler1 = StreamHandler()\n",
    "    handler1.setFormatter(Formatter(\"%(message)s\"))\n",
    "    handler2 = FileHandler(filename=log_file)\n",
    "    handler2.setFormatter(Formatter(\"%(message)s\"))\n",
    "    logger.addHandler(handler1)\n",
    "    logger.addHandler(handler2)\n",
    "    return logger\n",
    "\n",
    "LOGGER = init_logger()\n",
    "\n",
    "def seed_torch(seed=42):\n",
    "    random.seed(seed)\n",
    "    os.environ['PYTHONHASHSEED'] = str(seed)\n",
    "    np.random.seed(seed)\n",
    "    torch.manual_seed(seed)\n",
    "    torch.cuda.manual_seed(seed)\n",
    "    torch.backends.cudnn.deterministic = True\n",
    "\n",
    "seed_torch(seed=CFG.seed)"
   ]
  },
  {
   "cell_type": "markdown",
   "metadata": {
    "papermill": {
     "duration": 0.020214,
     "end_time": "2021-02-17T12:25:11.318698",
     "exception": false,
     "start_time": "2021-02-17T12:25:11.298484",
     "status": "completed"
    },
    "tags": []
   },
   "source": [
    "## CV split"
   ]
  },
  {
   "cell_type": "code",
   "execution_count": 8,
   "metadata": {
    "execution": {
     "iopub.execute_input": "2021-02-17T12:25:11.363696Z",
     "iopub.status.busy": "2021-02-17T12:25:11.363014Z",
     "iopub.status.idle": "2021-02-17T12:25:11.635642Z",
     "shell.execute_reply": "2021-02-17T12:25:11.636281Z"
    },
    "papermill": {
     "duration": 0.297019,
     "end_time": "2021-02-17T12:25:11.636469",
     "exception": false,
     "start_time": "2021-02-17T12:25:11.339450",
     "status": "completed"
    },
    "tags": []
   },
   "outputs": [
    {
     "data": {
      "text/html": [
       "<div>\n",
       "<style scoped>\n",
       "    .dataframe tbody tr th:only-of-type {\n",
       "        vertical-align: middle;\n",
       "    }\n",
       "\n",
       "    .dataframe tbody tr th {\n",
       "        vertical-align: top;\n",
       "    }\n",
       "\n",
       "    .dataframe thead th {\n",
       "        text-align: right;\n",
       "    }\n",
       "</style>\n",
       "<table border=\"1\" class=\"dataframe\">\n",
       "  <thead>\n",
       "    <tr style=\"text-align: right;\">\n",
       "      <th></th>\n",
       "      <th>0</th>\n",
       "      <th>1</th>\n",
       "      <th>2</th>\n",
       "      <th>3</th>\n",
       "      <th>4</th>\n",
       "      <th>5</th>\n",
       "      <th>6</th>\n",
       "      <th>7</th>\n",
       "      <th>8</th>\n",
       "      <th>9</th>\n",
       "      <th>label</th>\n",
       "    </tr>\n",
       "  </thead>\n",
       "  <tbody>\n",
       "    <tr>\n",
       "      <th>0</th>\n",
       "      <td>3.826102e-15</td>\n",
       "      <td>4.340454e-16</td>\n",
       "      <td>5.234761e-11</td>\n",
       "      <td>1.000000e+00</td>\n",
       "      <td>4.762953e-14</td>\n",
       "      <td>1.522047e-14</td>\n",
       "      <td>9.014521e-16</td>\n",
       "      <td>1.139739e-09</td>\n",
       "      <td>1.000000e+00</td>\n",
       "      <td>3.116005e-13</td>\n",
       "      <td>3</td>\n",
       "    </tr>\n",
       "    <tr>\n",
       "      <th>1</th>\n",
       "      <td>9.538939e-01</td>\n",
       "      <td>1.037140e-02</td>\n",
       "      <td>1.156314e-06</td>\n",
       "      <td>8.508536e-07</td>\n",
       "      <td>3.573275e-02</td>\n",
       "      <td>9.599438e-01</td>\n",
       "      <td>7.439279e-03</td>\n",
       "      <td>1.127475e-06</td>\n",
       "      <td>8.668555e-07</td>\n",
       "      <td>3.261490e-02</td>\n",
       "      <td>4</td>\n",
       "    </tr>\n",
       "    <tr>\n",
       "      <th>2</th>\n",
       "      <td>4.627016e-18</td>\n",
       "      <td>1.426970e-14</td>\n",
       "      <td>1.898384e-14</td>\n",
       "      <td>1.000000e+00</td>\n",
       "      <td>4.604767e-15</td>\n",
       "      <td>3.705072e-17</td>\n",
       "      <td>5.054389e-14</td>\n",
       "      <td>2.114423e-13</td>\n",
       "      <td>1.000000e+00</td>\n",
       "      <td>2.999360e-14</td>\n",
       "      <td>3</td>\n",
       "    </tr>\n",
       "    <tr>\n",
       "      <th>3</th>\n",
       "      <td>4.606794e-07</td>\n",
       "      <td>1.124587e-05</td>\n",
       "      <td>1.638323e-02</td>\n",
       "      <td>9.827052e-01</td>\n",
       "      <td>8.998843e-04</td>\n",
       "      <td>3.833728e-07</td>\n",
       "      <td>9.185316e-06</td>\n",
       "      <td>1.194510e-02</td>\n",
       "      <td>9.875053e-01</td>\n",
       "      <td>5.400496e-04</td>\n",
       "      <td>3</td>\n",
       "    </tr>\n",
       "    <tr>\n",
       "      <th>4</th>\n",
       "      <td>6.382671e-06</td>\n",
       "      <td>1.690052e-05</td>\n",
       "      <td>4.985041e-04</td>\n",
       "      <td>1.611800e-05</td>\n",
       "      <td>9.994621e-01</td>\n",
       "      <td>4.209951e-06</td>\n",
       "      <td>7.615774e-06</td>\n",
       "      <td>2.362547e-04</td>\n",
       "      <td>8.609924e-06</td>\n",
       "      <td>9.997434e-01</td>\n",
       "      <td>2</td>\n",
       "    </tr>\n",
       "    <tr>\n",
       "      <th>...</th>\n",
       "      <td>...</td>\n",
       "      <td>...</td>\n",
       "      <td>...</td>\n",
       "      <td>...</td>\n",
       "      <td>...</td>\n",
       "      <td>...</td>\n",
       "      <td>...</td>\n",
       "      <td>...</td>\n",
       "      <td>...</td>\n",
       "      <td>...</td>\n",
       "      <td>...</td>\n",
       "    </tr>\n",
       "    <tr>\n",
       "      <th>26332</th>\n",
       "      <td>8.475993e-07</td>\n",
       "      <td>9.982687e-01</td>\n",
       "      <td>2.881717e-07</td>\n",
       "      <td>1.730106e-03</td>\n",
       "      <td>8.013854e-08</td>\n",
       "      <td>9.047382e-07</td>\n",
       "      <td>9.980873e-01</td>\n",
       "      <td>3.099606e-07</td>\n",
       "      <td>1.911314e-03</td>\n",
       "      <td>6.628071e-08</td>\n",
       "      <td>1</td>\n",
       "    </tr>\n",
       "    <tr>\n",
       "      <th>26333</th>\n",
       "      <td>4.107651e-02</td>\n",
       "      <td>9.103698e-01</td>\n",
       "      <td>1.831035e-02</td>\n",
       "      <td>2.917714e-03</td>\n",
       "      <td>2.732570e-02</td>\n",
       "      <td>2.457832e-02</td>\n",
       "      <td>9.492393e-01</td>\n",
       "      <td>9.367346e-03</td>\n",
       "      <td>1.033589e-03</td>\n",
       "      <td>1.578141e-02</td>\n",
       "      <td>1</td>\n",
       "    </tr>\n",
       "    <tr>\n",
       "      <th>26334</th>\n",
       "      <td>3.930135e-09</td>\n",
       "      <td>1.206950e-05</td>\n",
       "      <td>3.702277e-11</td>\n",
       "      <td>9.999880e-01</td>\n",
       "      <td>3.137060e-13</td>\n",
       "      <td>6.578338e-09</td>\n",
       "      <td>1.752745e-05</td>\n",
       "      <td>4.747458e-11</td>\n",
       "      <td>9.999825e-01</td>\n",
       "      <td>7.934944e-13</td>\n",
       "      <td>3</td>\n",
       "    </tr>\n",
       "    <tr>\n",
       "      <th>26335</th>\n",
       "      <td>3.089139e-07</td>\n",
       "      <td>2.266481e-06</td>\n",
       "      <td>4.496734e-04</td>\n",
       "      <td>9.995383e-01</td>\n",
       "      <td>9.492393e-06</td>\n",
       "      <td>1.146029e-07</td>\n",
       "      <td>8.421153e-07</td>\n",
       "      <td>5.965448e-04</td>\n",
       "      <td>9.994010e-01</td>\n",
       "      <td>1.521211e-06</td>\n",
       "      <td>3</td>\n",
       "    </tr>\n",
       "    <tr>\n",
       "      <th>26336</th>\n",
       "      <td>9.672021e-01</td>\n",
       "      <td>1.329952e-02</td>\n",
       "      <td>1.230133e-03</td>\n",
       "      <td>5.429258e-05</td>\n",
       "      <td>1.821390e-02</td>\n",
       "      <td>9.656506e-01</td>\n",
       "      <td>1.646547e-02</td>\n",
       "      <td>1.371837e-03</td>\n",
       "      <td>6.390436e-05</td>\n",
       "      <td>1.644809e-02</td>\n",
       "      <td>0</td>\n",
       "    </tr>\n",
       "  </tbody>\n",
       "</table>\n",
       "<p>26337 rows × 11 columns</p>\n",
       "</div>"
      ],
      "text/plain": [
       "                  0             1             2             3             4  \\\n",
       "0      3.826102e-15  4.340454e-16  5.234761e-11  1.000000e+00  4.762953e-14   \n",
       "1      9.538939e-01  1.037140e-02  1.156314e-06  8.508536e-07  3.573275e-02   \n",
       "2      4.627016e-18  1.426970e-14  1.898384e-14  1.000000e+00  4.604767e-15   \n",
       "3      4.606794e-07  1.124587e-05  1.638323e-02  9.827052e-01  8.998843e-04   \n",
       "4      6.382671e-06  1.690052e-05  4.985041e-04  1.611800e-05  9.994621e-01   \n",
       "...             ...           ...           ...           ...           ...   \n",
       "26332  8.475993e-07  9.982687e-01  2.881717e-07  1.730106e-03  8.013854e-08   \n",
       "26333  4.107651e-02  9.103698e-01  1.831035e-02  2.917714e-03  2.732570e-02   \n",
       "26334  3.930135e-09  1.206950e-05  3.702277e-11  9.999880e-01  3.137060e-13   \n",
       "26335  3.089139e-07  2.266481e-06  4.496734e-04  9.995383e-01  9.492393e-06   \n",
       "26336  9.672021e-01  1.329952e-02  1.230133e-03  5.429258e-05  1.821390e-02   \n",
       "\n",
       "                  5             6             7             8             9  \\\n",
       "0      1.522047e-14  9.014521e-16  1.139739e-09  1.000000e+00  3.116005e-13   \n",
       "1      9.599438e-01  7.439279e-03  1.127475e-06  8.668555e-07  3.261490e-02   \n",
       "2      3.705072e-17  5.054389e-14  2.114423e-13  1.000000e+00  2.999360e-14   \n",
       "3      3.833728e-07  9.185316e-06  1.194510e-02  9.875053e-01  5.400496e-04   \n",
       "4      4.209951e-06  7.615774e-06  2.362547e-04  8.609924e-06  9.997434e-01   \n",
       "...             ...           ...           ...           ...           ...   \n",
       "26332  9.047382e-07  9.980873e-01  3.099606e-07  1.911314e-03  6.628071e-08   \n",
       "26333  2.457832e-02  9.492393e-01  9.367346e-03  1.033589e-03  1.578141e-02   \n",
       "26334  6.578338e-09  1.752745e-05  4.747458e-11  9.999825e-01  7.934944e-13   \n",
       "26335  1.146029e-07  8.421153e-07  5.965448e-04  9.994010e-01  1.521211e-06   \n",
       "26336  9.656506e-01  1.646547e-02  1.371837e-03  6.390436e-05  1.644809e-02   \n",
       "\n",
       "       label  \n",
       "0          3  \n",
       "1          4  \n",
       "2          3  \n",
       "3          3  \n",
       "4          2  \n",
       "...      ...  \n",
       "26332      1  \n",
       "26333      1  \n",
       "26334      3  \n",
       "26335      3  \n",
       "26336      0  \n",
       "\n",
       "[26337 rows x 11 columns]"
      ]
     },
     "execution_count": 8,
     "metadata": {},
     "output_type": "execute_result"
    }
   ],
   "source": [
    "oof_B3ns = pd.read_csv('../input/041-create-oof-efficientnet-b3ns-data/oof_df_0.csv')\n",
    "oof_se = pd.read_csv('../input/nb023-data/oof_df.csv')\n",
    "\n",
    "oof_B3ns_ = oof_B3ns[['0', '1', '2', '3', '4']]\n",
    "oof_se_ = oof_se[['0', '1', '2', '3', '4']]\n",
    "oof_se_.columns = ['5', '6', '7', '8', '9']\n",
    "\n",
    "train = pd.concat([oof_B3ns_, oof_se_, oof_se[['label']]], axis=1)\n",
    "train"
   ]
  },
  {
   "cell_type": "code",
   "execution_count": 9,
   "metadata": {
    "execution": {
     "iopub.execute_input": "2021-02-17T12:25:11.688734Z",
     "iopub.status.busy": "2021-02-17T12:25:11.687909Z",
     "iopub.status.idle": "2021-02-17T12:25:11.724132Z",
     "shell.execute_reply": "2021-02-17T12:25:11.723497Z"
    },
    "papermill": {
     "duration": 0.065876,
     "end_time": "2021-02-17T12:25:11.724254",
     "exception": false,
     "start_time": "2021-02-17T12:25:11.658378",
     "status": "completed"
    },
    "tags": []
   },
   "outputs": [
    {
     "name": "stdout",
     "output_type": "stream",
     "text": [
      "fold  label\n",
      "0     0         299\n",
      "      1         695\n",
      "      2         603\n",
      "      3        3093\n",
      "      4         578\n",
      "1     0         299\n",
      "      1         695\n",
      "      2         603\n",
      "      3        3093\n",
      "      4         578\n",
      "2     0         298\n",
      "      1         695\n",
      "      2         604\n",
      "      3        3092\n",
      "      4         578\n",
      "3     0         298\n",
      "      1         695\n",
      "      2         604\n",
      "      3        3092\n",
      "      4         578\n",
      "4     0         298\n",
      "      1         696\n",
      "      2         603\n",
      "      3        3092\n",
      "      4         578\n",
      "dtype: int64\n"
     ]
    }
   ],
   "source": [
    "folds = train.copy()\n",
    "Fold = StratifiedKFold(n_splits=CFG.n_fold, shuffle=True, random_state=CFG.seed)\n",
    "for n, (train_index, val_index) in enumerate(Fold.split(folds, folds[CFG.target_col])):\n",
    "    folds.loc[val_index, 'fold'] = int(n)\n",
    "folds['fold'] = folds['fold'].astype(int)\n",
    "print(folds.groupby(['fold', CFG.target_col]).size())"
   ]
  },
  {
   "cell_type": "code",
   "execution_count": 10,
   "metadata": {
    "execution": {
     "iopub.execute_input": "2021-02-17T12:25:11.776002Z",
     "iopub.status.busy": "2021-02-17T12:25:11.774969Z",
     "iopub.status.idle": "2021-02-17T12:25:11.798659Z",
     "shell.execute_reply": "2021-02-17T12:25:11.797951Z"
    },
    "papermill": {
     "duration": 0.051616,
     "end_time": "2021-02-17T12:25:11.798783",
     "exception": false,
     "start_time": "2021-02-17T12:25:11.747167",
     "status": "completed"
    },
    "tags": []
   },
   "outputs": [
    {
     "data": {
      "text/html": [
       "<div>\n",
       "<style scoped>\n",
       "    .dataframe tbody tr th:only-of-type {\n",
       "        vertical-align: middle;\n",
       "    }\n",
       "\n",
       "    .dataframe tbody tr th {\n",
       "        vertical-align: top;\n",
       "    }\n",
       "\n",
       "    .dataframe thead th {\n",
       "        text-align: right;\n",
       "    }\n",
       "</style>\n",
       "<table border=\"1\" class=\"dataframe\">\n",
       "  <thead>\n",
       "    <tr style=\"text-align: right;\">\n",
       "      <th></th>\n",
       "      <th>0</th>\n",
       "      <th>1</th>\n",
       "      <th>2</th>\n",
       "      <th>3</th>\n",
       "      <th>4</th>\n",
       "      <th>5</th>\n",
       "      <th>6</th>\n",
       "      <th>7</th>\n",
       "      <th>8</th>\n",
       "      <th>9</th>\n",
       "      <th>label</th>\n",
       "      <th>fold</th>\n",
       "    </tr>\n",
       "  </thead>\n",
       "  <tbody>\n",
       "    <tr>\n",
       "      <th>0</th>\n",
       "      <td>3.826102e-15</td>\n",
       "      <td>4.340454e-16</td>\n",
       "      <td>5.234761e-11</td>\n",
       "      <td>1.000000e+00</td>\n",
       "      <td>4.762953e-14</td>\n",
       "      <td>1.522047e-14</td>\n",
       "      <td>9.014521e-16</td>\n",
       "      <td>1.139739e-09</td>\n",
       "      <td>1.000000e+00</td>\n",
       "      <td>3.116005e-13</td>\n",
       "      <td>3</td>\n",
       "      <td>0</td>\n",
       "    </tr>\n",
       "    <tr>\n",
       "      <th>1</th>\n",
       "      <td>9.538939e-01</td>\n",
       "      <td>1.037140e-02</td>\n",
       "      <td>1.156314e-06</td>\n",
       "      <td>8.508536e-07</td>\n",
       "      <td>3.573275e-02</td>\n",
       "      <td>9.599438e-01</td>\n",
       "      <td>7.439279e-03</td>\n",
       "      <td>1.127475e-06</td>\n",
       "      <td>8.668555e-07</td>\n",
       "      <td>3.261490e-02</td>\n",
       "      <td>4</td>\n",
       "      <td>2</td>\n",
       "    </tr>\n",
       "    <tr>\n",
       "      <th>2</th>\n",
       "      <td>4.627016e-18</td>\n",
       "      <td>1.426970e-14</td>\n",
       "      <td>1.898384e-14</td>\n",
       "      <td>1.000000e+00</td>\n",
       "      <td>4.604767e-15</td>\n",
       "      <td>3.705072e-17</td>\n",
       "      <td>5.054389e-14</td>\n",
       "      <td>2.114423e-13</td>\n",
       "      <td>1.000000e+00</td>\n",
       "      <td>2.999360e-14</td>\n",
       "      <td>3</td>\n",
       "      <td>2</td>\n",
       "    </tr>\n",
       "    <tr>\n",
       "      <th>3</th>\n",
       "      <td>4.606794e-07</td>\n",
       "      <td>1.124587e-05</td>\n",
       "      <td>1.638323e-02</td>\n",
       "      <td>9.827052e-01</td>\n",
       "      <td>8.998843e-04</td>\n",
       "      <td>3.833728e-07</td>\n",
       "      <td>9.185316e-06</td>\n",
       "      <td>1.194510e-02</td>\n",
       "      <td>9.875053e-01</td>\n",
       "      <td>5.400496e-04</td>\n",
       "      <td>3</td>\n",
       "      <td>2</td>\n",
       "    </tr>\n",
       "    <tr>\n",
       "      <th>4</th>\n",
       "      <td>6.382671e-06</td>\n",
       "      <td>1.690052e-05</td>\n",
       "      <td>4.985041e-04</td>\n",
       "      <td>1.611800e-05</td>\n",
       "      <td>9.994621e-01</td>\n",
       "      <td>4.209951e-06</td>\n",
       "      <td>7.615774e-06</td>\n",
       "      <td>2.362547e-04</td>\n",
       "      <td>8.609924e-06</td>\n",
       "      <td>9.997434e-01</td>\n",
       "      <td>2</td>\n",
       "      <td>2</td>\n",
       "    </tr>\n",
       "    <tr>\n",
       "      <th>...</th>\n",
       "      <td>...</td>\n",
       "      <td>...</td>\n",
       "      <td>...</td>\n",
       "      <td>...</td>\n",
       "      <td>...</td>\n",
       "      <td>...</td>\n",
       "      <td>...</td>\n",
       "      <td>...</td>\n",
       "      <td>...</td>\n",
       "      <td>...</td>\n",
       "      <td>...</td>\n",
       "      <td>...</td>\n",
       "    </tr>\n",
       "    <tr>\n",
       "      <th>26332</th>\n",
       "      <td>8.475993e-07</td>\n",
       "      <td>9.982687e-01</td>\n",
       "      <td>2.881717e-07</td>\n",
       "      <td>1.730106e-03</td>\n",
       "      <td>8.013854e-08</td>\n",
       "      <td>9.047382e-07</td>\n",
       "      <td>9.980873e-01</td>\n",
       "      <td>3.099606e-07</td>\n",
       "      <td>1.911314e-03</td>\n",
       "      <td>6.628071e-08</td>\n",
       "      <td>1</td>\n",
       "      <td>4</td>\n",
       "    </tr>\n",
       "    <tr>\n",
       "      <th>26333</th>\n",
       "      <td>4.107651e-02</td>\n",
       "      <td>9.103698e-01</td>\n",
       "      <td>1.831035e-02</td>\n",
       "      <td>2.917714e-03</td>\n",
       "      <td>2.732570e-02</td>\n",
       "      <td>2.457832e-02</td>\n",
       "      <td>9.492393e-01</td>\n",
       "      <td>9.367346e-03</td>\n",
       "      <td>1.033589e-03</td>\n",
       "      <td>1.578141e-02</td>\n",
       "      <td>1</td>\n",
       "      <td>3</td>\n",
       "    </tr>\n",
       "    <tr>\n",
       "      <th>26334</th>\n",
       "      <td>3.930135e-09</td>\n",
       "      <td>1.206950e-05</td>\n",
       "      <td>3.702277e-11</td>\n",
       "      <td>9.999880e-01</td>\n",
       "      <td>3.137060e-13</td>\n",
       "      <td>6.578338e-09</td>\n",
       "      <td>1.752745e-05</td>\n",
       "      <td>4.747458e-11</td>\n",
       "      <td>9.999825e-01</td>\n",
       "      <td>7.934944e-13</td>\n",
       "      <td>3</td>\n",
       "      <td>0</td>\n",
       "    </tr>\n",
       "    <tr>\n",
       "      <th>26335</th>\n",
       "      <td>3.089139e-07</td>\n",
       "      <td>2.266481e-06</td>\n",
       "      <td>4.496734e-04</td>\n",
       "      <td>9.995383e-01</td>\n",
       "      <td>9.492393e-06</td>\n",
       "      <td>1.146029e-07</td>\n",
       "      <td>8.421153e-07</td>\n",
       "      <td>5.965448e-04</td>\n",
       "      <td>9.994010e-01</td>\n",
       "      <td>1.521211e-06</td>\n",
       "      <td>3</td>\n",
       "      <td>2</td>\n",
       "    </tr>\n",
       "    <tr>\n",
       "      <th>26336</th>\n",
       "      <td>9.672021e-01</td>\n",
       "      <td>1.329952e-02</td>\n",
       "      <td>1.230133e-03</td>\n",
       "      <td>5.429258e-05</td>\n",
       "      <td>1.821390e-02</td>\n",
       "      <td>9.656506e-01</td>\n",
       "      <td>1.646547e-02</td>\n",
       "      <td>1.371837e-03</td>\n",
       "      <td>6.390436e-05</td>\n",
       "      <td>1.644809e-02</td>\n",
       "      <td>0</td>\n",
       "      <td>4</td>\n",
       "    </tr>\n",
       "  </tbody>\n",
       "</table>\n",
       "<p>26337 rows × 12 columns</p>\n",
       "</div>"
      ],
      "text/plain": [
       "                  0             1             2             3             4  \\\n",
       "0      3.826102e-15  4.340454e-16  5.234761e-11  1.000000e+00  4.762953e-14   \n",
       "1      9.538939e-01  1.037140e-02  1.156314e-06  8.508536e-07  3.573275e-02   \n",
       "2      4.627016e-18  1.426970e-14  1.898384e-14  1.000000e+00  4.604767e-15   \n",
       "3      4.606794e-07  1.124587e-05  1.638323e-02  9.827052e-01  8.998843e-04   \n",
       "4      6.382671e-06  1.690052e-05  4.985041e-04  1.611800e-05  9.994621e-01   \n",
       "...             ...           ...           ...           ...           ...   \n",
       "26332  8.475993e-07  9.982687e-01  2.881717e-07  1.730106e-03  8.013854e-08   \n",
       "26333  4.107651e-02  9.103698e-01  1.831035e-02  2.917714e-03  2.732570e-02   \n",
       "26334  3.930135e-09  1.206950e-05  3.702277e-11  9.999880e-01  3.137060e-13   \n",
       "26335  3.089139e-07  2.266481e-06  4.496734e-04  9.995383e-01  9.492393e-06   \n",
       "26336  9.672021e-01  1.329952e-02  1.230133e-03  5.429258e-05  1.821390e-02   \n",
       "\n",
       "                  5             6             7             8             9  \\\n",
       "0      1.522047e-14  9.014521e-16  1.139739e-09  1.000000e+00  3.116005e-13   \n",
       "1      9.599438e-01  7.439279e-03  1.127475e-06  8.668555e-07  3.261490e-02   \n",
       "2      3.705072e-17  5.054389e-14  2.114423e-13  1.000000e+00  2.999360e-14   \n",
       "3      3.833728e-07  9.185316e-06  1.194510e-02  9.875053e-01  5.400496e-04   \n",
       "4      4.209951e-06  7.615774e-06  2.362547e-04  8.609924e-06  9.997434e-01   \n",
       "...             ...           ...           ...           ...           ...   \n",
       "26332  9.047382e-07  9.980873e-01  3.099606e-07  1.911314e-03  6.628071e-08   \n",
       "26333  2.457832e-02  9.492393e-01  9.367346e-03  1.033589e-03  1.578141e-02   \n",
       "26334  6.578338e-09  1.752745e-05  4.747458e-11  9.999825e-01  7.934944e-13   \n",
       "26335  1.146029e-07  8.421153e-07  5.965448e-04  9.994010e-01  1.521211e-06   \n",
       "26336  9.656506e-01  1.646547e-02  1.371837e-03  6.390436e-05  1.644809e-02   \n",
       "\n",
       "       label  fold  \n",
       "0          3     0  \n",
       "1          4     2  \n",
       "2          3     2  \n",
       "3          3     2  \n",
       "4          2     2  \n",
       "...      ...   ...  \n",
       "26332      1     4  \n",
       "26333      1     3  \n",
       "26334      3     0  \n",
       "26335      3     2  \n",
       "26336      0     4  \n",
       "\n",
       "[26337 rows x 12 columns]"
      ]
     },
     "execution_count": 10,
     "metadata": {},
     "output_type": "execute_result"
    }
   ],
   "source": [
    "folds"
   ]
  },
  {
   "cell_type": "code",
   "execution_count": 11,
   "metadata": {
    "execution": {
     "iopub.execute_input": "2021-02-17T12:25:11.852854Z",
     "iopub.status.busy": "2021-02-17T12:25:11.851973Z",
     "iopub.status.idle": "2021-02-17T12:25:11.858052Z",
     "shell.execute_reply": "2021-02-17T12:25:11.857412Z"
    },
    "papermill": {
     "duration": 0.03615,
     "end_time": "2021-02-17T12:25:11.858262",
     "exception": false,
     "start_time": "2021-02-17T12:25:11.822112",
     "status": "completed"
    },
    "tags": []
   },
   "outputs": [
    {
     "name": "stdout",
     "output_type": "stream",
     "text": [
      "(26337, 1, 5, 2)\n"
     ]
    }
   ],
   "source": [
    "train = np.stack([df.values for df in [oof_B3ns_, oof_se_]], axis=2)\n",
    "train = train[:, None, ...]\n",
    "print(train.shape)"
   ]
  },
  {
   "cell_type": "markdown",
   "metadata": {
    "papermill": {
     "duration": 0.023565,
     "end_time": "2021-02-17T12:25:11.905519",
     "exception": false,
     "start_time": "2021-02-17T12:25:11.881954",
     "status": "completed"
    },
    "tags": []
   },
   "source": [
    "## Dataset"
   ]
  },
  {
   "cell_type": "code",
   "execution_count": 12,
   "metadata": {
    "execution": {
     "iopub.execute_input": "2021-02-17T12:25:11.973417Z",
     "iopub.status.busy": "2021-02-17T12:25:11.972719Z",
     "iopub.status.idle": "2021-02-17T12:25:11.976564Z",
     "shell.execute_reply": "2021-02-17T12:25:11.975993Z"
    },
    "papermill": {
     "duration": 0.047319,
     "end_time": "2021-02-17T12:25:11.976699",
     "exception": false,
     "start_time": "2021-02-17T12:25:11.929380",
     "status": "completed"
    },
    "tags": []
   },
   "outputs": [],
   "source": [
    "class TrainDataset(Dataset):\n",
    "    def __init__(self, df, transform=None):\n",
    "        self.df = df\n",
    "        self.file_names = df['image_id'].values\n",
    "        self.labels = df['label'].values\n",
    "        self.transform = transform\n",
    "    \n",
    "    def __len__(self):\n",
    "        return len(self.df)\n",
    "    \n",
    "    def __getitem__(self, idx):\n",
    "        file_name = self.file_names[idx]\n",
    "        file_path = f'{TRAIN_PATH}/{file_name}'\n",
    "        image = cv2.imread(file_path)\n",
    "        image = cv2.cvtColor(image, cv2.COLOR_BGR2RGB)\n",
    "        if self.transform:\n",
    "            augmented = self.transform(image=image)\n",
    "            image = augmented['image']\n",
    "        label = torch.tensor(self.labels[idx]).long()\n",
    "        return image, label\n",
    "    \n",
    "class StackingDataset(Dataset):\n",
    "    def __init__(self, X, y):\n",
    "        self.X = X\n",
    "        self.y = y\n",
    "    \n",
    "    def __len__(self):\n",
    "        return len(self.X)\n",
    "    \n",
    "    def __getitem__(self, idx):\n",
    "        X = torch.tensor(self.X[idx]).float()\n",
    "        y = torch.tensor(self.y[idx]).long()\n",
    "        return X, y\n",
    "    \n",
    "class TestDataset(Dataset):\n",
    "    def __init__(self, df, transform=None):\n",
    "        self.df = df\n",
    "        self.file_names = df['image_id'].values\n",
    "        self.transform = transform\n",
    "        \n",
    "    def __len__(self):\n",
    "        return len(self.df)\n",
    "    \n",
    "    def __getitem__(self, idx):\n",
    "        file_name = self.file_names[idx]\n",
    "        file_path = f'{TEST_PATH}/{file_name}'\n",
    "        image = cv2.imread(file_path)\n",
    "        image = cv2.cvtColor(image, cv2.COLOR_BGR2RGB)\n",
    "        if self.transform:\n",
    "            augmented = self.transform(image=image)\n",
    "            image = augmented['image']\n",
    "        return image"
   ]
  },
  {
   "cell_type": "code",
   "execution_count": 13,
   "metadata": {
    "execution": {
     "iopub.execute_input": "2021-02-17T12:25:12.038099Z",
     "iopub.status.busy": "2021-02-17T12:25:12.037425Z",
     "iopub.status.idle": "2021-02-17T12:25:12.060020Z",
     "shell.execute_reply": "2021-02-17T12:25:12.059344Z"
    },
    "papermill": {
     "duration": 0.058707,
     "end_time": "2021-02-17T12:25:12.060161",
     "exception": false,
     "start_time": "2021-02-17T12:25:12.001454",
     "status": "completed"
    },
    "tags": []
   },
   "outputs": [
    {
     "name": "stdout",
     "output_type": "stream",
     "text": [
      "torch.Size([1, 5, 2])\n"
     ]
    }
   ],
   "source": [
    "train_dataset = StackingDataset(train, folds['label'])\n",
    "\n",
    "for i in range(1):\n",
    "    X, y = train_dataset[i]\n",
    "    print(X.size())"
   ]
  },
  {
   "cell_type": "markdown",
   "metadata": {
    "papermill": {
     "duration": 0.024605,
     "end_time": "2021-02-17T12:25:12.109057",
     "exception": false,
     "start_time": "2021-02-17T12:25:12.084452",
     "status": "completed"
    },
    "tags": []
   },
   "source": [
    "## Transforms"
   ]
  },
  {
   "cell_type": "code",
   "execution_count": 14,
   "metadata": {
    "execution": {
     "iopub.execute_input": "2021-02-17T12:25:12.167903Z",
     "iopub.status.busy": "2021-02-17T12:25:12.167230Z",
     "iopub.status.idle": "2021-02-17T12:25:12.170472Z",
     "shell.execute_reply": "2021-02-17T12:25:12.169858Z"
    },
    "papermill": {
     "duration": 0.036989,
     "end_time": "2021-02-17T12:25:12.170583",
     "exception": false,
     "start_time": "2021-02-17T12:25:12.133594",
     "status": "completed"
    },
    "tags": []
   },
   "outputs": [],
   "source": [
    "def get_transforms(*, data):\n",
    "    \n",
    "    if data == 'train':\n",
    "        return Compose([\n",
    "            RandomResizedCrop(CFG.size, CFG.size), \n",
    "            Transpose(p=0.5), \n",
    "            HorizontalFlip(p=0.5), \n",
    "            VerticalFlip(p=0.5), \n",
    "            ShiftScaleRotate(p=0.5), \n",
    "            Normalize(\n",
    "                mean=[0.485, 0.456, 0.406], \n",
    "                std=[0.229, 0.224, 0.225], \n",
    "            ), \n",
    "            ToTensorV2(),\n",
    "        ])\n",
    "    \n",
    "    elif data == 'valid':\n",
    "        return Compose([\n",
    "            Resize(CFG.size, CFG.size), \n",
    "            Normalize(\n",
    "                mean=[0.485, 0.456, 0.406], \n",
    "                std=[0.229, 0.224, 0.225], \n",
    "            ), \n",
    "            ToTensorV2(),\n",
    "        ])"
   ]
  },
  {
   "cell_type": "code",
   "execution_count": 15,
   "metadata": {
    "execution": {
     "iopub.execute_input": "2021-02-17T12:25:12.224608Z",
     "iopub.status.busy": "2021-02-17T12:25:12.223941Z",
     "iopub.status.idle": "2021-02-17T12:25:12.228001Z",
     "shell.execute_reply": "2021-02-17T12:25:12.227304Z"
    },
    "papermill": {
     "duration": 0.03287,
     "end_time": "2021-02-17T12:25:12.228117",
     "exception": false,
     "start_time": "2021-02-17T12:25:12.195247",
     "status": "completed"
    },
    "tags": []
   },
   "outputs": [],
   "source": [
    "# train_dataset = StackingDataset(train, transform=get_transforms(data='train'))\n",
    "\n",
    "# for i in range(1):\n",
    "#     image, label = train_dataset[i]\n",
    "#     plt.imshow(image[0])\n",
    "#     plt.title(f'label: {label}')\n",
    "#     plt.show()"
   ]
  },
  {
   "cell_type": "markdown",
   "metadata": {
    "papermill": {
     "duration": 0.024131,
     "end_time": "2021-02-17T12:25:12.276768",
     "exception": false,
     "start_time": "2021-02-17T12:25:12.252637",
     "status": "completed"
    },
    "tags": []
   },
   "source": [
    "## MODEL"
   ]
  },
  {
   "cell_type": "code",
   "execution_count": 16,
   "metadata": {
    "execution": {
     "iopub.execute_input": "2021-02-17T12:25:12.334705Z",
     "iopub.status.busy": "2021-02-17T12:25:12.333696Z",
     "iopub.status.idle": "2021-02-17T12:25:12.337117Z",
     "shell.execute_reply": "2021-02-17T12:25:12.336540Z"
    },
    "papermill": {
     "duration": 0.036096,
     "end_time": "2021-02-17T12:25:12.337239",
     "exception": false,
     "start_time": "2021-02-17T12:25:12.301143",
     "status": "completed"
    },
    "tags": []
   },
   "outputs": [],
   "source": [
    "class CustomResNext(nn.Module):\n",
    "    def __init__(self, model_name='resnext50_32x4d', pretrained=False):\n",
    "        super().__init__()\n",
    "        self.model = timm.create_model(model_name, pretrained=pretrained)\n",
    "        n_features = self.model.fc.in_features\n",
    "        self.model.fc = nn.Linear(n_features, CFG.target_size)\n",
    "        \n",
    "    def forward(self, x):\n",
    "        x = self.model(x)\n",
    "        return x"
   ]
  },
  {
   "cell_type": "code",
   "execution_count": 17,
   "metadata": {
    "execution": {
     "iopub.execute_input": "2021-02-17T12:25:12.398737Z",
     "iopub.status.busy": "2021-02-17T12:25:12.395414Z",
     "iopub.status.idle": "2021-02-17T12:25:12.402023Z",
     "shell.execute_reply": "2021-02-17T12:25:12.401432Z"
    },
    "papermill": {
     "duration": 0.040059,
     "end_time": "2021-02-17T12:25:12.402146",
     "exception": false,
     "start_time": "2021-02-17T12:25:12.362087",
     "status": "completed"
    },
    "tags": []
   },
   "outputs": [],
   "source": [
    "class StackingModel(nn.Module):\n",
    "    def __init__(self, num_features, num_targets, dropout_ratio):\n",
    "        super(StackingModel, self).__init__()\n",
    "        \n",
    "        self.conv2d_1 = nn.Conv2d(in_channels=1, \n",
    "                                  out_channels=16, \n",
    "                                  kernel_size=(1, 2), \n",
    "                                  stride=1, \n",
    "                                  padding=0)\n",
    "        self.relu_1 = nn.ReLU()\n",
    "        \n",
    "        self.linear_2 = nn.Linear(80, 32)\n",
    "        self.relu_2 = nn.ReLU()\n",
    "        self.dropout_2 = nn.Dropout(dropout_ratio)\n",
    "        \n",
    "        self.linear_3 = nn.Linear(32, num_targets)\n",
    "        \n",
    "    def forward(self, x, batch_size):\n",
    "        x = self.conv2d_1(x)\n",
    "        x = self.relu_1(x)\n",
    "        x = torch.reshape(x, (batch_size, -1))\n",
    "        \n",
    "        x = self.linear_2(x)\n",
    "        x = self.relu_2(x)\n",
    "        x = self.dropout_2(x)\n",
    "        \n",
    "        x = self.linear_3(x)\n",
    "        \n",
    "        return x"
   ]
  },
  {
   "cell_type": "code",
   "execution_count": 18,
   "metadata": {
    "execution": {
     "iopub.execute_input": "2021-02-17T12:25:12.469811Z",
     "iopub.status.busy": "2021-02-17T12:25:12.468850Z",
     "iopub.status.idle": "2021-02-17T12:25:12.681030Z",
     "shell.execute_reply": "2021-02-17T12:25:12.680380Z"
    },
    "papermill": {
     "duration": 0.253625,
     "end_time": "2021-02-17T12:25:12.681180",
     "exception": false,
     "start_time": "2021-02-17T12:25:12.427555",
     "status": "completed"
    },
    "tags": []
   },
   "outputs": [
    {
     "name": "stdout",
     "output_type": "stream",
     "text": [
      "torch.Size([256, 1, 5, 2])\n",
      "torch.Size([256, 5])\n"
     ]
    }
   ],
   "source": [
    "model = StackingModel(num_features=CFG.target_size, num_targets=CFG.target_size, dropout_ratio=0.2)\n",
    "train_dataset = StackingDataset(train, folds['label'])\n",
    "train_loader = DataLoader(train_dataset, batch_size=CFG.batch_size, shuffle=True, \n",
    "                          num_workers=4, pin_memory=True, drop_last=True)\n",
    "\n",
    "for X, y in train_loader:\n",
    "    print(X.size())\n",
    "    output = model(X, CFG.batch_size)\n",
    "    print(output.size())\n",
    "    break"
   ]
  },
  {
   "cell_type": "code",
   "execution_count": 19,
   "metadata": {
    "execution": {
     "iopub.execute_input": "2021-02-17T12:25:12.783658Z",
     "iopub.status.busy": "2021-02-17T12:25:12.774440Z",
     "iopub.status.idle": "2021-02-17T12:25:12.786361Z",
     "shell.execute_reply": "2021-02-17T12:25:12.785800Z"
    },
    "papermill": {
     "duration": 0.073988,
     "end_time": "2021-02-17T12:25:12.786489",
     "exception": false,
     "start_time": "2021-02-17T12:25:12.712501",
     "status": "completed"
    },
    "tags": []
   },
   "outputs": [],
   "source": [
    "class AverageMeter(object):\n",
    "    \"\"\"Computes and stores the average and current value\"\"\"\n",
    "    def __init__(self):\n",
    "        self.reset()\n",
    "        \n",
    "    def reset(self):\n",
    "        self.val = 0\n",
    "        self.avg = 0\n",
    "        self.sum = 0\n",
    "        self.count = 0\n",
    "        \n",
    "    def update(self, val, n=1):\n",
    "        self.val = val\n",
    "        self.sum += val * n\n",
    "        self.count += n\n",
    "        self.avg = self.sum / self.count\n",
    "        \n",
    "def asMinutes(s):\n",
    "    \"\"\"秒を分に変換する関数\"\"\"\n",
    "    m = math.floor(s / 60)\n",
    "    s -= m * 60\n",
    "    return '%dm %ds' % (m, s)\n",
    "\n",
    "def timeSince(since, percent):\n",
    "    \"\"\"経過時間の測定と終了時間の予測を行う関数\n",
    "    Parameters\n",
    "    ----------\n",
    "    since : float\n",
    "        実験を始めた時刻\n",
    "    percent : float\n",
    "        実験が進んだ割合\n",
    "        \n",
    "    Returns\n",
    "    -------\n",
    "    s : 経過時間\n",
    "    re : 終了までの時間の予測\n",
    "    \"\"\"\n",
    "    now = time.time()\n",
    "    s = now - since  # 経過時間の測定\n",
    "    es = s / percent  # 終了時間の予測\n",
    "    re = es - s  # 残り時間の予想\n",
    "    return '%s (remain %s)' % (asMinutes(s), asMinutes(re))\n",
    "\n",
    "def train_fn(train_loader, model, criterion, optimizer, epoch, shechduler, device):\n",
    "    batch_time = AverageMeter()\n",
    "    data_time = AverageMeter()\n",
    "    losses = AverageMeter()\n",
    "    scores = AverageMeter()\n",
    "    # switch to train mode\n",
    "    model.train()\n",
    "    start = end = time.time()\n",
    "    global_step = 0\n",
    "    for step, (X, y) in enumerate(train_loader):\n",
    "        # measure data loading time\n",
    "        data_time.update(time.time() - end)\n",
    "        X = X.to(device)\n",
    "        y = y.to(device)\n",
    "        batch_size = y.size(0)\n",
    "        y_preds = model(X, batch_size)\n",
    "        loss = criterion(y_preds, y)\n",
    "        # record loss\n",
    "        losses.update(loss.item(), batch_size)\n",
    "        if CFG.gradient_accumulation_steps > 1:\n",
    "            loss = loss / CFG.gradient_accumulation_steps\n",
    "        if CFG.apex:\n",
    "            with amp.scale_loss(loss, optimizer) as scaled_loss:\n",
    "                scaled_loss.backward()\n",
    "        else: \n",
    "            loss.backward()\n",
    "        grad_norm = torch.nn.utils.clip_grad_norm_(model.parameters(), CFG.max_grad_norm)\n",
    "        if (step + 1) % CFG.gradient_accumulation_steps == 0:\n",
    "            optimizer.step()\n",
    "            optimizer.zero_grad()\n",
    "            global_step += 1\n",
    "        # measure elapsed time\n",
    "        batch_time.update(time.time() - end)\n",
    "        end = time.time()\n",
    "        if step % CFG.print_freq == 0 or step == (len(train_loader)-1):\n",
    "            print('Epoch: [{0}][{1}/{2}]'\n",
    "                  'Data {data_time.val:.3f} ({data_time.avg:.3f})'\n",
    "                  'Elapsed {remain:s}' \n",
    "                  'Loss: {loss.val:.4f}({loss.avg:.4f})' \n",
    "                  'Grad: {grad_norm:.4f}  '\n",
    "                  .format(epoch+1, step, len(train_loader), batch_time=batch_time, \n",
    "                          data_time=data_time, loss=losses, \n",
    "                          remain=timeSince(start, float(step+1)/len(train_loader)), \n",
    "                          grad_norm=grad_norm))\n",
    "    return losses.avg\n",
    "\n",
    "def valid_fn(valid_loader, model, criterion, device):\n",
    "    batch_time = AverageMeter()\n",
    "    data_time = AverageMeter()\n",
    "    losses = AverageMeter()\n",
    "    scores = AverageMeter()\n",
    "    # switch to evaluation mode\n",
    "    model.eval()\n",
    "    preds = []\n",
    "    start = end = time.time()\n",
    "    for step, (X, y) in enumerate(valid_loader):\n",
    "        # measure data loading time\n",
    "        data_time.update(time.time() - end)\n",
    "        X = X.to(device)\n",
    "        y = y.to(device)\n",
    "        batch_size = y.size(0)\n",
    "        # compute loss\n",
    "        with torch.no_grad():\n",
    "            y_preds = model(X, batch_size)\n",
    "        loss = criterion(y_preds, y)\n",
    "        losses.update(loss.item(), batch_size)\n",
    "        # record accuracy\n",
    "        preds.append(y_preds.softmax(1).to('cpu').numpy())\n",
    "        if CFG.gradient_accumulation_steps > 1:\n",
    "            loss = loss / CFG.gradient_accumulation_steps\n",
    "        # measure elapsed time\n",
    "        batch_time.update(time.time() - end)\n",
    "        end = time.time()\n",
    "        if step % CFG.print_freq == 0 or step == (len(valid_loader)-1):\n",
    "            print('EVAL: [{0}/{1}] '\n",
    "                  'Data {data_time.val:.3f} ({data_time.avg:.3f}) '\n",
    "                  'Elapsed {remain:s} '\n",
    "                  'Loss: {loss.val:.4f}({loss.avg:.4f}) '\n",
    "                  .format(\n",
    "                   step, len(valid_loader), batch_time=batch_time,\n",
    "                   data_time=data_time, loss=losses,\n",
    "                   remain=timeSince(start, float(step+1)/len(valid_loader)),\n",
    "                   ))\n",
    "            \n",
    "    predictions = np.concatenate(preds)\n",
    "    return losses.avg, predictions\n",
    "\n",
    "def inference(model, states, test_loader, device):\n",
    "    model.to(device)\n",
    "    tk0 = tqdm(enumerate(test_loader), total=len(test_loader))\n",
    "    probs = []\n",
    "    for i, (images) in tk0:\n",
    "        images = images.to(device)\n",
    "        avgpreds = []\n",
    "        for state in states:\n",
    "            model.load_state_dict(state['model'])\n",
    "            model.eval()\n",
    "            with torch.no_grad():\n",
    "                y_preds = model(images)\n",
    "            avg_preds.append(y_preds.softmax(1).to('cpu').numpy())\n",
    "        avg_preds = np.mean(avg_preds, axis=0)\n",
    "        probs.append(avg_preds)\n",
    "    probs = np.concatenate(probs)\n",
    "    return probs"
   ]
  },
  {
   "cell_type": "markdown",
   "metadata": {
    "papermill": {
     "duration": 0.025661,
     "end_time": "2021-02-17T12:25:12.837677",
     "exception": false,
     "start_time": "2021-02-17T12:25:12.812016",
     "status": "completed"
    },
    "tags": []
   },
   "source": [
    "## Train loop"
   ]
  },
  {
   "cell_type": "code",
   "execution_count": 20,
   "metadata": {
    "execution": {
     "iopub.execute_input": "2021-02-17T12:25:12.919003Z",
     "iopub.status.busy": "2021-02-17T12:25:12.917884Z",
     "iopub.status.idle": "2021-02-17T12:25:12.920377Z",
     "shell.execute_reply": "2021-02-17T12:25:12.920980Z"
    },
    "papermill": {
     "duration": 0.05798,
     "end_time": "2021-02-17T12:25:12.921126",
     "exception": false,
     "start_time": "2021-02-17T12:25:12.863146",
     "status": "completed"
    },
    "tags": []
   },
   "outputs": [],
   "source": [
    "# ======================================================\n",
    "# Train loop\n",
    "# ======================================================\n",
    "\n",
    "def train_loop(folds, fold):\n",
    "    \n",
    "    LOGGER.info(f'========== fold: {fold} training ============')\n",
    "    \n",
    "    # ======================================================\n",
    "    # loader\n",
    "    # ======================================================\n",
    "    trn_idx = folds[folds['fold'] != fold].index\n",
    "    val_idx = folds[folds['fold'] == fold].index\n",
    "    \n",
    "    train_folds = folds.loc[trn_idx].reset_index(drop=True)\n",
    "    valid_folds = folds.loc[val_idx].reset_index(drop=True)\n",
    "    \n",
    "    train_ = train[trn_idx]\n",
    "    valid_ = train[val_idx]\n",
    "    \n",
    "    train_dataset = StackingDataset(train_, train_folds['label'])\n",
    "    valid_dataset = StackingDataset(valid_, valid_folds['label'])\n",
    "    \n",
    "    train_loader = DataLoader(train_dataset, \n",
    "                              batch_size=CFG.batch_size, \n",
    "                              shuffle=True, \n",
    "                              num_workers=CFG.num_workers, \n",
    "                              pin_memory=True, \n",
    "                              drop_last=False)\n",
    "    valid_loader = DataLoader(valid_dataset, \n",
    "                              batch_size=CFG.batch_size, \n",
    "                              shuffle=False, \n",
    "                              num_workers=CFG.num_workers, \n",
    "                              pin_memory=True, \n",
    "                              drop_last=False)\n",
    "    \n",
    "    # ===============================================\n",
    "    # scheduler\n",
    "    # ===============================================\n",
    "    def get_scheduler(optimizer):\n",
    "        if CFG.scheduler=='ReduceLROnPlateau':\n",
    "            scheduler = ReduceLROnPlateau(optimizer, mode='min', factor=CFG.factor, patience=CFG.patience, verbose=True, eps=CFG.eps)\n",
    "        elif CFG.scheduler=='CosineAnnealingLR':\n",
    "            scheduler = CosineAnnealingLR(optimizer, T_max=CFG.T_max, eta_min=CFG.min_lr, last_epoch=-1)\n",
    "        elif CFG.scheduler=='CosineAnnealingWarmRestarts':\n",
    "            scheduler = CosineAnnealingWarmRestarts(optimizer, T_0=CFG.T_0, T_mult=1, eta_min=CFG.min_lr, last_epoch=-1)\n",
    "        return scheduler\n",
    "    \n",
    "    # ===============================================\n",
    "    # model & optimizer\n",
    "    # ===============================================\n",
    "    model = StackingModel(num_features=CFG.target_size, num_targets=CFG.target_size, dropout_ratio=0.3)\n",
    "    model.to(device)\n",
    "    \n",
    "    optimizer = Adam(model.parameters(), lr=CFG.lr, weight_decay=CFG.weight_decay, amsgrad=False)\n",
    "    scheduler = get_scheduler(optimizer)\n",
    "    \n",
    "    # ===============================================\n",
    "    # apex \n",
    "    # ===============================================\n",
    "    if CFG.apex:\n",
    "        model.optimizer = amp.initialize(model, optimizer, opt_level='O1', verbosity=0)\n",
    "        \n",
    "    # ===============================================\n",
    "    # loop\n",
    "    # ===============================================\n",
    "    criterion = nn.CrossEntropyLoss()\n",
    "    \n",
    "    best_score = 0.\n",
    "    best_loss = np.inf\n",
    "    \n",
    "    for epoch in range(CFG.epochs):\n",
    "        \n",
    "        start_time = time.time()\n",
    "        \n",
    "        # train\n",
    "        avg_loss = train_fn(train_loader, model, criterion, optimizer, epoch, scheduler, device)\n",
    "        \n",
    "        # eval\n",
    "        avg_val_loss, preds = valid_fn(valid_loader, model, criterion, device)\n",
    "        valid_labels = valid_folds[CFG.target_col].values\n",
    "        \n",
    "        if isinstance(scheduler, ReduceLROnPlateau):\n",
    "            scheduler.step(avg_val_loss)\n",
    "        elif isinstance(scheduler, CosineAnnealingLR):\n",
    "            scheduler.step()\n",
    "        elif isinstance(scheduler, CosineAnnealingWarmRestarts):\n",
    "            scheduler.step()\n",
    "        \n",
    "        # scoring\n",
    "        score = get_score(valid_labels, preds.argmax(1))\n",
    "        \n",
    "        elapsed = time.time() - start_time\n",
    "        \n",
    "        LOGGER.info(f'Epoch {epoch+1} - avg_train_loss: {avg_loss:.4f} avg_val_loss: {avg_val_loss:.4f} time: {elapsed:.0f}s')\n",
    "        LOGGER.info(f'Epoch {epoch+1} - Accuracy: {score}')\n",
    "        \n",
    "        if score > best_score:\n",
    "            best_score = score\n",
    "            LOGGER.info(f'Epoch {epoch+1} - Save Best Score: {best_score:.4f} Mpdel')\n",
    "            torch.save({'model': model.state_dict(), \n",
    "                        'preds': preds}, \n",
    "                        OUTPUT_DIR+f'{CFG.model_name}_fold{fold}_best.pth')\n",
    "    check_point = torch.load(OUTPUT_DIR+f'{CFG.model_name}_fold{fold}_best.pth')\n",
    "    valid_folds[[str(c) for c in range(5)]] = check_point['preds']\n",
    "    valid_folds['preds'] = check_point['preds'].argmax(1)\n",
    "    \n",
    "    return valid_folds"
   ]
  },
  {
   "cell_type": "code",
   "execution_count": 21,
   "metadata": {
    "execution": {
     "iopub.execute_input": "2021-02-17T12:25:12.975792Z",
     "iopub.status.busy": "2021-02-17T12:25:12.974771Z",
     "iopub.status.idle": "2021-02-17T12:25:12.988553Z",
     "shell.execute_reply": "2021-02-17T12:25:12.989115Z"
    },
    "papermill": {
     "duration": 0.042984,
     "end_time": "2021-02-17T12:25:12.989263",
     "exception": false,
     "start_time": "2021-02-17T12:25:12.946279",
     "status": "completed"
    },
    "tags": []
   },
   "outputs": [],
   "source": [
    "# ====================================================\n",
    "# main\n",
    "# ====================================================\n",
    "def main():\n",
    "    \n",
    "    \"\"\"\n",
    "    Prepare: 1.train 2.test 3.submission 4.folds\n",
    "    \"\"\"\n",
    "    \n",
    "    def get_result(result_df):\n",
    "        preds = result_df['preds'].values\n",
    "        labels = result_df[CFG.target_col].values\n",
    "        score = get_score(labels, preds)\n",
    "        LOGGER.info(f'Score: {score:<.5f}')\n",
    "        \n",
    "    if CFG.train:\n",
    "        # train\n",
    "        oof_df = pd.DataFrame()\n",
    "        for fold in range(CFG.n_fold):\n",
    "            if fold in CFG.trn_fold:\n",
    "                _oof_df = train_loop(folds, fold)\n",
    "                oof_df = pd.concat([oof_df, _oof_df])\n",
    "                LOGGER.info(f'=============== fold: {fold} result ================')\n",
    "                get_result(_oof_df)\n",
    "        # CV result\n",
    "        LOGGER.info(f'============ CV ============')\n",
    "        get_result(oof_df)\n",
    "        # save result\n",
    "        oof_df.to_csv(OUTPUT_DIR+'oof_df.csv', index=False)\n",
    "        \n",
    "    if CFG.inference:\n",
    "        # inference\n",
    "        model = CustomResNext(CFG.model_name, pretrained=False)\n",
    "        states = [torch.load(OUTPUT_DIR+f'{CFG.model_name}_fold{fold}_best.pth') for fold in CFG.trn_fold]\n",
    "        test_dataset = TestDataset(test, batch_size=CFG.batch_size, shuffle=False, pin_memory=True)\n",
    "        predictions = inference(model, states, test_loader, device)\n",
    "        # submission\n",
    "        test['label'] = predictions.argmax(1)\n",
    "        test[['image_id', 'label']].to_csv(OUTPUT_DIR+'submission.csv', index=False)"
   ]
  },
  {
   "cell_type": "code",
   "execution_count": 22,
   "metadata": {
    "execution": {
     "iopub.execute_input": "2021-02-17T12:25:13.045759Z",
     "iopub.status.busy": "2021-02-17T12:25:13.044684Z",
     "iopub.status.idle": "2021-02-17T12:27:57.968868Z",
     "shell.execute_reply": "2021-02-17T12:27:57.968083Z"
    },
    "papermill": {
     "duration": 164.954267,
     "end_time": "2021-02-17T12:27:57.969006",
     "exception": false,
     "start_time": "2021-02-17T12:25:13.014739",
     "status": "completed"
    },
    "tags": []
   },
   "outputs": [
    {
     "name": "stderr",
     "output_type": "stream",
     "text": [
      "========== fold: 0 training ============\n"
     ]
    },
    {
     "name": "stdout",
     "output_type": "stream",
     "text": [
      "Epoch: [1][0/83]Data 0.096 (0.096)Elapsed 0m 0s (remain 0m 13s)Loss: 1.5663(1.5663)Grad: 0.7891  \n",
      "Epoch: [1][82/83]Data 0.000 (0.004)Elapsed 0m 0s (remain 0m 0s)Loss: 0.8897(1.1463)Grad: 0.6209  \n",
      "EVAL: [0/21] Data 0.097 (0.097) Elapsed 0m 0s (remain 0m 2s) Loss: 0.7037(0.7037) \n"
     ]
    },
    {
     "name": "stderr",
     "output_type": "stream",
     "text": [
      "Epoch 1 - avg_train_loss: 1.1463 avg_val_loss: 0.7279 time: 1s\n",
      "Epoch 1 - Accuracy: 0.8494684889901291\n",
      "Epoch 1 - Save Best Score: 0.8495 Mpdel\n"
     ]
    },
    {
     "name": "stdout",
     "output_type": "stream",
     "text": [
      "EVAL: [20/21] Data 0.000 (0.008) Elapsed 0m 0s (remain 0m 0s) Loss: 0.8872(0.7279) \n",
      "Epoch: [2][0/83]Data 0.111 (0.111)Elapsed 0m 0s (remain 0m 9s)Loss: 0.7989(0.7989)Grad: 0.5018  \n",
      "Epoch: [2][82/83]Data 0.002 (0.004)Elapsed 0m 0s (remain 0m 0s)Loss: 0.4514(0.5943)Grad: 0.2986  \n",
      "EVAL: [0/21] Data 0.109 (0.109) Elapsed 0m 0s (remain 0m 2s) Loss: 0.3783(0.3783) \n"
     ]
    },
    {
     "name": "stderr",
     "output_type": "stream",
     "text": [
      "Epoch 2 - avg_train_loss: 0.5943 avg_val_loss: 0.4300 time: 1s\n",
      "Epoch 2 - Accuracy: 0.8722475322703113\n",
      "Epoch 2 - Save Best Score: 0.8722 Mpdel\n"
     ]
    },
    {
     "name": "stdout",
     "output_type": "stream",
     "text": [
      "EVAL: [20/21] Data 0.000 (0.008) Elapsed 0m 0s (remain 0m 0s) Loss: 0.5319(0.4300) \n",
      "Epoch: [3][0/83]Data 0.108 (0.108)Elapsed 0m 0s (remain 0m 9s)Loss: 0.5415(0.5415)Grad: 0.1794  \n",
      "Epoch: [3][82/83]Data 0.000 (0.004)Elapsed 0m 0s (remain 0m 0s)Loss: 0.4530(0.4884)Grad: 0.4396  \n",
      "EVAL: [0/21] Data 0.101 (0.101) Elapsed 0m 0s (remain 0m 2s) Loss: 0.3301(0.3301) \n"
     ]
    },
    {
     "name": "stderr",
     "output_type": "stream",
     "text": [
      "Epoch 3 - avg_train_loss: 0.4884 avg_val_loss: 0.3918 time: 1s\n",
      "Epoch 3 - Accuracy: 0.9005315110098709\n",
      "Epoch 3 - Save Best Score: 0.9005 Mpdel\n"
     ]
    },
    {
     "name": "stdout",
     "output_type": "stream",
     "text": [
      "EVAL: [20/21] Data 0.000 (0.008) Elapsed 0m 0s (remain 0m 0s) Loss: 0.4736(0.3918) \n",
      "Epoch: [4][0/83]Data 0.116 (0.116)Elapsed 0m 0s (remain 0m 10s)Loss: 0.4290(0.4290)Grad: 0.1583  \n",
      "Epoch: [4][82/83]Data 0.000 (0.004)Elapsed 0m 0s (remain 0m 0s)Loss: 0.4394(0.4621)Grad: 0.3094  \n",
      "EVAL: [0/21] Data 0.093 (0.093) Elapsed 0m 0s (remain 0m 1s) Loss: 0.3166(0.3166) \n"
     ]
    },
    {
     "name": "stderr",
     "output_type": "stream",
     "text": [
      "Epoch 4 - avg_train_loss: 0.4621 avg_val_loss: 0.3793 time: 1s\n",
      "Epoch 4 - Accuracy: 0.9029992406985573\n",
      "Epoch 4 - Save Best Score: 0.9030 Mpdel\n"
     ]
    },
    {
     "name": "stdout",
     "output_type": "stream",
     "text": [
      "EVAL: [20/21] Data 0.000 (0.007) Elapsed 0m 0s (remain 0m 0s) Loss: 0.4542(0.3793) \n",
      "Epoch: [5][0/83]Data 0.123 (0.123)Elapsed 0m 0s (remain 0m 10s)Loss: 0.4440(0.4440)Grad: 0.1844  \n",
      "Epoch: [5][82/83]Data 0.000 (0.004)Elapsed 0m 0s (remain 0m 0s)Loss: 0.3865(0.4579)Grad: 0.3762  \n",
      "EVAL: [0/21] Data 0.104 (0.104) Elapsed 0m 0s (remain 0m 2s) Loss: 0.3113(0.3113) \n"
     ]
    },
    {
     "name": "stderr",
     "output_type": "stream",
     "text": [
      "Epoch 5 - avg_train_loss: 0.4579 avg_val_loss: 0.3747 time: 1s\n",
      "Epoch 5 - Accuracy: 0.9018602885345482\n"
     ]
    },
    {
     "name": "stdout",
     "output_type": "stream",
     "text": [
      "EVAL: [20/21] Data 0.002 (0.008) Elapsed 0m 0s (remain 0m 0s) Loss: 0.4569(0.3747) \n",
      "Epoch: [6][0/83]Data 0.105 (0.105)Elapsed 0m 0s (remain 0m 9s)Loss: 0.4256(0.4256)Grad: 0.1510  \n",
      "Epoch: [6][82/83]Data 0.002 (0.004)Elapsed 0m 0s (remain 0m 0s)Loss: 0.7760(0.4527)Grad: 0.6544  \n",
      "EVAL: [0/21] Data 0.091 (0.091) Elapsed 0m 0s (remain 0m 1s) Loss: 0.3088(0.3088) \n"
     ]
    },
    {
     "name": "stderr",
     "output_type": "stream",
     "text": [
      "Epoch 6 - avg_train_loss: 0.4527 avg_val_loss: 0.3714 time: 1s\n",
      "Epoch 6 - Accuracy: 0.9026195899772209\n"
     ]
    },
    {
     "name": "stdout",
     "output_type": "stream",
     "text": [
      "EVAL: [20/21] Data 0.000 (0.007) Elapsed 0m 0s (remain 0m 0s) Loss: 0.4546(0.3714) \n",
      "Epoch: [7][0/83]Data 0.119 (0.119)Elapsed 0m 0s (remain 0m 10s)Loss: 0.4839(0.4839)Grad: 0.1608  \n",
      "Epoch: [7][82/83]Data 0.000 (0.004)Elapsed 0m 0s (remain 0m 0s)Loss: 0.3681(0.4492)Grad: 0.3451  \n",
      "EVAL: [0/21] Data 0.096 (0.096) Elapsed 0m 0s (remain 0m 1s) Loss: 0.3081(0.3081) \n"
     ]
    },
    {
     "name": "stderr",
     "output_type": "stream",
     "text": [
      "Epoch 7 - avg_train_loss: 0.4492 avg_val_loss: 0.3709 time: 1s\n",
      "Epoch 7 - Accuracy: 0.9026195899772209\n"
     ]
    },
    {
     "name": "stdout",
     "output_type": "stream",
     "text": [
      "EVAL: [20/21] Data 0.000 (0.008) Elapsed 0m 0s (remain 0m 0s) Loss: 0.4571(0.3709) \n",
      "Epoch: [8][0/83]Data 0.114 (0.114)Elapsed 0m 0s (remain 0m 10s)Loss: 0.4099(0.4099)Grad: 0.1854  \n",
      "Epoch: [8][82/83]Data 0.000 (0.004)Elapsed 0m 0s (remain 0m 0s)Loss: 0.4996(0.4456)Grad: 0.3239  \n",
      "EVAL: [0/21] Data 0.107 (0.107) Elapsed 0m 0s (remain 0m 2s) Loss: 0.3079(0.3079) \n"
     ]
    },
    {
     "name": "stderr",
     "output_type": "stream",
     "text": [
      "Epoch 8 - avg_train_loss: 0.4456 avg_val_loss: 0.3703 time: 1s\n",
      "Epoch 8 - Accuracy: 0.9024297646165528\n"
     ]
    },
    {
     "name": "stdout",
     "output_type": "stream",
     "text": [
      "EVAL: [20/21] Data 0.000 (0.009) Elapsed 0m 0s (remain 0m 0s) Loss: 0.4558(0.3703) \n",
      "Epoch: [9][0/83]Data 0.107 (0.107)Elapsed 0m 0s (remain 0m 9s)Loss: 0.4813(0.4813)Grad: 0.2589  \n",
      "Epoch: [9][82/83]Data 0.000 (0.004)Elapsed 0m 0s (remain 0m 0s)Loss: 0.3672(0.4498)Grad: 0.3044  \n",
      "EVAL: [0/21] Data 0.106 (0.106) Elapsed 0m 0s (remain 0m 2s) Loss: 0.3075(0.3075) \n"
     ]
    },
    {
     "name": "stderr",
     "output_type": "stream",
     "text": [
      "Epoch 9 - avg_train_loss: 0.4498 avg_val_loss: 0.3698 time: 1s\n",
      "Epoch 9 - Accuracy: 0.9026195899772209\n"
     ]
    },
    {
     "name": "stdout",
     "output_type": "stream",
     "text": [
      "EVAL: [20/21] Data 0.000 (0.009) Elapsed 0m 0s (remain 0m 0s) Loss: 0.4560(0.3698) \n",
      "Epoch: [10][0/83]Data 0.096 (0.096)Elapsed 0m 0s (remain 0m 8s)Loss: 0.4348(0.4348)Grad: 0.1727  \n",
      "Epoch: [10][82/83]Data 0.002 (0.004)Elapsed 0m 0s (remain 0m 0s)Loss: 0.3646(0.4463)Grad: 0.3911  \n",
      "EVAL: [0/21] Data 0.094 (0.094) Elapsed 0m 0s (remain 0m 1s) Loss: 0.3073(0.3073) \n"
     ]
    },
    {
     "name": "stderr",
     "output_type": "stream",
     "text": [
      "Epoch 10 - avg_train_loss: 0.4463 avg_val_loss: 0.3697 time: 1s\n",
      "Epoch 10 - Accuracy: 0.9024297646165528\n"
     ]
    },
    {
     "name": "stdout",
     "output_type": "stream",
     "text": [
      "EVAL: [20/21] Data 0.000 (0.008) Elapsed 0m 0s (remain 0m 0s) Loss: 0.4565(0.3697) \n",
      "Epoch: [11][0/83]Data 0.095 (0.095)Elapsed 0m 0s (remain 0m 9s)Loss: 0.4702(0.4702)Grad: 0.2644  \n",
      "Epoch: [11][82/83]Data 0.000 (0.004)Elapsed 0m 0s (remain 0m 0s)Loss: 0.4562(0.4459)Grad: 0.2833  \n",
      "EVAL: [0/21] Data 0.105 (0.105) Elapsed 0m 0s (remain 0m 2s) Loss: 0.3044(0.3044) \n"
     ]
    },
    {
     "name": "stderr",
     "output_type": "stream",
     "text": [
      "Epoch 11 - avg_train_loss: 0.4459 avg_val_loss: 0.3673 time: 1s\n",
      "Epoch 11 - Accuracy: 0.9029992406985573\n"
     ]
    },
    {
     "name": "stdout",
     "output_type": "stream",
     "text": [
      "EVAL: [20/21] Data 0.000 (0.009) Elapsed 0m 0s (remain 0m 0s) Loss: 0.4633(0.3673) \n",
      "Epoch: [12][0/83]Data 0.118 (0.118)Elapsed 0m 0s (remain 0m 10s)Loss: 0.4072(0.4072)Grad: 0.2541  \n",
      "Epoch: [12][82/83]Data 0.002 (0.004)Elapsed 0m 0s (remain 0m 0s)Loss: 0.2733(0.4406)Grad: 0.3098  \n",
      "EVAL: [0/21] Data 0.102 (0.102) Elapsed 0m 0s (remain 0m 2s) Loss: 0.3012(0.3012) \n"
     ]
    },
    {
     "name": "stderr",
     "output_type": "stream",
     "text": [
      "Epoch 12 - avg_train_loss: 0.4406 avg_val_loss: 0.3653 time: 1s\n",
      "Epoch 12 - Accuracy: 0.9018602885345482\n"
     ]
    },
    {
     "name": "stdout",
     "output_type": "stream",
     "text": [
      "EVAL: [20/21] Data 0.000 (0.007) Elapsed 0m 0s (remain 0m 0s) Loss: 0.4614(0.3653) \n",
      "Epoch: [13][0/83]Data 0.109 (0.109)Elapsed 0m 0s (remain 0m 10s)Loss: 0.3993(0.3993)Grad: 0.2132  \n",
      "Epoch: [13][82/83]Data 0.000 (0.004)Elapsed 0m 0s (remain 0m 0s)Loss: 0.5371(0.4382)Grad: 0.4778  \n",
      "EVAL: [0/21] Data 0.105 (0.105) Elapsed 0m 0s (remain 0m 2s) Loss: 0.3039(0.3039) \n"
     ]
    },
    {
     "name": "stderr",
     "output_type": "stream",
     "text": [
      "Epoch 13 - avg_train_loss: 0.4382 avg_val_loss: 0.3656 time: 1s\n",
      "Epoch 13 - Accuracy: 0.9014806378132119\n"
     ]
    },
    {
     "name": "stdout",
     "output_type": "stream",
     "text": [
      "EVAL: [20/21] Data 0.002 (0.008) Elapsed 0m 0s (remain 0m 0s) Loss: 0.4621(0.3656) \n",
      "Epoch: [14][0/83]Data 0.112 (0.112)Elapsed 0m 0s (remain 0m 10s)Loss: 0.4893(0.4893)Grad: 0.2331  \n",
      "Epoch: [14][82/83]Data 0.000 (0.004)Elapsed 0m 0s (remain 0m 0s)Loss: 0.3512(0.4399)Grad: 0.3739  \n",
      "EVAL: [0/21] Data 0.097 (0.097) Elapsed 0m 0s (remain 0m 2s) Loss: 0.3017(0.3017) \n"
     ]
    },
    {
     "name": "stderr",
     "output_type": "stream",
     "text": [
      "Epoch 14 - avg_train_loss: 0.4399 avg_val_loss: 0.3634 time: 1s\n",
      "Epoch 14 - Accuracy: 0.9022399392558846\n"
     ]
    },
    {
     "name": "stdout",
     "output_type": "stream",
     "text": [
      "EVAL: [20/21] Data 0.002 (0.007) Elapsed 0m 0s (remain 0m 0s) Loss: 0.4620(0.3634) \n",
      "Epoch: [15][0/83]Data 0.105 (0.105)Elapsed 0m 0s (remain 0m 9s)Loss: 0.4843(0.4843)Grad: 0.2485  \n",
      "Epoch: [15][82/83]Data 0.000 (0.004)Elapsed 0m 0s (remain 0m 0s)Loss: 0.4324(0.4330)Grad: 0.3366  \n",
      "EVAL: [0/21] Data 0.114 (0.114) Elapsed 0m 0s (remain 0m 2s) Loss: 0.3031(0.3031) \n"
     ]
    },
    {
     "name": "stderr",
     "output_type": "stream",
     "text": [
      "Epoch 15 - avg_train_loss: 0.4330 avg_val_loss: 0.3633 time: 1s\n",
      "Epoch 15 - Accuracy: 0.9014806378132119\n"
     ]
    },
    {
     "name": "stdout",
     "output_type": "stream",
     "text": [
      "EVAL: [20/21] Data 0.000 (0.007) Elapsed 0m 0s (remain 0m 0s) Loss: 0.4588(0.3633) \n",
      "Epoch: [16][0/83]Data 0.103 (0.103)Elapsed 0m 0s (remain 0m 9s)Loss: 0.5060(0.5060)Grad: 0.1615  \n",
      "Epoch: [16][82/83]Data 0.000 (0.004)Elapsed 0m 0s (remain 0m 0s)Loss: 0.5078(0.4335)Grad: 0.3756  \n",
      "EVAL: [0/21] Data 0.099 (0.099) Elapsed 0m 0s (remain 0m 2s) Loss: 0.3033(0.3033) \n"
     ]
    },
    {
     "name": "stderr",
     "output_type": "stream",
     "text": [
      "Epoch 16 - avg_train_loss: 0.4335 avg_val_loss: 0.3632 time: 1s\n",
      "Epoch 16 - Accuracy: 0.90167046317388\n"
     ]
    },
    {
     "name": "stdout",
     "output_type": "stream",
     "text": [
      "EVAL: [20/21] Data 0.000 (0.007) Elapsed 0m 0s (remain 0m 0s) Loss: 0.4614(0.3632) \n",
      "Epoch: [17][0/83]Data 0.106 (0.106)Elapsed 0m 0s (remain 0m 9s)Loss: 0.4314(0.4314)Grad: 0.1814  \n",
      "Epoch: [17][82/83]Data 0.000 (0.004)Elapsed 0m 0s (remain 0m 0s)Loss: 0.5325(0.4363)Grad: 0.4116  \n",
      "EVAL: [0/21] Data 0.093 (0.093) Elapsed 0m 0s (remain 0m 2s) Loss: 0.3016(0.3016) \n"
     ]
    },
    {
     "name": "stderr",
     "output_type": "stream",
     "text": [
      "Epoch 17 - avg_train_loss: 0.4363 avg_val_loss: 0.3619 time: 1s\n",
      "Epoch 17 - Accuracy: 0.9012908124525436\n"
     ]
    },
    {
     "name": "stdout",
     "output_type": "stream",
     "text": [
      "EVAL: [20/21] Data 0.002 (0.008) Elapsed 0m 0s (remain 0m 0s) Loss: 0.4610(0.3619) \n",
      "Epoch: [18][0/83]Data 0.104 (0.104)Elapsed 0m 0s (remain 0m 9s)Loss: 0.4488(0.4488)Grad: 0.2168  \n",
      "Epoch: [18][82/83]Data 0.000 (0.004)Elapsed 0m 0s (remain 0m 0s)Loss: 0.6715(0.4316)Grad: 0.5304  \n",
      "EVAL: [0/21] Data 0.101 (0.101) Elapsed 0m 0s (remain 0m 2s) Loss: 0.3016(0.3016) \n"
     ]
    },
    {
     "name": "stderr",
     "output_type": "stream",
     "text": [
      "Epoch 18 - avg_train_loss: 0.4316 avg_val_loss: 0.3617 time: 1s\n",
      "Epoch 18 - Accuracy: 0.9012908124525436\n"
     ]
    },
    {
     "name": "stdout",
     "output_type": "stream",
     "text": [
      "EVAL: [20/21] Data 0.000 (0.008) Elapsed 0m 0s (remain 0m 0s) Loss: 0.4594(0.3617) \n",
      "Epoch: [19][0/83]Data 0.096 (0.096)Elapsed 0m 0s (remain 0m 9s)Loss: 0.4472(0.4472)Grad: 0.1659  \n",
      "Epoch: [19][82/83]Data 0.000 (0.004)Elapsed 0m 0s (remain 0m 0s)Loss: 0.3627(0.4269)Grad: 0.2652  \n",
      "EVAL: [0/21] Data 0.110 (0.110) Elapsed 0m 0s (remain 0m 2s) Loss: 0.3011(0.3011) \n"
     ]
    },
    {
     "name": "stderr",
     "output_type": "stream",
     "text": [
      "Epoch 19 - avg_train_loss: 0.4269 avg_val_loss: 0.3614 time: 1s\n",
      "Epoch 19 - Accuracy: 0.9014806378132119\n"
     ]
    },
    {
     "name": "stdout",
     "output_type": "stream",
     "text": [
      "EVAL: [20/21] Data 0.002 (0.009) Elapsed 0m 0s (remain 0m 0s) Loss: 0.4593(0.3614) \n",
      "Epoch: [20][0/83]Data 0.111 (0.111)Elapsed 0m 0s (remain 0m 9s)Loss: 0.4228(0.4228)Grad: 0.1381  \n",
      "Epoch: [20][82/83]Data 0.000 (0.004)Elapsed 0m 0s (remain 0m 0s)Loss: 0.3087(0.4298)Grad: 0.3238  \n",
      "EVAL: [0/21] Data 0.094 (0.094) Elapsed 0m 0s (remain 0m 1s) Loss: 0.3010(0.3010) \n"
     ]
    },
    {
     "name": "stderr",
     "output_type": "stream",
     "text": [
      "Epoch 20 - avg_train_loss: 0.4298 avg_val_loss: 0.3614 time: 1s\n",
      "Epoch 20 - Accuracy: 0.9014806378132119\n"
     ]
    },
    {
     "name": "stdout",
     "output_type": "stream",
     "text": [
      "EVAL: [20/21] Data 0.002 (0.009) Elapsed 0m 0s (remain 0m 0s) Loss: 0.4595(0.3614) \n",
      "Epoch: [21][0/83]Data 0.113 (0.113)Elapsed 0m 0s (remain 0m 10s)Loss: 0.3366(0.3366)Grad: 0.1585  \n",
      "Epoch: [21][82/83]Data 0.000 (0.004)Elapsed 0m 0s (remain 0m 0s)Loss: 0.2707(0.4328)Grad: 0.3168  \n",
      "EVAL: [0/21] Data 0.103 (0.103) Elapsed 0m 0s (remain 0m 2s) Loss: 0.3056(0.3056) \n"
     ]
    },
    {
     "name": "stderr",
     "output_type": "stream",
     "text": [
      "Epoch 21 - avg_train_loss: 0.4328 avg_val_loss: 0.3629 time: 1s\n",
      "Epoch 21 - Accuracy: 0.9018602885345482\n"
     ]
    },
    {
     "name": "stdout",
     "output_type": "stream",
     "text": [
      "EVAL: [20/21] Data 0.000 (0.008) Elapsed 0m 0s (remain 0m 0s) Loss: 0.4563(0.3629) \n",
      "Epoch: [22][0/83]Data 0.109 (0.109)Elapsed 0m 0s (remain 0m 9s)Loss: 0.3881(0.3881)Grad: 0.2095  \n",
      "Epoch: [22][82/83]Data 0.000 (0.004)Elapsed 0m 0s (remain 0m 0s)Loss: 0.3368(0.4292)Grad: 0.2696  \n",
      "EVAL: [0/21] Data 0.096 (0.096) Elapsed 0m 0s (remain 0m 2s) Loss: 0.3036(0.3036) \n"
     ]
    },
    {
     "name": "stderr",
     "output_type": "stream",
     "text": [
      "Epoch 22 - avg_train_loss: 0.4292 avg_val_loss: 0.3616 time: 1s\n",
      "Epoch 22 - Accuracy: 0.9012908124525436\n"
     ]
    },
    {
     "name": "stdout",
     "output_type": "stream",
     "text": [
      "EVAL: [20/21] Data 0.005 (0.010) Elapsed 0m 0s (remain 0m 0s) Loss: 0.4570(0.3616) \n",
      "Epoch: [23][0/83]Data 0.099 (0.099)Elapsed 0m 0s (remain 0m 9s)Loss: 0.4488(0.4488)Grad: 0.1690  \n",
      "Epoch: [23][82/83]Data 0.000 (0.004)Elapsed 0m 0s (remain 0m 0s)Loss: 0.5032(0.4321)Grad: 0.2811  \n",
      "EVAL: [0/21] Data 0.109 (0.109) Elapsed 0m 0s (remain 0m 2s) Loss: 0.3006(0.3006) \n"
     ]
    },
    {
     "name": "stderr",
     "output_type": "stream",
     "text": [
      "Epoch 23 - avg_train_loss: 0.4321 avg_val_loss: 0.3600 time: 1s\n",
      "Epoch 23 - Accuracy: 0.9018602885345482\n"
     ]
    },
    {
     "name": "stdout",
     "output_type": "stream",
     "text": [
      "EVAL: [20/21] Data 0.000 (0.008) Elapsed 0m 0s (remain 0m 0s) Loss: 0.4570(0.3600) \n",
      "Epoch: [24][0/83]Data 0.121 (0.121)Elapsed 0m 0s (remain 0m 10s)Loss: 0.4101(0.4101)Grad: 0.1436  \n",
      "Epoch: [24][82/83]Data 0.000 (0.004)Elapsed 0m 0s (remain 0m 0s)Loss: 0.2992(0.4287)Grad: 0.2978  \n",
      "EVAL: [0/21] Data 0.104 (0.104) Elapsed 0m 0s (remain 0m 2s) Loss: 0.3025(0.3025) \n"
     ]
    },
    {
     "name": "stderr",
     "output_type": "stream",
     "text": [
      "Epoch 24 - avg_train_loss: 0.4287 avg_val_loss: 0.3605 time: 1s\n",
      "Epoch 24 - Accuracy: 0.9011009870918755\n"
     ]
    },
    {
     "name": "stdout",
     "output_type": "stream",
     "text": [
      "EVAL: [20/21] Data 0.000 (0.007) Elapsed 0m 0s (remain 0m 0s) Loss: 0.4549(0.3605) \n",
      "Epoch: [25][0/83]Data 0.097 (0.097)Elapsed 0m 0s (remain 0m 8s)Loss: 0.3959(0.3959)Grad: 0.3387  \n",
      "Epoch: [25][82/83]Data 0.000 (0.004)Elapsed 0m 0s (remain 0m 0s)Loss: 0.3694(0.4273)Grad: 0.2732  \n",
      "EVAL: [0/21] Data 0.114 (0.114) Elapsed 0m 0s (remain 0m 2s) Loss: 0.2990(0.2990) \n"
     ]
    },
    {
     "name": "stderr",
     "output_type": "stream",
     "text": [
      "Epoch 25 - avg_train_loss: 0.4273 avg_val_loss: 0.3585 time: 1s\n",
      "Epoch 25 - Accuracy: 0.9012908124525436\n"
     ]
    },
    {
     "name": "stdout",
     "output_type": "stream",
     "text": [
      "EVAL: [20/21] Data 0.000 (0.009) Elapsed 0m 0s (remain 0m 0s) Loss: 0.4630(0.3585) \n",
      "Epoch: [26][0/83]Data 0.106 (0.106)Elapsed 0m 0s (remain 0m 9s)Loss: 0.5006(0.5006)Grad: 0.2187  \n",
      "Epoch: [26][82/83]Data 0.002 (0.004)Elapsed 0m 0s (remain 0m 0s)Loss: 0.4773(0.4263)Grad: 0.3423  \n",
      "EVAL: [0/21] Data 0.095 (0.095) Elapsed 0m 0s (remain 0m 2s) Loss: 0.2985(0.2985) \n"
     ]
    },
    {
     "name": "stderr",
     "output_type": "stream",
     "text": [
      "Epoch 26 - avg_train_loss: 0.4263 avg_val_loss: 0.3577 time: 1s\n",
      "Epoch 26 - Accuracy: 0.9018602885345482\n"
     ]
    },
    {
     "name": "stdout",
     "output_type": "stream",
     "text": [
      "EVAL: [20/21] Data 0.000 (0.008) Elapsed 0m 0s (remain 0m 0s) Loss: 0.4594(0.3577) \n",
      "Epoch: [27][0/83]Data 0.099 (0.099)Elapsed 0m 0s (remain 0m 9s)Loss: 0.3155(0.3155)Grad: 0.2106  \n",
      "Epoch: [27][82/83]Data 0.000 (0.004)Elapsed 0m 0s (remain 0m 0s)Loss: 0.3652(0.4242)Grad: 0.3454  \n",
      "EVAL: [0/21] Data 0.105 (0.105) Elapsed 0m 0s (remain 0m 2s) Loss: 0.2987(0.2987) \n"
     ]
    },
    {
     "name": "stderr",
     "output_type": "stream",
     "text": [
      "Epoch 27 - avg_train_loss: 0.4242 avg_val_loss: 0.3576 time: 1s\n",
      "Epoch 27 - Accuracy: 0.9018602885345482\n"
     ]
    },
    {
     "name": "stdout",
     "output_type": "stream",
     "text": [
      "EVAL: [20/21] Data 0.000 (0.009) Elapsed 0m 0s (remain 0m 0s) Loss: 0.4589(0.3576) \n",
      "Epoch: [28][0/83]Data 0.103 (0.103)Elapsed 0m 0s (remain 0m 9s)Loss: 0.4914(0.4914)Grad: 0.1863  \n",
      "Epoch: [28][82/83]Data 0.002 (0.004)Elapsed 0m 0s (remain 0m 0s)Loss: 0.3241(0.4260)Grad: 0.2912  \n",
      "EVAL: [0/21] Data 0.105 (0.105) Elapsed 0m 0s (remain 0m 2s) Loss: 0.2996(0.2996) \n"
     ]
    },
    {
     "name": "stderr",
     "output_type": "stream",
     "text": [
      "Epoch 28 - avg_train_loss: 0.4260 avg_val_loss: 0.3575 time: 1s\n",
      "Epoch 28 - Accuracy: 0.9012908124525436\n"
     ]
    },
    {
     "name": "stdout",
     "output_type": "stream",
     "text": [
      "EVAL: [20/21] Data 0.000 (0.008) Elapsed 0m 0s (remain 0m 0s) Loss: 0.4556(0.3575) \n",
      "Epoch: [29][0/83]Data 0.110 (0.110)Elapsed 0m 0s (remain 0m 9s)Loss: 0.4921(0.4921)Grad: 0.2047  \n",
      "Epoch: [29][82/83]Data 0.002 (0.004)Elapsed 0m 0s (remain 0m 0s)Loss: 0.4222(0.4240)Grad: 0.4463  \n",
      "EVAL: [0/21] Data 0.092 (0.092) Elapsed 0m 0s (remain 0m 2s) Loss: 0.2991(0.2991) \n"
     ]
    },
    {
     "name": "stderr",
     "output_type": "stream",
     "text": [
      "Epoch 29 - avg_train_loss: 0.4240 avg_val_loss: 0.3573 time: 1s\n",
      "Epoch 29 - Accuracy: 0.9012908124525436\n"
     ]
    },
    {
     "name": "stdout",
     "output_type": "stream",
     "text": [
      "EVAL: [20/21] Data 0.002 (0.007) Elapsed 0m 0s (remain 0m 0s) Loss: 0.4571(0.3573) \n",
      "Epoch: [30][0/83]Data 0.107 (0.107)Elapsed 0m 0s (remain 0m 9s)Loss: 0.3951(0.3951)Grad: 0.1770  \n",
      "Epoch: [30][82/83]Data 0.000 (0.004)Elapsed 0m 0s (remain 0m 0s)Loss: 0.5539(0.4234)Grad: 0.3274  \n",
      "EVAL: [0/21] Data 0.100 (0.100) Elapsed 0m 0s (remain 0m 2s) Loss: 0.2990(0.2990) \n"
     ]
    },
    {
     "name": "stderr",
     "output_type": "stream",
     "text": [
      "Epoch 30 - avg_train_loss: 0.4234 avg_val_loss: 0.3572 time: 1s\n",
      "Epoch 30 - Accuracy: 0.9014806378132119\n",
      "=============== fold: 0 result ================\n",
      "Score: 0.90300\n",
      "========== fold: 1 training ============\n"
     ]
    },
    {
     "name": "stdout",
     "output_type": "stream",
     "text": [
      "EVAL: [20/21] Data 0.000 (0.009) Elapsed 0m 0s (remain 0m 0s) Loss: 0.4573(0.3572) \n",
      "Epoch: [1][0/83]Data 0.104 (0.104)Elapsed 0m 0s (remain 0m 9s)Loss: 1.6153(1.6153)Grad: 0.6921  \n",
      "Epoch: [1][82/83]Data 0.000 (0.004)Elapsed 0m 0s (remain 0m 0s)Loss: 0.8281(1.2528)Grad: 0.4551  \n",
      "EVAL: [0/21] Data 0.094 (0.094) Elapsed 0m 0s (remain 0m 1s) Loss: 0.8331(0.8331) \n"
     ]
    },
    {
     "name": "stderr",
     "output_type": "stream",
     "text": [
      "Epoch 1 - avg_train_loss: 1.2528 avg_val_loss: 0.8611 time: 1s\n",
      "Epoch 1 - Accuracy: 0.587129840546697\n",
      "Epoch 1 - Save Best Score: 0.5871 Mpdel\n"
     ]
    },
    {
     "name": "stdout",
     "output_type": "stream",
     "text": [
      "EVAL: [20/21] Data 0.000 (0.009) Elapsed 0m 0s (remain 0m 0s) Loss: 0.9288(0.8611) \n",
      "Epoch: [2][0/83]Data 0.105 (0.105)Elapsed 0m 0s (remain 0m 9s)Loss: 0.9208(0.9208)Grad: 0.4428  \n",
      "Epoch: [2][82/83]Data 0.000 (0.004)Elapsed 0m 0s (remain 0m 0s)Loss: 0.5340(0.6718)Grad: 0.2640  \n",
      "EVAL: [0/21] Data 0.109 (0.109) Elapsed 0m 0s (remain 0m 2s) Loss: 0.5500(0.5500) \n"
     ]
    },
    {
     "name": "stderr",
     "output_type": "stream",
     "text": [
      "Epoch 2 - avg_train_loss: 0.6718 avg_val_loss: 0.4922 time: 1s\n",
      "Epoch 2 - Accuracy: 0.8589597570235383\n",
      "Epoch 2 - Save Best Score: 0.8590 Mpdel\n"
     ]
    },
    {
     "name": "stdout",
     "output_type": "stream",
     "text": [
      "EVAL: [20/21] Data 0.000 (0.008) Elapsed 0m 0s (remain 0m 0s) Loss: 0.5588(0.4922) \n",
      "Epoch: [3][0/83]Data 0.116 (0.116)Elapsed 0m 0s (remain 0m 10s)Loss: 0.5050(0.5050)Grad: 0.2440  \n",
      "Epoch: [3][82/83]Data 0.002 (0.004)Elapsed 0m 0s (remain 0m 0s)Loss: 0.3834(0.4932)Grad: 0.3023  \n",
      "EVAL: [0/21] Data 0.091 (0.091) Elapsed 0m 0s (remain 0m 1s) Loss: 0.5141(0.5141) \n"
     ]
    },
    {
     "name": "stderr",
     "output_type": "stream",
     "text": [
      "Epoch 3 - avg_train_loss: 0.4932 avg_val_loss: 0.4238 time: 1s\n",
      "Epoch 3 - Accuracy: 0.8864844343204252\n",
      "Epoch 3 - Save Best Score: 0.8865 Mpdel\n"
     ]
    },
    {
     "name": "stdout",
     "output_type": "stream",
     "text": [
      "EVAL: [20/21] Data 0.002 (0.008) Elapsed 0m 0s (remain 0m 0s) Loss: 0.4948(0.4238) \n",
      "Epoch: [4][0/83]Data 0.099 (0.099)Elapsed 0m 0s (remain 0m 8s)Loss: 0.6165(0.6165)Grad: 0.3094  \n",
      "Epoch: [4][82/83]Data 0.000 (0.004)Elapsed 0m 0s (remain 0m 0s)Loss: 0.4383(0.4580)Grad: 0.3463  \n",
      "EVAL: [0/21] Data 0.105 (0.105) Elapsed 0m 0s (remain 0m 2s) Loss: 0.5050(0.5050) \n"
     ]
    },
    {
     "name": "stderr",
     "output_type": "stream",
     "text": [
      "Epoch 4 - avg_train_loss: 0.4580 avg_val_loss: 0.4033 time: 1s\n",
      "Epoch 4 - Accuracy: 0.8874335611237661\n",
      "Epoch 4 - Save Best Score: 0.8874 Mpdel\n"
     ]
    },
    {
     "name": "stdout",
     "output_type": "stream",
     "text": [
      "EVAL: [20/21] Data 0.002 (0.008) Elapsed 0m 0s (remain 0m 0s) Loss: 0.4742(0.4033) \n",
      "Epoch: [5][0/83]Data 0.106 (0.106)Elapsed 0m 0s (remain 0m 9s)Loss: 0.4805(0.4805)Grad: 0.1921  \n",
      "Epoch: [5][82/83]Data 0.000 (0.003)Elapsed 0m 0s (remain 0m 0s)Loss: 0.3492(0.4486)Grad: 0.2892  \n",
      "EVAL: [0/21] Data 0.104 (0.104) Elapsed 0m 0s (remain 0m 2s) Loss: 0.5026(0.5026) \n"
     ]
    },
    {
     "name": "stderr",
     "output_type": "stream",
     "text": [
      "Epoch 5 - avg_train_loss: 0.4486 avg_val_loss: 0.3963 time: 1s\n",
      "Epoch 5 - Accuracy: 0.8885725132877752\n",
      "Epoch 5 - Save Best Score: 0.8886 Mpdel\n"
     ]
    },
    {
     "name": "stdout",
     "output_type": "stream",
     "text": [
      "EVAL: [20/21] Data 0.002 (0.009) Elapsed 0m 0s (remain 0m 0s) Loss: 0.4680(0.3963) \n",
      "Epoch: [6][0/83]Data 0.103 (0.103)Elapsed 0m 0s (remain 0m 10s)Loss: 0.4114(0.4114)Grad: 0.1703  \n",
      "Epoch: [6][82/83]Data 0.002 (0.003)Elapsed 0m 0s (remain 0m 0s)Loss: 0.7498(0.4422)Grad: 0.5802  \n",
      "EVAL: [0/21] Data 0.100 (0.100) Elapsed 0m 0s (remain 0m 2s) Loss: 0.5007(0.5007) \n"
     ]
    },
    {
     "name": "stderr",
     "output_type": "stream",
     "text": [
      "Epoch 6 - avg_train_loss: 0.4422 avg_val_loss: 0.3933 time: 1s\n",
      "Epoch 6 - Accuracy: 0.8887623386484435\n",
      "Epoch 6 - Save Best Score: 0.8888 Mpdel\n"
     ]
    },
    {
     "name": "stdout",
     "output_type": "stream",
     "text": [
      "EVAL: [20/21] Data 0.002 (0.007) Elapsed 0m 0s (remain 0m 0s) Loss: 0.4698(0.3933) \n",
      "Epoch: [7][0/83]Data 0.098 (0.098)Elapsed 0m 0s (remain 0m 8s)Loss: 0.4294(0.4294)Grad: 0.1729  \n",
      "Epoch: [7][82/83]Data 0.000 (0.004)Elapsed 0m 0s (remain 0m 0s)Loss: 0.3132(0.4351)Grad: 0.2697  \n",
      "EVAL: [0/21] Data 0.101 (0.101) Elapsed 0m 0s (remain 0m 2s) Loss: 0.4978(0.4978) \n"
     ]
    },
    {
     "name": "stderr",
     "output_type": "stream",
     "text": [
      "Epoch 7 - avg_train_loss: 0.4351 avg_val_loss: 0.3913 time: 1s\n",
      "Epoch 7 - Accuracy: 0.8885725132877752\n"
     ]
    },
    {
     "name": "stdout",
     "output_type": "stream",
     "text": [
      "EVAL: [20/21] Data 0.002 (0.008) Elapsed 0m 0s (remain 0m 0s) Loss: 0.4675(0.3913) \n",
      "Epoch: [8][0/83]Data 0.130 (0.130)Elapsed 0m 0s (remain 0m 11s)Loss: 0.3607(0.3607)Grad: 0.1437  \n",
      "Epoch: [8][82/83]Data 0.000 (0.004)Elapsed 0m 0s (remain 0m 0s)Loss: 0.5250(0.4333)Grad: 0.3424  \n",
      "EVAL: [0/21] Data 0.108 (0.108) Elapsed 0m 0s (remain 0m 2s) Loss: 0.4971(0.4971) \n"
     ]
    },
    {
     "name": "stderr",
     "output_type": "stream",
     "text": [
      "Epoch 8 - avg_train_loss: 0.4333 avg_val_loss: 0.3905 time: 1s\n",
      "Epoch 8 - Accuracy: 0.8881928625664389\n"
     ]
    },
    {
     "name": "stdout",
     "output_type": "stream",
     "text": [
      "EVAL: [20/21] Data 0.000 (0.009) Elapsed 0m 0s (remain 0m 0s) Loss: 0.4673(0.3905) \n",
      "Epoch: [9][0/83]Data 0.128 (0.128)Elapsed 0m 0s (remain 0m 11s)Loss: 0.3901(0.3901)Grad: 0.1651  \n",
      "Epoch: [9][82/83]Data 0.000 (0.004)Elapsed 0m 0s (remain 0m 0s)Loss: 0.4609(0.4322)Grad: 0.4064  \n",
      "EVAL: [0/21] Data 0.123 (0.123) Elapsed 0m 0s (remain 0m 2s) Loss: 0.4967(0.4967) \n"
     ]
    },
    {
     "name": "stderr",
     "output_type": "stream",
     "text": [
      "Epoch 9 - avg_train_loss: 0.4322 avg_val_loss: 0.3900 time: 1s\n",
      "Epoch 9 - Accuracy: 0.8881928625664389\n"
     ]
    },
    {
     "name": "stdout",
     "output_type": "stream",
     "text": [
      "EVAL: [20/21] Data 0.002 (0.008) Elapsed 0m 0s (remain 0m 0s) Loss: 0.4672(0.3900) \n",
      "Epoch: [10][0/83]Data 0.107 (0.107)Elapsed 0m 0s (remain 0m 9s)Loss: 0.4548(0.4548)Grad: 0.1621  \n",
      "Epoch: [10][82/83]Data 0.000 (0.004)Elapsed 0m 0s (remain 0m 0s)Loss: 0.4829(0.4334)Grad: 0.2868  \n",
      "EVAL: [0/21] Data 0.096 (0.096) Elapsed 0m 0s (remain 0m 1s) Loss: 0.4966(0.4966) \n"
     ]
    },
    {
     "name": "stderr",
     "output_type": "stream",
     "text": [
      "Epoch 10 - avg_train_loss: 0.4334 avg_val_loss: 0.3899 time: 1s\n",
      "Epoch 10 - Accuracy: 0.8881928625664389\n"
     ]
    },
    {
     "name": "stdout",
     "output_type": "stream",
     "text": [
      "EVAL: [20/21] Data 0.000 (0.008) Elapsed 0m 0s (remain 0m 0s) Loss: 0.4675(0.3899) \n",
      "Epoch: [11][0/83]Data 0.110 (0.110)Elapsed 0m 0s (remain 0m 9s)Loss: 0.4715(0.4715)Grad: 0.1405  \n",
      "Epoch: [11][82/83]Data 0.000 (0.004)Elapsed 0m 0s (remain 0m 0s)Loss: 0.3969(0.4339)Grad: 0.2839  \n",
      "EVAL: [0/21] Data 0.104 (0.104) Elapsed 0m 0s (remain 0m 2s) Loss: 0.4937(0.4937) \n"
     ]
    },
    {
     "name": "stderr",
     "output_type": "stream",
     "text": [
      "Epoch 11 - avg_train_loss: 0.4339 avg_val_loss: 0.3875 time: 1s\n",
      "Epoch 11 - Accuracy: 0.8889521640091116\n",
      "Epoch 11 - Save Best Score: 0.8890 Mpdel\n"
     ]
    },
    {
     "name": "stdout",
     "output_type": "stream",
     "text": [
      "EVAL: [20/21] Data 0.000 (0.007) Elapsed 0m 0s (remain 0m 0s) Loss: 0.4714(0.3875) \n",
      "Epoch: [12][0/83]Data 0.099 (0.099)Elapsed 0m 0s (remain 0m 8s)Loss: 0.4926(0.4926)Grad: 0.1534  \n",
      "Epoch: [12][82/83]Data 0.000 (0.004)Elapsed 0m 0s (remain 0m 0s)Loss: 0.3670(0.4269)Grad: 0.3262  \n",
      "EVAL: [0/21] Data 0.094 (0.094) Elapsed 0m 0s (remain 0m 2s) Loss: 0.4912(0.4912) \n"
     ]
    },
    {
     "name": "stderr",
     "output_type": "stream",
     "text": [
      "Epoch 12 - avg_train_loss: 0.4269 avg_val_loss: 0.3849 time: 1s\n",
      "Epoch 12 - Accuracy: 0.8889521640091116\n"
     ]
    },
    {
     "name": "stdout",
     "output_type": "stream",
     "text": [
      "EVAL: [20/21] Data 0.002 (0.008) Elapsed 0m 0s (remain 0m 0s) Loss: 0.4689(0.3849) \n",
      "Epoch: [13][0/83]Data 0.111 (0.111)Elapsed 0m 0s (remain 0m 9s)Loss: 0.4354(0.4354)Grad: 0.1159  \n",
      "Epoch: [13][82/83]Data 0.000 (0.004)Elapsed 0m 0s (remain 0m 0s)Loss: 0.3602(0.4190)Grad: 0.2561  \n",
      "EVAL: [0/21] Data 0.104 (0.104) Elapsed 0m 0s (remain 0m 2s) Loss: 0.4932(0.4932) \n"
     ]
    },
    {
     "name": "stderr",
     "output_type": "stream",
     "text": [
      "Epoch 13 - avg_train_loss: 0.4190 avg_val_loss: 0.3832 time: 1s\n",
      "Epoch 13 - Accuracy: 0.8891419893697798\n",
      "Epoch 13 - Save Best Score: 0.8891 Mpdel\n"
     ]
    },
    {
     "name": "stdout",
     "output_type": "stream",
     "text": [
      "EVAL: [20/21] Data 0.003 (0.008) Elapsed 0m 0s (remain 0m 0s) Loss: 0.4706(0.3832) \n",
      "Epoch: [14][0/83]Data 0.104 (0.104)Elapsed 0m 0s (remain 0m 9s)Loss: 0.3889(0.3889)Grad: 0.1670  \n",
      "Epoch: [14][82/83]Data 0.000 (0.004)Elapsed 0m 0s (remain 0m 0s)Loss: 0.3460(0.4184)Grad: 0.3030  \n",
      "EVAL: [0/21] Data 0.100 (0.100) Elapsed 0m 0s (remain 0m 2s) Loss: 0.4890(0.4890) \n"
     ]
    },
    {
     "name": "stderr",
     "output_type": "stream",
     "text": [
      "Epoch 14 - avg_train_loss: 0.4184 avg_val_loss: 0.3817 time: 1s\n",
      "Epoch 14 - Accuracy: 0.8891419893697798\n"
     ]
    },
    {
     "name": "stdout",
     "output_type": "stream",
     "text": [
      "EVAL: [20/21] Data 0.000 (0.008) Elapsed 0m 0s (remain 0m 0s) Loss: 0.4725(0.3817) \n",
      "Epoch: [15][0/83]Data 0.107 (0.107)Elapsed 0m 0s (remain 0m 9s)Loss: 0.4334(0.4334)Grad: 0.1712  \n",
      "Epoch: [15][82/83]Data 0.000 (0.004)Elapsed 0m 0s (remain 0m 0s)Loss: 0.2194(0.4181)Grad: 0.2978  \n",
      "EVAL: [0/21] Data 0.094 (0.094) Elapsed 0m 0s (remain 0m 2s) Loss: 0.4836(0.4836) \n"
     ]
    },
    {
     "name": "stderr",
     "output_type": "stream",
     "text": [
      "Epoch 15 - avg_train_loss: 0.4181 avg_val_loss: 0.3795 time: 1s\n",
      "Epoch 15 - Accuracy: 0.8891419893697798\n"
     ]
    },
    {
     "name": "stdout",
     "output_type": "stream",
     "text": [
      "EVAL: [20/21] Data 0.000 (0.008) Elapsed 0m 0s (remain 0m 0s) Loss: 0.4700(0.3795) \n",
      "Epoch: [16][0/83]Data 0.107 (0.107)Elapsed 0m 0s (remain 0m 9s)Loss: 0.4004(0.4004)Grad: 0.1548  \n",
      "Epoch: [16][82/83]Data 0.000 (0.004)Elapsed 0m 0s (remain 0m 0s)Loss: 0.2218(0.4137)Grad: 0.3067  \n",
      "EVAL: [0/21] Data 0.103 (0.103) Elapsed 0m 0s (remain 0m 2s) Loss: 0.4846(0.4846) \n"
     ]
    },
    {
     "name": "stderr",
     "output_type": "stream",
     "text": [
      "Epoch 16 - avg_train_loss: 0.4137 avg_val_loss: 0.3791 time: 1s\n",
      "Epoch 16 - Accuracy: 0.8891419893697798\n"
     ]
    },
    {
     "name": "stdout",
     "output_type": "stream",
     "text": [
      "EVAL: [20/21] Data 0.002 (0.007) Elapsed 0m 0s (remain 0m 0s) Loss: 0.4709(0.3791) \n",
      "Epoch: [17][0/83]Data 0.105 (0.105)Elapsed 0m 0s (remain 0m 9s)Loss: 0.5065(0.5065)Grad: 0.1752  \n",
      "Epoch: [17][82/83]Data 0.002 (0.004)Elapsed 0m 0s (remain 0m 0s)Loss: 0.3908(0.4106)Grad: 0.2676  \n",
      "EVAL: [0/21] Data 0.111 (0.111) Elapsed 0m 0s (remain 0m 2s) Loss: 0.4828(0.4828) \n"
     ]
    },
    {
     "name": "stderr",
     "output_type": "stream",
     "text": [
      "Epoch 17 - avg_train_loss: 0.4106 avg_val_loss: 0.3783 time: 1s\n",
      "Epoch 17 - Accuracy: 0.889331814730448\n",
      "Epoch 17 - Save Best Score: 0.8893 Mpdel\n"
     ]
    },
    {
     "name": "stdout",
     "output_type": "stream",
     "text": [
      "EVAL: [20/21] Data 0.000 (0.008) Elapsed 0m 0s (remain 0m 0s) Loss: 0.4704(0.3783) \n",
      "Epoch: [18][0/83]Data 0.102 (0.102)Elapsed 0m 0s (remain 0m 9s)Loss: 0.3627(0.3627)Grad: 0.1625  \n",
      "Epoch: [18][82/83]Data 0.000 (0.004)Elapsed 0m 0s (remain 0m 0s)Loss: 0.6609(0.4091)Grad: 0.4836  \n",
      "EVAL: [0/21] Data 0.099 (0.099) Elapsed 0m 0s (remain 0m 2s) Loss: 0.4817(0.4817) \n"
     ]
    },
    {
     "name": "stderr",
     "output_type": "stream",
     "text": [
      "Epoch 18 - avg_train_loss: 0.4091 avg_val_loss: 0.3777 time: 1s\n",
      "Epoch 18 - Accuracy: 0.8891419893697798\n"
     ]
    },
    {
     "name": "stdout",
     "output_type": "stream",
     "text": [
      "EVAL: [20/21] Data 0.000 (0.009) Elapsed 0m 0s (remain 0m 0s) Loss: 0.4700(0.3777) \n",
      "Epoch: [19][0/83]Data 0.115 (0.115)Elapsed 0m 0s (remain 0m 9s)Loss: 0.3823(0.3823)Grad: 0.1712  \n",
      "Epoch: [19][82/83]Data 0.000 (0.004)Elapsed 0m 0s (remain 0m 0s)Loss: 0.3224(0.4122)Grad: 0.2642  \n",
      "EVAL: [0/21] Data 0.100 (0.100) Elapsed 0m 0s (remain 0m 2s) Loss: 0.4810(0.4810) \n"
     ]
    },
    {
     "name": "stderr",
     "output_type": "stream",
     "text": [
      "Epoch 19 - avg_train_loss: 0.4122 avg_val_loss: 0.3774 time: 1s\n",
      "Epoch 19 - Accuracy: 0.889331814730448\n"
     ]
    },
    {
     "name": "stdout",
     "output_type": "stream",
     "text": [
      "EVAL: [20/21] Data 0.000 (0.008) Elapsed 0m 0s (remain 0m 0s) Loss: 0.4696(0.3774) \n",
      "Epoch: [20][0/83]Data 0.117 (0.117)Elapsed 0m 0s (remain 0m 10s)Loss: 0.4275(0.4275)Grad: 0.1635  \n",
      "Epoch: [20][82/83]Data 0.000 (0.004)Elapsed 0m 0s (remain 0m 0s)Loss: 0.3039(0.4103)Grad: 0.4639  \n",
      "EVAL: [0/21] Data 0.106 (0.106) Elapsed 0m 0s (remain 0m 2s) Loss: 0.4810(0.4810) \n"
     ]
    },
    {
     "name": "stderr",
     "output_type": "stream",
     "text": [
      "Epoch 20 - avg_train_loss: 0.4103 avg_val_loss: 0.3774 time: 1s\n",
      "Epoch 20 - Accuracy: 0.889331814730448\n"
     ]
    },
    {
     "name": "stdout",
     "output_type": "stream",
     "text": [
      "EVAL: [20/21] Data 0.000 (0.010) Elapsed 0m 0s (remain 0m 0s) Loss: 0.4696(0.3774) \n",
      "Epoch: [21][0/83]Data 0.118 (0.118)Elapsed 0m 0s (remain 0m 10s)Loss: 0.2654(0.2654)Grad: 0.1875  \n",
      "Epoch: [21][82/83]Data 0.000 (0.004)Elapsed 0m 0s (remain 0m 0s)Loss: 0.3819(0.4140)Grad: 0.2505  \n",
      "EVAL: [0/21] Data 0.095 (0.095) Elapsed 0m 0s (remain 0m 1s) Loss: 0.4747(0.4747) \n"
     ]
    },
    {
     "name": "stderr",
     "output_type": "stream",
     "text": [
      "Epoch 21 - avg_train_loss: 0.4140 avg_val_loss: 0.3758 time: 1s\n",
      "Epoch 21 - Accuracy: 0.8891419893697798\n"
     ]
    },
    {
     "name": "stdout",
     "output_type": "stream",
     "text": [
      "EVAL: [20/21] Data 0.000 (0.008) Elapsed 0m 0s (remain 0m 0s) Loss: 0.4664(0.3758) \n",
      "Epoch: [22][0/83]Data 0.109 (0.109)Elapsed 0m 0s (remain 0m 9s)Loss: 0.5326(0.5326)Grad: 0.1712  \n",
      "Epoch: [22][82/83]Data 0.000 (0.004)Elapsed 0m 0s (remain 0m 0s)Loss: 0.3916(0.4116)Grad: 0.2724  \n",
      "EVAL: [0/21] Data 0.151 (0.151) Elapsed 0m 0s (remain 0m 3s) Loss: 0.4765(0.4765) \n"
     ]
    },
    {
     "name": "stderr",
     "output_type": "stream",
     "text": [
      "Epoch 22 - avg_train_loss: 0.4116 avg_val_loss: 0.3744 time: 1s\n",
      "Epoch 22 - Accuracy: 0.8887623386484435\n"
     ]
    },
    {
     "name": "stdout",
     "output_type": "stream",
     "text": [
      "EVAL: [20/21] Data 0.002 (0.011) Elapsed 0m 0s (remain 0m 0s) Loss: 0.4655(0.3744) \n",
      "Epoch: [23][0/83]Data 0.120 (0.120)Elapsed 0m 0s (remain 0m 10s)Loss: 0.4382(0.4382)Grad: 0.1865  \n",
      "Epoch: [23][82/83]Data 0.002 (0.004)Elapsed 0m 0s (remain 0m 0s)Loss: 0.4171(0.4081)Grad: 0.2655  \n",
      "EVAL: [0/21] Data 0.102 (0.102) Elapsed 0m 0s (remain 0m 2s) Loss: 0.4721(0.4721) \n"
     ]
    },
    {
     "name": "stderr",
     "output_type": "stream",
     "text": [
      "Epoch 23 - avg_train_loss: 0.4081 avg_val_loss: 0.3732 time: 1s\n",
      "Epoch 23 - Accuracy: 0.8885725132877752\n"
     ]
    },
    {
     "name": "stdout",
     "output_type": "stream",
     "text": [
      "EVAL: [20/21] Data 0.000 (0.007) Elapsed 0m 0s (remain 0m 0s) Loss: 0.4691(0.3732) \n",
      "Epoch: [24][0/83]Data 0.107 (0.107)Elapsed 0m 0s (remain 0m 10s)Loss: 0.4237(0.4237)Grad: 0.2316  \n",
      "Epoch: [24][82/83]Data 0.000 (0.004)Elapsed 0m 0s (remain 0m 0s)Loss: 0.4678(0.4064)Grad: 0.4630  \n",
      "EVAL: [0/21] Data 0.104 (0.104) Elapsed 0m 0s (remain 0m 2s) Loss: 0.4697(0.4697) \n"
     ]
    },
    {
     "name": "stderr",
     "output_type": "stream",
     "text": [
      "Epoch 24 - avg_train_loss: 0.4064 avg_val_loss: 0.3721 time: 1s\n",
      "Epoch 24 - Accuracy: 0.8891419893697798\n"
     ]
    },
    {
     "name": "stdout",
     "output_type": "stream",
     "text": [
      "EVAL: [20/21] Data 0.000 (0.009) Elapsed 0m 0s (remain 0m 0s) Loss: 0.4687(0.3721) \n",
      "Epoch: [25][0/83]Data 0.119 (0.119)Elapsed 0m 0s (remain 0m 10s)Loss: 0.3613(0.3613)Grad: 0.1472  \n",
      "Epoch: [25][82/83]Data 0.000 (0.004)Elapsed 0m 0s (remain 0m 0s)Loss: 0.3896(0.4056)Grad: 0.2578  \n",
      "EVAL: [0/21] Data 0.105 (0.105) Elapsed 0m 0s (remain 0m 2s) Loss: 0.4670(0.4670) \n"
     ]
    },
    {
     "name": "stderr",
     "output_type": "stream",
     "text": [
      "Epoch 25 - avg_train_loss: 0.4056 avg_val_loss: 0.3709 time: 1s\n",
      "Epoch 25 - Accuracy: 0.8891419893697798\n"
     ]
    },
    {
     "name": "stdout",
     "output_type": "stream",
     "text": [
      "EVAL: [20/21] Data 0.000 (0.009) Elapsed 0m 0s (remain 0m 0s) Loss: 0.4654(0.3709) \n",
      "Epoch: [26][0/83]Data 0.109 (0.109)Elapsed 0m 0s (remain 0m 9s)Loss: 0.4543(0.4543)Grad: 0.1459  \n",
      "Epoch: [26][82/83]Data 0.000 (0.004)Elapsed 0m 0s (remain 0m 0s)Loss: 0.3376(0.4079)Grad: 0.2365  \n",
      "EVAL: [0/21] Data 0.104 (0.104) Elapsed 0m 0s (remain 0m 2s) Loss: 0.4682(0.4682) \n"
     ]
    },
    {
     "name": "stderr",
     "output_type": "stream",
     "text": [
      "Epoch 26 - avg_train_loss: 0.4079 avg_val_loss: 0.3702 time: 1s\n",
      "Epoch 26 - Accuracy: 0.8887623386484435\n"
     ]
    },
    {
     "name": "stdout",
     "output_type": "stream",
     "text": [
      "EVAL: [20/21] Data 0.000 (0.008) Elapsed 0m 0s (remain 0m 0s) Loss: 0.4659(0.3702) \n",
      "Epoch: [27][0/83]Data 0.105 (0.105)Elapsed 0m 0s (remain 0m 10s)Loss: 0.4051(0.4051)Grad: 0.1447  \n",
      "Epoch: [27][82/83]Data 0.000 (0.004)Elapsed 0m 0s (remain 0m 0s)Loss: 0.3015(0.4064)Grad: 0.3249  \n",
      "EVAL: [0/21] Data 0.098 (0.098) Elapsed 0m 0s (remain 0m 2s) Loss: 0.4650(0.4650) \n"
     ]
    },
    {
     "name": "stderr",
     "output_type": "stream",
     "text": [
      "Epoch 27 - avg_train_loss: 0.4064 avg_val_loss: 0.3693 time: 1s\n",
      "Epoch 27 - Accuracy: 0.8889521640091116\n"
     ]
    },
    {
     "name": "stdout",
     "output_type": "stream",
     "text": [
      "EVAL: [20/21] Data 0.002 (0.009) Elapsed 0m 0s (remain 0m 0s) Loss: 0.4647(0.3693) \n",
      "Epoch: [28][0/83]Data 0.118 (0.118)Elapsed 0m 0s (remain 0m 10s)Loss: 0.4070(0.4070)Grad: 0.1442  \n",
      "Epoch: [28][82/83]Data 0.000 (0.004)Elapsed 0m 0s (remain 0m 0s)Loss: 0.4383(0.4017)Grad: 0.2894  \n",
      "EVAL: [0/21] Data 0.104 (0.104) Elapsed 0m 0s (remain 0m 2s) Loss: 0.4653(0.4653) \n"
     ]
    },
    {
     "name": "stderr",
     "output_type": "stream",
     "text": [
      "Epoch 28 - avg_train_loss: 0.4017 avg_val_loss: 0.3692 time: 1s\n",
      "Epoch 28 - Accuracy: 0.8895216400911162\n",
      "Epoch 28 - Save Best Score: 0.8895 Mpdel\n"
     ]
    },
    {
     "name": "stdout",
     "output_type": "stream",
     "text": [
      "EVAL: [20/21] Data 0.002 (0.008) Elapsed 0m 0s (remain 0m 0s) Loss: 0.4657(0.3692) \n",
      "Epoch: [29][0/83]Data 0.111 (0.111)Elapsed 0m 0s (remain 0m 10s)Loss: 0.4588(0.4588)Grad: 0.2114  \n",
      "Epoch: [29][82/83]Data 0.000 (0.004)Elapsed 0m 0s (remain 0m 0s)Loss: 0.6992(0.4030)Grad: 0.4573  \n",
      "EVAL: [0/21] Data 0.104 (0.104) Elapsed 0m 0s (remain 0m 2s) Loss: 0.4658(0.4658) \n"
     ]
    },
    {
     "name": "stderr",
     "output_type": "stream",
     "text": [
      "Epoch 29 - avg_train_loss: 0.4030 avg_val_loss: 0.3691 time: 1s\n",
      "Epoch 29 - Accuracy: 0.8887623386484435\n"
     ]
    },
    {
     "name": "stdout",
     "output_type": "stream",
     "text": [
      "EVAL: [20/21] Data 0.000 (0.008) Elapsed 0m 0s (remain 0m 0s) Loss: 0.4658(0.3691) \n",
      "Epoch: [30][0/83]Data 0.096 (0.096)Elapsed 0m 0s (remain 0m 9s)Loss: 0.3053(0.3053)Grad: 0.1266  \n",
      "Epoch: [30][82/83]Data 0.000 (0.004)Elapsed 0m 0s (remain 0m 0s)Loss: 0.2603(0.3993)Grad: 0.2469  \n",
      "EVAL: [0/21] Data 0.118 (0.118) Elapsed 0m 0s (remain 0m 2s) Loss: 0.4656(0.4656) \n"
     ]
    },
    {
     "name": "stderr",
     "output_type": "stream",
     "text": [
      "Epoch 30 - avg_train_loss: 0.3993 avg_val_loss: 0.3691 time: 1s\n",
      "Epoch 30 - Accuracy: 0.889331814730448\n",
      "=============== fold: 1 result ================\n",
      "Score: 0.88952\n",
      "========== fold: 2 training ============\n"
     ]
    },
    {
     "name": "stdout",
     "output_type": "stream",
     "text": [
      "EVAL: [20/21] Data 0.000 (0.008) Elapsed 0m 0s (remain 0m 0s) Loss: 0.4657(0.3691) \n",
      "Epoch: [1][0/83]Data 0.116 (0.116)Elapsed 0m 0s (remain 0m 10s)Loss: 1.6299(1.6299)Grad: 0.7456  \n",
      "Epoch: [1][82/83]Data 0.000 (0.004)Elapsed 0m 0s (remain 0m 0s)Loss: 0.8661(1.1886)Grad: 0.4857  \n",
      "EVAL: [0/21] Data 0.112 (0.112) Elapsed 0m 0s (remain 0m 2s) Loss: 0.8004(0.8004) \n"
     ]
    },
    {
     "name": "stderr",
     "output_type": "stream",
     "text": [
      "Epoch 1 - avg_train_loss: 1.1886 avg_val_loss: 0.8159 time: 1s\n",
      "Epoch 1 - Accuracy: 0.587051452439719\n",
      "Epoch 1 - Save Best Score: 0.5871 Mpdel\n"
     ]
    },
    {
     "name": "stdout",
     "output_type": "stream",
     "text": [
      "EVAL: [20/21] Data 0.002 (0.008) Elapsed 0m 0s (remain 0m 0s) Loss: 0.8802(0.8159) \n",
      "Epoch: [2][0/83]Data 0.107 (0.107)Elapsed 0m 0s (remain 0m 9s)Loss: 0.8965(0.8965)Grad: 0.4185  \n",
      "Epoch: [2][82/83]Data 0.000 (0.004)Elapsed 0m 0s (remain 0m 0s)Loss: 0.5618(0.6316)Grad: 0.2964  \n",
      "EVAL: [0/21] Data 0.096 (0.096) Elapsed 0m 0s (remain 0m 1s) Loss: 0.4889(0.4889) \n"
     ]
    },
    {
     "name": "stderr",
     "output_type": "stream",
     "text": [
      "Epoch 2 - avg_train_loss: 0.6316 avg_val_loss: 0.4753 time: 1s\n",
      "Epoch 2 - Accuracy: 0.887981773305487\n",
      "Epoch 2 - Save Best Score: 0.8880 Mpdel\n"
     ]
    },
    {
     "name": "stdout",
     "output_type": "stream",
     "text": [
      "EVAL: [20/21] Data 0.000 (0.008) Elapsed 0m 0s (remain 0m 0s) Loss: 0.4392(0.4753) \n",
      "Epoch: [3][0/83]Data 0.096 (0.096)Elapsed 0m 0s (remain 0m 9s)Loss: 0.4915(0.4915)Grad: 0.2126  \n",
      "Epoch: [3][82/83]Data 0.000 (0.004)Elapsed 0m 0s (remain 0m 0s)Loss: 0.4745(0.4583)Grad: 0.3715  \n",
      "EVAL: [0/21] Data 0.106 (0.106) Elapsed 0m 0s (remain 0m 2s) Loss: 0.4330(0.4330) \n"
     ]
    },
    {
     "name": "stderr",
     "output_type": "stream",
     "text": [
      "Epoch 3 - avg_train_loss: 0.4583 avg_val_loss: 0.4120 time: 1s\n",
      "Epoch 3 - Accuracy: 0.8908296943231441\n",
      "Epoch 3 - Save Best Score: 0.8908 Mpdel\n"
     ]
    },
    {
     "name": "stdout",
     "output_type": "stream",
     "text": [
      "EVAL: [20/21] Data 0.002 (0.007) Elapsed 0m 0s (remain 0m 0s) Loss: 0.3430(0.4120) \n",
      "Epoch: [4][0/83]Data 0.104 (0.104)Elapsed 0m 0s (remain 0m 9s)Loss: 0.3945(0.3945)Grad: 0.2276  \n",
      "Epoch: [4][82/83]Data 0.000 (0.004)Elapsed 0m 0s (remain 0m 0s)Loss: 0.4346(0.4417)Grad: 0.4057  \n",
      "EVAL: [0/21] Data 0.116 (0.116) Elapsed 0m 0s (remain 0m 2s) Loss: 0.4230(0.4230) \n"
     ]
    },
    {
     "name": "stderr",
     "output_type": "stream",
     "text": [
      "Epoch 4 - avg_train_loss: 0.4417 avg_val_loss: 0.4018 time: 1s\n",
      "Epoch 4 - Accuracy: 0.8921587241313841\n",
      "Epoch 4 - Save Best Score: 0.8922 Mpdel\n"
     ]
    },
    {
     "name": "stdout",
     "output_type": "stream",
     "text": [
      "EVAL: [20/21] Data 0.002 (0.008) Elapsed 0m 0s (remain 0m 0s) Loss: 0.3280(0.4018) \n",
      "Epoch: [5][0/83]Data 0.117 (0.117)Elapsed 0m 0s (remain 0m 10s)Loss: 0.4411(0.4411)Grad: 0.2079  \n",
      "Epoch: [5][82/83]Data 0.000 (0.004)Elapsed 0m 0s (remain 0m 0s)Loss: 0.5701(0.4304)Grad: 0.4090  \n",
      "EVAL: [0/21] Data 0.103 (0.103) Elapsed 0m 0s (remain 0m 2s) Loss: 0.4211(0.4211) \n"
     ]
    },
    {
     "name": "stderr",
     "output_type": "stream",
     "text": [
      "Epoch 5 - avg_train_loss: 0.4304 avg_val_loss: 0.3994 time: 1s\n",
      "Epoch 5 - Accuracy: 0.8921587241313841\n"
     ]
    },
    {
     "name": "stdout",
     "output_type": "stream",
     "text": [
      "EVAL: [20/21] Data 0.002 (0.007) Elapsed 0m 0s (remain 0m 0s) Loss: 0.3250(0.3994) \n",
      "Epoch: [6][0/83]Data 0.105 (0.105)Elapsed 0m 0s (remain 0m 9s)Loss: 0.5434(0.5434)Grad: 0.2638  \n",
      "Epoch: [6][82/83]Data 0.000 (0.004)Elapsed 0m 0s (remain 0m 0s)Loss: 0.2147(0.4308)Grad: 0.2874  \n",
      "EVAL: [0/21] Data 0.100 (0.100) Elapsed 0m 0s (remain 0m 2s) Loss: 0.4184(0.4184) \n"
     ]
    },
    {
     "name": "stderr",
     "output_type": "stream",
     "text": [
      "Epoch 6 - avg_train_loss: 0.4308 avg_val_loss: 0.3967 time: 1s\n",
      "Epoch 6 - Accuracy: 0.8927283083349156\n",
      "Epoch 6 - Save Best Score: 0.8927 Mpdel\n"
     ]
    },
    {
     "name": "stdout",
     "output_type": "stream",
     "text": [
      "EVAL: [20/21] Data 0.002 (0.008) Elapsed 0m 0s (remain 0m 0s) Loss: 0.3232(0.3967) \n",
      "Epoch: [7][0/83]Data 0.119 (0.119)Elapsed 0m 0s (remain 0m 10s)Loss: 0.4851(0.4851)Grad: 0.2012  \n",
      "Epoch: [7][82/83]Data 0.000 (0.004)Elapsed 0m 0s (remain 0m 0s)Loss: 0.3267(0.4270)Grad: 0.3819  \n",
      "EVAL: [0/21] Data 0.096 (0.096) Elapsed 0m 0s (remain 0m 2s) Loss: 0.4164(0.4164) \n"
     ]
    },
    {
     "name": "stderr",
     "output_type": "stream",
     "text": [
      "Epoch 7 - avg_train_loss: 0.4270 avg_val_loss: 0.3954 time: 1s\n",
      "Epoch 7 - Accuracy: 0.8927283083349156\n"
     ]
    },
    {
     "name": "stdout",
     "output_type": "stream",
     "text": [
      "EVAL: [20/21] Data 0.000 (0.008) Elapsed 0m 0s (remain 0m 0s) Loss: 0.3228(0.3954) \n",
      "Epoch: [8][0/83]Data 0.105 (0.105)Elapsed 0m 0s (remain 0m 9s)Loss: 0.4274(0.4274)Grad: 0.2263  \n",
      "Epoch: [8][82/83]Data 0.002 (0.004)Elapsed 0m 0s (remain 0m 0s)Loss: 0.3258(0.4282)Grad: 0.2516  \n",
      "EVAL: [0/21] Data 0.113 (0.113) Elapsed 0m 0s (remain 0m 2s) Loss: 0.4154(0.4154) \n"
     ]
    },
    {
     "name": "stderr",
     "output_type": "stream",
     "text": [
      "Epoch 8 - avg_train_loss: 0.4282 avg_val_loss: 0.3947 time: 1s\n",
      "Epoch 8 - Accuracy: 0.8925384469337384\n"
     ]
    },
    {
     "name": "stdout",
     "output_type": "stream",
     "text": [
      "EVAL: [20/21] Data 0.000 (0.008) Elapsed 0m 0s (remain 0m 0s) Loss: 0.3222(0.3947) \n",
      "Epoch: [9][0/83]Data 0.106 (0.106)Elapsed 0m 0s (remain 0m 9s)Loss: 0.4744(0.4744)Grad: 0.1466  \n",
      "Epoch: [9][82/83]Data 0.002 (0.004)Elapsed 0m 0s (remain 0m 0s)Loss: 0.5548(0.4260)Grad: 0.5129  \n",
      "EVAL: [0/21] Data 0.102 (0.102) Elapsed 0m 0s (remain 0m 2s) Loss: 0.4154(0.4154) \n"
     ]
    },
    {
     "name": "stderr",
     "output_type": "stream",
     "text": [
      "Epoch 9 - avg_train_loss: 0.4260 avg_val_loss: 0.3945 time: 1s\n",
      "Epoch 9 - Accuracy: 0.8925384469337384\n"
     ]
    },
    {
     "name": "stdout",
     "output_type": "stream",
     "text": [
      "EVAL: [20/21] Data 0.000 (0.009) Elapsed 0m 0s (remain 0m 0s) Loss: 0.3221(0.3945) \n",
      "Epoch: [10][0/83]Data 0.111 (0.111)Elapsed 0m 0s (remain 0m 10s)Loss: 0.3980(0.3980)Grad: 0.1786  \n",
      "Epoch: [10][82/83]Data 0.000 (0.004)Elapsed 0m 0s (remain 0m 0s)Loss: 0.5819(0.4226)Grad: 0.4762  \n",
      "EVAL: [0/21] Data 0.107 (0.107) Elapsed 0m 0s (remain 0m 2s) Loss: 0.4153(0.4153) \n"
     ]
    },
    {
     "name": "stderr",
     "output_type": "stream",
     "text": [
      "Epoch 10 - avg_train_loss: 0.4226 avg_val_loss: 0.3945 time: 1s\n",
      "Epoch 10 - Accuracy: 0.8925384469337384\n"
     ]
    },
    {
     "name": "stdout",
     "output_type": "stream",
     "text": [
      "EVAL: [20/21] Data 0.000 (0.009) Elapsed 0m 0s (remain 0m 0s) Loss: 0.3223(0.3945) \n",
      "Epoch: [11][0/83]Data 0.103 (0.103)Elapsed 0m 0s (remain 0m 9s)Loss: 0.3437(0.3437)Grad: 0.1699  \n",
      "Epoch: [11][82/83]Data 0.000 (0.004)Elapsed 0m 0s (remain 0m 0s)Loss: 0.4675(0.4253)Grad: 0.3112  \n",
      "EVAL: [0/21] Data 0.095 (0.095) Elapsed 0m 0s (remain 0m 1s) Loss: 0.4164(0.4164) \n"
     ]
    },
    {
     "name": "stderr",
     "output_type": "stream",
     "text": [
      "Epoch 11 - avg_train_loss: 0.4253 avg_val_loss: 0.3939 time: 1s\n",
      "Epoch 11 - Accuracy: 0.8919688627302069\n"
     ]
    },
    {
     "name": "stdout",
     "output_type": "stream",
     "text": [
      "EVAL: [20/21] Data 0.002 (0.008) Elapsed 0m 0s (remain 0m 0s) Loss: 0.3203(0.3939) \n",
      "Epoch: [12][0/83]Data 0.113 (0.113)Elapsed 0m 0s (remain 0m 9s)Loss: 0.3342(0.3342)Grad: 0.1613  \n",
      "Epoch: [12][82/83]Data 0.000 (0.004)Elapsed 0m 0s (remain 0m 0s)Loss: 0.6604(0.4210)Grad: 0.7159  \n",
      "EVAL: [0/21] Data 0.106 (0.106) Elapsed 0m 0s (remain 0m 2s) Loss: 0.4147(0.4147) \n"
     ]
    },
    {
     "name": "stderr",
     "output_type": "stream",
     "text": [
      "Epoch 12 - avg_train_loss: 0.4210 avg_val_loss: 0.3923 time: 1s\n",
      "Epoch 12 - Accuracy: 0.8929181697360926\n",
      "Epoch 12 - Save Best Score: 0.8929 Mpdel\n"
     ]
    },
    {
     "name": "stdout",
     "output_type": "stream",
     "text": [
      "EVAL: [20/21] Data 0.002 (0.007) Elapsed 0m 0s (remain 0m 0s) Loss: 0.3205(0.3923) \n",
      "Epoch: [13][0/83]Data 0.108 (0.108)Elapsed 0m 0s (remain 0m 9s)Loss: 0.4155(0.4155)Grad: 0.1906  \n",
      "Epoch: [13][82/83]Data 0.000 (0.004)Elapsed 0m 0s (remain 0m 0s)Loss: 0.3421(0.4174)Grad: 0.3047  \n",
      "EVAL: [0/21] Data 0.088 (0.088) Elapsed 0m 0s (remain 0m 1s) Loss: 0.4127(0.4127) \n"
     ]
    },
    {
     "name": "stderr",
     "output_type": "stream",
     "text": [
      "Epoch 13 - avg_train_loss: 0.4174 avg_val_loss: 0.3900 time: 1s\n",
      "Epoch 13 - Accuracy: 0.8923485855325612\n"
     ]
    },
    {
     "name": "stdout",
     "output_type": "stream",
     "text": [
      "EVAL: [20/21] Data 0.000 (0.007) Elapsed 0m 0s (remain 0m 0s) Loss: 0.3224(0.3900) \n",
      "Epoch: [14][0/83]Data 0.098 (0.098)Elapsed 0m 0s (remain 0m 9s)Loss: 0.4152(0.4152)Grad: 0.1565  \n",
      "Epoch: [14][82/83]Data 0.002 (0.004)Elapsed 0m 0s (remain 0m 0s)Loss: 0.4841(0.4183)Grad: 0.3883  \n",
      "EVAL: [0/21] Data 0.109 (0.109) Elapsed 0m 0s (remain 0m 2s) Loss: 0.4122(0.4122) \n"
     ]
    },
    {
     "name": "stderr",
     "output_type": "stream",
     "text": [
      "Epoch 14 - avg_train_loss: 0.4183 avg_val_loss: 0.3892 time: 1s\n",
      "Epoch 14 - Accuracy: 0.8927283083349156\n"
     ]
    },
    {
     "name": "stdout",
     "output_type": "stream",
     "text": [
      "EVAL: [20/21] Data 0.000 (0.009) Elapsed 0m 0s (remain 0m 0s) Loss: 0.3205(0.3892) \n",
      "Epoch: [15][0/83]Data 0.114 (0.114)Elapsed 0m 0s (remain 0m 10s)Loss: 0.3721(0.3721)Grad: 0.2248  \n",
      "Epoch: [15][82/83]Data 0.000 (0.004)Elapsed 0m 0s (remain 0m 0s)Loss: 0.4404(0.4194)Grad: 0.2828  \n",
      "EVAL: [0/21] Data 0.102 (0.102) Elapsed 0m 0s (remain 0m 2s) Loss: 0.4093(0.4093) \n"
     ]
    },
    {
     "name": "stderr",
     "output_type": "stream",
     "text": [
      "Epoch 15 - avg_train_loss: 0.4194 avg_val_loss: 0.3890 time: 1s\n",
      "Epoch 15 - Accuracy: 0.8913992785266756\n"
     ]
    },
    {
     "name": "stdout",
     "output_type": "stream",
     "text": [
      "EVAL: [20/21] Data 0.002 (0.007) Elapsed 0m 0s (remain 0m 0s) Loss: 0.3237(0.3890) \n",
      "Epoch: [16][0/83]Data 0.109 (0.109)Elapsed 0m 0s (remain 0m 9s)Loss: 0.4428(0.4428)Grad: 0.1973  \n",
      "Epoch: [16][82/83]Data 0.000 (0.004)Elapsed 0m 0s (remain 0m 0s)Loss: 0.3845(0.4136)Grad: 0.3017  \n",
      "EVAL: [0/21] Data 0.115 (0.115) Elapsed 0m 0s (remain 0m 2s) Loss: 0.4090(0.4090) \n"
     ]
    },
    {
     "name": "stderr",
     "output_type": "stream",
     "text": [
      "Epoch 16 - avg_train_loss: 0.4136 avg_val_loss: 0.3870 time: 1s\n",
      "Epoch 16 - Accuracy: 0.8921587241313841\n"
     ]
    },
    {
     "name": "stdout",
     "output_type": "stream",
     "text": [
      "EVAL: [20/21] Data 0.000 (0.009) Elapsed 0m 0s (remain 0m 0s) Loss: 0.3216(0.3870) \n",
      "Epoch: [17][0/83]Data 0.118 (0.118)Elapsed 0m 0s (remain 0m 10s)Loss: 0.3125(0.3125)Grad: 0.1924  \n",
      "Epoch: [17][82/83]Data 0.002 (0.004)Elapsed 0m 0s (remain 0m 0s)Loss: 0.4141(0.4092)Grad: 0.3208  \n",
      "EVAL: [0/21] Data 0.097 (0.097) Elapsed 0m 0s (remain 0m 2s) Loss: 0.4103(0.4103) \n"
     ]
    },
    {
     "name": "stderr",
     "output_type": "stream",
     "text": [
      "Epoch 17 - avg_train_loss: 0.4092 avg_val_loss: 0.3868 time: 1s\n",
      "Epoch 17 - Accuracy: 0.8919688627302069\n"
     ]
    },
    {
     "name": "stdout",
     "output_type": "stream",
     "text": [
      "EVAL: [20/21] Data 0.000 (0.008) Elapsed 0m 0s (remain 0m 0s) Loss: 0.3210(0.3868) \n",
      "Epoch: [18][0/83]Data 0.105 (0.105)Elapsed 0m 0s (remain 0m 9s)Loss: 0.3652(0.3652)Grad: 0.1426  \n",
      "Epoch: [18][82/83]Data 0.002 (0.004)Elapsed 0m 0s (remain 0m 0s)Loss: 0.4817(0.4109)Grad: 0.2932  \n",
      "EVAL: [0/21] Data 0.107 (0.107) Elapsed 0m 0s (remain 0m 2s) Loss: 0.4100(0.4100) \n"
     ]
    },
    {
     "name": "stderr",
     "output_type": "stream",
     "text": [
      "Epoch 18 - avg_train_loss: 0.4109 avg_val_loss: 0.3869 time: 1s\n",
      "Epoch 18 - Accuracy: 0.8913992785266756\n"
     ]
    },
    {
     "name": "stdout",
     "output_type": "stream",
     "text": [
      "EVAL: [20/21] Data 0.000 (0.008) Elapsed 0m 0s (remain 0m 0s) Loss: 0.3221(0.3869) \n",
      "Epoch: [19][0/83]Data 0.108 (0.108)Elapsed 0m 0s (remain 0m 9s)Loss: 0.4237(0.4237)Grad: 0.2131  \n",
      "Epoch: [19][82/83]Data 0.000 (0.004)Elapsed 0m 0s (remain 0m 0s)Loss: 0.4834(0.4113)Grad: 0.3949  \n",
      "EVAL: [0/21] Data 0.100 (0.100) Elapsed 0m 0s (remain 0m 2s) Loss: 0.4097(0.4097) \n"
     ]
    },
    {
     "name": "stderr",
     "output_type": "stream",
     "text": [
      "Epoch 19 - avg_train_loss: 0.4113 avg_val_loss: 0.3867 time: 1s\n",
      "Epoch 19 - Accuracy: 0.8913992785266756\n"
     ]
    },
    {
     "name": "stdout",
     "output_type": "stream",
     "text": [
      "EVAL: [20/21] Data 0.000 (0.007) Elapsed 0m 0s (remain 0m 0s) Loss: 0.3219(0.3867) \n",
      "Epoch: [20][0/83]Data 0.122 (0.122)Elapsed 0m 0s (remain 0m 10s)Loss: 0.2751(0.2751)Grad: 0.2151  \n",
      "Epoch: [20][82/83]Data 0.002 (0.004)Elapsed 0m 0s (remain 0m 0s)Loss: 0.4899(0.4139)Grad: 0.3596  \n",
      "EVAL: [0/21] Data 0.096 (0.096) Elapsed 0m 0s (remain 0m 2s) Loss: 0.4096(0.4096) \n"
     ]
    },
    {
     "name": "stderr",
     "output_type": "stream",
     "text": [
      "Epoch 20 - avg_train_loss: 0.4139 avg_val_loss: 0.3867 time: 1s\n",
      "Epoch 20 - Accuracy: 0.8913992785266756\n"
     ]
    },
    {
     "name": "stdout",
     "output_type": "stream",
     "text": [
      "EVAL: [20/21] Data 0.000 (0.008) Elapsed 0m 0s (remain 0m 0s) Loss: 0.3220(0.3867) \n",
      "Epoch: [21][0/83]Data 0.110 (0.110)Elapsed 0m 0s (remain 0m 9s)Loss: 0.4431(0.4431)Grad: 0.1756  \n",
      "Epoch: [21][82/83]Data 0.002 (0.004)Elapsed 0m 0s (remain 0m 0s)Loss: 0.4606(0.4112)Grad: 0.4902  \n",
      "EVAL: [0/21] Data 0.116 (0.116) Elapsed 0m 0s (remain 0m 2s) Loss: 0.4091(0.4091) \n"
     ]
    },
    {
     "name": "stderr",
     "output_type": "stream",
     "text": [
      "Epoch 21 - avg_train_loss: 0.4112 avg_val_loss: 0.3863 time: 1s\n",
      "Epoch 21 - Accuracy: 0.8921587241313841\n"
     ]
    },
    {
     "name": "stdout",
     "output_type": "stream",
     "text": [
      "EVAL: [20/21] Data 0.000 (0.009) Elapsed 0m 0s (remain 0m 0s) Loss: 0.3238(0.3863) \n",
      "Epoch: [22][0/83]Data 0.155 (0.155)Elapsed 0m 0s (remain 0m 14s)Loss: 0.3564(0.3564)Grad: 0.1538  \n",
      "Epoch: [22][82/83]Data 0.002 (0.005)Elapsed 0m 1s (remain 0m 0s)Loss: 0.2905(0.4103)Grad: 0.2808  \n",
      "EVAL: [0/21] Data 0.099 (0.099) Elapsed 0m 0s (remain 0m 2s) Loss: 0.4085(0.4085) \n"
     ]
    },
    {
     "name": "stderr",
     "output_type": "stream",
     "text": [
      "Epoch 22 - avg_train_loss: 0.4103 avg_val_loss: 0.3857 time: 1s\n",
      "Epoch 22 - Accuracy: 0.8923485855325612\n"
     ]
    },
    {
     "name": "stdout",
     "output_type": "stream",
     "text": [
      "EVAL: [20/21] Data 0.000 (0.008) Elapsed 0m 0s (remain 0m 0s) Loss: 0.3251(0.3857) \n",
      "Epoch: [23][0/83]Data 0.101 (0.101)Elapsed 0m 0s (remain 0m 9s)Loss: 0.3721(0.3721)Grad: 0.1784  \n",
      "Epoch: [23][82/83]Data 0.000 (0.004)Elapsed 0m 0s (remain 0m 0s)Loss: 0.3887(0.4083)Grad: 0.3277  \n",
      "EVAL: [0/21] Data 0.116 (0.116) Elapsed 0m 0s (remain 0m 2s) Loss: 0.4097(0.4097) \n"
     ]
    },
    {
     "name": "stderr",
     "output_type": "stream",
     "text": [
      "Epoch 23 - avg_train_loss: 0.4083 avg_val_loss: 0.3841 time: 1s\n",
      "Epoch 23 - Accuracy: 0.8917790013290298\n"
     ]
    },
    {
     "name": "stdout",
     "output_type": "stream",
     "text": [
      "EVAL: [20/21] Data 0.002 (0.009) Elapsed 0m 0s (remain 0m 0s) Loss: 0.3250(0.3841) \n",
      "Epoch: [24][0/83]Data 0.112 (0.112)Elapsed 0m 0s (remain 0m 10s)Loss: 0.3414(0.3414)Grad: 0.1840  \n",
      "Epoch: [24][82/83]Data 0.000 (0.004)Elapsed 0m 0s (remain 0m 0s)Loss: 0.3585(0.4085)Grad: 0.2617  \n",
      "EVAL: [0/21] Data 0.130 (0.130) Elapsed 0m 0s (remain 0m 2s) Loss: 0.4099(0.4099) \n"
     ]
    },
    {
     "name": "stderr",
     "output_type": "stream",
     "text": [
      "Epoch 24 - avg_train_loss: 0.4085 avg_val_loss: 0.3845 time: 1s\n",
      "Epoch 24 - Accuracy: 0.8921587241313841\n"
     ]
    },
    {
     "name": "stdout",
     "output_type": "stream",
     "text": [
      "EVAL: [20/21] Data 0.000 (0.012) Elapsed 0m 0s (remain 0m 0s) Loss: 0.3246(0.3845) \n",
      "Epoch: [25][0/83]Data 0.114 (0.114)Elapsed 0m 0s (remain 0m 10s)Loss: 0.3385(0.3385)Grad: 0.1692  \n",
      "Epoch: [25][82/83]Data 0.000 (0.004)Elapsed 0m 0s (remain 0m 0s)Loss: 0.6937(0.4063)Grad: 0.4482  \n",
      "EVAL: [0/21] Data 0.110 (0.110) Elapsed 0m 0s (remain 0m 2s) Loss: 0.4082(0.4082) \n"
     ]
    },
    {
     "name": "stderr",
     "output_type": "stream",
     "text": [
      "Epoch 25 - avg_train_loss: 0.4063 avg_val_loss: 0.3831 time: 1s\n",
      "Epoch 25 - Accuracy: 0.8917790013290298\n"
     ]
    },
    {
     "name": "stdout",
     "output_type": "stream",
     "text": [
      "EVAL: [20/21] Data 0.000 (0.007) Elapsed 0m 0s (remain 0m 0s) Loss: 0.3231(0.3831) \n",
      "Epoch: [26][0/83]Data 0.095 (0.095)Elapsed 0m 0s (remain 0m 9s)Loss: 0.3647(0.3647)Grad: 0.1690  \n",
      "Epoch: [26][82/83]Data 0.000 (0.004)Elapsed 0m 0s (remain 0m 0s)Loss: 0.3132(0.4055)Grad: 0.2880  \n",
      "EVAL: [0/21] Data 0.107 (0.107) Elapsed 0m 0s (remain 0m 2s) Loss: 0.4075(0.4075) \n"
     ]
    },
    {
     "name": "stderr",
     "output_type": "stream",
     "text": [
      "Epoch 26 - avg_train_loss: 0.4055 avg_val_loss: 0.3834 time: 1s\n",
      "Epoch 26 - Accuracy: 0.8921587241313841\n"
     ]
    },
    {
     "name": "stdout",
     "output_type": "stream",
     "text": [
      "EVAL: [20/21] Data 0.000 (0.008) Elapsed 0m 0s (remain 0m 0s) Loss: 0.3250(0.3834) \n",
      "Epoch: [27][0/83]Data 0.094 (0.094)Elapsed 0m 0s (remain 0m 8s)Loss: 0.4215(0.4215)Grad: 0.1758  \n",
      "Epoch: [27][82/83]Data 0.000 (0.004)Elapsed 0m 0s (remain 0m 0s)Loss: 0.5679(0.4036)Grad: 0.3642  \n",
      "EVAL: [0/21] Data 0.114 (0.114) Elapsed 0m 0s (remain 0m 2s) Loss: 0.4072(0.4072) \n"
     ]
    },
    {
     "name": "stderr",
     "output_type": "stream",
     "text": [
      "Epoch 27 - avg_train_loss: 0.4036 avg_val_loss: 0.3822 time: 1s\n",
      "Epoch 27 - Accuracy: 0.8927283083349156\n"
     ]
    },
    {
     "name": "stdout",
     "output_type": "stream",
     "text": [
      "EVAL: [20/21] Data 0.000 (0.008) Elapsed 0m 0s (remain 0m 0s) Loss: 0.3242(0.3822) \n",
      "Epoch: [28][0/83]Data 0.110 (0.110)Elapsed 0m 0s (remain 0m 9s)Loss: 0.3750(0.3750)Grad: 0.1736  \n",
      "Epoch: [28][82/83]Data 0.000 (0.004)Elapsed 0m 0s (remain 0m 0s)Loss: 0.3130(0.4034)Grad: 0.3604  \n",
      "EVAL: [0/21] Data 0.094 (0.094) Elapsed 0m 0s (remain 0m 1s) Loss: 0.4064(0.4064) \n"
     ]
    },
    {
     "name": "stderr",
     "output_type": "stream",
     "text": [
      "Epoch 28 - avg_train_loss: 0.4034 avg_val_loss: 0.3824 time: 1s\n",
      "Epoch 28 - Accuracy: 0.8917790013290298\n"
     ]
    },
    {
     "name": "stdout",
     "output_type": "stream",
     "text": [
      "EVAL: [20/21] Data 0.000 (0.009) Elapsed 0m 0s (remain 0m 0s) Loss: 0.3247(0.3824) \n",
      "Epoch: [29][0/83]Data 0.112 (0.112)Elapsed 0m 0s (remain 0m 10s)Loss: 0.3756(0.3756)Grad: 0.1875  \n",
      "Epoch: [29][82/83]Data 0.000 (0.004)Elapsed 0m 0s (remain 0m 0s)Loss: 0.3799(0.4043)Grad: 0.2978  \n",
      "EVAL: [0/21] Data 0.111 (0.111) Elapsed 0m 0s (remain 0m 2s) Loss: 0.4068(0.4068) \n"
     ]
    },
    {
     "name": "stderr",
     "output_type": "stream",
     "text": [
      "Epoch 29 - avg_train_loss: 0.4043 avg_val_loss: 0.3818 time: 1s\n",
      "Epoch 29 - Accuracy: 0.8919688627302069\n"
     ]
    },
    {
     "name": "stdout",
     "output_type": "stream",
     "text": [
      "EVAL: [20/21] Data 0.002 (0.008) Elapsed 0m 0s (remain 0m 0s) Loss: 0.3235(0.3818) \n",
      "Epoch: [30][0/83]Data 0.112 (0.112)Elapsed 0m 0s (remain 0m 10s)Loss: 0.3977(0.3977)Grad: 0.2390  \n",
      "Epoch: [30][82/83]Data 0.000 (0.004)Elapsed 0m 0s (remain 0m 0s)Loss: 0.4920(0.4015)Grad: 0.5322  \n",
      "EVAL: [0/21] Data 0.108 (0.108) Elapsed 0m 0s (remain 0m 2s) Loss: 0.4067(0.4067) \n"
     ]
    },
    {
     "name": "stderr",
     "output_type": "stream",
     "text": [
      "Epoch 30 - avg_train_loss: 0.4015 avg_val_loss: 0.3818 time: 1s\n",
      "Epoch 30 - Accuracy: 0.8919688627302069\n",
      "=============== fold: 2 result ================\n",
      "Score: 0.89292\n",
      "========== fold: 3 training ============\n"
     ]
    },
    {
     "name": "stdout",
     "output_type": "stream",
     "text": [
      "EVAL: [20/21] Data 0.000 (0.008) Elapsed 0m 0s (remain 0m 0s) Loss: 0.3236(0.3818) \n",
      "Epoch: [1][0/83]Data 0.102 (0.102)Elapsed 0m 0s (remain 0m 9s)Loss: 1.6428(1.6428)Grad: 0.7508  \n",
      "Epoch: [1][82/83]Data 0.000 (0.004)Elapsed 0m 0s (remain 0m 0s)Loss: 1.1050(1.2563)Grad: 0.5197  \n",
      "EVAL: [0/21] Data 0.090 (0.090) Elapsed 0m 0s (remain 0m 1s) Loss: 0.9160(0.9160) \n"
     ]
    },
    {
     "name": "stderr",
     "output_type": "stream",
     "text": [
      "Epoch 1 - avg_train_loss: 1.2563 avg_val_loss: 0.9001 time: 1s\n",
      "Epoch 1 - Accuracy: 0.587051452439719\n",
      "Epoch 1 - Save Best Score: 0.5871 Mpdel\n"
     ]
    },
    {
     "name": "stdout",
     "output_type": "stream",
     "text": [
      "EVAL: [20/21] Data 0.000 (0.009) Elapsed 0m 0s (remain 0m 0s) Loss: 1.0817(0.9001) \n",
      "Epoch: [2][0/83]Data 0.111 (0.111)Elapsed 0m 0s (remain 0m 9s)Loss: 0.8787(0.8787)Grad: 0.5109  \n",
      "Epoch: [2][82/83]Data 0.000 (0.004)Elapsed 0m 0s (remain 0m 0s)Loss: 0.4474(0.7042)Grad: 0.2990  \n",
      "EVAL: [0/21] Data 0.103 (0.103) Elapsed 0m 0s (remain 0m 2s) Loss: 0.5309(0.5309) \n"
     ]
    },
    {
     "name": "stderr",
     "output_type": "stream",
     "text": [
      "Epoch 2 - avg_train_loss: 0.7042 avg_val_loss: 0.4906 time: 1s\n",
      "Epoch 2 - Accuracy: 0.886652743497247\n",
      "Epoch 2 - Save Best Score: 0.8867 Mpdel\n"
     ]
    },
    {
     "name": "stdout",
     "output_type": "stream",
     "text": [
      "EVAL: [20/21] Data 0.000 (0.008) Elapsed 0m 0s (remain 0m 0s) Loss: 0.6075(0.4906) \n",
      "Epoch: [3][0/83]Data 0.112 (0.112)Elapsed 0m 0s (remain 0m 9s)Loss: 0.4904(0.4904)Grad: 0.3306  \n",
      "Epoch: [3][82/83]Data 0.000 (0.004)Elapsed 0m 0s (remain 0m 0s)Loss: 0.2780(0.4802)Grad: 0.2701  \n",
      "EVAL: [0/21] Data 0.103 (0.103) Elapsed 0m 0s (remain 0m 2s) Loss: 0.4596(0.4596) \n"
     ]
    },
    {
     "name": "stderr",
     "output_type": "stream",
     "text": [
      "Epoch 3 - avg_train_loss: 0.4802 avg_val_loss: 0.3973 time: 1s\n",
      "Epoch 3 - Accuracy: 0.8906398329219669\n",
      "Epoch 3 - Save Best Score: 0.8906 Mpdel\n"
     ]
    },
    {
     "name": "stdout",
     "output_type": "stream",
     "text": [
      "EVAL: [20/21] Data 0.002 (0.008) Elapsed 0m 0s (remain 0m 0s) Loss: 0.5122(0.3973) \n",
      "Epoch: [4][0/83]Data 0.096 (0.096)Elapsed 0m 0s (remain 0m 9s)Loss: 0.4925(0.4925)Grad: 0.1629  \n",
      "Epoch: [4][82/83]Data 0.000 (0.004)Elapsed 0m 0s (remain 0m 0s)Loss: 0.3957(0.4404)Grad: 0.3012  \n",
      "EVAL: [0/21] Data 0.101 (0.101) Elapsed 0m 0s (remain 0m 2s) Loss: 0.4556(0.4556) \n"
     ]
    },
    {
     "name": "stderr",
     "output_type": "stream",
     "text": [
      "Epoch 4 - avg_train_loss: 0.4404 avg_val_loss: 0.3853 time: 1s\n",
      "Epoch 4 - Accuracy: 0.8919688627302069\n",
      "Epoch 4 - Save Best Score: 0.8920 Mpdel\n"
     ]
    },
    {
     "name": "stdout",
     "output_type": "stream",
     "text": [
      "EVAL: [20/21] Data 0.000 (0.009) Elapsed 0m 0s (remain 0m 0s) Loss: 0.5100(0.3853) \n",
      "Epoch: [5][0/83]Data 0.120 (0.120)Elapsed 0m 0s (remain 0m 10s)Loss: 0.3956(0.3956)Grad: 0.2147  \n",
      "Epoch: [5][82/83]Data 0.000 (0.004)Elapsed 0m 0s (remain 0m 0s)Loss: 0.5892(0.4300)Grad: 0.4320  \n",
      "EVAL: [0/21] Data 0.123 (0.123) Elapsed 0m 0s (remain 0m 2s) Loss: 0.4539(0.4539) \n"
     ]
    },
    {
     "name": "stderr",
     "output_type": "stream",
     "text": [
      "Epoch 5 - avg_train_loss: 0.4300 avg_val_loss: 0.3813 time: 1s\n",
      "Epoch 5 - Accuracy: 0.8917790013290298\n"
     ]
    },
    {
     "name": "stdout",
     "output_type": "stream",
     "text": [
      "EVAL: [20/21] Data 0.002 (0.009) Elapsed 0m 0s (remain 0m 0s) Loss: 0.5104(0.3813) \n",
      "Epoch: [6][0/83]Data 0.094 (0.094)Elapsed 0m 0s (remain 0m 8s)Loss: 0.5213(0.5213)Grad: 0.1269  \n",
      "Epoch: [6][82/83]Data 0.002 (0.004)Elapsed 0m 0s (remain 0m 0s)Loss: 0.3529(0.4280)Grad: 0.2509  \n",
      "EVAL: [0/21] Data 0.108 (0.108) Elapsed 0m 0s (remain 0m 2s) Loss: 0.4535(0.4535) \n"
     ]
    },
    {
     "name": "stderr",
     "output_type": "stream",
     "text": [
      "Epoch 6 - avg_train_loss: 0.4280 avg_val_loss: 0.3803 time: 1s\n",
      "Epoch 6 - Accuracy: 0.8912094171254984\n"
     ]
    },
    {
     "name": "stdout",
     "output_type": "stream",
     "text": [
      "EVAL: [20/21] Data 0.000 (0.008) Elapsed 0m 0s (remain 0m 0s) Loss: 0.5170(0.3803) \n",
      "Epoch: [7][0/83]Data 0.105 (0.105)Elapsed 0m 0s (remain 0m 9s)Loss: 0.4301(0.4301)Grad: 0.1778  \n",
      "Epoch: [7][82/83]Data 0.002 (0.004)Elapsed 0m 0s (remain 0m 0s)Loss: 0.4034(0.4273)Grad: 0.3346  \n",
      "EVAL: [0/21] Data 0.117 (0.117) Elapsed 0m 0s (remain 0m 2s) Loss: 0.4534(0.4534) \n"
     ]
    },
    {
     "name": "stderr",
     "output_type": "stream",
     "text": [
      "Epoch 7 - avg_train_loss: 0.4273 avg_val_loss: 0.3793 time: 1s\n",
      "Epoch 7 - Accuracy: 0.8915891399278527\n"
     ]
    },
    {
     "name": "stdout",
     "output_type": "stream",
     "text": [
      "EVAL: [20/21] Data 0.000 (0.008) Elapsed 0m 0s (remain 0m 0s) Loss: 0.5167(0.3793) \n",
      "Epoch: [8][0/83]Data 0.113 (0.113)Elapsed 0m 0s (remain 0m 9s)Loss: 0.4443(0.4443)Grad: 0.1844  \n",
      "Epoch: [8][82/83]Data 0.000 (0.004)Elapsed 0m 0s (remain 0m 0s)Loss: 0.5282(0.4260)Grad: 0.3051  \n",
      "EVAL: [0/21] Data 0.117 (0.117) Elapsed 0m 0s (remain 0m 2s) Loss: 0.4538(0.4538) \n"
     ]
    },
    {
     "name": "stderr",
     "output_type": "stream",
     "text": [
      "Epoch 8 - avg_train_loss: 0.4260 avg_val_loss: 0.3787 time: 1s\n",
      "Epoch 8 - Accuracy: 0.8921587241313841\n",
      "Epoch 8 - Save Best Score: 0.8922 Mpdel\n"
     ]
    },
    {
     "name": "stdout",
     "output_type": "stream",
     "text": [
      "EVAL: [20/21] Data 0.000 (0.009) Elapsed 0m 0s (remain 0m 0s) Loss: 0.5166(0.3787) \n",
      "Epoch: [9][0/83]Data 0.110 (0.110)Elapsed 0m 0s (remain 0m 9s)Loss: 0.3375(0.3375)Grad: 0.1565  \n",
      "Epoch: [9][82/83]Data 0.000 (0.004)Elapsed 0m 0s (remain 0m 0s)Loss: 0.3693(0.4267)Grad: 0.2432  \n",
      "EVAL: [0/21] Data 0.098 (0.098) Elapsed 0m 0s (remain 0m 2s) Loss: 0.4537(0.4537) \n"
     ]
    },
    {
     "name": "stderr",
     "output_type": "stream",
     "text": [
      "Epoch 9 - avg_train_loss: 0.4267 avg_val_loss: 0.3787 time: 1s\n",
      "Epoch 9 - Accuracy: 0.8919688627302069\n"
     ]
    },
    {
     "name": "stdout",
     "output_type": "stream",
     "text": [
      "EVAL: [20/21] Data 0.000 (0.008) Elapsed 0m 0s (remain 0m 0s) Loss: 0.5181(0.3787) \n",
      "Epoch: [10][0/83]Data 0.113 (0.113)Elapsed 0m 0s (remain 0m 10s)Loss: 0.4654(0.4654)Grad: 0.2119  \n",
      "Epoch: [10][82/83]Data 0.000 (0.004)Elapsed 0m 0s (remain 0m 0s)Loss: 0.2988(0.4259)Grad: 0.2405  \n",
      "EVAL: [0/21] Data 0.099 (0.099) Elapsed 0m 0s (remain 0m 2s) Loss: 0.4536(0.4536) \n"
     ]
    },
    {
     "name": "stderr",
     "output_type": "stream",
     "text": [
      "Epoch 10 - avg_train_loss: 0.4259 avg_val_loss: 0.3786 time: 1s\n",
      "Epoch 10 - Accuracy: 0.8919688627302069\n"
     ]
    },
    {
     "name": "stdout",
     "output_type": "stream",
     "text": [
      "EVAL: [20/21] Data 0.000 (0.008) Elapsed 0m 0s (remain 0m 0s) Loss: 0.5180(0.3786) \n",
      "Epoch: [11][0/83]Data 0.118 (0.118)Elapsed 0m 0s (remain 0m 10s)Loss: 0.5007(0.5007)Grad: 0.1985  \n",
      "Epoch: [11][82/83]Data 0.000 (0.004)Elapsed 0m 0s (remain 0m 0s)Loss: 0.4606(0.4250)Grad: 0.3272  \n",
      "EVAL: [0/21] Data 0.112 (0.112) Elapsed 0m 0s (remain 0m 2s) Loss: 0.4539(0.4539) \n"
     ]
    },
    {
     "name": "stderr",
     "output_type": "stream",
     "text": [
      "Epoch 11 - avg_train_loss: 0.4250 avg_val_loss: 0.3782 time: 1s\n",
      "Epoch 11 - Accuracy: 0.8921587241313841\n"
     ]
    },
    {
     "name": "stdout",
     "output_type": "stream",
     "text": [
      "EVAL: [20/21] Data 0.000 (0.009) Elapsed 0m 0s (remain 0m 0s) Loss: 0.5230(0.3782) \n",
      "Epoch: [12][0/83]Data 0.113 (0.113)Elapsed 0m 0s (remain 0m 10s)Loss: 0.3495(0.3495)Grad: 0.2414  \n",
      "Epoch: [12][82/83]Data 0.000 (0.004)Elapsed 0m 0s (remain 0m 0s)Loss: 0.8538(0.4257)Grad: 0.5391  \n",
      "EVAL: [0/21] Data 0.114 (0.114) Elapsed 0m 0s (remain 0m 2s) Loss: 0.4554(0.4554) \n"
     ]
    },
    {
     "name": "stderr",
     "output_type": "stream",
     "text": [
      "Epoch 12 - avg_train_loss: 0.4257 avg_val_loss: 0.3767 time: 1s\n",
      "Epoch 12 - Accuracy: 0.8925384469337384\n",
      "Epoch 12 - Save Best Score: 0.8925 Mpdel\n"
     ]
    },
    {
     "name": "stdout",
     "output_type": "stream",
     "text": [
      "EVAL: [20/21] Data 0.002 (0.008) Elapsed 0m 0s (remain 0m 0s) Loss: 0.5247(0.3767) \n",
      "Epoch: [13][0/83]Data 0.101 (0.101)Elapsed 0m 0s (remain 0m 9s)Loss: 0.4332(0.4332)Grad: 0.1687  \n",
      "Epoch: [13][82/83]Data 0.000 (0.004)Elapsed 0m 0s (remain 0m 0s)Loss: 0.3744(0.4234)Grad: 0.2807  \n",
      "EVAL: [0/21] Data 0.103 (0.103) Elapsed 0m 0s (remain 0m 2s) Loss: 0.4549(0.4549) \n"
     ]
    },
    {
     "name": "stderr",
     "output_type": "stream",
     "text": [
      "Epoch 13 - avg_train_loss: 0.4234 avg_val_loss: 0.3761 time: 1s\n",
      "Epoch 13 - Accuracy: 0.8929181697360926\n",
      "Epoch 13 - Save Best Score: 0.8929 Mpdel\n"
     ]
    },
    {
     "name": "stdout",
     "output_type": "stream",
     "text": [
      "EVAL: [20/21] Data 0.000 (0.007) Elapsed 0m 0s (remain 0m 0s) Loss: 0.5255(0.3761) \n",
      "Epoch: [14][0/83]Data 0.112 (0.112)Elapsed 0m 0s (remain 0m 9s)Loss: 0.4102(0.4102)Grad: 0.1552  \n",
      "Epoch: [14][82/83]Data 0.002 (0.004)Elapsed 0m 0s (remain 0m 0s)Loss: 0.5465(0.4219)Grad: 0.4494  \n",
      "EVAL: [0/21] Data 0.114 (0.114) Elapsed 0m 0s (remain 0m 2s) Loss: 0.4544(0.4544) \n"
     ]
    },
    {
     "name": "stderr",
     "output_type": "stream",
     "text": [
      "Epoch 14 - avg_train_loss: 0.4219 avg_val_loss: 0.3761 time: 1s\n",
      "Epoch 14 - Accuracy: 0.8927283083349156\n"
     ]
    },
    {
     "name": "stdout",
     "output_type": "stream",
     "text": [
      "EVAL: [20/21] Data 0.000 (0.007) Elapsed 0m 0s (remain 0m 0s) Loss: 0.5308(0.3761) \n",
      "Epoch: [15][0/83]Data 0.097 (0.097)Elapsed 0m 0s (remain 0m 9s)Loss: 0.3702(0.3702)Grad: 0.1568  \n",
      "Epoch: [15][82/83]Data 0.000 (0.004)Elapsed 0m 0s (remain 0m 0s)Loss: 0.4452(0.4174)Grad: 0.2529  \n",
      "EVAL: [0/21] Data 0.116 (0.116) Elapsed 0m 0s (remain 0m 2s) Loss: 0.4541(0.4541) \n"
     ]
    },
    {
     "name": "stderr",
     "output_type": "stream",
     "text": [
      "Epoch 15 - avg_train_loss: 0.4174 avg_val_loss: 0.3758 time: 1s\n",
      "Epoch 15 - Accuracy: 0.8931080311372698\n",
      "Epoch 15 - Save Best Score: 0.8931 Mpdel\n"
     ]
    },
    {
     "name": "stdout",
     "output_type": "stream",
     "text": [
      "EVAL: [20/21] Data 0.002 (0.008) Elapsed 0m 0s (remain 0m 0s) Loss: 0.5292(0.3758) \n",
      "Epoch: [16][0/83]Data 0.105 (0.105)Elapsed 0m 0s (remain 0m 9s)Loss: 0.3543(0.3543)Grad: 0.1453  \n",
      "Epoch: [16][82/83]Data 0.002 (0.004)Elapsed 0m 0s (remain 0m 0s)Loss: 0.4785(0.4173)Grad: 0.3480  \n",
      "EVAL: [0/21] Data 0.094 (0.094) Elapsed 0m 0s (remain 0m 1s) Loss: 0.4528(0.4528) \n"
     ]
    },
    {
     "name": "stderr",
     "output_type": "stream",
     "text": [
      "Epoch 16 - avg_train_loss: 0.4173 avg_val_loss: 0.3745 time: 1s\n",
      "Epoch 16 - Accuracy: 0.8936776153408013\n",
      "Epoch 16 - Save Best Score: 0.8937 Mpdel\n"
     ]
    },
    {
     "name": "stdout",
     "output_type": "stream",
     "text": [
      "EVAL: [20/21] Data 0.000 (0.009) Elapsed 0m 0s (remain 0m 0s) Loss: 0.5250(0.3745) \n",
      "Epoch: [17][0/83]Data 0.101 (0.101)Elapsed 0m 0s (remain 0m 9s)Loss: 0.4303(0.4303)Grad: 0.1773  \n",
      "Epoch: [17][82/83]Data 0.003 (0.004)Elapsed 0m 0s (remain 0m 0s)Loss: 0.4338(0.4154)Grad: 0.2949  \n",
      "EVAL: [0/21] Data 0.103 (0.103) Elapsed 0m 0s (remain 0m 2s) Loss: 0.4538(0.4538) \n"
     ]
    },
    {
     "name": "stderr",
     "output_type": "stream",
     "text": [
      "Epoch 17 - avg_train_loss: 0.4154 avg_val_loss: 0.3743 time: 1s\n",
      "Epoch 17 - Accuracy: 0.8936776153408013\n"
     ]
    },
    {
     "name": "stdout",
     "output_type": "stream",
     "text": [
      "EVAL: [20/21] Data 0.000 (0.007) Elapsed 0m 0s (remain 0m 0s) Loss: 0.5268(0.3743) \n",
      "Epoch: [18][0/83]Data 0.106 (0.106)Elapsed 0m 0s (remain 0m 9s)Loss: 0.5238(0.5238)Grad: 0.1676  \n",
      "Epoch: [18][82/83]Data 0.002 (0.004)Elapsed 0m 0s (remain 0m 0s)Loss: 0.5451(0.4136)Grad: 0.3170  \n",
      "EVAL: [0/21] Data 0.098 (0.098) Elapsed 0m 0s (remain 0m 2s) Loss: 0.4539(0.4539) \n"
     ]
    },
    {
     "name": "stderr",
     "output_type": "stream",
     "text": [
      "Epoch 18 - avg_train_loss: 0.4136 avg_val_loss: 0.3745 time: 1s\n",
      "Epoch 18 - Accuracy: 0.8929181697360926\n"
     ]
    },
    {
     "name": "stdout",
     "output_type": "stream",
     "text": [
      "EVAL: [20/21] Data 0.000 (0.009) Elapsed 0m 0s (remain 0m 0s) Loss: 0.5289(0.3745) \n",
      "Epoch: [19][0/83]Data 0.108 (0.108)Elapsed 0m 0s (remain 0m 9s)Loss: 0.3983(0.3983)Grad: 0.1157  \n",
      "Epoch: [19][82/83]Data 0.000 (0.004)Elapsed 0m 0s (remain 0m 0s)Loss: 0.3751(0.4141)Grad: 0.2819  \n",
      "EVAL: [0/21] Data 0.105 (0.105) Elapsed 0m 0s (remain 0m 2s) Loss: 0.4536(0.4536) \n"
     ]
    },
    {
     "name": "stderr",
     "output_type": "stream",
     "text": [
      "Epoch 19 - avg_train_loss: 0.4141 avg_val_loss: 0.3740 time: 1s\n",
      "Epoch 19 - Accuracy: 0.8934877539396241\n"
     ]
    },
    {
     "name": "stdout",
     "output_type": "stream",
     "text": [
      "EVAL: [20/21] Data 0.000 (0.009) Elapsed 0m 0s (remain 0m 0s) Loss: 0.5272(0.3740) \n",
      "Epoch: [20][0/83]Data 0.096 (0.096)Elapsed 0m 0s (remain 0m 9s)Loss: 0.4471(0.4471)Grad: 0.1346  \n",
      "Epoch: [20][82/83]Data 0.000 (0.004)Elapsed 0m 0s (remain 0m 0s)Loss: 0.3812(0.4144)Grad: 0.3146  \n",
      "EVAL: [0/21] Data 0.126 (0.126) Elapsed 0m 0s (remain 0m 2s) Loss: 0.4536(0.4536) \n"
     ]
    },
    {
     "name": "stderr",
     "output_type": "stream",
     "text": [
      "Epoch 20 - avg_train_loss: 0.4144 avg_val_loss: 0.3740 time: 1s\n",
      "Epoch 20 - Accuracy: 0.8934877539396241\n"
     ]
    },
    {
     "name": "stdout",
     "output_type": "stream",
     "text": [
      "EVAL: [20/21] Data 0.002 (0.010) Elapsed 0m 0s (remain 0m 0s) Loss: 0.5269(0.3740) \n",
      "Epoch: [21][0/83]Data 0.160 (0.160)Elapsed 0m 0s (remain 0m 13s)Loss: 0.5897(0.5897)Grad: 0.2533  \n",
      "Epoch: [21][82/83]Data 0.000 (0.005)Elapsed 0m 1s (remain 0m 0s)Loss: 0.4919(0.4128)Grad: 0.2794  \n",
      "EVAL: [0/21] Data 0.106 (0.106) Elapsed 0m 0s (remain 0m 2s) Loss: 0.4541(0.4541) \n"
     ]
    },
    {
     "name": "stderr",
     "output_type": "stream",
     "text": [
      "Epoch 21 - avg_train_loss: 0.4128 avg_val_loss: 0.3741 time: 1s\n",
      "Epoch 21 - Accuracy: 0.8934877539396241\n"
     ]
    },
    {
     "name": "stdout",
     "output_type": "stream",
     "text": [
      "EVAL: [20/21] Data 0.000 (0.008) Elapsed 0m 0s (remain 0m 0s) Loss: 0.5263(0.3741) \n",
      "Epoch: [22][0/83]Data 0.100 (0.100)Elapsed 0m 0s (remain 0m 9s)Loss: 0.3808(0.3808)Grad: 0.1483  \n",
      "Epoch: [22][82/83]Data 0.002 (0.004)Elapsed 0m 0s (remain 0m 0s)Loss: 0.6316(0.4178)Grad: 0.3311  \n",
      "EVAL: [0/21] Data 0.115 (0.115) Elapsed 0m 0s (remain 0m 2s) Loss: 0.4523(0.4523) \n",
      "EVAL: [20/21] Data 0.000 (0.012) Elapsed 0m 0s (remain 0m 0s) Loss: 0.5231(0.3724) \n"
     ]
    },
    {
     "name": "stderr",
     "output_type": "stream",
     "text": [
      "Epoch 22 - avg_train_loss: 0.4178 avg_val_loss: 0.3724 time: 1s\n",
      "Epoch 22 - Accuracy: 0.8934877539396241\n"
     ]
    },
    {
     "name": "stdout",
     "output_type": "stream",
     "text": [
      "Epoch: [23][0/83]Data 0.117 (0.117)Elapsed 0m 0s (remain 0m 10s)Loss: 0.4396(0.4396)Grad: 0.1294  \n",
      "Epoch: [23][82/83]Data 0.000 (0.004)Elapsed 0m 0s (remain 0m 0s)Loss: 0.2461(0.4131)Grad: 0.2827  \n",
      "EVAL: [0/21] Data 0.096 (0.096) Elapsed 0m 0s (remain 0m 2s) Loss: 0.4514(0.4514) \n"
     ]
    },
    {
     "name": "stderr",
     "output_type": "stream",
     "text": [
      "Epoch 23 - avg_train_loss: 0.4131 avg_val_loss: 0.3717 time: 1s\n",
      "Epoch 23 - Accuracy: 0.8934877539396241\n"
     ]
    },
    {
     "name": "stdout",
     "output_type": "stream",
     "text": [
      "EVAL: [20/21] Data 0.000 (0.007) Elapsed 0m 0s (remain 0m 0s) Loss: 0.5180(0.3717) \n",
      "Epoch: [24][0/83]Data 0.118 (0.118)Elapsed 0m 0s (remain 0m 10s)Loss: 0.3731(0.3731)Grad: 0.1195  \n",
      "Epoch: [24][82/83]Data 0.000 (0.004)Elapsed 0m 0s (remain 0m 0s)Loss: 0.4534(0.4102)Grad: 0.3120  \n",
      "EVAL: [0/21] Data 0.113 (0.113) Elapsed 0m 0s (remain 0m 2s) Loss: 0.4518(0.4518) \n"
     ]
    },
    {
     "name": "stderr",
     "output_type": "stream",
     "text": [
      "Epoch 24 - avg_train_loss: 0.4102 avg_val_loss: 0.3710 time: 1s\n",
      "Epoch 24 - Accuracy: 0.8940573381431555\n",
      "Epoch 24 - Save Best Score: 0.8941 Mpdel\n"
     ]
    },
    {
     "name": "stdout",
     "output_type": "stream",
     "text": [
      "EVAL: [20/21] Data 0.001 (0.009) Elapsed 0m 0s (remain 0m 0s) Loss: 0.5206(0.3710) \n",
      "Epoch: [25][0/83]Data 0.105 (0.105)Elapsed 0m 0s (remain 0m 9s)Loss: 0.4465(0.4465)Grad: 0.1363  \n",
      "Epoch: [25][82/83]Data 0.000 (0.004)Elapsed 0m 0s (remain 0m 0s)Loss: 0.6024(0.4091)Grad: 0.3889  \n",
      "EVAL: [0/21] Data 0.111 (0.111) Elapsed 0m 0s (remain 0m 2s) Loss: 0.4509(0.4509) \n"
     ]
    },
    {
     "name": "stderr",
     "output_type": "stream",
     "text": [
      "Epoch 25 - avg_train_loss: 0.4091 avg_val_loss: 0.3712 time: 1s\n",
      "Epoch 25 - Accuracy: 0.8931080311372698\n"
     ]
    },
    {
     "name": "stdout",
     "output_type": "stream",
     "text": [
      "EVAL: [20/21] Data 0.000 (0.008) Elapsed 0m 0s (remain 0m 0s) Loss: 0.5266(0.3712) \n",
      "Epoch: [26][0/83]Data 0.094 (0.094)Elapsed 0m 0s (remain 0m 9s)Loss: 0.2673(0.2673)Grad: 0.1494  \n",
      "Epoch: [26][82/83]Data 0.000 (0.004)Elapsed 0m 0s (remain 0m 0s)Loss: 0.4432(0.4074)Grad: 0.2673  \n",
      "EVAL: [0/21] Data 0.101 (0.101) Elapsed 0m 0s (remain 0m 2s) Loss: 0.4502(0.4502) \n"
     ]
    },
    {
     "name": "stderr",
     "output_type": "stream",
     "text": [
      "Epoch 26 - avg_train_loss: 0.4074 avg_val_loss: 0.3708 time: 1s\n",
      "Epoch 26 - Accuracy: 0.8931080311372698\n"
     ]
    },
    {
     "name": "stdout",
     "output_type": "stream",
     "text": [
      "EVAL: [20/21] Data 0.002 (0.008) Elapsed 0m 0s (remain 0m 0s) Loss: 0.5245(0.3708) \n",
      "Epoch: [27][0/83]Data 0.121 (0.121)Elapsed 0m 0s (remain 0m 10s)Loss: 0.4308(0.4308)Grad: 0.1388  \n",
      "Epoch: [27][82/83]Data 0.002 (0.004)Elapsed 0m 0s (remain 0m 0s)Loss: 0.5261(0.4099)Grad: 0.3072  \n",
      "EVAL: [0/21] Data 0.077 (0.077) Elapsed 0m 0s (remain 0m 1s) Loss: 0.4494(0.4494) \n"
     ]
    },
    {
     "name": "stderr",
     "output_type": "stream",
     "text": [
      "Epoch 27 - avg_train_loss: 0.4099 avg_val_loss: 0.3697 time: 1s\n",
      "Epoch 27 - Accuracy: 0.8936776153408013\n"
     ]
    },
    {
     "name": "stdout",
     "output_type": "stream",
     "text": [
      "EVAL: [20/21] Data 0.000 (0.009) Elapsed 0m 0s (remain 0m 0s) Loss: 0.5198(0.3697) \n",
      "Epoch: [28][0/83]Data 0.115 (0.115)Elapsed 0m 0s (remain 0m 10s)Loss: 0.4129(0.4129)Grad: 0.1509  \n",
      "Epoch: [28][82/83]Data 0.000 (0.004)Elapsed 0m 0s (remain 0m 0s)Loss: 0.4233(0.4101)Grad: 0.2608  \n",
      "EVAL: [0/21] Data 0.105 (0.105) Elapsed 0m 0s (remain 0m 2s) Loss: 0.4486(0.4486) \n"
     ]
    },
    {
     "name": "stderr",
     "output_type": "stream",
     "text": [
      "Epoch 28 - avg_train_loss: 0.4101 avg_val_loss: 0.3695 time: 1s\n",
      "Epoch 28 - Accuracy: 0.8936776153408013\n"
     ]
    },
    {
     "name": "stdout",
     "output_type": "stream",
     "text": [
      "EVAL: [20/21] Data 0.000 (0.008) Elapsed 0m 0s (remain 0m 0s) Loss: 0.5203(0.3695) \n",
      "Epoch: [29][0/83]Data 0.136 (0.136)Elapsed 0m 0s (remain 0m 13s)Loss: 0.3935(0.3935)Grad: 0.1640  \n",
      "Epoch: [29][82/83]Data 0.000 (0.004)Elapsed 0m 0s (remain 0m 0s)Loss: 0.4464(0.4095)Grad: 0.2901  \n",
      "EVAL: [0/21] Data 0.097 (0.097) Elapsed 0m 0s (remain 0m 2s) Loss: 0.4485(0.4485) \n"
     ]
    },
    {
     "name": "stderr",
     "output_type": "stream",
     "text": [
      "Epoch 29 - avg_train_loss: 0.4095 avg_val_loss: 0.3694 time: 1s\n",
      "Epoch 29 - Accuracy: 0.8934877539396241\n"
     ]
    },
    {
     "name": "stdout",
     "output_type": "stream",
     "text": [
      "EVAL: [20/21] Data 0.000 (0.007) Elapsed 0m 0s (remain 0m 0s) Loss: 0.5197(0.3694) \n",
      "Epoch: [30][0/83]Data 0.119 (0.119)Elapsed 0m 0s (remain 0m 10s)Loss: 0.5464(0.5464)Grad: 0.1719  \n",
      "Epoch: [30][82/83]Data 0.002 (0.004)Elapsed 0m 0s (remain 0m 0s)Loss: 0.3224(0.4085)Grad: 0.2144  \n",
      "EVAL: [0/21] Data 0.099 (0.099) Elapsed 0m 0s (remain 0m 2s) Loss: 0.4485(0.4485) \n"
     ]
    },
    {
     "name": "stderr",
     "output_type": "stream",
     "text": [
      "Epoch 30 - avg_train_loss: 0.4085 avg_val_loss: 0.3694 time: 1s\n",
      "Epoch 30 - Accuracy: 0.8932978925384469\n",
      "=============== fold: 3 result ================\n",
      "Score: 0.89406\n",
      "========== fold: 4 training ============\n"
     ]
    },
    {
     "name": "stdout",
     "output_type": "stream",
     "text": [
      "EVAL: [20/21] Data 0.000 (0.007) Elapsed 0m 0s (remain 0m 0s) Loss: 0.5201(0.3694) \n",
      "Epoch: [1][0/83]Data 0.114 (0.114)Elapsed 0m 0s (remain 0m 10s)Loss: 1.6212(1.6212)Grad: 1.0079  \n",
      "Epoch: [1][82/83]Data 0.000 (0.004)Elapsed 0m 0s (remain 0m 0s)Loss: 0.7268(1.1448)Grad: 0.6513  \n",
      "EVAL: [0/21] Data 0.115 (0.115) Elapsed 0m 0s (remain 0m 2s) Loss: 0.6423(0.6423) \n"
     ]
    },
    {
     "name": "stderr",
     "output_type": "stream",
     "text": [
      "Epoch 1 - avg_train_loss: 1.1448 avg_val_loss: 0.7044 time: 1s\n",
      "Epoch 1 - Accuracy: 0.8486804632618189\n",
      "Epoch 1 - Save Best Score: 0.8487 Mpdel\n"
     ]
    },
    {
     "name": "stdout",
     "output_type": "stream",
     "text": [
      "EVAL: [20/21] Data 0.000 (0.008) Elapsed 0m 0s (remain 0m 0s) Loss: 0.8329(0.7044) \n",
      "Epoch: [2][0/83]Data 0.112 (0.112)Elapsed 0m 0s (remain 0m 9s)Loss: 0.6960(0.6960)Grad: 0.5347  \n",
      "Epoch: [2][82/83]Data 0.002 (0.004)Elapsed 0m 0s (remain 0m 0s)Loss: 0.4119(0.5511)Grad: 0.3766  \n",
      "EVAL: [0/21] Data 0.097 (0.097) Elapsed 0m 0s (remain 0m 2s) Loss: 0.3535(0.3535) \n"
     ]
    },
    {
     "name": "stderr",
     "output_type": "stream",
     "text": [
      "Epoch 2 - avg_train_loss: 0.5511 avg_val_loss: 0.4134 time: 1s\n",
      "Epoch 2 - Accuracy: 0.8895006645149042\n",
      "Epoch 2 - Save Best Score: 0.8895 Mpdel\n"
     ]
    },
    {
     "name": "stdout",
     "output_type": "stream",
     "text": [
      "EVAL: [20/21] Data 0.000 (0.008) Elapsed 0m 0s (remain 0m 0s) Loss: 0.4669(0.4134) \n",
      "Epoch: [3][0/83]Data 0.118 (0.118)Elapsed 0m 0s (remain 0m 10s)Loss: 0.4065(0.4065)Grad: 0.2390  \n",
      "Epoch: [3][82/83]Data 0.002 (0.004)Elapsed 0m 0s (remain 0m 0s)Loss: 0.3430(0.4468)Grad: 0.2865  \n",
      "EVAL: [0/21] Data 0.093 (0.093) Elapsed 0m 0s (remain 0m 1s) Loss: 0.3412(0.3412) \n"
     ]
    },
    {
     "name": "stderr",
     "output_type": "stream",
     "text": [
      "Epoch 3 - avg_train_loss: 0.4468 avg_val_loss: 0.3946 time: 1s\n",
      "Epoch 3 - Accuracy: 0.8900702487184355\n",
      "Epoch 3 - Save Best Score: 0.8901 Mpdel\n"
     ]
    },
    {
     "name": "stdout",
     "output_type": "stream",
     "text": [
      "EVAL: [20/21] Data 0.002 (0.008) Elapsed 0m 0s (remain 0m 0s) Loss: 0.4261(0.3946) \n",
      "Epoch: [4][0/83]Data 0.101 (0.101)Elapsed 0m 0s (remain 0m 9s)Loss: 0.3918(0.3918)Grad: 0.2449  \n",
      "Epoch: [4][82/83]Data 0.002 (0.004)Elapsed 0m 0s (remain 0m 0s)Loss: 0.4112(0.4383)Grad: 0.4163  \n",
      "EVAL: [0/21] Data 0.109 (0.109) Elapsed 0m 0s (remain 0m 2s) Loss: 0.3368(0.3368) \n"
     ]
    },
    {
     "name": "stderr",
     "output_type": "stream",
     "text": [
      "Epoch 4 - avg_train_loss: 0.4383 avg_val_loss: 0.3913 time: 1s\n",
      "Epoch 4 - Accuracy: 0.889310803113727\n"
     ]
    },
    {
     "name": "stdout",
     "output_type": "stream",
     "text": [
      "EVAL: [20/21] Data 0.000 (0.008) Elapsed 0m 0s (remain 0m 0s) Loss: 0.4164(0.3913) \n",
      "Epoch: [5][0/83]Data 0.099 (0.099)Elapsed 0m 0s (remain 0m 8s)Loss: 0.5028(0.5028)Grad: 0.2849  \n",
      "Epoch: [5][82/83]Data 0.000 (0.004)Elapsed 0m 0s (remain 0m 0s)Loss: 0.5388(0.4346)Grad: 0.3635  \n",
      "EVAL: [0/21] Data 0.087 (0.087) Elapsed 0m 0s (remain 0m 1s) Loss: 0.3358(0.3358) \n"
     ]
    },
    {
     "name": "stderr",
     "output_type": "stream",
     "text": [
      "Epoch 5 - avg_train_loss: 0.4346 avg_val_loss: 0.3903 time: 1s\n",
      "Epoch 5 - Accuracy: 0.8898803873172584\n"
     ]
    },
    {
     "name": "stdout",
     "output_type": "stream",
     "text": [
      "EVAL: [20/21] Data 0.000 (0.008) Elapsed 0m 0s (remain 0m 0s) Loss: 0.4122(0.3903) \n",
      "Epoch: [6][0/83]Data 0.115 (0.115)Elapsed 0m 0s (remain 0m 10s)Loss: 0.4453(0.4453)Grad: 0.1355  \n",
      "Epoch: [6][82/83]Data 0.000 (0.004)Elapsed 0m 0s (remain 0m 0s)Loss: 0.4745(0.4333)Grad: 0.4416  \n",
      "EVAL: [0/21] Data 0.100 (0.100) Elapsed 0m 0s (remain 0m 2s) Loss: 0.3355(0.3355) \n"
     ]
    },
    {
     "name": "stderr",
     "output_type": "stream",
     "text": [
      "Epoch 6 - avg_train_loss: 0.4333 avg_val_loss: 0.3896 time: 1s\n",
      "Epoch 6 - Accuracy: 0.8898803873172584\n"
     ]
    },
    {
     "name": "stdout",
     "output_type": "stream",
     "text": [
      "EVAL: [20/21] Data 0.000 (0.008) Elapsed 0m 0s (remain 0m 0s) Loss: 0.4117(0.3896) \n",
      "Epoch: [7][0/83]Data 0.107 (0.107)Elapsed 0m 0s (remain 0m 9s)Loss: 0.5475(0.5475)Grad: 0.1951  \n",
      "Epoch: [7][82/83]Data 0.002 (0.004)Elapsed 0m 0s (remain 0m 0s)Loss: 0.1667(0.4295)Grad: 0.2667  \n",
      "EVAL: [0/21] Data 0.106 (0.106) Elapsed 0m 0s (remain 0m 2s) Loss: 0.3358(0.3358) \n"
     ]
    },
    {
     "name": "stderr",
     "output_type": "stream",
     "text": [
      "Epoch 7 - avg_train_loss: 0.4295 avg_val_loss: 0.3889 time: 1s\n",
      "Epoch 7 - Accuracy: 0.8900702487184355\n"
     ]
    },
    {
     "name": "stdout",
     "output_type": "stream",
     "text": [
      "EVAL: [20/21] Data 0.005 (0.007) Elapsed 0m 0s (remain 0m 0s) Loss: 0.4087(0.3889) \n",
      "Epoch: [8][0/83]Data 0.112 (0.112)Elapsed 0m 0s (remain 0m 9s)Loss: 0.5001(0.5001)Grad: 0.2121  \n",
      "Epoch: [8][82/83]Data 0.000 (0.004)Elapsed 0m 0s (remain 0m 0s)Loss: 0.4112(0.4300)Grad: 0.2656  \n",
      "EVAL: [0/21] Data 0.097 (0.097) Elapsed 0m 0s (remain 0m 2s) Loss: 0.3359(0.3359) \n"
     ]
    },
    {
     "name": "stderr",
     "output_type": "stream",
     "text": [
      "Epoch 8 - avg_train_loss: 0.4300 avg_val_loss: 0.3886 time: 1s\n",
      "Epoch 8 - Accuracy: 0.8902601101196127\n",
      "Epoch 8 - Save Best Score: 0.8903 Mpdel\n"
     ]
    },
    {
     "name": "stdout",
     "output_type": "stream",
     "text": [
      "EVAL: [20/21] Data 0.004 (0.009) Elapsed 0m 0s (remain 0m 0s) Loss: 0.4077(0.3886) \n",
      "Epoch: [9][0/83]Data 0.128 (0.128)Elapsed 0m 0s (remain 0m 11s)Loss: 0.4476(0.4476)Grad: 0.1985  \n",
      "Epoch: [9][82/83]Data 0.000 (0.004)Elapsed 0m 0s (remain 0m 0s)Loss: 0.5332(0.4308)Grad: 0.4245  \n",
      "EVAL: [0/21] Data 0.106 (0.106) Elapsed 0m 0s (remain 0m 2s) Loss: 0.3359(0.3359) \n"
     ]
    },
    {
     "name": "stderr",
     "output_type": "stream",
     "text": [
      "Epoch 9 - avg_train_loss: 0.4308 avg_val_loss: 0.3885 time: 1s\n",
      "Epoch 9 - Accuracy: 0.8902601101196127\n"
     ]
    },
    {
     "name": "stdout",
     "output_type": "stream",
     "text": [
      "EVAL: [20/21] Data 0.000 (0.008) Elapsed 0m 0s (remain 0m 0s) Loss: 0.4076(0.3885) \n",
      "Epoch: [10][0/83]Data 0.099 (0.099)Elapsed 0m 0s (remain 0m 9s)Loss: 0.4424(0.4424)Grad: 0.1478  \n",
      "Epoch: [10][82/83]Data 0.002 (0.004)Elapsed 0m 0s (remain 0m 0s)Loss: 0.2598(0.4304)Grad: 0.2893  \n",
      "EVAL: [0/21] Data 0.099 (0.099) Elapsed 0m 0s (remain 0m 2s) Loss: 0.3359(0.3359) \n"
     ]
    },
    {
     "name": "stderr",
     "output_type": "stream",
     "text": [
      "Epoch 10 - avg_train_loss: 0.4304 avg_val_loss: 0.3885 time: 1s\n",
      "Epoch 10 - Accuracy: 0.8902601101196127\n"
     ]
    },
    {
     "name": "stdout",
     "output_type": "stream",
     "text": [
      "EVAL: [20/21] Data 0.000 (0.008) Elapsed 0m 0s (remain 0m 0s) Loss: 0.4075(0.3885) \n",
      "Epoch: [11][0/83]Data 0.119 (0.119)Elapsed 0m 0s (remain 0m 10s)Loss: 0.3496(0.3496)Grad: 0.1768  \n",
      "Epoch: [11][82/83]Data 0.000 (0.004)Elapsed 0m 0s (remain 0m 0s)Loss: 0.3862(0.4304)Grad: 0.5111  \n",
      "EVAL: [0/21] Data 0.115 (0.115) Elapsed 0m 0s (remain 0m 2s) Loss: 0.3352(0.3352) \n"
     ]
    },
    {
     "name": "stderr",
     "output_type": "stream",
     "text": [
      "Epoch 11 - avg_train_loss: 0.4304 avg_val_loss: 0.3877 time: 1s\n",
      "Epoch 11 - Accuracy: 0.8906398329219669\n",
      "Epoch 11 - Save Best Score: 0.8906 Mpdel\n"
     ]
    },
    {
     "name": "stdout",
     "output_type": "stream",
     "text": [
      "EVAL: [20/21] Data 0.003 (0.009) Elapsed 0m 0s (remain 0m 0s) Loss: 0.4074(0.3877) \n",
      "Epoch: [12][0/83]Data 0.120 (0.120)Elapsed 0m 0s (remain 0m 10s)Loss: 0.4871(0.4871)Grad: 0.2736  \n",
      "Epoch: [12][82/83]Data 0.000 (0.004)Elapsed 0m 0s (remain 0m 0s)Loss: 0.2797(0.4305)Grad: 0.3353  \n",
      "EVAL: [0/21] Data 0.106 (0.106) Elapsed 0m 0s (remain 0m 2s) Loss: 0.3324(0.3324) \n"
     ]
    },
    {
     "name": "stderr",
     "output_type": "stream",
     "text": [
      "Epoch 12 - avg_train_loss: 0.4305 avg_val_loss: 0.3877 time: 1s\n",
      "Epoch 12 - Accuracy: 0.8908296943231441\n",
      "Epoch 12 - Save Best Score: 0.8908 Mpdel\n"
     ]
    },
    {
     "name": "stdout",
     "output_type": "stream",
     "text": [
      "EVAL: [20/21] Data 0.000 (0.007) Elapsed 0m 0s (remain 0m 0s) Loss: 0.4027(0.3877) \n",
      "Epoch: [13][0/83]Data 0.119 (0.119)Elapsed 0m 0s (remain 0m 10s)Loss: 0.2962(0.2962)Grad: 0.1894  \n",
      "Epoch: [13][82/83]Data 0.000 (0.004)Elapsed 0m 0s (remain 0m 0s)Loss: 0.5210(0.4261)Grad: 0.5117  \n",
      "EVAL: [0/21] Data 0.115 (0.115) Elapsed 0m 0s (remain 0m 2s) Loss: 0.3355(0.3355) \n"
     ]
    },
    {
     "name": "stderr",
     "output_type": "stream",
     "text": [
      "Epoch 13 - avg_train_loss: 0.4261 avg_val_loss: 0.3870 time: 1s\n",
      "Epoch 13 - Accuracy: 0.8908296943231441\n"
     ]
    },
    {
     "name": "stdout",
     "output_type": "stream",
     "text": [
      "EVAL: [20/21] Data 0.002 (0.008) Elapsed 0m 0s (remain 0m 0s) Loss: 0.4021(0.3870) \n",
      "Epoch: [14][0/83]Data 0.095 (0.095)Elapsed 0m 0s (remain 0m 8s)Loss: 0.3992(0.3992)Grad: 0.1909  \n",
      "Epoch: [14][82/83]Data 0.000 (0.004)Elapsed 0m 0s (remain 0m 0s)Loss: 0.5614(0.4287)Grad: 0.3464  \n",
      "EVAL: [0/21] Data 0.095 (0.095) Elapsed 0m 0s (remain 0m 2s) Loss: 0.3315(0.3315) \n"
     ]
    },
    {
     "name": "stderr",
     "output_type": "stream",
     "text": [
      "Epoch 14 - avg_train_loss: 0.4287 avg_val_loss: 0.3857 time: 1s\n",
      "Epoch 14 - Accuracy: 0.8906398329219669\n"
     ]
    },
    {
     "name": "stdout",
     "output_type": "stream",
     "text": [
      "EVAL: [20/21] Data 0.000 (0.008) Elapsed 0m 0s (remain 0m 0s) Loss: 0.4007(0.3857) \n",
      "Epoch: [15][0/83]Data 0.110 (0.110)Elapsed 0m 0s (remain 0m 10s)Loss: 0.4280(0.4280)Grad: 0.1519  \n",
      "Epoch: [15][82/83]Data 0.000 (0.004)Elapsed 0m 0s (remain 0m 0s)Loss: 0.2201(0.4246)Grad: 0.3096  \n",
      "EVAL: [0/21] Data 0.104 (0.104) Elapsed 0m 0s (remain 0m 2s) Loss: 0.3343(0.3343) \n"
     ]
    },
    {
     "name": "stderr",
     "output_type": "stream",
     "text": [
      "Epoch 15 - avg_train_loss: 0.4246 avg_val_loss: 0.3853 time: 1s\n",
      "Epoch 15 - Accuracy: 0.8908296943231441\n"
     ]
    },
    {
     "name": "stdout",
     "output_type": "stream",
     "text": [
      "EVAL: [20/21] Data 0.000 (0.009) Elapsed 0m 0s (remain 0m 0s) Loss: 0.3994(0.3853) \n",
      "Epoch: [16][0/83]Data 0.118 (0.118)Elapsed 0m 0s (remain 0m 10s)Loss: 0.3896(0.3896)Grad: 0.1680  \n",
      "Epoch: [16][82/83]Data 0.000 (0.004)Elapsed 0m 0s (remain 0m 0s)Loss: 0.3744(0.4255)Grad: 0.3325  \n",
      "EVAL: [0/21] Data 0.108 (0.108) Elapsed 0m 0s (remain 0m 2s) Loss: 0.3332(0.3332) \n"
     ]
    },
    {
     "name": "stderr",
     "output_type": "stream",
     "text": [
      "Epoch 16 - avg_train_loss: 0.4255 avg_val_loss: 0.3847 time: 1s\n",
      "Epoch 16 - Accuracy: 0.8906398329219669\n"
     ]
    },
    {
     "name": "stdout",
     "output_type": "stream",
     "text": [
      "EVAL: [20/21] Data 0.000 (0.008) Elapsed 0m 0s (remain 0m 0s) Loss: 0.3982(0.3847) \n",
      "Epoch: [17][0/83]Data 0.114 (0.114)Elapsed 0m 0s (remain 0m 10s)Loss: 0.4438(0.4438)Grad: 0.1423  \n",
      "Epoch: [17][82/83]Data 0.002 (0.004)Elapsed 0m 0s (remain 0m 0s)Loss: 0.3499(0.4216)Grad: 0.2930  \n",
      "EVAL: [0/21] Data 0.116 (0.116) Elapsed 0m 0s (remain 0m 2s) Loss: 0.3327(0.3327) \n"
     ]
    },
    {
     "name": "stderr",
     "output_type": "stream",
     "text": [
      "Epoch 17 - avg_train_loss: 0.4216 avg_val_loss: 0.3843 time: 1s\n",
      "Epoch 17 - Accuracy: 0.8913992785266756\n",
      "Epoch 17 - Save Best Score: 0.8914 Mpdel\n"
     ]
    },
    {
     "name": "stdout",
     "output_type": "stream",
     "text": [
      "EVAL: [20/21] Data 0.000 (0.009) Elapsed 0m 0s (remain 0m 0s) Loss: 0.3984(0.3843) \n",
      "Epoch: [18][0/83]Data 0.099 (0.099)Elapsed 0m 0s (remain 0m 9s)Loss: 0.4012(0.4012)Grad: 0.1501  \n",
      "Epoch: [18][82/83]Data 0.002 (0.004)Elapsed 0m 0s (remain 0m 0s)Loss: 0.3284(0.4227)Grad: 0.2995  \n",
      "EVAL: [0/21] Data 0.114 (0.114) Elapsed 0m 0s (remain 0m 2s) Loss: 0.3327(0.3327) \n"
     ]
    },
    {
     "name": "stderr",
     "output_type": "stream",
     "text": [
      "Epoch 18 - avg_train_loss: 0.4227 avg_val_loss: 0.3838 time: 1s\n",
      "Epoch 18 - Accuracy: 0.8908296943231441\n"
     ]
    },
    {
     "name": "stdout",
     "output_type": "stream",
     "text": [
      "EVAL: [20/21] Data 0.000 (0.009) Elapsed 0m 0s (remain 0m 0s) Loss: 0.3970(0.3838) \n",
      "Epoch: [19][0/83]Data 0.097 (0.097)Elapsed 0m 0s (remain 0m 9s)Loss: 0.4935(0.4935)Grad: 0.1783  \n",
      "Epoch: [19][82/83]Data 0.000 (0.004)Elapsed 0m 0s (remain 0m 0s)Loss: 0.5313(0.4246)Grad: 0.3395  \n",
      "EVAL: [0/21] Data 0.145 (0.145) Elapsed 0m 0s (remain 0m 2s) Loss: 0.3324(0.3324) \n"
     ]
    },
    {
     "name": "stderr",
     "output_type": "stream",
     "text": [
      "Epoch 19 - avg_train_loss: 0.4246 avg_val_loss: 0.3836 time: 1s\n",
      "Epoch 19 - Accuracy: 0.8910195557243212\n"
     ]
    },
    {
     "name": "stdout",
     "output_type": "stream",
     "text": [
      "EVAL: [20/21] Data 0.000 (0.009) Elapsed 0m 0s (remain 0m 0s) Loss: 0.3971(0.3836) \n",
      "Epoch: [20][0/83]Data 0.108 (0.108)Elapsed 0m 0s (remain 0m 10s)Loss: 0.3894(0.3894)Grad: 0.1615  \n",
      "Epoch: [20][82/83]Data 0.002 (0.004)Elapsed 0m 1s (remain 0m 0s)Loss: 0.6677(0.4243)Grad: 0.4082  \n",
      "EVAL: [0/21] Data 0.107 (0.107) Elapsed 0m 0s (remain 0m 2s) Loss: 0.3325(0.3325) \n"
     ]
    },
    {
     "name": "stderr",
     "output_type": "stream",
     "text": [
      "Epoch 20 - avg_train_loss: 0.4243 avg_val_loss: 0.3836 time: 1s\n"
     ]
    },
    {
     "name": "stdout",
     "output_type": "stream",
     "text": [
      "EVAL: [20/21] Data 0.000 (0.012) Elapsed 0m 0s (remain 0m 0s) Loss: 0.3969(0.3836) \n"
     ]
    },
    {
     "name": "stderr",
     "output_type": "stream",
     "text": [
      "Epoch 20 - Accuracy: 0.8906398329219669\n"
     ]
    },
    {
     "name": "stdout",
     "output_type": "stream",
     "text": [
      "Epoch: [21][0/83]Data 0.092 (0.092)Elapsed 0m 0s (remain 0m 8s)Loss: 0.4025(0.4025)Grad: 0.2286  \n",
      "Epoch: [21][82/83]Data 0.000 (0.004)Elapsed 0m 0s (remain 0m 0s)Loss: 0.4088(0.4219)Grad: 0.3504  \n",
      "EVAL: [0/21] Data 0.112 (0.112) Elapsed 0m 0s (remain 0m 2s) Loss: 0.3327(0.3327) \n"
     ]
    },
    {
     "name": "stderr",
     "output_type": "stream",
     "text": [
      "Epoch 21 - avg_train_loss: 0.4219 avg_val_loss: 0.3842 time: 1s\n",
      "Epoch 21 - Accuracy: 0.8906398329219669\n"
     ]
    },
    {
     "name": "stdout",
     "output_type": "stream",
     "text": [
      "EVAL: [20/21] Data 0.002 (0.009) Elapsed 0m 0s (remain 0m 0s) Loss: 0.3994(0.3842) \n",
      "Epoch: [22][0/83]Data 0.099 (0.099)Elapsed 0m 0s (remain 0m 8s)Loss: 0.4482(0.4482)Grad: 0.2178  \n",
      "Epoch: [22][82/83]Data 0.000 (0.004)Elapsed 0m 0s (remain 0m 0s)Loss: 0.4630(0.4168)Grad: 0.3845  \n",
      "EVAL: [0/21] Data 0.104 (0.104) Elapsed 0m 0s (remain 0m 2s) Loss: 0.3308(0.3308) \n"
     ]
    },
    {
     "name": "stderr",
     "output_type": "stream",
     "text": [
      "Epoch 22 - avg_train_loss: 0.4168 avg_val_loss: 0.3834 time: 1s\n",
      "Epoch 22 - Accuracy: 0.8910195557243212\n"
     ]
    },
    {
     "name": "stdout",
     "output_type": "stream",
     "text": [
      "EVAL: [20/21] Data 0.000 (0.008) Elapsed 0m 0s (remain 0m 0s) Loss: 0.3955(0.3834) \n",
      "Epoch: [23][0/83]Data 0.096 (0.096)Elapsed 0m 0s (remain 0m 9s)Loss: 0.3660(0.3660)Grad: 0.1700  \n",
      "Epoch: [23][82/83]Data 0.000 (0.004)Elapsed 0m 0s (remain 0m 0s)Loss: 0.5193(0.4205)Grad: 0.2865  \n",
      "EVAL: [0/21] Data 0.094 (0.094) Elapsed 0m 0s (remain 0m 1s) Loss: 0.3334(0.3334) \n"
     ]
    },
    {
     "name": "stderr",
     "output_type": "stream",
     "text": [
      "Epoch 23 - avg_train_loss: 0.4205 avg_val_loss: 0.3826 time: 1s\n",
      "Epoch 23 - Accuracy: 0.8919688627302069\n",
      "Epoch 23 - Save Best Score: 0.8920 Mpdel\n"
     ]
    },
    {
     "name": "stdout",
     "output_type": "stream",
     "text": [
      "EVAL: [20/21] Data 0.000 (0.007) Elapsed 0m 0s (remain 0m 0s) Loss: 0.3932(0.3826) \n",
      "Epoch: [24][0/83]Data 0.111 (0.111)Elapsed 0m 0s (remain 0m 9s)Loss: 0.4506(0.4506)Grad: 0.2738  \n",
      "Epoch: [24][82/83]Data 0.000 (0.004)Elapsed 0m 0s (remain 0m 0s)Loss: 0.4649(0.4203)Grad: 0.4160  \n",
      "EVAL: [0/21] Data 0.113 (0.113) Elapsed 0m 0s (remain 0m 2s) Loss: 0.3294(0.3294) \n"
     ]
    },
    {
     "name": "stderr",
     "output_type": "stream",
     "text": [
      "Epoch 24 - avg_train_loss: 0.4203 avg_val_loss: 0.3809 time: 1s\n",
      "Epoch 24 - Accuracy: 0.8919688627302069\n"
     ]
    },
    {
     "name": "stdout",
     "output_type": "stream",
     "text": [
      "EVAL: [20/21] Data 0.002 (0.007) Elapsed 0m 0s (remain 0m 0s) Loss: 0.3938(0.3809) \n",
      "Epoch: [25][0/83]Data 0.109 (0.109)Elapsed 0m 0s (remain 0m 9s)Loss: 0.3458(0.3458)Grad: 0.1692  \n",
      "Epoch: [25][82/83]Data 0.002 (0.004)Elapsed 0m 0s (remain 0m 0s)Loss: 0.6039(0.4185)Grad: 0.6770  \n",
      "EVAL: [0/21] Data 0.114 (0.114) Elapsed 0m 0s (remain 0m 2s) Loss: 0.3298(0.3298) \n"
     ]
    },
    {
     "name": "stderr",
     "output_type": "stream",
     "text": [
      "Epoch 25 - avg_train_loss: 0.4185 avg_val_loss: 0.3805 time: 1s\n",
      "Epoch 25 - Accuracy: 0.8913992785266756\n"
     ]
    },
    {
     "name": "stdout",
     "output_type": "stream",
     "text": [
      "EVAL: [20/21] Data 0.000 (0.009) Elapsed 0m 0s (remain 0m 0s) Loss: 0.3952(0.3805) \n",
      "Epoch: [26][0/83]Data 0.120 (0.120)Elapsed 0m 0s (remain 0m 10s)Loss: 0.4492(0.4492)Grad: 0.1924  \n",
      "Epoch: [26][82/83]Data 0.000 (0.004)Elapsed 0m 0s (remain 0m 0s)Loss: 0.5049(0.4182)Grad: 0.3271  \n",
      "EVAL: [0/21] Data 0.118 (0.118) Elapsed 0m 0s (remain 0m 2s) Loss: 0.3303(0.3303) \n"
     ]
    },
    {
     "name": "stderr",
     "output_type": "stream",
     "text": [
      "Epoch 26 - avg_train_loss: 0.4182 avg_val_loss: 0.3802 time: 1s\n",
      "Epoch 26 - Accuracy: 0.8917790013290298\n"
     ]
    },
    {
     "name": "stdout",
     "output_type": "stream",
     "text": [
      "EVAL: [20/21] Data 0.000 (0.009) Elapsed 0m 0s (remain 0m 0s) Loss: 0.3920(0.3802) \n",
      "Epoch: [27][0/83]Data 0.109 (0.109)Elapsed 0m 0s (remain 0m 9s)Loss: 0.3862(0.3862)Grad: 0.2243  \n",
      "Epoch: [27][82/83]Data 0.000 (0.004)Elapsed 0m 0s (remain 0m 0s)Loss: 0.3797(0.4174)Grad: 0.4200  \n",
      "EVAL: [0/21] Data 0.109 (0.109) Elapsed 0m 0s (remain 0m 2s) Loss: 0.3299(0.3299) \n"
     ]
    },
    {
     "name": "stderr",
     "output_type": "stream",
     "text": [
      "Epoch 27 - avg_train_loss: 0.4174 avg_val_loss: 0.3793 time: 1s\n",
      "Epoch 27 - Accuracy: 0.8921587241313841\n",
      "Epoch 27 - Save Best Score: 0.8922 Mpdel\n"
     ]
    },
    {
     "name": "stdout",
     "output_type": "stream",
     "text": [
      "EVAL: [20/21] Data 0.000 (0.009) Elapsed 0m 0s (remain 0m 0s) Loss: 0.3917(0.3793) \n",
      "Epoch: [28][0/83]Data 0.104 (0.104)Elapsed 0m 0s (remain 0m 9s)Loss: 0.4844(0.4844)Grad: 0.1877  \n",
      "Epoch: [28][82/83]Data 0.000 (0.004)Elapsed 0m 0s (remain 0m 0s)Loss: 0.4969(0.4167)Grad: 0.2618  \n",
      "EVAL: [0/21] Data 0.120 (0.120) Elapsed 0m 0s (remain 0m 2s) Loss: 0.3295(0.3295) \n"
     ]
    },
    {
     "name": "stderr",
     "output_type": "stream",
     "text": [
      "Epoch 28 - avg_train_loss: 0.4167 avg_val_loss: 0.3793 time: 1s\n",
      "Epoch 28 - Accuracy: 0.8919688627302069\n"
     ]
    },
    {
     "name": "stdout",
     "output_type": "stream",
     "text": [
      "EVAL: [20/21] Data 0.000 (0.008) Elapsed 0m 0s (remain 0m 0s) Loss: 0.3906(0.3793) \n",
      "Epoch: [29][0/83]Data 0.094 (0.094)Elapsed 0m 0s (remain 0m 8s)Loss: 0.3682(0.3682)Grad: 0.1628  \n",
      "Epoch: [29][82/83]Data 0.002 (0.004)Elapsed 0m 0s (remain 0m 0s)Loss: 0.4362(0.4167)Grad: 0.4279  \n",
      "EVAL: [0/21] Data 0.116 (0.116) Elapsed 0m 0s (remain 0m 2s) Loss: 0.3291(0.3291) \n"
     ]
    },
    {
     "name": "stderr",
     "output_type": "stream",
     "text": [
      "Epoch 29 - avg_train_loss: 0.4167 avg_val_loss: 0.3792 time: 1s\n",
      "Epoch 29 - Accuracy: 0.8917790013290298\n"
     ]
    },
    {
     "name": "stdout",
     "output_type": "stream",
     "text": [
      "EVAL: [20/21] Data 0.002 (0.008) Elapsed 0m 0s (remain 0m 0s) Loss: 0.3909(0.3792) \n",
      "Epoch: [30][0/83]Data 0.109 (0.109)Elapsed 0m 0s (remain 0m 9s)Loss: 0.4524(0.4524)Grad: 0.1864  \n",
      "Epoch: [30][82/83]Data 0.002 (0.004)Elapsed 0m 0s (remain 0m 0s)Loss: 0.3822(0.4142)Grad: 0.3405  \n",
      "EVAL: [0/21] Data 0.115 (0.115) Elapsed 0m 0s (remain 0m 2s) Loss: 0.3293(0.3293) \n"
     ]
    },
    {
     "name": "stderr",
     "output_type": "stream",
     "text": [
      "Epoch 30 - avg_train_loss: 0.4142 avg_val_loss: 0.3792 time: 1s\n",
      "Epoch 30 - Accuracy: 0.8917790013290298\n",
      "=============== fold: 4 result ================\n",
      "Score: 0.89216\n",
      "============ CV ============\n",
      "Score: 0.89433\n"
     ]
    },
    {
     "name": "stdout",
     "output_type": "stream",
     "text": [
      "EVAL: [20/21] Data 0.002 (0.008) Elapsed 0m 0s (remain 0m 0s) Loss: 0.3908(0.3792) \n"
     ]
    }
   ],
   "source": [
    "if __name__ == '__main__':\n",
    "    main()"
   ]
  }
 ],
 "metadata": {
  "kernelspec": {
   "display_name": "Python 3",
   "language": "python",
   "name": "python3"
  },
  "language_info": {
   "codemirror_mode": {
    "name": "ipython",
    "version": 3
   },
   "file_extension": ".py",
   "mimetype": "text/x-python",
   "name": "python",
   "nbconvert_exporter": "python",
   "pygments_lexer": "ipython3",
   "version": "3.7.6"
  },
  "papermill": {
   "duration": 177.279676,
   "end_time": "2021-02-17T12:27:58.422869",
   "environment_variables": {},
   "exception": null,
   "input_path": "__notebook__.ipynb",
   "output_path": "__notebook__.ipynb",
   "parameters": {},
   "start_time": "2021-02-17T12:25:01.143193",
   "version": "2.1.0"
  }
 },
 "nbformat": 4,
 "nbformat_minor": 4
}
