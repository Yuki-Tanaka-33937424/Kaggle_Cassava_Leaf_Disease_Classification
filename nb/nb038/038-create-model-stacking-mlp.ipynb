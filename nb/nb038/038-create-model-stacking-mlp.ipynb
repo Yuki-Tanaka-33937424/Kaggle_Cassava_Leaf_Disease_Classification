{
 "cells": [
  {
   "cell_type": "code",
   "execution_count": 1,
   "metadata": {
    "_cell_guid": "79c7e3d0-c299-4dcb-8224-4455121ee9b0",
    "_uuid": "d629ff2d2480ee46fbb7e2d37f6b5fab8052498a",
    "execution": {
     "iopub.execute_input": "2021-02-17T12:21:33.405700Z",
     "iopub.status.busy": "2021-02-17T12:21:33.404992Z",
     "iopub.status.idle": "2021-02-17T12:21:33.408369Z",
     "shell.execute_reply": "2021-02-17T12:21:33.407768Z"
    },
    "papermill": {
     "duration": 0.029562,
     "end_time": "2021-02-17T12:21:33.408517",
     "exception": false,
     "start_time": "2021-02-17T12:21:33.378955",
     "status": "completed"
    },
    "tags": []
   },
   "outputs": [],
   "source": [
    "import numpy as np\n",
    "import pandas as pd\n",
    "import os"
   ]
  },
  {
   "cell_type": "code",
   "execution_count": 2,
   "metadata": {
    "execution": {
     "iopub.execute_input": "2021-02-17T12:21:33.453676Z",
     "iopub.status.busy": "2021-02-17T12:21:33.452959Z",
     "iopub.status.idle": "2021-02-17T12:21:33.459583Z",
     "shell.execute_reply": "2021-02-17T12:21:33.460081Z"
    },
    "papermill": {
     "duration": 0.030824,
     "end_time": "2021-02-17T12:21:33.460218",
     "exception": false,
     "start_time": "2021-02-17T12:21:33.429394",
     "status": "completed"
    },
    "tags": []
   },
   "outputs": [
    {
     "data": {
      "text/plain": [
       "['train_tfrecords',\n",
       " 'sample_submission.csv',\n",
       " 'test_tfrecords',\n",
       " 'label_num_to_disease_map.json',\n",
       " 'train_images',\n",
       " 'train.csv',\n",
       " 'test_images']"
      ]
     },
     "execution_count": 2,
     "metadata": {},
     "output_type": "execute_result"
    }
   ],
   "source": [
    "os.listdir('../input/cassava-leaf-disease-classification/')"
   ]
  },
  {
   "cell_type": "code",
   "execution_count": 3,
   "metadata": {
    "execution": {
     "iopub.execute_input": "2021-02-17T12:21:33.509648Z",
     "iopub.status.busy": "2021-02-17T12:21:33.508943Z",
     "iopub.status.idle": "2021-02-17T12:21:33.924536Z",
     "shell.execute_reply": "2021-02-17T12:21:33.923786Z"
    },
    "papermill": {
     "duration": 0.444414,
     "end_time": "2021-02-17T12:21:33.924671",
     "exception": false,
     "start_time": "2021-02-17T12:21:33.480257",
     "status": "completed"
    },
    "tags": []
   },
   "outputs": [],
   "source": [
    "train = pd.read_csv('../input/cassava-leaf-disease-merged/merged.csv')\n",
    "test = pd.read_csv('../input/cassava-leaf-disease-classification//sample_submission.csv')\n",
    "label_map = pd.read_json('../input/cassava-leaf-disease-classification/label_num_to_disease_map.json', orient='index')"
   ]
  },
  {
   "cell_type": "markdown",
   "metadata": {
    "papermill": {
     "duration": 0.020154,
     "end_time": "2021-02-17T12:21:33.965461",
     "exception": false,
     "start_time": "2021-02-17T12:21:33.945307",
     "status": "completed"
    },
    "tags": []
   },
   "source": [
    "## Directory settings"
   ]
  },
  {
   "cell_type": "code",
   "execution_count": 4,
   "metadata": {
    "execution": {
     "iopub.execute_input": "2021-02-17T12:21:34.011798Z",
     "iopub.status.busy": "2021-02-17T12:21:34.011088Z",
     "iopub.status.idle": "2021-02-17T12:21:34.014658Z",
     "shell.execute_reply": "2021-02-17T12:21:34.014005Z"
    },
    "papermill": {
     "duration": 0.029072,
     "end_time": "2021-02-17T12:21:34.014781",
     "exception": false,
     "start_time": "2021-02-17T12:21:33.985709",
     "status": "completed"
    },
    "tags": []
   },
   "outputs": [],
   "source": [
    "OUTPUT_DIR = './'\n",
    "if not os.path.exists(OUTPUT_DIR):\n",
    "    os.makedirs(OUTPUT_DIR)\n",
    "    \n",
    "TRAIN_PATH = '../input/cassava-leaf-disease-merged/train'\n",
    "TEST_PATH = '../input/cassava-leaf-disease-classification/test_images'"
   ]
  },
  {
   "cell_type": "markdown",
   "metadata": {
    "papermill": {
     "duration": 0.019503,
     "end_time": "2021-02-17T12:21:34.054566",
     "exception": false,
     "start_time": "2021-02-17T12:21:34.035063",
     "status": "completed"
    },
    "tags": []
   },
   "source": [
    "## CFG"
   ]
  },
  {
   "cell_type": "code",
   "execution_count": 5,
   "metadata": {
    "execution": {
     "iopub.execute_input": "2021-02-17T12:21:34.105257Z",
     "iopub.status.busy": "2021-02-17T12:21:34.104280Z",
     "iopub.status.idle": "2021-02-17T12:21:34.107664Z",
     "shell.execute_reply": "2021-02-17T12:21:34.107029Z"
    },
    "papermill": {
     "duration": 0.03298,
     "end_time": "2021-02-17T12:21:34.107773",
     "exception": false,
     "start_time": "2021-02-17T12:21:34.074793",
     "status": "completed"
    },
    "tags": []
   },
   "outputs": [],
   "source": [
    "class CFG:\n",
    "    debug = False\n",
    "    apex = False\n",
    "    print_freq = 100\n",
    "    num_workers = 4\n",
    "    model_name = 'mlp'\n",
    "    size = 256\n",
    "    scheduler = 'CosineAnnealingWarmRestarts'\n",
    "    epochs = 30\n",
    "    T_0 = 10\n",
    "    lr = 1e-3\n",
    "    min_lr = 1e-6\n",
    "    batch_size = 256\n",
    "    weight_decay = 1e-6\n",
    "    gradient_accumulation_steps = 1\n",
    "    max_grad_norm = 1000\n",
    "    seed = 42\n",
    "    target_size = 5\n",
    "    target_col = 'label'\n",
    "    n_fold = 5\n",
    "    trn_fold = [0, 1, 2, 3, 4]\n",
    "    train = True\n",
    "    inference = False\n",
    "    \n",
    "if CFG.debug:\n",
    "    CFG.epochs = 1\n",
    "    train = train.sample(n=1000, random_state=CFG.seed).reset_index(drop=True)"
   ]
  },
  {
   "cell_type": "markdown",
   "metadata": {
    "papermill": {
     "duration": 0.020143,
     "end_time": "2021-02-17T12:21:34.147920",
     "exception": false,
     "start_time": "2021-02-17T12:21:34.127777",
     "status": "completed"
    },
    "tags": []
   },
   "source": [
    "## Library"
   ]
  },
  {
   "cell_type": "code",
   "execution_count": 6,
   "metadata": {
    "execution": {
     "iopub.execute_input": "2021-02-17T12:21:34.203654Z",
     "iopub.status.busy": "2021-02-17T12:21:34.202729Z",
     "iopub.status.idle": "2021-02-17T12:21:38.284556Z",
     "shell.execute_reply": "2021-02-17T12:21:38.283962Z"
    },
    "papermill": {
     "duration": 4.116124,
     "end_time": "2021-02-17T12:21:38.284684",
     "exception": false,
     "start_time": "2021-02-17T12:21:34.168560",
     "status": "completed"
    },
    "tags": []
   },
   "outputs": [],
   "source": [
    "import sys\n",
    "sys.path.append('../input/pytorch-image-models/pytorch-image-models-master')\n",
    "\n",
    "import os\n",
    "import math\n",
    "import time\n",
    "import random\n",
    "import shutil\n",
    "from pathlib import Path\n",
    "from contextlib import contextmanager\n",
    "from collections import defaultdict, Counter\n",
    "\n",
    "import scipy as sp\n",
    "import numpy as np\n",
    "import pandas as pd\n",
    "\n",
    "from sklearn import preprocessing\n",
    "from sklearn.metrics import accuracy_score\n",
    "from sklearn.model_selection import StratifiedKFold\n",
    "\n",
    "from tqdm.auto import tqdm\n",
    "from functools import partial\n",
    "\n",
    "import cv2\n",
    "from PIL import Image\n",
    "\n",
    "import torch\n",
    "import torch.nn as nn\n",
    "import torch.nn.functional as F\n",
    "from torch.optim import Adam, SGD\n",
    "import torchvision.models as models\n",
    "from torch.nn.parameter import Parameter\n",
    "from torch.utils.data import DataLoader, Dataset\n",
    "from torch.optim.lr_scheduler import CosineAnnealingWarmRestarts, CosineAnnealingLR, ReduceLROnPlateau\n",
    "\n",
    "from albumentations import (\n",
    "    Compose, OneOf, Normalize, Resize, RandomResizedCrop, RandomCrop, HorizontalFlip, VerticalFlip, \n",
    "    RandomBrightness, RandomContrast, RandomBrightnessContrast, Rotate, ShiftScaleRotate, Cutout, \n",
    "    IAAAdditiveGaussianNoise, Transpose\n",
    "    )\n",
    "from albumentations.pytorch import ToTensorV2\n",
    "from albumentations import ImageOnlyTransform\n",
    "\n",
    "import timm\n",
    "\n",
    "import warnings \n",
    "warnings.filterwarnings('ignore')\n",
    "\n",
    "if CFG.apex:\n",
    "    from apex import amp\n",
    "\n",
    "device = torch.device('cuda' if torch.cuda.is_available() else 'cpu')"
   ]
  },
  {
   "cell_type": "markdown",
   "metadata": {
    "papermill": {
     "duration": 0.020064,
     "end_time": "2021-02-17T12:21:38.325325",
     "exception": false,
     "start_time": "2021-02-17T12:21:38.305261",
     "status": "completed"
    },
    "tags": []
   },
   "source": [
    "## Utils"
   ]
  },
  {
   "cell_type": "code",
   "execution_count": 7,
   "metadata": {
    "execution": {
     "iopub.execute_input": "2021-02-17T12:21:38.380615Z",
     "iopub.status.busy": "2021-02-17T12:21:38.379933Z",
     "iopub.status.idle": "2021-02-17T12:21:38.390263Z",
     "shell.execute_reply": "2021-02-17T12:21:38.389654Z"
    },
    "papermill": {
     "duration": 0.044615,
     "end_time": "2021-02-17T12:21:38.390413",
     "exception": false,
     "start_time": "2021-02-17T12:21:38.345798",
     "status": "completed"
    },
    "tags": []
   },
   "outputs": [],
   "source": [
    "def get_score(y_true, y_pred):\n",
    "    return accuracy_score(y_true, y_pred)\n",
    "\n",
    "@contextmanager\n",
    "def timer(name):\n",
    "    t0 = time.time()\n",
    "    LOGGER.info(f'[{name}] start')\n",
    "    yield\n",
    "    LOGGER.info(f'[{name}] done in {time.time() - t0:.0f}')\n",
    "    \n",
    "def init_logger(log_file=OUTPUT_DIR+'train.log'):\n",
    "    from logging import getLogger, INFO, FileHandler,  Formatter,  StreamHandler\n",
    "    logger = getLogger(__name__)\n",
    "    logger.setLevel(INFO)\n",
    "    handler1 = StreamHandler()\n",
    "    handler1.setFormatter(Formatter(\"%(message)s\"))\n",
    "    handler2 = FileHandler(filename=log_file)\n",
    "    handler2.setFormatter(Formatter(\"%(message)s\"))\n",
    "    logger.addHandler(handler1)\n",
    "    logger.addHandler(handler2)\n",
    "    return logger\n",
    "\n",
    "LOGGER = init_logger()\n",
    "\n",
    "def seed_torch(seed=42):\n",
    "    random.seed(seed)\n",
    "    os.environ['PYTHONHASHSEED'] = str(seed)\n",
    "    np.random.seed(seed)\n",
    "    torch.manual_seed(seed)\n",
    "    torch.cuda.manual_seed(seed)\n",
    "    torch.backends.cudnn.deterministic = True\n",
    "\n",
    "seed_torch(seed=CFG.seed)"
   ]
  },
  {
   "cell_type": "markdown",
   "metadata": {
    "papermill": {
     "duration": 0.020612,
     "end_time": "2021-02-17T12:21:38.431786",
     "exception": false,
     "start_time": "2021-02-17T12:21:38.411174",
     "status": "completed"
    },
    "tags": []
   },
   "source": [
    "## CV split"
   ]
  },
  {
   "cell_type": "code",
   "execution_count": 8,
   "metadata": {
    "execution": {
     "iopub.execute_input": "2021-02-17T12:21:38.486421Z",
     "iopub.status.busy": "2021-02-17T12:21:38.485374Z",
     "iopub.status.idle": "2021-02-17T12:21:38.747700Z",
     "shell.execute_reply": "2021-02-17T12:21:38.747031Z"
    },
    "papermill": {
     "duration": 0.295139,
     "end_time": "2021-02-17T12:21:38.747826",
     "exception": false,
     "start_time": "2021-02-17T12:21:38.452687",
     "status": "completed"
    },
    "tags": []
   },
   "outputs": [
    {
     "data": {
      "text/html": [
       "<div>\n",
       "<style scoped>\n",
       "    .dataframe tbody tr th:only-of-type {\n",
       "        vertical-align: middle;\n",
       "    }\n",
       "\n",
       "    .dataframe tbody tr th {\n",
       "        vertical-align: top;\n",
       "    }\n",
       "\n",
       "    .dataframe thead th {\n",
       "        text-align: right;\n",
       "    }\n",
       "</style>\n",
       "<table border=\"1\" class=\"dataframe\">\n",
       "  <thead>\n",
       "    <tr style=\"text-align: right;\">\n",
       "      <th></th>\n",
       "      <th>0</th>\n",
       "      <th>1</th>\n",
       "      <th>2</th>\n",
       "      <th>3</th>\n",
       "      <th>4</th>\n",
       "      <th>5</th>\n",
       "      <th>6</th>\n",
       "      <th>7</th>\n",
       "      <th>8</th>\n",
       "      <th>9</th>\n",
       "      <th>label</th>\n",
       "    </tr>\n",
       "  </thead>\n",
       "  <tbody>\n",
       "    <tr>\n",
       "      <th>0</th>\n",
       "      <td>3.826102e-15</td>\n",
       "      <td>4.340454e-16</td>\n",
       "      <td>5.234761e-11</td>\n",
       "      <td>1.000000e+00</td>\n",
       "      <td>4.762953e-14</td>\n",
       "      <td>1.522047e-14</td>\n",
       "      <td>9.014521e-16</td>\n",
       "      <td>1.139739e-09</td>\n",
       "      <td>1.000000e+00</td>\n",
       "      <td>3.116005e-13</td>\n",
       "      <td>3</td>\n",
       "    </tr>\n",
       "    <tr>\n",
       "      <th>1</th>\n",
       "      <td>9.538939e-01</td>\n",
       "      <td>1.037140e-02</td>\n",
       "      <td>1.156314e-06</td>\n",
       "      <td>8.508536e-07</td>\n",
       "      <td>3.573275e-02</td>\n",
       "      <td>9.599438e-01</td>\n",
       "      <td>7.439279e-03</td>\n",
       "      <td>1.127475e-06</td>\n",
       "      <td>8.668555e-07</td>\n",
       "      <td>3.261490e-02</td>\n",
       "      <td>4</td>\n",
       "    </tr>\n",
       "    <tr>\n",
       "      <th>2</th>\n",
       "      <td>4.627016e-18</td>\n",
       "      <td>1.426970e-14</td>\n",
       "      <td>1.898384e-14</td>\n",
       "      <td>1.000000e+00</td>\n",
       "      <td>4.604767e-15</td>\n",
       "      <td>3.705072e-17</td>\n",
       "      <td>5.054389e-14</td>\n",
       "      <td>2.114423e-13</td>\n",
       "      <td>1.000000e+00</td>\n",
       "      <td>2.999360e-14</td>\n",
       "      <td>3</td>\n",
       "    </tr>\n",
       "    <tr>\n",
       "      <th>3</th>\n",
       "      <td>4.606794e-07</td>\n",
       "      <td>1.124587e-05</td>\n",
       "      <td>1.638323e-02</td>\n",
       "      <td>9.827052e-01</td>\n",
       "      <td>8.998843e-04</td>\n",
       "      <td>3.833728e-07</td>\n",
       "      <td>9.185316e-06</td>\n",
       "      <td>1.194510e-02</td>\n",
       "      <td>9.875053e-01</td>\n",
       "      <td>5.400496e-04</td>\n",
       "      <td>3</td>\n",
       "    </tr>\n",
       "    <tr>\n",
       "      <th>4</th>\n",
       "      <td>6.382671e-06</td>\n",
       "      <td>1.690052e-05</td>\n",
       "      <td>4.985041e-04</td>\n",
       "      <td>1.611800e-05</td>\n",
       "      <td>9.994621e-01</td>\n",
       "      <td>4.209951e-06</td>\n",
       "      <td>7.615774e-06</td>\n",
       "      <td>2.362547e-04</td>\n",
       "      <td>8.609924e-06</td>\n",
       "      <td>9.997434e-01</td>\n",
       "      <td>2</td>\n",
       "    </tr>\n",
       "    <tr>\n",
       "      <th>...</th>\n",
       "      <td>...</td>\n",
       "      <td>...</td>\n",
       "      <td>...</td>\n",
       "      <td>...</td>\n",
       "      <td>...</td>\n",
       "      <td>...</td>\n",
       "      <td>...</td>\n",
       "      <td>...</td>\n",
       "      <td>...</td>\n",
       "      <td>...</td>\n",
       "      <td>...</td>\n",
       "    </tr>\n",
       "    <tr>\n",
       "      <th>26332</th>\n",
       "      <td>8.475993e-07</td>\n",
       "      <td>9.982687e-01</td>\n",
       "      <td>2.881717e-07</td>\n",
       "      <td>1.730106e-03</td>\n",
       "      <td>8.013854e-08</td>\n",
       "      <td>9.047382e-07</td>\n",
       "      <td>9.980873e-01</td>\n",
       "      <td>3.099606e-07</td>\n",
       "      <td>1.911314e-03</td>\n",
       "      <td>6.628071e-08</td>\n",
       "      <td>1</td>\n",
       "    </tr>\n",
       "    <tr>\n",
       "      <th>26333</th>\n",
       "      <td>4.107651e-02</td>\n",
       "      <td>9.103698e-01</td>\n",
       "      <td>1.831035e-02</td>\n",
       "      <td>2.917714e-03</td>\n",
       "      <td>2.732570e-02</td>\n",
       "      <td>2.457832e-02</td>\n",
       "      <td>9.492393e-01</td>\n",
       "      <td>9.367346e-03</td>\n",
       "      <td>1.033589e-03</td>\n",
       "      <td>1.578141e-02</td>\n",
       "      <td>1</td>\n",
       "    </tr>\n",
       "    <tr>\n",
       "      <th>26334</th>\n",
       "      <td>3.930135e-09</td>\n",
       "      <td>1.206950e-05</td>\n",
       "      <td>3.702277e-11</td>\n",
       "      <td>9.999880e-01</td>\n",
       "      <td>3.137060e-13</td>\n",
       "      <td>6.578338e-09</td>\n",
       "      <td>1.752745e-05</td>\n",
       "      <td>4.747458e-11</td>\n",
       "      <td>9.999825e-01</td>\n",
       "      <td>7.934944e-13</td>\n",
       "      <td>3</td>\n",
       "    </tr>\n",
       "    <tr>\n",
       "      <th>26335</th>\n",
       "      <td>3.089139e-07</td>\n",
       "      <td>2.266481e-06</td>\n",
       "      <td>4.496734e-04</td>\n",
       "      <td>9.995383e-01</td>\n",
       "      <td>9.492393e-06</td>\n",
       "      <td>1.146029e-07</td>\n",
       "      <td>8.421153e-07</td>\n",
       "      <td>5.965448e-04</td>\n",
       "      <td>9.994010e-01</td>\n",
       "      <td>1.521211e-06</td>\n",
       "      <td>3</td>\n",
       "    </tr>\n",
       "    <tr>\n",
       "      <th>26336</th>\n",
       "      <td>9.672021e-01</td>\n",
       "      <td>1.329952e-02</td>\n",
       "      <td>1.230133e-03</td>\n",
       "      <td>5.429258e-05</td>\n",
       "      <td>1.821390e-02</td>\n",
       "      <td>9.656506e-01</td>\n",
       "      <td>1.646547e-02</td>\n",
       "      <td>1.371837e-03</td>\n",
       "      <td>6.390436e-05</td>\n",
       "      <td>1.644809e-02</td>\n",
       "      <td>0</td>\n",
       "    </tr>\n",
       "  </tbody>\n",
       "</table>\n",
       "<p>26337 rows × 11 columns</p>\n",
       "</div>"
      ],
      "text/plain": [
       "                  0             1             2             3             4  \\\n",
       "0      3.826102e-15  4.340454e-16  5.234761e-11  1.000000e+00  4.762953e-14   \n",
       "1      9.538939e-01  1.037140e-02  1.156314e-06  8.508536e-07  3.573275e-02   \n",
       "2      4.627016e-18  1.426970e-14  1.898384e-14  1.000000e+00  4.604767e-15   \n",
       "3      4.606794e-07  1.124587e-05  1.638323e-02  9.827052e-01  8.998843e-04   \n",
       "4      6.382671e-06  1.690052e-05  4.985041e-04  1.611800e-05  9.994621e-01   \n",
       "...             ...           ...           ...           ...           ...   \n",
       "26332  8.475993e-07  9.982687e-01  2.881717e-07  1.730106e-03  8.013854e-08   \n",
       "26333  4.107651e-02  9.103698e-01  1.831035e-02  2.917714e-03  2.732570e-02   \n",
       "26334  3.930135e-09  1.206950e-05  3.702277e-11  9.999880e-01  3.137060e-13   \n",
       "26335  3.089139e-07  2.266481e-06  4.496734e-04  9.995383e-01  9.492393e-06   \n",
       "26336  9.672021e-01  1.329952e-02  1.230133e-03  5.429258e-05  1.821390e-02   \n",
       "\n",
       "                  5             6             7             8             9  \\\n",
       "0      1.522047e-14  9.014521e-16  1.139739e-09  1.000000e+00  3.116005e-13   \n",
       "1      9.599438e-01  7.439279e-03  1.127475e-06  8.668555e-07  3.261490e-02   \n",
       "2      3.705072e-17  5.054389e-14  2.114423e-13  1.000000e+00  2.999360e-14   \n",
       "3      3.833728e-07  9.185316e-06  1.194510e-02  9.875053e-01  5.400496e-04   \n",
       "4      4.209951e-06  7.615774e-06  2.362547e-04  8.609924e-06  9.997434e-01   \n",
       "...             ...           ...           ...           ...           ...   \n",
       "26332  9.047382e-07  9.980873e-01  3.099606e-07  1.911314e-03  6.628071e-08   \n",
       "26333  2.457832e-02  9.492393e-01  9.367346e-03  1.033589e-03  1.578141e-02   \n",
       "26334  6.578338e-09  1.752745e-05  4.747458e-11  9.999825e-01  7.934944e-13   \n",
       "26335  1.146029e-07  8.421153e-07  5.965448e-04  9.994010e-01  1.521211e-06   \n",
       "26336  9.656506e-01  1.646547e-02  1.371837e-03  6.390436e-05  1.644809e-02   \n",
       "\n",
       "       label  \n",
       "0          3  \n",
       "1          4  \n",
       "2          3  \n",
       "3          3  \n",
       "4          2  \n",
       "...      ...  \n",
       "26332      1  \n",
       "26333      1  \n",
       "26334      3  \n",
       "26335      3  \n",
       "26336      0  \n",
       "\n",
       "[26337 rows x 11 columns]"
      ]
     },
     "execution_count": 8,
     "metadata": {},
     "output_type": "execute_result"
    }
   ],
   "source": [
    "oof_B3ns = pd.read_csv('../input/041-create-oof-efficientnet-b3ns-data/oof_df_0.csv')\n",
    "oof_se = pd.read_csv('../input/nb023-data/oof_df.csv')\n",
    "\n",
    "oof_B3ns_ = oof_B3ns[['0', '1', '2', '3', '4']]\n",
    "oof_se_ = oof_se[['0', '1', '2', '3', '4']]\n",
    "oof_se_.columns = ['5', '6', '7', '8', '9']\n",
    "\n",
    "train = pd.concat([oof_B3ns_, oof_se_, oof_se[['label']]], axis=1)\n",
    "train"
   ]
  },
  {
   "cell_type": "code",
   "execution_count": 9,
   "metadata": {
    "execution": {
     "iopub.execute_input": "2021-02-17T12:21:38.794036Z",
     "iopub.status.busy": "2021-02-17T12:21:38.793390Z",
     "iopub.status.idle": "2021-02-17T12:21:38.833997Z",
     "shell.execute_reply": "2021-02-17T12:21:38.834732Z"
    },
    "papermill": {
     "duration": 0.065845,
     "end_time": "2021-02-17T12:21:38.834938",
     "exception": false,
     "start_time": "2021-02-17T12:21:38.769093",
     "status": "completed"
    },
    "tags": []
   },
   "outputs": [
    {
     "name": "stdout",
     "output_type": "stream",
     "text": [
      "fold  label\n",
      "0     0         299\n",
      "      1         695\n",
      "      2         603\n",
      "      3        3093\n",
      "      4         578\n",
      "1     0         299\n",
      "      1         695\n",
      "      2         603\n",
      "      3        3093\n",
      "      4         578\n",
      "2     0         298\n",
      "      1         695\n",
      "      2         604\n",
      "      3        3092\n",
      "      4         578\n",
      "3     0         298\n",
      "      1         695\n",
      "      2         604\n",
      "      3        3092\n",
      "      4         578\n",
      "4     0         298\n",
      "      1         696\n",
      "      2         603\n",
      "      3        3092\n",
      "      4         578\n",
      "dtype: int64\n"
     ]
    }
   ],
   "source": [
    "folds = train.copy()\n",
    "Fold = StratifiedKFold(n_splits=CFG.n_fold, shuffle=True, random_state=CFG.seed)\n",
    "for n, (train_index, val_index) in enumerate(Fold.split(folds, folds[CFG.target_col])):\n",
    "    folds.loc[val_index, 'fold'] = int(n)\n",
    "folds['fold'] = folds['fold'].astype(int)\n",
    "print(folds.groupby(['fold', CFG.target_col]).size())"
   ]
  },
  {
   "cell_type": "markdown",
   "metadata": {
    "papermill": {
     "duration": 0.02196,
     "end_time": "2021-02-17T12:21:38.879504",
     "exception": false,
     "start_time": "2021-02-17T12:21:38.857544",
     "status": "completed"
    },
    "tags": []
   },
   "source": [
    "## Dataset"
   ]
  },
  {
   "cell_type": "code",
   "execution_count": 10,
   "metadata": {
    "execution": {
     "iopub.execute_input": "2021-02-17T12:21:38.947316Z",
     "iopub.status.busy": "2021-02-17T12:21:38.946589Z",
     "iopub.status.idle": "2021-02-17T12:21:38.949984Z",
     "shell.execute_reply": "2021-02-17T12:21:38.949318Z"
    },
    "papermill": {
     "duration": 0.046334,
     "end_time": "2021-02-17T12:21:38.950100",
     "exception": false,
     "start_time": "2021-02-17T12:21:38.903766",
     "status": "completed"
    },
    "tags": []
   },
   "outputs": [],
   "source": [
    "class TrainDataset(Dataset):\n",
    "    def __init__(self, df, transform=None):\n",
    "        self.df = df\n",
    "        self.file_names = df['image_id'].values\n",
    "        self.labels = df['label'].values\n",
    "        self.transform = transform\n",
    "    \n",
    "    def __len__(self):\n",
    "        return len(self.df)\n",
    "    \n",
    "    def __getitem__(self, idx):\n",
    "        file_name = self.file_names[idx]\n",
    "        file_path = f'{TRAIN_PATH}/{file_name}'\n",
    "        image = cv2.imread(file_path)\n",
    "        image = cv2.cvtColor(image, cv2.COLOR_BGR2RGB)\n",
    "        if self.transform:\n",
    "            augmented = self.transform(image=image)\n",
    "            image = augmented['image']\n",
    "        label = torch.tensor(self.labels[idx]).long()\n",
    "        return image, label\n",
    "    \n",
    "class StackingDataset(Dataset):\n",
    "    def __init__(self, df, transform=None):\n",
    "        self.df = df[['0', '1', '2', '3', '4', '5', '6', '7', '8', '9']]\n",
    "        self.labels = df['label'].values\n",
    "    \n",
    "    def __len__(self):\n",
    "        return len(self.df)\n",
    "    \n",
    "    def __getitem__(self, idx):\n",
    "        X = torch.tensor(self.df.iloc[idx]).float()\n",
    "        y = torch.tensor(self.labels[idx]).long()\n",
    "        return X, y\n",
    "    \n",
    "class TestDataset(Dataset):\n",
    "    def __init__(self, df, transform=None):\n",
    "        self.df = df\n",
    "        self.file_names = df['image_id'].values\n",
    "        self.transform = transform\n",
    "        \n",
    "    def __len__(self):\n",
    "        return len(self.df)\n",
    "    \n",
    "    def __getitem__(self, idx):\n",
    "        file_name = self.file_names[idx]\n",
    "        file_path = f'{TEST_PATH}/{file_name}'\n",
    "        image = cv2.imread(file_path)\n",
    "        image = cv2.cvtColor(image, cv2.COLOR_BGR2RGB)\n",
    "        if self.transform:\n",
    "            augmented = self.transform(image=image)\n",
    "            image = augmented['image']\n",
    "        return image"
   ]
  },
  {
   "cell_type": "code",
   "execution_count": 11,
   "metadata": {
    "execution": {
     "iopub.execute_input": "2021-02-17T12:21:39.000031Z",
     "iopub.status.busy": "2021-02-17T12:21:38.998999Z",
     "iopub.status.idle": "2021-02-17T12:21:39.084027Z",
     "shell.execute_reply": "2021-02-17T12:21:39.083433Z"
    },
    "papermill": {
     "duration": 0.110971,
     "end_time": "2021-02-17T12:21:39.084138",
     "exception": false,
     "start_time": "2021-02-17T12:21:38.973167",
     "status": "completed"
    },
    "tags": []
   },
   "outputs": [
    {
     "name": "stdout",
     "output_type": "stream",
     "text": [
      "tensor([3.8261e-15, 4.3405e-16, 5.2348e-11, 1.0000e+00, 4.7630e-14, 1.5220e-14,\n",
      "        9.0145e-16, 1.1397e-09, 1.0000e+00, 3.1160e-13])\n"
     ]
    }
   ],
   "source": [
    "train_dataset = StackingDataset(train, transform=None)\n",
    "\n",
    "for i in range(1):\n",
    "    X, y = train_dataset[i]\n",
    "    print(X)"
   ]
  },
  {
   "cell_type": "markdown",
   "metadata": {
    "papermill": {
     "duration": 0.022447,
     "end_time": "2021-02-17T12:21:39.129041",
     "exception": false,
     "start_time": "2021-02-17T12:21:39.106594",
     "status": "completed"
    },
    "tags": []
   },
   "source": [
    "## Transforms"
   ]
  },
  {
   "cell_type": "code",
   "execution_count": 12,
   "metadata": {
    "execution": {
     "iopub.execute_input": "2021-02-17T12:21:39.183813Z",
     "iopub.status.busy": "2021-02-17T12:21:39.183058Z",
     "iopub.status.idle": "2021-02-17T12:21:39.186511Z",
     "shell.execute_reply": "2021-02-17T12:21:39.187035Z"
    },
    "papermill": {
     "duration": 0.035365,
     "end_time": "2021-02-17T12:21:39.187178",
     "exception": false,
     "start_time": "2021-02-17T12:21:39.151813",
     "status": "completed"
    },
    "tags": []
   },
   "outputs": [],
   "source": [
    "def get_transforms(*, data):\n",
    "    \n",
    "    if data == 'train':\n",
    "        return Compose([\n",
    "            RandomResizedCrop(CFG.size, CFG.size), \n",
    "            Transpose(p=0.5), \n",
    "            HorizontalFlip(p=0.5), \n",
    "            VerticalFlip(p=0.5), \n",
    "            ShiftScaleRotate(p=0.5), \n",
    "            Normalize(\n",
    "                mean=[0.485, 0.456, 0.406], \n",
    "                std=[0.229, 0.224, 0.225], \n",
    "            ), \n",
    "            ToTensorV2(),\n",
    "        ])\n",
    "    \n",
    "    elif data == 'valid':\n",
    "        return Compose([\n",
    "            Resize(CFG.size, CFG.size), \n",
    "            Normalize(\n",
    "                mean=[0.485, 0.456, 0.406], \n",
    "                std=[0.229, 0.224, 0.225], \n",
    "            ), \n",
    "            ToTensorV2(),\n",
    "        ])"
   ]
  },
  {
   "cell_type": "code",
   "execution_count": 13,
   "metadata": {
    "execution": {
     "iopub.execute_input": "2021-02-17T12:21:39.236452Z",
     "iopub.status.busy": "2021-02-17T12:21:39.235754Z",
     "iopub.status.idle": "2021-02-17T12:21:39.240992Z",
     "shell.execute_reply": "2021-02-17T12:21:39.240256Z"
    },
    "papermill": {
     "duration": 0.030908,
     "end_time": "2021-02-17T12:21:39.241114",
     "exception": false,
     "start_time": "2021-02-17T12:21:39.210206",
     "status": "completed"
    },
    "tags": []
   },
   "outputs": [],
   "source": [
    "# train_dataset = TrainDataset(train, transform=get_transforms(data='train'))\n",
    "\n",
    "# for i in range(1):\n",
    "#     image, label = train_dataset[i]\n",
    "#     plt.imshow(image[0])\n",
    "#     plt.title(f'label: {label}')\n",
    "#     plt.show()"
   ]
  },
  {
   "cell_type": "markdown",
   "metadata": {
    "papermill": {
     "duration": 0.0229,
     "end_time": "2021-02-17T12:21:39.286799",
     "exception": false,
     "start_time": "2021-02-17T12:21:39.263899",
     "status": "completed"
    },
    "tags": []
   },
   "source": [
    "## MODEL"
   ]
  },
  {
   "cell_type": "code",
   "execution_count": 14,
   "metadata": {
    "execution": {
     "iopub.execute_input": "2021-02-17T12:21:39.341156Z",
     "iopub.status.busy": "2021-02-17T12:21:39.340236Z",
     "iopub.status.idle": "2021-02-17T12:21:39.343370Z",
     "shell.execute_reply": "2021-02-17T12:21:39.342819Z"
    },
    "papermill": {
     "duration": 0.033952,
     "end_time": "2021-02-17T12:21:39.343488",
     "exception": false,
     "start_time": "2021-02-17T12:21:39.309536",
     "status": "completed"
    },
    "tags": []
   },
   "outputs": [],
   "source": [
    "class CustomResNext(nn.Module):\n",
    "    def __init__(self, model_name='resnext50_32x4d', pretrained=False):\n",
    "        super().__init__()\n",
    "        self.model = timm.create_model(model_name, pretrained=pretrained)\n",
    "        n_features = self.model.fc.in_features\n",
    "        self.model.fc = nn.Linear(n_features, CFG.target_size)\n",
    "        \n",
    "    def forward(self, x):\n",
    "        x = self.model(x)\n",
    "        return x"
   ]
  },
  {
   "cell_type": "code",
   "execution_count": 15,
   "metadata": {
    "execution": {
     "iopub.execute_input": "2021-02-17T12:21:39.402055Z",
     "iopub.status.busy": "2021-02-17T12:21:39.401204Z",
     "iopub.status.idle": "2021-02-17T12:21:39.404055Z",
     "shell.execute_reply": "2021-02-17T12:21:39.404534Z"
    },
    "papermill": {
     "duration": 0.038212,
     "end_time": "2021-02-17T12:21:39.404693",
     "exception": false,
     "start_time": "2021-02-17T12:21:39.366481",
     "status": "completed"
    },
    "tags": []
   },
   "outputs": [],
   "source": [
    "class StackingModel(nn.Module):\n",
    "    def __init__(self, num_features, num_targets, hidden_size_1, hidden_size_2, dropout_ratio):\n",
    "        super(StackingModel, self).__init__()\n",
    "        \n",
    "        self.Linear1 = nn.Linear(num_features, hidden_size_1)\n",
    "        self.relu1 = nn.ReLU()\n",
    "        self.dropout1 = nn.Dropout(dropout_ratio)\n",
    "        \n",
    "        self.Linear2 = nn.Linear(hidden_size_1, hidden_size_2)\n",
    "        self.relu2 = nn.ReLU()\n",
    "        self.dropout2 = nn.Dropout(dropout_ratio)\n",
    "        \n",
    "        self.Linear3 = nn.Linear(hidden_size_2, num_targets)\n",
    "        \n",
    "    def forward(self, x):\n",
    "        x = self.Linear1(x)\n",
    "        x = self.relu1(x)\n",
    "        x = self.dropout1(x)\n",
    "        \n",
    "        x = self.Linear2(x)\n",
    "        x = self.relu2(x)\n",
    "        x = self.dropout2(x)\n",
    "        \n",
    "        x = self.Linear3(x)\n",
    "        \n",
    "        return x"
   ]
  },
  {
   "cell_type": "code",
   "execution_count": 16,
   "metadata": {
    "execution": {
     "iopub.execute_input": "2021-02-17T12:21:39.457892Z",
     "iopub.status.busy": "2021-02-17T12:21:39.456719Z",
     "iopub.status.idle": "2021-02-17T12:21:39.460610Z",
     "shell.execute_reply": "2021-02-17T12:21:39.459779Z"
    },
    "papermill": {
     "duration": 0.032874,
     "end_time": "2021-02-17T12:21:39.460737",
     "exception": false,
     "start_time": "2021-02-17T12:21:39.427863",
     "status": "completed"
    },
    "tags": []
   },
   "outputs": [],
   "source": [
    "# model = StackingModel(num_features=10, num_targets=CFG.target_size, hidden_size_1=16, hidden_size_2=8, dropout_ratio=0.2)\n",
    "# train_dataset = StackingDataset(train)\n",
    "# train_loader = DataLoader(train_dataset, batch_size=4, shuffle=True, \n",
    "#                           num_workers=4, pin_memory=True, drop_last=True)\n",
    "\n",
    "# for X, y in train_loader:\n",
    "#     print(X.size())\n",
    "#     output = model(X)\n",
    "#     print(output)\n",
    "#     break"
   ]
  },
  {
   "cell_type": "code",
   "execution_count": 17,
   "metadata": {
    "execution": {
     "iopub.execute_input": "2021-02-17T12:21:39.518194Z",
     "iopub.status.busy": "2021-02-17T12:21:39.512727Z",
     "iopub.status.idle": "2021-02-17T12:21:39.555659Z",
     "shell.execute_reply": "2021-02-17T12:21:39.554979Z"
    },
    "papermill": {
     "duration": 0.071509,
     "end_time": "2021-02-17T12:21:39.555776",
     "exception": false,
     "start_time": "2021-02-17T12:21:39.484267",
     "status": "completed"
    },
    "tags": []
   },
   "outputs": [],
   "source": [
    "class AverageMeter(object):\n",
    "    \"\"\"Computes and stores the average and current value\"\"\"\n",
    "    def __init__(self):\n",
    "        self.reset()\n",
    "        \n",
    "    def reset(self):\n",
    "        self.val = 0\n",
    "        self.avg = 0\n",
    "        self.sum = 0\n",
    "        self.count = 0\n",
    "        \n",
    "    def update(self, val, n=1):\n",
    "        self.val = val\n",
    "        self.sum += val * n\n",
    "        self.count += n\n",
    "        self.avg = self.sum / self.count\n",
    "        \n",
    "def asMinutes(s):\n",
    "    \"\"\"秒を分に変換する関数\"\"\"\n",
    "    m = math.floor(s / 60)\n",
    "    s -= m * 60\n",
    "    return '%dm %ds' % (m, s)\n",
    "\n",
    "def timeSince(since, percent):\n",
    "    \"\"\"経過時間の測定と終了時間の予測を行う関数\n",
    "    Parameters\n",
    "    ----------\n",
    "    since : float\n",
    "        実験を始めた時刻\n",
    "    percent : float\n",
    "        実験が進んだ割合\n",
    "        \n",
    "    Returns\n",
    "    -------\n",
    "    s : 経過時間\n",
    "    re : 終了までの時間の予測\n",
    "    \"\"\"\n",
    "    now = time.time()\n",
    "    s = now - since  # 経過時間の測定\n",
    "    es = s / percent  # 終了時間の予測\n",
    "    re = es - s  # 残り時間の予想\n",
    "    return '%s (remain %s)' % (asMinutes(s), asMinutes(re))\n",
    "\n",
    "def train_fn(train_loader, model, criterion, optimizer, epoch, shechduler, device):\n",
    "    batch_time = AverageMeter()\n",
    "    data_time = AverageMeter()\n",
    "    losses = AverageMeter()\n",
    "    scores = AverageMeter()\n",
    "    # switch to train mode\n",
    "    model.train()\n",
    "    start = end = time.time()\n",
    "    global_step = 0\n",
    "    for step, (X, y) in enumerate(train_loader):\n",
    "        # measure data loading time\n",
    "        data_time.update(time.time() - end)\n",
    "        X = X.to(device)\n",
    "        y = y.to(device)\n",
    "        batch_size = y.size(0)\n",
    "        y_preds = model(X)\n",
    "        loss = criterion(y_preds, y)\n",
    "        # record loss\n",
    "        losses.update(loss.item(), batch_size)\n",
    "        if CFG.gradient_accumulation_steps > 1:\n",
    "            loss = loss / CFG.gradient_accumulation_steps\n",
    "        if CFG.apex:\n",
    "            with amp.scale_loss(loss, optimizer) as scaled_loss:\n",
    "                scaled_loss.backward()\n",
    "        else: \n",
    "            loss.backward()\n",
    "        grad_norm = torch.nn.utils.clip_grad_norm_(model.parameters(), CFG.max_grad_norm)\n",
    "        if (step + 1) % CFG.gradient_accumulation_steps == 0:\n",
    "            optimizer.step()\n",
    "            optimizer.zero_grad()\n",
    "            global_step += 1\n",
    "        # measure elapsed time\n",
    "        batch_time.update(time.time() - end)\n",
    "        end = time.time()\n",
    "        if step % CFG.print_freq == 0 or step == (len(train_loader)-1):\n",
    "            print('Epoch: [{0}][{1}/{2}]'\n",
    "                  'Data {data_time.val:.3f} ({data_time.avg:.3f})'\n",
    "                  'Elapsed {remain:s}' \n",
    "                  'Loss: {loss.val:.4f}({loss.avg:.4f})' \n",
    "                  'Grad: {grad_norm:.4f}  '\n",
    "                  .format(epoch+1, step, len(train_loader), batch_time=batch_time, \n",
    "                          data_time=data_time, loss=losses, \n",
    "                          remain=timeSince(start, float(step+1)/len(train_loader)), \n",
    "                          grad_norm=grad_norm))\n",
    "    return losses.avg\n",
    "\n",
    "def valid_fn(valid_loader, model, criterion, device):\n",
    "    batch_time = AverageMeter()\n",
    "    data_time = AverageMeter()\n",
    "    losses = AverageMeter()\n",
    "    scores = AverageMeter()\n",
    "    # switch to evaluation mode\n",
    "    model.eval()\n",
    "    preds = []\n",
    "    start = end = time.time()\n",
    "    for step, (X, y) in enumerate(valid_loader):\n",
    "        # measure data loading time\n",
    "        data_time.update(time.time() - end)\n",
    "        X = X.to(device)\n",
    "        y = y.to(device)\n",
    "        batch_size = y.size(0)\n",
    "        # compute loss\n",
    "        with torch.no_grad():\n",
    "            y_preds = model(X)\n",
    "        loss = criterion(y_preds, y)\n",
    "        losses.update(loss.item(), batch_size)\n",
    "        # record accuracy\n",
    "        preds.append(y_preds.softmax(1).to('cpu').numpy())\n",
    "        if CFG.gradient_accumulation_steps > 1:\n",
    "            loss = loss / CFG.gradient_accumulation_steps\n",
    "        # measure elapsed time\n",
    "        batch_time.update(time.time() - end)\n",
    "        end = time.time()\n",
    "        if step % CFG.print_freq == 0 or step == (len(valid_loader)-1):\n",
    "            print('EVAL: [{0}/{1}] '\n",
    "                  'Data {data_time.val:.3f} ({data_time.avg:.3f}) '\n",
    "                  'Elapsed {remain:s} '\n",
    "                  'Loss: {loss.val:.4f}({loss.avg:.4f}) '\n",
    "                  .format(\n",
    "                   step, len(valid_loader), batch_time=batch_time,\n",
    "                   data_time=data_time, loss=losses,\n",
    "                   remain=timeSince(start, float(step+1)/len(valid_loader)),\n",
    "                   ))\n",
    "            \n",
    "    predictions = np.concatenate(preds)\n",
    "    return losses.avg, predictions\n",
    "\n",
    "def inference(model, states, test_loader, device):\n",
    "    model.to(device)\n",
    "    tk0 = tqdm(enumerate(test_loader), total=len(test_loader))\n",
    "    probs = []\n",
    "    for i, (images) in tk0:\n",
    "        images = images.to(device)\n",
    "        avgpreds = []\n",
    "        for state in states:\n",
    "            model.load_state_dict(state['model'])\n",
    "            model.eval()\n",
    "            with torch.no_grad():\n",
    "                y_preds = model(images)\n",
    "            avg_preds.append(y_preds.softmax(1).to('cpu').numpy())\n",
    "        avg_preds = np.mean(avg_preds, axis=0)\n",
    "        probs.append(avg_preds)\n",
    "    probs = np.concatenate(probs)\n",
    "    return probs"
   ]
  },
  {
   "cell_type": "markdown",
   "metadata": {
    "papermill": {
     "duration": 0.02414,
     "end_time": "2021-02-17T12:21:39.603527",
     "exception": false,
     "start_time": "2021-02-17T12:21:39.579387",
     "status": "completed"
    },
    "tags": []
   },
   "source": [
    "## Train loop"
   ]
  },
  {
   "cell_type": "code",
   "execution_count": 18,
   "metadata": {
    "execution": {
     "iopub.execute_input": "2021-02-17T12:21:39.681070Z",
     "iopub.status.busy": "2021-02-17T12:21:39.680315Z",
     "iopub.status.idle": "2021-02-17T12:21:39.683798Z",
     "shell.execute_reply": "2021-02-17T12:21:39.683253Z"
    },
    "papermill": {
     "duration": 0.056641,
     "end_time": "2021-02-17T12:21:39.683941",
     "exception": false,
     "start_time": "2021-02-17T12:21:39.627300",
     "status": "completed"
    },
    "tags": []
   },
   "outputs": [],
   "source": [
    "# ======================================================\n",
    "# Train loop\n",
    "# ======================================================\n",
    "\n",
    "def train_loop(folds, fold):\n",
    "    \n",
    "    LOGGER.info(f'========== fold: {fold} training ============')\n",
    "    \n",
    "    # ======================================================\n",
    "    # loader\n",
    "    # ======================================================\n",
    "    trn_idx = folds[folds['fold'] != fold].index\n",
    "    val_idx = folds[folds['fold'] == fold].index\n",
    "    \n",
    "    train_folds = folds.loc[trn_idx].reset_index(drop=True)\n",
    "    valid_folds = folds.loc[val_idx].reset_index(drop=True)\n",
    "    \n",
    "    train_dataset = StackingDataset(train_folds)\n",
    "    valid_dataset = StackingDataset(valid_folds)\n",
    "    \n",
    "    train_loader = DataLoader(train_dataset, \n",
    "                              batch_size=CFG.batch_size, \n",
    "                              shuffle=True, \n",
    "                              num_workers=CFG.num_workers, \n",
    "                              pin_memory=True, \n",
    "                              drop_last=False)\n",
    "    valid_loader = DataLoader(valid_dataset, \n",
    "                              batch_size=CFG.batch_size, \n",
    "                              shuffle=False, \n",
    "                              num_workers=CFG.num_workers, \n",
    "                              pin_memory=True, \n",
    "                              drop_last=False)\n",
    "    \n",
    "    # ===============================================\n",
    "    # scheduler\n",
    "    # ===============================================\n",
    "    def get_scheduler(optimizer):\n",
    "        if CFG.scheduler=='ReduceLROnPlateau':\n",
    "            scheduler = ReduceLROnPlateau(optimizer, mode='min', factor=CFG.factor, patience=CFG.patience, verbose=True, eps=CFG.eps)\n",
    "        elif CFG.scheduler=='CosineAnnealingLR':\n",
    "            scheduler = CosineAnnealingLR(optimizer, T_max=CFG.T_max, eta_min=CFG.min_lr, last_epoch=-1)\n",
    "        elif CFG.scheduler=='CosineAnnealingWarmRestarts':\n",
    "            scheduler = CosineAnnealingWarmRestarts(optimizer, T_0=CFG.T_0, T_mult=1, eta_min=CFG.min_lr, last_epoch=-1)\n",
    "        return scheduler\n",
    "    \n",
    "    # ===============================================\n",
    "    # model & optimizer\n",
    "    # ===============================================\n",
    "    model = StackingModel(num_features=10, num_targets=CFG.target_size, hidden_size_1=16, hidden_size_2=8, dropout_ratio=0.1)\n",
    "    model.to(device)\n",
    "    \n",
    "    optimizer = Adam(model.parameters(), lr=CFG.lr, weight_decay=CFG.weight_decay, amsgrad=False)\n",
    "    scheduler = get_scheduler(optimizer)\n",
    "    \n",
    "    # ===============================================\n",
    "    # apex \n",
    "    # ===============================================\n",
    "    if CFG.apex:\n",
    "        model.optimizer = amp.initialize(model, optimizer, opt_level='O1', verbosity=0)\n",
    "        \n",
    "    # ===============================================\n",
    "    # loop\n",
    "    # ===============================================\n",
    "    criterion = nn.CrossEntropyLoss()\n",
    "    \n",
    "    best_score = 0.\n",
    "    best_loss = np.inf\n",
    "    \n",
    "    for epoch in range(CFG.epochs):\n",
    "        \n",
    "        start_time = time.time()\n",
    "        \n",
    "        # train\n",
    "        avg_loss = train_fn(train_loader, model, criterion, optimizer, epoch, scheduler, device)\n",
    "        \n",
    "        # eval\n",
    "        avg_val_loss, preds = valid_fn(valid_loader, model, criterion, device)\n",
    "        valid_labels = valid_folds[CFG.target_col].values\n",
    "        \n",
    "        if isinstance(scheduler, ReduceLROnPlateau):\n",
    "            scheduler.step(avg_val_loss)\n",
    "        elif isinstance(scheduler, CosineAnnealingLR):\n",
    "            scheduler.step()\n",
    "        elif isinstance(scheduler, CosineAnnealingWarmRestarts):\n",
    "            scheduler.step()\n",
    "        \n",
    "        # scoring\n",
    "        score = get_score(valid_labels, preds.argmax(1))\n",
    "        \n",
    "        elapsed = time.time() - start_time\n",
    "        \n",
    "        LOGGER.info(f'Epoch {epoch+1} - avg_train_loss: {avg_loss:.4f} avg_val_loss: {avg_val_loss:.4f} time: {elapsed:.0f}s')\n",
    "        LOGGER.info(f'Epoch {epoch+1} - Accuracy: {score}')\n",
    "        \n",
    "        if score > best_score:\n",
    "            best_score = score\n",
    "            LOGGER.info(f'Epoch {epoch+1} - Save Best Score: {best_score:.4f} Mpdel')\n",
    "            torch.save({'model': model.state_dict(), \n",
    "                        'preds': preds}, \n",
    "                        OUTPUT_DIR+f'{CFG.model_name}_fold{fold}_best.pth')\n",
    "    check_point = torch.load(OUTPUT_DIR+f'{CFG.model_name}_fold{fold}_best.pth')\n",
    "    valid_folds[[str(c) for c in range(5)]] = check_point['preds']\n",
    "    valid_folds['preds'] = check_point['preds'].argmax(1)\n",
    "    \n",
    "    return valid_folds"
   ]
  },
  {
   "cell_type": "code",
   "execution_count": 19,
   "metadata": {
    "execution": {
     "iopub.execute_input": "2021-02-17T12:21:39.735667Z",
     "iopub.status.busy": "2021-02-17T12:21:39.734850Z",
     "iopub.status.idle": "2021-02-17T12:21:39.748266Z",
     "shell.execute_reply": "2021-02-17T12:21:39.748865Z"
    },
    "papermill": {
     "duration": 0.041152,
     "end_time": "2021-02-17T12:21:39.749010",
     "exception": false,
     "start_time": "2021-02-17T12:21:39.707858",
     "status": "completed"
    },
    "tags": []
   },
   "outputs": [],
   "source": [
    "# ====================================================\n",
    "# main\n",
    "# ====================================================\n",
    "def main():\n",
    "    \n",
    "    \"\"\"\n",
    "    Prepare: 1.train 2.test 3.submission 4.folds\n",
    "    \"\"\"\n",
    "    \n",
    "    def get_result(result_df):\n",
    "        preds = result_df['preds'].values\n",
    "        labels = result_df[CFG.target_col].values\n",
    "        score = get_score(labels, preds)\n",
    "        LOGGER.info(f'Score: {score:<.5f}')\n",
    "        \n",
    "    if CFG.train:\n",
    "        # train\n",
    "        oof_df = pd.DataFrame()\n",
    "        for fold in range(CFG.n_fold):\n",
    "            if fold in CFG.trn_fold:\n",
    "                _oof_df = train_loop(folds, fold)\n",
    "                oof_df = pd.concat([oof_df, _oof_df])\n",
    "                LOGGER.info(f'=============== fold: {fold} result ================')\n",
    "                get_result(_oof_df)\n",
    "        # CV result\n",
    "        LOGGER.info(f'============ CV ============')\n",
    "        get_result(oof_df)\n",
    "        # save result\n",
    "        oof_df.to_csv(OUTPUT_DIR+'oof_df.csv', index=False)\n",
    "        \n",
    "    if CFG.inference:\n",
    "        # inference\n",
    "        model = CustomResNext(CFG.model_name, pretrained=False)\n",
    "        states = [torch.load(OUTPUT_DIR+f'{CFG.model_name}_fold{fold}_best.pth') for fold in CFG.trn_fold]\n",
    "        test_dataset = TestDataset(test, batch_size=CFG.batch_size, shuffle=False, pin_memory=True)\n",
    "        predictions = inference(model, states, test_loader, device)\n",
    "        # submission\n",
    "        test['label'] = predictions.argmax(1)\n",
    "        test[['image_id', 'label']].to_csv(OUTPUT_DIR+'submission.csv', index=False)"
   ]
  },
  {
   "cell_type": "code",
   "execution_count": 20,
   "metadata": {
    "execution": {
     "iopub.execute_input": "2021-02-17T12:21:39.799891Z",
     "iopub.status.busy": "2021-02-17T12:21:39.799213Z",
     "iopub.status.idle": "2021-02-17T12:29:27.691592Z",
     "shell.execute_reply": "2021-02-17T12:29:27.690800Z"
    },
    "papermill": {
     "duration": 467.918836,
     "end_time": "2021-02-17T12:29:27.691736",
     "exception": false,
     "start_time": "2021-02-17T12:21:39.772900",
     "status": "completed"
    },
    "tags": []
   },
   "outputs": [
    {
     "name": "stderr",
     "output_type": "stream",
     "text": [
      "========== fold: 0 training ============\n"
     ]
    },
    {
     "name": "stdout",
     "output_type": "stream",
     "text": [
      "Epoch: [1][0/83]Data 0.205 (0.205)Elapsed 0m 0s (remain 0m 23s)Loss: 1.6910(1.6910)Grad: 0.5705  \n",
      "Epoch: [1][82/83]Data 0.000 (0.025)Elapsed 0m 2s (remain 0m 0s)Loss: 1.5003(1.5662)Grad: 0.5301  \n",
      "EVAL: [0/21] Data 0.161 (0.161) Elapsed 0m 0s (remain 0m 3s) Loss: 1.4357(1.4357) \n"
     ]
    },
    {
     "name": "stderr",
     "output_type": "stream",
     "text": [
      "Epoch 1 - avg_train_loss: 1.5662 avg_val_loss: 1.4282 time: 3s\n",
      "Epoch 1 - Accuracy: 0.6249050873196659\n",
      "Epoch 1 - Save Best Score: 0.6249 Mpdel\n"
     ]
    },
    {
     "name": "stdout",
     "output_type": "stream",
     "text": [
      "EVAL: [20/21] Data 0.000 (0.027) Elapsed 0m 0s (remain 0m 0s) Loss: 1.4453(1.4282) \n",
      "Epoch: [2][0/83]Data 0.186 (0.186)Elapsed 0m 0s (remain 0m 16s)Loss: 1.4508(1.4508)Grad: 0.5440  \n",
      "Epoch: [2][82/83]Data 0.000 (0.023)Elapsed 0m 2s (remain 0m 0s)Loss: 0.9398(1.1923)Grad: 0.6268  \n",
      "EVAL: [0/21] Data 0.202 (0.202) Elapsed 0m 0s (remain 0m 4s) Loss: 0.8508(0.8508) \n"
     ]
    },
    {
     "name": "stderr",
     "output_type": "stream",
     "text": [
      "Epoch 2 - avg_train_loss: 1.1923 avg_val_loss: 0.8662 time: 3s\n",
      "Epoch 2 - Accuracy: 0.8752847380410023\n",
      "Epoch 2 - Save Best Score: 0.8753 Mpdel\n"
     ]
    },
    {
     "name": "stdout",
     "output_type": "stream",
     "text": [
      "EVAL: [20/21] Data 0.023 (0.028) Elapsed 0m 0s (remain 0m 0s) Loss: 0.9522(0.8662) \n",
      "Epoch: [3][0/83]Data 0.190 (0.190)Elapsed 0m 0s (remain 0m 16s)Loss: 0.9146(0.9146)Grad: 0.6442  \n",
      "Epoch: [3][82/83]Data 0.000 (0.024)Elapsed 0m 2s (remain 0m 0s)Loss: 0.5689(0.7440)Grad: 0.3354  \n",
      "EVAL: [0/21] Data 0.197 (0.197) Elapsed 0m 0s (remain 0m 3s) Loss: 0.5334(0.5334) \n"
     ]
    },
    {
     "name": "stderr",
     "output_type": "stream",
     "text": [
      "Epoch 3 - avg_train_loss: 0.7440 avg_val_loss: 0.5654 time: 3s\n",
      "Epoch 3 - Accuracy: 0.873006833712984\n"
     ]
    },
    {
     "name": "stdout",
     "output_type": "stream",
     "text": [
      "EVAL: [20/21] Data 0.000 (0.026) Elapsed 0m 0s (remain 0m 0s) Loss: 0.6856(0.5654) \n",
      "Epoch: [4][0/83]Data 0.182 (0.182)Elapsed 0m 0s (remain 0m 15s)Loss: 0.7426(0.7426)Grad: 0.2621  \n",
      "Epoch: [4][82/83]Data 0.000 (0.021)Elapsed 0m 2s (remain 0m 0s)Loss: 0.4775(0.5948)Grad: 0.2176  \n",
      "EVAL: [0/21] Data 0.172 (0.172) Elapsed 0m 0s (remain 0m 3s) Loss: 0.4295(0.4295) \n"
     ]
    },
    {
     "name": "stderr",
     "output_type": "stream",
     "text": [
      "Epoch 4 - avg_train_loss: 0.5948 avg_val_loss: 0.4701 time: 3s\n",
      "Epoch 4 - Accuracy: 0.8971146545178436\n",
      "Epoch 4 - Save Best Score: 0.8971 Mpdel\n"
     ]
    },
    {
     "name": "stdout",
     "output_type": "stream",
     "text": [
      "EVAL: [20/21] Data 0.002 (0.026) Elapsed 0m 0s (remain 0m 0s) Loss: 0.5913(0.4701) \n",
      "Epoch: [5][0/83]Data 0.192 (0.192)Elapsed 0m 0s (remain 0m 16s)Loss: 0.5751(0.5751)Grad: 0.1527  \n",
      "Epoch: [5][82/83]Data 0.000 (0.020)Elapsed 0m 2s (remain 0m 0s)Loss: 0.4198(0.5398)Grad: 0.1986  \n",
      "EVAL: [0/21] Data 0.163 (0.163) Elapsed 0m 0s (remain 0m 3s) Loss: 0.3796(0.3796) \n"
     ]
    },
    {
     "name": "stderr",
     "output_type": "stream",
     "text": [
      "Epoch 5 - avg_train_loss: 0.5398 avg_val_loss: 0.4269 time: 3s\n",
      "Epoch 5 - Accuracy: 0.9005315110098709\n",
      "Epoch 5 - Save Best Score: 0.9005 Mpdel\n"
     ]
    },
    {
     "name": "stdout",
     "output_type": "stream",
     "text": [
      "EVAL: [20/21] Data 0.000 (0.028) Elapsed 0m 0s (remain 0m 0s) Loss: 0.5392(0.4269) \n",
      "Epoch: [6][0/83]Data 0.161 (0.161)Elapsed 0m 0s (remain 0m 13s)Loss: 0.5022(0.5022)Grad: 0.1252  \n",
      "Epoch: [6][82/83]Data 0.000 (0.022)Elapsed 0m 2s (remain 0m 0s)Loss: 0.3614(0.5144)Grad: 0.3737  \n",
      "EVAL: [0/21] Data 0.184 (0.184) Elapsed 0m 0s (remain 0m 3s) Loss: 0.3590(0.3590) \n"
     ]
    },
    {
     "name": "stderr",
     "output_type": "stream",
     "text": [
      "Epoch 6 - avg_train_loss: 0.5144 avg_val_loss: 0.4101 time: 3s\n",
      "Epoch 6 - Accuracy: 0.90167046317388\n",
      "Epoch 6 - Save Best Score: 0.9017 Mpdel\n"
     ]
    },
    {
     "name": "stdout",
     "output_type": "stream",
     "text": [
      "EVAL: [20/21] Data 0.027 (0.027) Elapsed 0m 0s (remain 0m 0s) Loss: 0.5187(0.4101) \n",
      "Epoch: [7][0/83]Data 0.178 (0.178)Elapsed 0m 0s (remain 0m 15s)Loss: 0.5459(0.5459)Grad: 0.1410  \n",
      "Epoch: [7][82/83]Data 0.000 (0.022)Elapsed 0m 2s (remain 0m 0s)Loss: 0.6246(0.4984)Grad: 0.2425  \n",
      "EVAL: [0/21] Data 0.184 (0.184) Elapsed 0m 0s (remain 0m 3s) Loss: 0.3498(0.3498) \n"
     ]
    },
    {
     "name": "stderr",
     "output_type": "stream",
     "text": [
      "Epoch 7 - avg_train_loss: 0.4984 avg_val_loss: 0.4029 time: 3s\n",
      "Epoch 7 - Accuracy: 0.9028094153378892\n",
      "Epoch 7 - Save Best Score: 0.9028 Mpdel\n"
     ]
    },
    {
     "name": "stdout",
     "output_type": "stream",
     "text": [
      "EVAL: [20/21] Data 0.000 (0.027) Elapsed 0m 0s (remain 0m 0s) Loss: 0.5106(0.4029) \n",
      "Epoch: [8][0/83]Data 0.163 (0.163)Elapsed 0m 0s (remain 0m 13s)Loss: 0.3690(0.3690)Grad: 0.1190  \n",
      "Epoch: [8][82/83]Data 0.002 (0.022)Elapsed 0m 2s (remain 0m 0s)Loss: 0.4567(0.4993)Grad: 0.2496  \n",
      "EVAL: [0/21] Data 0.159 (0.159) Elapsed 0m 0s (remain 0m 3s) Loss: 0.3451(0.3451) \n"
     ]
    },
    {
     "name": "stderr",
     "output_type": "stream",
     "text": [
      "Epoch 8 - avg_train_loss: 0.4993 avg_val_loss: 0.3996 time: 3s\n",
      "Epoch 8 - Accuracy: 0.9024297646165528\n"
     ]
    },
    {
     "name": "stdout",
     "output_type": "stream",
     "text": [
      "EVAL: [20/21] Data 0.000 (0.027) Elapsed 0m 0s (remain 0m 0s) Loss: 0.5077(0.3996) \n",
      "Epoch: [9][0/83]Data 0.182 (0.182)Elapsed 0m 0s (remain 0m 15s)Loss: 0.3865(0.3865)Grad: 0.1600  \n",
      "Epoch: [9][82/83]Data 0.000 (0.022)Elapsed 0m 2s (remain 0m 0s)Loss: 0.5266(0.4998)Grad: 0.2343  \n",
      "EVAL: [0/21] Data 0.159 (0.159) Elapsed 0m 0s (remain 0m 3s) Loss: 0.3434(0.3434) \n"
     ]
    },
    {
     "name": "stderr",
     "output_type": "stream",
     "text": [
      "Epoch 9 - avg_train_loss: 0.4998 avg_val_loss: 0.3985 time: 3s\n",
      "Epoch 9 - Accuracy: 0.9028094153378892\n"
     ]
    },
    {
     "name": "stdout",
     "output_type": "stream",
     "text": [
      "EVAL: [20/21] Data 0.000 (0.027) Elapsed 0m 0s (remain 0m 0s) Loss: 0.5066(0.3985) \n",
      "Epoch: [10][0/83]Data 0.192 (0.192)Elapsed 0m 0s (remain 0m 16s)Loss: 0.5165(0.5165)Grad: 0.2065  \n",
      "Epoch: [10][82/83]Data 0.000 (0.021)Elapsed 0m 2s (remain 0m 0s)Loss: 0.4986(0.4977)Grad: 0.3323  \n",
      "EVAL: [0/21] Data 0.200 (0.200) Elapsed 0m 0s (remain 0m 4s) Loss: 0.3430(0.3430) \n"
     ]
    },
    {
     "name": "stderr",
     "output_type": "stream",
     "text": [
      "Epoch 10 - avg_train_loss: 0.4977 avg_val_loss: 0.3982 time: 3s\n",
      "Epoch 10 - Accuracy: 0.9028094153378892\n"
     ]
    },
    {
     "name": "stdout",
     "output_type": "stream",
     "text": [
      "EVAL: [20/21] Data 0.026 (0.031) Elapsed 0m 0s (remain 0m 0s) Loss: 0.5062(0.3982) \n",
      "Epoch: [11][0/83]Data 0.178 (0.178)Elapsed 0m 0s (remain 0m 15s)Loss: 0.5165(0.5165)Grad: 0.1111  \n",
      "Epoch: [11][82/83]Data 0.000 (0.021)Elapsed 0m 2s (remain 0m 0s)Loss: 0.5710(0.4916)Grad: 0.3053  \n",
      "EVAL: [0/21] Data 0.260 (0.260) Elapsed 0m 0s (remain 0m 5s) Loss: 0.3320(0.3320) \n"
     ]
    },
    {
     "name": "stderr",
     "output_type": "stream",
     "text": [
      "Epoch 11 - avg_train_loss: 0.4916 avg_val_loss: 0.3904 time: 3s\n",
      "Epoch 11 - Accuracy: 0.90167046317388\n"
     ]
    },
    {
     "name": "stdout",
     "output_type": "stream",
     "text": [
      "EVAL: [20/21] Data 0.000 (0.033) Elapsed 0m 0s (remain 0m 0s) Loss: 0.5037(0.3904) \n",
      "Epoch: [12][0/83]Data 0.194 (0.194)Elapsed 0m 0s (remain 0m 16s)Loss: 0.5132(0.5132)Grad: 0.1555  \n",
      "Epoch: [12][82/83]Data 0.000 (0.025)Elapsed 0m 2s (remain 0m 0s)Loss: 0.4377(0.4837)Grad: 0.3248  \n",
      "EVAL: [0/21] Data 0.187 (0.187) Elapsed 0m 0s (remain 0m 3s) Loss: 0.3278(0.3278) \n"
     ]
    },
    {
     "name": "stderr",
     "output_type": "stream",
     "text": [
      "Epoch 12 - avg_train_loss: 0.4837 avg_val_loss: 0.3874 time: 3s\n",
      "Epoch 12 - Accuracy: 0.9026195899772209\n"
     ]
    },
    {
     "name": "stdout",
     "output_type": "stream",
     "text": [
      "EVAL: [20/21] Data 0.003 (0.026) Elapsed 0m 0s (remain 0m 0s) Loss: 0.5001(0.3874) \n",
      "Epoch: [13][0/83]Data 0.189 (0.189)Elapsed 0m 0s (remain 0m 16s)Loss: 0.6003(0.6003)Grad: 0.3099  \n",
      "Epoch: [13][82/83]Data 0.000 (0.023)Elapsed 0m 2s (remain 0m 0s)Loss: 0.2800(0.4827)Grad: 0.2308  \n",
      "EVAL: [0/21] Data 0.162 (0.162) Elapsed 0m 0s (remain 0m 3s) Loss: 0.3241(0.3241) \n"
     ]
    },
    {
     "name": "stderr",
     "output_type": "stream",
     "text": [
      "Epoch 13 - avg_train_loss: 0.4827 avg_val_loss: 0.3856 time: 3s\n",
      "Epoch 13 - Accuracy: 0.9022399392558846\n"
     ]
    },
    {
     "name": "stdout",
     "output_type": "stream",
     "text": [
      "EVAL: [20/21] Data 0.000 (0.027) Elapsed 0m 0s (remain 0m 0s) Loss: 0.5035(0.3856) \n",
      "Epoch: [14][0/83]Data 0.182 (0.182)Elapsed 0m 0s (remain 0m 15s)Loss: 0.5136(0.5136)Grad: 0.2522  \n",
      "Epoch: [14][82/83]Data 0.000 (0.023)Elapsed 0m 2s (remain 0m 0s)Loss: 0.4752(0.4763)Grad: 0.1958  \n",
      "EVAL: [0/21] Data 0.162 (0.162) Elapsed 0m 0s (remain 0m 3s) Loss: 0.3217(0.3217) \n"
     ]
    },
    {
     "name": "stderr",
     "output_type": "stream",
     "text": [
      "Epoch 14 - avg_train_loss: 0.4763 avg_val_loss: 0.3848 time: 3s\n",
      "Epoch 14 - Accuracy: 0.9018602885345482\n"
     ]
    },
    {
     "name": "stdout",
     "output_type": "stream",
     "text": [
      "EVAL: [20/21] Data 0.000 (0.027) Elapsed 0m 0s (remain 0m 0s) Loss: 0.5077(0.3848) \n",
      "Epoch: [15][0/83]Data 0.186 (0.186)Elapsed 0m 0s (remain 0m 15s)Loss: 0.6052(0.6052)Grad: 0.1885  \n",
      "Epoch: [15][82/83]Data 0.000 (0.022)Elapsed 0m 2s (remain 0m 0s)Loss: 0.4449(0.4764)Grad: 0.3344  \n",
      "EVAL: [0/21] Data 0.161 (0.161) Elapsed 0m 0s (remain 0m 3s) Loss: 0.3206(0.3206) \n"
     ]
    },
    {
     "name": "stderr",
     "output_type": "stream",
     "text": [
      "Epoch 15 - avg_train_loss: 0.4764 avg_val_loss: 0.3839 time: 3s\n",
      "Epoch 15 - Accuracy: 0.9012908124525436\n"
     ]
    },
    {
     "name": "stdout",
     "output_type": "stream",
     "text": [
      "EVAL: [20/21] Data 0.000 (0.027) Elapsed 0m 0s (remain 0m 0s) Loss: 0.5109(0.3839) \n",
      "Epoch: [16][0/83]Data 0.189 (0.189)Elapsed 0m 0s (remain 0m 16s)Loss: 0.4970(0.4970)Grad: 0.1572  \n",
      "Epoch: [16][82/83]Data 0.000 (0.021)Elapsed 0m 2s (remain 0m 0s)Loss: 0.4480(0.4730)Grad: 0.4046  \n",
      "EVAL: [0/21] Data 0.160 (0.160) Elapsed 0m 0s (remain 0m 3s) Loss: 0.3197(0.3197) \n"
     ]
    },
    {
     "name": "stderr",
     "output_type": "stream",
     "text": [
      "Epoch 16 - avg_train_loss: 0.4730 avg_val_loss: 0.3832 time: 3s\n",
      "Epoch 16 - Accuracy: 0.9011009870918755\n"
     ]
    },
    {
     "name": "stdout",
     "output_type": "stream",
     "text": [
      "EVAL: [20/21] Data 0.000 (0.027) Elapsed 0m 0s (remain 0m 0s) Loss: 0.5121(0.3832) \n",
      "Epoch: [17][0/83]Data 0.179 (0.179)Elapsed 0m 0s (remain 0m 15s)Loss: 0.6261(0.6261)Grad: 0.2044  \n",
      "Epoch: [17][82/83]Data 0.000 (0.021)Elapsed 0m 2s (remain 0m 0s)Loss: 0.2718(0.4714)Grad: 0.2009  \n",
      "EVAL: [0/21] Data 0.185 (0.185) Elapsed 0m 0s (remain 0m 3s) Loss: 0.3188(0.3188) \n"
     ]
    },
    {
     "name": "stderr",
     "output_type": "stream",
     "text": [
      "Epoch 17 - avg_train_loss: 0.4714 avg_val_loss: 0.3829 time: 3s\n",
      "Epoch 17 - Accuracy: 0.9011009870918755\n"
     ]
    },
    {
     "name": "stdout",
     "output_type": "stream",
     "text": [
      "EVAL: [20/21] Data 0.000 (0.026) Elapsed 0m 0s (remain 0m 0s) Loss: 0.5156(0.3829) \n",
      "Epoch: [18][0/83]Data 0.219 (0.219)Elapsed 0m 0s (remain 0m 18s)Loss: 0.3701(0.3701)Grad: 0.1691  \n",
      "Epoch: [18][82/83]Data 0.000 (0.023)Elapsed 0m 2s (remain 0m 0s)Loss: 0.7210(0.4729)Grad: 0.4053  \n",
      "EVAL: [0/21] Data 0.211 (0.211) Elapsed 0m 0s (remain 0m 4s) Loss: 0.3189(0.3189) \n"
     ]
    },
    {
     "name": "stderr",
     "output_type": "stream",
     "text": [
      "Epoch 18 - avg_train_loss: 0.4729 avg_val_loss: 0.3829 time: 3s\n",
      "Epoch 18 - Accuracy: 0.9012908124525436\n"
     ]
    },
    {
     "name": "stdout",
     "output_type": "stream",
     "text": [
      "EVAL: [20/21] Data 0.011 (0.027) Elapsed 0m 0s (remain 0m 0s) Loss: 0.5158(0.3829) \n",
      "Epoch: [19][0/83]Data 0.181 (0.181)Elapsed 0m 0s (remain 0m 15s)Loss: 0.4419(0.4419)Grad: 0.1820  \n",
      "Epoch: [19][82/83]Data 0.000 (0.022)Elapsed 0m 2s (remain 0m 0s)Loss: 0.5812(0.4754)Grad: 0.1854  \n",
      "EVAL: [0/21] Data 0.181 (0.181) Elapsed 0m 0s (remain 0m 3s) Loss: 0.3188(0.3188) \n"
     ]
    },
    {
     "name": "stderr",
     "output_type": "stream",
     "text": [
      "Epoch 19 - avg_train_loss: 0.4754 avg_val_loss: 0.3827 time: 3s\n",
      "Epoch 19 - Accuracy: 0.9009111617312073\n"
     ]
    },
    {
     "name": "stdout",
     "output_type": "stream",
     "text": [
      "EVAL: [20/21] Data 0.000 (0.027) Elapsed 0m 0s (remain 0m 0s) Loss: 0.5161(0.3827) \n",
      "Epoch: [20][0/83]Data 0.181 (0.181)Elapsed 0m 0s (remain 0m 15s)Loss: 0.4064(0.4064)Grad: 0.0792  \n",
      "Epoch: [20][82/83]Data 0.000 (0.024)Elapsed 0m 2s (remain 0m 0s)Loss: 0.4482(0.4700)Grad: 0.2562  \n",
      "EVAL: [0/21] Data 0.217 (0.217) Elapsed 0m 0s (remain 0m 4s) Loss: 0.3187(0.3187) \n"
     ]
    },
    {
     "name": "stderr",
     "output_type": "stream",
     "text": [
      "Epoch 20 - avg_train_loss: 0.4700 avg_val_loss: 0.3827 time: 3s\n",
      "Epoch 20 - Accuracy: 0.9009111617312073\n"
     ]
    },
    {
     "name": "stdout",
     "output_type": "stream",
     "text": [
      "EVAL: [20/21] Data 0.000 (0.028) Elapsed 0m 0s (remain 0m 0s) Loss: 0.5164(0.3827) \n",
      "Epoch: [21][0/83]Data 0.181 (0.181)Elapsed 0m 0s (remain 0m 15s)Loss: 0.5140(0.5140)Grad: 0.2085  \n",
      "Epoch: [21][82/83]Data 0.000 (0.025)Elapsed 0m 2s (remain 0m 0s)Loss: 0.3962(0.4729)Grad: 0.2054  \n",
      "EVAL: [0/21] Data 0.186 (0.186) Elapsed 0m 0s (remain 0m 3s) Loss: 0.3171(0.3171) \n"
     ]
    },
    {
     "name": "stderr",
     "output_type": "stream",
     "text": [
      "Epoch 21 - avg_train_loss: 0.4729 avg_val_loss: 0.3824 time: 3s\n",
      "Epoch 21 - Accuracy: 0.9009111617312073\n"
     ]
    },
    {
     "name": "stdout",
     "output_type": "stream",
     "text": [
      "EVAL: [20/21] Data 0.019 (0.027) Elapsed 0m 0s (remain 0m 0s) Loss: 0.5228(0.3824) \n",
      "Epoch: [22][0/83]Data 0.181 (0.181)Elapsed 0m 0s (remain 0m 15s)Loss: 0.4157(0.4157)Grad: 0.1469  \n",
      "Epoch: [22][82/83]Data 0.000 (0.025)Elapsed 0m 2s (remain 0m 0s)Loss: 0.4963(0.4732)Grad: 0.2258  \n",
      "EVAL: [0/21] Data 0.193 (0.193) Elapsed 0m 0s (remain 0m 3s) Loss: 0.3175(0.3175) \n"
     ]
    },
    {
     "name": "stderr",
     "output_type": "stream",
     "text": [
      "Epoch 22 - avg_train_loss: 0.4732 avg_val_loss: 0.3821 time: 3s\n",
      "Epoch 22 - Accuracy: 0.9012908124525436\n"
     ]
    },
    {
     "name": "stdout",
     "output_type": "stream",
     "text": [
      "EVAL: [20/21] Data 0.000 (0.028) Elapsed 0m 0s (remain 0m 0s) Loss: 0.5200(0.3821) \n",
      "Epoch: [23][0/83]Data 0.181 (0.181)Elapsed 0m 0s (remain 0m 15s)Loss: 0.5939(0.5939)Grad: 0.1407  \n",
      "Epoch: [23][82/83]Data 0.000 (0.022)Elapsed 0m 2s (remain 0m 0s)Loss: 0.4393(0.4727)Grad: 0.1999  \n",
      "EVAL: [0/21] Data 0.190 (0.190) Elapsed 0m 0s (remain 0m 3s) Loss: 0.3178(0.3178) \n"
     ]
    },
    {
     "name": "stderr",
     "output_type": "stream",
     "text": [
      "Epoch 23 - avg_train_loss: 0.4727 avg_val_loss: 0.3822 time: 3s\n",
      "Epoch 23 - Accuracy: 0.9012908124525436\n"
     ]
    },
    {
     "name": "stdout",
     "output_type": "stream",
     "text": [
      "EVAL: [20/21] Data 0.000 (0.027) Elapsed 0m 0s (remain 0m 0s) Loss: 0.5249(0.3822) \n",
      "Epoch: [24][0/83]Data 0.180 (0.180)Elapsed 0m 0s (remain 0m 15s)Loss: 0.5048(0.5048)Grad: 0.1124  \n",
      "Epoch: [24][82/83]Data 0.000 (0.021)Elapsed 0m 2s (remain 0m 0s)Loss: 0.4664(0.4674)Grad: 0.2039  \n",
      "EVAL: [0/21] Data 0.197 (0.197) Elapsed 0m 0s (remain 0m 3s) Loss: 0.3154(0.3154) \n"
     ]
    },
    {
     "name": "stderr",
     "output_type": "stream",
     "text": [
      "Epoch 24 - avg_train_loss: 0.4674 avg_val_loss: 0.3816 time: 3s\n",
      "Epoch 24 - Accuracy: 0.9011009870918755\n"
     ]
    },
    {
     "name": "stdout",
     "output_type": "stream",
     "text": [
      "EVAL: [20/21] Data 0.011 (0.027) Elapsed 0m 0s (remain 0m 0s) Loss: 0.5286(0.3816) \n",
      "Epoch: [25][0/83]Data 0.168 (0.168)Elapsed 0m 0s (remain 0m 14s)Loss: 0.4401(0.4401)Grad: 0.1313  \n",
      "Epoch: [25][82/83]Data 0.000 (0.023)Elapsed 0m 2s (remain 0m 0s)Loss: 0.5234(0.4642)Grad: 0.2663  \n",
      "EVAL: [0/21] Data 0.157 (0.157) Elapsed 0m 0s (remain 0m 3s) Loss: 0.3156(0.3156) \n"
     ]
    },
    {
     "name": "stderr",
     "output_type": "stream",
     "text": [
      "Epoch 25 - avg_train_loss: 0.4642 avg_val_loss: 0.3815 time: 3s\n",
      "Epoch 25 - Accuracy: 0.9012908124525436\n"
     ]
    },
    {
     "name": "stdout",
     "output_type": "stream",
     "text": [
      "EVAL: [20/21] Data 0.000 (0.027) Elapsed 0m 0s (remain 0m 0s) Loss: 0.5330(0.3815) \n",
      "Epoch: [26][0/83]Data 0.166 (0.166)Elapsed 0m 0s (remain 0m 14s)Loss: 0.3397(0.3397)Grad: 0.1367  \n",
      "Epoch: [26][82/83]Data 0.000 (0.023)Elapsed 0m 2s (remain 0m 0s)Loss: 0.3831(0.4687)Grad: 0.3196  \n",
      "EVAL: [0/21] Data 0.160 (0.160) Elapsed 0m 0s (remain 0m 3s) Loss: 0.3163(0.3163) \n"
     ]
    },
    {
     "name": "stderr",
     "output_type": "stream",
     "text": [
      "Epoch 26 - avg_train_loss: 0.4687 avg_val_loss: 0.3817 time: 3s\n",
      "Epoch 26 - Accuracy: 0.9012908124525436\n"
     ]
    },
    {
     "name": "stdout",
     "output_type": "stream",
     "text": [
      "EVAL: [20/21] Data 0.008 (0.027) Elapsed 0m 0s (remain 0m 0s) Loss: 0.5313(0.3817) \n",
      "Epoch: [27][0/83]Data 0.187 (0.187)Elapsed 0m 0s (remain 0m 15s)Loss: 0.4267(0.4267)Grad: 0.1018  \n",
      "Epoch: [27][82/83]Data 0.000 (0.023)Elapsed 0m 2s (remain 0m 0s)Loss: 0.4155(0.4701)Grad: 0.2234  \n",
      "EVAL: [0/21] Data 0.185 (0.185) Elapsed 0m 0s (remain 0m 3s) Loss: 0.3159(0.3159) \n"
     ]
    },
    {
     "name": "stderr",
     "output_type": "stream",
     "text": [
      "Epoch 27 - avg_train_loss: 0.4701 avg_val_loss: 0.3816 time: 3s\n",
      "Epoch 27 - Accuracy: 0.9014806378132119\n"
     ]
    },
    {
     "name": "stdout",
     "output_type": "stream",
     "text": [
      "EVAL: [20/21] Data 0.000 (0.027) Elapsed 0m 0s (remain 0m 0s) Loss: 0.5318(0.3816) \n",
      "Epoch: [28][0/83]Data 0.185 (0.185)Elapsed 0m 0s (remain 0m 15s)Loss: 0.4605(0.4605)Grad: 0.0783  \n",
      "Epoch: [28][82/83]Data 0.000 (0.023)Elapsed 0m 2s (remain 0m 0s)Loss: 0.4220(0.4682)Grad: 0.2242  \n",
      "EVAL: [0/21] Data 0.217 (0.217) Elapsed 0m 0s (remain 0m 4s) Loss: 0.3159(0.3159) \n"
     ]
    },
    {
     "name": "stderr",
     "output_type": "stream",
     "text": [
      "Epoch 28 - avg_train_loss: 0.4682 avg_val_loss: 0.3816 time: 3s\n",
      "Epoch 28 - Accuracy: 0.9014806378132119\n"
     ]
    },
    {
     "name": "stdout",
     "output_type": "stream",
     "text": [
      "EVAL: [20/21] Data 0.023 (0.027) Elapsed 0m 0s (remain 0m 0s) Loss: 0.5330(0.3816) \n",
      "Epoch: [29][0/83]Data 0.187 (0.187)Elapsed 0m 0s (remain 0m 15s)Loss: 0.4306(0.4306)Grad: 0.1106  \n",
      "Epoch: [29][82/83]Data 0.000 (0.021)Elapsed 0m 2s (remain 0m 0s)Loss: 0.2727(0.4643)Grad: 0.1946  \n",
      "EVAL: [0/21] Data 0.185 (0.185) Elapsed 0m 0s (remain 0m 3s) Loss: 0.3159(0.3159) \n"
     ]
    },
    {
     "name": "stderr",
     "output_type": "stream",
     "text": [
      "Epoch 29 - avg_train_loss: 0.4643 avg_val_loss: 0.3816 time: 3s\n",
      "Epoch 29 - Accuracy: 0.9014806378132119\n"
     ]
    },
    {
     "name": "stdout",
     "output_type": "stream",
     "text": [
      "EVAL: [20/21] Data 0.002 (0.026) Elapsed 0m 0s (remain 0m 0s) Loss: 0.5333(0.3816) \n",
      "Epoch: [30][0/83]Data 0.176 (0.176)Elapsed 0m 0s (remain 0m 15s)Loss: 0.4437(0.4437)Grad: 0.1501  \n",
      "Epoch: [30][82/83]Data 0.000 (0.021)Elapsed 0m 2s (remain 0m 0s)Loss: 0.3690(0.4641)Grad: 0.1839  \n",
      "EVAL: [0/21] Data 0.196 (0.196) Elapsed 0m 0s (remain 0m 3s) Loss: 0.3159(0.3159) \n"
     ]
    },
    {
     "name": "stderr",
     "output_type": "stream",
     "text": [
      "Epoch 30 - avg_train_loss: 0.4641 avg_val_loss: 0.3816 time: 3s\n",
      "Epoch 30 - Accuracy: 0.9014806378132119\n",
      "=============== fold: 0 result ================\n",
      "Score: 0.90281\n",
      "========== fold: 1 training ============\n"
     ]
    },
    {
     "name": "stdout",
     "output_type": "stream",
     "text": [
      "EVAL: [20/21] Data 0.022 (0.028) Elapsed 0m 0s (remain 0m 0s) Loss: 0.5333(0.3816) \n",
      "Epoch: [1][0/83]Data 0.169 (0.169)Elapsed 0m 0s (remain 0m 14s)Loss: 1.6330(1.6330)Grad: 0.5404  \n",
      "Epoch: [1][82/83]Data 0.000 (0.022)Elapsed 0m 2s (remain 0m 0s)Loss: 1.3924(1.5062)Grad: 0.5137  \n",
      "EVAL: [0/21] Data 0.209 (0.209) Elapsed 0m 0s (remain 0m 4s) Loss: 1.3367(1.3367) \n"
     ]
    },
    {
     "name": "stderr",
     "output_type": "stream",
     "text": [
      "Epoch 1 - avg_train_loss: 1.5062 avg_val_loss: 1.3490 time: 3s\n",
      "Epoch 1 - Accuracy: 0.7488610478359908\n",
      "Epoch 1 - Save Best Score: 0.7489 Mpdel\n"
     ]
    },
    {
     "name": "stdout",
     "output_type": "stream",
     "text": [
      "EVAL: [20/21] Data 0.000 (0.027) Elapsed 0m 0s (remain 0m 0s) Loss: 1.3860(1.3490) \n",
      "Epoch: [2][0/83]Data 0.198 (0.198)Elapsed 0m 0s (remain 0m 16s)Loss: 1.3285(1.3285)Grad: 0.6872  \n",
      "Epoch: [2][82/83]Data 0.005 (0.022)Elapsed 0m 2s (remain 0m 0s)Loss: 0.9156(1.1324)Grad: 0.4682  \n",
      "EVAL: [0/21] Data 0.188 (0.188) Elapsed 0m 0s (remain 0m 3s) Loss: 0.8480(0.8480) \n"
     ]
    },
    {
     "name": "stderr",
     "output_type": "stream",
     "text": [
      "Epoch 2 - avg_train_loss: 1.1324 avg_val_loss: 0.8503 time: 3s\n",
      "Epoch 2 - Accuracy: 0.8392179195140471\n",
      "Epoch 2 - Save Best Score: 0.8392 Mpdel\n"
     ]
    },
    {
     "name": "stdout",
     "output_type": "stream",
     "text": [
      "EVAL: [20/21] Data 0.004 (0.026) Elapsed 0m 0s (remain 0m 0s) Loss: 0.9314(0.8503) \n",
      "Epoch: [3][0/83]Data 0.184 (0.184)Elapsed 0m 0s (remain 0m 17s)Loss: 0.8686(0.8686)Grad: 0.5737  \n",
      "Epoch: [3][82/83]Data 0.000 (0.025)Elapsed 0m 2s (remain 0m 0s)Loss: 0.5384(0.7064)Grad: 0.3090  \n",
      "EVAL: [0/21] Data 0.160 (0.160) Elapsed 0m 0s (remain 0m 3s) Loss: 0.5954(0.5954) \n"
     ]
    },
    {
     "name": "stderr",
     "output_type": "stream",
     "text": [
      "Epoch 3 - avg_train_loss: 0.7064 avg_val_loss: 0.5544 time: 3s\n",
      "Epoch 3 - Accuracy: 0.857630979498861\n",
      "Epoch 3 - Save Best Score: 0.8576 Mpdel\n"
     ]
    },
    {
     "name": "stdout",
     "output_type": "stream",
     "text": [
      "EVAL: [20/21] Data 0.000 (0.027) Elapsed 0m 0s (remain 0m 0s) Loss: 0.6447(0.5544) \n",
      "Epoch: [4][0/83]Data 0.195 (0.195)Elapsed 0m 0s (remain 0m 16s)Loss: 0.5650(0.5650)Grad: 0.3062  \n",
      "Epoch: [4][82/83]Data 0.000 (0.022)Elapsed 0m 2s (remain 0m 0s)Loss: 0.5602(0.5480)Grad: 0.2703  \n",
      "EVAL: [0/21] Data 0.196 (0.196) Elapsed 0m 0s (remain 0m 3s) Loss: 0.5540(0.5540) \n"
     ]
    },
    {
     "name": "stderr",
     "output_type": "stream",
     "text": [
      "Epoch 4 - avg_train_loss: 0.5480 avg_val_loss: 0.4794 time: 3s\n",
      "Epoch 4 - Accuracy: 0.8851556567957479\n",
      "Epoch 4 - Save Best Score: 0.8852 Mpdel\n"
     ]
    },
    {
     "name": "stdout",
     "output_type": "stream",
     "text": [
      "EVAL: [20/21] Data 0.000 (0.027) Elapsed 0m 0s (remain 0m 0s) Loss: 0.5635(0.4794) \n",
      "Epoch: [5][0/83]Data 0.181 (0.181)Elapsed 0m 0s (remain 0m 15s)Loss: 0.5027(0.5027)Grad: 0.1667  \n",
      "Epoch: [5][82/83]Data 0.000 (0.022)Elapsed 0m 2s (remain 0m 0s)Loss: 0.5369(0.5114)Grad: 0.2987  \n",
      "EVAL: [0/21] Data 0.253 (0.253) Elapsed 0m 0s (remain 0m 5s) Loss: 0.5493(0.5493) \n"
     ]
    },
    {
     "name": "stderr",
     "output_type": "stream",
     "text": [
      "Epoch 5 - avg_train_loss: 0.5114 avg_val_loss: 0.4566 time: 3s\n",
      "Epoch 5 - Accuracy: 0.8881928625664389\n",
      "Epoch 5 - Save Best Score: 0.8882 Mpdel\n"
     ]
    },
    {
     "name": "stdout",
     "output_type": "stream",
     "text": [
      "EVAL: [20/21] Data 0.023 (0.031) Elapsed 0m 0s (remain 0m 0s) Loss: 0.5409(0.4566) \n",
      "Epoch: [6][0/83]Data 0.176 (0.176)Elapsed 0m 0s (remain 0m 15s)Loss: 0.5571(0.5571)Grad: 0.1513  \n",
      "Epoch: [6][82/83]Data 0.000 (0.024)Elapsed 0m 2s (remain 0m 0s)Loss: 0.5405(0.4931)Grad: 0.2378  \n",
      "EVAL: [0/21] Data 0.185 (0.185) Elapsed 0m 0s (remain 0m 3s) Loss: 0.5485(0.5485) \n"
     ]
    },
    {
     "name": "stderr",
     "output_type": "stream",
     "text": [
      "Epoch 6 - avg_train_loss: 0.4931 avg_val_loss: 0.4449 time: 3s\n",
      "Epoch 6 - Accuracy: 0.8885725132877752\n",
      "Epoch 6 - Save Best Score: 0.8886 Mpdel\n"
     ]
    },
    {
     "name": "stdout",
     "output_type": "stream",
     "text": [
      "EVAL: [20/21] Data 0.000 (0.028) Elapsed 0m 0s (remain 0m 0s) Loss: 0.5288(0.4449) \n",
      "Epoch: [7][0/83]Data 0.177 (0.177)Elapsed 0m 0s (remain 0m 15s)Loss: 0.5638(0.5638)Grad: 0.2189  \n",
      "Epoch: [7][82/83]Data 0.000 (0.023)Elapsed 0m 2s (remain 0m 0s)Loss: 0.3523(0.4801)Grad: 0.2019  \n",
      "EVAL: [0/21] Data 0.175 (0.175) Elapsed 0m 0s (remain 0m 3s) Loss: 0.5472(0.5472) \n"
     ]
    },
    {
     "name": "stderr",
     "output_type": "stream",
     "text": [
      "Epoch 7 - avg_train_loss: 0.4801 avg_val_loss: 0.4383 time: 3s\n",
      "Epoch 7 - Accuracy: 0.8881928625664389\n"
     ]
    },
    {
     "name": "stdout",
     "output_type": "stream",
     "text": [
      "EVAL: [20/21] Data 0.000 (0.027) Elapsed 0m 0s (remain 0m 0s) Loss: 0.5210(0.4383) \n",
      "Epoch: [8][0/83]Data 0.166 (0.166)Elapsed 0m 0s (remain 0m 14s)Loss: 0.4842(0.4842)Grad: 0.1169  \n",
      "Epoch: [8][82/83]Data 0.002 (0.021)Elapsed 0m 2s (remain 0m 0s)Loss: 0.2841(0.4783)Grad: 0.2482  \n",
      "EVAL: [0/21] Data 0.181 (0.181) Elapsed 0m 0s (remain 0m 3s) Loss: 0.5452(0.5452) \n"
     ]
    },
    {
     "name": "stderr",
     "output_type": "stream",
     "text": [
      "Epoch 8 - avg_train_loss: 0.4783 avg_val_loss: 0.4346 time: 3s\n",
      "Epoch 8 - Accuracy: 0.8878132118451025\n"
     ]
    },
    {
     "name": "stdout",
     "output_type": "stream",
     "text": [
      "EVAL: [20/21] Data 0.000 (0.027) Elapsed 0m 0s (remain 0m 0s) Loss: 0.5172(0.4346) \n",
      "Epoch: [9][0/83]Data 0.206 (0.206)Elapsed 0m 0s (remain 0m 17s)Loss: 0.5380(0.5380)Grad: 0.1442  \n",
      "Epoch: [9][82/83]Data 0.000 (0.022)Elapsed 0m 2s (remain 0m 0s)Loss: 0.4926(0.4740)Grad: 0.2838  \n",
      "EVAL: [0/21] Data 0.183 (0.183) Elapsed 0m 0s (remain 0m 3s) Loss: 0.5443(0.5443) \n"
     ]
    },
    {
     "name": "stderr",
     "output_type": "stream",
     "text": [
      "Epoch 9 - avg_train_loss: 0.4740 avg_val_loss: 0.4330 time: 3s\n",
      "Epoch 9 - Accuracy: 0.8878132118451025\n"
     ]
    },
    {
     "name": "stdout",
     "output_type": "stream",
     "text": [
      "EVAL: [20/21] Data 0.000 (0.027) Elapsed 0m 0s (remain 0m 0s) Loss: 0.5152(0.4330) \n",
      "Epoch: [10][0/83]Data 0.190 (0.190)Elapsed 0m 0s (remain 0m 16s)Loss: 0.4617(0.4617)Grad: 0.1139  \n",
      "Epoch: [10][82/83]Data 0.000 (0.021)Elapsed 0m 2s (remain 0m 0s)Loss: 0.3891(0.4765)Grad: 0.1932  \n",
      "EVAL: [0/21] Data 0.175 (0.175) Elapsed 0m 0s (remain 0m 3s) Loss: 0.5441(0.5441) \n"
     ]
    },
    {
     "name": "stderr",
     "output_type": "stream",
     "text": [
      "Epoch 10 - avg_train_loss: 0.4765 avg_val_loss: 0.4326 time: 3s\n",
      "Epoch 10 - Accuracy: 0.8878132118451025\n"
     ]
    },
    {
     "name": "stdout",
     "output_type": "stream",
     "text": [
      "EVAL: [20/21] Data 0.000 (0.029) Elapsed 0m 0s (remain 0m 0s) Loss: 0.5147(0.4326) \n",
      "Epoch: [11][0/83]Data 0.182 (0.182)Elapsed 0m 0s (remain 0m 15s)Loss: 0.4398(0.4398)Grad: 0.1334  \n",
      "Epoch: [11][82/83]Data 0.000 (0.022)Elapsed 0m 2s (remain 0m 0s)Loss: 0.3444(0.4637)Grad: 0.1890  \n",
      "EVAL: [0/21] Data 0.204 (0.204) Elapsed 0m 0s (remain 0m 4s) Loss: 0.5356(0.5356) \n"
     ]
    },
    {
     "name": "stderr",
     "output_type": "stream",
     "text": [
      "Epoch 11 - avg_train_loss: 0.4637 avg_val_loss: 0.4202 time: 3s\n",
      "Epoch 11 - Accuracy: 0.8874335611237661\n"
     ]
    },
    {
     "name": "stdout",
     "output_type": "stream",
     "text": [
      "EVAL: [20/21] Data 0.016 (0.027) Elapsed 0m 0s (remain 0m 0s) Loss: 0.5018(0.4202) \n",
      "Epoch: [12][0/83]Data 0.190 (0.190)Elapsed 0m 0s (remain 0m 16s)Loss: 0.4099(0.4099)Grad: 0.1167  \n",
      "Epoch: [12][82/83]Data 0.000 (0.024)Elapsed 0m 2s (remain 0m 0s)Loss: 0.4889(0.4563)Grad: 0.3371  \n",
      "EVAL: [0/21] Data 0.190 (0.190) Elapsed 0m 0s (remain 0m 3s) Loss: 0.5294(0.5294) \n"
     ]
    },
    {
     "name": "stderr",
     "output_type": "stream",
     "text": [
      "Epoch 12 - avg_train_loss: 0.4563 avg_val_loss: 0.4134 time: 3s\n",
      "Epoch 12 - Accuracy: 0.8872437357630979\n"
     ]
    },
    {
     "name": "stdout",
     "output_type": "stream",
     "text": [
      "EVAL: [20/21] Data 0.003 (0.027) Elapsed 0m 0s (remain 0m 0s) Loss: 0.4937(0.4134) \n",
      "Epoch: [13][0/83]Data 0.185 (0.185)Elapsed 0m 0s (remain 0m 15s)Loss: 0.3547(0.3547)Grad: 0.1536  \n",
      "Epoch: [13][82/83]Data 0.000 (0.027)Elapsed 0m 2s (remain 0m 0s)Loss: 0.4378(0.4500)Grad: 0.2470  \n",
      "EVAL: [0/21] Data 0.161 (0.161) Elapsed 0m 0s (remain 0m 3s) Loss: 0.5249(0.5249) \n"
     ]
    },
    {
     "name": "stderr",
     "output_type": "stream",
     "text": [
      "Epoch 13 - avg_train_loss: 0.4500 avg_val_loss: 0.4103 time: 3s\n",
      "Epoch 13 - Accuracy: 0.8876233864844343\n"
     ]
    },
    {
     "name": "stdout",
     "output_type": "stream",
     "text": [
      "EVAL: [20/21] Data 0.000 (0.027) Elapsed 0m 0s (remain 0m 0s) Loss: 0.4915(0.4103) \n",
      "Epoch: [14][0/83]Data 0.171 (0.171)Elapsed 0m 0s (remain 0m 14s)Loss: 0.4377(0.4377)Grad: 0.1163  \n",
      "Epoch: [14][82/83]Data 0.000 (0.022)Elapsed 0m 2s (remain 0m 0s)Loss: 0.5059(0.4508)Grad: 0.2242  \n",
      "EVAL: [0/21] Data 0.211 (0.211) Elapsed 0m 0s (remain 0m 4s) Loss: 0.5233(0.5233) \n"
     ]
    },
    {
     "name": "stderr",
     "output_type": "stream",
     "text": [
      "Epoch 14 - avg_train_loss: 0.4508 avg_val_loss: 0.4085 time: 3s\n",
      "Epoch 14 - Accuracy: 0.8876233864844343\n"
     ]
    },
    {
     "name": "stdout",
     "output_type": "stream",
     "text": [
      "EVAL: [20/21] Data 0.000 (0.028) Elapsed 0m 0s (remain 0m 0s) Loss: 0.4865(0.4085) \n",
      "Epoch: [15][0/83]Data 0.187 (0.187)Elapsed 0m 0s (remain 0m 15s)Loss: 0.4994(0.4994)Grad: 0.1500  \n",
      "Epoch: [15][82/83]Data 0.002 (0.023)Elapsed 0m 2s (remain 0m 0s)Loss: 0.1902(0.4457)Grad: 0.2103  \n",
      "EVAL: [0/21] Data 0.166 (0.166) Elapsed 0m 0s (remain 0m 3s) Loss: 0.5221(0.5221) \n"
     ]
    },
    {
     "name": "stderr",
     "output_type": "stream",
     "text": [
      "Epoch 15 - avg_train_loss: 0.4457 avg_val_loss: 0.4081 time: 3s\n",
      "Epoch 15 - Accuracy: 0.8874335611237661\n"
     ]
    },
    {
     "name": "stdout",
     "output_type": "stream",
     "text": [
      "EVAL: [20/21] Data 0.000 (0.028) Elapsed 0m 0s (remain 0m 0s) Loss: 0.4888(0.4081) \n",
      "Epoch: [16][0/83]Data 0.178 (0.178)Elapsed 0m 0s (remain 0m 15s)Loss: 0.4239(0.4239)Grad: 0.1019  \n",
      "Epoch: [16][82/83]Data 0.000 (0.022)Elapsed 0m 2s (remain 0m 0s)Loss: 0.2694(0.4455)Grad: 0.2971  \n",
      "EVAL: [0/21] Data 0.165 (0.165) Elapsed 0m 0s (remain 0m 3s) Loss: 0.5224(0.5224) \n"
     ]
    },
    {
     "name": "stderr",
     "output_type": "stream",
     "text": [
      "Epoch 16 - avg_train_loss: 0.4455 avg_val_loss: 0.4073 time: 3s\n",
      "Epoch 16 - Accuracy: 0.8874335611237661\n"
     ]
    },
    {
     "name": "stdout",
     "output_type": "stream",
     "text": [
      "EVAL: [20/21] Data 0.000 (0.027) Elapsed 0m 0s (remain 0m 0s) Loss: 0.4865(0.4073) \n",
      "Epoch: [17][0/83]Data 0.210 (0.210)Elapsed 0m 0s (remain 0m 17s)Loss: 0.4831(0.4831)Grad: 0.1571  \n",
      "Epoch: [17][82/83]Data 0.000 (0.022)Elapsed 0m 2s (remain 0m 0s)Loss: 0.3627(0.4448)Grad: 0.2090  \n",
      "EVAL: [0/21] Data 0.173 (0.173) Elapsed 0m 0s (remain 0m 3s) Loss: 0.5222(0.5222) \n"
     ]
    },
    {
     "name": "stderr",
     "output_type": "stream",
     "text": [
      "Epoch 17 - avg_train_loss: 0.4448 avg_val_loss: 0.4071 time: 3s\n",
      "Epoch 17 - Accuracy: 0.8874335611237661\n"
     ]
    },
    {
     "name": "stdout",
     "output_type": "stream",
     "text": [
      "EVAL: [20/21] Data 0.000 (0.027) Elapsed 0m 0s (remain 0m 0s) Loss: 0.4862(0.4071) \n",
      "Epoch: [18][0/83]Data 0.179 (0.179)Elapsed 0m 0s (remain 0m 15s)Loss: 0.5146(0.5146)Grad: 0.1704  \n",
      "Epoch: [18][82/83]Data 0.000 (0.021)Elapsed 0m 2s (remain 0m 0s)Loss: 0.5165(0.4456)Grad: 0.1678  \n",
      "EVAL: [0/21] Data 0.207 (0.207) Elapsed 0m 0s (remain 0m 4s) Loss: 0.5214(0.5214) \n"
     ]
    },
    {
     "name": "stderr",
     "output_type": "stream",
     "text": [
      "Epoch 18 - avg_train_loss: 0.4456 avg_val_loss: 0.4068 time: 3s\n",
      "Epoch 18 - Accuracy: 0.8874335611237661\n"
     ]
    },
    {
     "name": "stdout",
     "output_type": "stream",
     "text": [
      "EVAL: [20/21] Data 0.019 (0.028) Elapsed 0m 0s (remain 0m 0s) Loss: 0.4856(0.4068) \n",
      "Epoch: [19][0/83]Data 0.179 (0.179)Elapsed 0m 0s (remain 0m 15s)Loss: 0.4915(0.4915)Grad: 0.1280  \n",
      "Epoch: [19][82/83]Data 0.000 (0.025)Elapsed 0m 2s (remain 0m 0s)Loss: 0.4362(0.4430)Grad: 0.2038  \n",
      "EVAL: [0/21] Data 0.195 (0.195) Elapsed 0m 0s (remain 0m 3s) Loss: 0.5212(0.5212) \n"
     ]
    },
    {
     "name": "stderr",
     "output_type": "stream",
     "text": [
      "Epoch 19 - avg_train_loss: 0.4430 avg_val_loss: 0.4068 time: 3s\n",
      "Epoch 19 - Accuracy: 0.8874335611237661\n"
     ]
    },
    {
     "name": "stdout",
     "output_type": "stream",
     "text": [
      "EVAL: [20/21] Data 0.002 (0.027) Elapsed 0m 0s (remain 0m 0s) Loss: 0.4856(0.4068) \n",
      "Epoch: [20][0/83]Data 0.165 (0.165)Elapsed 0m 0s (remain 0m 14s)Loss: 0.3825(0.3825)Grad: 0.1952  \n",
      "Epoch: [20][82/83]Data 0.000 (0.023)Elapsed 0m 2s (remain 0m 0s)Loss: 0.7168(0.4468)Grad: 0.3285  \n",
      "EVAL: [0/21] Data 0.222 (0.222) Elapsed 0m 0s (remain 0m 4s) Loss: 0.5212(0.5212) \n"
     ]
    },
    {
     "name": "stderr",
     "output_type": "stream",
     "text": [
      "Epoch 20 - avg_train_loss: 0.4468 avg_val_loss: 0.4068 time: 3s\n",
      "Epoch 20 - Accuracy: 0.8874335611237661\n"
     ]
    },
    {
     "name": "stdout",
     "output_type": "stream",
     "text": [
      "EVAL: [20/21] Data 0.000 (0.030) Elapsed 0m 0s (remain 0m 0s) Loss: 0.4857(0.4068) \n",
      "Epoch: [21][0/83]Data 0.185 (0.185)Elapsed 0m 0s (remain 0m 15s)Loss: 0.5326(0.5326)Grad: 0.1226  \n",
      "Epoch: [21][82/83]Data 0.000 (0.023)Elapsed 0m 2s (remain 0m 0s)Loss: 0.4833(0.4429)Grad: 0.2203  \n",
      "EVAL: [0/21] Data 0.177 (0.177) Elapsed 0m 0s (remain 0m 3s) Loss: 0.5207(0.5207) \n"
     ]
    },
    {
     "name": "stderr",
     "output_type": "stream",
     "text": [
      "Epoch 21 - avg_train_loss: 0.4429 avg_val_loss: 0.4066 time: 3s\n",
      "Epoch 21 - Accuracy: 0.8874335611237661\n"
     ]
    },
    {
     "name": "stdout",
     "output_type": "stream",
     "text": [
      "EVAL: [20/21] Data 0.000 (0.028) Elapsed 0m 0s (remain 0m 0s) Loss: 0.4870(0.4066) \n",
      "Epoch: [22][0/83]Data 0.192 (0.192)Elapsed 0m 0s (remain 0m 16s)Loss: 0.3085(0.3085)Grad: 0.1329  \n",
      "Epoch: [22][82/83]Data 0.000 (0.024)Elapsed 0m 2s (remain 0m 0s)Loss: 0.4011(0.4412)Grad: 0.4133  \n",
      "EVAL: [0/21] Data 0.187 (0.187) Elapsed 0m 0s (remain 0m 3s) Loss: 0.5178(0.5178) \n"
     ]
    },
    {
     "name": "stderr",
     "output_type": "stream",
     "text": [
      "Epoch 22 - avg_train_loss: 0.4412 avg_val_loss: 0.4055 time: 3s\n",
      "Epoch 22 - Accuracy: 0.8872437357630979\n"
     ]
    },
    {
     "name": "stdout",
     "output_type": "stream",
     "text": [
      "EVAL: [20/21] Data 0.002 (0.027) Elapsed 0m 0s (remain 0m 0s) Loss: 0.4838(0.4055) \n",
      "Epoch: [23][0/83]Data 0.162 (0.162)Elapsed 0m 0s (remain 0m 13s)Loss: 0.4383(0.4383)Grad: 0.1414  \n",
      "Epoch: [23][82/83]Data 0.000 (0.023)Elapsed 0m 2s (remain 0m 0s)Loss: 0.4820(0.4401)Grad: 0.2433  \n",
      "EVAL: [0/21] Data 0.157 (0.157) Elapsed 0m 0s (remain 0m 3s) Loss: 0.5176(0.5176) \n"
     ]
    },
    {
     "name": "stderr",
     "output_type": "stream",
     "text": [
      "Epoch 23 - avg_train_loss: 0.4401 avg_val_loss: 0.4052 time: 3s\n",
      "Epoch 23 - Accuracy: 0.8876233864844343\n"
     ]
    },
    {
     "name": "stdout",
     "output_type": "stream",
     "text": [
      "EVAL: [20/21] Data 0.031 (0.031) Elapsed 0m 0s (remain 0m 0s) Loss: 0.4854(0.4052) \n",
      "Epoch: [24][0/83]Data 0.184 (0.184)Elapsed 0m 0s (remain 0m 16s)Loss: 0.5027(0.5027)Grad: 0.1829  \n",
      "Epoch: [24][82/83]Data 0.000 (0.025)Elapsed 0m 2s (remain 0m 0s)Loss: 0.5802(0.4400)Grad: 0.2560  \n",
      "EVAL: [0/21] Data 0.193 (0.193) Elapsed 0m 0s (remain 0m 3s) Loss: 0.5185(0.5185) \n"
     ]
    },
    {
     "name": "stderr",
     "output_type": "stream",
     "text": [
      "Epoch 24 - avg_train_loss: 0.4400 avg_val_loss: 0.4047 time: 3s\n",
      "Epoch 24 - Accuracy: 0.8874335611237661\n"
     ]
    },
    {
     "name": "stdout",
     "output_type": "stream",
     "text": [
      "EVAL: [20/21] Data 0.000 (0.027) Elapsed 0m 0s (remain 0m 0s) Loss: 0.4841(0.4047) \n",
      "Epoch: [25][0/83]Data 0.182 (0.182)Elapsed 0m 0s (remain 0m 15s)Loss: 0.4473(0.4473)Grad: 0.1506  \n",
      "Epoch: [25][82/83]Data 0.000 (0.025)Elapsed 0m 2s (remain 0m 0s)Loss: 0.3587(0.4410)Grad: 0.2598  \n",
      "EVAL: [0/21] Data 0.192 (0.192) Elapsed 0m 0s (remain 0m 3s) Loss: 0.5179(0.5179) \n"
     ]
    },
    {
     "name": "stderr",
     "output_type": "stream",
     "text": [
      "Epoch 25 - avg_train_loss: 0.4410 avg_val_loss: 0.4045 time: 3s\n",
      "Epoch 25 - Accuracy: 0.8872437357630979\n"
     ]
    },
    {
     "name": "stdout",
     "output_type": "stream",
     "text": [
      "EVAL: [20/21] Data 0.013 (0.027) Elapsed 0m 0s (remain 0m 0s) Loss: 0.4833(0.4045) \n",
      "Epoch: [26][0/83]Data 0.162 (0.162)Elapsed 0m 0s (remain 0m 13s)Loss: 0.3791(0.3791)Grad: 0.1017  \n",
      "Epoch: [26][82/83]Data 0.000 (0.023)Elapsed 0m 2s (remain 0m 0s)Loss: 0.4020(0.4433)Grad: 0.1787  \n",
      "EVAL: [0/21] Data 0.186 (0.186) Elapsed 0m 0s (remain 0m 3s) Loss: 0.5154(0.5154) \n"
     ]
    },
    {
     "name": "stderr",
     "output_type": "stream",
     "text": [
      "Epoch 26 - avg_train_loss: 0.4433 avg_val_loss: 0.4041 time: 3s\n",
      "Epoch 26 - Accuracy: 0.8874335611237661\n"
     ]
    },
    {
     "name": "stdout",
     "output_type": "stream",
     "text": [
      "EVAL: [20/21] Data 0.018 (0.027) Elapsed 0m 0s (remain 0m 0s) Loss: 0.4827(0.4041) \n",
      "Epoch: [27][0/83]Data 0.203 (0.203)Elapsed 0m 0s (remain 0m 17s)Loss: 0.3114(0.3114)Grad: 0.1237  \n",
      "Epoch: [27][82/83]Data 0.000 (0.023)Elapsed 0m 2s (remain 0m 0s)Loss: 0.2403(0.4335)Grad: 0.2003  \n",
      "EVAL: [0/21] Data 0.188 (0.188) Elapsed 0m 0s (remain 0m 3s) Loss: 0.5153(0.5153) \n"
     ]
    },
    {
     "name": "stderr",
     "output_type": "stream",
     "text": [
      "Epoch 27 - avg_train_loss: 0.4335 avg_val_loss: 0.4038 time: 3s\n",
      "Epoch 27 - Accuracy: 0.8874335611237661\n"
     ]
    },
    {
     "name": "stdout",
     "output_type": "stream",
     "text": [
      "EVAL: [20/21] Data 0.007 (0.027) Elapsed 0m 0s (remain 0m 0s) Loss: 0.4824(0.4038) \n",
      "Epoch: [28][0/83]Data 0.180 (0.180)Elapsed 0m 0s (remain 0m 15s)Loss: 0.4368(0.4368)Grad: 0.1134  \n",
      "Epoch: [28][82/83]Data 0.007 (0.022)Elapsed 0m 2s (remain 0m 0s)Loss: 0.3885(0.4382)Grad: 0.2926  \n",
      "EVAL: [0/21] Data 0.164 (0.164) Elapsed 0m 0s (remain 0m 3s) Loss: 0.5152(0.5152) \n"
     ]
    },
    {
     "name": "stderr",
     "output_type": "stream",
     "text": [
      "Epoch 28 - avg_train_loss: 0.4382 avg_val_loss: 0.4036 time: 3s\n",
      "Epoch 28 - Accuracy: 0.8874335611237661\n"
     ]
    },
    {
     "name": "stdout",
     "output_type": "stream",
     "text": [
      "EVAL: [20/21] Data 0.000 (0.027) Elapsed 0m 0s (remain 0m 0s) Loss: 0.4820(0.4036) \n",
      "Epoch: [29][0/83]Data 0.189 (0.189)Elapsed 0m 0s (remain 0m 16s)Loss: 0.3691(0.3691)Grad: 0.1463  \n",
      "Epoch: [29][82/83]Data 0.000 (0.022)Elapsed 0m 2s (remain 0m 0s)Loss: 0.3339(0.4382)Grad: 0.1999  \n",
      "EVAL: [0/21] Data 0.161 (0.161) Elapsed 0m 0s (remain 0m 3s) Loss: 0.5150(0.5150) \n"
     ]
    },
    {
     "name": "stderr",
     "output_type": "stream",
     "text": [
      "Epoch 29 - avg_train_loss: 0.4382 avg_val_loss: 0.4035 time: 3s\n",
      "Epoch 29 - Accuracy: 0.8874335611237661\n"
     ]
    },
    {
     "name": "stdout",
     "output_type": "stream",
     "text": [
      "EVAL: [20/21] Data 0.000 (0.027) Elapsed 0m 0s (remain 0m 0s) Loss: 0.4819(0.4035) \n",
      "Epoch: [30][0/83]Data 0.160 (0.160)Elapsed 0m 0s (remain 0m 13s)Loss: 0.5455(0.5455)Grad: 0.1262  \n",
      "Epoch: [30][82/83]Data 0.002 (0.022)Elapsed 0m 2s (remain 0m 0s)Loss: 0.5261(0.4358)Grad: 0.2458  \n",
      "EVAL: [0/21] Data 0.256 (0.256) Elapsed 0m 0s (remain 0m 5s) Loss: 0.5151(0.5151) \n"
     ]
    },
    {
     "name": "stderr",
     "output_type": "stream",
     "text": [
      "Epoch 30 - avg_train_loss: 0.4358 avg_val_loss: 0.4035 time: 3s\n",
      "Epoch 30 - Accuracy: 0.8874335611237661\n",
      "=============== fold: 1 result ================\n",
      "Score: 0.88857\n",
      "========== fold: 2 training ============\n"
     ]
    },
    {
     "name": "stdout",
     "output_type": "stream",
     "text": [
      "EVAL: [20/21] Data 0.025 (0.030) Elapsed 0m 0s (remain 0m 0s) Loss: 0.4821(0.4035) \n",
      "Epoch: [1][0/83]Data 0.176 (0.176)Elapsed 0m 0s (remain 0m 15s)Loss: 1.5399(1.5399)Grad: 0.6678  \n",
      "Epoch: [1][82/83]Data 0.000 (0.022)Elapsed 0m 2s (remain 0m 0s)Loss: 1.1684(1.3755)Grad: 0.6130  \n",
      "EVAL: [0/21] Data 0.189 (0.189) Elapsed 0m 0s (remain 0m 3s) Loss: 1.1444(1.1444) \n"
     ]
    },
    {
     "name": "stderr",
     "output_type": "stream",
     "text": [
      "Epoch 1 - avg_train_loss: 1.3755 avg_val_loss: 1.1528 time: 3s\n",
      "Epoch 1 - Accuracy: 0.587051452439719\n",
      "Epoch 1 - Save Best Score: 0.5871 Mpdel\n"
     ]
    },
    {
     "name": "stdout",
     "output_type": "stream",
     "text": [
      "EVAL: [20/21] Data 0.010 (0.027) Elapsed 0m 0s (remain 0m 0s) Loss: 1.2203(1.1528) \n",
      "Epoch: [2][0/83]Data 0.190 (0.190)Elapsed 0m 0s (remain 0m 16s)Loss: 1.1424(1.1424)Grad: 0.5860  \n",
      "Epoch: [2][82/83]Data 0.002 (0.024)Elapsed 0m 2s (remain 0m 0s)Loss: 1.0978(0.9551)Grad: 0.3773  \n",
      "EVAL: [0/21] Data 0.195 (0.195) Elapsed 0m 0s (remain 0m 3s) Loss: 0.7808(0.7808) \n"
     ]
    },
    {
     "name": "stderr",
     "output_type": "stream",
     "text": [
      "Epoch 2 - avg_train_loss: 0.9551 avg_val_loss: 0.7774 time: 3s\n",
      "Epoch 2 - Accuracy: 0.5880007594456047\n",
      "Epoch 2 - Save Best Score: 0.5880 Mpdel\n"
     ]
    },
    {
     "name": "stdout",
     "output_type": "stream",
     "text": [
      "EVAL: [20/21] Data 0.000 (0.028) Elapsed 0m 0s (remain 0m 0s) Loss: 0.8406(0.7774) \n",
      "Epoch: [3][0/83]Data 0.191 (0.191)Elapsed 0m 0s (remain 0m 17s)Loss: 0.7998(0.7998)Grad: 0.2854  \n",
      "Epoch: [3][82/83]Data 0.000 (0.023)Elapsed 0m 2s (remain 0m 0s)Loss: 0.6684(0.7010)Grad: 0.2086  \n",
      "EVAL: [0/21] Data 0.223 (0.223) Elapsed 0m 0s (remain 0m 4s) Loss: 0.6295(0.6295) \n"
     ]
    },
    {
     "name": "stderr",
     "output_type": "stream",
     "text": [
      "Epoch 3 - avg_train_loss: 0.7010 avg_val_loss: 0.6069 time: 3s\n",
      "Epoch 3 - Accuracy: 0.859692424530093\n",
      "Epoch 3 - Save Best Score: 0.8597 Mpdel\n"
     ]
    },
    {
     "name": "stdout",
     "output_type": "stream",
     "text": [
      "EVAL: [20/21] Data 0.015 (0.028) Elapsed 0m 0s (remain 0m 0s) Loss: 0.5905(0.6069) \n",
      "Epoch: [4][0/83]Data 0.171 (0.171)Elapsed 0m 0s (remain 0m 14s)Loss: 0.6622(0.6622)Grad: 0.2092  \n",
      "Epoch: [4][82/83]Data 0.000 (0.027)Elapsed 0m 2s (remain 0m 0s)Loss: 0.6495(0.5912)Grad: 0.2230  \n",
      "EVAL: [0/21] Data 0.208 (0.208) Elapsed 0m 0s (remain 0m 4s) Loss: 0.5554(0.5554) \n"
     ]
    },
    {
     "name": "stderr",
     "output_type": "stream",
     "text": [
      "Epoch 4 - avg_train_loss: 0.5912 avg_val_loss: 0.5332 time: 3s\n",
      "Epoch 4 - Accuracy: 0.8625403455477502\n",
      "Epoch 4 - Save Best Score: 0.8625 Mpdel\n"
     ]
    },
    {
     "name": "stdout",
     "output_type": "stream",
     "text": [
      "EVAL: [20/21] Data 0.000 (0.028) Elapsed 0m 0s (remain 0m 0s) Loss: 0.4877(0.5332) \n",
      "Epoch: [5][0/83]Data 0.198 (0.198)Elapsed 0m 0s (remain 0m 16s)Loss: 0.5571(0.5571)Grad: 0.1311  \n",
      "Epoch: [5][82/83]Data 0.005 (0.022)Elapsed 0m 2s (remain 0m 0s)Loss: 0.4688(0.5434)Grad: 0.2823  \n",
      "EVAL: [0/21] Data 0.199 (0.199) Elapsed 0m 0s (remain 0m 4s) Loss: 0.5168(0.5168) \n"
     ]
    },
    {
     "name": "stderr",
     "output_type": "stream",
     "text": [
      "Epoch 5 - avg_train_loss: 0.5434 avg_val_loss: 0.4965 time: 3s\n",
      "Epoch 5 - Accuracy: 0.8629200683501044\n",
      "Epoch 5 - Save Best Score: 0.8629 Mpdel\n"
     ]
    },
    {
     "name": "stdout",
     "output_type": "stream",
     "text": [
      "EVAL: [20/21] Data 0.000 (0.027) Elapsed 0m 0s (remain 0m 0s) Loss: 0.4392(0.4965) \n",
      "Epoch: [6][0/83]Data 0.174 (0.174)Elapsed 0m 0s (remain 0m 14s)Loss: 0.4694(0.4694)Grad: 0.1733  \n",
      "Epoch: [6][82/83]Data 0.000 (0.023)Elapsed 0m 2s (remain 0m 0s)Loss: 0.4945(0.5164)Grad: 0.2335  \n",
      "EVAL: [0/21] Data 0.164 (0.164) Elapsed 0m 0s (remain 0m 3s) Loss: 0.4950(0.4950) \n"
     ]
    },
    {
     "name": "stderr",
     "output_type": "stream",
     "text": [
      "Epoch 6 - avg_train_loss: 0.5164 avg_val_loss: 0.4733 time: 3s\n",
      "Epoch 6 - Accuracy: 0.8672868805771786\n",
      "Epoch 6 - Save Best Score: 0.8673 Mpdel\n"
     ]
    },
    {
     "name": "stdout",
     "output_type": "stream",
     "text": [
      "EVAL: [20/21] Data 0.000 (0.027) Elapsed 0m 0s (remain 0m 0s) Loss: 0.4077(0.4733) \n",
      "Epoch: [7][0/83]Data 0.165 (0.165)Elapsed 0m 0s (remain 0m 14s)Loss: 0.5223(0.5223)Grad: 0.1647  \n",
      "Epoch: [7][82/83]Data 0.000 (0.023)Elapsed 0m 2s (remain 0m 0s)Loss: 0.3919(0.5059)Grad: 0.1770  \n",
      "EVAL: [0/21] Data 0.163 (0.163) Elapsed 0m 0s (remain 0m 3s) Loss: 0.4836(0.4836) \n"
     ]
    },
    {
     "name": "stderr",
     "output_type": "stream",
     "text": [
      "Epoch 7 - avg_train_loss: 0.5059 avg_val_loss: 0.4606 time: 3s\n",
      "Epoch 7 - Accuracy: 0.8851338522878299\n",
      "Epoch 7 - Save Best Score: 0.8851 Mpdel\n"
     ]
    },
    {
     "name": "stdout",
     "output_type": "stream",
     "text": [
      "EVAL: [20/21] Data 0.005 (0.028) Elapsed 0m 0s (remain 0m 0s) Loss: 0.3898(0.4606) \n",
      "Epoch: [8][0/83]Data 0.177 (0.177)Elapsed 0m 0s (remain 0m 15s)Loss: 0.4806(0.4806)Grad: 0.1068  \n",
      "Epoch: [8][82/83]Data 0.000 (0.021)Elapsed 0m 2s (remain 0m 0s)Loss: 0.5484(0.4938)Grad: 0.2435  \n",
      "EVAL: [0/21] Data 0.165 (0.165) Elapsed 0m 0s (remain 0m 3s) Loss: 0.4772(0.4772) \n"
     ]
    },
    {
     "name": "stderr",
     "output_type": "stream",
     "text": [
      "Epoch 8 - avg_train_loss: 0.4938 avg_val_loss: 0.4532 time: 3s\n",
      "Epoch 8 - Accuracy: 0.8887412189101955\n",
      "Epoch 8 - Save Best Score: 0.8887 Mpdel\n"
     ]
    },
    {
     "name": "stdout",
     "output_type": "stream",
     "text": [
      "EVAL: [20/21] Data 0.000 (0.027) Elapsed 0m 0s (remain 0m 0s) Loss: 0.3797(0.4532) \n",
      "Epoch: [9][0/83]Data 0.178 (0.178)Elapsed 0m 0s (remain 0m 15s)Loss: 0.4965(0.4965)Grad: 0.1262  \n",
      "Epoch: [9][82/83]Data 0.002 (0.022)Elapsed 0m 2s (remain 0m 0s)Loss: 0.6138(0.4932)Grad: 0.2467  \n",
      "EVAL: [0/21] Data 0.160 (0.160) Elapsed 0m 0s (remain 0m 3s) Loss: 0.4742(0.4742) \n"
     ]
    },
    {
     "name": "stderr",
     "output_type": "stream",
     "text": [
      "Epoch 9 - avg_train_loss: 0.4932 avg_val_loss: 0.4499 time: 3s\n",
      "Epoch 9 - Accuracy: 0.8889310803113727\n",
      "Epoch 9 - Save Best Score: 0.8889 Mpdel\n"
     ]
    },
    {
     "name": "stdout",
     "output_type": "stream",
     "text": [
      "EVAL: [20/21] Data 0.000 (0.027) Elapsed 0m 0s (remain 0m 0s) Loss: 0.3753(0.4499) \n",
      "Epoch: [10][0/83]Data 0.178 (0.178)Elapsed 0m 0s (remain 0m 15s)Loss: 0.4003(0.4003)Grad: 0.1459  \n",
      "Epoch: [10][82/83]Data 0.000 (0.024)Elapsed 0m 2s (remain 0m 0s)Loss: 0.5691(0.4936)Grad: 0.2040  \n",
      "EVAL: [0/21] Data 0.258 (0.258) Elapsed 0m 0s (remain 0m 5s) Loss: 0.4735(0.4735) \n"
     ]
    },
    {
     "name": "stderr",
     "output_type": "stream",
     "text": [
      "Epoch 10 - avg_train_loss: 0.4936 avg_val_loss: 0.4491 time: 3s\n",
      "Epoch 10 - Accuracy: 0.8889310803113727\n"
     ]
    },
    {
     "name": "stdout",
     "output_type": "stream",
     "text": [
      "EVAL: [20/21] Data 0.012 (0.030) Elapsed 0m 0s (remain 0m 0s) Loss: 0.3743(0.4491) \n",
      "Epoch: [11][0/83]Data 0.188 (0.188)Elapsed 0m 0s (remain 0m 16s)Loss: 0.4208(0.4208)Grad: 0.1507  \n",
      "Epoch: [11][82/83]Data 0.000 (0.022)Elapsed 0m 2s (remain 0m 0s)Loss: 0.4545(0.4762)Grad: 0.2472  \n",
      "EVAL: [0/21] Data 0.188 (0.188) Elapsed 0m 0s (remain 0m 3s) Loss: 0.4535(0.4535) \n"
     ]
    },
    {
     "name": "stderr",
     "output_type": "stream",
     "text": [
      "Epoch 11 - avg_train_loss: 0.4762 avg_val_loss: 0.4233 time: 3s\n",
      "Epoch 11 - Accuracy: 0.8927283083349156\n",
      "Epoch 11 - Save Best Score: 0.8927 Mpdel\n"
     ]
    },
    {
     "name": "stdout",
     "output_type": "stream",
     "text": [
      "EVAL: [20/21] Data 0.002 (0.027) Elapsed 0m 0s (remain 0m 0s) Loss: 0.3388(0.4233) \n",
      "Epoch: [12][0/83]Data 0.178 (0.178)Elapsed 0m 0s (remain 0m 15s)Loss: 0.3920(0.3920)Grad: 0.1646  \n",
      "Epoch: [12][82/83]Data 0.000 (0.023)Elapsed 0m 2s (remain 0m 0s)Loss: 0.3268(0.4616)Grad: 0.2651  \n",
      "EVAL: [0/21] Data 0.161 (0.161) Elapsed 0m 0s (remain 0m 3s) Loss: 0.4421(0.4421) \n"
     ]
    },
    {
     "name": "stderr",
     "output_type": "stream",
     "text": [
      "Epoch 12 - avg_train_loss: 0.4616 avg_val_loss: 0.4099 time: 3s\n",
      "Epoch 12 - Accuracy: 0.8925384469337384\n"
     ]
    },
    {
     "name": "stdout",
     "output_type": "stream",
     "text": [
      "EVAL: [20/21] Data 0.000 (0.027) Elapsed 0m 0s (remain 0m 0s) Loss: 0.3232(0.4099) \n",
      "Epoch: [13][0/83]Data 0.178 (0.178)Elapsed 0m 0s (remain 0m 15s)Loss: 0.5108(0.5108)Grad: 0.1997  \n",
      "Epoch: [13][82/83]Data 0.004 (0.023)Elapsed 0m 2s (remain 0m 0s)Loss: 0.3941(0.4527)Grad: 0.3154  \n",
      "EVAL: [0/21] Data 0.199 (0.199) Elapsed 0m 0s (remain 0m 4s) Loss: 0.4394(0.4394) \n"
     ]
    },
    {
     "name": "stderr",
     "output_type": "stream",
     "text": [
      "Epoch 13 - avg_train_loss: 0.4527 avg_val_loss: 0.4062 time: 3s\n",
      "Epoch 13 - Accuracy: 0.8921587241313841\n"
     ]
    },
    {
     "name": "stdout",
     "output_type": "stream",
     "text": [
      "EVAL: [20/21] Data 0.000 (0.029) Elapsed 0m 0s (remain 0m 0s) Loss: 0.3205(0.4062) \n",
      "Epoch: [14][0/83]Data 0.188 (0.188)Elapsed 0m 0s (remain 0m 16s)Loss: 0.4285(0.4285)Grad: 0.1205  \n",
      "Epoch: [14][82/83]Data 0.000 (0.026)Elapsed 0m 2s (remain 0m 0s)Loss: 0.5403(0.4547)Grad: 0.2411  \n",
      "EVAL: [0/21] Data 0.176 (0.176) Elapsed 0m 0s (remain 0m 3s) Loss: 0.4384(0.4384) \n"
     ]
    },
    {
     "name": "stderr",
     "output_type": "stream",
     "text": [
      "Epoch 14 - avg_train_loss: 0.4547 avg_val_loss: 0.4041 time: 3s\n",
      "Epoch 14 - Accuracy: 0.8931080311372698\n",
      "Epoch 14 - Save Best Score: 0.8931 Mpdel\n"
     ]
    },
    {
     "name": "stdout",
     "output_type": "stream",
     "text": [
      "EVAL: [20/21] Data 0.000 (0.030) Elapsed 0m 0s (remain 0m 0s) Loss: 0.3193(0.4041) \n",
      "Epoch: [15][0/83]Data 0.203 (0.203)Elapsed 0m 0s (remain 0m 17s)Loss: 0.4235(0.4235)Grad: 0.1588  \n",
      "Epoch: [15][82/83]Data 0.000 (0.023)Elapsed 0m 2s (remain 0m 0s)Loss: 0.2866(0.4490)Grad: 0.2019  \n",
      "EVAL: [0/21] Data 0.160 (0.160) Elapsed 0m 0s (remain 0m 3s) Loss: 0.4376(0.4376) \n"
     ]
    },
    {
     "name": "stderr",
     "output_type": "stream",
     "text": [
      "Epoch 15 - avg_train_loss: 0.4490 avg_val_loss: 0.4037 time: 3s\n",
      "Epoch 15 - Accuracy: 0.8923485855325612\n"
     ]
    },
    {
     "name": "stdout",
     "output_type": "stream",
     "text": [
      "EVAL: [20/21] Data 0.000 (0.028) Elapsed 0m 0s (remain 0m 0s) Loss: 0.3202(0.4037) \n",
      "Epoch: [16][0/83]Data 0.201 (0.201)Elapsed 0m 0s (remain 0m 16s)Loss: 0.5415(0.5415)Grad: 0.1103  \n",
      "Epoch: [16][82/83]Data 0.000 (0.024)Elapsed 0m 2s (remain 0m 0s)Loss: 0.7106(0.4422)Grad: 0.3851  \n",
      "EVAL: [0/21] Data 0.198 (0.198) Elapsed 0m 0s (remain 0m 4s) Loss: 0.4379(0.4379) \n"
     ]
    },
    {
     "name": "stderr",
     "output_type": "stream",
     "text": [
      "Epoch 16 - avg_train_loss: 0.4422 avg_val_loss: 0.4040 time: 3s\n",
      "Epoch 16 - Accuracy: 0.8923485855325612\n"
     ]
    },
    {
     "name": "stdout",
     "output_type": "stream",
     "text": [
      "EVAL: [20/21] Data 0.000 (0.028) Elapsed 0m 0s (remain 0m 0s) Loss: 0.3209(0.4040) \n",
      "Epoch: [17][0/83]Data 0.186 (0.186)Elapsed 0m 0s (remain 0m 15s)Loss: 0.4588(0.4588)Grad: 0.1497  \n",
      "Epoch: [17][82/83]Data 0.000 (0.022)Elapsed 0m 2s (remain 0m 0s)Loss: 0.4575(0.4422)Grad: 0.1702  \n",
      "EVAL: [0/21] Data 0.176 (0.176) Elapsed 0m 0s (remain 0m 3s) Loss: 0.4370(0.4370) \n"
     ]
    },
    {
     "name": "stderr",
     "output_type": "stream",
     "text": [
      "Epoch 17 - avg_train_loss: 0.4422 avg_val_loss: 0.4031 time: 3s\n",
      "Epoch 17 - Accuracy: 0.8925384469337384\n"
     ]
    },
    {
     "name": "stdout",
     "output_type": "stream",
     "text": [
      "EVAL: [20/21] Data 0.000 (0.028) Elapsed 0m 0s (remain 0m 0s) Loss: 0.3212(0.4031) \n",
      "Epoch: [18][0/83]Data 0.185 (0.185)Elapsed 0m 0s (remain 0m 15s)Loss: 0.5836(0.5836)Grad: 0.1697  \n",
      "Epoch: [18][82/83]Data 0.000 (0.023)Elapsed 0m 2s (remain 0m 0s)Loss: 0.4260(0.4450)Grad: 0.2734  \n",
      "EVAL: [0/21] Data 0.190 (0.190) Elapsed 0m 0s (remain 0m 3s) Loss: 0.4366(0.4366) \n"
     ]
    },
    {
     "name": "stderr",
     "output_type": "stream",
     "text": [
      "Epoch 18 - avg_train_loss: 0.4450 avg_val_loss: 0.4030 time: 3s\n",
      "Epoch 18 - Accuracy: 0.8925384469337384\n"
     ]
    },
    {
     "name": "stdout",
     "output_type": "stream",
     "text": [
      "EVAL: [20/21] Data 0.022 (0.028) Elapsed 0m 0s (remain 0m 0s) Loss: 0.3212(0.4030) \n",
      "Epoch: [19][0/83]Data 0.175 (0.175)Elapsed 0m 0s (remain 0m 15s)Loss: 0.4123(0.4123)Grad: 0.1490  \n",
      "Epoch: [19][82/83]Data 0.000 (0.023)Elapsed 0m 2s (remain 0m 0s)Loss: 0.5841(0.4384)Grad: 0.2473  \n",
      "EVAL: [0/21] Data 0.181 (0.181) Elapsed 0m 0s (remain 0m 3s) Loss: 0.4368(0.4368) \n"
     ]
    },
    {
     "name": "stderr",
     "output_type": "stream",
     "text": [
      "Epoch 19 - avg_train_loss: 0.4384 avg_val_loss: 0.4030 time: 3s\n",
      "Epoch 19 - Accuracy: 0.8925384469337384\n"
     ]
    },
    {
     "name": "stdout",
     "output_type": "stream",
     "text": [
      "EVAL: [20/21] Data 0.023 (0.028) Elapsed 0m 0s (remain 0m 0s) Loss: 0.3209(0.4030) \n",
      "Epoch: [20][0/83]Data 0.181 (0.181)Elapsed 0m 0s (remain 0m 15s)Loss: 0.4661(0.4661)Grad: 0.2060  \n",
      "Epoch: [20][82/83]Data 0.006 (0.024)Elapsed 0m 2s (remain 0m 0s)Loss: 0.6884(0.4410)Grad: 0.3845  \n",
      "EVAL: [0/21] Data 0.166 (0.166) Elapsed 0m 0s (remain 0m 3s) Loss: 0.4368(0.4368) \n"
     ]
    },
    {
     "name": "stderr",
     "output_type": "stream",
     "text": [
      "Epoch 20 - avg_train_loss: 0.4410 avg_val_loss: 0.4030 time: 3s\n",
      "Epoch 20 - Accuracy: 0.8925384469337384\n"
     ]
    },
    {
     "name": "stdout",
     "output_type": "stream",
     "text": [
      "EVAL: [20/21] Data 0.000 (0.031) Elapsed 0m 0s (remain 0m 0s) Loss: 0.3208(0.4030) \n",
      "Epoch: [21][0/83]Data 0.178 (0.178)Elapsed 0m 0s (remain 0m 15s)Loss: 0.4132(0.4132)Grad: 0.1537  \n",
      "Epoch: [21][82/83]Data 0.000 (0.022)Elapsed 0m 2s (remain 0m 0s)Loss: 0.3216(0.4414)Grad: 0.1985  \n",
      "EVAL: [0/21] Data 0.239 (0.239) Elapsed 0m 0s (remain 0m 4s) Loss: 0.4370(0.4370) \n"
     ]
    },
    {
     "name": "stderr",
     "output_type": "stream",
     "text": [
      "Epoch 21 - avg_train_loss: 0.4414 avg_val_loss: 0.4036 time: 3s\n",
      "Epoch 21 - Accuracy: 0.8931080311372698\n"
     ]
    },
    {
     "name": "stdout",
     "output_type": "stream",
     "text": [
      "EVAL: [20/21] Data 0.022 (0.028) Elapsed 0m 0s (remain 0m 0s) Loss: 0.3206(0.4036) \n",
      "Epoch: [22][0/83]Data 0.182 (0.182)Elapsed 0m 0s (remain 0m 15s)Loss: 0.5064(0.5064)Grad: 0.1507  \n",
      "Epoch: [22][82/83]Data 0.000 (0.023)Elapsed 0m 2s (remain 0m 0s)Loss: 0.4617(0.4389)Grad: 0.2466  \n",
      "EVAL: [0/21] Data 0.160 (0.160) Elapsed 0m 0s (remain 0m 3s) Loss: 0.4331(0.4331) \n"
     ]
    },
    {
     "name": "stderr",
     "output_type": "stream",
     "text": [
      "Epoch 22 - avg_train_loss: 0.4389 avg_val_loss: 0.4011 time: 3s\n",
      "Epoch 22 - Accuracy: 0.8931080311372698\n"
     ]
    },
    {
     "name": "stdout",
     "output_type": "stream",
     "text": [
      "EVAL: [20/21] Data 0.000 (0.027) Elapsed 0m 0s (remain 0m 0s) Loss: 0.3191(0.4011) \n",
      "Epoch: [23][0/83]Data 0.182 (0.182)Elapsed 0m 0s (remain 0m 15s)Loss: 0.4390(0.4390)Grad: 0.1176  \n",
      "Epoch: [23][82/83]Data 0.000 (0.021)Elapsed 0m 2s (remain 0m 0s)Loss: 0.3919(0.4366)Grad: 0.2025  \n",
      "EVAL: [0/21] Data 0.167 (0.167) Elapsed 0m 0s (remain 0m 3s) Loss: 0.4332(0.4332) \n"
     ]
    },
    {
     "name": "stderr",
     "output_type": "stream",
     "text": [
      "Epoch 23 - avg_train_loss: 0.4366 avg_val_loss: 0.4017 time: 3s\n",
      "Epoch 23 - Accuracy: 0.8931080311372698\n"
     ]
    },
    {
     "name": "stdout",
     "output_type": "stream",
     "text": [
      "EVAL: [20/21] Data 0.000 (0.028) Elapsed 0m 0s (remain 0m 0s) Loss: 0.3199(0.4017) \n",
      "Epoch: [24][0/83]Data 0.181 (0.181)Elapsed 0m 0s (remain 0m 15s)Loss: 0.4039(0.4039)Grad: 0.1405  \n",
      "Epoch: [24][82/83]Data 0.000 (0.022)Elapsed 0m 2s (remain 0m 0s)Loss: 0.2196(0.4369)Grad: 0.1627  \n",
      "EVAL: [0/21] Data 0.177 (0.177) Elapsed 0m 0s (remain 0m 3s) Loss: 0.4318(0.4318) \n"
     ]
    },
    {
     "name": "stderr",
     "output_type": "stream",
     "text": [
      "Epoch 24 - avg_train_loss: 0.4369 avg_val_loss: 0.4007 time: 3s\n",
      "Epoch 24 - Accuracy: 0.8934877539396241\n",
      "Epoch 24 - Save Best Score: 0.8935 Mpdel\n"
     ]
    },
    {
     "name": "stdout",
     "output_type": "stream",
     "text": [
      "EVAL: [20/21] Data 0.028 (0.032) Elapsed 0m 0s (remain 0m 0s) Loss: 0.3184(0.4007) \n",
      "Epoch: [25][0/83]Data 0.205 (0.205)Elapsed 0m 0s (remain 0m 17s)Loss: 0.4303(0.4303)Grad: 0.1196  \n",
      "Epoch: [25][82/83]Data 0.000 (0.026)Elapsed 0m 2s (remain 0m 0s)Loss: 0.3967(0.4358)Grad: 0.3599  \n",
      "EVAL: [0/21] Data 0.164 (0.164) Elapsed 0m 0s (remain 0m 3s) Loss: 0.4326(0.4326) \n"
     ]
    },
    {
     "name": "stderr",
     "output_type": "stream",
     "text": [
      "Epoch 25 - avg_train_loss: 0.4358 avg_val_loss: 0.4017 time: 3s\n",
      "Epoch 25 - Accuracy: 0.8929181697360926\n"
     ]
    },
    {
     "name": "stdout",
     "output_type": "stream",
     "text": [
      "EVAL: [20/21] Data 0.009 (0.027) Elapsed 0m 0s (remain 0m 0s) Loss: 0.3188(0.4017) \n",
      "Epoch: [26][0/83]Data 0.165 (0.165)Elapsed 0m 0s (remain 0m 14s)Loss: 0.4950(0.4950)Grad: 0.1726  \n",
      "Epoch: [26][82/83]Data 0.000 (0.023)Elapsed 0m 2s (remain 0m 0s)Loss: 0.4008(0.4362)Grad: 0.1750  \n",
      "EVAL: [0/21] Data 0.179 (0.179) Elapsed 0m 0s (remain 0m 3s) Loss: 0.4299(0.4299) \n"
     ]
    },
    {
     "name": "stderr",
     "output_type": "stream",
     "text": [
      "Epoch 26 - avg_train_loss: 0.4362 avg_val_loss: 0.4007 time: 3s\n",
      "Epoch 26 - Accuracy: 0.8936776153408013\n",
      "Epoch 26 - Save Best Score: 0.8937 Mpdel\n"
     ]
    },
    {
     "name": "stdout",
     "output_type": "stream",
     "text": [
      "EVAL: [20/21] Data 0.000 (0.027) Elapsed 0m 0s (remain 0m 0s) Loss: 0.3185(0.4007) \n",
      "Epoch: [27][0/83]Data 0.179 (0.179)Elapsed 0m 0s (remain 0m 15s)Loss: 0.4609(0.4609)Grad: 0.1137  \n",
      "Epoch: [27][82/83]Data 0.000 (0.022)Elapsed 0m 2s (remain 0m 0s)Loss: 0.3971(0.4328)Grad: 0.2350  \n",
      "EVAL: [0/21] Data 0.160 (0.160) Elapsed 0m 0s (remain 0m 3s) Loss: 0.4292(0.4292) \n"
     ]
    },
    {
     "name": "stderr",
     "output_type": "stream",
     "text": [
      "Epoch 27 - avg_train_loss: 0.4328 avg_val_loss: 0.3998 time: 3s\n",
      "Epoch 27 - Accuracy: 0.8932978925384469\n"
     ]
    },
    {
     "name": "stdout",
     "output_type": "stream",
     "text": [
      "EVAL: [20/21] Data 0.000 (0.028) Elapsed 0m 0s (remain 0m 0s) Loss: 0.3178(0.3998) \n",
      "Epoch: [28][0/83]Data 0.190 (0.190)Elapsed 0m 0s (remain 0m 16s)Loss: 0.3627(0.3627)Grad: 0.1333  \n",
      "Epoch: [28][82/83]Data 0.000 (0.022)Elapsed 0m 2s (remain 0m 0s)Loss: 0.4584(0.4338)Grad: 0.2664  \n",
      "EVAL: [0/21] Data 0.162 (0.162) Elapsed 0m 0s (remain 0m 3s) Loss: 0.4292(0.4292) \n"
     ]
    },
    {
     "name": "stderr",
     "output_type": "stream",
     "text": [
      "Epoch 28 - avg_train_loss: 0.4338 avg_val_loss: 0.4002 time: 3s\n",
      "Epoch 28 - Accuracy: 0.8932978925384469\n"
     ]
    },
    {
     "name": "stdout",
     "output_type": "stream",
     "text": [
      "EVAL: [20/21] Data 0.000 (0.031) Elapsed 0m 0s (remain 0m 0s) Loss: 0.3184(0.4002) \n",
      "Epoch: [29][0/83]Data 0.189 (0.189)Elapsed 0m 0s (remain 0m 16s)Loss: 0.4091(0.4091)Grad: 0.1074  \n",
      "Epoch: [29][82/83]Data 0.000 (0.022)Elapsed 0m 2s (remain 0m 0s)Loss: 0.3435(0.4358)Grad: 0.2577  \n",
      "EVAL: [0/21] Data 0.236 (0.236) Elapsed 0m 0s (remain 0m 4s) Loss: 0.4291(0.4291) \n"
     ]
    },
    {
     "name": "stderr",
     "output_type": "stream",
     "text": [
      "Epoch 29 - avg_train_loss: 0.4358 avg_val_loss: 0.4004 time: 3s\n",
      "Epoch 29 - Accuracy: 0.8932978925384469\n"
     ]
    },
    {
     "name": "stdout",
     "output_type": "stream",
     "text": [
      "EVAL: [20/21] Data 0.022 (0.028) Elapsed 0m 0s (remain 0m 0s) Loss: 0.3188(0.4004) \n",
      "Epoch: [30][0/83]Data 0.171 (0.171)Elapsed 0m 0s (remain 0m 14s)Loss: 0.3456(0.3456)Grad: 0.1563  \n",
      "Epoch: [30][82/83]Data 0.000 (0.024)Elapsed 0m 2s (remain 0m 0s)Loss: 0.3738(0.4344)Grad: 0.2542  \n",
      "EVAL: [0/21] Data 0.184 (0.184) Elapsed 0m 0s (remain 0m 3s) Loss: 0.4290(0.4290) \n"
     ]
    },
    {
     "name": "stderr",
     "output_type": "stream",
     "text": [
      "Epoch 30 - avg_train_loss: 0.4344 avg_val_loss: 0.4004 time: 3s\n",
      "Epoch 30 - Accuracy: 0.8932978925384469\n",
      "=============== fold: 2 result ================\n",
      "Score: 0.89368\n",
      "========== fold: 3 training ============\n"
     ]
    },
    {
     "name": "stdout",
     "output_type": "stream",
     "text": [
      "EVAL: [20/21] Data 0.000 (0.031) Elapsed 0m 0s (remain 0m 0s) Loss: 0.3188(0.4004) \n",
      "Epoch: [1][0/83]Data 0.195 (0.195)Elapsed 0m 0s (remain 0m 16s)Loss: 1.5610(1.5610)Grad: 0.5798  \n",
      "Epoch: [1][82/83]Data 0.000 (0.025)Elapsed 0m 2s (remain 0m 0s)Loss: 1.0323(1.3772)Grad: 0.7959  \n",
      "EVAL: [0/21] Data 0.166 (0.166) Elapsed 0m 0s (remain 0m 3s) Loss: 1.1272(1.1272) \n"
     ]
    },
    {
     "name": "stderr",
     "output_type": "stream",
     "text": [
      "Epoch 1 - avg_train_loss: 1.3772 avg_val_loss: 1.1213 time: 3s\n",
      "Epoch 1 - Accuracy: 0.587051452439719\n",
      "Epoch 1 - Save Best Score: 0.5871 Mpdel\n"
     ]
    },
    {
     "name": "stdout",
     "output_type": "stream",
     "text": [
      "EVAL: [20/21] Data 0.000 (0.029) Elapsed 0m 0s (remain 0m 0s) Loss: 1.2863(1.1213) \n",
      "Epoch: [2][0/83]Data 0.206 (0.206)Elapsed 0m 0s (remain 0m 17s)Loss: 1.1225(1.1225)Grad: 0.6429  \n",
      "Epoch: [2][82/83]Data 0.000 (0.024)Elapsed 0m 2s (remain 0m 0s)Loss: 0.8393(0.9296)Grad: 0.2577  \n",
      "EVAL: [0/21] Data 0.197 (0.197) Elapsed 0m 0s (remain 0m 3s) Loss: 0.8323(0.8323) \n"
     ]
    },
    {
     "name": "stderr",
     "output_type": "stream",
     "text": [
      "Epoch 2 - avg_train_loss: 0.9296 avg_val_loss: 0.8035 time: 3s\n",
      "Epoch 2 - Accuracy: 0.587051452439719\n"
     ]
    },
    {
     "name": "stdout",
     "output_type": "stream",
     "text": [
      "EVAL: [20/21] Data 0.015 (0.028) Elapsed 0m 0s (remain 0m 0s) Loss: 1.0416(0.8035) \n",
      "Epoch: [3][0/83]Data 0.185 (0.185)Elapsed 0m 0s (remain 0m 15s)Loss: 0.8881(0.8881)Grad: 0.1639  \n",
      "Epoch: [3][82/83]Data 0.000 (0.024)Elapsed 0m 2s (remain 0m 0s)Loss: 0.8843(0.7999)Grad: 0.2765  \n",
      "EVAL: [0/21] Data 0.160 (0.160) Elapsed 0m 0s (remain 0m 3s) Loss: 0.7739(0.7739) \n"
     ]
    },
    {
     "name": "stderr",
     "output_type": "stream",
     "text": [
      "Epoch 3 - avg_train_loss: 0.7999 avg_val_loss: 0.7423 time: 3s\n",
      "Epoch 3 - Accuracy: 0.587051452439719\n"
     ]
    },
    {
     "name": "stdout",
     "output_type": "stream",
     "text": [
      "EVAL: [20/21] Data 0.000 (0.027) Elapsed 0m 0s (remain 0m 0s) Loss: 0.9696(0.7423) \n",
      "Epoch: [4][0/83]Data 0.175 (0.175)Elapsed 0m 0s (remain 0m 15s)Loss: 0.7575(0.7575)Grad: 0.1527  \n",
      "Epoch: [4][82/83]Data 0.000 (0.022)Elapsed 0m 2s (remain 0m 0s)Loss: 0.6236(0.7333)Grad: 0.3039  \n",
      "EVAL: [0/21] Data 0.188 (0.188) Elapsed 0m 0s (remain 0m 3s) Loss: 0.6970(0.6970) \n"
     ]
    },
    {
     "name": "stderr",
     "output_type": "stream",
     "text": [
      "Epoch 4 - avg_train_loss: 0.7333 avg_val_loss: 0.6658 time: 3s\n",
      "Epoch 4 - Accuracy: 0.765141446743877\n",
      "Epoch 4 - Save Best Score: 0.7651 Mpdel\n"
     ]
    },
    {
     "name": "stdout",
     "output_type": "stream",
     "text": [
      "EVAL: [20/21] Data 0.015 (0.027) Elapsed 0m 0s (remain 0m 0s) Loss: 0.8724(0.6658) \n",
      "Epoch: [5][0/83]Data 0.205 (0.205)Elapsed 0m 0s (remain 0m 17s)Loss: 0.7282(0.7282)Grad: 0.2427  \n",
      "Epoch: [5][82/83]Data 0.000 (0.026)Elapsed 0m 2s (remain 0m 0s)Loss: 0.6952(0.6639)Grad: 0.3112  \n",
      "EVAL: [0/21] Data 0.200 (0.200) Elapsed 0m 0s (remain 0m 4s) Loss: 0.6328(0.6328) \n"
     ]
    },
    {
     "name": "stderr",
     "output_type": "stream",
     "text": [
      "Epoch 5 - avg_train_loss: 0.6639 avg_val_loss: 0.6013 time: 3s\n",
      "Epoch 5 - Accuracy: 0.8608315929371558\n",
      "Epoch 5 - Save Best Score: 0.8608 Mpdel\n"
     ]
    },
    {
     "name": "stdout",
     "output_type": "stream",
     "text": [
      "EVAL: [20/21] Data 0.000 (0.027) Elapsed 0m 0s (remain 0m 0s) Loss: 0.7932(0.6013) \n",
      "Epoch: [6][0/83]Data 0.194 (0.194)Elapsed 0m 0s (remain 0m 16s)Loss: 0.5342(0.5342)Grad: 0.2039  \n",
      "Epoch: [6][82/83]Data 0.000 (0.023)Elapsed 0m 2s (remain 0m 0s)Loss: 0.5011(0.6213)Grad: 0.2478  \n",
      "EVAL: [0/21] Data 0.187 (0.187) Elapsed 0m 0s (remain 0m 3s) Loss: 0.5996(0.5996) \n"
     ]
    },
    {
     "name": "stderr",
     "output_type": "stream",
     "text": [
      "Epoch 6 - avg_train_loss: 0.6213 avg_val_loss: 0.5652 time: 3s\n",
      "Epoch 6 - Accuracy: 0.8650085437630529\n",
      "Epoch 6 - Save Best Score: 0.8650 Mpdel\n"
     ]
    },
    {
     "name": "stdout",
     "output_type": "stream",
     "text": [
      "EVAL: [20/21] Data 0.000 (0.027) Elapsed 0m 0s (remain 0m 0s) Loss: 0.7502(0.5652) \n",
      "Epoch: [7][0/83]Data 0.179 (0.179)Elapsed 0m 0s (remain 0m 15s)Loss: 0.5876(0.5876)Grad: 0.2065  \n",
      "Epoch: [7][82/83]Data 0.000 (0.023)Elapsed 0m 2s (remain 0m 0s)Loss: 0.4921(0.5937)Grad: 0.2282  \n",
      "EVAL: [0/21] Data 0.158 (0.158) Elapsed 0m 0s (remain 0m 3s) Loss: 0.5836(0.5836) \n"
     ]
    },
    {
     "name": "stderr",
     "output_type": "stream",
     "text": [
      "Epoch 7 - avg_train_loss: 0.5937 avg_val_loss: 0.5455 time: 3s\n",
      "Epoch 7 - Accuracy: 0.8655781279665844\n",
      "Epoch 7 - Save Best Score: 0.8656 Mpdel\n"
     ]
    },
    {
     "name": "stdout",
     "output_type": "stream",
     "text": [
      "EVAL: [20/21] Data 0.000 (0.027) Elapsed 0m 0s (remain 0m 0s) Loss: 0.7277(0.5455) \n",
      "Epoch: [8][0/83]Data 0.203 (0.203)Elapsed 0m 0s (remain 0m 17s)Loss: 0.5158(0.5158)Grad: 0.1814  \n",
      "Epoch: [8][82/83]Data 0.000 (0.021)Elapsed 0m 2s (remain 0m 0s)Loss: 0.4397(0.5835)Grad: 0.2367  \n",
      "EVAL: [0/21] Data 0.182 (0.182) Elapsed 0m 0s (remain 0m 3s) Loss: 0.5772(0.5772) \n"
     ]
    },
    {
     "name": "stderr",
     "output_type": "stream",
     "text": [
      "Epoch 8 - avg_train_loss: 0.5835 avg_val_loss: 0.5362 time: 3s\n",
      "Epoch 8 - Accuracy: 0.8657679893677616\n",
      "Epoch 8 - Save Best Score: 0.8658 Mpdel\n"
     ]
    },
    {
     "name": "stdout",
     "output_type": "stream",
     "text": [
      "EVAL: [20/21] Data 0.000 (0.027) Elapsed 0m 0s (remain 0m 0s) Loss: 0.7163(0.5362) \n",
      "Epoch: [9][0/83]Data 0.183 (0.183)Elapsed 0m 0s (remain 0m 15s)Loss: 0.5172(0.5172)Grad: 0.1435  \n",
      "Epoch: [9][82/83]Data 0.000 (0.022)Elapsed 0m 2s (remain 0m 0s)Loss: 0.5702(0.5768)Grad: 0.2222  \n",
      "EVAL: [0/21] Data 0.170 (0.170) Elapsed 0m 0s (remain 0m 3s) Loss: 0.5745(0.5745) \n"
     ]
    },
    {
     "name": "stderr",
     "output_type": "stream",
     "text": [
      "Epoch 9 - avg_train_loss: 0.5768 avg_val_loss: 0.5324 time: 3s\n",
      "Epoch 9 - Accuracy: 0.8655781279665844\n"
     ]
    },
    {
     "name": "stdout",
     "output_type": "stream",
     "text": [
      "EVAL: [20/21] Data 0.000 (0.027) Elapsed 0m 0s (remain 0m 0s) Loss: 0.7115(0.5324) \n",
      "Epoch: [10][0/83]Data 0.187 (0.187)Elapsed 0m 0s (remain 0m 16s)Loss: 0.5606(0.5606)Grad: 0.1441  \n",
      "Epoch: [10][82/83]Data 0.008 (0.022)Elapsed 0m 2s (remain 0m 0s)Loss: 0.6311(0.5759)Grad: 0.3249  \n",
      "EVAL: [0/21] Data 0.203 (0.203) Elapsed 0m 0s (remain 0m 4s) Loss: 0.5739(0.5739) \n"
     ]
    },
    {
     "name": "stderr",
     "output_type": "stream",
     "text": [
      "Epoch 10 - avg_train_loss: 0.5759 avg_val_loss: 0.5315 time: 3s\n",
      "Epoch 10 - Accuracy: 0.8653882665654072\n"
     ]
    },
    {
     "name": "stdout",
     "output_type": "stream",
     "text": [
      "EVAL: [20/21] Data 0.000 (0.031) Elapsed 0m 0s (remain 0m 0s) Loss: 0.7103(0.5315) \n",
      "Epoch: [11][0/83]Data 0.196 (0.196)Elapsed 0m 0s (remain 0m 16s)Loss: 0.6774(0.6774)Grad: 0.1998  \n",
      "Epoch: [11][82/83]Data 0.000 (0.023)Elapsed 0m 2s (remain 0m 0s)Loss: 0.7034(0.5649)Grad: 0.2314  \n",
      "EVAL: [0/21] Data 0.165 (0.165) Elapsed 0m 0s (remain 0m 3s) Loss: 0.5571(0.5571) \n"
     ]
    },
    {
     "name": "stderr",
     "output_type": "stream",
     "text": [
      "Epoch 11 - avg_train_loss: 0.5649 avg_val_loss: 0.5023 time: 3s\n",
      "Epoch 11 - Accuracy: 0.8917790013290298\n",
      "Epoch 11 - Save Best Score: 0.8918 Mpdel\n"
     ]
    },
    {
     "name": "stdout",
     "output_type": "stream",
     "text": [
      "EVAL: [20/21] Data 0.000 (0.027) Elapsed 0m 0s (remain 0m 0s) Loss: 0.6747(0.5023) \n",
      "Epoch: [12][0/83]Data 0.212 (0.212)Elapsed 0m 0s (remain 0m 17s)Loss: 0.4953(0.4953)Grad: 0.1333  \n",
      "Epoch: [12][82/83]Data 0.000 (0.022)Elapsed 0m 2s (remain 0m 0s)Loss: 0.4995(0.5375)Grad: 0.2735  \n",
      "EVAL: [0/21] Data 0.299 (0.299) Elapsed 0m 0s (remain 0m 6s) Loss: 0.5459(0.5459) \n"
     ]
    },
    {
     "name": "stderr",
     "output_type": "stream",
     "text": [
      "Epoch 12 - avg_train_loss: 0.5375 avg_val_loss: 0.4814 time: 3s\n",
      "Epoch 12 - Accuracy: 0.8912094171254984\n"
     ]
    },
    {
     "name": "stdout",
     "output_type": "stream",
     "text": [
      "EVAL: [20/21] Data 0.022 (0.031) Elapsed 0m 0s (remain 0m 0s) Loss: 0.6409(0.4814) \n",
      "Epoch: [13][0/83]Data 0.207 (0.207)Elapsed 0m 0s (remain 0m 17s)Loss: 0.6422(0.6422)Grad: 0.3036  \n",
      "Epoch: [13][82/83]Data 0.000 (0.024)Elapsed 0m 2s (remain 0m 0s)Loss: 0.5085(0.5238)Grad: 0.2022  \n",
      "EVAL: [0/21] Data 0.169 (0.169) Elapsed 0m 0s (remain 0m 3s) Loss: 0.5402(0.5402) \n"
     ]
    },
    {
     "name": "stderr",
     "output_type": "stream",
     "text": [
      "Epoch 13 - avg_train_loss: 0.5238 avg_val_loss: 0.4688 time: 3s\n",
      "Epoch 13 - Accuracy: 0.8913992785266756\n"
     ]
    },
    {
     "name": "stdout",
     "output_type": "stream",
     "text": [
      "EVAL: [20/21] Data 0.000 (0.028) Elapsed 0m 0s (remain 0m 0s) Loss: 0.6217(0.4688) \n",
      "Epoch: [14][0/83]Data 0.188 (0.188)Elapsed 0m 0s (remain 0m 16s)Loss: 0.4741(0.4741)Grad: 0.1044  \n",
      "Epoch: [14][82/83]Data 0.007 (0.023)Elapsed 0m 2s (remain 0m 0s)Loss: 0.6649(0.5181)Grad: 0.3542  \n",
      "EVAL: [0/21] Data 0.188 (0.188) Elapsed 0m 0s (remain 0m 3s) Loss: 0.5359(0.5359) \n"
     ]
    },
    {
     "name": "stderr",
     "output_type": "stream",
     "text": [
      "Epoch 14 - avg_train_loss: 0.5181 avg_val_loss: 0.4609 time: 3s\n",
      "Epoch 14 - Accuracy: 0.8925384469337384\n",
      "Epoch 14 - Save Best Score: 0.8925 Mpdel\n"
     ]
    },
    {
     "name": "stdout",
     "output_type": "stream",
     "text": [
      "EVAL: [20/21] Data 0.000 (0.027) Elapsed 0m 0s (remain 0m 0s) Loss: 0.6071(0.4609) \n",
      "Epoch: [15][0/83]Data 0.184 (0.184)Elapsed 0m 0s (remain 0m 15s)Loss: 0.4887(0.4887)Grad: 0.1683  \n",
      "Epoch: [15][82/83]Data 0.002 (0.023)Elapsed 0m 2s (remain 0m 0s)Loss: 0.4082(0.5093)Grad: 0.2580  \n",
      "EVAL: [0/21] Data 0.170 (0.170) Elapsed 0m 0s (remain 0m 3s) Loss: 0.5342(0.5342) \n"
     ]
    },
    {
     "name": "stderr",
     "output_type": "stream",
     "text": [
      "Epoch 15 - avg_train_loss: 0.5093 avg_val_loss: 0.4555 time: 3s\n",
      "Epoch 15 - Accuracy: 0.8923485855325612\n"
     ]
    },
    {
     "name": "stdout",
     "output_type": "stream",
     "text": [
      "EVAL: [20/21] Data 0.000 (0.036) Elapsed 0m 0s (remain 0m 0s) Loss: 0.6000(0.4555) \n",
      "Epoch: [16][0/83]Data 0.278 (0.278)Elapsed 0m 0s (remain 0m 23s)Loss: 0.4803(0.4803)Grad: 0.1436  \n",
      "Epoch: [16][82/83]Data 0.000 (0.026)Elapsed 0m 2s (remain 0m 0s)Loss: 0.6415(0.5079)Grad: 0.4305  \n",
      "EVAL: [0/21] Data 0.187 (0.187) Elapsed 0m 0s (remain 0m 3s) Loss: 0.5309(0.5309) \n"
     ]
    },
    {
     "name": "stderr",
     "output_type": "stream",
     "text": [
      "Epoch 16 - avg_train_loss: 0.5079 avg_val_loss: 0.4516 time: 3s\n",
      "Epoch 16 - Accuracy: 0.8921587241313841\n"
     ]
    },
    {
     "name": "stdout",
     "output_type": "stream",
     "text": [
      "EVAL: [20/21] Data 0.000 (0.028) Elapsed 0m 0s (remain 0m 0s) Loss: 0.5946(0.4516) \n",
      "Epoch: [17][0/83]Data 0.180 (0.180)Elapsed 0m 0s (remain 0m 15s)Loss: 0.4784(0.4784)Grad: 0.1020  \n",
      "Epoch: [17][82/83]Data 0.000 (0.021)Elapsed 0m 2s (remain 0m 0s)Loss: 0.6565(0.5047)Grad: 0.2202  \n",
      "EVAL: [0/21] Data 0.163 (0.163) Elapsed 0m 0s (remain 0m 3s) Loss: 0.5291(0.5291) \n"
     ]
    },
    {
     "name": "stderr",
     "output_type": "stream",
     "text": [
      "Epoch 17 - avg_train_loss: 0.5047 avg_val_loss: 0.4494 time: 3s\n",
      "Epoch 17 - Accuracy: 0.8927283083349156\n",
      "Epoch 17 - Save Best Score: 0.8927 Mpdel\n"
     ]
    },
    {
     "name": "stdout",
     "output_type": "stream",
     "text": [
      "EVAL: [20/21] Data 0.000 (0.028) Elapsed 0m 0s (remain 0m 0s) Loss: 0.5914(0.4494) \n",
      "Epoch: [18][0/83]Data 0.196 (0.196)Elapsed 0m 0s (remain 0m 16s)Loss: 0.4860(0.4860)Grad: 0.1773  \n",
      "Epoch: [18][82/83]Data 0.000 (0.023)Elapsed 0m 2s (remain 0m 0s)Loss: 0.3848(0.5007)Grad: 0.1688  \n",
      "EVAL: [0/21] Data 0.212 (0.212) Elapsed 0m 0s (remain 0m 4s) Loss: 0.5284(0.5284) \n"
     ]
    },
    {
     "name": "stderr",
     "output_type": "stream",
     "text": [
      "Epoch 18 - avg_train_loss: 0.5007 avg_val_loss: 0.4480 time: 3s\n",
      "Epoch 18 - Accuracy: 0.8927283083349156\n"
     ]
    },
    {
     "name": "stdout",
     "output_type": "stream",
     "text": [
      "EVAL: [20/21] Data 0.000 (0.027) Elapsed 0m 0s (remain 0m 0s) Loss: 0.5887(0.4480) \n",
      "Epoch: [19][0/83]Data 0.192 (0.192)Elapsed 0m 0s (remain 0m 17s)Loss: 0.5363(0.5363)Grad: 0.1366  \n",
      "Epoch: [19][82/83]Data 0.000 (0.023)Elapsed 0m 2s (remain 0m 0s)Loss: 0.5669(0.5005)Grad: 0.1931  \n",
      "EVAL: [0/21] Data 0.229 (0.229) Elapsed 0m 0s (remain 0m 4s) Loss: 0.5280(0.5280) \n"
     ]
    },
    {
     "name": "stderr",
     "output_type": "stream",
     "text": [
      "Epoch 19 - avg_train_loss: 0.5005 avg_val_loss: 0.4475 time: 3s\n",
      "Epoch 19 - Accuracy: 0.8929181697360926\n",
      "Epoch 19 - Save Best Score: 0.8929 Mpdel\n"
     ]
    },
    {
     "name": "stdout",
     "output_type": "stream",
     "text": [
      "EVAL: [20/21] Data 0.022 (0.029) Elapsed 0m 0s (remain 0m 0s) Loss: 0.5878(0.4475) \n",
      "Epoch: [20][0/83]Data 0.186 (0.186)Elapsed 0m 0s (remain 0m 15s)Loss: 0.4814(0.4814)Grad: 0.1720  \n",
      "Epoch: [20][82/83]Data 0.000 (0.023)Elapsed 0m 2s (remain 0m 0s)Loss: 0.5531(0.5005)Grad: 0.1965  \n",
      "EVAL: [0/21] Data 0.205 (0.205) Elapsed 0m 0s (remain 0m 4s) Loss: 0.5278(0.5278) \n"
     ]
    },
    {
     "name": "stderr",
     "output_type": "stream",
     "text": [
      "Epoch 20 - avg_train_loss: 0.5005 avg_val_loss: 0.4473 time: 3s\n",
      "Epoch 20 - Accuracy: 0.8929181697360926\n"
     ]
    },
    {
     "name": "stdout",
     "output_type": "stream",
     "text": [
      "EVAL: [20/21] Data 0.000 (0.033) Elapsed 0m 0s (remain 0m 0s) Loss: 0.5875(0.4473) \n",
      "Epoch: [21][0/83]Data 0.178 (0.178)Elapsed 0m 0s (remain 0m 15s)Loss: 0.4177(0.4177)Grad: 0.1500  \n",
      "Epoch: [21][82/83]Data 0.000 (0.021)Elapsed 0m 2s (remain 0m 0s)Loss: 0.3849(0.4927)Grad: 0.2416  \n",
      "EVAL: [0/21] Data 0.164 (0.164) Elapsed 0m 0s (remain 0m 3s) Loss: 0.5225(0.5225) \n"
     ]
    },
    {
     "name": "stderr",
     "output_type": "stream",
     "text": [
      "Epoch 21 - avg_train_loss: 0.4927 avg_val_loss: 0.4420 time: 3s\n",
      "Epoch 21 - Accuracy: 0.8934877539396241\n",
      "Epoch 21 - Save Best Score: 0.8935 Mpdel\n"
     ]
    },
    {
     "name": "stdout",
     "output_type": "stream",
     "text": [
      "EVAL: [20/21] Data 0.000 (0.027) Elapsed 0m 0s (remain 0m 0s) Loss: 0.5803(0.4420) \n",
      "Epoch: [22][0/83]Data 0.184 (0.184)Elapsed 0m 0s (remain 0m 15s)Loss: 0.5923(0.5923)Grad: 0.1562  \n",
      "Epoch: [22][82/83]Data 0.000 (0.020)Elapsed 0m 2s (remain 0m 0s)Loss: 0.4141(0.4936)Grad: 0.2696  \n",
      "EVAL: [0/21] Data 0.193 (0.193) Elapsed 0m 0s (remain 0m 3s) Loss: 0.5178(0.5178) \n"
     ]
    },
    {
     "name": "stderr",
     "output_type": "stream",
     "text": [
      "Epoch 22 - avg_train_loss: 0.4936 avg_val_loss: 0.4361 time: 3s\n",
      "Epoch 22 - Accuracy: 0.8942471995443326\n",
      "Epoch 22 - Save Best Score: 0.8942 Mpdel\n"
     ]
    },
    {
     "name": "stdout",
     "output_type": "stream",
     "text": [
      "EVAL: [20/21] Data 0.002 (0.027) Elapsed 0m 0s (remain 0m 0s) Loss: 0.5711(0.4361) \n",
      "Epoch: [23][0/83]Data 0.181 (0.181)Elapsed 0m 0s (remain 0m 15s)Loss: 0.5007(0.5007)Grad: 0.1678  \n",
      "Epoch: [23][82/83]Data 0.000 (0.023)Elapsed 0m 2s (remain 0m 0s)Loss: 0.5138(0.4852)Grad: 0.3476  \n",
      "EVAL: [0/21] Data 0.179 (0.179) Elapsed 0m 0s (remain 0m 3s) Loss: 0.5120(0.5120) \n"
     ]
    },
    {
     "name": "stderr",
     "output_type": "stream",
     "text": [
      "Epoch 23 - avg_train_loss: 0.4852 avg_val_loss: 0.4311 time: 3s\n",
      "Epoch 23 - Accuracy: 0.8940573381431555\n"
     ]
    },
    {
     "name": "stdout",
     "output_type": "stream",
     "text": [
      "EVAL: [20/21] Data 0.000 (0.028) Elapsed 0m 0s (remain 0m 0s) Loss: 0.5708(0.4311) \n",
      "Epoch: [24][0/83]Data 0.202 (0.202)Elapsed 0m 0s (remain 0m 17s)Loss: 0.4891(0.4891)Grad: 0.1501  \n",
      "Epoch: [24][82/83]Data 0.000 (0.022)Elapsed 0m 2s (remain 0m 0s)Loss: 0.5018(0.4813)Grad: 0.2870  \n",
      "EVAL: [0/21] Data 0.168 (0.168) Elapsed 0m 0s (remain 0m 3s) Loss: 0.5043(0.5043) \n"
     ]
    },
    {
     "name": "stderr",
     "output_type": "stream",
     "text": [
      "Epoch 24 - avg_train_loss: 0.4813 avg_val_loss: 0.4261 time: 3s\n",
      "Epoch 24 - Accuracy: 0.8934877539396241\n"
     ]
    },
    {
     "name": "stdout",
     "output_type": "stream",
     "text": [
      "EVAL: [20/21] Data 0.000 (0.027) Elapsed 0m 0s (remain 0m 0s) Loss: 0.5660(0.4261) \n",
      "Epoch: [25][0/83]Data 0.191 (0.191)Elapsed 0m 0s (remain 0m 16s)Loss: 0.4075(0.4075)Grad: 0.1524  \n",
      "Epoch: [25][82/83]Data 0.000 (0.022)Elapsed 0m 2s (remain 0m 0s)Loss: 0.6190(0.4767)Grad: 0.3317  \n",
      "EVAL: [0/21] Data 0.155 (0.155) Elapsed 0m 0s (remain 0m 3s) Loss: 0.5004(0.5004) \n"
     ]
    },
    {
     "name": "stderr",
     "output_type": "stream",
     "text": [
      "Epoch 25 - avg_train_loss: 0.4767 avg_val_loss: 0.4221 time: 3s\n",
      "Epoch 25 - Accuracy: 0.8927283083349156\n"
     ]
    },
    {
     "name": "stdout",
     "output_type": "stream",
     "text": [
      "EVAL: [20/21] Data 0.000 (0.027) Elapsed 0m 0s (remain 0m 0s) Loss: 0.5611(0.4221) \n",
      "Epoch: [26][0/83]Data 0.181 (0.181)Elapsed 0m 0s (remain 0m 15s)Loss: 0.4514(0.4514)Grad: 0.1024  \n",
      "Epoch: [26][82/83]Data 0.010 (0.025)Elapsed 0m 2s (remain 0m 0s)Loss: 0.3312(0.4752)Grad: 0.2125  \n",
      "EVAL: [0/21] Data 0.191 (0.191) Elapsed 0m 0s (remain 0m 3s) Loss: 0.4965(0.4965) \n"
     ]
    },
    {
     "name": "stderr",
     "output_type": "stream",
     "text": [
      "Epoch 26 - avg_train_loss: 0.4752 avg_val_loss: 0.4185 time: 3s\n",
      "Epoch 26 - Accuracy: 0.8934877539396241\n"
     ]
    },
    {
     "name": "stdout",
     "output_type": "stream",
     "text": [
      "EVAL: [20/21] Data 0.026 (0.027) Elapsed 0m 0s (remain 0m 0s) Loss: 0.5605(0.4185) \n",
      "Epoch: [27][0/83]Data 0.192 (0.192)Elapsed 0m 0s (remain 0m 16s)Loss: 0.4028(0.4028)Grad: 0.0946  \n",
      "Epoch: [27][82/83]Data 0.000 (0.021)Elapsed 0m 2s (remain 0m 0s)Loss: 0.3702(0.4719)Grad: 0.1803  \n",
      "EVAL: [0/21] Data 0.171 (0.171) Elapsed 0m 0s (remain 0m 3s) Loss: 0.4922(0.4922) \n"
     ]
    },
    {
     "name": "stderr",
     "output_type": "stream",
     "text": [
      "Epoch 27 - avg_train_loss: 0.4719 avg_val_loss: 0.4155 time: 3s\n",
      "Epoch 27 - Accuracy: 0.8925384469337384\n"
     ]
    },
    {
     "name": "stdout",
     "output_type": "stream",
     "text": [
      "EVAL: [20/21] Data 0.000 (0.028) Elapsed 0m 0s (remain 0m 0s) Loss: 0.5589(0.4155) \n",
      "Epoch: [28][0/83]Data 0.190 (0.190)Elapsed 0m 0s (remain 0m 16s)Loss: 0.4869(0.4869)Grad: 0.1341  \n",
      "Epoch: [28][82/83]Data 0.000 (0.024)Elapsed 0m 2s (remain 0m 0s)Loss: 0.6728(0.4722)Grad: 0.3977  \n",
      "EVAL: [0/21] Data 0.193 (0.193) Elapsed 0m 0s (remain 0m 3s) Loss: 0.4895(0.4895) \n"
     ]
    },
    {
     "name": "stderr",
     "output_type": "stream",
     "text": [
      "Epoch 28 - avg_train_loss: 0.4722 avg_val_loss: 0.4135 time: 3s\n",
      "Epoch 28 - Accuracy: 0.8927283083349156\n"
     ]
    },
    {
     "name": "stdout",
     "output_type": "stream",
     "text": [
      "EVAL: [20/21] Data 0.026 (0.027) Elapsed 0m 0s (remain 0m 0s) Loss: 0.5570(0.4135) \n",
      "Epoch: [29][0/83]Data 0.178 (0.178)Elapsed 0m 0s (remain 0m 15s)Loss: 0.4399(0.4399)Grad: 0.1231  \n",
      "Epoch: [29][82/83]Data 0.000 (0.023)Elapsed 0m 2s (remain 0m 0s)Loss: 0.4953(0.4672)Grad: 0.2970  \n",
      "EVAL: [0/21] Data 0.168 (0.168) Elapsed 0m 0s (remain 0m 3s) Loss: 0.4885(0.4885) \n"
     ]
    },
    {
     "name": "stderr",
     "output_type": "stream",
     "text": [
      "Epoch 29 - avg_train_loss: 0.4672 avg_val_loss: 0.4126 time: 3s\n",
      "Epoch 29 - Accuracy: 0.8925384469337384\n"
     ]
    },
    {
     "name": "stdout",
     "output_type": "stream",
     "text": [
      "EVAL: [20/21] Data 0.000 (0.027) Elapsed 0m 0s (remain 0m 0s) Loss: 0.5564(0.4126) \n",
      "Epoch: [30][0/83]Data 0.165 (0.165)Elapsed 0m 0s (remain 0m 14s)Loss: 0.4525(0.4525)Grad: 0.1402  \n",
      "Epoch: [30][82/83]Data 0.000 (0.023)Elapsed 0m 2s (remain 0m 0s)Loss: 0.4815(0.4690)Grad: 0.2086  \n",
      "EVAL: [0/21] Data 0.261 (0.261) Elapsed 0m 0s (remain 0m 5s) Loss: 0.4882(0.4882) \n"
     ]
    },
    {
     "name": "stderr",
     "output_type": "stream",
     "text": [
      "Epoch 30 - avg_train_loss: 0.4690 avg_val_loss: 0.4124 time: 3s\n",
      "Epoch 30 - Accuracy: 0.8925384469337384\n",
      "=============== fold: 3 result ================\n",
      "Score: 0.89425\n",
      "========== fold: 4 training ============\n"
     ]
    },
    {
     "name": "stdout",
     "output_type": "stream",
     "text": [
      "EVAL: [20/21] Data 0.023 (0.033) Elapsed 0m 0s (remain 0m 0s) Loss: 0.5562(0.4124) \n",
      "Epoch: [1][0/83]Data 0.154 (0.154)Elapsed 0m 0s (remain 0m 13s)Loss: 1.7645(1.7645)Grad: 0.5984  \n",
      "Epoch: [1][82/83]Data 0.000 (0.022)Elapsed 0m 2s (remain 0m 0s)Loss: 1.5003(1.6385)Grad: 0.6563  \n",
      "EVAL: [0/21] Data 0.239 (0.239) Elapsed 0m 0s (remain 0m 4s) Loss: 1.4653(1.4653) \n"
     ]
    },
    {
     "name": "stderr",
     "output_type": "stream",
     "text": [
      "Epoch 1 - avg_train_loss: 1.6385 avg_val_loss: 1.4760 time: 3s\n",
      "Epoch 1 - Accuracy: 0.7797607746345168\n",
      "Epoch 1 - Save Best Score: 0.7798 Mpdel\n"
     ]
    },
    {
     "name": "stdout",
     "output_type": "stream",
     "text": [
      "EVAL: [20/21] Data 0.025 (0.028) Elapsed 0m 0s (remain 0m 0s) Loss: 1.4772(1.4760) \n",
      "Epoch: [2][0/83]Data 0.174 (0.174)Elapsed 0m 0s (remain 0m 14s)Loss: 1.4878(1.4878)Grad: 0.5954  \n",
      "Epoch: [2][82/83]Data 0.000 (0.022)Elapsed 0m 2s (remain 0m 0s)Loss: 0.8502(1.2111)Grad: 0.8535  \n",
      "EVAL: [0/21] Data 0.196 (0.196) Elapsed 0m 0s (remain 0m 3s) Loss: 0.8117(0.8117) \n"
     ]
    },
    {
     "name": "stderr",
     "output_type": "stream",
     "text": [
      "Epoch 2 - avg_train_loss: 1.2111 avg_val_loss: 0.8394 time: 3s\n",
      "Epoch 2 - Accuracy: 0.886652743497247\n",
      "Epoch 2 - Save Best Score: 0.8867 Mpdel\n"
     ]
    },
    {
     "name": "stdout",
     "output_type": "stream",
     "text": [
      "EVAL: [20/21] Data 0.006 (0.027) Elapsed 0m 0s (remain 0m 0s) Loss: 0.8694(0.8394) \n",
      "Epoch: [3][0/83]Data 0.195 (0.195)Elapsed 0m 0s (remain 0m 16s)Loss: 0.8859(0.8859)Grad: 0.7201  \n",
      "Epoch: [3][82/83]Data 0.000 (0.024)Elapsed 0m 2s (remain 0m 0s)Loss: 0.4957(0.6511)Grad: 0.2869  \n",
      "EVAL: [0/21] Data 0.236 (0.236) Elapsed 0m 0s (remain 0m 4s) Loss: 0.4210(0.4210) \n"
     ]
    },
    {
     "name": "stderr",
     "output_type": "stream",
     "text": [
      "Epoch 3 - avg_train_loss: 0.6511 avg_val_loss: 0.4688 time: 3s\n",
      "Epoch 3 - Accuracy: 0.8876020505031327\n",
      "Epoch 3 - Save Best Score: 0.8876 Mpdel\n"
     ]
    },
    {
     "name": "stdout",
     "output_type": "stream",
     "text": [
      "EVAL: [20/21] Data 0.002 (0.030) Elapsed 0m 0s (remain 0m 0s) Loss: 0.5108(0.4688) \n",
      "Epoch: [4][0/83]Data 0.179 (0.179)Elapsed 0m 0s (remain 0m 15s)Loss: 0.5260(0.5260)Grad: 0.2380  \n",
      "Epoch: [4][82/83]Data 0.000 (0.023)Elapsed 0m 2s (remain 0m 0s)Loss: 0.3056(0.4984)Grad: 0.2236  \n",
      "EVAL: [0/21] Data 0.205 (0.205) Elapsed 0m 0s (remain 0m 4s) Loss: 0.3697(0.3697) \n"
     ]
    },
    {
     "name": "stderr",
     "output_type": "stream",
     "text": [
      "Epoch 4 - avg_train_loss: 0.4984 avg_val_loss: 0.4197 time: 3s\n",
      "Epoch 4 - Accuracy: 0.8895006645149042\n",
      "Epoch 4 - Save Best Score: 0.8895 Mpdel\n"
     ]
    },
    {
     "name": "stdout",
     "output_type": "stream",
     "text": [
      "EVAL: [20/21] Data 0.002 (0.027) Elapsed 0m 0s (remain 0m 0s) Loss: 0.4504(0.4197) \n",
      "Epoch: [5][0/83]Data 0.180 (0.180)Elapsed 0m 0s (remain 0m 15s)Loss: 0.5226(0.5226)Grad: 0.1452  \n",
      "Epoch: [5][82/83]Data 0.004 (0.022)Elapsed 0m 2s (remain 0m 0s)Loss: 0.3523(0.4757)Grad: 0.1873  \n",
      "EVAL: [0/21] Data 0.202 (0.202) Elapsed 0m 0s (remain 0m 4s) Loss: 0.3557(0.3557) \n"
     ]
    },
    {
     "name": "stderr",
     "output_type": "stream",
     "text": [
      "Epoch 5 - avg_train_loss: 0.4757 avg_val_loss: 0.4089 time: 3s\n",
      "Epoch 5 - Accuracy: 0.889310803113727\n"
     ]
    },
    {
     "name": "stdout",
     "output_type": "stream",
     "text": [
      "EVAL: [20/21] Data 0.000 (0.027) Elapsed 0m 0s (remain 0m 0s) Loss: 0.4353(0.4089) \n",
      "Epoch: [6][0/83]Data 0.182 (0.182)Elapsed 0m 0s (remain 0m 15s)Loss: 0.3526(0.3526)Grad: 0.1327  \n",
      "Epoch: [6][82/83]Data 0.000 (0.024)Elapsed 0m 2s (remain 0m 0s)Loss: 0.4362(0.4716)Grad: 0.2522  \n",
      "EVAL: [0/21] Data 0.201 (0.201) Elapsed 0m 0s (remain 0m 4s) Loss: 0.3520(0.3520) \n"
     ]
    },
    {
     "name": "stderr",
     "output_type": "stream",
     "text": [
      "Epoch 6 - avg_train_loss: 0.4716 avg_val_loss: 0.4055 time: 3s\n",
      "Epoch 6 - Accuracy: 0.8896905259160812\n",
      "Epoch 6 - Save Best Score: 0.8897 Mpdel\n"
     ]
    },
    {
     "name": "stdout",
     "output_type": "stream",
     "text": [
      "EVAL: [20/21] Data 0.002 (0.033) Elapsed 0m 0s (remain 0m 0s) Loss: 0.4295(0.4055) \n",
      "Epoch: [7][0/83]Data 0.186 (0.186)Elapsed 0m 0s (remain 0m 15s)Loss: 0.4987(0.4987)Grad: 0.2006  \n",
      "Epoch: [7][82/83]Data 0.000 (0.026)Elapsed 0m 2s (remain 0m 0s)Loss: 0.4741(0.4649)Grad: 0.3091  \n",
      "EVAL: [0/21] Data 0.165 (0.165) Elapsed 0m 0s (remain 0m 3s) Loss: 0.3502(0.3502) \n"
     ]
    },
    {
     "name": "stderr",
     "output_type": "stream",
     "text": [
      "Epoch 7 - avg_train_loss: 0.4649 avg_val_loss: 0.4040 time: 3s\n",
      "Epoch 7 - Accuracy: 0.8895006645149042\n"
     ]
    },
    {
     "name": "stdout",
     "output_type": "stream",
     "text": [
      "EVAL: [20/21] Data 0.000 (0.027) Elapsed 0m 0s (remain 0m 0s) Loss: 0.4272(0.4040) \n",
      "Epoch: [8][0/83]Data 0.175 (0.175)Elapsed 0m 0s (remain 0m 14s)Loss: 0.4857(0.4857)Grad: 0.1429  \n",
      "Epoch: [8][82/83]Data 0.000 (0.023)Elapsed 0m 2s (remain 0m 0s)Loss: 0.4800(0.4643)Grad: 0.2866  \n",
      "EVAL: [0/21] Data 0.191 (0.191) Elapsed 0m 0s (remain 0m 3s) Loss: 0.3493(0.3493) \n"
     ]
    },
    {
     "name": "stderr",
     "output_type": "stream",
     "text": [
      "Epoch 8 - avg_train_loss: 0.4643 avg_val_loss: 0.4030 time: 3s\n",
      "Epoch 8 - Accuracy: 0.8900702487184355\n",
      "Epoch 8 - Save Best Score: 0.8901 Mpdel\n"
     ]
    },
    {
     "name": "stdout",
     "output_type": "stream",
     "text": [
      "EVAL: [20/21] Data 0.005 (0.027) Elapsed 0m 0s (remain 0m 0s) Loss: 0.4259(0.4030) \n",
      "Epoch: [9][0/83]Data 0.191 (0.191)Elapsed 0m 0s (remain 0m 16s)Loss: 0.3826(0.3826)Grad: 0.2273  \n",
      "Epoch: [9][82/83]Data 0.002 (0.022)Elapsed 0m 2s (remain 0m 0s)Loss: 0.2348(0.4604)Grad: 0.1854  \n",
      "EVAL: [0/21] Data 0.188 (0.188) Elapsed 0m 0s (remain 0m 3s) Loss: 0.3490(0.3490) \n"
     ]
    },
    {
     "name": "stderr",
     "output_type": "stream",
     "text": [
      "Epoch 9 - avg_train_loss: 0.4604 avg_val_loss: 0.4027 time: 3s\n",
      "Epoch 9 - Accuracy: 0.8898803873172584\n"
     ]
    },
    {
     "name": "stdout",
     "output_type": "stream",
     "text": [
      "EVAL: [20/21] Data 0.002 (0.027) Elapsed 0m 0s (remain 0m 0s) Loss: 0.4251(0.4027) \n",
      "Epoch: [10][0/83]Data 0.179 (0.179)Elapsed 0m 0s (remain 0m 15s)Loss: 0.4939(0.4939)Grad: 0.1210  \n",
      "Epoch: [10][82/83]Data 0.000 (0.022)Elapsed 0m 2s (remain 0m 0s)Loss: 0.5048(0.4609)Grad: 0.3154  \n",
      "EVAL: [0/21] Data 0.210 (0.210) Elapsed 0m 0s (remain 0m 4s) Loss: 0.3490(0.3490) \n"
     ]
    },
    {
     "name": "stderr",
     "output_type": "stream",
     "text": [
      "Epoch 10 - avg_train_loss: 0.4609 avg_val_loss: 0.4026 time: 3s\n",
      "Epoch 10 - Accuracy: 0.8898803873172584\n"
     ]
    },
    {
     "name": "stdout",
     "output_type": "stream",
     "text": [
      "EVAL: [20/21] Data 0.000 (0.036) Elapsed 0m 0s (remain 0m 0s) Loss: 0.4248(0.4026) \n",
      "Epoch: [11][0/83]Data 0.183 (0.183)Elapsed 0m 0s (remain 0m 15s)Loss: 0.3759(0.3759)Grad: 0.1108  \n",
      "Epoch: [11][82/83]Data 0.010 (0.023)Elapsed 0m 2s (remain 0m 0s)Loss: 0.3917(0.4593)Grad: 0.2516  \n",
      "EVAL: [0/21] Data 0.189 (0.189) Elapsed 0m 0s (remain 0m 3s) Loss: 0.3451(0.3451) \n"
     ]
    },
    {
     "name": "stderr",
     "output_type": "stream",
     "text": [
      "Epoch 11 - avg_train_loss: 0.4593 avg_val_loss: 0.3998 time: 3s\n",
      "Epoch 11 - Accuracy: 0.8902601101196127\n",
      "Epoch 11 - Save Best Score: 0.8903 Mpdel\n"
     ]
    },
    {
     "name": "stdout",
     "output_type": "stream",
     "text": [
      "EVAL: [20/21] Data 0.000 (0.026) Elapsed 0m 0s (remain 0m 0s) Loss: 0.4178(0.3998) \n",
      "Epoch: [12][0/83]Data 0.181 (0.181)Elapsed 0m 0s (remain 0m 15s)Loss: 0.4058(0.4058)Grad: 0.1298  \n",
      "Epoch: [12][82/83]Data 0.000 (0.022)Elapsed 0m 2s (remain 0m 0s)Loss: 0.3692(0.4555)Grad: 0.1683  \n",
      "EVAL: [0/21] Data 0.242 (0.242) Elapsed 0m 0s (remain 0m 4s) Loss: 0.3449(0.3449) \n"
     ]
    },
    {
     "name": "stderr",
     "output_type": "stream",
     "text": [
      "Epoch 12 - avg_train_loss: 0.4555 avg_val_loss: 0.3981 time: 3s\n",
      "Epoch 12 - Accuracy: 0.8908296943231441\n",
      "Epoch 12 - Save Best Score: 0.8908 Mpdel\n"
     ]
    },
    {
     "name": "stdout",
     "output_type": "stream",
     "text": [
      "EVAL: [20/21] Data 0.022 (0.027) Elapsed 0m 0s (remain 0m 0s) Loss: 0.4120(0.3981) \n",
      "Epoch: [13][0/83]Data 0.166 (0.166)Elapsed 0m 0s (remain 0m 14s)Loss: 0.4567(0.4567)Grad: 0.1098  \n",
      "Epoch: [13][82/83]Data 0.000 (0.023)Elapsed 0m 2s (remain 0m 0s)Loss: 0.5211(0.4543)Grad: 0.2921  \n",
      "EVAL: [0/21] Data 0.210 (0.210) Elapsed 0m 0s (remain 0m 4s) Loss: 0.3413(0.3413) \n"
     ]
    },
    {
     "name": "stderr",
     "output_type": "stream",
     "text": [
      "Epoch 13 - avg_train_loss: 0.4543 avg_val_loss: 0.3961 time: 3s\n",
      "Epoch 13 - Accuracy: 0.8902601101196127\n"
     ]
    },
    {
     "name": "stdout",
     "output_type": "stream",
     "text": [
      "EVAL: [20/21] Data 0.000 (0.027) Elapsed 0m 0s (remain 0m 0s) Loss: 0.4112(0.3961) \n",
      "Epoch: [14][0/83]Data 0.172 (0.172)Elapsed 0m 0s (remain 0m 14s)Loss: 0.3891(0.3891)Grad: 0.1133  \n",
      "Epoch: [14][82/83]Data 0.003 (0.022)Elapsed 0m 2s (remain 0m 0s)Loss: 0.5175(0.4555)Grad: 0.3371  \n",
      "EVAL: [0/21] Data 0.176 (0.176) Elapsed 0m 0s (remain 0m 3s) Loss: 0.3419(0.3419) \n"
     ]
    },
    {
     "name": "stderr",
     "output_type": "stream",
     "text": [
      "Epoch 14 - avg_train_loss: 0.4555 avg_val_loss: 0.3961 time: 3s\n",
      "Epoch 14 - Accuracy: 0.8904499715207899\n"
     ]
    },
    {
     "name": "stdout",
     "output_type": "stream",
     "text": [
      "EVAL: [20/21] Data 0.000 (0.028) Elapsed 0m 0s (remain 0m 0s) Loss: 0.4118(0.3961) \n",
      "Epoch: [15][0/83]Data 0.183 (0.183)Elapsed 0m 0s (remain 0m 15s)Loss: 0.4808(0.4808)Grad: 0.1660  \n",
      "Epoch: [15][82/83]Data 0.010 (0.022)Elapsed 0m 2s (remain 0m 0s)Loss: 0.3900(0.4523)Grad: 0.2228  \n",
      "EVAL: [0/21] Data 0.161 (0.161) Elapsed 0m 0s (remain 0m 3s) Loss: 0.3395(0.3395) \n"
     ]
    },
    {
     "name": "stderr",
     "output_type": "stream",
     "text": [
      "Epoch 15 - avg_train_loss: 0.4523 avg_val_loss: 0.3954 time: 3s\n",
      "Epoch 15 - Accuracy: 0.8912094171254984\n",
      "Epoch 15 - Save Best Score: 0.8912 Mpdel\n"
     ]
    },
    {
     "name": "stdout",
     "output_type": "stream",
     "text": [
      "EVAL: [20/21] Data 0.000 (0.028) Elapsed 0m 0s (remain 0m 0s) Loss: 0.4110(0.3954) \n",
      "Epoch: [16][0/83]Data 0.188 (0.188)Elapsed 0m 0s (remain 0m 16s)Loss: 0.5154(0.5154)Grad: 0.1425  \n",
      "Epoch: [16][82/83]Data 0.002 (0.021)Elapsed 0m 2s (remain 0m 0s)Loss: 0.4491(0.4522)Grad: 0.2465  \n",
      "EVAL: [0/21] Data 0.188 (0.188) Elapsed 0m 0s (remain 0m 3s) Loss: 0.3415(0.3415) \n"
     ]
    },
    {
     "name": "stderr",
     "output_type": "stream",
     "text": [
      "Epoch 16 - avg_train_loss: 0.4522 avg_val_loss: 0.3951 time: 3s\n",
      "Epoch 16 - Accuracy: 0.8912094171254984\n"
     ]
    },
    {
     "name": "stdout",
     "output_type": "stream",
     "text": [
      "EVAL: [20/21] Data 0.000 (0.028) Elapsed 0m 0s (remain 0m 0s) Loss: 0.4088(0.3951) \n",
      "Epoch: [17][0/83]Data 0.183 (0.183)Elapsed 0m 0s (remain 0m 15s)Loss: 0.4209(0.4209)Grad: 0.1979  \n",
      "Epoch: [17][82/83]Data 0.000 (0.026)Elapsed 0m 2s (remain 0m 0s)Loss: 0.4267(0.4535)Grad: 0.2059  \n",
      "EVAL: [0/21] Data 0.181 (0.181) Elapsed 0m 0s (remain 0m 3s) Loss: 0.3417(0.3417) \n"
     ]
    },
    {
     "name": "stderr",
     "output_type": "stream",
     "text": [
      "Epoch 17 - avg_train_loss: 0.4535 avg_val_loss: 0.3951 time: 3s\n",
      "Epoch 17 - Accuracy: 0.8913992785266756\n",
      "Epoch 17 - Save Best Score: 0.8914 Mpdel\n"
     ]
    },
    {
     "name": "stdout",
     "output_type": "stream",
     "text": [
      "EVAL: [20/21] Data 0.020 (0.030) Elapsed 0m 0s (remain 0m 0s) Loss: 0.4081(0.3951) \n",
      "Epoch: [18][0/83]Data 0.189 (0.189)Elapsed 0m 0s (remain 0m 16s)Loss: 0.3867(0.3867)Grad: 0.1486  \n",
      "Epoch: [18][82/83]Data 0.006 (0.022)Elapsed 0m 2s (remain 0m 0s)Loss: 0.3260(0.4509)Grad: 0.2006  \n",
      "EVAL: [0/21] Data 0.162 (0.162) Elapsed 0m 0s (remain 0m 3s) Loss: 0.3414(0.3414) \n"
     ]
    },
    {
     "name": "stderr",
     "output_type": "stream",
     "text": [
      "Epoch 18 - avg_train_loss: 0.4509 avg_val_loss: 0.3948 time: 3s\n",
      "Epoch 18 - Accuracy: 0.8913992785266756\n"
     ]
    },
    {
     "name": "stdout",
     "output_type": "stream",
     "text": [
      "EVAL: [20/21] Data 0.000 (0.027) Elapsed 0m 0s (remain 0m 0s) Loss: 0.4078(0.3948) \n",
      "Epoch: [19][0/83]Data 0.177 (0.177)Elapsed 0m 0s (remain 0m 15s)Loss: 0.4988(0.4988)Grad: 0.1286  \n",
      "Epoch: [19][82/83]Data 0.000 (0.022)Elapsed 0m 2s (remain 0m 0s)Loss: 0.4284(0.4523)Grad: 0.1827  \n",
      "EVAL: [0/21] Data 0.160 (0.160) Elapsed 0m 0s (remain 0m 3s) Loss: 0.3414(0.3414) \n"
     ]
    },
    {
     "name": "stderr",
     "output_type": "stream",
     "text": [
      "Epoch 19 - avg_train_loss: 0.4523 avg_val_loss: 0.3948 time: 3s\n",
      "Epoch 19 - Accuracy: 0.8913992785266756\n"
     ]
    },
    {
     "name": "stdout",
     "output_type": "stream",
     "text": [
      "EVAL: [20/21] Data 0.000 (0.026) Elapsed 0m 0s (remain 0m 0s) Loss: 0.4077(0.3948) \n",
      "Epoch: [20][0/83]Data 0.188 (0.188)Elapsed 0m 0s (remain 0m 16s)Loss: 0.5284(0.5284)Grad: 0.1328  \n",
      "Epoch: [20][82/83]Data 0.000 (0.020)Elapsed 0m 2s (remain 0m 0s)Loss: 0.4857(0.4461)Grad: 0.3147  \n",
      "EVAL: [0/21] Data 0.182 (0.182) Elapsed 0m 0s (remain 0m 3s) Loss: 0.3413(0.3413) \n"
     ]
    },
    {
     "name": "stderr",
     "output_type": "stream",
     "text": [
      "Epoch 20 - avg_train_loss: 0.4461 avg_val_loss: 0.3948 time: 3s\n",
      "Epoch 20 - Accuracy: 0.8913992785266756\n"
     ]
    },
    {
     "name": "stdout",
     "output_type": "stream",
     "text": [
      "EVAL: [20/21] Data 0.000 (0.035) Elapsed 0m 0s (remain 0m 0s) Loss: 0.4077(0.3948) \n",
      "Epoch: [21][0/83]Data 0.182 (0.182)Elapsed 0m 0s (remain 0m 15s)Loss: 0.5273(0.5273)Grad: 0.1613  \n",
      "Epoch: [21][82/83]Data 0.002 (0.021)Elapsed 0m 2s (remain 0m 0s)Loss: 0.4190(0.4514)Grad: 0.3173  \n",
      "EVAL: [0/21] Data 0.202 (0.202) Elapsed 0m 0s (remain 0m 4s) Loss: 0.3429(0.3429) \n"
     ]
    },
    {
     "name": "stderr",
     "output_type": "stream",
     "text": [
      "Epoch 21 - avg_train_loss: 0.4514 avg_val_loss: 0.3945 time: 3s\n",
      "Epoch 21 - Accuracy: 0.8915891399278527\n",
      "Epoch 21 - Save Best Score: 0.8916 Mpdel\n"
     ]
    },
    {
     "name": "stdout",
     "output_type": "stream",
     "text": [
      "EVAL: [20/21] Data 0.000 (0.027) Elapsed 0m 0s (remain 0m 0s) Loss: 0.4063(0.3945) \n",
      "Epoch: [22][0/83]Data 0.159 (0.159)Elapsed 0m 0s (remain 0m 13s)Loss: 0.4779(0.4779)Grad: 0.1851  \n",
      "Epoch: [22][82/83]Data 0.005 (0.024)Elapsed 0m 2s (remain 0m 0s)Loss: 0.5335(0.4479)Grad: 0.2138  \n",
      "EVAL: [0/21] Data 0.169 (0.169) Elapsed 0m 0s (remain 0m 3s) Loss: 0.3395(0.3395) \n"
     ]
    },
    {
     "name": "stderr",
     "output_type": "stream",
     "text": [
      "Epoch 22 - avg_train_loss: 0.4479 avg_val_loss: 0.3934 time: 3s\n",
      "Epoch 22 - Accuracy: 0.8919688627302069\n",
      "Epoch 22 - Save Best Score: 0.8920 Mpdel\n"
     ]
    },
    {
     "name": "stdout",
     "output_type": "stream",
     "text": [
      "EVAL: [20/21] Data 0.000 (0.028) Elapsed 0m 0s (remain 0m 0s) Loss: 0.4060(0.3934) \n",
      "Epoch: [23][0/83]Data 0.185 (0.185)Elapsed 0m 0s (remain 0m 15s)Loss: 0.5933(0.5933)Grad: 0.1263  \n",
      "Epoch: [23][82/83]Data 0.002 (0.021)Elapsed 0m 2s (remain 0m 0s)Loss: 0.2305(0.4490)Grad: 0.1732  \n",
      "EVAL: [0/21] Data 0.231 (0.231) Elapsed 0m 0s (remain 0m 4s) Loss: 0.3402(0.3402) \n"
     ]
    },
    {
     "name": "stderr",
     "output_type": "stream",
     "text": [
      "Epoch 23 - avg_train_loss: 0.4490 avg_val_loss: 0.3933 time: 3s\n",
      "Epoch 23 - Accuracy: 0.8923485855325612\n",
      "Epoch 23 - Save Best Score: 0.8923 Mpdel\n"
     ]
    },
    {
     "name": "stdout",
     "output_type": "stream",
     "text": [
      "EVAL: [20/21] Data 0.024 (0.028) Elapsed 0m 0s (remain 0m 0s) Loss: 0.4052(0.3933) \n",
      "Epoch: [24][0/83]Data 0.174 (0.174)Elapsed 0m 0s (remain 0m 15s)Loss: 0.3509(0.3509)Grad: 0.1465  \n",
      "Epoch: [24][82/83]Data 0.000 (0.021)Elapsed 0m 2s (remain 0m 0s)Loss: 0.3157(0.4460)Grad: 0.1903  \n",
      "EVAL: [0/21] Data 0.191 (0.191) Elapsed 0m 0s (remain 0m 3s) Loss: 0.3395(0.3395) \n"
     ]
    },
    {
     "name": "stderr",
     "output_type": "stream",
     "text": [
      "Epoch 24 - avg_train_loss: 0.4460 avg_val_loss: 0.3931 time: 3s\n",
      "Epoch 24 - Accuracy: 0.8919688627302069\n"
     ]
    },
    {
     "name": "stdout",
     "output_type": "stream",
     "text": [
      "EVAL: [20/21] Data 0.024 (0.027) Elapsed 0m 0s (remain 0m 0s) Loss: 0.4042(0.3931) \n",
      "Epoch: [25][0/83]Data 0.170 (0.170)Elapsed 0m 0s (remain 0m 14s)Loss: 0.4647(0.4647)Grad: 0.2336  \n",
      "Epoch: [25][82/83]Data 0.000 (0.021)Elapsed 0m 2s (remain 0m 0s)Loss: 0.3573(0.4487)Grad: 0.1768  \n",
      "EVAL: [0/21] Data 0.170 (0.170) Elapsed 0m 0s (remain 0m 3s) Loss: 0.3385(0.3385) \n"
     ]
    },
    {
     "name": "stderr",
     "output_type": "stream",
     "text": [
      "Epoch 25 - avg_train_loss: 0.4487 avg_val_loss: 0.3929 time: 3s\n",
      "Epoch 25 - Accuracy: 0.8921587241313841\n"
     ]
    },
    {
     "name": "stdout",
     "output_type": "stream",
     "text": [
      "EVAL: [20/21] Data 0.000 (0.027) Elapsed 0m 0s (remain 0m 0s) Loss: 0.4051(0.3929) \n",
      "Epoch: [26][0/83]Data 0.185 (0.185)Elapsed 0m 0s (remain 0m 15s)Loss: 0.4679(0.4679)Grad: 0.1714  \n",
      "Epoch: [26][82/83]Data 0.000 (0.022)Elapsed 0m 2s (remain 0m 0s)Loss: 0.2062(0.4456)Grad: 0.2334  \n",
      "EVAL: [0/21] Data 0.164 (0.164) Elapsed 0m 0s (remain 0m 3s) Loss: 0.3395(0.3395) \n"
     ]
    },
    {
     "name": "stderr",
     "output_type": "stream",
     "text": [
      "Epoch 26 - avg_train_loss: 0.4456 avg_val_loss: 0.3928 time: 3s\n",
      "Epoch 26 - Accuracy: 0.8927283083349156\n",
      "Epoch 26 - Save Best Score: 0.8927 Mpdel\n"
     ]
    },
    {
     "name": "stdout",
     "output_type": "stream",
     "text": [
      "EVAL: [20/21] Data 0.000 (0.028) Elapsed 0m 0s (remain 0m 0s) Loss: 0.4052(0.3928) \n",
      "Epoch: [27][0/83]Data 0.180 (0.180)Elapsed 0m 0s (remain 0m 15s)Loss: 0.3877(0.3877)Grad: 0.0912  \n",
      "Epoch: [27][82/83]Data 0.000 (0.027)Elapsed 0m 2s (remain 0m 0s)Loss: 0.4229(0.4471)Grad: 0.2307  \n",
      "EVAL: [0/21] Data 0.195 (0.195) Elapsed 0m 0s (remain 0m 3s) Loss: 0.3394(0.3394) \n"
     ]
    },
    {
     "name": "stderr",
     "output_type": "stream",
     "text": [
      "Epoch 27 - avg_train_loss: 0.4471 avg_val_loss: 0.3925 time: 3s\n",
      "Epoch 27 - Accuracy: 0.8927283083349156\n"
     ]
    },
    {
     "name": "stdout",
     "output_type": "stream",
     "text": [
      "EVAL: [20/21] Data 0.025 (0.028) Elapsed 0m 0s (remain 0m 0s) Loss: 0.4044(0.3925) \n",
      "Epoch: [28][0/83]Data 0.166 (0.166)Elapsed 0m 0s (remain 0m 14s)Loss: 0.3425(0.3425)Grad: 0.1354  \n",
      "Epoch: [28][82/83]Data 0.000 (0.023)Elapsed 0m 2s (remain 0m 0s)Loss: 0.4957(0.4439)Grad: 0.2465  \n",
      "EVAL: [0/21] Data 0.157 (0.157) Elapsed 0m 0s (remain 0m 3s) Loss: 0.3391(0.3391) \n"
     ]
    },
    {
     "name": "stderr",
     "output_type": "stream",
     "text": [
      "Epoch 28 - avg_train_loss: 0.4439 avg_val_loss: 0.3923 time: 3s\n",
      "Epoch 28 - Accuracy: 0.8925384469337384\n"
     ]
    },
    {
     "name": "stdout",
     "output_type": "stream",
     "text": [
      "EVAL: [20/21] Data 0.000 (0.027) Elapsed 0m 0s (remain 0m 0s) Loss: 0.4047(0.3923) \n",
      "Epoch: [29][0/83]Data 0.183 (0.183)Elapsed 0m 0s (remain 0m 15s)Loss: 0.4438(0.4438)Grad: 0.1647  \n",
      "Epoch: [29][82/83]Data 0.002 (0.022)Elapsed 0m 2s (remain 0m 0s)Loss: 0.4533(0.4476)Grad: 0.3079  \n",
      "EVAL: [0/21] Data 0.170 (0.170) Elapsed 0m 0s (remain 0m 3s) Loss: 0.3392(0.3392) \n"
     ]
    },
    {
     "name": "stderr",
     "output_type": "stream",
     "text": [
      "Epoch 29 - avg_train_loss: 0.4476 avg_val_loss: 0.3922 time: 3s\n",
      "Epoch 29 - Accuracy: 0.8925384469337384\n"
     ]
    },
    {
     "name": "stdout",
     "output_type": "stream",
     "text": [
      "EVAL: [20/21] Data 0.000 (0.029) Elapsed 0m 0s (remain 0m 0s) Loss: 0.4044(0.3922) \n",
      "Epoch: [30][0/83]Data 0.188 (0.188)Elapsed 0m 0s (remain 0m 15s)Loss: 0.4752(0.4752)Grad: 0.1296  \n",
      "Epoch: [30][82/83]Data 0.002 (0.023)Elapsed 0m 2s (remain 0m 0s)Loss: 0.5885(0.4501)Grad: 0.3264  \n",
      "EVAL: [0/21] Data 0.296 (0.296) Elapsed 0m 0s (remain 0m 5s) Loss: 0.3392(0.3392) \n"
     ]
    },
    {
     "name": "stderr",
     "output_type": "stream",
     "text": [
      "Epoch 30 - avg_train_loss: 0.4501 avg_val_loss: 0.3922 time: 3s\n",
      "Epoch 30 - Accuracy: 0.8925384469337384\n",
      "=============== fold: 4 result ================\n",
      "Score: 0.89273\n",
      "============ CV ============\n",
      "Score: 0.89441\n"
     ]
    },
    {
     "name": "stdout",
     "output_type": "stream",
     "text": [
      "EVAL: [20/21] Data 0.025 (0.034) Elapsed 0m 0s (remain 0m 0s) Loss: 0.4045(0.3922) \n"
     ]
    }
   ],
   "source": [
    "if __name__ == '__main__':\n",
    "    main()"
   ]
  },
  {
   "cell_type": "code",
   "execution_count": null,
   "metadata": {
    "papermill": {
     "duration": 0.332429,
     "end_time": "2021-02-17T12:29:28.360244",
     "exception": false,
     "start_time": "2021-02-17T12:29:28.027815",
     "status": "completed"
    },
    "tags": []
   },
   "outputs": [],
   "source": []
  },
  {
   "cell_type": "code",
   "execution_count": null,
   "metadata": {
    "papermill": {
     "duration": 0.337152,
     "end_time": "2021-02-17T12:29:29.034254",
     "exception": false,
     "start_time": "2021-02-17T12:29:28.697102",
     "status": "completed"
    },
    "tags": []
   },
   "outputs": [],
   "source": []
  }
 ],
 "metadata": {
  "kernelspec": {
   "display_name": "Python 3",
   "language": "python",
   "name": "python3"
  },
  "language_info": {
   "codemirror_mode": {
    "name": "ipython",
    "version": 3
   },
   "file_extension": ".py",
   "mimetype": "text/x-python",
   "name": "python",
   "nbconvert_exporter": "python",
   "pygments_lexer": "ipython3",
   "version": "3.7.6"
  },
  "papermill": {
   "duration": 480.98694,
   "end_time": "2021-02-17T12:29:29.479718",
   "environment_variables": {},
   "exception": null,
   "input_path": "__notebook__.ipynb",
   "output_path": "__notebook__.ipynb",
   "parameters": {},
   "start_time": "2021-02-17T12:21:28.492778",
   "version": "2.1.0"
  }
 },
 "nbformat": 4,
 "nbformat_minor": 4
}
