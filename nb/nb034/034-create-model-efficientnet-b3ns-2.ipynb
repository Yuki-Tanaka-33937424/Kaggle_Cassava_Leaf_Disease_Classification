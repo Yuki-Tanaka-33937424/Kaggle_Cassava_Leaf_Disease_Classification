{
 "cells": [
  {
   "cell_type": "code",
   "execution_count": 1,
   "metadata": {
    "execution": {
     "iopub.execute_input": "2021-02-14T09:42:36.730882Z",
     "iopub.status.busy": "2021-02-14T09:42:36.729213Z",
     "iopub.status.idle": "2021-02-14T09:42:36.731637Z",
     "shell.execute_reply": "2021-02-14T09:42:36.732050Z"
    },
    "papermill": {
     "duration": 0.03648,
     "end_time": "2021-02-14T09:42:36.732176",
     "exception": false,
     "start_time": "2021-02-14T09:42:36.695696",
     "status": "completed"
    },
    "tags": []
   },
   "outputs": [],
   "source": [
    "# !pip install pytorch_ranger"
   ]
  },
  {
   "cell_type": "code",
   "execution_count": 2,
   "metadata": {
    "_cell_guid": "79c7e3d0-c299-4dcb-8224-4455121ee9b0",
    "_uuid": "d629ff2d2480ee46fbb7e2d37f6b5fab8052498a",
    "execution": {
     "iopub.execute_input": "2021-02-14T09:42:36.781508Z",
     "iopub.status.busy": "2021-02-14T09:42:36.780936Z",
     "iopub.status.idle": "2021-02-14T09:42:37.558642Z",
     "shell.execute_reply": "2021-02-14T09:42:37.558131Z"
    },
    "papermill": {
     "duration": 0.804777,
     "end_time": "2021-02-14T09:42:37.558753",
     "exception": false,
     "start_time": "2021-02-14T09:42:36.753976",
     "status": "completed"
    },
    "tags": []
   },
   "outputs": [],
   "source": [
    "import numpy as np\n",
    "import pandas as pd\n",
    "import matplotlib.pyplot as plt\n",
    "import seaborn as sns\n",
    "import os\n",
    "\n",
    "%matplotlib inline"
   ]
  },
  {
   "cell_type": "code",
   "execution_count": 3,
   "metadata": {
    "execution": {
     "iopub.execute_input": "2021-02-14T09:42:37.607337Z",
     "iopub.status.busy": "2021-02-14T09:42:37.606454Z",
     "iopub.status.idle": "2021-02-14T09:42:37.612986Z",
     "shell.execute_reply": "2021-02-14T09:42:37.612572Z"
    },
    "papermill": {
     "duration": 0.032401,
     "end_time": "2021-02-14T09:42:37.613076",
     "exception": false,
     "start_time": "2021-02-14T09:42:37.580675",
     "status": "completed"
    },
    "tags": []
   },
   "outputs": [
    {
     "data": {
      "text/plain": [
       "['train_tfrecords',\n",
       " 'sample_submission.csv',\n",
       " 'test_tfrecords',\n",
       " 'label_num_to_disease_map.json',\n",
       " 'train_images',\n",
       " 'train.csv',\n",
       " 'test_images']"
      ]
     },
     "execution_count": 3,
     "metadata": {},
     "output_type": "execute_result"
    }
   ],
   "source": [
    "os.listdir('../input/cassava-leaf-disease-classification/')"
   ]
  },
  {
   "cell_type": "code",
   "execution_count": 4,
   "metadata": {
    "execution": {
     "iopub.execute_input": "2021-02-14T09:42:37.664754Z",
     "iopub.status.busy": "2021-02-14T09:42:37.664205Z",
     "iopub.status.idle": "2021-02-14T09:42:37.963700Z",
     "shell.execute_reply": "2021-02-14T09:42:37.964101Z"
    },
    "papermill": {
     "duration": 0.328796,
     "end_time": "2021-02-14T09:42:37.964226",
     "exception": false,
     "start_time": "2021-02-14T09:42:37.635430",
     "status": "completed"
    },
    "tags": []
   },
   "outputs": [
    {
     "data": {
      "text/html": [
       "<div>\n",
       "<style scoped>\n",
       "    .dataframe tbody tr th:only-of-type {\n",
       "        vertical-align: middle;\n",
       "    }\n",
       "\n",
       "    .dataframe tbody tr th {\n",
       "        vertical-align: top;\n",
       "    }\n",
       "\n",
       "    .dataframe thead th {\n",
       "        text-align: right;\n",
       "    }\n",
       "</style>\n",
       "<table border=\"1\" class=\"dataframe\">\n",
       "  <thead>\n",
       "    <tr style=\"text-align: right;\">\n",
       "      <th></th>\n",
       "      <th>image_id</th>\n",
       "      <th>label</th>\n",
       "      <th>source</th>\n",
       "    </tr>\n",
       "  </thead>\n",
       "  <tbody>\n",
       "    <tr>\n",
       "      <th>0</th>\n",
       "      <td>1000015157.jpg</td>\n",
       "      <td>0</td>\n",
       "      <td>2020</td>\n",
       "    </tr>\n",
       "    <tr>\n",
       "      <th>1</th>\n",
       "      <td>1000201771.jpg</td>\n",
       "      <td>3</td>\n",
       "      <td>2020</td>\n",
       "    </tr>\n",
       "    <tr>\n",
       "      <th>2</th>\n",
       "      <td>100042118.jpg</td>\n",
       "      <td>1</td>\n",
       "      <td>2020</td>\n",
       "    </tr>\n",
       "    <tr>\n",
       "      <th>3</th>\n",
       "      <td>1000723321.jpg</td>\n",
       "      <td>1</td>\n",
       "      <td>2020</td>\n",
       "    </tr>\n",
       "    <tr>\n",
       "      <th>4</th>\n",
       "      <td>1000812911.jpg</td>\n",
       "      <td>3</td>\n",
       "      <td>2020</td>\n",
       "    </tr>\n",
       "  </tbody>\n",
       "</table>\n",
       "</div>"
      ],
      "text/plain": [
       "         image_id  label  source\n",
       "0  1000015157.jpg      0    2020\n",
       "1  1000201771.jpg      3    2020\n",
       "2   100042118.jpg      1    2020\n",
       "3  1000723321.jpg      1    2020\n",
       "4  1000812911.jpg      3    2020"
      ]
     },
     "metadata": {},
     "output_type": "display_data"
    },
    {
     "data": {
      "text/html": [
       "<div>\n",
       "<style scoped>\n",
       "    .dataframe tbody tr th:only-of-type {\n",
       "        vertical-align: middle;\n",
       "    }\n",
       "\n",
       "    .dataframe tbody tr th {\n",
       "        vertical-align: top;\n",
       "    }\n",
       "\n",
       "    .dataframe thead th {\n",
       "        text-align: right;\n",
       "    }\n",
       "</style>\n",
       "<table border=\"1\" class=\"dataframe\">\n",
       "  <thead>\n",
       "    <tr style=\"text-align: right;\">\n",
       "      <th></th>\n",
       "      <th>image_id</th>\n",
       "      <th>label</th>\n",
       "    </tr>\n",
       "  </thead>\n",
       "  <tbody>\n",
       "    <tr>\n",
       "      <th>0</th>\n",
       "      <td>2216849948.jpg</td>\n",
       "      <td>4</td>\n",
       "    </tr>\n",
       "  </tbody>\n",
       "</table>\n",
       "</div>"
      ],
      "text/plain": [
       "         image_id  label\n",
       "0  2216849948.jpg      4"
      ]
     },
     "metadata": {},
     "output_type": "display_data"
    },
    {
     "data": {
      "text/html": [
       "<div>\n",
       "<style scoped>\n",
       "    .dataframe tbody tr th:only-of-type {\n",
       "        vertical-align: middle;\n",
       "    }\n",
       "\n",
       "    .dataframe tbody tr th {\n",
       "        vertical-align: top;\n",
       "    }\n",
       "\n",
       "    .dataframe thead th {\n",
       "        text-align: right;\n",
       "    }\n",
       "</style>\n",
       "<table border=\"1\" class=\"dataframe\">\n",
       "  <thead>\n",
       "    <tr style=\"text-align: right;\">\n",
       "      <th></th>\n",
       "      <th>0</th>\n",
       "    </tr>\n",
       "  </thead>\n",
       "  <tbody>\n",
       "    <tr>\n",
       "      <th>0</th>\n",
       "      <td>Cassava Bacterial Blight (CBB)</td>\n",
       "    </tr>\n",
       "    <tr>\n",
       "      <th>1</th>\n",
       "      <td>Cassava Brown Streak Disease (CBSD)</td>\n",
       "    </tr>\n",
       "    <tr>\n",
       "      <th>2</th>\n",
       "      <td>Cassava Green Mottle (CGM)</td>\n",
       "    </tr>\n",
       "    <tr>\n",
       "      <th>3</th>\n",
       "      <td>Cassava Mosaic Disease (CMD)</td>\n",
       "    </tr>\n",
       "    <tr>\n",
       "      <th>4</th>\n",
       "      <td>Healthy</td>\n",
       "    </tr>\n",
       "  </tbody>\n",
       "</table>\n",
       "</div>"
      ],
      "text/plain": [
       "                                     0\n",
       "0       Cassava Bacterial Blight (CBB)\n",
       "1  Cassava Brown Streak Disease (CBSD)\n",
       "2           Cassava Green Mottle (CGM)\n",
       "3         Cassava Mosaic Disease (CMD)\n",
       "4                              Healthy"
      ]
     },
     "metadata": {},
     "output_type": "display_data"
    }
   ],
   "source": [
    "train = pd.read_csv('../input/cassava-leaf-disease-merged/merged.csv')\n",
    "test = pd.read_csv('../input/cassava-leaf-disease-classification//sample_submission.csv')\n",
    "label_map = pd.read_json('../input/cassava-leaf-disease-classification/label_num_to_disease_map.json', orient='index')\n",
    "\n",
    "display(train.head())\n",
    "display(test.head())\n",
    "display(label_map)"
   ]
  },
  {
   "cell_type": "markdown",
   "metadata": {
    "papermill": {
     "duration": 0.023856,
     "end_time": "2021-02-14T09:42:38.012435",
     "exception": false,
     "start_time": "2021-02-14T09:42:37.988579",
     "status": "completed"
    },
    "tags": []
   },
   "source": [
    "## Directory settings"
   ]
  },
  {
   "cell_type": "code",
   "execution_count": 5,
   "metadata": {
    "execution": {
     "iopub.execute_input": "2021-02-14T09:42:38.063551Z",
     "iopub.status.busy": "2021-02-14T09:42:38.062899Z",
     "iopub.status.idle": "2021-02-14T09:42:38.065811Z",
     "shell.execute_reply": "2021-02-14T09:42:38.065399Z"
    },
    "papermill": {
     "duration": 0.030143,
     "end_time": "2021-02-14T09:42:38.065898",
     "exception": false,
     "start_time": "2021-02-14T09:42:38.035755",
     "status": "completed"
    },
    "tags": []
   },
   "outputs": [],
   "source": [
    "OUTPUT_DIR = './'\n",
    "if not os.path.exists(OUTPUT_DIR):\n",
    "    os.makedirs(OUTPUT_DIR)\n",
    "    \n",
    "TRAIN_PATH = '../input/cassava-leaf-disease-merged/train'\n",
    "TEST_PATH = '../input/cassava-leaf-disease-classification/test_images'"
   ]
  },
  {
   "cell_type": "markdown",
   "metadata": {
    "papermill": {
     "duration": 0.02301,
     "end_time": "2021-02-14T09:42:38.112332",
     "exception": false,
     "start_time": "2021-02-14T09:42:38.089322",
     "status": "completed"
    },
    "tags": []
   },
   "source": [
    "## CFG"
   ]
  },
  {
   "cell_type": "code",
   "execution_count": 6,
   "metadata": {
    "execution": {
     "iopub.execute_input": "2021-02-14T09:42:38.166776Z",
     "iopub.status.busy": "2021-02-14T09:42:38.166197Z",
     "iopub.status.idle": "2021-02-14T09:42:38.168721Z",
     "shell.execute_reply": "2021-02-14T09:42:38.169101Z"
    },
    "papermill": {
     "duration": 0.033562,
     "end_time": "2021-02-14T09:42:38.169201",
     "exception": false,
     "start_time": "2021-02-14T09:42:38.135639",
     "status": "completed"
    },
    "tags": []
   },
   "outputs": [],
   "source": [
    "class CFG:\n",
    "    debug = False\n",
    "    apex = False\n",
    "    print_freq = 100\n",
    "    num_workers = 4\n",
    "    model_name = 'tf_efficientnet_b3_ns'\n",
    "    size = 470\n",
    "    scheduler = 'CosineAnnealingWarmRestarts'\n",
    "    loss_train = 'BiTemperedLoss'\n",
    "    epochs = 10\n",
    "    T_0 = 10\n",
    "    lr_1 = 5e-4\n",
    "    lr_2 = 5e-5\n",
    "    t1 = 0.9\n",
    "    t2 = 1.5\n",
    "    smooth = 1e-2\n",
    "    min_lr = 1e-6\n",
    "    batch_size = 16\n",
    "    weight_decay = 1e-6\n",
    "    gradient_accumulation_steps = 1\n",
    "    max_grad_norm = 1000\n",
    "    seed = 42\n",
    "    target_size = 5\n",
    "    target_col = 'label'\n",
    "    n_fold = 5\n",
    "    trn_fold = [2]\n",
    "    train = True\n",
    "    inference = False\n",
    "    \n",
    "if CFG.debug:\n",
    "    CFG.epochs = 3\n",
    "    train = train.sample(n=1000, random_state=CFG.seed).reset_index(drop=True)"
   ]
  },
  {
   "cell_type": "markdown",
   "metadata": {
    "papermill": {
     "duration": 0.023527,
     "end_time": "2021-02-14T09:42:38.216596",
     "exception": false,
     "start_time": "2021-02-14T09:42:38.193069",
     "status": "completed"
    },
    "tags": []
   },
   "source": [
    "## Library"
   ]
  },
  {
   "cell_type": "code",
   "execution_count": 7,
   "metadata": {
    "execution": {
     "iopub.execute_input": "2021-02-14T09:42:38.275833Z",
     "iopub.status.busy": "2021-02-14T09:42:38.275197Z",
     "iopub.status.idle": "2021-02-14T09:42:41.657828Z",
     "shell.execute_reply": "2021-02-14T09:42:41.656832Z"
    },
    "papermill": {
     "duration": 3.418018,
     "end_time": "2021-02-14T09:42:41.657951",
     "exception": false,
     "start_time": "2021-02-14T09:42:38.239933",
     "status": "completed"
    },
    "tags": []
   },
   "outputs": [],
   "source": [
    "import sys\n",
    "sys.path.append('../input/pytorch-image-models/pytorch-image-models-master')\n",
    "\n",
    "import os\n",
    "import math\n",
    "import time\n",
    "import random\n",
    "import shutil\n",
    "from pathlib import Path\n",
    "from contextlib import contextmanager\n",
    "from collections import defaultdict, Counter\n",
    "\n",
    "import scipy as sp\n",
    "import numpy as np\n",
    "import pandas as pd\n",
    "\n",
    "from sklearn import preprocessing\n",
    "from sklearn.metrics import accuracy_score\n",
    "from sklearn.model_selection import StratifiedKFold\n",
    "\n",
    "from tqdm.auto import tqdm\n",
    "from functools import partial\n",
    "\n",
    "import cv2\n",
    "from PIL import Image\n",
    "\n",
    "import torch\n",
    "import torch.nn as nn\n",
    "import torch.nn.functional as F\n",
    "from torch.optim import Adam, SGD\n",
    "import torchvision.models as models\n",
    "from torch.nn.parameter import Parameter\n",
    "from torch.utils.data import DataLoader, Dataset\n",
    "from torch.optim.lr_scheduler import CosineAnnealingWarmRestarts, CosineAnnealingLR, ReduceLROnPlateau\n",
    "\n",
    "sys.path.append('../input/bi-tempered-loss-pytorch')\n",
    "from bi_tempered_loss import *\n",
    "\n",
    "# sys.path.append('../input/pytorch-optimizer')\n",
    "# import torch_optimizer as optim\n",
    "\n",
    "sys.path.append('../input/pytorch-sam')\n",
    "from sam import SAM\n",
    "\n",
    "from albumentations import (\n",
    "    HorizontalFlip, VerticalFlip, IAAPerspective, ShiftScaleRotate, CLAHE, RandomRotate90,\n",
    "    Transpose, ShiftScaleRotate, Blur, OpticalDistortion, GridDistortion, HueSaturationValue,\n",
    "    IAAAdditiveGaussianNoise, GaussNoise, MotionBlur, MedianBlur, IAAPiecewiseAffine, RandomResizedCrop,\n",
    "    IAASharpen, IAAEmboss, RandomBrightnessContrast, Flip, OneOf, Compose, Normalize, Cutout, CoarseDropout, ShiftScaleRotate, CenterCrop, Resize\n",
    ")\n",
    "from albumentations.pytorch import ToTensorV2\n",
    "from albumentations import ImageOnlyTransform\n",
    "\n",
    "import timm\n",
    "\n",
    "import warnings \n",
    "warnings.filterwarnings('ignore')\n",
    "\n",
    "if CFG.apex:\n",
    "    from apex import amp\n",
    "\n",
    "device = torch.device('cuda' if torch.cuda.is_available() else 'cpu')"
   ]
  },
  {
   "cell_type": "markdown",
   "metadata": {
    "papermill": {
     "duration": 0.027742,
     "end_time": "2021-02-14T09:42:41.714025",
     "exception": false,
     "start_time": "2021-02-14T09:42:41.686283",
     "status": "completed"
    },
    "tags": []
   },
   "source": [
    "## Utils"
   ]
  },
  {
   "cell_type": "code",
   "execution_count": 8,
   "metadata": {
    "execution": {
     "iopub.execute_input": "2021-02-14T09:42:41.771909Z",
     "iopub.status.busy": "2021-02-14T09:42:41.771301Z",
     "iopub.status.idle": "2021-02-14T09:42:41.776915Z",
     "shell.execute_reply": "2021-02-14T09:42:41.776502Z"
    },
    "papermill": {
     "duration": 0.039633,
     "end_time": "2021-02-14T09:42:41.777019",
     "exception": false,
     "start_time": "2021-02-14T09:42:41.737386",
     "status": "completed"
    },
    "tags": []
   },
   "outputs": [],
   "source": [
    "def get_score(y_true, y_pred):\n",
    "    return accuracy_score(y_true, y_pred)\n",
    "\n",
    "@contextmanager\n",
    "def timer(name):\n",
    "    t0 = time.time()\n",
    "    LOGGER.info(f'[{name}] start')\n",
    "    yield\n",
    "    LOGGER.info(f'[{name}] done in {time.time() - t0:.0f}')\n",
    "    \n",
    "def init_logger(log_file=OUTPUT_DIR+'train.log'):\n",
    "    from logging import getLogger, INFO, FileHandler,  Formatter,  StreamHandler\n",
    "    logger = getLogger(__name__)\n",
    "    logger.setLevel(INFO)\n",
    "    handler1 = StreamHandler()\n",
    "    handler1.setFormatter(Formatter(\"%(message)s\"))\n",
    "    handler2 = FileHandler(filename=log_file)\n",
    "    handler2.setFormatter(Formatter(\"%(message)s\"))\n",
    "    logger.addHandler(handler1)\n",
    "    logger.addHandler(handler2)\n",
    "    return logger\n",
    "\n",
    "LOGGER = init_logger()\n",
    "\n",
    "def seed_torch(seed=42):\n",
    "    random.seed(seed)\n",
    "    os.environ['PYTHONHASHSEED'] = str(seed)\n",
    "    np.random.seed(seed)\n",
    "    torch.manual_seed(seed)\n",
    "    torch.cuda.manual_seed(seed)\n",
    "    torch.backends.cudnn.benchmark = False\n",
    "    torch.backends.cudnn.deterministic = True\n",
    "\n",
    "seed_torch(seed=CFG.seed)"
   ]
  },
  {
   "cell_type": "markdown",
   "metadata": {
    "papermill": {
     "duration": 0.023054,
     "end_time": "2021-02-14T09:42:41.823980",
     "exception": false,
     "start_time": "2021-02-14T09:42:41.800926",
     "status": "completed"
    },
    "tags": []
   },
   "source": [
    "## CV split"
   ]
  },
  {
   "cell_type": "code",
   "execution_count": 9,
   "metadata": {
    "execution": {
     "iopub.execute_input": "2021-02-14T09:42:41.912277Z",
     "iopub.status.busy": "2021-02-14T09:42:41.911497Z",
     "iopub.status.idle": "2021-02-14T09:42:41.931893Z",
     "shell.execute_reply": "2021-02-14T09:42:41.931394Z"
    },
    "papermill": {
     "duration": 0.051733,
     "end_time": "2021-02-14T09:42:41.931976",
     "exception": false,
     "start_time": "2021-02-14T09:42:41.880243",
     "status": "completed"
    },
    "tags": []
   },
   "outputs": [
    {
     "name": "stdout",
     "output_type": "stream",
     "text": [
      "fold  label\n",
      "0     0         299\n",
      "      1         695\n",
      "      2         604\n",
      "      3        3092\n",
      "      4         578\n",
      "1     0         299\n",
      "      1         695\n",
      "      2         604\n",
      "      3        3092\n",
      "      4         578\n",
      "2     0         298\n",
      "      1         695\n",
      "      2         603\n",
      "      3        3093\n",
      "      4         578\n",
      "3     0         298\n",
      "      1         695\n",
      "      2         603\n",
      "      3        3093\n",
      "      4         578\n",
      "4     0         298\n",
      "      1         696\n",
      "      2         603\n",
      "      3        3092\n",
      "      4         578\n",
      "dtype: int64\n"
     ]
    }
   ],
   "source": [
    "folds = train.copy()\n",
    "Fold = StratifiedKFold(n_splits=CFG.n_fold, shuffle=True, random_state=CFG.seed)\n",
    "for n, (train_index, val_index) in enumerate(Fold.split(folds, folds[CFG.target_col])):\n",
    "    folds.loc[val_index, 'fold'] = int(n)\n",
    "folds['fold'] = folds['fold'].astype(int)\n",
    "print(folds.groupby(['fold', CFG.target_col]).size())"
   ]
  },
  {
   "cell_type": "markdown",
   "metadata": {
    "papermill": {
     "duration": 0.025369,
     "end_time": "2021-02-14T09:42:41.982640",
     "exception": false,
     "start_time": "2021-02-14T09:42:41.957271",
     "status": "completed"
    },
    "tags": []
   },
   "source": [
    "## Dataset"
   ]
  },
  {
   "cell_type": "code",
   "execution_count": 10,
   "metadata": {
    "execution": {
     "iopub.execute_input": "2021-02-14T09:42:42.047306Z",
     "iopub.status.busy": "2021-02-14T09:42:42.046244Z",
     "iopub.status.idle": "2021-02-14T09:42:42.053445Z",
     "shell.execute_reply": "2021-02-14T09:42:42.053015Z"
    },
    "papermill": {
     "duration": 0.043962,
     "end_time": "2021-02-14T09:42:42.053532",
     "exception": false,
     "start_time": "2021-02-14T09:42:42.009570",
     "status": "completed"
    },
    "tags": []
   },
   "outputs": [],
   "source": [
    "class TrainDataset(Dataset):\n",
    "    def __init__(self, df, transform=None):\n",
    "        self.df = df\n",
    "        self.file_names = df['image_id'].values\n",
    "        self.labels = df['label'].values\n",
    "#         self.labels = pd.get_dummies(df['label']).values  # One Hot Encoding\n",
    "        self.transform = transform\n",
    "    \n",
    "    def __len__(self):\n",
    "        return len(self.df)\n",
    "    \n",
    "    def __getitem__(self, idx):\n",
    "        file_name = self.file_names[idx]\n",
    "        file_path = f'{TRAIN_PATH}/{file_name}'\n",
    "        image = cv2.imread(file_path)\n",
    "        image = cv2.cvtColor(image, cv2.COLOR_BGR2RGB)\n",
    "        if self.transform:\n",
    "            augmented = self.transform(image=image)\n",
    "            image = augmented['image']\n",
    "        label = torch.tensor(self.labels[idx]).long()\n",
    "        return image, label\n",
    "    \n",
    "class TestDataset(Dataset):\n",
    "    def __init__(self, df, transform=None):\n",
    "        self.df = df\n",
    "        self.file_names = df['image_id'].values\n",
    "        self.transform = transform\n",
    "        \n",
    "    def __len__(self):\n",
    "        return len(self.df)\n",
    "    \n",
    "    def __getitem__(self, idx):\n",
    "        file_name = self.file_names[idx]\n",
    "        file_path = f'{TEST_PATH}/{file_name}'\n",
    "        image = cv2.imread(file_path)\n",
    "        image = cv2.cvtColor(image, cv2.COLOR_BGR2RGB)\n",
    "        if self.transform:\n",
    "            augmented = self.transform(image=image)\n",
    "            image = augmented['image']\n",
    "        return image"
   ]
  },
  {
   "cell_type": "code",
   "execution_count": 11,
   "metadata": {
    "execution": {
     "iopub.execute_input": "2021-02-14T09:42:42.109448Z",
     "iopub.status.busy": "2021-02-14T09:42:42.108125Z",
     "iopub.status.idle": "2021-02-14T09:42:42.110960Z",
     "shell.execute_reply": "2021-02-14T09:42:42.110559Z"
    },
    "papermill": {
     "duration": 0.031814,
     "end_time": "2021-02-14T09:42:42.111042",
     "exception": false,
     "start_time": "2021-02-14T09:42:42.079228",
     "status": "completed"
    },
    "tags": []
   },
   "outputs": [],
   "source": [
    "# train_dataset = TrainDataset(train, transform=None)\n",
    "\n",
    "# for i in range(1):\n",
    "#     image, label = train_dataset[i]\n",
    "#     plt.imshow(image)\n",
    "#     plt.title(f'label: {label}')\n",
    "#     plt.show()"
   ]
  },
  {
   "cell_type": "markdown",
   "metadata": {
    "papermill": {
     "duration": 0.024535,
     "end_time": "2021-02-14T09:42:42.160452",
     "exception": false,
     "start_time": "2021-02-14T09:42:42.135917",
     "status": "completed"
    },
    "tags": []
   },
   "source": [
    "## Transforms"
   ]
  },
  {
   "cell_type": "code",
   "execution_count": 12,
   "metadata": {
    "execution": {
     "iopub.execute_input": "2021-02-14T09:42:42.219755Z",
     "iopub.status.busy": "2021-02-14T09:42:42.219105Z",
     "iopub.status.idle": "2021-02-14T09:42:42.222619Z",
     "shell.execute_reply": "2021-02-14T09:42:42.222198Z"
    },
    "papermill": {
     "duration": 0.036475,
     "end_time": "2021-02-14T09:42:42.222703",
     "exception": false,
     "start_time": "2021-02-14T09:42:42.186228",
     "status": "completed"
    },
    "tags": []
   },
   "outputs": [],
   "source": [
    "def get_transforms(*, data):\n",
    "    \n",
    "    if data == 'train':\n",
    "        return Compose([\n",
    "            RandomResizedCrop(CFG.size, CFG.size), \n",
    "            Transpose(p=0.5), \n",
    "            HorizontalFlip(p=0.5), \n",
    "            VerticalFlip(p=0.5), \n",
    "            ShiftScaleRotate(p=0.5), \n",
    "            HueSaturationValue(hue_shift_limit=0.2, sat_shift_limit=0.2, val_shift_limit=0.2, p=0.5), \n",
    "            RandomBrightnessContrast(brightness_limit=(-0.1, 0.1), contrast_limit=(-0.1, 0.1), p=0.5), \n",
    "            Normalize(\n",
    "                mean=[0.485, 0.456, 0.406], \n",
    "                std=[0.229, 0.224, 0.225], \n",
    "            ), \n",
    "            ToTensorV2(),\n",
    "        ])\n",
    "    \n",
    "    elif data == 'valid':\n",
    "        return Compose([\n",
    "            Resize(CFG.size, CFG.size), \n",
    "            Normalize(\n",
    "                mean=[0.485, 0.456, 0.406], \n",
    "                std=[0.229, 0.224, 0.225], \n",
    "            ), \n",
    "            ToTensorV2(),\n",
    "        ])"
   ]
  },
  {
   "cell_type": "code",
   "execution_count": 13,
   "metadata": {
    "execution": {
     "iopub.execute_input": "2021-02-14T09:42:42.273393Z",
     "iopub.status.busy": "2021-02-14T09:42:42.272731Z",
     "iopub.status.idle": "2021-02-14T09:42:42.275629Z",
     "shell.execute_reply": "2021-02-14T09:42:42.275096Z"
    },
    "papermill": {
     "duration": 0.029299,
     "end_time": "2021-02-14T09:42:42.275710",
     "exception": false,
     "start_time": "2021-02-14T09:42:42.246411",
     "status": "completed"
    },
    "tags": []
   },
   "outputs": [],
   "source": [
    "# train_dataset = TrainDataset(train, transform=get_transforms(data='train'))\n",
    "\n",
    "# for i in range(1):\n",
    "#     image, label = train_dataset[i]\n",
    "#     plt.imshow(image[0])\n",
    "#     plt.title(f'label: {label}')\n",
    "#     plt.show()"
   ]
  },
  {
   "cell_type": "markdown",
   "metadata": {
    "papermill": {
     "duration": 0.023752,
     "end_time": "2021-02-14T09:42:42.323242",
     "exception": false,
     "start_time": "2021-02-14T09:42:42.299490",
     "status": "completed"
    },
    "tags": []
   },
   "source": [
    "## MODEL"
   ]
  },
  {
   "cell_type": "code",
   "execution_count": 14,
   "metadata": {
    "execution": {
     "iopub.execute_input": "2021-02-14T09:42:42.376841Z",
     "iopub.status.busy": "2021-02-14T09:42:42.376106Z",
     "iopub.status.idle": "2021-02-14T09:42:42.378810Z",
     "shell.execute_reply": "2021-02-14T09:42:42.378355Z"
    },
    "papermill": {
     "duration": 0.03202,
     "end_time": "2021-02-14T09:42:42.378894",
     "exception": false,
     "start_time": "2021-02-14T09:42:42.346874",
     "status": "completed"
    },
    "tags": []
   },
   "outputs": [],
   "source": [
    "class CustomEfficientNetB3ns(nn.Module):\n",
    "    def __init__(self, model_name='tf_efficientnet_b3_ns', pretrained=False):\n",
    "        super().__init__()\n",
    "        self.model = timm.create_model(model_name, pretrained=pretrained)\n",
    "        n_features = self.model.classifier.in_features\n",
    "        self.model.classifier = nn.Linear(n_features, CFG.target_size)\n",
    "        \n",
    "    def forward(self, x):\n",
    "        x = self.model(x)\n",
    "        return x"
   ]
  },
  {
   "cell_type": "code",
   "execution_count": 15,
   "metadata": {
    "execution": {
     "iopub.execute_input": "2021-02-14T09:42:42.429817Z",
     "iopub.status.busy": "2021-02-14T09:42:42.429126Z",
     "iopub.status.idle": "2021-02-14T09:42:42.431975Z",
     "shell.execute_reply": "2021-02-14T09:42:42.431459Z"
    },
    "papermill": {
     "duration": 0.029472,
     "end_time": "2021-02-14T09:42:42.432054",
     "exception": false,
     "start_time": "2021-02-14T09:42:42.402582",
     "status": "completed"
    },
    "tags": []
   },
   "outputs": [],
   "source": [
    "# model = CustomEfficientNetB3ns(model_name=CFG.model_name, pretrained=False)\n",
    "# train_dataset = TrainDataset(train, transform=get_transforms(data='train'))\n",
    "# train_loader = DataLoader(train_dataset, batch_size=4, shuffle=True, \n",
    "#                           num_workers=4, pin_memory=True, drop_last=True)\n",
    "\n",
    "# for image, label in train_loader:\n",
    "#     print(image.size())\n",
    "#     output = model(image)\n",
    "#     print(output)\n",
    "#     break"
   ]
  },
  {
   "cell_type": "markdown",
   "metadata": {
    "papermill": {
     "duration": 0.0235,
     "end_time": "2021-02-14T09:42:42.480265",
     "exception": false,
     "start_time": "2021-02-14T09:42:42.456765",
     "status": "completed"
    },
    "tags": []
   },
   "source": [
    "## Loss Functions"
   ]
  },
  {
   "cell_type": "code",
   "execution_count": 16,
   "metadata": {
    "execution": {
     "iopub.execute_input": "2021-02-14T09:42:42.536473Z",
     "iopub.status.busy": "2021-02-14T09:42:42.535873Z",
     "iopub.status.idle": "2021-02-14T09:42:42.538780Z",
     "shell.execute_reply": "2021-02-14T09:42:42.538366Z"
    },
    "papermill": {
     "duration": 0.034544,
     "end_time": "2021-02-14T09:42:42.538871",
     "exception": false,
     "start_time": "2021-02-14T09:42:42.504327",
     "status": "completed"
    },
    "tags": []
   },
   "outputs": [],
   "source": [
    "# ====================================================\n",
    "# Label Smoothing\n",
    "# ====================================================\n",
    "class LabelSmoothingLoss(nn.Module): \n",
    "    def __init__(self, classes=5, smoothing=0.0, dim=-1): \n",
    "        super(LabelSmoothingLoss, self).__init__() \n",
    "        self.confidence = 1.0 - smoothing \n",
    "        self.smoothing = smoothing \n",
    "        self.cls = classes \n",
    "        self.dim = dim \n",
    "    def forward(self, pred, target): \n",
    "        pred = pred.log_softmax(dim=self.dim) \n",
    "        with torch.no_grad():\n",
    "            true_dist = torch.zeros_like(pred) \n",
    "            true_dist.fill_(self.smoothing / (self.cls - 1)) \n",
    "            true_dist.scatter_(1, target.data.unsqueeze(1), self.confidence) \n",
    "        return torch.mean(torch.sum(-true_dist * pred, dim=self.dim))"
   ]
  },
  {
   "cell_type": "code",
   "execution_count": 17,
   "metadata": {
    "execution": {
     "iopub.execute_input": "2021-02-14T09:42:42.593313Z",
     "iopub.status.busy": "2021-02-14T09:42:42.592589Z",
     "iopub.status.idle": "2021-02-14T09:42:42.595659Z",
     "shell.execute_reply": "2021-02-14T09:42:42.595209Z"
    },
    "papermill": {
     "duration": 0.033166,
     "end_time": "2021-02-14T09:42:42.595739",
     "exception": false,
     "start_time": "2021-02-14T09:42:42.562573",
     "status": "completed"
    },
    "tags": []
   },
   "outputs": [],
   "source": [
    "class FocalLoss(nn.Module):\n",
    "    def __init__(self, alpha=1, gamma=2, reduce=True):\n",
    "        super(FocalLoss, self).__init__()\n",
    "        self.alpha = alpha\n",
    "        self.gamma = gamma\n",
    "        self.reduce = reduce\n",
    "\n",
    "    def forward(self, inputs, targets):\n",
    "        BCE_loss = nn.CrossEntropyLoss()(inputs, targets)\n",
    "\n",
    "        pt = torch.exp(-BCE_loss)\n",
    "        F_loss = self.alpha * (1-pt)**self.gamma * BCE_loss\n",
    "\n",
    "        if self.reduce:\n",
    "            return torch.mean(F_loss)\n",
    "        else:\n",
    "            return F_loss"
   ]
  },
  {
   "cell_type": "code",
   "execution_count": 18,
   "metadata": {
    "execution": {
     "iopub.execute_input": "2021-02-14T09:42:42.652071Z",
     "iopub.status.busy": "2021-02-14T09:42:42.651431Z",
     "iopub.status.idle": "2021-02-14T09:42:42.654335Z",
     "shell.execute_reply": "2021-02-14T09:42:42.653897Z"
    },
    "papermill": {
     "duration": 0.035193,
     "end_time": "2021-02-14T09:42:42.654415",
     "exception": false,
     "start_time": "2021-02-14T09:42:42.619222",
     "status": "completed"
    },
    "tags": []
   },
   "outputs": [],
   "source": [
    "class FocalCosineLoss(nn.Module):\n",
    "    def __init__(self, alpha=1, gamma=2, xent=.1):\n",
    "        super(FocalCosineLoss, self).__init__()\n",
    "        self.alpha = alpha\n",
    "        self.gamma = gamma\n",
    "\n",
    "        self.xent = xent\n",
    "\n",
    "        self.y = torch.Tensor([1]).cuda()\n",
    "\n",
    "    def forward(self, input, target, reduction=\"mean\"):\n",
    "        cosine_loss = F.cosine_embedding_loss(input, F.one_hot(target, num_classes=input.size(-1)), self.y, reduction=reduction)\n",
    "\n",
    "        cent_loss = F.cross_entropy(F.normalize(input), target, reduce=False)\n",
    "        pt = torch.exp(-cent_loss)\n",
    "        focal_loss = self.alpha * (1-pt)**self.gamma * cent_loss\n",
    "\n",
    "        if reduction == \"mean\":\n",
    "            focal_loss = torch.mean(focal_loss)\n",
    "\n",
    "        return cosine_loss + self.xent * focal_loss"
   ]
  },
  {
   "cell_type": "code",
   "execution_count": 19,
   "metadata": {
    "execution": {
     "iopub.execute_input": "2021-02-14T09:42:42.713598Z",
     "iopub.status.busy": "2021-02-14T09:42:42.712962Z",
     "iopub.status.idle": "2021-02-14T09:42:42.716753Z",
     "shell.execute_reply": "2021-02-14T09:42:42.716328Z"
    },
    "papermill": {
     "duration": 0.036586,
     "end_time": "2021-02-14T09:42:42.716832",
     "exception": false,
     "start_time": "2021-02-14T09:42:42.680246",
     "status": "completed"
    },
    "tags": []
   },
   "outputs": [],
   "source": [
    "class SymmetricCrossEntropy(nn.Module):\n",
    "\n",
    "    def __init__(self, alpha=0.1, beta=1.0, num_classes=5):\n",
    "        super(SymmetricCrossEntropy, self).__init__()\n",
    "        self.alpha = alpha\n",
    "        self.beta = beta\n",
    "        self.num_classes = num_classes\n",
    "\n",
    "    def forward(self, logits, targets, reduction='mean'):\n",
    "        onehot_targets = torch.eye(self.num_classes)[targets].cuda()\n",
    "        ce_loss = F.cross_entropy(logits, targets, reduction=reduction)\n",
    "        rce_loss = (-onehot_targets*logits.softmax(1).clamp(1e-7, 1.0).log()).sum(1)\n",
    "        if reduction == 'mean':\n",
    "            rce_loss = rce_loss.mean()\n",
    "        elif reduction == 'sum':\n",
    "            rce_loss = rce_loss.sum()\n",
    "        return self.alpha * ce_loss + self.beta * rce_loss"
   ]
  },
  {
   "cell_type": "code",
   "execution_count": 20,
   "metadata": {
    "execution": {
     "iopub.execute_input": "2021-02-14T09:42:42.794768Z",
     "iopub.status.busy": "2021-02-14T09:42:42.783252Z",
     "iopub.status.idle": "2021-02-14T09:42:42.805570Z",
     "shell.execute_reply": "2021-02-14T09:42:42.805953Z"
    },
    "papermill": {
     "duration": 0.06571,
     "end_time": "2021-02-14T09:42:42.806052",
     "exception": false,
     "start_time": "2021-02-14T09:42:42.740342",
     "status": "completed"
    },
    "tags": []
   },
   "outputs": [],
   "source": [
    "def log_t(u, t):\n",
    "    \"\"\"Compute log_t for `u'.\"\"\"\n",
    "    if t==1.0:\n",
    "        return u.log()\n",
    "    else:\n",
    "        return (u.pow(1.0 - t) - 1.0) / (1.0 - t)\n",
    "\n",
    "def exp_t(u, t):\n",
    "    \"\"\"Compute exp_t for `u'.\"\"\"\n",
    "    if t==1:\n",
    "        return u.exp()\n",
    "    else:\n",
    "        return (1.0 + (1.0-t)*u).relu().pow(1.0 / (1.0 - t))\n",
    "\n",
    "def compute_normalization_fixed_point(activations, t, num_iters):\n",
    "\n",
    "    \"\"\"Returns the normalization value for each example (t > 1.0).\n",
    "    Args:\n",
    "      activations: A multi-dimensional tensor with last dimension `num_classes`.\n",
    "      t: Temperature 2 (> 1.0 for tail heaviness).\n",
    "      num_iters: Number of iterations to run the method.\n",
    "    Return: A tensor of same shape as activation with the last dimension being 1.\n",
    "    \"\"\"\n",
    "    mu, _ = torch.max(activations, -1, keepdim=True)\n",
    "    normalized_activations_step_0 = activations - mu\n",
    "\n",
    "    normalized_activations = normalized_activations_step_0\n",
    "\n",
    "    for _ in range(num_iters):\n",
    "        logt_partition = torch.sum(\n",
    "                exp_t(normalized_activations, t), -1, keepdim=True)\n",
    "        normalized_activations = normalized_activations_step_0 * \\\n",
    "                logt_partition.pow(1.0-t)\n",
    "\n",
    "    logt_partition = torch.sum(\n",
    "            exp_t(normalized_activations, t), -1, keepdim=True)\n",
    "    normalization_constants = - log_t(1.0 / logt_partition, t) + mu\n",
    "\n",
    "    return normalization_constants\n",
    "\n",
    "def compute_normalization_binary_search(activations, t, num_iters):\n",
    "\n",
    "    \"\"\"Returns the normalization value for each example (t < 1.0).\n",
    "    Args:\n",
    "      activations: A multi-dimensional tensor with last dimension `num_classes`.\n",
    "      t: Temperature 2 (< 1.0 for finite support).\n",
    "      num_iters: Number of iterations to run the method.\n",
    "    Return: A tensor of same rank as activation with the last dimension being 1.\n",
    "    \"\"\"\n",
    "\n",
    "    mu, _ = torch.max(activations, -1, keepdim=True)\n",
    "    normalized_activations = activations - mu\n",
    "\n",
    "    effective_dim = \\\n",
    "        torch.sum(\n",
    "                (normalized_activations > -1.0 / (1.0-t)).to(torch.int32),\n",
    "            dim=-1, keepdim=True).to(activations.dtype)\n",
    "\n",
    "    shape_partition = activations.shape[:-1] + (1,)\n",
    "    lower = torch.zeros(shape_partition, dtype=activations.dtype, device=activations.device)\n",
    "    upper = -log_t(1.0/effective_dim, t) * torch.ones_like(lower)\n",
    "\n",
    "    for _ in range(num_iters):\n",
    "        logt_partition = (upper + lower)/2.0\n",
    "        sum_probs = torch.sum(\n",
    "                exp_t(normalized_activations - logt_partition, t),\n",
    "                dim=-1, keepdim=True)\n",
    "        update = (sum_probs < 1.0).to(activations.dtype)\n",
    "        lower = torch.reshape(\n",
    "                lower * update + (1.0-update) * logt_partition,\n",
    "                shape_partition)\n",
    "        upper = torch.reshape(\n",
    "                upper * (1.0 - update) + update * logt_partition,\n",
    "                shape_partition)\n",
    "\n",
    "    logt_partition = (upper + lower)/2.0\n",
    "    return logt_partition + mu\n",
    "\n",
    "class ComputeNormalization(torch.autograd.Function):\n",
    "    \"\"\"\n",
    "    Class implementing custom backward pass for compute_normalization. See compute_normalization.\n",
    "    \"\"\"\n",
    "    @staticmethod\n",
    "    def forward(ctx, activations, t, num_iters):\n",
    "        if t < 1.0:\n",
    "            normalization_constants = compute_normalization_binary_search(activations, t, num_iters)\n",
    "        else:\n",
    "            normalization_constants = compute_normalization_fixed_point(activations, t, num_iters)\n",
    "\n",
    "        ctx.save_for_backward(activations, normalization_constants)\n",
    "        ctx.t=t\n",
    "        return normalization_constants\n",
    "\n",
    "    @staticmethod\n",
    "    def backward(ctx, grad_output):\n",
    "        activations, normalization_constants = ctx.saved_tensors\n",
    "        t = ctx.t\n",
    "        normalized_activations = activations - normalization_constants \n",
    "        probabilities = exp_t(normalized_activations, t)\n",
    "        escorts = probabilities.pow(t)\n",
    "        escorts = escorts / escorts.sum(dim=-1, keepdim=True)\n",
    "        grad_input = escorts * grad_output\n",
    "        \n",
    "        return grad_input, None, None\n",
    "\n",
    "def compute_normalization(activations, t, num_iters=5):\n",
    "    \"\"\"Returns the normalization value for each example. \n",
    "    Backward pass is implemented.\n",
    "    Args:\n",
    "      activations: A multi-dimensional tensor with last dimension `num_classes`.\n",
    "      t: Temperature 2 (> 1.0 for tail heaviness, < 1.0 for finite support).\n",
    "      num_iters: Number of iterations to run the method.\n",
    "    Return: A tensor of same rank as activation with the last dimension being 1.\n",
    "    \"\"\"\n",
    "    return ComputeNormalization.apply(activations, t, num_iters)\n",
    "\n",
    "def tempered_sigmoid(activations, t, num_iters = 5):\n",
    "    \"\"\"Tempered sigmoid function.\n",
    "    Args:\n",
    "      activations: Activations for the positive class for binary classification.\n",
    "      t: Temperature tensor > 0.0.\n",
    "      num_iters: Number of iterations to run the method.\n",
    "    Returns:\n",
    "      A probabilities tensor.\n",
    "    \"\"\"\n",
    "    internal_activations = torch.stack([activations,\n",
    "        torch.zeros_like(activations)],\n",
    "        dim=-1)\n",
    "    internal_probabilities = tempered_softmax(internal_activations, t, num_iters)\n",
    "    return internal_probabilities[..., 0]\n",
    "\n",
    "\n",
    "def tempered_softmax(activations, t, num_iters=5):\n",
    "    \"\"\"Tempered softmax function.\n",
    "    Args:\n",
    "      activations: A multi-dimensional tensor with last dimension `num_classes`.\n",
    "      t: Temperature > 1.0.\n",
    "      num_iters: Number of iterations to run the method.\n",
    "    Returns:\n",
    "      A probabilities tensor.\n",
    "    \"\"\"\n",
    "    if t == 1.0:\n",
    "        return activations.softmax(dim=-1)\n",
    "\n",
    "    normalization_constants = compute_normalization(activations, t, num_iters)\n",
    "    return exp_t(activations - normalization_constants, t)\n",
    "\n",
    "def bi_tempered_binary_logistic_loss(activations,\n",
    "        labels,\n",
    "        t1,\n",
    "        t2,\n",
    "        label_smoothing = 0.0,\n",
    "        num_iters=5,\n",
    "        reduction='mean'):\n",
    "\n",
    "    \"\"\"Bi-Tempered binary logistic loss.\n",
    "    Args:\n",
    "      activations: A tensor containing activations for class 1.\n",
    "      labels: A tensor with shape as activations, containing probabilities for class 1\n",
    "      t1: Temperature 1 (< 1.0 for boundedness).\n",
    "      t2: Temperature 2 (> 1.0 for tail heaviness, < 1.0 for finite support).\n",
    "      label_smoothing: Label smoothing\n",
    "      num_iters: Number of iterations to run the method.\n",
    "    Returns:\n",
    "      A loss tensor.\n",
    "    \"\"\"\n",
    "    internal_activations = torch.stack([activations,\n",
    "        torch.zeros_like(activations)],\n",
    "        dim=-1)\n",
    "    internal_labels = torch.stack([labels.to(activations.dtype),\n",
    "        1.0 - labels.to(activations.dtype)],\n",
    "        dim=-1)\n",
    "    return bi_tempered_logistic_loss(internal_activations, \n",
    "            internal_labels,\n",
    "            t1,\n",
    "            t2,\n",
    "            label_smoothing = label_smoothing,\n",
    "            num_iters = num_iters,\n",
    "            reduction = reduction)\n",
    "\n",
    "def bi_tempered_logistic_loss(activations,\n",
    "        labels,\n",
    "        t1,\n",
    "        t2,\n",
    "        label_smoothing=0.0,\n",
    "        num_iters=5,\n",
    "        reduction = 'mean'):\n",
    "\n",
    "    \"\"\"Bi-Tempered Logistic Loss.\n",
    "    Args:\n",
    "      activations: A multi-dimensional tensor with last dimension `num_classes`.\n",
    "      labels: A tensor with shape and dtype as activations (onehot), \n",
    "        or a long tensor of one dimension less than activations (pytorch standard)\n",
    "      t1: Temperature 1 (< 1.0 for boundedness).\n",
    "      t2: Temperature 2 (> 1.0 for tail heaviness, < 1.0 for finite support).\n",
    "      label_smoothing: Label smoothing parameter between [0, 1). Default 0.0.\n",
    "      num_iters: Number of iterations to run the method. Default 5.\n",
    "      reduction: ``'none'`` | ``'mean'`` | ``'sum'``. Default ``'mean'``.\n",
    "        ``'none'``: No reduction is applied, return shape is shape of\n",
    "        activations without the last dimension.\n",
    "        ``'mean'``: Loss is averaged over minibatch. Return shape (1,)\n",
    "        ``'sum'``: Loss is summed over minibatch. Return shape (1,)\n",
    "    Returns:\n",
    "      A loss tensor.\n",
    "    \"\"\"\n",
    "\n",
    "    if len(labels.shape)<len(activations.shape): #not one-hot\n",
    "        labels_onehot = torch.zeros_like(activations)\n",
    "        labels_onehot.scatter_(1, labels[..., None], 1)\n",
    "    else:\n",
    "        labels_onehot = labels\n",
    "\n",
    "    if label_smoothing > 0:\n",
    "        num_classes = labels_onehot.shape[-1]\n",
    "        labels_onehot = ( 1 - label_smoothing * num_classes / (num_classes - 1) ) \\\n",
    "                * labels_onehot + \\\n",
    "                label_smoothing / (num_classes - 1)\n",
    "\n",
    "    probabilities = tempered_softmax(activations, t2, num_iters)\n",
    "\n",
    "    loss_values = labels_onehot * log_t(labels_onehot + 1e-10, t1) \\\n",
    "            - labels_onehot * log_t(probabilities, t1) \\\n",
    "            - labels_onehot.pow(2.0 - t1) / (2.0 - t1) \\\n",
    "            + probabilities.pow(2.0 - t1) / (2.0 - t1)\n",
    "    loss_values = loss_values.sum(dim = -1) #sum over classes\n",
    "\n",
    "    if reduction == 'none':\n",
    "        return loss_values\n",
    "    if reduction == 'sum':\n",
    "        return loss_values.sum()\n",
    "    if reduction == 'mean':\n",
    "        return loss_values.mean()"
   ]
  },
  {
   "cell_type": "code",
   "execution_count": 21,
   "metadata": {
    "execution": {
     "iopub.execute_input": "2021-02-14T09:42:42.859707Z",
     "iopub.status.busy": "2021-02-14T09:42:42.859033Z",
     "iopub.status.idle": "2021-02-14T09:42:42.862684Z",
     "shell.execute_reply": "2021-02-14T09:42:42.862261Z"
    },
    "papermill": {
     "duration": 0.033075,
     "end_time": "2021-02-14T09:42:42.862767",
     "exception": false,
     "start_time": "2021-02-14T09:42:42.829692",
     "status": "completed"
    },
    "tags": []
   },
   "outputs": [],
   "source": [
    "class BiTemperedLogisticLoss(nn.Module): \n",
    "    def __init__(self, t1, t2, smoothing=0.0): \n",
    "        super(BiTemperedLogisticLoss, self).__init__() \n",
    "        self.t1 = t1\n",
    "        self.t2 = t2\n",
    "        self.smoothing = smoothing\n",
    "    def forward(self, logit_label, truth_label):\n",
    "        loss_label = bi_tempered_logistic_loss(\n",
    "            logit_label, truth_label,\n",
    "            t1=self.t1, t2=self.t2,\n",
    "            label_smoothing=self.smoothing,\n",
    "            reduction='none'\n",
    "        )\n",
    "        \n",
    "        loss_label = loss_label.mean()\n",
    "        return loss_label"
   ]
  },
  {
   "cell_type": "code",
   "execution_count": 22,
   "metadata": {
    "execution": {
     "iopub.execute_input": "2021-02-14T09:42:42.923244Z",
     "iopub.status.busy": "2021-02-14T09:42:42.912685Z",
     "iopub.status.idle": "2021-02-14T09:42:42.946839Z",
     "shell.execute_reply": "2021-02-14T09:42:42.946438Z"
    },
    "papermill": {
     "duration": 0.060607,
     "end_time": "2021-02-14T09:42:42.946932",
     "exception": false,
     "start_time": "2021-02-14T09:42:42.886325",
     "status": "completed"
    },
    "tags": []
   },
   "outputs": [],
   "source": [
    "class AverageMeter(object):\n",
    "    \"\"\"Computes and stores the average and current value\"\"\"\n",
    "    def __init__(self):\n",
    "        self.reset()\n",
    "        \n",
    "    def reset(self):\n",
    "        self.val = 0\n",
    "        self.avg = 0\n",
    "        self.sum = 0\n",
    "        self.count = 0\n",
    "        \n",
    "    def update(self, val, n=1):\n",
    "        self.val = val\n",
    "        self.sum += val * n\n",
    "        self.count += n\n",
    "        self.avg = self.sum / self.count\n",
    "        \n",
    "def asMinutes(s):\n",
    "    \"\"\"秒を分に変換する関数\"\"\"\n",
    "    m = math.floor(s / 60)\n",
    "    s -= m * 60\n",
    "    return '%dm %ds' % (m, s)\n",
    "\n",
    "def timeSince(since, percent):\n",
    "    \"\"\"経過時間の測定と終了時間の予測を行う関数\n",
    "    Parameters\n",
    "    ----------\n",
    "    since : float\n",
    "        実験を始めた時刻\n",
    "    percent : float\n",
    "        実験が進んだ割合\n",
    "        \n",
    "    Returns\n",
    "    -------\n",
    "    s : 経過時間\n",
    "    re : 終了までの時間の予測\n",
    "    \"\"\"\n",
    "    now = time.time()\n",
    "    s = now - since  # 経過時間の測定\n",
    "    es = s / percent  # 終了時間の予測\n",
    "    re = es - s  # 残り時間の予想\n",
    "    return '%s (remain %s)' % (asMinutes(s), asMinutes(re))\n",
    "\n",
    "def train_fn(train_loader, model, loss_train, loss_metric, optimizer, epoch, shechduler, device):\n",
    "    batch_time = AverageMeter()\n",
    "    data_time = AverageMeter()\n",
    "    losses = AverageMeter()\n",
    "    scores = AverageMeter()\n",
    "    # switch to train mode\n",
    "    model.train()\n",
    "    start = end = time.time()\n",
    "    global_step = 0\n",
    "    for step, (images, labels) in enumerate(train_loader):\n",
    "        # measure data loading time\n",
    "        data_time.update(time.time() - end)\n",
    "        images = images.to(device)\n",
    "        labels = labels.to(device)\n",
    "        batch_size = labels.size(0)\n",
    "        y_preds = model(images)\n",
    "        metric = loss_metric(y_preds, labels)\n",
    "        loss = loss_train(y_preds, labels)\n",
    "        # record loss\n",
    "        losses.update(metric.item(), batch_size)\n",
    "        if CFG.gradient_accumulation_steps > 1:\n",
    "            loss = loss / CFG.gradient_accumulation_steps\n",
    "        if CFG.apex:\n",
    "            with amp.scale_loss(loss, optimizer) as scaled_loss:\n",
    "                scaled_loss.backward()\n",
    "        else: \n",
    "            loss.backward()\n",
    "        grad_norm = torch.nn.utils.clip_grad_norm_(model.parameters(), CFG.max_grad_norm)\n",
    "        if (step + 1) % CFG.gradient_accumulation_steps == 0:\n",
    "            optimizer.first_step(zero_grad=True)\n",
    "#             optimizer.zero_grad()\n",
    "            global_step += 1\n",
    "        # measure elapsed time\n",
    "        loss_train(model(images), labels).backward()\n",
    "#         loss = torch.mean(loss)\n",
    "#         loss.backward()\n",
    "        optimizer.second_step(zero_grad=True)\n",
    "        \n",
    "        batch_time.update(time.time() - end)\n",
    "        end = time.time()\n",
    "        if step % CFG.print_freq == 0 or step == (len(train_loader)-1):\n",
    "            print('Epoch: [{0}][{1}/{2}]'\n",
    "                  'Data {data_time.val:.3f} ({data_time.avg:.3f})'\n",
    "                  'Elapsed {remain:s}' \n",
    "                  'Loss: {loss.val:.4f}({loss.avg:.4f})' \n",
    "                  'Grad: {grad_norm:.4f}  '\n",
    "                  .format(epoch+1, step, len(train_loader), batch_time=batch_time, \n",
    "                          data_time=data_time, loss=losses, \n",
    "                          remain=timeSince(start, float(step+1)/len(train_loader)), \n",
    "                          grad_norm=grad_norm))\n",
    "    return losses.avg\n",
    "\n",
    "def valid_fn(valid_loader, model, loss_metric, device):\n",
    "    batch_time = AverageMeter()\n",
    "    data_time = AverageMeter()\n",
    "    losses = AverageMeter()\n",
    "    scores = AverageMeter()\n",
    "    # switch to evaluation mode\n",
    "    model.eval()\n",
    "    preds = []\n",
    "    start = end = time.time()\n",
    "    for step, (images, labels) in enumerate(valid_loader):\n",
    "        # measure data loading time\n",
    "        data_time.update(time.time() - end)\n",
    "        images = images.to(device)\n",
    "        labels = labels.to(device)\n",
    "        batch_size = labels.size(0)\n",
    "        # compute loss\n",
    "        with torch.no_grad():\n",
    "            y_preds = model(images)\n",
    "        loss = loss_metric(y_preds, labels)\n",
    "        losses.update(loss.item(), batch_size)\n",
    "        # record accuracy\n",
    "        preds.append(y_preds.softmax(1).to('cpu').numpy())\n",
    "        if CFG.gradient_accumulation_steps > 1:\n",
    "            loss = loss / CFG.gradient_accumulation_steps\n",
    "        # measure elapsed time\n",
    "        batch_time.update(time.time() - end)\n",
    "        end = time.time()\n",
    "        if step % CFG.print_freq == 0 or step == (len(valid_loader)-1):\n",
    "            print('EVAL: [{0}/{1}] '\n",
    "                  'Data {data_time.val:.3f} ({data_time.avg:.3f}) '\n",
    "                  'Elapsed {remain:s} '\n",
    "                  'Loss: {loss.val:.4f}({loss.avg:.4f}) '\n",
    "                  .format(\n",
    "                   step, len(valid_loader), batch_time=batch_time,\n",
    "                   data_time=data_time, loss=losses,\n",
    "                   remain=timeSince(start, float(step+1)/len(valid_loader)),\n",
    "                   ))\n",
    "            \n",
    "    predictions = np.concatenate(preds)\n",
    "    return losses.avg, predictions\n",
    "\n",
    "def inference(model, states, test_loader, device):\n",
    "    model.to(device)\n",
    "    tk0 = tqdm(enumerate(test_loader), total=len(test_loader))\n",
    "    probs = []\n",
    "    for i, (images) in tk0:\n",
    "        images = images.to(device)\n",
    "        avgpreds = []\n",
    "        for state in states:\n",
    "            model.load_state_dict(state['model'])\n",
    "            model.eval()\n",
    "            with torch.no_grad():\n",
    "                y_preds = model(images)\n",
    "            avg_preds.append(y_preds.softmax(1).to('cpu').numpy())\n",
    "        avg_preds = np.mean(avg_preds, axis=0)\n",
    "        probs.append(avg_preds)\n",
    "    probs = np.concatenate(probs)\n",
    "    return probs"
   ]
  },
  {
   "cell_type": "markdown",
   "metadata": {
    "papermill": {
     "duration": 0.023463,
     "end_time": "2021-02-14T09:42:42.993944",
     "exception": false,
     "start_time": "2021-02-14T09:42:42.970481",
     "status": "completed"
    },
    "tags": []
   },
   "source": [
    "## Train loop"
   ]
  },
  {
   "cell_type": "code",
   "execution_count": 23,
   "metadata": {
    "execution": {
     "iopub.execute_input": "2021-02-14T09:42:43.061111Z",
     "iopub.status.busy": "2021-02-14T09:42:43.050601Z",
     "iopub.status.idle": "2021-02-14T09:42:43.077570Z",
     "shell.execute_reply": "2021-02-14T09:42:43.077147Z"
    },
    "papermill": {
     "duration": 0.059033,
     "end_time": "2021-02-14T09:42:43.077656",
     "exception": false,
     "start_time": "2021-02-14T09:42:43.018623",
     "status": "completed"
    },
    "tags": []
   },
   "outputs": [],
   "source": [
    "# ======================================================\n",
    "# Train loop\n",
    "# ======================================================\n",
    "\n",
    "def train_loop(folds, fold):\n",
    "    \n",
    "    seed_torch(seed=CFG.seed)    \n",
    "    \n",
    "    LOGGER.info(f'========== fold: {fold} training ============')\n",
    "    \n",
    "    # ======================================================\n",
    "    # loader\n",
    "    # ======================================================\n",
    "    trn_idx = folds[folds['fold'] != fold].index\n",
    "    val_idx = folds[folds['fold'] == fold].index\n",
    "    \n",
    "    train_folds = folds.loc[trn_idx].reset_index(drop=True)\n",
    "    valid_folds = folds.loc[val_idx].reset_index(drop=True)\n",
    "    \n",
    "    train_dataset = TrainDataset(train_folds, \n",
    "                                 transform=get_transforms(data='train'))\n",
    "    valid_dataset = TrainDataset(valid_folds, \n",
    "                                 transform=get_transforms(data='valid'))\n",
    "    \n",
    "    train_loader = DataLoader(train_dataset, \n",
    "                              batch_size=CFG.batch_size, \n",
    "                              shuffle=True, \n",
    "                              num_workers=CFG.num_workers, \n",
    "                              pin_memory=True, \n",
    "                              drop_last=False)\n",
    "    valid_loader = DataLoader(valid_dataset, \n",
    "                              batch_size=CFG.batch_size, \n",
    "                              shuffle=False, \n",
    "                              num_workers=CFG.num_workers, \n",
    "                              pin_memory=True, \n",
    "                              drop_last=False)\n",
    "    \n",
    "    # ===============================================\n",
    "    # scheduler\n",
    "    # ===============================================\n",
    "    def get_scheduler(optimizer):\n",
    "        if CFG.scheduler=='ReduceLROnPlateau':\n",
    "            scheduler = ReduceLROnPlateau(optimizer, mode='min', factor=CFG.factor, patience=CFG.patience, verbose=True, eps=CFG.eps)\n",
    "        elif CFG.scheduler=='CosineAnnealingLR':\n",
    "            scheduler = CosineAnnealingLR(optimizer, T_max=CFG.T_max, eta_min=CFG.min_lr, last_epoch=-1)\n",
    "        elif CFG.scheduler=='CosineAnnealingWarmRestarts':\n",
    "            scheduler = CosineAnnealingWarmRestarts(optimizer, T_0=CFG.T_0, T_mult=1, eta_min=CFG.min_lr, last_epoch=-1)\n",
    "        return scheduler\n",
    "    \n",
    "    # ===============================================\n",
    "    # model & optimizer\n",
    "    # ===============================================\n",
    "    model = CustomEfficientNetB3ns(CFG.model_name, pretrained=True)\n",
    "    \n",
    "    # 最初の3epochはclassifier層以外全て凍結する。\n",
    "    for name, param in model.model.named_parameters():\n",
    "        if 'classifier' not in name:\n",
    "            param.requires_grad=False\n",
    "    \n",
    "    model.to(device)\n",
    "    \n",
    "    base_optimizer = Adam\n",
    "    optimizer = SAM(model.parameters(), base_optimizer, lr=CFG.lr_1, weight_decay=CFG.weight_decay, amsgrad=False)\n",
    "    \n",
    "    scheduler = get_scheduler(optimizer)\n",
    "    \n",
    "    # ===============================================\n",
    "    # apex \n",
    "    # ===============================================\n",
    "    if CFG.apex:\n",
    "        model.optimizer = amp.initialize(model, optimizer, opt_level='O1', verbosity=0)\n",
    "        \n",
    "    # ===============================================\n",
    "    # loop\n",
    "    # ===============================================\n",
    "    def get_loss_train():\n",
    "        if CFG.loss_train == 'CrossEntropyLoss':\n",
    "            loss_train = nn.CrossEntropyLoss()\n",
    "        elif CFG.loss_train == 'LabelSmoothing':\n",
    "            loss_train = LabelSmoothingLoss(classes=CFG.target_size, smoothing=CFG.smooth)\n",
    "        elif CFG.loss_train == 'FocalLoss':\n",
    "            loss_train = FocalLoss().to(device)\n",
    "        elif CFG.loss_train == 'FocalCosineLoss':\n",
    "            loss_train = FocalCosineLoss()\n",
    "        elif CFG.loss_train == 'SymmetricCrossEntropyLoss':\n",
    "            loss_train = SymmetricCrossEntropy().to(device)\n",
    "        elif CFG.loss_train == 'BiTemperedLoss':\n",
    "            loss_train = BiTemperedLogisticLoss(t1=CFG.t1, t2=CFG.t2, smoothing=CFG.smooth)\n",
    "        return loss_train\n",
    "    \n",
    "    loss_train = get_loss_train()\n",
    "    LOGGER.info(f'loss_train: {loss_train}')\n",
    "    loss_metric = nn.CrossEntropyLoss()\n",
    "    \n",
    "    best_score = 0.\n",
    "    best_loss = np.inf\n",
    "    \n",
    "    for epoch in range(CFG.epochs):\n",
    "        \n",
    "        start_time = time.time()\n",
    "        \n",
    "        if epoch == 1:\n",
    "            \n",
    "            # 2epoch目に重みを全て解凍する\n",
    "            for param in model.model.parameters():\n",
    "                param.requires_grad = True\n",
    "                \n",
    "            # 学習率を4e-3から4e-4に落とす\n",
    "            base_optimizer = Adam\n",
    "            optimizer = SAM(model.parameters(), base_optimizer, lr=CFG.lr_2, weight_decay=CFG.weight_decay, amsgrad=False)\n",
    "            scheduler = get_scheduler(optimizer)\n",
    "\n",
    "            LOGGER.info('requires_grad of all parameters are unlocked')\n",
    "            \n",
    "        \n",
    "        # train\n",
    "        avg_loss = train_fn(train_loader, model, loss_train, loss_metric, optimizer, epoch, scheduler, device)\n",
    "        \n",
    "        # eval\n",
    "        avg_val_loss, preds = valid_fn(valid_loader, model, loss_metric, device)\n",
    "        valid_labels = valid_folds[CFG.target_col].values\n",
    "        \n",
    "        if isinstance(scheduler, ReduceLROnPlateau):\n",
    "            scheduler.step(avg_val_loss)\n",
    "        elif isinstance(scheduler, CosineAnnealingLR):\n",
    "            scheduler.step()\n",
    "        elif isinstance(scheduler, CosineAnnealingWarmRestarts):\n",
    "            scheduler.step()\n",
    "        \n",
    "        # scoring\n",
    "        score = get_score(valid_labels, preds.argmax(1))\n",
    "        \n",
    "        elapsed = time.time() - start_time\n",
    "        \n",
    "        LOGGER.info(f'Epoch {epoch+1} - avg_train_loss: {avg_loss:.4f} avg_val_loss: {avg_val_loss:.4f} time: {elapsed:.0f}s')\n",
    "        LOGGER.info(f'Epoch {epoch+1} - Accuracy: {score}')\n",
    "        \n",
    "        if score > best_score:\n",
    "            best_score = score\n",
    "            LOGGER.info(f'Epoch {epoch+1} - Save Best Score: {best_score:.4f} Model')\n",
    "            torch.save({'model': model.state_dict(), \n",
    "                        'preds': preds}, \n",
    "                        OUTPUT_DIR+f'{CFG.model_name}_fold{fold}_best.pth')\n",
    "        if epoch > 4:\n",
    "            # inference用に全て保存しておく        \n",
    "            torch.save({'model': model.state_dict()}, OUTPUT_DIR+f'{CFG.model_name}_fold{fold}_epoch{epoch+1}.pth')\n",
    "    \n",
    "    check_point = torch.load(OUTPUT_DIR+f'{CFG.model_name}_fold{fold}_best.pth')\n",
    "    valid_folds[[str(c) for c in range(5)]] = check_point['preds']\n",
    "    valid_folds['preds'] = check_point['preds'].argmax(1)\n",
    "    \n",
    "    return valid_folds"
   ]
  },
  {
   "cell_type": "code",
   "execution_count": 24,
   "metadata": {
    "execution": {
     "iopub.execute_input": "2021-02-14T09:42:43.135981Z",
     "iopub.status.busy": "2021-02-14T09:42:43.132349Z",
     "iopub.status.idle": "2021-02-14T09:42:43.138027Z",
     "shell.execute_reply": "2021-02-14T09:42:43.138545Z"
    },
    "papermill": {
     "duration": 0.037367,
     "end_time": "2021-02-14T09:42:43.138641",
     "exception": false,
     "start_time": "2021-02-14T09:42:43.101274",
     "status": "completed"
    },
    "tags": []
   },
   "outputs": [],
   "source": [
    "# ====================================================\n",
    "# main\n",
    "# ====================================================\n",
    "def main():\n",
    "    \n",
    "    \"\"\"\n",
    "    Prepare: 1.train 2.test 3.submission 4.folds\n",
    "    \"\"\"\n",
    "    \n",
    "    def get_result(result_df):\n",
    "        preds = result_df['preds'].values\n",
    "        labels = result_df[CFG.target_col].values\n",
    "        score = get_score(labels, preds)\n",
    "        LOGGER.info(f'Score: {score:<.5f}')\n",
    "        \n",
    "    if CFG.train:\n",
    "        # train\n",
    "        oof_df = pd.DataFrame()\n",
    "        for fold in range(CFG.n_fold):\n",
    "            if fold in CFG.trn_fold:\n",
    "                _oof_df = train_loop(folds, fold)\n",
    "                oof_df = pd.concat([oof_df, _oof_df])\n",
    "                LOGGER.info(f'=============== fold: {fold} result ================')\n",
    "                get_result(_oof_df)\n",
    "                \n",
    "        # CV result\n",
    "        LOGGER.info(f'============ CV ============')\n",
    "        get_result(oof_df)\n",
    "        # save result\n",
    "        oof_df.to_csv(OUTPUT_DIR+'oof_df.csv', index=False)\n",
    "        \n",
    "    if CFG.inference:\n",
    "        # inference\n",
    "        model = CustomEfficientNetB3ns(CFG.model_name, pretrained=False)\n",
    "        states = [torch.load(OUTPUT_DIR+f'{CFG.model_name}_fold{fold}_best.pth') for fold in CFG.trn_fold]\n",
    "        test_dataset = TestDataset(test, batch_size=CFG.batch_size, shuffle=False, pin_memory=True)\n",
    "        predictions = inference(model, states, test_loader, device)\n",
    "        # submission\n",
    "        test['label'] = predictions.argmax(1)\n",
    "        test[['image_id', 'label']].to_csv(OUTPUT_DIR+'submission.csv', index=False)"
   ]
  },
  {
   "cell_type": "code",
   "execution_count": 25,
   "metadata": {
    "execution": {
     "iopub.execute_input": "2021-02-14T09:42:43.190136Z",
     "iopub.status.busy": "2021-02-14T09:42:43.189325Z",
     "iopub.status.idle": "2021-02-14T09:42:43.193402Z",
     "shell.execute_reply": "2021-02-14T09:42:43.194105Z"
    },
    "papermill": {
     "duration": 0.031716,
     "end_time": "2021-02-14T09:42:43.194234",
     "exception": false,
     "start_time": "2021-02-14T09:42:43.162518",
     "status": "completed"
    },
    "tags": []
   },
   "outputs": [
    {
     "name": "stderr",
     "output_type": "stream",
     "text": [
      "used device: cuda\n"
     ]
    }
   ],
   "source": [
    "LOGGER.info(f'used device: {device}')"
   ]
  },
  {
   "cell_type": "code",
   "execution_count": 26,
   "metadata": {
    "execution": {
     "iopub.execute_input": "2021-02-14T09:42:43.247080Z",
     "iopub.status.busy": "2021-02-14T09:42:43.246317Z",
     "iopub.status.idle": "2021-02-14T13:26:46.521318Z",
     "shell.execute_reply": "2021-02-14T13:26:46.520794Z"
    },
    "papermill": {
     "duration": 13443.302716,
     "end_time": "2021-02-14T13:26:46.521458",
     "exception": false,
     "start_time": "2021-02-14T09:42:43.218742",
     "status": "completed"
    },
    "tags": []
   },
   "outputs": [
    {
     "name": "stderr",
     "output_type": "stream",
     "text": [
      "========== fold: 2 training ============\n",
      "Downloading: \"https://github.com/rwightman/pytorch-image-models/releases/download/v0.1-weights/tf_efficientnet_b3_ns-9d44bf68.pth\" to /root/.cache/torch/hub/checkpoints/tf_efficientnet_b3_ns-9d44bf68.pth\n",
      "loss_train: BiTemperedLogisticLoss()\n"
     ]
    },
    {
     "name": "stdout",
     "output_type": "stream",
     "text": [
      "Epoch: [1][0/1317]Data 1.658 (1.658)Elapsed 0m 3s (remain 68m 1s)Loss: 1.6358(1.6358)Grad: 0.6688  \n",
      "Epoch: [1][100/1317]Data 0.001 (0.019)Elapsed 0m 36s (remain 7m 16s)Loss: 0.8907(1.4166)Grad: 0.4224  \n",
      "Epoch: [1][200/1317]Data 0.000 (0.010)Elapsed 1m 9s (remain 6m 28s)Loss: 1.2634(1.3356)Grad: 0.4214  \n",
      "Epoch: [1][300/1317]Data 0.000 (0.007)Elapsed 1m 43s (remain 5m 49s)Loss: 1.5336(1.2704)Grad: 0.5597  \n",
      "Epoch: [1][400/1317]Data 0.000 (0.006)Elapsed 2m 17s (remain 5m 13s)Loss: 0.9463(1.2183)Grad: 0.3620  \n",
      "Epoch: [1][500/1317]Data 0.000 (0.005)Elapsed 2m 50s (remain 4m 38s)Loss: 0.8080(1.1845)Grad: 0.3699  \n",
      "Epoch: [1][600/1317]Data 0.018 (0.005)Elapsed 3m 24s (remain 4m 3s)Loss: 0.7641(1.1473)Grad: 0.4047  \n",
      "Epoch: [1][700/1317]Data 0.000 (0.004)Elapsed 3m 57s (remain 3m 29s)Loss: 0.7550(1.1193)Grad: 0.4207  \n",
      "Epoch: [1][800/1317]Data 0.002 (0.004)Elapsed 4m 31s (remain 2m 54s)Loss: 0.7315(1.1049)Grad: 0.3669  \n",
      "Epoch: [1][900/1317]Data 0.000 (0.003)Elapsed 5m 4s (remain 2m 20s)Loss: 1.7390(1.0912)Grad: 0.5056  \n",
      "Epoch: [1][1000/1317]Data 0.000 (0.003)Elapsed 5m 38s (remain 1m 46s)Loss: 1.3734(1.0793)Grad: 0.5176  \n",
      "Epoch: [1][1100/1317]Data 0.001 (0.003)Elapsed 6m 12s (remain 1m 13s)Loss: 0.7223(1.0660)Grad: 0.3894  \n",
      "Epoch: [1][1200/1317]Data 0.000 (0.003)Elapsed 6m 46s (remain 0m 39s)Loss: 0.7192(1.0581)Grad: 0.5555  \n",
      "Epoch: [1][1300/1317]Data 0.000 (0.003)Elapsed 7m 19s (remain 0m 5s)Loss: 0.6077(1.0415)Grad: 0.4690  \n",
      "Epoch: [1][1316/1317]Data 0.000 (0.003)Elapsed 7m 24s (remain 0m 0s)Loss: 0.3460(1.0406)Grad: 0.4293  \n",
      "EVAL: [0/330] Data 1.230 (1.230) Elapsed 0m 1s (remain 7m 32s) Loss: 0.6590(0.6590) \n",
      "EVAL: [100/330] Data 0.198 (0.122) Elapsed 0m 25s (remain 0m 57s) Loss: 0.8005(0.8230) \n",
      "EVAL: [200/330] Data 0.067 (0.116) Elapsed 0m 49s (remain 0m 31s) Loss: 0.2557(0.8537) \n",
      "EVAL: [300/330] Data 0.000 (0.113) Elapsed 1m 13s (remain 0m 7s) Loss: 1.1721(0.8434) \n"
     ]
    },
    {
     "name": "stderr",
     "output_type": "stream",
     "text": [
      "Epoch 1 - avg_train_loss: 1.0406 avg_val_loss: 0.8555 time: 524s\n",
      "Epoch 1 - Accuracy: 0.7296373647237516\n",
      "Epoch 1 - Save Best Score: 0.7296 Model\n",
      "requires_grad of all parameters are unlocked\n"
     ]
    },
    {
     "name": "stdout",
     "output_type": "stream",
     "text": [
      "EVAL: [329/330] Data 0.000 (0.110) Elapsed 1m 19s (remain 0m 0s) Loss: 0.4072(0.8555) \n",
      "Epoch: [2][0/1317]Data 1.147 (1.147)Elapsed 0m 2s (remain 58m 42s)Loss: 1.1405(1.1405)Grad: 4.3326  \n",
      "Epoch: [2][100/1317]Data 0.000 (0.012)Elapsed 1m 45s (remain 21m 12s)Loss: 0.3869(0.8643)Grad: 1.9417  \n",
      "Epoch: [2][200/1317]Data 0.000 (0.006)Elapsed 3m 28s (remain 19m 17s)Loss: 0.5646(0.8199)Grad: 2.3200  \n",
      "Epoch: [2][300/1317]Data 0.000 (0.004)Elapsed 5m 11s (remain 17m 31s)Loss: 0.1926(0.7974)Grad: 1.8329  \n",
      "Epoch: [2][400/1317]Data 0.000 (0.003)Elapsed 6m 54s (remain 15m 46s)Loss: 0.4986(0.7784)Grad: 1.4674  \n",
      "Epoch: [2][500/1317]Data 0.000 (0.002)Elapsed 8m 37s (remain 14m 2s)Loss: 0.3026(0.7543)Grad: 1.5818  \n",
      "Epoch: [2][600/1317]Data 0.000 (0.002)Elapsed 10m 20s (remain 12m 19s)Loss: 1.5353(0.7477)Grad: 1.8434  \n",
      "Epoch: [2][700/1317]Data 0.000 (0.002)Elapsed 12m 3s (remain 10m 35s)Loss: 0.2507(0.7318)Grad: 1.2192  \n",
      "Epoch: [2][800/1317]Data 0.000 (0.002)Elapsed 13m 46s (remain 8m 52s)Loss: 0.6005(0.7211)Grad: 1.4437  \n",
      "Epoch: [2][900/1317]Data 0.000 (0.001)Elapsed 15m 29s (remain 7m 9s)Loss: 0.9320(0.7054)Grad: 1.4929  \n",
      "Epoch: [2][1000/1317]Data 0.000 (0.001)Elapsed 17m 12s (remain 5m 25s)Loss: 0.7981(0.7075)Grad: 2.0429  \n",
      "Epoch: [2][1100/1317]Data 0.000 (0.001)Elapsed 18m 55s (remain 3m 42s)Loss: 0.5284(0.7002)Grad: 1.6861  \n",
      "Epoch: [2][1200/1317]Data 0.000 (0.001)Elapsed 20m 38s (remain 1m 59s)Loss: 0.0829(0.6958)Grad: 0.9273  \n",
      "Epoch: [2][1300/1317]Data 0.000 (0.001)Elapsed 22m 21s (remain 0m 16s)Loss: 0.4373(0.6920)Grad: 1.2008  \n",
      "Epoch: [2][1316/1317]Data 0.000 (0.001)Elapsed 22m 38s (remain 0m 0s)Loss: 1.1182(0.6912)Grad: 2.4042  \n",
      "EVAL: [0/330] Data 1.048 (1.048) Elapsed 0m 1s (remain 6m 39s) Loss: 0.6945(0.6945) \n",
      "EVAL: [100/330] Data 0.161 (0.110) Elapsed 0m 24s (remain 0m 55s) Loss: 1.0554(0.6113) \n",
      "EVAL: [200/330] Data 0.226 (0.103) Elapsed 0m 47s (remain 0m 30s) Loss: 0.0006(0.5742) \n",
      "EVAL: [300/330] Data 0.000 (0.101) Elapsed 1m 10s (remain 0m 6s) Loss: 0.5216(0.5528) \n"
     ]
    },
    {
     "name": "stderr",
     "output_type": "stream",
     "text": [
      "Epoch 2 - avg_train_loss: 0.6912 avg_val_loss: 0.5746 time: 1434s\n",
      "Epoch 2 - Accuracy: 0.8670970191760016\n",
      "Epoch 2 - Save Best Score: 0.8671 Model\n"
     ]
    },
    {
     "name": "stdout",
     "output_type": "stream",
     "text": [
      "EVAL: [329/330] Data 0.000 (0.098) Elapsed 1m 16s (remain 0m 0s) Loss: 0.0000(0.5746) \n",
      "Epoch: [3][0/1317]Data 1.372 (1.372)Elapsed 0m 2s (remain 57m 53s)Loss: 0.8029(0.8029)Grad: 2.3709  \n",
      "Epoch: [3][100/1317]Data 0.000 (0.014)Elapsed 1m 45s (remain 21m 14s)Loss: 0.7415(0.5186)Grad: 1.7378  \n",
      "Epoch: [3][200/1317]Data 0.000 (0.007)Elapsed 3m 29s (remain 19m 20s)Loss: 0.3646(0.5575)Grad: 2.1949  \n",
      "Epoch: [3][300/1317]Data 0.000 (0.005)Elapsed 5m 12s (remain 17m 33s)Loss: 0.1836(0.6005)Grad: 1.0613  \n",
      "Epoch: [3][400/1317]Data 0.000 (0.004)Elapsed 6m 55s (remain 15m 48s)Loss: 0.5111(0.6229)Grad: 1.7257  \n",
      "Epoch: [3][500/1317]Data 0.000 (0.003)Elapsed 8m 38s (remain 14m 3s)Loss: 0.2302(0.6156)Grad: 1.2919  \n",
      "Epoch: [3][600/1317]Data 0.000 (0.002)Elapsed 10m 21s (remain 12m 19s)Loss: 1.1445(0.6156)Grad: 2.0124  \n",
      "Epoch: [3][700/1317]Data 0.000 (0.002)Elapsed 12m 3s (remain 10m 36s)Loss: 0.2085(0.6096)Grad: 1.0478  \n",
      "Epoch: [3][800/1317]Data 0.000 (0.002)Elapsed 13m 47s (remain 8m 52s)Loss: 0.5239(0.6204)Grad: 2.3784  \n",
      "Epoch: [3][900/1317]Data 0.000 (0.002)Elapsed 15m 30s (remain 7m 9s)Loss: 0.5965(0.6182)Grad: 0.8965  \n",
      "Epoch: [3][1000/1317]Data 0.000 (0.002)Elapsed 17m 13s (remain 5m 26s)Loss: 4.1962(0.6208)Grad: 2.5293  \n",
      "Epoch: [3][1100/1317]Data 0.000 (0.001)Elapsed 18m 56s (remain 3m 42s)Loss: 0.0841(0.6122)Grad: 0.6867  \n",
      "Epoch: [3][1200/1317]Data 0.000 (0.001)Elapsed 20m 39s (remain 1m 59s)Loss: 0.7707(0.6010)Grad: 1.0820  \n",
      "Epoch: [3][1300/1317]Data 0.000 (0.001)Elapsed 22m 22s (remain 0m 16s)Loss: 0.9203(0.6046)Grad: 1.7952  \n",
      "Epoch: [3][1316/1317]Data 0.000 (0.001)Elapsed 22m 38s (remain 0m 0s)Loss: 0.4153(0.6023)Grad: 1.4201  \n",
      "EVAL: [0/330] Data 1.373 (1.373) Elapsed 0m 1s (remain 8m 18s) Loss: 0.5563(0.5563) \n",
      "EVAL: [100/330] Data 0.344 (0.106) Elapsed 0m 24s (remain 0m 54s) Loss: 1.0055(0.5866) \n",
      "EVAL: [200/330] Data 0.183 (0.103) Elapsed 0m 47s (remain 0m 30s) Loss: 0.0005(0.5546) \n",
      "EVAL: [300/330] Data 0.112 (0.099) Elapsed 1m 10s (remain 0m 6s) Loss: 0.4327(0.5285) \n"
     ]
    },
    {
     "name": "stderr",
     "output_type": "stream",
     "text": [
      "Epoch 3 - avg_train_loss: 0.6023 avg_val_loss: 0.5459 time: 1434s\n",
      "Epoch 3 - Accuracy: 0.8708942471995443\n",
      "Epoch 3 - Save Best Score: 0.8709 Model\n"
     ]
    },
    {
     "name": "stdout",
     "output_type": "stream",
     "text": [
      "EVAL: [329/330] Data 0.000 (0.096) Elapsed 1m 15s (remain 0m 0s) Loss: 0.0000(0.5459) \n",
      "Epoch: [4][0/1317]Data 1.246 (1.246)Elapsed 0m 2s (remain 58m 52s)Loss: 1.7606(1.7606)Grad: 1.0868  \n",
      "Epoch: [4][100/1317]Data 0.000 (0.013)Elapsed 1m 45s (remain 21m 15s)Loss: 0.4390(0.6595)Grad: 1.4567  \n",
      "Epoch: [4][200/1317]Data 0.000 (0.006)Elapsed 3m 28s (remain 19m 19s)Loss: 0.0985(0.6134)Grad: 0.6892  \n",
      "Epoch: [4][300/1317]Data 0.000 (0.004)Elapsed 5m 12s (remain 17m 33s)Loss: 0.5537(0.6059)Grad: 1.2534  \n",
      "Epoch: [4][400/1317]Data 0.000 (0.003)Elapsed 6m 55s (remain 15m 48s)Loss: 0.8061(0.5821)Grad: 1.4081  \n",
      "Epoch: [4][500/1317]Data 0.000 (0.003)Elapsed 8m 38s (remain 14m 3s)Loss: 0.5859(0.5877)Grad: 1.5710  \n",
      "Epoch: [4][600/1317]Data 0.000 (0.002)Elapsed 10m 21s (remain 12m 19s)Loss: 0.7712(0.5788)Grad: 1.9349  \n",
      "Epoch: [4][700/1317]Data 0.000 (0.002)Elapsed 12m 3s (remain 10m 36s)Loss: 0.4455(0.5703)Grad: 1.6214  \n",
      "Epoch: [4][800/1317]Data 0.000 (0.002)Elapsed 13m 47s (remain 8m 52s)Loss: 0.1131(0.5749)Grad: 1.3907  \n",
      "Epoch: [4][900/1317]Data 0.000 (0.002)Elapsed 15m 30s (remain 7m 9s)Loss: 0.1311(0.5702)Grad: 0.7915  \n",
      "Epoch: [4][1000/1317]Data 0.000 (0.001)Elapsed 17m 13s (remain 5m 26s)Loss: 0.0384(0.5708)Grad: 0.4165  \n",
      "Epoch: [4][1100/1317]Data 0.000 (0.001)Elapsed 18m 56s (remain 3m 42s)Loss: 0.7210(0.5705)Grad: 1.3957  \n",
      "Epoch: [4][1200/1317]Data 0.000 (0.001)Elapsed 20m 39s (remain 1m 59s)Loss: 0.4254(0.5647)Grad: 1.5128  \n",
      "Epoch: [4][1300/1317]Data 0.000 (0.001)Elapsed 22m 22s (remain 0m 16s)Loss: 0.2562(0.5579)Grad: 2.0664  \n",
      "Epoch: [4][1316/1317]Data 0.000 (0.001)Elapsed 22m 38s (remain 0m 0s)Loss: 1.4742(0.5580)Grad: 1.0382  \n",
      "EVAL: [0/330] Data 0.886 (0.886) Elapsed 0m 1s (remain 5m 51s) Loss: 0.6019(0.6019) \n",
      "EVAL: [100/330] Data 0.000 (0.106) Elapsed 0m 24s (remain 0m 54s) Loss: 0.8877(0.6278) \n",
      "EVAL: [200/330] Data 0.000 (0.104) Elapsed 0m 47s (remain 0m 30s) Loss: 0.0000(0.5610) \n",
      "EVAL: [300/330] Data 0.118 (0.101) Elapsed 1m 10s (remain 0m 6s) Loss: 0.3996(0.5371) \n"
     ]
    },
    {
     "name": "stderr",
     "output_type": "stream",
     "text": [
      "Epoch 4 - avg_train_loss: 0.5580 avg_val_loss: 0.5554 time: 1435s\n",
      "Epoch 4 - Accuracy: 0.8841845452819442\n",
      "Epoch 4 - Save Best Score: 0.8842 Model\n"
     ]
    },
    {
     "name": "stdout",
     "output_type": "stream",
     "text": [
      "EVAL: [329/330] Data 0.000 (0.099) Elapsed 1m 16s (remain 0m 0s) Loss: 0.0000(0.5554) \n",
      "Epoch: [5][0/1317]Data 1.157 (1.157)Elapsed 0m 2s (remain 53m 51s)Loss: 1.0685(1.0685)Grad: 1.5671  \n",
      "Epoch: [5][100/1317]Data 0.000 (0.012)Elapsed 1m 45s (remain 21m 8s)Loss: 0.7050(0.5394)Grad: 1.8078  \n",
      "Epoch: [5][200/1317]Data 0.000 (0.006)Elapsed 3m 28s (remain 19m 17s)Loss: 0.1347(0.5119)Grad: 1.2783  \n",
      "Epoch: [5][300/1317]Data 0.000 (0.004)Elapsed 5m 11s (remain 17m 31s)Loss: 0.9680(0.5334)Grad: 0.9653  \n",
      "Epoch: [5][400/1317]Data 0.000 (0.003)Elapsed 6m 54s (remain 15m 47s)Loss: 0.6421(0.5257)Grad: 1.6525  \n",
      "Epoch: [5][500/1317]Data 0.000 (0.002)Elapsed 8m 37s (remain 14m 3s)Loss: 0.1042(0.5314)Grad: 0.7060  \n",
      "Epoch: [5][600/1317]Data 0.000 (0.002)Elapsed 10m 20s (remain 12m 19s)Loss: 0.0054(0.5339)Grad: 0.2427  \n",
      "Epoch: [5][700/1317]Data 0.000 (0.002)Elapsed 12m 3s (remain 10m 36s)Loss: 0.5385(0.5312)Grad: 1.1606  \n",
      "Epoch: [5][800/1317]Data 0.000 (0.002)Elapsed 13m 46s (remain 8m 52s)Loss: 0.1223(0.5299)Grad: 1.0195  \n",
      "Epoch: [5][900/1317]Data 0.000 (0.001)Elapsed 15m 29s (remain 7m 9s)Loss: 0.3232(0.5319)Grad: 0.8691  \n",
      "Epoch: [5][1000/1317]Data 0.000 (0.001)Elapsed 17m 12s (remain 5m 26s)Loss: 0.0439(0.5336)Grad: 1.0312  \n",
      "Epoch: [5][1100/1317]Data 0.000 (0.001)Elapsed 18m 55s (remain 3m 42s)Loss: 0.2257(0.5350)Grad: 1.4070  \n",
      "Epoch: [5][1200/1317]Data 0.000 (0.001)Elapsed 20m 38s (remain 1m 59s)Loss: 0.0967(0.5400)Grad: 1.0163  \n",
      "Epoch: [5][1300/1317]Data 0.000 (0.001)Elapsed 22m 21s (remain 0m 16s)Loss: 1.1167(0.5415)Grad: 0.8987  \n",
      "Epoch: [5][1316/1317]Data 0.000 (0.001)Elapsed 22m 38s (remain 0m 0s)Loss: 0.1648(0.5413)Grad: 1.3203  \n",
      "EVAL: [0/330] Data 1.058 (1.058) Elapsed 0m 1s (remain 6m 31s) Loss: 0.5133(0.5133) \n",
      "EVAL: [100/330] Data 0.404 (0.114) Elapsed 0m 25s (remain 0m 56s) Loss: 0.8715(0.6198) \n",
      "EVAL: [200/330] Data 0.293 (0.105) Elapsed 0m 47s (remain 0m 30s) Loss: 0.0001(0.5427) \n",
      "EVAL: [300/330] Data 0.271 (0.100) Elapsed 1m 10s (remain 0m 6s) Loss: 0.3271(0.5084) \n"
     ]
    },
    {
     "name": "stderr",
     "output_type": "stream",
     "text": [
      "Epoch 5 - avg_train_loss: 0.5413 avg_val_loss: 0.5247 time: 1434s\n",
      "Epoch 5 - Accuracy: 0.8836149610784128\n"
     ]
    },
    {
     "name": "stdout",
     "output_type": "stream",
     "text": [
      "EVAL: [329/330] Data 0.000 (0.097) Elapsed 1m 15s (remain 0m 0s) Loss: 0.0000(0.5247) \n",
      "Epoch: [6][0/1317]Data 1.315 (1.315)Elapsed 0m 2s (remain 56m 42s)Loss: 0.0484(0.0484)Grad: 0.8005  \n",
      "Epoch: [6][100/1317]Data 0.000 (0.013)Elapsed 1m 45s (remain 21m 12s)Loss: 0.0070(0.5183)Grad: 0.3436  \n",
      "Epoch: [6][200/1317]Data 0.000 (0.007)Elapsed 3m 28s (remain 19m 19s)Loss: 0.8653(0.5012)Grad: 1.5951  \n",
      "Epoch: [6][300/1317]Data 0.000 (0.005)Elapsed 5m 11s (remain 17m 33s)Loss: 1.1225(0.4964)Grad: 1.3455  \n",
      "Epoch: [6][400/1317]Data 0.000 (0.003)Elapsed 6m 55s (remain 15m 48s)Loss: 0.0567(0.4922)Grad: 0.9880  \n",
      "Epoch: [6][500/1317]Data 0.000 (0.003)Elapsed 8m 38s (remain 14m 3s)Loss: 0.5843(0.4969)Grad: 0.9650  \n",
      "Epoch: [6][600/1317]Data 0.000 (0.002)Elapsed 10m 21s (remain 12m 19s)Loss: 0.4163(0.4981)Grad: 1.0839  \n",
      "Epoch: [6][700/1317]Data 0.000 (0.002)Elapsed 12m 3s (remain 10m 36s)Loss: 0.4538(0.5125)Grad: 1.7465  \n",
      "Epoch: [6][800/1317]Data 0.000 (0.002)Elapsed 13m 46s (remain 8m 52s)Loss: 0.1896(0.5145)Grad: 1.0010  \n",
      "Epoch: [6][900/1317]Data 0.000 (0.002)Elapsed 15m 29s (remain 7m 9s)Loss: 0.0880(0.5173)Grad: 1.0085  \n",
      "Epoch: [6][1000/1317]Data 0.000 (0.001)Elapsed 17m 12s (remain 5m 26s)Loss: 0.8478(0.5279)Grad: 1.6577  \n",
      "Epoch: [6][1100/1317]Data 0.000 (0.001)Elapsed 18m 55s (remain 3m 42s)Loss: 0.0481(0.5304)Grad: 0.5453  \n",
      "Epoch: [6][1200/1317]Data 0.000 (0.001)Elapsed 20m 38s (remain 1m 59s)Loss: 0.3433(0.5276)Grad: 1.1009  \n",
      "Epoch: [6][1300/1317]Data 0.000 (0.001)Elapsed 22m 21s (remain 0m 16s)Loss: 0.5939(0.5279)Grad: 0.9666  \n",
      "Epoch: [6][1316/1317]Data 0.000 (0.001)Elapsed 22m 37s (remain 0m 0s)Loss: 0.1365(0.5272)Grad: 1.0724  \n",
      "EVAL: [0/330] Data 1.053 (1.053) Elapsed 0m 1s (remain 6m 28s) Loss: 0.5413(0.5413) \n",
      "EVAL: [100/330] Data 0.407 (0.114) Elapsed 0m 24s (remain 0m 56s) Loss: 0.7553(0.5928) \n",
      "EVAL: [200/330] Data 0.442 (0.104) Elapsed 0m 47s (remain 0m 30s) Loss: 0.0002(0.5201) \n",
      "EVAL: [300/330] Data 0.361 (0.101) Elapsed 1m 10s (remain 0m 6s) Loss: 0.2396(0.4837) \n"
     ]
    },
    {
     "name": "stderr",
     "output_type": "stream",
     "text": [
      "Epoch 6 - avg_train_loss: 0.5272 avg_val_loss: 0.4947 time: 1434s\n",
      "Epoch 6 - Accuracy: 0.8819062084678185\n"
     ]
    },
    {
     "name": "stdout",
     "output_type": "stream",
     "text": [
      "EVAL: [329/330] Data 0.000 (0.099) Elapsed 1m 16s (remain 0m 0s) Loss: 0.0000(0.4947) \n",
      "Epoch: [7][0/1317]Data 1.456 (1.456)Elapsed 0m 2s (remain 57m 42s)Loss: 0.3922(0.3922)Grad: 1.5440  \n",
      "Epoch: [7][100/1317]Data 0.000 (0.015)Elapsed 1m 45s (remain 21m 11s)Loss: 0.2604(0.5357)Grad: 1.4868  \n",
      "Epoch: [7][200/1317]Data 0.000 (0.007)Elapsed 3m 28s (remain 19m 19s)Loss: 1.3245(0.5143)Grad: 1.5432  \n",
      "Epoch: [7][300/1317]Data 0.000 (0.005)Elapsed 5m 11s (remain 17m 32s)Loss: 0.4615(0.5250)Grad: 1.1309  \n",
      "Epoch: [7][400/1317]Data 0.000 (0.004)Elapsed 6m 54s (remain 15m 47s)Loss: 0.3037(0.5179)Grad: 1.5187  \n",
      "Epoch: [7][500/1317]Data 0.000 (0.003)Elapsed 8m 37s (remain 14m 3s)Loss: 0.3435(0.5051)Grad: 0.9416  \n",
      "Epoch: [7][600/1317]Data 0.000 (0.003)Elapsed 10m 20s (remain 12m 19s)Loss: 0.0520(0.4949)Grad: 0.8138  \n",
      "Epoch: [7][700/1317]Data 0.000 (0.002)Elapsed 12m 3s (remain 10m 35s)Loss: 0.2031(0.4932)Grad: 1.6871  \n",
      "Epoch: [7][800/1317]Data 0.000 (0.002)Elapsed 13m 46s (remain 8m 52s)Loss: 0.1063(0.4919)Grad: 1.2355  \n",
      "Epoch: [7][900/1317]Data 0.000 (0.002)Elapsed 15m 29s (remain 7m 9s)Loss: 1.6079(0.5007)Grad: 1.8023  \n",
      "Epoch: [7][1000/1317]Data 0.000 (0.002)Elapsed 17m 12s (remain 5m 26s)Loss: 0.0018(0.4990)Grad: 0.2024  \n",
      "Epoch: [7][1100/1317]Data 0.000 (0.001)Elapsed 18m 55s (remain 3m 42s)Loss: 0.8359(0.4974)Grad: 1.1832  \n",
      "Epoch: [7][1200/1317]Data 0.000 (0.001)Elapsed 20m 38s (remain 1m 59s)Loss: 0.2077(0.5010)Grad: 1.7402  \n",
      "Epoch: [7][1300/1317]Data 0.000 (0.001)Elapsed 22m 21s (remain 0m 16s)Loss: 0.3699(0.5040)Grad: 2.1601  \n",
      "Epoch: [7][1316/1317]Data 0.000 (0.001)Elapsed 22m 38s (remain 0m 0s)Loss: 0.0909(0.5047)Grad: 1.1684  \n",
      "EVAL: [0/330] Data 1.018 (1.018) Elapsed 0m 1s (remain 6m 18s) Loss: 0.4635(0.4635) \n",
      "EVAL: [100/330] Data 0.268 (0.110) Elapsed 0m 24s (remain 0m 55s) Loss: 0.8540(0.6613) \n",
      "EVAL: [200/330] Data 0.502 (0.106) Elapsed 0m 48s (remain 0m 30s) Loss: 0.0000(0.5753) \n",
      "EVAL: [300/330] Data 0.395 (0.101) Elapsed 1m 10s (remain 0m 6s) Loss: 0.6130(0.5364) \n"
     ]
    },
    {
     "name": "stderr",
     "output_type": "stream",
     "text": [
      "Epoch 7 - avg_train_loss: 0.5047 avg_val_loss: 0.5532 time: 1435s\n",
      "Epoch 7 - Accuracy: 0.887981773305487\n",
      "Epoch 7 - Save Best Score: 0.8880 Model\n"
     ]
    },
    {
     "name": "stdout",
     "output_type": "stream",
     "text": [
      "EVAL: [329/330] Data 0.000 (0.099) Elapsed 1m 16s (remain 0m 0s) Loss: 0.0000(0.5532) \n",
      "Epoch: [8][0/1317]Data 1.872 (1.872)Elapsed 0m 3s (remain 68m 7s)Loss: 1.1350(1.1350)Grad: 1.3746  \n",
      "Epoch: [8][100/1317]Data 0.000 (0.019)Elapsed 1m 46s (remain 21m 16s)Loss: 0.0717(0.5209)Grad: 0.9265  \n",
      "Epoch: [8][200/1317]Data 0.000 (0.009)Elapsed 3m 29s (remain 19m 20s)Loss: 0.6841(0.4959)Grad: 1.3607  \n",
      "Epoch: [8][300/1317]Data 0.000 (0.006)Elapsed 5m 12s (remain 17m 33s)Loss: 0.3168(0.4835)Grad: 0.8666  \n",
      "Epoch: [8][400/1317]Data 0.000 (0.005)Elapsed 6m 55s (remain 15m 48s)Loss: 0.0350(0.5065)Grad: 0.5407  \n",
      "Epoch: [8][500/1317]Data 0.000 (0.004)Elapsed 8m 38s (remain 14m 4s)Loss: 0.4674(0.4990)Grad: 1.6324  \n",
      "Epoch: [8][600/1317]Data 0.000 (0.003)Elapsed 10m 21s (remain 12m 20s)Loss: 0.7849(0.4898)Grad: 0.8258  \n",
      "Epoch: [8][700/1317]Data 0.000 (0.003)Elapsed 12m 4s (remain 10m 36s)Loss: 1.1466(0.4923)Grad: 1.4798  \n",
      "Epoch: [8][800/1317]Data 0.000 (0.002)Elapsed 13m 47s (remain 8m 53s)Loss: 0.2693(0.4872)Grad: 1.1907  \n",
      "Epoch: [8][900/1317]Data 0.000 (0.002)Elapsed 15m 30s (remain 7m 9s)Loss: 0.0660(0.4905)Grad: 0.8679  \n",
      "Epoch: [8][1000/1317]Data 0.000 (0.002)Elapsed 17m 13s (remain 5m 26s)Loss: 0.0472(0.4876)Grad: 0.7093  \n",
      "Epoch: [8][1100/1317]Data 0.000 (0.002)Elapsed 18m 56s (remain 3m 42s)Loss: 1.6361(0.4835)Grad: 1.6471  \n",
      "Epoch: [8][1200/1317]Data 0.000 (0.002)Elapsed 20m 39s (remain 1m 59s)Loss: 0.1247(0.4832)Grad: 1.5463  \n",
      "Epoch: [8][1300/1317]Data 0.000 (0.002)Elapsed 22m 23s (remain 0m 16s)Loss: 0.2785(0.4860)Grad: 1.3980  \n",
      "Epoch: [8][1316/1317]Data 0.000 (0.002)Elapsed 22m 39s (remain 0m 0s)Loss: 0.2490(0.4879)Grad: 1.0988  \n",
      "EVAL: [0/330] Data 1.069 (1.069) Elapsed 0m 1s (remain 6m 38s) Loss: 0.5455(0.5455) \n",
      "EVAL: [100/330] Data 0.127 (0.110) Elapsed 0m 24s (remain 0m 55s) Loss: 0.6837(0.6076) \n",
      "EVAL: [200/330] Data 0.181 (0.106) Elapsed 0m 47s (remain 0m 30s) Loss: 0.0000(0.5314) \n",
      "EVAL: [300/330] Data 0.378 (0.102) Elapsed 1m 10s (remain 0m 6s) Loss: 0.5225(0.5017) \n"
     ]
    },
    {
     "name": "stderr",
     "output_type": "stream",
     "text": [
      "Epoch 8 - avg_train_loss: 0.4879 avg_val_loss: 0.5180 time: 1436s\n",
      "Epoch 8 - Accuracy: 0.8870324662996013\n"
     ]
    },
    {
     "name": "stdout",
     "output_type": "stream",
     "text": [
      "EVAL: [329/330] Data 0.000 (0.100) Elapsed 1m 16s (remain 0m 0s) Loss: 0.0000(0.5180) \n",
      "Epoch: [9][0/1317]Data 1.200 (1.200)Elapsed 0m 2s (remain 54m 41s)Loss: 0.2433(0.2433)Grad: 1.1510  \n",
      "Epoch: [9][100/1317]Data 0.000 (0.012)Elapsed 1m 45s (remain 21m 10s)Loss: 0.1740(0.4698)Grad: 1.0146  \n",
      "Epoch: [9][200/1317]Data 0.000 (0.006)Elapsed 3m 28s (remain 19m 18s)Loss: 1.1992(0.4772)Grad: 1.4301  \n",
      "Epoch: [9][300/1317]Data 0.000 (0.004)Elapsed 5m 11s (remain 17m 31s)Loss: 0.1456(0.4862)Grad: 1.2704  \n",
      "Epoch: [9][400/1317]Data 0.000 (0.003)Elapsed 6m 54s (remain 15m 47s)Loss: 1.1888(0.4947)Grad: 1.5244  \n",
      "Epoch: [9][500/1317]Data 0.000 (0.003)Elapsed 8m 37s (remain 14m 3s)Loss: 0.2077(0.4930)Grad: 0.9831  \n",
      "Epoch: [9][600/1317]Data 0.000 (0.002)Elapsed 10m 20s (remain 12m 19s)Loss: 0.6306(0.4827)Grad: 1.5565  \n",
      "Epoch: [9][700/1317]Data 0.000 (0.002)Elapsed 12m 3s (remain 10m 36s)Loss: 1.2296(0.4785)Grad: 2.0547  \n",
      "Epoch: [9][800/1317]Data 0.000 (0.002)Elapsed 13m 47s (remain 8m 52s)Loss: 0.7031(0.4823)Grad: 1.8253  \n",
      "Epoch: [9][900/1317]Data 0.000 (0.001)Elapsed 15m 29s (remain 7m 9s)Loss: 1.2145(0.4833)Grad: 1.7735  \n",
      "Epoch: [9][1000/1317]Data 0.000 (0.001)Elapsed 17m 13s (remain 5m 26s)Loss: 0.1481(0.4830)Grad: 1.0414  \n",
      "Epoch: [9][1100/1317]Data 0.000 (0.001)Elapsed 18m 56s (remain 3m 42s)Loss: 0.9291(0.4838)Grad: 1.6269  \n",
      "Epoch: [9][1200/1317]Data 0.000 (0.001)Elapsed 20m 38s (remain 1m 59s)Loss: 0.6979(0.4777)Grad: 1.1992  \n",
      "Epoch: [9][1300/1317]Data 0.000 (0.001)Elapsed 22m 22s (remain 0m 16s)Loss: 0.5010(0.4800)Grad: 1.5818  \n",
      "Epoch: [9][1316/1317]Data 0.000 (0.001)Elapsed 22m 38s (remain 0m 0s)Loss: 0.1017(0.4779)Grad: 1.0971  \n",
      "EVAL: [0/330] Data 1.127 (1.127) Elapsed 0m 1s (remain 6m 52s) Loss: 0.5179(0.5179) \n",
      "EVAL: [100/330] Data 0.409 (0.113) Elapsed 0m 24s (remain 0m 56s) Loss: 0.7310(0.6018) \n",
      "EVAL: [200/330] Data 0.560 (0.107) Elapsed 0m 48s (remain 0m 30s) Loss: 0.0001(0.5218) \n",
      "EVAL: [300/330] Data 0.427 (0.104) Elapsed 1m 11s (remain 0m 6s) Loss: 0.3486(0.4879) \n"
     ]
    },
    {
     "name": "stderr",
     "output_type": "stream",
     "text": [
      "Epoch 9 - avg_train_loss: 0.4779 avg_val_loss: 0.5024 time: 1435s\n",
      "Epoch 9 - Accuracy: 0.8900702487184355\n",
      "Epoch 9 - Save Best Score: 0.8901 Model\n"
     ]
    },
    {
     "name": "stdout",
     "output_type": "stream",
     "text": [
      "EVAL: [329/330] Data 0.000 (0.100) Elapsed 1m 16s (remain 0m 0s) Loss: 0.0000(0.5024) \n",
      "Epoch: [10][0/1317]Data 1.360 (1.360)Elapsed 0m 2s (remain 58m 10s)Loss: 0.0262(0.0262)Grad: 0.4926  \n",
      "Epoch: [10][100/1317]Data 0.000 (0.014)Elapsed 1m 45s (remain 21m 12s)Loss: 0.2453(0.4366)Grad: 1.6053  \n",
      "Epoch: [10][200/1317]Data 0.000 (0.007)Elapsed 3m 28s (remain 19m 17s)Loss: 1.5939(0.4638)Grad: 1.4284  \n",
      "Epoch: [10][300/1317]Data 0.000 (0.005)Elapsed 5m 11s (remain 17m 31s)Loss: 0.0191(0.4954)Grad: 0.3268  \n",
      "Epoch: [10][400/1317]Data 0.000 (0.004)Elapsed 6m 54s (remain 15m 46s)Loss: 1.8416(0.4964)Grad: 2.0648  \n",
      "Epoch: [10][500/1317]Data 0.000 (0.003)Elapsed 8m 37s (remain 14m 2s)Loss: 0.0662(0.4906)Grad: 0.9732  \n",
      "Epoch: [10][600/1317]Data 0.000 (0.002)Elapsed 10m 20s (remain 12m 19s)Loss: 0.6091(0.4851)Grad: 1.6992  \n",
      "Epoch: [10][700/1317]Data 0.000 (0.002)Elapsed 12m 3s (remain 10m 35s)Loss: 0.1061(0.4859)Grad: 0.9027  \n",
      "Epoch: [10][800/1317]Data 0.000 (0.002)Elapsed 13m 46s (remain 8m 52s)Loss: 0.4249(0.4795)Grad: 1.3547  \n",
      "Epoch: [10][900/1317]Data 0.000 (0.002)Elapsed 15m 29s (remain 7m 9s)Loss: 0.5520(0.4779)Grad: 1.6079  \n",
      "Epoch: [10][1000/1317]Data 0.000 (0.002)Elapsed 17m 12s (remain 5m 25s)Loss: 1.0910(0.4808)Grad: 1.3524  \n",
      "Epoch: [10][1100/1317]Data 0.000 (0.001)Elapsed 18m 55s (remain 3m 42s)Loss: 0.8215(0.4790)Grad: 1.1016  \n",
      "Epoch: [10][1200/1317]Data 0.000 (0.001)Elapsed 20m 38s (remain 1m 59s)Loss: 0.3908(0.4804)Grad: 1.6647  \n",
      "Epoch: [10][1300/1317]Data 0.000 (0.001)Elapsed 22m 21s (remain 0m 16s)Loss: 0.4396(0.4770)Grad: 0.9777  \n",
      "Epoch: [10][1316/1317]Data 0.000 (0.001)Elapsed 22m 37s (remain 0m 0s)Loss: 1.0506(0.4770)Grad: 1.2033  \n",
      "EVAL: [0/330] Data 1.104 (1.104) Elapsed 0m 1s (remain 6m 46s) Loss: 0.4854(0.4854) \n",
      "EVAL: [100/330] Data 0.357 (0.111) Elapsed 0m 24s (remain 0m 55s) Loss: 0.6541(0.6383) \n",
      "EVAL: [200/330] Data 0.000 (0.107) Elapsed 0m 47s (remain 0m 30s) Loss: 0.0001(0.5518) \n",
      "EVAL: [300/330] Data 0.115 (0.102) Elapsed 1m 10s (remain 0m 6s) Loss: 0.4141(0.5121) \n"
     ]
    },
    {
     "name": "stderr",
     "output_type": "stream",
     "text": [
      "Epoch 10 - avg_train_loss: 0.4770 avg_val_loss: 0.5276 time: 1434s\n",
      "Epoch 10 - Accuracy: 0.8902601101196127\n",
      "Epoch 10 - Save Best Score: 0.8903 Model\n"
     ]
    },
    {
     "name": "stdout",
     "output_type": "stream",
     "text": [
      "EVAL: [329/330] Data 0.000 (0.100) Elapsed 1m 16s (remain 0m 0s) Loss: 0.0000(0.5276) \n"
     ]
    },
    {
     "name": "stderr",
     "output_type": "stream",
     "text": [
      "=============== fold: 2 result ================\n",
      "Score: 0.89026\n",
      "============ CV ============\n",
      "Score: 0.89026\n"
     ]
    }
   ],
   "source": [
    "if __name__ == '__main__':\n",
    "    main()"
   ]
  }
 ],
 "metadata": {
  "kernelspec": {
   "display_name": "Python 3",
   "language": "python",
   "name": "python3"
  },
  "language_info": {
   "codemirror_mode": {
    "name": "ipython",
    "version": 3
   },
   "file_extension": ".py",
   "mimetype": "text/x-python",
   "name": "python",
   "nbconvert_exporter": "python",
   "pygments_lexer": "ipython3",
   "version": "3.7.6"
  },
  "papermill": {
   "duration": 13454.920935,
   "end_time": "2021-02-14T13:26:47.779801",
   "environment_variables": {},
   "exception": null,
   "input_path": "__notebook__.ipynb",
   "output_path": "__notebook__.ipynb",
   "parameters": {},
   "start_time": "2021-02-14T09:42:32.858866",
   "version": "2.1.0"
  }
 },
 "nbformat": 4,
 "nbformat_minor": 4
}
