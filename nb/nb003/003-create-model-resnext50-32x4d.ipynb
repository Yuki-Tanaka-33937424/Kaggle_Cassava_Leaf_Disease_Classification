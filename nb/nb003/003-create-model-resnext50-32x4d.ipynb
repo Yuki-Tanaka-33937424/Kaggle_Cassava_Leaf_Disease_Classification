{
 "cells": [
  {
   "cell_type": "code",
   "execution_count": 1,
   "metadata": {
    "execution": {
     "iopub.execute_input": "2020-12-19T10:32:21.711627Z",
     "iopub.status.busy": "2020-12-19T10:32:21.710720Z",
     "iopub.status.idle": "2020-12-19T10:32:31.612759Z",
     "shell.execute_reply": "2020-12-19T10:32:31.612141Z"
    },
    "papermill": {
     "duration": 9.927241,
     "end_time": "2020-12-19T10:32:31.612910",
     "exception": false,
     "start_time": "2020-12-19T10:32:21.685669",
     "status": "completed"
    },
    "tags": []
   },
   "outputs": [
    {
     "name": "stdout",
     "output_type": "stream",
     "text": [
      "Collecting pytorch_ranger\r\n",
      "  Downloading pytorch_ranger-0.1.1-py3-none-any.whl (14 kB)\r\n",
      "Requirement already satisfied: torch in /opt/conda/lib/python3.7/site-packages (from pytorch_ranger) (1.7.0)\r\n",
      "Requirement already satisfied: future in /opt/conda/lib/python3.7/site-packages (from torch->pytorch_ranger) (0.18.2)\r\n",
      "Requirement already satisfied: typing_extensions in /opt/conda/lib/python3.7/site-packages (from torch->pytorch_ranger) (3.7.4.1)\r\n",
      "Requirement already satisfied: dataclasses in /opt/conda/lib/python3.7/site-packages (from torch->pytorch_ranger) (0.6)\r\n",
      "Requirement already satisfied: numpy in /opt/conda/lib/python3.7/site-packages (from torch->pytorch_ranger) (1.18.5)\r\n",
      "Installing collected packages: pytorch-ranger\r\n",
      "Successfully installed pytorch-ranger-0.1.1\r\n",
      "\u001b[33mWARNING: You are using pip version 20.3.1; however, version 20.3.3 is available.\r\n",
      "You should consider upgrading via the '/opt/conda/bin/python3.7 -m pip install --upgrade pip' command.\u001b[0m\r\n"
     ]
    }
   ],
   "source": [
    "!pip install pytorch_ranger"
   ]
  },
  {
   "cell_type": "code",
   "execution_count": 2,
   "metadata": {
    "_cell_guid": "79c7e3d0-c299-4dcb-8224-4455121ee9b0",
    "_uuid": "d629ff2d2480ee46fbb7e2d37f6b5fab8052498a",
    "execution": {
     "iopub.execute_input": "2020-12-19T10:32:31.660647Z",
     "iopub.status.busy": "2020-12-19T10:32:31.659805Z",
     "iopub.status.idle": "2020-12-19T10:32:32.555919Z",
     "shell.execute_reply": "2020-12-19T10:32:32.554848Z"
    },
    "papermill": {
     "duration": 0.921852,
     "end_time": "2020-12-19T10:32:32.556039",
     "exception": false,
     "start_time": "2020-12-19T10:32:31.634187",
     "status": "completed"
    },
    "tags": []
   },
   "outputs": [],
   "source": [
    "import numpy as np\n",
    "import pandas as pd\n",
    "import matplotlib.pyplot as plt\n",
    "import seaborn as sns\n",
    "import os\n",
    "\n",
    "%matplotlib inline"
   ]
  },
  {
   "cell_type": "code",
   "execution_count": 3,
   "metadata": {
    "execution": {
     "iopub.execute_input": "2020-12-19T10:32:32.600549Z",
     "iopub.status.busy": "2020-12-19T10:32:32.599675Z",
     "iopub.status.idle": "2020-12-19T10:32:32.606226Z",
     "shell.execute_reply": "2020-12-19T10:32:32.605677Z"
    },
    "papermill": {
     "duration": 0.029996,
     "end_time": "2020-12-19T10:32:32.606326",
     "exception": false,
     "start_time": "2020-12-19T10:32:32.576330",
     "status": "completed"
    },
    "tags": []
   },
   "outputs": [
    {
     "data": {
      "text/plain": [
       "['train_tfrecords',\n",
       " 'sample_submission.csv',\n",
       " 'test_tfrecords',\n",
       " 'label_num_to_disease_map.json',\n",
       " 'train_images',\n",
       " 'train.csv',\n",
       " 'test_images']"
      ]
     },
     "execution_count": 3,
     "metadata": {},
     "output_type": "execute_result"
    }
   ],
   "source": [
    "os.listdir('../input/cassava-leaf-disease-classification/')"
   ]
  },
  {
   "cell_type": "code",
   "execution_count": 4,
   "metadata": {
    "execution": {
     "iopub.execute_input": "2020-12-19T10:32:32.654817Z",
     "iopub.status.busy": "2020-12-19T10:32:32.654216Z",
     "iopub.status.idle": "2020-12-19T10:32:32.959826Z",
     "shell.execute_reply": "2020-12-19T10:32:32.959348Z"
    },
    "papermill": {
     "duration": 0.333216,
     "end_time": "2020-12-19T10:32:32.959931",
     "exception": false,
     "start_time": "2020-12-19T10:32:32.626715",
     "status": "completed"
    },
    "tags": []
   },
   "outputs": [
    {
     "data": {
      "text/html": [
       "<div>\n",
       "<style scoped>\n",
       "    .dataframe tbody tr th:only-of-type {\n",
       "        vertical-align: middle;\n",
       "    }\n",
       "\n",
       "    .dataframe tbody tr th {\n",
       "        vertical-align: top;\n",
       "    }\n",
       "\n",
       "    .dataframe thead th {\n",
       "        text-align: right;\n",
       "    }\n",
       "</style>\n",
       "<table border=\"1\" class=\"dataframe\">\n",
       "  <thead>\n",
       "    <tr style=\"text-align: right;\">\n",
       "      <th></th>\n",
       "      <th>image_id</th>\n",
       "      <th>label</th>\n",
       "    </tr>\n",
       "  </thead>\n",
       "  <tbody>\n",
       "    <tr>\n",
       "      <th>0</th>\n",
       "      <td>1000015157.jpg</td>\n",
       "      <td>0</td>\n",
       "    </tr>\n",
       "    <tr>\n",
       "      <th>1</th>\n",
       "      <td>1000201771.jpg</td>\n",
       "      <td>3</td>\n",
       "    </tr>\n",
       "    <tr>\n",
       "      <th>2</th>\n",
       "      <td>100042118.jpg</td>\n",
       "      <td>1</td>\n",
       "    </tr>\n",
       "    <tr>\n",
       "      <th>3</th>\n",
       "      <td>1000723321.jpg</td>\n",
       "      <td>1</td>\n",
       "    </tr>\n",
       "    <tr>\n",
       "      <th>4</th>\n",
       "      <td>1000812911.jpg</td>\n",
       "      <td>3</td>\n",
       "    </tr>\n",
       "  </tbody>\n",
       "</table>\n",
       "</div>"
      ],
      "text/plain": [
       "         image_id  label\n",
       "0  1000015157.jpg      0\n",
       "1  1000201771.jpg      3\n",
       "2   100042118.jpg      1\n",
       "3  1000723321.jpg      1\n",
       "4  1000812911.jpg      3"
      ]
     },
     "metadata": {},
     "output_type": "display_data"
    },
    {
     "data": {
      "text/html": [
       "<div>\n",
       "<style scoped>\n",
       "    .dataframe tbody tr th:only-of-type {\n",
       "        vertical-align: middle;\n",
       "    }\n",
       "\n",
       "    .dataframe tbody tr th {\n",
       "        vertical-align: top;\n",
       "    }\n",
       "\n",
       "    .dataframe thead th {\n",
       "        text-align: right;\n",
       "    }\n",
       "</style>\n",
       "<table border=\"1\" class=\"dataframe\">\n",
       "  <thead>\n",
       "    <tr style=\"text-align: right;\">\n",
       "      <th></th>\n",
       "      <th>image_id</th>\n",
       "      <th>label</th>\n",
       "    </tr>\n",
       "  </thead>\n",
       "  <tbody>\n",
       "    <tr>\n",
       "      <th>0</th>\n",
       "      <td>2216849948.jpg</td>\n",
       "      <td>4</td>\n",
       "    </tr>\n",
       "  </tbody>\n",
       "</table>\n",
       "</div>"
      ],
      "text/plain": [
       "         image_id  label\n",
       "0  2216849948.jpg      4"
      ]
     },
     "metadata": {},
     "output_type": "display_data"
    },
    {
     "data": {
      "text/html": [
       "<div>\n",
       "<style scoped>\n",
       "    .dataframe tbody tr th:only-of-type {\n",
       "        vertical-align: middle;\n",
       "    }\n",
       "\n",
       "    .dataframe tbody tr th {\n",
       "        vertical-align: top;\n",
       "    }\n",
       "\n",
       "    .dataframe thead th {\n",
       "        text-align: right;\n",
       "    }\n",
       "</style>\n",
       "<table border=\"1\" class=\"dataframe\">\n",
       "  <thead>\n",
       "    <tr style=\"text-align: right;\">\n",
       "      <th></th>\n",
       "      <th>0</th>\n",
       "    </tr>\n",
       "  </thead>\n",
       "  <tbody>\n",
       "    <tr>\n",
       "      <th>0</th>\n",
       "      <td>Cassava Bacterial Blight (CBB)</td>\n",
       "    </tr>\n",
       "    <tr>\n",
       "      <th>1</th>\n",
       "      <td>Cassava Brown Streak Disease (CBSD)</td>\n",
       "    </tr>\n",
       "    <tr>\n",
       "      <th>2</th>\n",
       "      <td>Cassava Green Mottle (CGM)</td>\n",
       "    </tr>\n",
       "    <tr>\n",
       "      <th>3</th>\n",
       "      <td>Cassava Mosaic Disease (CMD)</td>\n",
       "    </tr>\n",
       "    <tr>\n",
       "      <th>4</th>\n",
       "      <td>Healthy</td>\n",
       "    </tr>\n",
       "  </tbody>\n",
       "</table>\n",
       "</div>"
      ],
      "text/plain": [
       "                                     0\n",
       "0       Cassava Bacterial Blight (CBB)\n",
       "1  Cassava Brown Streak Disease (CBSD)\n",
       "2           Cassava Green Mottle (CGM)\n",
       "3         Cassava Mosaic Disease (CMD)\n",
       "4                              Healthy"
      ]
     },
     "metadata": {},
     "output_type": "display_data"
    }
   ],
   "source": [
    "train = pd.read_csv('../input/cassava-leaf-disease-classification/train.csv')\n",
    "test = pd.read_csv('../input/cassava-leaf-disease-classification//sample_submission.csv')\n",
    "label_map = pd.read_json('../input/cassava-leaf-disease-classification/label_num_to_disease_map.json', orient='index')\n",
    "\n",
    "display(train.head())\n",
    "display(test.head())\n",
    "display(label_map)"
   ]
  },
  {
   "cell_type": "markdown",
   "metadata": {
    "papermill": {
     "duration": 0.022035,
     "end_time": "2020-12-19T10:32:33.004208",
     "exception": false,
     "start_time": "2020-12-19T10:32:32.982173",
     "status": "completed"
    },
    "tags": []
   },
   "source": [
    "## Directory settings"
   ]
  },
  {
   "cell_type": "code",
   "execution_count": 5,
   "metadata": {
    "execution": {
     "iopub.execute_input": "2020-12-19T10:32:33.055655Z",
     "iopub.status.busy": "2020-12-19T10:32:33.054844Z",
     "iopub.status.idle": "2020-12-19T10:32:33.057916Z",
     "shell.execute_reply": "2020-12-19T10:32:33.057411Z"
    },
    "papermill": {
     "duration": 0.030586,
     "end_time": "2020-12-19T10:32:33.058008",
     "exception": false,
     "start_time": "2020-12-19T10:32:33.027422",
     "status": "completed"
    },
    "tags": []
   },
   "outputs": [],
   "source": [
    "OUTPUT_DIR = './'\n",
    "if not os.path.exists(OUTPUT_DIR):\n",
    "    os.makedirs(OUTPUT_DIR)\n",
    "    \n",
    "TRAIN_PATH = '../input/cassava-leaf-disease-classification/train_images'\n",
    "TEST_PATH = '../input/cassava-leaf-disease-classification/test_images'"
   ]
  },
  {
   "cell_type": "markdown",
   "metadata": {
    "papermill": {
     "duration": 0.022555,
     "end_time": "2020-12-19T10:32:33.103204",
     "exception": false,
     "start_time": "2020-12-19T10:32:33.080649",
     "status": "completed"
    },
    "tags": []
   },
   "source": [
    "## CFG"
   ]
  },
  {
   "cell_type": "code",
   "execution_count": 6,
   "metadata": {
    "execution": {
     "iopub.execute_input": "2020-12-19T10:32:33.158557Z",
     "iopub.status.busy": "2020-12-19T10:32:33.157642Z",
     "iopub.status.idle": "2020-12-19T10:32:33.161118Z",
     "shell.execute_reply": "2020-12-19T10:32:33.160513Z"
    },
    "papermill": {
     "duration": 0.035308,
     "end_time": "2020-12-19T10:32:33.161226",
     "exception": false,
     "start_time": "2020-12-19T10:32:33.125918",
     "status": "completed"
    },
    "tags": []
   },
   "outputs": [],
   "source": [
    "class CFG:\n",
    "    debug = False\n",
    "    apex = False\n",
    "    print_freq = 100\n",
    "    num_workers = 4\n",
    "    model_name = 'resnext50_32x4d'\n",
    "    size = 256\n",
    "    scheduler = 'CosineAnnealingWarmRestarts'\n",
    "    epochs = 10\n",
    "    T_0 = 10\n",
    "    lr = 1e-4\n",
    "    min_lr = 1e-6\n",
    "    batch_size = 32\n",
    "    weight_decay = 1e-6\n",
    "    gradient_accumulation_steps = 1\n",
    "    max_grad_norm = 1000\n",
    "    seed = 42\n",
    "    target_size = 5\n",
    "    target_col = 'label'\n",
    "    n_fold = 5\n",
    "    trn_fold = [0, 1, 2, 3, 4]\n",
    "    train = True\n",
    "    inference = False\n",
    "    \n",
    "if CFG.debug:\n",
    "    CFG.epochs = 1\n",
    "    train = train.sample(n=1000, random_state=CFG.seed).reset_index(drop=True)"
   ]
  },
  {
   "cell_type": "markdown",
   "metadata": {
    "papermill": {
     "duration": 0.021928,
     "end_time": "2020-12-19T10:32:33.207262",
     "exception": false,
     "start_time": "2020-12-19T10:32:33.185334",
     "status": "completed"
    },
    "tags": []
   },
   "source": [
    "## Library"
   ]
  },
  {
   "cell_type": "code",
   "execution_count": 7,
   "metadata": {
    "execution": {
     "iopub.execute_input": "2020-12-19T10:32:33.268557Z",
     "iopub.status.busy": "2020-12-19T10:32:33.267913Z",
     "iopub.status.idle": "2020-12-19T10:32:36.799913Z",
     "shell.execute_reply": "2020-12-19T10:32:36.799362Z"
    },
    "papermill": {
     "duration": 3.56965,
     "end_time": "2020-12-19T10:32:36.800032",
     "exception": false,
     "start_time": "2020-12-19T10:32:33.230382",
     "status": "completed"
    },
    "tags": []
   },
   "outputs": [],
   "source": [
    "import sys\n",
    "sys.path.append('../input/pytorch-image-models/pytorch-image-models-master')\n",
    "\n",
    "import os\n",
    "import math\n",
    "import time\n",
    "import random\n",
    "import shutil\n",
    "from pathlib import Path\n",
    "from contextlib import contextmanager\n",
    "from collections import defaultdict, Counter\n",
    "\n",
    "import scipy as sp\n",
    "import numpy as np\n",
    "import pandas as pd\n",
    "\n",
    "from sklearn import preprocessing\n",
    "from sklearn.metrics import accuracy_score\n",
    "from sklearn.model_selection import StratifiedKFold\n",
    "\n",
    "from tqdm.auto import tqdm\n",
    "from functools import partial\n",
    "\n",
    "import cv2\n",
    "from PIL import Image\n",
    "\n",
    "import torch\n",
    "import torch.nn as nn\n",
    "import torch.nn.functional as F\n",
    "from torch.optim import Adam, SGD\n",
    "import torchvision.models as models\n",
    "from torch.nn.parameter import Parameter\n",
    "from torch.utils.data import DataLoader, Dataset\n",
    "from torch.optim.lr_scheduler import CosineAnnealingWarmRestarts, CosineAnnealingLR, ReduceLROnPlateau\n",
    "\n",
    "sys.path.append('../input/pytorch-optimizer')\n",
    "import torch_optimizer as optim\n",
    "\n",
    "from albumentations import (\n",
    "    Compose, OneOf, Normalize, Resize, RandomResizedCrop, RandomCrop, HorizontalFlip, VerticalFlip, \n",
    "    RandomBrightness, RandomContrast, RandomBrightnessContrast, Rotate, ShiftScaleRotate, Cutout, \n",
    "    IAAAdditiveGaussianNoise, Transpose\n",
    "    )\n",
    "from albumentations.pytorch import ToTensorV2\n",
    "from albumentations import ImageOnlyTransform\n",
    "\n",
    "import timm\n",
    "\n",
    "import warnings \n",
    "warnings.filterwarnings('ignore')\n",
    "\n",
    "if CFG.apex:\n",
    "    from apex import amp\n",
    "\n",
    "device = torch.device('cuda' if torch.cuda.is_available() else 'cpu')"
   ]
  },
  {
   "cell_type": "markdown",
   "metadata": {
    "papermill": {
     "duration": 0.026245,
     "end_time": "2020-12-19T10:32:36.850870",
     "exception": false,
     "start_time": "2020-12-19T10:32:36.824625",
     "status": "completed"
    },
    "tags": []
   },
   "source": [
    "## Utils"
   ]
  },
  {
   "cell_type": "code",
   "execution_count": 8,
   "metadata": {
    "execution": {
     "iopub.execute_input": "2020-12-19T10:32:37.007440Z",
     "iopub.status.busy": "2020-12-19T10:32:37.006499Z",
     "iopub.status.idle": "2020-12-19T10:32:37.033418Z",
     "shell.execute_reply": "2020-12-19T10:32:37.034352Z"
    },
    "papermill": {
     "duration": 0.14461,
     "end_time": "2020-12-19T10:32:37.034538",
     "exception": false,
     "start_time": "2020-12-19T10:32:36.889928",
     "status": "completed"
    },
    "tags": []
   },
   "outputs": [],
   "source": [
    "def get_score(y_true, y_pred):\n",
    "    return accuracy_score(y_true, y_pred)\n",
    "\n",
    "@contextmanager\n",
    "def timer(name):\n",
    "    t0 = time.time()\n",
    "    LOGGER.info(f'[{name}] start')\n",
    "    yield\n",
    "    LOGGER.info(f'[{name}] done in {time.time() - t0:.0f}')\n",
    "    \n",
    "def init_logger(log_file=OUTPUT_DIR+'train.log'):\n",
    "    from logging import getLogger, INFO, FileHandler,  Formatter,  StreamHandler\n",
    "    logger = getLogger(__name__)\n",
    "    logger.setLevel(INFO)\n",
    "    handler1 = StreamHandler()\n",
    "    handler1.setFormatter(Formatter(\"%(message)s\"))\n",
    "    handler2 = FileHandler(filename=log_file)\n",
    "    handler2.setFormatter(Formatter(\"%(message)s\"))\n",
    "    logger.addHandler(handler1)\n",
    "    logger.addHandler(handler2)\n",
    "    return logger\n",
    "\n",
    "LOGGER = init_logger()\n",
    "\n",
    "def seed_torch(seed=42):\n",
    "    random.seed(seed)\n",
    "    os.environ['PYTHONHASHSEED'] = str(seed)\n",
    "    np.random.seed(seed)\n",
    "    torch.manual_seed(seed)\n",
    "    torch.cuda.manual_seed(seed)\n",
    "    torch.backends.cudnn.deterministic = True\n",
    "\n",
    "seed_torch(seed=CFG.seed)"
   ]
  },
  {
   "cell_type": "markdown",
   "metadata": {
    "papermill": {
     "duration": 0.036015,
     "end_time": "2020-12-19T10:32:37.107287",
     "exception": false,
     "start_time": "2020-12-19T10:32:37.071272",
     "status": "completed"
    },
    "tags": []
   },
   "source": [
    "## CV split"
   ]
  },
  {
   "cell_type": "code",
   "execution_count": 9,
   "metadata": {
    "execution": {
     "iopub.execute_input": "2020-12-19T10:32:37.203963Z",
     "iopub.status.busy": "2020-12-19T10:32:37.202959Z",
     "iopub.status.idle": "2020-12-19T10:32:37.242902Z",
     "shell.execute_reply": "2020-12-19T10:32:37.243947Z"
    },
    "papermill": {
     "duration": 0.095835,
     "end_time": "2020-12-19T10:32:37.244166",
     "exception": false,
     "start_time": "2020-12-19T10:32:37.148331",
     "status": "completed"
    },
    "tags": []
   },
   "outputs": [
    {
     "name": "stdout",
     "output_type": "stream",
     "text": [
      "fold  label\n",
      "0     0         218\n",
      "      1         438\n",
      "      2         477\n",
      "      3        2631\n",
      "      4         516\n",
      "1     0         218\n",
      "      1         438\n",
      "      2         477\n",
      "      3        2631\n",
      "      4         516\n",
      "2     0         217\n",
      "      1         438\n",
      "      2         477\n",
      "      3        2632\n",
      "      4         515\n",
      "3     0         217\n",
      "      1         438\n",
      "      2         477\n",
      "      3        2632\n",
      "      4         515\n",
      "4     0         217\n",
      "      1         437\n",
      "      2         478\n",
      "      3        2632\n",
      "      4         515\n",
      "dtype: int64\n"
     ]
    }
   ],
   "source": [
    "folds = train.copy()\n",
    "Fold = StratifiedKFold(n_splits=CFG.n_fold, shuffle=True, random_state=CFG.seed)\n",
    "for n, (train_index, val_index) in enumerate(Fold.split(folds, folds[CFG.target_col])):\n",
    "    folds.loc[val_index, 'fold'] = int(n)\n",
    "folds['fold'] = folds['fold'].astype(int)\n",
    "print(folds.groupby(['fold', CFG.target_col]).size())"
   ]
  },
  {
   "cell_type": "markdown",
   "metadata": {
    "papermill": {
     "duration": 0.032869,
     "end_time": "2020-12-19T10:32:37.311903",
     "exception": false,
     "start_time": "2020-12-19T10:32:37.279034",
     "status": "completed"
    },
    "tags": []
   },
   "source": [
    "## Dataset"
   ]
  },
  {
   "cell_type": "code",
   "execution_count": 10,
   "metadata": {
    "execution": {
     "iopub.execute_input": "2020-12-19T10:32:37.390933Z",
     "iopub.status.busy": "2020-12-19T10:32:37.390000Z",
     "iopub.status.idle": "2020-12-19T10:32:37.410056Z",
     "shell.execute_reply": "2020-12-19T10:32:37.410767Z"
    },
    "papermill": {
     "duration": 0.064377,
     "end_time": "2020-12-19T10:32:37.410939",
     "exception": false,
     "start_time": "2020-12-19T10:32:37.346562",
     "status": "completed"
    },
    "tags": []
   },
   "outputs": [],
   "source": [
    "class TrainDataset(Dataset):\n",
    "    def __init__(self, df, transform=None):\n",
    "        self.df = df\n",
    "        self.file_names = df['image_id'].values\n",
    "        self.labels = df['label'].values\n",
    "        self.transform = transform\n",
    "    \n",
    "    def __len__(self):\n",
    "        return len(self.df)\n",
    "    \n",
    "    def __getitem__(self, idx):\n",
    "        file_name = self.file_names[idx]\n",
    "        file_path = f'{TRAIN_PATH}/{file_name}'\n",
    "        image = cv2.imread(file_path)\n",
    "        image = cv2.cvtColor(image, cv2.COLOR_BGR2RGB)\n",
    "        if self.transform:\n",
    "            augmented = self.transform(image=image)\n",
    "            image = augmented['image']\n",
    "        label = torch.tensor(self.labels[idx]).long()\n",
    "        return image, label\n",
    "    \n",
    "class TestDataset(Dataset):\n",
    "    def __init__(self, df, transform=None):\n",
    "        self.df = df\n",
    "        self.file_names = df['image_id'].values\n",
    "        self.transform = transform\n",
    "        \n",
    "    def __len__(self):\n",
    "        return len(self.df)\n",
    "    \n",
    "    def __getitem__(self, idx):\n",
    "        file_name = self.file_names[idx]\n",
    "        file_path = f'{TEST_PATH}/{file_name}'\n",
    "        image = cv2.imread(file_path)\n",
    "        image = cv2.cvtColor(image, cv2.COLOR_BGR2RGB)\n",
    "        if self.transform:\n",
    "            augmented = self.transform(image=image)\n",
    "            image = augmented['image']\n",
    "        return image"
   ]
  },
  {
   "cell_type": "code",
   "execution_count": 11,
   "metadata": {
    "execution": {
     "iopub.execute_input": "2020-12-19T10:32:37.492261Z",
     "iopub.status.busy": "2020-12-19T10:32:37.491375Z",
     "iopub.status.idle": "2020-12-19T10:32:37.960779Z",
     "shell.execute_reply": "2020-12-19T10:32:37.961529Z"
    },
    "papermill": {
     "duration": 0.511369,
     "end_time": "2020-12-19T10:32:37.961701",
     "exception": false,
     "start_time": "2020-12-19T10:32:37.450332",
     "status": "completed"
    },
    "tags": []
   },
   "outputs": [
    {
     "data": {
      "image/png": "[encoded data removed]",
      "text/plain": [
       "<Figure size 432x288 with 1 Axes>"
      ]
     },
     "metadata": {
      "needs_background": "light"
     },
     "output_type": "display_data"
    }
   ],
   "source": [
    "train_dataset = TrainDataset(train, transform=None)\n",
    "\n",
    "for i in range(1):\n",
    "    image, label = train_dataset[i]\n",
    "    plt.imshow(image)\n",
    "    plt.title(f'label: {label}')\n",
    "    plt.show()"
   ]
  },
  {
   "cell_type": "markdown",
   "metadata": {
    "papermill": {
     "duration": 0.052733,
     "end_time": "2020-12-19T10:32:38.059321",
     "exception": false,
     "start_time": "2020-12-19T10:32:38.006588",
     "status": "completed"
    },
    "tags": []
   },
   "source": [
    "## Transforms"
   ]
  },
  {
   "cell_type": "code",
   "execution_count": 12,
   "metadata": {
    "execution": {
     "iopub.execute_input": "2020-12-19T10:32:38.156465Z",
     "iopub.status.busy": "2020-12-19T10:32:38.155627Z",
     "iopub.status.idle": "2020-12-19T10:32:38.159781Z",
     "shell.execute_reply": "2020-12-19T10:32:38.160800Z"
    },
    "papermill": {
     "duration": 0.058041,
     "end_time": "2020-12-19T10:32:38.160956",
     "exception": false,
     "start_time": "2020-12-19T10:32:38.102915",
     "status": "completed"
    },
    "tags": []
   },
   "outputs": [],
   "source": [
    "def get_transforms(*, data):\n",
    "    \n",
    "    if data == 'train':\n",
    "        return Compose([\n",
    "            RandomResizedCrop(CFG.size, CFG.size), \n",
    "            Transpose(p=0.5), \n",
    "            HorizontalFlip(p=0.5), \n",
    "            VerticalFlip(p=0.5), \n",
    "            ShiftScaleRotate(p=0.5), \n",
    "            Normalize(\n",
    "                mean=[0.485, 0.456, 0.406], \n",
    "                std=[0.229, 0.224, 0.225], \n",
    "            ), \n",
    "            ToTensorV2(),\n",
    "        ])\n",
    "    \n",
    "    elif data == 'valid':\n",
    "        return Compose([\n",
    "            Resize(CFG.size, CFG.size), \n",
    "            Normalize(\n",
    "                mean=[0.485, 0.456, 0.406], \n",
    "                std=[0.229, 0.224, 0.225], \n",
    "            ), \n",
    "            ToTensorV2(),\n",
    "        ])"
   ]
  },
  {
   "cell_type": "code",
   "execution_count": 13,
   "metadata": {
    "execution": {
     "iopub.execute_input": "2020-12-19T10:32:38.291596Z",
     "iopub.status.busy": "2020-12-19T10:32:38.290774Z",
     "iopub.status.idle": "2020-12-19T10:32:38.497821Z",
     "shell.execute_reply": "2020-12-19T10:32:38.498413Z"
    },
    "papermill": {
     "duration": 0.295579,
     "end_time": "2020-12-19T10:32:38.498549",
     "exception": false,
     "start_time": "2020-12-19T10:32:38.202970",
     "status": "completed"
    },
    "tags": []
   },
   "outputs": [
    {
     "data": {
      "image/png": "[encoded data removed]",
      "text/plain": [
       "<Figure size 432x288 with 1 Axes>"
      ]
     },
     "metadata": {
      "needs_background": "light"
     },
     "output_type": "display_data"
    }
   ],
   "source": [
    "train_dataset = TrainDataset(train, transform=get_transforms(data='train'))\n",
    "\n",
    "for i in range(1):\n",
    "    image, label = train_dataset[i]\n",
    "    plt.imshow(image[0])\n",
    "    plt.title(f'label: {label}')\n",
    "    plt.show()"
   ]
  },
  {
   "cell_type": "markdown",
   "metadata": {
    "papermill": {
     "duration": 0.038378,
     "end_time": "2020-12-19T10:32:38.572226",
     "exception": false,
     "start_time": "2020-12-19T10:32:38.533848",
     "status": "completed"
    },
    "tags": []
   },
   "source": [
    "## MODEL"
   ]
  },
  {
   "cell_type": "code",
   "execution_count": 14,
   "metadata": {
    "execution": {
     "iopub.execute_input": "2020-12-19T10:32:38.667565Z",
     "iopub.status.busy": "2020-12-19T10:32:38.665692Z",
     "iopub.status.idle": "2020-12-19T10:32:38.668363Z",
     "shell.execute_reply": "2020-12-19T10:32:38.668889Z"
    },
    "papermill": {
     "duration": 0.045175,
     "end_time": "2020-12-19T10:32:38.669011",
     "exception": false,
     "start_time": "2020-12-19T10:32:38.623836",
     "status": "completed"
    },
    "tags": []
   },
   "outputs": [],
   "source": [
    "class CustomResNext(nn.Module):\n",
    "    def __init__(self, model_name='resnext50_32x4d', pretrained=False):\n",
    "        super().__init__()\n",
    "        self.model = timm.create_model(model_name, pretrained=pretrained)\n",
    "        n_features = self.model.fc.in_features\n",
    "        self.model.fc = nn.Linear(n_features, CFG.target_size)\n",
    "        \n",
    "    def forward(self, x):\n",
    "        x = self.model(x)\n",
    "        return x"
   ]
  },
  {
   "cell_type": "code",
   "execution_count": 15,
   "metadata": {
    "execution": {
     "iopub.execute_input": "2020-12-19T10:32:38.746241Z",
     "iopub.status.busy": "2020-12-19T10:32:38.742260Z",
     "iopub.status.idle": "2020-12-19T10:32:45.479868Z",
     "shell.execute_reply": "2020-12-19T10:32:45.481175Z"
    },
    "papermill": {
     "duration": 6.778673,
     "end_time": "2020-12-19T10:32:45.481332",
     "exception": false,
     "start_time": "2020-12-19T10:32:38.702659",
     "status": "completed"
    },
    "tags": []
   },
   "outputs": [
    {
     "name": "stdout",
     "output_type": "stream",
     "text": [
      "torch.Size([4, 3, 256, 256])\n",
      "tensor([[ 0.1379, -0.0437,  0.0715,  0.2726, -0.0931],\n",
      "        [ 0.1407,  0.1553,  0.0661,  0.6412,  0.1147],\n",
      "        [ 0.1008, -0.0071,  0.0307,  0.3932, -0.0678],\n",
      "        [ 0.1247,  0.0810,  0.0957,  0.5489,  0.1670]],\n",
      "       grad_fn=<AddmmBackward>)\n"
     ]
    }
   ],
   "source": [
    "model = CustomResNext(model_name=CFG.model_name, pretrained=False)\n",
    "train_dataset = TrainDataset(train, transform=get_transforms(data='train'))\n",
    "train_loader = DataLoader(train_dataset, batch_size=4, shuffle=True, \n",
    "                          num_workers=4, pin_memory=True, drop_last=True)\n",
    "\n",
    "for image, label in train_loader:\n",
    "    print(image.size())\n",
    "    output = model(image)\n",
    "    print(output)\n",
    "    break"
   ]
  },
  {
   "cell_type": "code",
   "execution_count": 16,
   "metadata": {
    "execution": {
     "iopub.execute_input": "2020-12-19T10:32:45.589505Z",
     "iopub.status.busy": "2020-12-19T10:32:45.559973Z",
     "iopub.status.idle": "2020-12-19T10:32:45.592558Z",
     "shell.execute_reply": "2020-12-19T10:32:45.591995Z"
    },
    "papermill": {
     "duration": 0.078557,
     "end_time": "2020-12-19T10:32:45.592657",
     "exception": false,
     "start_time": "2020-12-19T10:32:45.514100",
     "status": "completed"
    },
    "tags": []
   },
   "outputs": [],
   "source": [
    "class AverageMeter(object):\n",
    "    \"\"\"Computes and stores the average and current value\"\"\"\n",
    "    def __init__(self):\n",
    "        self.reset()\n",
    "        \n",
    "    def reset(self):\n",
    "        self.val = 0\n",
    "        self.avg = 0\n",
    "        self.sum = 0\n",
    "        self.count = 0\n",
    "        \n",
    "    def update(self, val, n=1):\n",
    "        self.val = val\n",
    "        self.sum += val * n\n",
    "        self.count += n\n",
    "        self.avg = self.sum / self.count\n",
    "        \n",
    "def asMinutes(s):\n",
    "    \"\"\"秒を分に変換する関数\"\"\"\n",
    "    m = math.floor(s / 60)\n",
    "    s -= m * 60\n",
    "    return '%dm %ds' % (m, s)\n",
    "\n",
    "def timeSince(since, percent):\n",
    "    \"\"\"経過時間の測定と終了時間の予測を行う関数\n",
    "    Parameters\n",
    "    ----------\n",
    "    since : float\n",
    "        実験を始めた時刻\n",
    "    percent : float\n",
    "        実験が進んだ割合\n",
    "        \n",
    "    Returns\n",
    "    -------\n",
    "    s : 経過時間\n",
    "    re : 終了までの時間の予測\n",
    "    \"\"\"\n",
    "    now = time.time()\n",
    "    s = now - since  # 経過時間の測定\n",
    "    es = s / percent  # 終了時間の予測\n",
    "    re = es - s  # 残り時間の予想\n",
    "    return '%s (remain %s)' % (asMinutes(s), asMinutes(re))\n",
    "\n",
    "def train_fn(train_loader, model, criterion, optimizer, epoch, shechduler, device):\n",
    "    batch_time = AverageMeter()\n",
    "    data_time = AverageMeter()\n",
    "    losses = AverageMeter()\n",
    "    scores = AverageMeter()\n",
    "    # switch to train mode\n",
    "    model.train()\n",
    "    start = end = time.time()\n",
    "    global_step = 0\n",
    "    for step, (images, labels) in enumerate(train_loader):\n",
    "        # measure data loading time\n",
    "        data_time.update(time.time() - end)\n",
    "        images = images.to(device)\n",
    "        labels = labels.to(device)\n",
    "        batch_size = labels.size(0)\n",
    "        y_preds = model(images)\n",
    "        loss = criterion(y_preds, labels)\n",
    "        # record loss\n",
    "        losses.update(loss.item(), batch_size)\n",
    "        if CFG.gradient_accumulation_steps > 1:\n",
    "            loss = loss / CFG.gradient_accumulation_steps\n",
    "        if CFG.apex:\n",
    "            with amp.scale_loss(loss, optimizer) as scaled_loss:\n",
    "                scaled_loss.backward()\n",
    "        else: \n",
    "            loss.backward()\n",
    "        grad_norm = torch.nn.utils.clip_grad_norm_(model.parameters(), CFG.max_grad_norm)\n",
    "        if (step + 1) % CFG.gradient_accumulation_steps == 0:\n",
    "            optimizer.step()\n",
    "            optimizer.zero_grad()\n",
    "            global_step += 1\n",
    "        # measure elapsed time\n",
    "        batch_time.update(time.time() - end)\n",
    "        end = time.time()\n",
    "        if step % CFG.print_freq == 0 or step == (len(train_loader)-1):\n",
    "            print('Epoch: [{0}][{1}/{2}]'\n",
    "                  'Data {data_time.val:.3f} ({data_time.avg:.3f})'\n",
    "                  'Elapsed {remain:s}' \n",
    "                  'Loss: {loss.val:.4f}({loss.avg:.4f})' \n",
    "                  'Grad: {grad_norm:.4f}  '\n",
    "                  .format(epoch+1, step, len(train_loader), batch_time=batch_time, \n",
    "                          data_time=data_time, loss=losses, \n",
    "                          remain=timeSince(start, float(step+1)/len(train_loader)), \n",
    "                          grad_norm=grad_norm))\n",
    "    return losses.avg\n",
    "\n",
    "def valid_fn(valid_loader, model, criterion, device):\n",
    "    batch_time = AverageMeter()\n",
    "    data_time = AverageMeter()\n",
    "    losses = AverageMeter()\n",
    "    scores = AverageMeter()\n",
    "    # switch to evaluation mode\n",
    "    model.eval()\n",
    "    preds = []\n",
    "    start = end = time.time()\n",
    "    for step, (images, labels) in enumerate(valid_loader):\n",
    "        # measure data loading time\n",
    "        data_time.update(time.time() - end)\n",
    "        images = images.to(device)\n",
    "        labels = labels.to(device)\n",
    "        batch_size = labels.size(0)\n",
    "        # compute loss\n",
    "        with torch.no_grad():\n",
    "            y_preds = model(images)\n",
    "        loss = criterion(y_preds, labels)\n",
    "        losses.update(loss.item(), batch_size)\n",
    "        # record accuracy\n",
    "        preds.append(y_preds.softmax(1).to('cpu').numpy())\n",
    "        if CFG.gradient_accumulation_steps > 1:\n",
    "            loss = loss / CFG.gradient_accumulation_steps\n",
    "        # measure elapsed time\n",
    "        batch_time.update(time.time() - end)\n",
    "        end = time.time()\n",
    "        if step % CFG.print_freq == 0 or step == (len(valid_loader)-1):\n",
    "            print('EVAL: [{0}/{1}] '\n",
    "                  'Data {data_time.val:.3f} ({data_time.avg:.3f}) '\n",
    "                  'Elapsed {remain:s} '\n",
    "                  'Loss: {loss.val:.4f}({loss.avg:.4f}) '\n",
    "                  .format(\n",
    "                   step, len(valid_loader), batch_time=batch_time,\n",
    "                   data_time=data_time, loss=losses,\n",
    "                   remain=timeSince(start, float(step+1)/len(valid_loader)),\n",
    "                   ))\n",
    "            \n",
    "    predictions = np.concatenate(preds)\n",
    "    return losses.avg, predictions\n",
    "\n",
    "def inference(model, states, test_loader, device):\n",
    "    model.to(device)\n",
    "    tk0 = tqdm(enumerate(test_loader), total=len(test_loader))\n",
    "    probs = []\n",
    "    for i, (images) in tk0:\n",
    "        images = images.to(device)\n",
    "        avgpreds = []\n",
    "        for state in states:\n",
    "            model.load_state_dict(state['model'])\n",
    "            model.eval()\n",
    "            with torch.no_grad():\n",
    "                y_preds = model(images)\n",
    "            avg_preds.append(y_preds.softmax(1).to('cpu').numpy())\n",
    "        avg_preds = np.mean(avg_preds, axis=0)\n",
    "        probs.append(avg_preds)\n",
    "    probs = np.concatenate(probs)\n",
    "    return probs"
   ]
  },
  {
   "cell_type": "markdown",
   "metadata": {
    "papermill": {
     "duration": 0.032634,
     "end_time": "2020-12-19T10:32:45.657549",
     "exception": false,
     "start_time": "2020-12-19T10:32:45.624915",
     "status": "completed"
    },
    "tags": []
   },
   "source": [
    "## Train loop"
   ]
  },
  {
   "cell_type": "code",
   "execution_count": 17,
   "metadata": {
    "execution": {
     "iopub.execute_input": "2020-12-19T10:32:45.750976Z",
     "iopub.status.busy": "2020-12-19T10:32:45.747282Z",
     "iopub.status.idle": "2020-12-19T10:32:45.753406Z",
     "shell.execute_reply": "2020-12-19T10:32:45.753895Z"
    },
    "papermill": {
     "duration": 0.063565,
     "end_time": "2020-12-19T10:32:45.754034",
     "exception": false,
     "start_time": "2020-12-19T10:32:45.690469",
     "status": "completed"
    },
    "tags": []
   },
   "outputs": [],
   "source": [
    "# ======================================================\n",
    "# Train loop\n",
    "# ======================================================\n",
    "\n",
    "def train_loop(folds, fold):\n",
    "    \n",
    "    LOGGER.info(f'========== fold: {fold} training ============')\n",
    "    \n",
    "    # ======================================================\n",
    "    # loader\n",
    "    # ======================================================\n",
    "    trn_idx = folds[folds['fold'] != fold].index\n",
    "    val_idx = folds[folds['fold'] == fold].index\n",
    "    \n",
    "    train_folds = folds.loc[trn_idx].reset_index(drop=True)\n",
    "    valid_folds = folds.loc[val_idx].reset_index(drop=True)\n",
    "    \n",
    "    train_dataset = TrainDataset(train_folds, \n",
    "                                 transform=get_transforms(data='train'))\n",
    "    valid_dataset = TrainDataset(valid_folds, \n",
    "                                 transform=get_transforms(data='valid'))\n",
    "    \n",
    "    train_loader = DataLoader(train_dataset, \n",
    "                              batch_size=CFG.batch_size, \n",
    "                              shuffle=True, \n",
    "                              num_workers=CFG.num_workers, \n",
    "                              pin_memory=True, \n",
    "                              drop_last=False)\n",
    "    valid_loader = DataLoader(valid_dataset, \n",
    "                              batch_size=CFG.batch_size, \n",
    "                              shuffle=False, \n",
    "                              num_workers=CFG.num_workers, \n",
    "                              pin_memory=True, \n",
    "                              drop_last=False)\n",
    "    \n",
    "    # ===============================================\n",
    "    # scheduler\n",
    "    # ===============================================\n",
    "    def get_scheduler(optimizer):\n",
    "        if CFG.scheduler=='ReduceLROnPlateau':\n",
    "            scheduler = ReduceLROnPlateau(optimizer, mode='min', factor=CFG.factor, patience=CFG.patience, verbose=True, eps=CFG.eps)\n",
    "        elif CFG.scheduler=='CosineAnnealingLR':\n",
    "            scheduler = CosineAnnealingLR(optimizer, T_max=CFG.T_max, eta_min=CFG.min_lr, last_epoch=-1)\n",
    "        elif CFG.scheduler=='CosineAnnealingWarmRestarts':\n",
    "            scheduler = CosineAnnealingWarmRestarts(optimizer, T_0=CFG.T_0, T_mult=1, eta_min=CFG.min_lr, last_epoch=-1)\n",
    "        return scheduler\n",
    "    \n",
    "    # ===============================================\n",
    "    # model & optimizer\n",
    "    # ===============================================\n",
    "    model = CustomResNext(CFG.model_name, pretrained=True)\n",
    "    model.to(device)\n",
    "    \n",
    "    optimizer = optim.AdaBelief(model.parameters(), lr=CFG.lr, weight_decay=CFG.weight_decay, amsgrad=False)\n",
    "#     optimizer = Adam(model.parameters(), lr=CFG.lr, weight_decay=CFG.weight_decay, amsgrad=False)\n",
    "    scheduler = get_scheduler(optimizer)\n",
    "    \n",
    "    # ===============================================\n",
    "    # apex \n",
    "    # ===============================================\n",
    "    if CFG.apex:\n",
    "        model.optimizer = amp.initialize(model, optimizer, opt_level='O1', verbosity=0)\n",
    "        \n",
    "    # ===============================================\n",
    "    # loop\n",
    "    # ===============================================\n",
    "    criterion = nn.CrossEntropyLoss()\n",
    "    \n",
    "    best_score = 0.\n",
    "    best_loss = np.inf\n",
    "    \n",
    "    for epoch in range(CFG.epochs):\n",
    "        \n",
    "        start_time = time.time()\n",
    "        \n",
    "        # train\n",
    "        avg_loss = train_fn(train_loader, model, criterion, optimizer, epoch, scheduler, device)\n",
    "        \n",
    "        # eval\n",
    "        avg_val_loss, preds = valid_fn(valid_loader, model, criterion, device)\n",
    "        valid_labels = valid_folds[CFG.target_col].values\n",
    "        \n",
    "        if isinstance(scheduler, ReduceLROnPlateau):\n",
    "            scheduler.step(avg_val_loss)\n",
    "        elif isinstance(scheduler, CosineAnnealingLR):\n",
    "            scheduler.step()\n",
    "        elif isinstance(scheduler, CosineAnnealingWarmRestarts):\n",
    "            scheduler.step()\n",
    "        \n",
    "        # scoring\n",
    "        score = get_score(valid_labels, preds.argmax(1))\n",
    "        \n",
    "        elapsed = time.time() - start_time\n",
    "        \n",
    "        LOGGER.info(f'Epoch {epoch+1} - avg_train_loss: {avg_loss:.4f} avg_val_loss: {avg_val_loss:.4f} time: {elapsed:.0f}s')\n",
    "        LOGGER.info(f'Epoch {epoch+1} - Accuracy: {score}')\n",
    "        \n",
    "        if score > best_score:\n",
    "            best_score = score\n",
    "            LOGGER.info(f'Epoch {epoch+1} - Save Best Score: {best_score:.4f} Model')\n",
    "            torch.save({'model': model.state_dict(), \n",
    "                        'preds': preds}, \n",
    "                        OUTPUT_DIR+f'{CFG.model_name}_fold{fold}_best.pth')\n",
    "    check_point = torch.load(OUTPUT_DIR+f'{CFG.model_name}_fold{fold}_best.pth')\n",
    "    valid_folds[[str(c) for c in range(5)]] = check_point['preds']\n",
    "    valid_folds['preds'] = check_point['preds'].argmax(1)\n",
    "    \n",
    "    return valid_folds"
   ]
  },
  {
   "cell_type": "code",
   "execution_count": 18,
   "metadata": {
    "execution": {
     "iopub.execute_input": "2020-12-19T10:32:45.831789Z",
     "iopub.status.busy": "2020-12-19T10:32:45.828958Z",
     "iopub.status.idle": "2020-12-19T10:32:45.847520Z",
     "shell.execute_reply": "2020-12-19T10:32:45.848611Z"
    },
    "papermill": {
     "duration": 0.061476,
     "end_time": "2020-12-19T10:32:45.848777",
     "exception": false,
     "start_time": "2020-12-19T10:32:45.787301",
     "status": "completed"
    },
    "tags": []
   },
   "outputs": [],
   "source": [
    "# ====================================================\n",
    "# main\n",
    "# ====================================================\n",
    "def main():\n",
    "    \n",
    "    \"\"\"\n",
    "    Prepare: 1.train 2.test 3.submission 4.folds\n",
    "    \"\"\"\n",
    "    \n",
    "    def get_result(result_df):\n",
    "        preds = result_df['preds'].values\n",
    "        labels = result_df[CFG.target_col].values\n",
    "        score = get_score(labels, preds)\n",
    "        LOGGER.info(f'Score: {score:<.5f}')\n",
    "        \n",
    "    if CFG.train:\n",
    "        # train\n",
    "        oof_df = pd.DataFrame()\n",
    "        for fold in range(CFG.n_fold):\n",
    "            if fold in CFG.trn_fold:\n",
    "                _oof_df = train_loop(folds, fold)\n",
    "                oof_df = pd.concat([oof_df, _oof_df])\n",
    "                LOGGER.info(f'=============== fold: {fold} result ================')\n",
    "                get_result(_oof_df)\n",
    "        # CV result\n",
    "        LOGGER.info(f'============ CV ============')\n",
    "        get_result(oof_df)\n",
    "        # save result\n",
    "        oof_df.to_csv(OUTPUT_DIR+'oof_df.csv', index=False)\n",
    "        \n",
    "    if CFG.inference:\n",
    "        # inference\n",
    "        model = CustomResNext(CFG.model_name, pretrained=False)\n",
    "        states = [torch.load(OUTPUT_DIR+f'{CFG.model_name}_fold{fold}_best.pth') for fold in CFG.trn_fold]\n",
    "        test_dataset = TestDataset(test, batch_size=CFG.batch_size, shuffle=False, pin_memory=True)\n",
    "        predictions = inference(model, states, test_loader, device)\n",
    "        # submission\n",
    "        test['label'] = predictions.argmax(1)\n",
    "        test[['image_id', 'label']].to_csv(OUTPUT_DIR+'submission.csv', index=False)"
   ]
  },
  {
   "cell_type": "code",
   "execution_count": 19,
   "metadata": {
    "execution": {
     "iopub.execute_input": "2020-12-19T10:32:45.948818Z",
     "iopub.status.busy": "2020-12-19T10:32:45.947984Z",
     "iopub.status.idle": "2020-12-19T14:03:02.634983Z",
     "shell.execute_reply": "2020-12-19T14:03:02.634390Z"
    },
    "papermill": {
     "duration": 12616.734931,
     "end_time": "2020-12-19T14:03:02.635128",
     "exception": false,
     "start_time": "2020-12-19T10:32:45.900197",
     "status": "completed"
    },
    "tags": []
   },
   "outputs": [
    {
     "name": "stderr",
     "output_type": "stream",
     "text": [
      "========== fold: 0 training ============\n",
      "Downloading: \"https://github.com/rwightman/pytorch-image-models/releases/download/v0.1-weights/resnext50_32x4d_ra-d733960d.pth\" to /root/.cache/torch/hub/checkpoints/resnext50_32x4d_ra-d733960d.pth\n"
     ]
    },
    {
     "name": "stdout",
     "output_type": "stream",
     "text": [
      "Epoch: [1][0/535]Data 1.534 (1.534)Elapsed 0m 3s (remain 29m 44s)Loss: 1.5510(1.5510)Grad: 8.2122  \n",
      "Epoch: [1][100/535]Data 0.000 (0.016)Elapsed 0m 42s (remain 3m 3s)Loss: 0.7697(0.9443)Grad: 9.3608  \n",
      "Epoch: [1][200/535]Data 0.000 (0.008)Elapsed 1m 23s (remain 2m 18s)Loss: 0.3441(0.8017)Grad: 5.0453  \n",
      "Epoch: [1][300/535]Data 0.004 (0.006)Elapsed 2m 4s (remain 1m 36s)Loss: 0.4582(0.7314)Grad: 7.9780  \n",
      "Epoch: [1][400/535]Data 0.000 (0.004)Elapsed 2m 45s (remain 0m 55s)Loss: 0.4888(0.6860)Grad: 6.6764  \n",
      "Epoch: [1][500/535]Data 0.000 (0.004)Elapsed 3m 25s (remain 0m 13s)Loss: 0.4212(0.6560)Grad: 9.2764  \n",
      "Epoch: [1][534/535]Data 0.000 (0.003)Elapsed 3m 39s (remain 0m 0s)Loss: 0.5786(0.6503)Grad: 7.0115  \n",
      "EVAL: [0/134] Data 1.538 (1.538) Elapsed 0m 1s (remain 3m 38s) Loss: 0.6209(0.6209) \n",
      "EVAL: [100/134] Data 0.706 (0.205) Elapsed 0m 30s (remain 0m 9s) Loss: 0.5761(0.4996) \n"
     ]
    },
    {
     "name": "stderr",
     "output_type": "stream",
     "text": [
      "Epoch 1 - avg_train_loss: 0.6503 avg_val_loss: 0.4983 time: 258s\n",
      "Epoch 1 - Accuracy: 0.8301401869158879\n",
      "Epoch 1 - Save Best Score: 0.8301 Model\n"
     ]
    },
    {
     "name": "stdout",
     "output_type": "stream",
     "text": [
      "EVAL: [133/134] Data 0.000 (0.194) Elapsed 0m 38s (remain 0m 0s) Loss: 0.6900(0.4983) \n",
      "Epoch: [2][0/535]Data 1.159 (1.159)Elapsed 0m 1s (remain 14m 9s)Loss: 0.6030(0.6030)Grad: 9.3552  \n",
      "Epoch: [2][100/535]Data 0.000 (0.012)Elapsed 0m 41s (remain 2m 57s)Loss: 0.2495(0.4883)Grad: 5.6045  \n",
      "Epoch: [2][200/535]Data 0.000 (0.006)Elapsed 1m 19s (remain 2m 12s)Loss: 0.5938(0.4904)Grad: 9.7870  \n",
      "Epoch: [2][300/535]Data 0.000 (0.004)Elapsed 1m 59s (remain 1m 32s)Loss: 0.5032(0.4802)Grad: 7.0368  \n",
      "Epoch: [2][400/535]Data 0.000 (0.003)Elapsed 2m 37s (remain 0m 52s)Loss: 0.4394(0.4806)Grad: 6.3004  \n",
      "Epoch: [2][500/535]Data 0.004 (0.003)Elapsed 3m 15s (remain 0m 13s)Loss: 0.5443(0.4857)Grad: 7.4457  \n",
      "Epoch: [2][534/535]Data 0.000 (0.003)Elapsed 3m 28s (remain 0m 0s)Loss: 0.6821(0.4830)Grad: 9.3569  \n",
      "EVAL: [0/134] Data 1.159 (1.159) Elapsed 0m 1s (remain 2m 46s) Loss: 0.6237(0.6237) \n",
      "EVAL: [100/134] Data 0.616 (0.182) Elapsed 0m 28s (remain 0m 9s) Loss: 0.4596(0.4434) \n"
     ]
    },
    {
     "name": "stderr",
     "output_type": "stream",
     "text": [
      "Epoch 2 - avg_train_loss: 0.4830 avg_val_loss: 0.4434 time: 245s\n",
      "Epoch 2 - Accuracy: 0.8504672897196262\n",
      "Epoch 2 - Save Best Score: 0.8505 Model\n"
     ]
    },
    {
     "name": "stdout",
     "output_type": "stream",
     "text": [
      "EVAL: [133/134] Data 0.000 (0.174) Elapsed 0m 36s (remain 0m 0s) Loss: 0.7808(0.4434) \n",
      "Epoch: [3][0/535]Data 1.230 (1.230)Elapsed 0m 1s (remain 14m 56s)Loss: 0.2225(0.2225)Grad: 4.1102  \n",
      "Epoch: [3][100/535]Data 0.000 (0.013)Elapsed 0m 41s (remain 2m 56s)Loss: 0.4742(0.4304)Grad: 6.3389  \n",
      "Epoch: [3][200/535]Data 0.000 (0.007)Elapsed 1m 19s (remain 2m 11s)Loss: 0.4080(0.4446)Grad: 5.8582  \n",
      "Epoch: [3][300/535]Data 0.000 (0.005)Elapsed 1m 58s (remain 1m 32s)Loss: 0.3556(0.4568)Grad: 4.7537  \n",
      "Epoch: [3][400/535]Data 0.000 (0.003)Elapsed 2m 37s (remain 0m 52s)Loss: 0.3291(0.4514)Grad: 7.4331  \n",
      "Epoch: [3][500/535]Data 0.000 (0.003)Elapsed 3m 16s (remain 0m 13s)Loss: 0.4212(0.4494)Grad: 7.2536  \n",
      "Epoch: [3][534/535]Data 0.000 (0.003)Elapsed 3m 29s (remain 0m 0s)Loss: 0.4855(0.4490)Grad: 6.8828  \n",
      "EVAL: [0/134] Data 0.954 (0.954) Elapsed 0m 1s (remain 2m 19s) Loss: 0.5929(0.5929) \n",
      "EVAL: [100/134] Data 0.353 (0.174) Elapsed 0m 27s (remain 0m 8s) Loss: 0.4968(0.4283) \n"
     ]
    },
    {
     "name": "stderr",
     "output_type": "stream",
     "text": [
      "Epoch 3 - avg_train_loss: 0.4490 avg_val_loss: 0.4271 time: 244s\n",
      "Epoch 3 - Accuracy: 0.8551401869158879\n",
      "Epoch 3 - Save Best Score: 0.8551 Model\n"
     ]
    },
    {
     "name": "stdout",
     "output_type": "stream",
     "text": [
      "EVAL: [133/134] Data 0.000 (0.164) Elapsed 0m 34s (remain 0m 0s) Loss: 0.8098(0.4271) \n",
      "Epoch: [4][0/535]Data 1.498 (1.498)Elapsed 0m 1s (remain 17m 22s)Loss: 0.5614(0.5614)Grad: 6.6537  \n",
      "Epoch: [4][100/535]Data 0.000 (0.015)Elapsed 0m 41s (remain 2m 56s)Loss: 0.4740(0.4204)Grad: 7.1665  \n",
      "Epoch: [4][200/535]Data 0.000 (0.008)Elapsed 1m 19s (remain 2m 12s)Loss: 0.6707(0.4325)Grad: 9.2623  \n",
      "Epoch: [4][300/535]Data 0.000 (0.006)Elapsed 1m 58s (remain 1m 32s)Loss: 0.3095(0.4299)Grad: 7.4404  \n",
      "Epoch: [4][400/535]Data 0.000 (0.004)Elapsed 2m 39s (remain 0m 53s)Loss: 0.3069(0.4208)Grad: 5.8452  \n",
      "Epoch: [4][500/535]Data 0.000 (0.004)Elapsed 3m 18s (remain 0m 13s)Loss: 0.5268(0.4236)Grad: 6.9847  \n",
      "Epoch: [4][534/535]Data 0.000 (0.004)Elapsed 3m 32s (remain 0m 0s)Loss: 0.2308(0.4193)Grad: 4.9331  \n",
      "EVAL: [0/134] Data 1.258 (1.258) Elapsed 0m 1s (remain 2m 59s) Loss: 0.6109(0.6109) \n",
      "EVAL: [100/134] Data 0.518 (0.182) Elapsed 0m 28s (remain 0m 9s) Loss: 0.4281(0.4251) \n"
     ]
    },
    {
     "name": "stderr",
     "output_type": "stream",
     "text": [
      "Epoch 4 - avg_train_loss: 0.4193 avg_val_loss: 0.4208 time: 249s\n",
      "Epoch 4 - Accuracy: 0.8539719626168224\n"
     ]
    },
    {
     "name": "stdout",
     "output_type": "stream",
     "text": [
      "EVAL: [133/134] Data 0.000 (0.176) Elapsed 0m 36s (remain 0m 0s) Loss: 0.6938(0.4208) \n",
      "Epoch: [5][0/535]Data 1.244 (1.244)Elapsed 0m 1s (remain 14m 51s)Loss: 0.3566(0.3566)Grad: 8.0072  \n",
      "Epoch: [5][100/535]Data 0.000 (0.013)Elapsed 0m 41s (remain 2m 58s)Loss: 0.2269(0.3803)Grad: 5.5784  \n",
      "Epoch: [5][200/535]Data 0.000 (0.007)Elapsed 1m 21s (remain 2m 14s)Loss: 0.6907(0.3911)Grad: 8.3506  \n",
      "Epoch: [5][300/535]Data 0.000 (0.005)Elapsed 2m 0s (remain 1m 33s)Loss: 0.5380(0.4026)Grad: 6.7767  \n",
      "Epoch: [5][400/535]Data 0.000 (0.004)Elapsed 2m 40s (remain 0m 53s)Loss: 0.5465(0.4001)Grad: 6.1339  \n",
      "Epoch: [5][500/535]Data 0.000 (0.003)Elapsed 3m 20s (remain 0m 13s)Loss: 0.3352(0.3993)Grad: 5.5952  \n",
      "Epoch: [5][534/535]Data 0.000 (0.003)Elapsed 3m 33s (remain 0m 0s)Loss: 0.1852(0.3977)Grad: 3.8192  \n",
      "EVAL: [0/134] Data 1.169 (1.169) Elapsed 0m 1s (remain 2m 48s) Loss: 0.5400(0.5400) \n",
      "EVAL: [100/134] Data 0.131 (0.172) Elapsed 0m 26s (remain 0m 8s) Loss: 0.5832(0.4237) \n"
     ]
    },
    {
     "name": "stderr",
     "output_type": "stream",
     "text": [
      "Epoch 5 - avg_train_loss: 0.3977 avg_val_loss: 0.4187 time: 249s\n",
      "Epoch 5 - Accuracy: 0.8542056074766355\n"
     ]
    },
    {
     "name": "stdout",
     "output_type": "stream",
     "text": [
      "EVAL: [133/134] Data 0.066 (0.174) Elapsed 0m 35s (remain 0m 0s) Loss: 0.6935(0.4187) \n",
      "Epoch: [6][0/535]Data 1.284 (1.284)Elapsed 0m 1s (remain 15m 27s)Loss: 0.2785(0.2785)Grad: 5.1705  \n",
      "Epoch: [6][100/535]Data 0.003 (0.014)Elapsed 0m 41s (remain 2m 58s)Loss: 0.4648(0.3546)Grad: 6.7878  \n",
      "Epoch: [6][200/535]Data 0.000 (0.007)Elapsed 1m 20s (remain 2m 14s)Loss: 0.4844(0.3604)Grad: 8.5297  \n",
      "Epoch: [6][300/535]Data 0.000 (0.005)Elapsed 1m 59s (remain 1m 32s)Loss: 0.5304(0.3615)Grad: 7.4932  \n",
      "Epoch: [6][400/535]Data 0.000 (0.004)Elapsed 2m 39s (remain 0m 53s)Loss: 0.3757(0.3706)Grad: 5.6041  \n",
      "Epoch: [6][500/535]Data 0.000 (0.003)Elapsed 3m 19s (remain 0m 13s)Loss: 0.3989(0.3752)Grad: 6.3104  \n",
      "Epoch: [6][534/535]Data 0.000 (0.003)Elapsed 3m 31s (remain 0m 0s)Loss: 0.6035(0.3781)Grad: 10.0791  \n",
      "EVAL: [0/134] Data 0.978 (0.978) Elapsed 0m 1s (remain 2m 22s) Loss: 0.6553(0.6553) \n",
      "EVAL: [100/134] Data 0.419 (0.181) Elapsed 0m 27s (remain 0m 9s) Loss: 0.4356(0.3998) \n"
     ]
    },
    {
     "name": "stderr",
     "output_type": "stream",
     "text": [
      "Epoch 6 - avg_train_loss: 0.3781 avg_val_loss: 0.3948 time: 249s\n",
      "Epoch 6 - Accuracy: 0.8714953271028038\n",
      "Epoch 6 - Save Best Score: 0.8715 Model\n"
     ]
    },
    {
     "name": "stdout",
     "output_type": "stream",
     "text": [
      "EVAL: [133/134] Data 0.000 (0.179) Elapsed 0m 36s (remain 0m 0s) Loss: 0.6215(0.3948) \n",
      "Epoch: [7][0/535]Data 1.461 (1.461)Elapsed 0m 2s (remain 17m 49s)Loss: 0.4018(0.4018)Grad: 6.5743  \n",
      "Epoch: [7][100/535]Data 0.002 (0.015)Elapsed 0m 41s (remain 2m 56s)Loss: 0.2051(0.3625)Grad: 4.0426  \n",
      "Epoch: [7][200/535]Data 0.005 (0.008)Elapsed 1m 21s (remain 2m 15s)Loss: 0.3068(0.3661)Grad: 6.5344  \n",
      "Epoch: [7][300/535]Data 0.000 (0.005)Elapsed 2m 0s (remain 1m 33s)Loss: 0.3848(0.3640)Grad: 7.2999  \n",
      "Epoch: [7][400/535]Data 0.000 (0.004)Elapsed 2m 39s (remain 0m 53s)Loss: 0.2936(0.3667)Grad: 5.9294  \n",
      "Epoch: [7][500/535]Data 0.000 (0.004)Elapsed 3m 18s (remain 0m 13s)Loss: 0.2163(0.3661)Grad: 5.2213  \n",
      "Epoch: [7][534/535]Data 0.000 (0.003)Elapsed 3m 31s (remain 0m 0s)Loss: 0.2653(0.3655)Grad: 5.3195  \n",
      "EVAL: [0/134] Data 1.156 (1.156) Elapsed 0m 1s (remain 2m 45s) Loss: 0.6330(0.6330) \n",
      "EVAL: [100/134] Data 0.295 (0.181) Elapsed 0m 27s (remain 0m 9s) Loss: 0.4753(0.4022) \n"
     ]
    },
    {
     "name": "stderr",
     "output_type": "stream",
     "text": [
      "Epoch 7 - avg_train_loss: 0.3655 avg_val_loss: 0.4010 time: 249s\n",
      "Epoch 7 - Accuracy: 0.8649532710280374\n"
     ]
    },
    {
     "name": "stdout",
     "output_type": "stream",
     "text": [
      "EVAL: [133/134] Data 0.000 (0.179) Elapsed 0m 36s (remain 0m 0s) Loss: 0.6837(0.4010) \n",
      "Epoch: [8][0/535]Data 1.255 (1.255)Elapsed 0m 1s (remain 15m 16s)Loss: 0.3183(0.3183)Grad: 5.6249  \n",
      "Epoch: [8][100/535]Data 0.000 (0.013)Elapsed 0m 40s (remain 2m 55s)Loss: 0.3940(0.3371)Grad: 7.9583  \n",
      "Epoch: [8][200/535]Data 0.000 (0.007)Elapsed 1m 20s (remain 2m 13s)Loss: 0.3045(0.3345)Grad: 5.5784  \n",
      "Epoch: [8][300/535]Data 0.000 (0.005)Elapsed 1m 59s (remain 1m 32s)Loss: 0.3819(0.3414)Grad: 6.5036  \n",
      "Epoch: [8][400/535]Data 0.000 (0.004)Elapsed 2m 37s (remain 0m 52s)Loss: 0.3467(0.3441)Grad: 7.5167  \n",
      "Epoch: [8][500/535]Data 0.000 (0.003)Elapsed 3m 17s (remain 0m 13s)Loss: 0.3652(0.3457)Grad: 7.2635  \n",
      "Epoch: [8][534/535]Data 0.000 (0.003)Elapsed 3m 30s (remain 0m 0s)Loss: 0.1591(0.3494)Grad: 3.7970  \n",
      "EVAL: [0/134] Data 1.175 (1.175) Elapsed 0m 1s (remain 2m 48s) Loss: 0.6067(0.6067) \n",
      "EVAL: [100/134] Data 0.744 (0.192) Elapsed 0m 29s (remain 0m 9s) Loss: 0.5024(0.4111) \n"
     ]
    },
    {
     "name": "stderr",
     "output_type": "stream",
     "text": [
      "Epoch 8 - avg_train_loss: 0.3494 avg_val_loss: 0.4071 time: 247s\n",
      "Epoch 8 - Accuracy: 0.8649532710280374\n"
     ]
    },
    {
     "name": "stdout",
     "output_type": "stream",
     "text": [
      "EVAL: [133/134] Data 0.000 (0.179) Elapsed 0m 36s (remain 0m 0s) Loss: 0.6491(0.4071) \n",
      "Epoch: [9][0/535]Data 1.353 (1.353)Elapsed 0m 1s (remain 16m 15s)Loss: 0.4604(0.4604)Grad: 7.1202  \n",
      "Epoch: [9][100/535]Data 0.000 (0.014)Elapsed 0m 41s (remain 2m 58s)Loss: 0.4771(0.3440)Grad: 8.1941  \n",
      "Epoch: [9][200/535]Data 0.000 (0.007)Elapsed 1m 21s (remain 2m 14s)Loss: 0.2908(0.3380)Grad: 6.2950  \n",
      "Epoch: [9][300/535]Data 0.000 (0.005)Elapsed 2m 0s (remain 1m 33s)Loss: 0.3847(0.3440)Grad: 6.8558  \n",
      "Epoch: [9][400/535]Data 0.000 (0.004)Elapsed 2m 39s (remain 0m 53s)Loss: 0.4235(0.3444)Grad: 7.4481  \n",
      "Epoch: [9][500/535]Data 0.001 (0.003)Elapsed 3m 18s (remain 0m 13s)Loss: 0.3038(0.3394)Grad: 5.2066  \n",
      "Epoch: [9][534/535]Data 0.000 (0.003)Elapsed 3m 31s (remain 0m 0s)Loss: 0.2915(0.3415)Grad: 6.0273  \n",
      "EVAL: [0/134] Data 1.036 (1.036) Elapsed 0m 1s (remain 2m 29s) Loss: 0.6408(0.6408) \n",
      "EVAL: [100/134] Data 0.507 (0.185) Elapsed 0m 28s (remain 0m 9s) Loss: 0.4478(0.4036) \n"
     ]
    },
    {
     "name": "stderr",
     "output_type": "stream",
     "text": [
      "Epoch 9 - avg_train_loss: 0.3415 avg_val_loss: 0.3989 time: 248s\n",
      "Epoch 9 - Accuracy: 0.8675233644859813\n"
     ]
    },
    {
     "name": "stdout",
     "output_type": "stream",
     "text": [
      "EVAL: [133/134] Data 0.039 (0.177) Elapsed 0m 36s (remain 0m 0s) Loss: 0.6955(0.3989) \n",
      "Epoch: [10][0/535]Data 1.222 (1.222)Elapsed 0m 1s (remain 14m 49s)Loss: 0.2637(0.2637)Grad: 4.3662  \n",
      "Epoch: [10][100/535]Data 0.000 (0.013)Elapsed 0m 41s (remain 2m 57s)Loss: 0.4150(0.3207)Grad: 9.0367  \n",
      "Epoch: [10][200/535]Data 0.000 (0.007)Elapsed 1m 19s (remain 2m 12s)Loss: 0.3416(0.3265)Grad: 6.8338  \n",
      "Epoch: [10][300/535]Data 0.000 (0.004)Elapsed 1m 59s (remain 1m 32s)Loss: 0.1977(0.3240)Grad: 4.9132  \n",
      "Epoch: [10][400/535]Data 0.000 (0.004)Elapsed 2m 38s (remain 0m 53s)Loss: 0.3105(0.3302)Grad: 5.9266  \n",
      "Epoch: [10][500/535]Data 0.000 (0.003)Elapsed 3m 17s (remain 0m 13s)Loss: 0.2048(0.3284)Grad: 4.6478  \n",
      "Epoch: [10][534/535]Data 0.000 (0.003)Elapsed 3m 30s (remain 0m 0s)Loss: 0.3145(0.3291)Grad: 7.6065  \n",
      "EVAL: [0/134] Data 1.104 (1.104) Elapsed 0m 1s (remain 2m 38s) Loss: 0.6385(0.6385) \n",
      "EVAL: [100/134] Data 0.361 (0.179) Elapsed 0m 27s (remain 0m 9s) Loss: 0.4699(0.4060) \n"
     ]
    },
    {
     "name": "stderr",
     "output_type": "stream",
     "text": [
      "Epoch 10 - avg_train_loss: 0.3291 avg_val_loss: 0.4003 time: 246s\n",
      "Epoch 10 - Accuracy: 0.8689252336448599\n",
      "=============== fold: 0 result ================\n",
      "Score: 0.87150\n",
      "========== fold: 1 training ============\n"
     ]
    },
    {
     "name": "stdout",
     "output_type": "stream",
     "text": [
      "EVAL: [133/134] Data 0.000 (0.169) Elapsed 0m 35s (remain 0m 0s) Loss: 0.6665(0.4003) \n",
      "Epoch: [1][0/535]Data 1.573 (1.573)Elapsed 0m 2s (remain 18m 9s)Loss: 1.5998(1.5998)Grad: 7.6188  \n",
      "Epoch: [1][100/535]Data 0.000 (0.017)Elapsed 0m 41s (remain 2m 59s)Loss: 0.7579(0.9359)Grad: 8.4380  \n",
      "Epoch: [1][200/535]Data 0.000 (0.009)Elapsed 1m 20s (remain 2m 13s)Loss: 0.5181(0.8114)Grad: 6.4315  \n",
      "Epoch: [1][300/535]Data 0.000 (0.006)Elapsed 1m 59s (remain 1m 32s)Loss: 0.4076(0.7385)Grad: 5.5745  \n",
      "Epoch: [1][400/535]Data 0.000 (0.005)Elapsed 2m 38s (remain 0m 53s)Loss: 0.5873(0.6960)Grad: 7.8168  \n",
      "Epoch: [1][500/535]Data 0.000 (0.004)Elapsed 3m 17s (remain 0m 13s)Loss: 0.4645(0.6596)Grad: 9.5272  \n",
      "Epoch: [1][534/535]Data 0.000 (0.004)Elapsed 3m 30s (remain 0m 0s)Loss: 0.8253(0.6509)Grad: 9.6160  \n",
      "EVAL: [0/134] Data 1.238 (1.238) Elapsed 0m 1s (remain 2m 56s) Loss: 0.4768(0.4768) \n",
      "EVAL: [100/134] Data 0.474 (0.176) Elapsed 0m 27s (remain 0m 8s) Loss: 0.4919(0.4662) \n"
     ]
    },
    {
     "name": "stderr",
     "output_type": "stream",
     "text": [
      "Epoch 1 - avg_train_loss: 0.6509 avg_val_loss: 0.4676 time: 246s\n",
      "Epoch 1 - Accuracy: 0.8399532710280374\n",
      "Epoch 1 - Save Best Score: 0.8400 Model\n"
     ]
    },
    {
     "name": "stdout",
     "output_type": "stream",
     "text": [
      "EVAL: [133/134] Data 0.000 (0.168) Elapsed 0m 35s (remain 0m 0s) Loss: 0.2305(0.4676) \n",
      "Epoch: [2][0/535]Data 1.268 (1.268)Elapsed 0m 1s (remain 15m 13s)Loss: 0.3821(0.3821)Grad: 6.2733  \n",
      "Epoch: [2][100/535]Data 0.002 (0.013)Elapsed 0m 41s (remain 2m 56s)Loss: 0.4499(0.5224)Grad: 7.3203  \n",
      "Epoch: [2][200/535]Data 0.000 (0.007)Elapsed 1m 20s (remain 2m 12s)Loss: 0.4724(0.5070)Grad: 5.9726  \n",
      "Epoch: [2][300/535]Data 0.000 (0.005)Elapsed 1m 59s (remain 1m 32s)Loss: 0.2968(0.4907)Grad: 4.8173  \n",
      "Epoch: [2][400/535]Data 0.000 (0.004)Elapsed 2m 38s (remain 0m 52s)Loss: 0.3003(0.4838)Grad: 6.5964  \n",
      "Epoch: [2][500/535]Data 0.003 (0.003)Elapsed 3m 17s (remain 0m 13s)Loss: 0.5775(0.4858)Grad: 7.6471  \n",
      "Epoch: [2][534/535]Data 0.000 (0.003)Elapsed 3m 30s (remain 0m 0s)Loss: 0.5873(0.4871)Grad: 8.4964  \n",
      "EVAL: [0/134] Data 1.886 (1.886) Elapsed 0m 1s (remain 4m 22s) Loss: 0.3474(0.3474) \n",
      "EVAL: [100/134] Data 0.934 (0.192) Elapsed 0m 28s (remain 0m 9s) Loss: 0.3085(0.4114) \n"
     ]
    },
    {
     "name": "stderr",
     "output_type": "stream",
     "text": [
      "Epoch 2 - avg_train_loss: 0.4871 avg_val_loss: 0.4134 time: 248s\n",
      "Epoch 2 - Accuracy: 0.8558411214953271\n",
      "Epoch 2 - Save Best Score: 0.8558 Model\n"
     ]
    },
    {
     "name": "stdout",
     "output_type": "stream",
     "text": [
      "EVAL: [133/134] Data 0.000 (0.183) Elapsed 0m 37s (remain 0m 0s) Loss: 0.0926(0.4134) \n",
      "Epoch: [3][0/535]Data 1.395 (1.395)Elapsed 0m 1s (remain 16m 32s)Loss: 0.4710(0.4710)Grad: 6.5236  \n",
      "Epoch: [3][100/535]Data 0.000 (0.015)Elapsed 0m 41s (remain 2m 58s)Loss: 0.4281(0.4540)Grad: 6.0442  \n",
      "Epoch: [3][200/535]Data 0.000 (0.008)Elapsed 1m 20s (remain 2m 14s)Loss: 0.7127(0.4539)Grad: 9.6271  \n",
      "Epoch: [3][300/535]Data 0.000 (0.005)Elapsed 1m 59s (remain 1m 32s)Loss: 0.3620(0.4514)Grad: 5.4541  \n",
      "Epoch: [3][400/535]Data 0.000 (0.004)Elapsed 2m 40s (remain 0m 53s)Loss: 0.2105(0.4493)Grad: 3.9985  \n",
      "Epoch: [3][500/535]Data 0.000 (0.003)Elapsed 3m 19s (remain 0m 13s)Loss: 0.3207(0.4496)Grad: 6.3346  \n",
      "Epoch: [3][534/535]Data 0.000 (0.003)Elapsed 3m 32s (remain 0m 0s)Loss: 0.4096(0.4479)Grad: 6.6910  \n",
      "EVAL: [0/134] Data 1.130 (1.130) Elapsed 0m 1s (remain 2m 42s) Loss: 0.3174(0.3174) \n",
      "EVAL: [100/134] Data 0.696 (0.178) Elapsed 0m 27s (remain 0m 9s) Loss: 0.3569(0.3910) \n"
     ]
    },
    {
     "name": "stderr",
     "output_type": "stream",
     "text": [
      "Epoch 3 - avg_train_loss: 0.4479 avg_val_loss: 0.3899 time: 248s\n",
      "Epoch 3 - Accuracy: 0.8677570093457944\n",
      "Epoch 3 - Save Best Score: 0.8678 Model\n"
     ]
    },
    {
     "name": "stdout",
     "output_type": "stream",
     "text": [
      "EVAL: [133/134] Data 0.000 (0.167) Elapsed 0m 35s (remain 0m 0s) Loss: 0.1015(0.3899) \n",
      "Epoch: [4][0/535]Data 1.638 (1.638)Elapsed 0m 2s (remain 18m 14s)Loss: 0.3057(0.3057)Grad: 5.8114  \n",
      "Epoch: [4][100/535]Data 0.000 (0.017)Elapsed 0m 42s (remain 3m 0s)Loss: 0.3351(0.4298)Grad: 4.8032  \n",
      "Epoch: [4][200/535]Data 0.000 (0.009)Elapsed 1m 21s (remain 2m 15s)Loss: 0.3644(0.4189)Grad: 6.0736  \n",
      "Epoch: [4][300/535]Data 0.004 (0.006)Elapsed 1m 59s (remain 1m 33s)Loss: 0.3481(0.4264)Grad: 6.3699  \n",
      "Epoch: [4][400/535]Data 0.000 (0.005)Elapsed 2m 39s (remain 0m 53s)Loss: 0.5590(0.4213)Grad: 8.0093  \n",
      "Epoch: [4][500/535]Data 0.000 (0.004)Elapsed 3m 18s (remain 0m 13s)Loss: 0.6285(0.4257)Grad: 8.0118  \n",
      "Epoch: [4][534/535]Data 0.000 (0.004)Elapsed 3m 31s (remain 0m 0s)Loss: 0.5221(0.4240)Grad: 7.1220  \n",
      "EVAL: [0/134] Data 1.108 (1.108) Elapsed 0m 1s (remain 2m 39s) Loss: 0.2495(0.2495) \n",
      "EVAL: [100/134] Data 1.307 (0.176) Elapsed 0m 27s (remain 0m 8s) Loss: 0.3749(0.3879) \n"
     ]
    },
    {
     "name": "stderr",
     "output_type": "stream",
     "text": [
      "Epoch 4 - avg_train_loss: 0.4240 avg_val_loss: 0.3890 time: 247s\n",
      "Epoch 4 - Accuracy: 0.866822429906542\n"
     ]
    },
    {
     "name": "stdout",
     "output_type": "stream",
     "text": [
      "EVAL: [133/134] Data 0.000 (0.170) Elapsed 0m 35s (remain 0m 0s) Loss: 0.0645(0.3890) \n",
      "Epoch: [5][0/535]Data 1.391 (1.391)Elapsed 0m 1s (remain 16m 25s)Loss: 0.1408(0.1408)Grad: 2.7069  \n",
      "Epoch: [5][100/535]Data 0.000 (0.014)Elapsed 0m 40s (remain 2m 54s)Loss: 0.4397(0.4048)Grad: 6.6075  \n",
      "Epoch: [5][200/535]Data 0.004 (0.008)Elapsed 1m 20s (remain 2m 13s)Loss: 0.4092(0.4033)Grad: 6.6975  \n",
      "Epoch: [5][300/535]Data 0.000 (0.005)Elapsed 2m 0s (remain 1m 33s)Loss: 0.3934(0.4049)Grad: 6.3997  \n",
      "Epoch: [5][400/535]Data 0.000 (0.004)Elapsed 2m 40s (remain 0m 53s)Loss: 0.4248(0.4007)Grad: 5.7899  \n",
      "Epoch: [5][500/535]Data 0.000 (0.003)Elapsed 3m 20s (remain 0m 13s)Loss: 0.1699(0.3953)Grad: 3.0803  \n",
      "Epoch: [5][534/535]Data 0.000 (0.003)Elapsed 3m 33s (remain 0m 0s)Loss: 0.5778(0.3962)Grad: 6.3353  \n",
      "EVAL: [0/134] Data 1.192 (1.192) Elapsed 0m 1s (remain 2m 51s) Loss: 0.3399(0.3399) \n",
      "EVAL: [100/134] Data 0.000 (0.181) Elapsed 0m 28s (remain 0m 9s) Loss: 0.2604(0.3633) \n"
     ]
    },
    {
     "name": "stderr",
     "output_type": "stream",
     "text": [
      "Epoch 5 - avg_train_loss: 0.3962 avg_val_loss: 0.3626 time: 249s\n",
      "Epoch 5 - Accuracy: 0.8775700934579439\n",
      "Epoch 5 - Save Best Score: 0.8776 Model\n"
     ]
    },
    {
     "name": "stdout",
     "output_type": "stream",
     "text": [
      "EVAL: [133/134] Data 0.074 (0.174) Elapsed 0m 36s (remain 0m 0s) Loss: 0.0865(0.3626) \n",
      "Epoch: [6][0/535]Data 1.311 (1.311)Elapsed 0m 1s (remain 15m 41s)Loss: 0.3063(0.3063)Grad: 6.1691  \n",
      "Epoch: [6][100/535]Data 0.000 (0.014)Elapsed 0m 41s (remain 2m 57s)Loss: 0.3994(0.3758)Grad: 6.1216  \n",
      "Epoch: [6][200/535]Data 0.011 (0.007)Elapsed 1m 21s (remain 2m 15s)Loss: 0.1506(0.3781)Grad: 4.0753  \n",
      "Epoch: [6][300/535]Data 0.000 (0.005)Elapsed 2m 1s (remain 1m 34s)Loss: 0.4233(0.3792)Grad: 7.1476  \n",
      "Epoch: [6][400/535]Data 0.000 (0.004)Elapsed 2m 39s (remain 0m 53s)Loss: 0.2012(0.3805)Grad: 4.7662  \n",
      "Epoch: [6][500/535]Data 0.000 (0.003)Elapsed 3m 19s (remain 0m 13s)Loss: 0.5759(0.3817)Grad: 7.2321  \n",
      "Epoch: [6][534/535]Data 0.000 (0.003)Elapsed 3m 32s (remain 0m 0s)Loss: 0.2251(0.3814)Grad: 5.6070  \n",
      "EVAL: [0/134] Data 1.496 (1.496) Elapsed 0m 1s (remain 3m 31s) Loss: 0.3094(0.3094) \n",
      "EVAL: [100/134] Data 0.587 (0.189) Elapsed 0m 28s (remain 0m 9s) Loss: 0.2465(0.3522) \n"
     ]
    },
    {
     "name": "stderr",
     "output_type": "stream",
     "text": [
      "Epoch 6 - avg_train_loss: 0.3814 avg_val_loss: 0.3530 time: 249s\n",
      "Epoch 6 - Accuracy: 0.8822429906542056\n",
      "Epoch 6 - Save Best Score: 0.8822 Model\n"
     ]
    },
    {
     "name": "stdout",
     "output_type": "stream",
     "text": [
      "EVAL: [133/134] Data 0.000 (0.177) Elapsed 0m 36s (remain 0m 0s) Loss: 0.0472(0.3530) \n",
      "Epoch: [7][0/535]Data 1.216 (1.216)Elapsed 0m 1s (remain 14m 30s)Loss: 0.3883(0.3883)Grad: 6.4136  \n",
      "Epoch: [7][100/535]Data 0.000 (0.013)Elapsed 0m 41s (remain 2m 57s)Loss: 0.2959(0.3505)Grad: 6.5739  \n",
      "Epoch: [7][200/535]Data 0.000 (0.007)Elapsed 1m 20s (remain 2m 13s)Loss: 0.4860(0.3568)Grad: 7.2682  \n",
      "Epoch: [7][300/535]Data 0.004 (0.005)Elapsed 2m 0s (remain 1m 33s)Loss: 0.5762(0.3562)Grad: 8.3270  \n",
      "Epoch: [7][400/535]Data 0.005 (0.004)Elapsed 2m 40s (remain 0m 53s)Loss: 0.4352(0.3619)Grad: 8.4119  \n",
      "Epoch: [7][500/535]Data 0.000 (0.003)Elapsed 3m 19s (remain 0m 13s)Loss: 0.2789(0.3599)Grad: 7.9349  \n",
      "Epoch: [7][534/535]Data 0.000 (0.003)Elapsed 3m 31s (remain 0m 0s)Loss: 0.3514(0.3619)Grad: 5.6285  \n",
      "EVAL: [0/134] Data 0.954 (0.954) Elapsed 0m 1s (remain 2m 20s) Loss: 0.3004(0.3004) \n",
      "EVAL: [100/134] Data 0.508 (0.185) Elapsed 0m 28s (remain 0m 9s) Loss: 0.1987(0.3529) \n"
     ]
    },
    {
     "name": "stderr",
     "output_type": "stream",
     "text": [
      "Epoch 7 - avg_train_loss: 0.3619 avg_val_loss: 0.3534 time: 248s\n",
      "Epoch 7 - Accuracy: 0.8815420560747663\n"
     ]
    },
    {
     "name": "stdout",
     "output_type": "stream",
     "text": [
      "EVAL: [133/134] Data 0.000 (0.174) Elapsed 0m 35s (remain 0m 0s) Loss: 0.0970(0.3534) \n",
      "Epoch: [8][0/535]Data 1.198 (1.198)Elapsed 0m 1s (remain 14m 41s)Loss: 0.3664(0.3664)Grad: 6.9159  \n",
      "Epoch: [8][100/535]Data 0.000 (0.012)Elapsed 0m 41s (remain 2m 59s)Loss: 0.3570(0.3481)Grad: 7.7202  \n",
      "Epoch: [8][200/535]Data 0.000 (0.007)Elapsed 1m 20s (remain 2m 13s)Loss: 0.4262(0.3454)Grad: 7.6771  \n",
      "Epoch: [8][300/535]Data 0.000 (0.005)Elapsed 1m 58s (remain 1m 32s)Loss: 0.5631(0.3503)Grad: 7.8787  \n",
      "Epoch: [8][400/535]Data 0.000 (0.004)Elapsed 2m 37s (remain 0m 52s)Loss: 0.3546(0.3537)Grad: 6.5609  \n",
      "Epoch: [8][500/535]Data 0.000 (0.003)Elapsed 3m 16s (remain 0m 13s)Loss: 0.2867(0.3506)Grad: 5.7477  \n",
      "Epoch: [8][534/535]Data 0.000 (0.003)Elapsed 3m 29s (remain 0m 0s)Loss: 0.2243(0.3505)Grad: 4.8609  \n",
      "EVAL: [0/134] Data 1.038 (1.038) Elapsed 0m 1s (remain 2m 31s) Loss: 0.2675(0.2675) \n",
      "EVAL: [100/134] Data 0.500 (0.178) Elapsed 0m 27s (remain 0m 9s) Loss: 0.2377(0.3568) \n"
     ]
    },
    {
     "name": "stderr",
     "output_type": "stream",
     "text": [
      "Epoch 8 - avg_train_loss: 0.3505 avg_val_loss: 0.3580 time: 246s\n",
      "Epoch 8 - Accuracy: 0.8815420560747663\n"
     ]
    },
    {
     "name": "stdout",
     "output_type": "stream",
     "text": [
      "EVAL: [133/134] Data 0.000 (0.170) Elapsed 0m 35s (remain 0m 0s) Loss: 0.0641(0.3580) \n",
      "Epoch: [9][0/535]Data 1.250 (1.250)Elapsed 0m 1s (remain 15m 2s)Loss: 0.3409(0.3409)Grad: 6.0779  \n",
      "Epoch: [9][100/535]Data 0.000 (0.013)Elapsed 0m 41s (remain 2m 56s)Loss: 0.3299(0.3155)Grad: 7.2095  \n",
      "Epoch: [9][200/535]Data 0.000 (0.007)Elapsed 1m 19s (remain 2m 12s)Loss: 0.1424(0.3365)Grad: 4.4937  \n",
      "Epoch: [9][300/535]Data 0.000 (0.005)Elapsed 1m 59s (remain 1m 32s)Loss: 0.1361(0.3403)Grad: 3.6236  \n",
      "Epoch: [9][400/535]Data 0.005 (0.004)Elapsed 2m 38s (remain 0m 53s)Loss: 0.2248(0.3389)Grad: 3.9769  \n",
      "Epoch: [9][500/535]Data 0.000 (0.003)Elapsed 3m 17s (remain 0m 13s)Loss: 0.2327(0.3374)Grad: 5.4291  \n",
      "Epoch: [9][534/535]Data 0.000 (0.003)Elapsed 3m 30s (remain 0m 0s)Loss: 0.1892(0.3383)Grad: 5.1484  \n",
      "EVAL: [0/134] Data 1.004 (1.004) Elapsed 0m 1s (remain 2m 25s) Loss: 0.2859(0.2859) \n",
      "EVAL: [100/134] Data 0.003 (0.169) Elapsed 0m 26s (remain 0m 8s) Loss: 0.2122(0.3522) \n"
     ]
    },
    {
     "name": "stderr",
     "output_type": "stream",
     "text": [
      "Epoch 9 - avg_train_loss: 0.3383 avg_val_loss: 0.3531 time: 245s\n",
      "Epoch 9 - Accuracy: 0.8822429906542056\n"
     ]
    },
    {
     "name": "stdout",
     "output_type": "stream",
     "text": [
      "EVAL: [133/134] Data 0.000 (0.164) Elapsed 0m 34s (remain 0m 0s) Loss: 0.0629(0.3531) \n",
      "Epoch: [10][0/535]Data 1.129 (1.129)Elapsed 0m 1s (remain 14m 8s)Loss: 0.5358(0.5358)Grad: 8.2129  \n",
      "Epoch: [10][100/535]Data 0.000 (0.012)Elapsed 0m 41s (remain 2m 58s)Loss: 0.2286(0.3211)Grad: 5.2528  \n",
      "Epoch: [10][200/535]Data 0.000 (0.006)Elapsed 1m 20s (remain 2m 13s)Loss: 0.3736(0.3335)Grad: 5.9676  \n",
      "Epoch: [10][300/535]Data 0.000 (0.004)Elapsed 1m 58s (remain 1m 32s)Loss: 0.4147(0.3325)Grad: 7.2996  \n",
      "Epoch: [10][400/535]Data 0.000 (0.003)Elapsed 2m 37s (remain 0m 52s)Loss: 0.3185(0.3342)Grad: 6.3048  \n",
      "Epoch: [10][500/535]Data 0.000 (0.003)Elapsed 3m 16s (remain 0m 13s)Loss: 0.3131(0.3343)Grad: 6.0938  \n",
      "Epoch: [10][534/535]Data 0.000 (0.003)Elapsed 3m 29s (remain 0m 0s)Loss: 0.1995(0.3349)Grad: 4.5082  \n",
      "EVAL: [0/134] Data 1.203 (1.203) Elapsed 0m 1s (remain 2m 52s) Loss: 0.2736(0.2736) \n",
      "EVAL: [100/134] Data 0.561 (0.171) Elapsed 0m 26s (remain 0m 8s) Loss: 0.2300(0.3521) \n"
     ]
    },
    {
     "name": "stderr",
     "output_type": "stream",
     "text": [
      "Epoch 10 - avg_train_loss: 0.3349 avg_val_loss: 0.3525 time: 244s\n",
      "Epoch 10 - Accuracy: 0.8827102803738318\n",
      "Epoch 10 - Save Best Score: 0.8827 Model\n"
     ]
    },
    {
     "name": "stdout",
     "output_type": "stream",
     "text": [
      "EVAL: [133/134] Data 0.000 (0.162) Elapsed 0m 34s (remain 0m 0s) Loss: 0.0452(0.3525) \n"
     ]
    },
    {
     "name": "stderr",
     "output_type": "stream",
     "text": [
      "=============== fold: 1 result ================\n",
      "Score: 0.88271\n",
      "========== fold: 2 training ============\n"
     ]
    },
    {
     "name": "stdout",
     "output_type": "stream",
     "text": [
      "Epoch: [1][0/535]Data 1.234 (1.234)Elapsed 0m 1s (remain 15m 1s)Loss: 1.6325(1.6325)Grad: 7.3116  \n",
      "Epoch: [1][100/535]Data 0.000 (0.013)Elapsed 0m 41s (remain 2m 56s)Loss: 0.6351(0.9550)Grad: 6.7378  \n",
      "Epoch: [1][200/535]Data 0.000 (0.007)Elapsed 1m 19s (remain 2m 12s)Loss: 0.4641(0.8280)Grad: 6.6699  \n",
      "Epoch: [1][300/535]Data 0.000 (0.005)Elapsed 1m 58s (remain 1m 32s)Loss: 0.5329(0.7470)Grad: 10.0560  \n",
      "Epoch: [1][400/535]Data 0.000 (0.004)Elapsed 2m 37s (remain 0m 52s)Loss: 0.3850(0.6948)Grad: 6.9672  \n",
      "Epoch: [1][500/535]Data 0.002 (0.003)Elapsed 3m 16s (remain 0m 13s)Loss: 0.7773(0.6611)Grad: 9.8552  \n",
      "Epoch: [1][534/535]Data 0.000 (0.003)Elapsed 3m 29s (remain 0m 0s)Loss: 0.6524(0.6532)Grad: 8.6632  \n",
      "EVAL: [0/134] Data 1.055 (1.055) Elapsed 0m 1s (remain 2m 33s) Loss: 0.4310(0.4310) \n",
      "EVAL: [100/134] Data 0.609 (0.175) Elapsed 0m 27s (remain 0m 8s) Loss: 0.4597(0.5094) \n"
     ]
    },
    {
     "name": "stderr",
     "output_type": "stream",
     "text": [
      "Epoch 1 - avg_train_loss: 0.6532 avg_val_loss: 0.5033 time: 244s\n",
      "Epoch 1 - Accuracy: 0.8188829165692919\n",
      "Epoch 1 - Save Best Score: 0.8189 Model\n"
     ]
    },
    {
     "name": "stdout",
     "output_type": "stream",
     "text": [
      "EVAL: [133/134] Data 0.000 (0.164) Elapsed 0m 34s (remain 0m 0s) Loss: 0.4910(0.5033) \n",
      "Epoch: [2][0/535]Data 1.513 (1.513)Elapsed 0m 1s (remain 17m 23s)Loss: 0.5028(0.5028)Grad: 8.0948  \n",
      "Epoch: [2][100/535]Data 0.000 (0.016)Elapsed 0m 41s (remain 2m 58s)Loss: 0.3372(0.4633)Grad: 6.3285  \n",
      "Epoch: [2][200/535]Data 0.000 (0.008)Elapsed 1m 20s (remain 2m 14s)Loss: 0.8665(0.4786)Grad: 10.1462  \n",
      "Epoch: [2][300/535]Data 0.000 (0.006)Elapsed 1m 59s (remain 1m 32s)Loss: 0.4009(0.4777)Grad: 6.3245  \n",
      "Epoch: [2][400/535]Data 0.000 (0.004)Elapsed 2m 38s (remain 0m 52s)Loss: 0.6687(0.4798)Grad: 7.7252  \n",
      "Epoch: [2][500/535]Data 0.000 (0.004)Elapsed 3m 18s (remain 0m 13s)Loss: 0.3195(0.4782)Grad: 5.2828  \n",
      "Epoch: [2][534/535]Data 0.000 (0.003)Elapsed 3m 31s (remain 0m 0s)Loss: 0.6073(0.4781)Grad: 9.2190  \n",
      "EVAL: [0/134] Data 1.108 (1.108) Elapsed 0m 1s (remain 2m 43s) Loss: 0.4267(0.4267) \n",
      "EVAL: [100/134] Data 0.511 (0.191) Elapsed 0m 28s (remain 0m 9s) Loss: 0.3768(0.4625) \n"
     ]
    },
    {
     "name": "stderr",
     "output_type": "stream",
     "text": [
      "Epoch 2 - avg_train_loss: 0.4781 avg_val_loss: 0.4623 time: 250s\n",
      "Epoch 2 - Accuracy: 0.8438887590558541\n",
      "Epoch 2 - Save Best Score: 0.8439 Model\n"
     ]
    },
    {
     "name": "stdout",
     "output_type": "stream",
     "text": [
      "EVAL: [133/134] Data 0.000 (0.190) Elapsed 0m 38s (remain 0m 0s) Loss: 0.5144(0.4623) \n",
      "Epoch: [3][0/535]Data 1.460 (1.460)Elapsed 0m 1s (remain 17m 3s)Loss: 0.4171(0.4171)Grad: 6.4758  \n",
      "Epoch: [3][100/535]Data 0.000 (0.015)Elapsed 0m 42s (remain 3m 0s)Loss: 0.5247(0.4437)Grad: 8.0607  \n",
      "Epoch: [3][200/535]Data 0.000 (0.008)Elapsed 1m 23s (remain 2m 18s)Loss: 0.3521(0.4575)Grad: 6.0301  \n",
      "Epoch: [3][300/535]Data 0.000 (0.006)Elapsed 2m 3s (remain 1m 35s)Loss: 0.5654(0.4572)Grad: 7.5868  \n",
      "Epoch: [3][400/535]Data 0.000 (0.004)Elapsed 2m 42s (remain 0m 54s)Loss: 0.3826(0.4553)Grad: 4.9410  \n",
      "Epoch: [3][500/535]Data 0.000 (0.004)Elapsed 3m 22s (remain 0m 13s)Loss: 0.3137(0.4524)Grad: 4.8445  \n",
      "Epoch: [3][534/535]Data 0.000 (0.003)Elapsed 3m 35s (remain 0m 0s)Loss: 0.4294(0.4492)Grad: 6.1552  \n",
      "EVAL: [0/134] Data 1.219 (1.219) Elapsed 0m 1s (remain 2m 54s) Loss: 0.2908(0.2908) \n",
      "EVAL: [100/134] Data 0.662 (0.189) Elapsed 0m 28s (remain 0m 9s) Loss: 0.4106(0.4251) \n"
     ]
    },
    {
     "name": "stderr",
     "output_type": "stream",
     "text": [
      "Epoch 3 - avg_train_loss: 0.4492 avg_val_loss: 0.4218 time: 252s\n",
      "Epoch 3 - Accuracy: 0.856508530030381\n",
      "Epoch 3 - Save Best Score: 0.8565 Model\n"
     ]
    },
    {
     "name": "stdout",
     "output_type": "stream",
     "text": [
      "EVAL: [133/134] Data 0.000 (0.178) Elapsed 0m 36s (remain 0m 0s) Loss: 0.5118(0.4218) \n",
      "Epoch: [4][0/535]Data 1.234 (1.234)Elapsed 0m 1s (remain 15m 12s)Loss: 0.4291(0.4291)Grad: 6.0025  \n",
      "Epoch: [4][100/535]Data 0.000 (0.013)Elapsed 0m 41s (remain 2m 58s)Loss: 0.5256(0.4199)Grad: 6.8945  \n",
      "Epoch: [4][200/535]Data 0.000 (0.007)Elapsed 1m 22s (remain 2m 17s)Loss: 0.6386(0.4331)Grad: 9.6911  \n",
      "Epoch: [4][300/535]Data 0.000 (0.005)Elapsed 2m 3s (remain 1m 35s)Loss: 0.9574(0.4234)Grad: 10.0118  \n",
      "Epoch: [4][400/535]Data 0.000 (0.004)Elapsed 2m 41s (remain 0m 54s)Loss: 0.4917(0.4213)Grad: 7.6883  \n",
      "Epoch: [4][500/535]Data 0.000 (0.003)Elapsed 3m 21s (remain 0m 13s)Loss: 0.3663(0.4195)Grad: 5.6047  \n",
      "Epoch: [4][534/535]Data 0.000 (0.003)Elapsed 3m 33s (remain 0m 0s)Loss: 0.3500(0.4193)Grad: 6.3318  \n",
      "EVAL: [0/134] Data 1.102 (1.102) Elapsed 0m 1s (remain 2m 39s) Loss: 0.3906(0.3906) \n",
      "EVAL: [100/134] Data 0.460 (0.184) Elapsed 0m 28s (remain 0m 9s) Loss: 0.6192(0.4202) \n"
     ]
    },
    {
     "name": "stderr",
     "output_type": "stream",
     "text": [
      "Epoch 4 - avg_train_loss: 0.4193 avg_val_loss: 0.4172 time: 250s\n",
      "Epoch 4 - Accuracy: 0.8544052348679598\n"
     ]
    },
    {
     "name": "stdout",
     "output_type": "stream",
     "text": [
      "EVAL: [133/134] Data 0.000 (0.177) Elapsed 0m 36s (remain 0m 0s) Loss: 0.5199(0.4172) \n",
      "Epoch: [5][0/535]Data 1.840 (1.840)Elapsed 0m 2s (remain 20m 14s)Loss: 0.5938(0.5938)Grad: 7.8008  \n",
      "Epoch: [5][100/535]Data 0.000 (0.019)Elapsed 0m 41s (remain 3m 0s)Loss: 0.2980(0.4001)Grad: 4.7754  \n",
      "Epoch: [5][200/535]Data 0.000 (0.010)Elapsed 1m 20s (remain 2m 13s)Loss: 0.3732(0.3936)Grad: 6.0574  \n",
      "Epoch: [5][300/535]Data 0.000 (0.007)Elapsed 1m 59s (remain 1m 32s)Loss: 0.3644(0.3885)Grad: 6.4830  \n",
      "Epoch: [5][400/535]Data 0.000 (0.005)Elapsed 2m 37s (remain 0m 52s)Loss: 0.3946(0.3933)Grad: 6.0275  \n",
      "Epoch: [5][500/535]Data 0.005 (0.004)Elapsed 3m 16s (remain 0m 13s)Loss: 0.2186(0.3943)Grad: 4.4390  \n",
      "Epoch: [5][534/535]Data 0.000 (0.004)Elapsed 3m 29s (remain 0m 0s)Loss: 0.2464(0.3942)Grad: 4.4717  \n",
      "EVAL: [0/134] Data 1.152 (1.152) Elapsed 0m 1s (remain 2m 45s) Loss: 0.3525(0.3525) \n",
      "EVAL: [100/134] Data 0.789 (0.193) Elapsed 0m 29s (remain 0m 9s) Loss: 0.4593(0.3999) \n"
     ]
    },
    {
     "name": "stderr",
     "output_type": "stream",
     "text": [
      "Epoch 5 - avg_train_loss: 0.3942 avg_val_loss: 0.3988 time: 247s\n",
      "Epoch 5 - Accuracy: 0.8602477214302408\n",
      "Epoch 5 - Save Best Score: 0.8602 Model\n"
     ]
    },
    {
     "name": "stdout",
     "output_type": "stream",
     "text": [
      "EVAL: [133/134] Data 0.000 (0.180) Elapsed 0m 36s (remain 0m 0s) Loss: 0.5699(0.3988) \n",
      "Epoch: [6][0/535]Data 1.346 (1.346)Elapsed 0m 1s (remain 16m 37s)Loss: 0.3532(0.3532)Grad: 6.2199  \n",
      "Epoch: [6][100/535]Data 0.000 (0.014)Elapsed 0m 42s (remain 3m 0s)Loss: 0.4078(0.3941)Grad: 5.6853  \n",
      "Epoch: [6][200/535]Data 0.000 (0.007)Elapsed 1m 21s (remain 2m 15s)Loss: 0.3489(0.3846)Grad: 5.7043  \n",
      "Epoch: [6][300/535]Data 0.000 (0.005)Elapsed 2m 1s (remain 1m 34s)Loss: 0.2738(0.3816)Grad: 5.4517  \n",
      "Epoch: [6][400/535]Data 0.000 (0.004)Elapsed 2m 42s (remain 0m 54s)Loss: 0.4224(0.3847)Grad: 6.4846  \n",
      "Epoch: [6][500/535]Data 0.000 (0.003)Elapsed 3m 22s (remain 0m 13s)Loss: 0.5106(0.3819)Grad: 7.0635  \n",
      "Epoch: [6][534/535]Data 0.000 (0.003)Elapsed 3m 36s (remain 0m 0s)Loss: 0.3653(0.3840)Grad: 6.8246  \n",
      "EVAL: [0/134] Data 1.126 (1.126) Elapsed 0m 1s (remain 2m 42s) Loss: 0.3276(0.3276) \n",
      "EVAL: [100/134] Data 0.409 (0.189) Elapsed 0m 28s (remain 0m 9s) Loss: 0.4613(0.4129) \n"
     ]
    },
    {
     "name": "stderr",
     "output_type": "stream",
     "text": [
      "Epoch 6 - avg_train_loss: 0.3840 avg_val_loss: 0.4087 time: 254s\n",
      "Epoch 6 - Accuracy: 0.8574433278803458\n"
     ]
    },
    {
     "name": "stdout",
     "output_type": "stream",
     "text": [
      "EVAL: [133/134] Data 0.000 (0.186) Elapsed 0m 37s (remain 0m 0s) Loss: 0.5081(0.4087) \n",
      "Epoch: [7][0/535]Data 1.308 (1.308)Elapsed 0m 1s (remain 15m 36s)Loss: 0.4525(0.4525)Grad: 5.5965  \n",
      "Epoch: [7][100/535]Data 0.000 (0.014)Elapsed 0m 42s (remain 3m 4s)Loss: 0.5027(0.3533)Grad: 7.8661  \n",
      "Epoch: [7][200/535]Data 0.000 (0.007)Elapsed 1m 23s (remain 2m 19s)Loss: 0.2256(0.3569)Grad: 5.2112  \n",
      "Epoch: [7][300/535]Data 0.000 (0.005)Elapsed 2m 4s (remain 1m 36s)Loss: 0.2231(0.3565)Grad: 6.7385  \n",
      "Epoch: [7][400/535]Data 0.000 (0.004)Elapsed 2m 45s (remain 0m 55s)Loss: 0.1322(0.3596)Grad: 3.6346  \n",
      "Epoch: [7][500/535]Data 0.000 (0.003)Elapsed 3m 25s (remain 0m 13s)Loss: 0.2827(0.3602)Grad: 4.6336  \n",
      "Epoch: [7][534/535]Data 0.000 (0.003)Elapsed 3m 38s (remain 0m 0s)Loss: 0.3870(0.3610)Grad: 7.7633  \n",
      "EVAL: [0/134] Data 1.975 (1.975) Elapsed 0m 2s (remain 4m 35s) Loss: 0.3148(0.3148) \n",
      "EVAL: [100/134] Data 0.667 (0.200) Elapsed 0m 29s (remain 0m 9s) Loss: 0.4461(0.3884) \n"
     ]
    },
    {
     "name": "stderr",
     "output_type": "stream",
     "text": [
      "Epoch 7 - avg_train_loss: 0.3610 avg_val_loss: 0.3861 time: 259s\n",
      "Epoch 7 - Accuracy: 0.868427202617434\n",
      "Epoch 7 - Save Best Score: 0.8684 Model\n"
     ]
    },
    {
     "name": "stdout",
     "output_type": "stream",
     "text": [
      "EVAL: [133/134] Data 0.000 (0.198) Elapsed 0m 39s (remain 0m 0s) Loss: 0.4550(0.3861) \n",
      "Epoch: [8][0/535]Data 1.451 (1.451)Elapsed 0m 1s (remain 17m 0s)Loss: 0.2787(0.2787)Grad: 6.2475  \n",
      "Epoch: [8][100/535]Data 0.000 (0.015)Elapsed 0m 42s (remain 3m 0s)Loss: 0.4048(0.3771)Grad: 6.2729  \n",
      "Epoch: [8][200/535]Data 0.000 (0.008)Elapsed 1m 23s (remain 2m 18s)Loss: 0.4320(0.3621)Grad: 6.1245  \n",
      "Epoch: [8][300/535]Data 0.000 (0.005)Elapsed 2m 4s (remain 1m 36s)Loss: 0.2008(0.3599)Grad: 3.5974  \n",
      "Epoch: [8][400/535]Data 0.000 (0.004)Elapsed 2m 44s (remain 0m 55s)Loss: 0.2348(0.3495)Grad: 6.0182  \n",
      "Epoch: [8][500/535]Data 0.000 (0.004)Elapsed 3m 26s (remain 0m 14s)Loss: 0.3874(0.3474)Grad: 7.9702  \n",
      "Epoch: [8][534/535]Data 0.000 (0.003)Elapsed 3m 39s (remain 0m 0s)Loss: 0.4871(0.3471)Grad: 7.9071  \n",
      "EVAL: [0/134] Data 1.277 (1.277) Elapsed 0m 1s (remain 3m 2s) Loss: 0.3573(0.3573) \n",
      "EVAL: [100/134] Data 0.690 (0.214) Elapsed 0m 31s (remain 0m 10s) Loss: 0.4936(0.3896) \n"
     ]
    },
    {
     "name": "stderr",
     "output_type": "stream",
     "text": [
      "Epoch 8 - avg_train_loss: 0.3471 avg_val_loss: 0.3863 time: 260s\n",
      "Epoch 8 - Accuracy: 0.8691283010049077\n",
      "Epoch 8 - Save Best Score: 0.8691 Model\n"
     ]
    },
    {
     "name": "stdout",
     "output_type": "stream",
     "text": [
      "EVAL: [133/134] Data 0.000 (0.199) Elapsed 0m 39s (remain 0m 0s) Loss: 0.5180(0.3863) \n",
      "Epoch: [9][0/535]Data 1.279 (1.279)Elapsed 0m 1s (remain 15m 32s)Loss: 0.3592(0.3592)Grad: 6.8648  \n",
      "Epoch: [9][100/535]Data 0.003 (0.014)Elapsed 0m 43s (remain 3m 7s)Loss: 0.2932(0.3225)Grad: 6.0036  \n",
      "Epoch: [9][200/535]Data 0.000 (0.007)Elapsed 1m 23s (remain 2m 19s)Loss: 0.3186(0.3413)Grad: 6.5710  \n",
      "Epoch: [9][300/535]Data 0.000 (0.005)Elapsed 2m 5s (remain 1m 37s)Loss: 0.1328(0.3332)Grad: 3.4824  \n",
      "Epoch: [9][400/535]Data 0.000 (0.004)Elapsed 2m 46s (remain 0m 55s)Loss: 0.3044(0.3321)Grad: 6.2315  \n",
      "Epoch: [9][500/535]Data 0.000 (0.003)Elapsed 3m 27s (remain 0m 14s)Loss: 0.2529(0.3339)Grad: 4.8581  \n",
      "Epoch: [9][534/535]Data 0.000 (0.003)Elapsed 3m 41s (remain 0m 0s)Loss: 0.4667(0.3343)Grad: 9.6212  \n",
      "EVAL: [0/134] Data 1.229 (1.229) Elapsed 0m 1s (remain 2m 56s) Loss: 0.4017(0.4017) \n",
      "EVAL: [100/134] Data 1.035 (0.206) Elapsed 0m 30s (remain 0m 9s) Loss: 0.4981(0.3858) \n"
     ]
    },
    {
     "name": "stderr",
     "output_type": "stream",
     "text": [
      "Epoch 9 - avg_train_loss: 0.3343 avg_val_loss: 0.3826 time: 260s\n",
      "Epoch 9 - Accuracy: 0.8740359897172236\n",
      "Epoch 9 - Save Best Score: 0.8740 Model\n"
     ]
    },
    {
     "name": "stdout",
     "output_type": "stream",
     "text": [
      "EVAL: [133/134] Data 0.000 (0.191) Elapsed 0m 38s (remain 0m 0s) Loss: 0.5224(0.3826) \n",
      "Epoch: [10][0/535]Data 1.607 (1.607)Elapsed 0m 2s (remain 18m 37s)Loss: 0.4173(0.4173)Grad: 7.2958  \n",
      "Epoch: [10][100/535]Data 0.000 (0.016)Elapsed 0m 43s (remain 3m 7s)Loss: 0.2609(0.3351)Grad: 5.6566  \n",
      "Epoch: [10][200/535]Data 0.005 (0.009)Elapsed 1m 25s (remain 2m 21s)Loss: 0.1923(0.3345)Grad: 5.7711  \n",
      "Epoch: [10][300/535]Data 0.000 (0.006)Elapsed 2m 5s (remain 1m 37s)Loss: 0.1621(0.3334)Grad: 4.4063  \n",
      "Epoch: [10][400/535]Data 0.000 (0.005)Elapsed 2m 46s (remain 0m 55s)Loss: 0.6288(0.3340)Grad: 7.7402  \n",
      "Epoch: [10][500/535]Data 0.000 (0.004)Elapsed 3m 28s (remain 0m 14s)Loss: 0.3073(0.3361)Grad: 6.4439  \n",
      "Epoch: [10][534/535]Data 0.000 (0.004)Elapsed 3m 41s (remain 0m 0s)Loss: 0.4336(0.3338)Grad: 7.2793  \n",
      "EVAL: [0/134] Data 1.208 (1.208) Elapsed 0m 1s (remain 2m 54s) Loss: 0.3749(0.3749) \n",
      "EVAL: [100/134] Data 0.629 (0.201) Elapsed 0m 29s (remain 0m 9s) Loss: 0.4605(0.3855) \n"
     ]
    },
    {
     "name": "stderr",
     "output_type": "stream",
     "text": [
      "Epoch 10 - avg_train_loss: 0.3338 avg_val_loss: 0.3823 time: 262s\n",
      "Epoch 10 - Accuracy: 0.8716989950923113\n"
     ]
    },
    {
     "name": "stdout",
     "output_type": "stream",
     "text": [
      "EVAL: [133/134] Data 0.000 (0.201) Elapsed 0m 39s (remain 0m 0s) Loss: 0.5358(0.3823) \n"
     ]
    },
    {
     "name": "stderr",
     "output_type": "stream",
     "text": [
      "=============== fold: 2 result ================\n",
      "Score: 0.87404\n",
      "========== fold: 3 training ============\n"
     ]
    },
    {
     "name": "stdout",
     "output_type": "stream",
     "text": [
      "Epoch: [1][0/535]Data 1.370 (1.370)Elapsed 0m 1s (remain 16m 10s)Loss: 1.7042(1.7042)Grad: 9.0835  \n",
      "Epoch: [1][100/535]Data 0.000 (0.014)Elapsed 0m 42s (remain 3m 3s)Loss: 0.6174(0.9322)Grad: 5.8175  \n",
      "Epoch: [1][200/535]Data 0.000 (0.007)Elapsed 1m 24s (remain 2m 21s)Loss: 0.5007(0.7947)Grad: 6.6153  \n",
      "Epoch: [1][300/535]Data 0.000 (0.005)Elapsed 2m 6s (remain 1m 38s)Loss: 0.3993(0.7201)Grad: 6.6552  \n",
      "Epoch: [1][400/535]Data 0.000 (0.004)Elapsed 2m 46s (remain 0m 55s)Loss: 0.3558(0.6792)Grad: 6.2035  \n",
      "Epoch: [1][500/535]Data 0.000 (0.003)Elapsed 3m 28s (remain 0m 14s)Loss: 0.6463(0.6513)Grad: 10.3087  \n",
      "Epoch: [1][534/535]Data 0.000 (0.003)Elapsed 3m 41s (remain 0m 0s)Loss: 0.3316(0.6453)Grad: 5.4582  \n",
      "EVAL: [0/134] Data 1.571 (1.571) Elapsed 0m 1s (remain 3m 42s) Loss: 0.6993(0.6993) \n",
      "EVAL: [100/134] Data 0.000 (0.208) Elapsed 0m 30s (remain 0m 10s) Loss: 0.5596(0.5117) \n"
     ]
    },
    {
     "name": "stderr",
     "output_type": "stream",
     "text": [
      "Epoch 1 - avg_train_loss: 0.6453 avg_val_loss: 0.5205 time: 262s\n",
      "Epoch 1 - Accuracy: 0.812105632157046\n",
      "Epoch 1 - Save Best Score: 0.8121 Model\n"
     ]
    },
    {
     "name": "stdout",
     "output_type": "stream",
     "text": [
      "EVAL: [133/134] Data 0.000 (0.199) Elapsed 0m 39s (remain 0m 0s) Loss: 0.4640(0.5205) \n",
      "Epoch: [2][0/535]Data 1.327 (1.327)Elapsed 0m 1s (remain 15m 38s)Loss: 0.3445(0.3445)Grad: 5.1819  \n",
      "Epoch: [2][100/535]Data 0.000 (0.014)Elapsed 0m 42s (remain 3m 3s)Loss: 0.4693(0.4803)Grad: 7.1053  \n",
      "Epoch: [2][200/535]Data 0.004 (0.007)Elapsed 1m 23s (remain 2m 18s)Loss: 0.3347(0.4772)Grad: 6.4765  \n",
      "Epoch: [2][300/535]Data 0.000 (0.005)Elapsed 2m 3s (remain 1m 36s)Loss: 0.3257(0.4826)Grad: 5.6950  \n",
      "Epoch: [2][400/535]Data 0.000 (0.004)Elapsed 2m 44s (remain 0m 54s)Loss: 0.5537(0.4793)Grad: 7.0540  \n",
      "Epoch: [2][500/535]Data 0.000 (0.003)Elapsed 3m 24s (remain 0m 13s)Loss: 0.3821(0.4751)Grad: 6.8872  \n",
      "Epoch: [2][534/535]Data 0.000 (0.003)Elapsed 3m 38s (remain 0m 0s)Loss: 0.1697(0.4731)Grad: 4.2500  \n",
      "EVAL: [0/134] Data 1.418 (1.418) Elapsed 0m 1s (remain 3m 21s) Loss: 0.6947(0.6947) \n",
      "EVAL: [100/134] Data 0.554 (0.190) Elapsed 0m 28s (remain 0m 9s) Loss: 0.4423(0.4731) \n"
     ]
    },
    {
     "name": "stderr",
     "output_type": "stream",
     "text": [
      "Epoch 2 - avg_train_loss: 0.4731 avg_val_loss: 0.4917 time: 256s\n",
      "Epoch 2 - Accuracy: 0.8352418789436784\n",
      "Epoch 2 - Save Best Score: 0.8352 Model\n"
     ]
    },
    {
     "name": "stdout",
     "output_type": "stream",
     "text": [
      "EVAL: [133/134] Data 0.000 (0.189) Elapsed 0m 37s (remain 0m 0s) Loss: 0.4673(0.4917) \n",
      "Epoch: [3][0/535]Data 1.578 (1.578)Elapsed 0m 2s (remain 18m 34s)Loss: 0.6797(0.6797)Grad: 8.7816  \n",
      "Epoch: [3][100/535]Data 0.000 (0.017)Elapsed 0m 43s (remain 3m 6s)Loss: 0.4014(0.4639)Grad: 5.8437  \n",
      "Epoch: [3][200/535]Data 0.005 (0.009)Elapsed 1m 24s (remain 2m 19s)Loss: 0.3033(0.4508)Grad: 4.4921  \n",
      "Epoch: [3][300/535]Data 0.000 (0.006)Elapsed 2m 4s (remain 1m 36s)Loss: 0.4485(0.4484)Grad: 6.6148  \n",
      "Epoch: [3][400/535]Data 0.000 (0.005)Elapsed 2m 44s (remain 0m 55s)Loss: 0.3782(0.4421)Grad: 5.5059  \n",
      "Epoch: [3][500/535]Data 0.000 (0.004)Elapsed 3m 25s (remain 0m 13s)Loss: 0.3652(0.4424)Grad: 6.5429  \n",
      "Epoch: [3][534/535]Data 0.000 (0.004)Elapsed 3m 39s (remain 0m 0s)Loss: 0.2051(0.4409)Grad: 3.8201  \n",
      "EVAL: [0/134] Data 1.584 (1.584) Elapsed 0m 1s (remain 3m 49s) Loss: 0.6701(0.6701) \n",
      "EVAL: [100/134] Data 0.362 (0.196) Elapsed 0m 29s (remain 0m 9s) Loss: 0.3731(0.4399) \n"
     ]
    },
    {
     "name": "stderr",
     "output_type": "stream",
     "text": [
      "Epoch 3 - avg_train_loss: 0.4409 avg_val_loss: 0.4501 time: 259s\n",
      "Epoch 3 - Accuracy: 0.8450572563683103\n",
      "Epoch 3 - Save Best Score: 0.8451 Model\n"
     ]
    },
    {
     "name": "stdout",
     "output_type": "stream",
     "text": [
      "EVAL: [133/134] Data 0.000 (0.203) Elapsed 0m 40s (remain 0m 0s) Loss: 0.4603(0.4501) \n",
      "Epoch: [4][0/535]Data 1.300 (1.300)Elapsed 0m 1s (remain 15m 52s)Loss: 0.3381(0.3381)Grad: 6.0052  \n",
      "Epoch: [4][100/535]Data 0.000 (0.013)Elapsed 0m 42s (remain 3m 1s)Loss: 0.2959(0.4212)Grad: 4.7547  \n",
      "Epoch: [4][200/535]Data 0.000 (0.007)Elapsed 1m 23s (remain 2m 18s)Loss: 0.6118(0.4139)Grad: 9.4799  \n",
      "Epoch: [4][300/535]Data 0.000 (0.005)Elapsed 2m 4s (remain 1m 36s)Loss: 0.4248(0.4097)Grad: 6.5393  \n",
      "Epoch: [4][400/535]Data 0.000 (0.004)Elapsed 2m 45s (remain 0m 55s)Loss: 0.3951(0.4115)Grad: 6.1405  \n",
      "Epoch: [4][500/535]Data 0.000 (0.003)Elapsed 3m 26s (remain 0m 14s)Loss: 0.2704(0.4131)Grad: 5.6454  \n",
      "Epoch: [4][534/535]Data 0.000 (0.003)Elapsed 3m 39s (remain 0m 0s)Loss: 0.5185(0.4133)Grad: 8.0077  \n",
      "EVAL: [0/134] Data 1.204 (1.204) Elapsed 0m 1s (remain 2m 53s) Loss: 0.6135(0.6135) \n",
      "EVAL: [100/134] Data 0.505 (0.212) Elapsed 0m 31s (remain 0m 10s) Loss: 0.3958(0.4157) \n"
     ]
    },
    {
     "name": "stderr",
     "output_type": "stream",
     "text": [
      "Epoch 4 - avg_train_loss: 0.4133 avg_val_loss: 0.4270 time: 260s\n",
      "Epoch 4 - Accuracy: 0.8539378359429773\n",
      "Epoch 4 - Save Best Score: 0.8539 Model\n"
     ]
    },
    {
     "name": "stdout",
     "output_type": "stream",
     "text": [
      "EVAL: [133/134] Data 0.000 (0.205) Elapsed 0m 40s (remain 0m 0s) Loss: 0.4458(0.4270) \n",
      "Epoch: [5][0/535]Data 1.277 (1.277)Elapsed 0m 1s (remain 15m 20s)Loss: 0.2135(0.2135)Grad: 4.0004  \n",
      "Epoch: [5][100/535]Data 0.000 (0.014)Elapsed 0m 43s (remain 3m 7s)Loss: 0.5674(0.4192)Grad: 7.4447  \n",
      "Epoch: [5][200/535]Data 0.000 (0.007)Elapsed 1m 23s (remain 2m 19s)Loss: 0.4861(0.4000)Grad: 7.7168  \n",
      "Epoch: [5][300/535]Data 0.000 (0.005)Elapsed 2m 5s (remain 1m 37s)Loss: 0.3350(0.3915)Grad: 7.9959  \n",
      "Epoch: [5][400/535]Data 0.000 (0.004)Elapsed 2m 46s (remain 0m 55s)Loss: 0.4974(0.3925)Grad: 7.4015  \n",
      "Epoch: [5][500/535]Data 0.000 (0.003)Elapsed 3m 26s (remain 0m 14s)Loss: 0.4542(0.3982)Grad: 7.1350  \n",
      "Epoch: [5][534/535]Data 0.000 (0.003)Elapsed 3m 41s (remain 0m 0s)Loss: 0.3203(0.3974)Grad: 6.4361  \n",
      "EVAL: [0/134] Data 1.160 (1.160) Elapsed 0m 1s (remain 2m 48s) Loss: 0.6016(0.6016) \n",
      "EVAL: [100/134] Data 1.239 (0.202) Elapsed 0m 29s (remain 0m 9s) Loss: 0.3151(0.4116) \n"
     ]
    },
    {
     "name": "stderr",
     "output_type": "stream",
     "text": [
      "Epoch 5 - avg_train_loss: 0.3974 avg_val_loss: 0.4264 time: 260s\n",
      "Epoch 5 - Accuracy: 0.8494975461556439\n"
     ]
    },
    {
     "name": "stdout",
     "output_type": "stream",
     "text": [
      "EVAL: [133/134] Data 0.000 (0.193) Elapsed 0m 38s (remain 0m 0s) Loss: 0.4161(0.4264) \n",
      "Epoch: [6][0/535]Data 1.361 (1.361)Elapsed 0m 1s (remain 15m 56s)Loss: 0.5489(0.5489)Grad: 8.9392  \n",
      "Epoch: [6][100/535]Data 0.004 (0.014)Elapsed 0m 43s (remain 3m 8s)Loss: 0.5166(0.3858)Grad: 8.5253  \n",
      "Epoch: [6][200/535]Data 0.000 (0.008)Elapsed 1m 25s (remain 2m 21s)Loss: 0.3514(0.3965)Grad: 6.1712  \n",
      "Epoch: [6][300/535]Data 0.000 (0.005)Elapsed 2m 5s (remain 1m 37s)Loss: 0.2753(0.3846)Grad: 4.7832  \n",
      "Epoch: [6][400/535]Data 0.000 (0.004)Elapsed 2m 46s (remain 0m 55s)Loss: 0.4264(0.3809)Grad: 5.9236  \n",
      "Epoch: [6][500/535]Data 0.000 (0.003)Elapsed 3m 26s (remain 0m 14s)Loss: 0.2699(0.3761)Grad: 5.0358  \n",
      "Epoch: [6][534/535]Data 0.000 (0.003)Elapsed 3m 40s (remain 0m 0s)Loss: 0.3077(0.3746)Grad: 6.0001  \n",
      "EVAL: [0/134] Data 1.255 (1.255) Elapsed 0m 1s (remain 3m 1s) Loss: 0.6448(0.6448) \n",
      "EVAL: [100/134] Data 0.247 (0.193) Elapsed 0m 29s (remain 0m 9s) Loss: 0.3690(0.4028) \n"
     ]
    },
    {
     "name": "stderr",
     "output_type": "stream",
     "text": [
      "Epoch 6 - avg_train_loss: 0.3746 avg_val_loss: 0.4132 time: 260s\n",
      "Epoch 6 - Accuracy: 0.8581444262678196\n",
      "Epoch 6 - Save Best Score: 0.8581 Model\n"
     ]
    },
    {
     "name": "stdout",
     "output_type": "stream",
     "text": [
      "EVAL: [133/134] Data 0.041 (0.197) Elapsed 0m 39s (remain 0m 0s) Loss: 0.4701(0.4132) \n",
      "Epoch: [7][0/535]Data 1.345 (1.345)Elapsed 0m 1s (remain 15m 42s)Loss: 0.2626(0.2626)Grad: 4.4430  \n",
      "Epoch: [7][100/535]Data 0.000 (0.014)Elapsed 0m 42s (remain 3m 1s)Loss: 0.3535(0.3672)Grad: 6.6290  \n",
      "Epoch: [7][200/535]Data 0.000 (0.008)Elapsed 1m 23s (remain 2m 18s)Loss: 0.3254(0.3678)Grad: 7.1852  \n",
      "Epoch: [7][300/535]Data 0.000 (0.005)Elapsed 2m 5s (remain 1m 37s)Loss: 0.2415(0.3611)Grad: 5.3401  \n",
      "Epoch: [7][400/535]Data 0.000 (0.004)Elapsed 2m 45s (remain 0m 55s)Loss: 0.3042(0.3606)Grad: 6.1771  \n",
      "Epoch: [7][500/535]Data 0.000 (0.003)Elapsed 3m 27s (remain 0m 14s)Loss: 0.5371(0.3561)Grad: 8.5384  \n",
      "Epoch: [7][534/535]Data 0.000 (0.003)Elapsed 3m 41s (remain 0m 0s)Loss: 0.2722(0.3559)Grad: 6.0298  \n",
      "EVAL: [0/134] Data 1.289 (1.289) Elapsed 0m 1s (remain 3m 3s) Loss: 0.7162(0.7162) \n",
      "EVAL: [100/134] Data 0.637 (0.213) Elapsed 0m 31s (remain 0m 10s) Loss: 0.3471(0.4021) \n"
     ]
    },
    {
     "name": "stderr",
     "output_type": "stream",
     "text": [
      "Epoch 7 - avg_train_loss: 0.3559 avg_val_loss: 0.4144 time: 261s\n",
      "Epoch 7 - Accuracy: 0.8623510165926619\n",
      "Epoch 7 - Save Best Score: 0.8624 Model\n"
     ]
    },
    {
     "name": "stdout",
     "output_type": "stream",
     "text": [
      "EVAL: [133/134] Data 0.000 (0.203) Elapsed 0m 40s (remain 0m 0s) Loss: 0.4566(0.4144) \n",
      "Epoch: [8][0/535]Data 1.309 (1.309)Elapsed 0m 1s (remain 15m 31s)Loss: 0.2195(0.2195)Grad: 4.4778  \n",
      "Epoch: [8][100/535]Data 0.000 (0.014)Elapsed 0m 44s (remain 3m 10s)Loss: 0.4730(0.3537)Grad: 6.4961  \n",
      "Epoch: [8][200/535]Data 0.001 (0.007)Elapsed 1m 25s (remain 2m 22s)Loss: 0.2699(0.3468)Grad: 6.0523  \n",
      "Epoch: [8][300/535]Data 0.000 (0.005)Elapsed 2m 7s (remain 1m 39s)Loss: 0.4620(0.3350)Grad: 9.3588  \n",
      "Epoch: [8][400/535]Data 0.000 (0.004)Elapsed 2m 49s (remain 0m 56s)Loss: 0.2477(0.3392)Grad: 5.2333  \n",
      "Epoch: [8][500/535]Data 0.008 (0.003)Elapsed 3m 29s (remain 0m 14s)Loss: 0.5065(0.3386)Grad: 9.0158  \n",
      "Epoch: [8][534/535]Data 0.000 (0.003)Elapsed 3m 43s (remain 0m 0s)Loss: 0.3161(0.3394)Grad: 7.7401  \n",
      "EVAL: [0/134] Data 1.331 (1.331) Elapsed 0m 1s (remain 3m 9s) Loss: 0.7504(0.7504) \n",
      "EVAL: [100/134] Data 0.408 (0.200) Elapsed 0m 29s (remain 0m 9s) Loss: 0.3266(0.3965) \n"
     ]
    },
    {
     "name": "stderr",
     "output_type": "stream",
     "text": [
      "Epoch 8 - avg_train_loss: 0.3394 avg_val_loss: 0.4108 time: 263s\n",
      "Epoch 8 - Accuracy: 0.8667913063799954\n",
      "Epoch 8 - Save Best Score: 0.8668 Model\n"
     ]
    },
    {
     "name": "stdout",
     "output_type": "stream",
     "text": [
      "EVAL: [133/134] Data 0.000 (0.195) Elapsed 0m 38s (remain 0m 0s) Loss: 0.3945(0.4108) \n",
      "Epoch: [9][0/535]Data 1.361 (1.361)Elapsed 0m 1s (remain 16m 18s)Loss: 0.2358(0.2358)Grad: 4.9056  \n",
      "Epoch: [9][100/535]Data 0.002 (0.014)Elapsed 0m 43s (remain 3m 6s)Loss: 0.3530(0.3322)Grad: 6.2881  \n",
      "Epoch: [9][200/535]Data 0.000 (0.008)Elapsed 1m 25s (remain 2m 21s)Loss: 0.2135(0.3239)Grad: 4.6698  \n",
      "Epoch: [9][300/535]Data 0.000 (0.005)Elapsed 2m 5s (remain 1m 37s)Loss: 0.2716(0.3193)Grad: 5.5416  \n",
      "Epoch: [9][400/535]Data 0.000 (0.004)Elapsed 2m 47s (remain 0m 55s)Loss: 0.3489(0.3239)Grad: 5.7135  \n",
      "Epoch: [9][500/535]Data 0.000 (0.004)Elapsed 3m 29s (remain 0m 14s)Loss: 0.2055(0.3281)Grad: 5.1312  \n",
      "Epoch: [9][534/535]Data 0.000 (0.003)Elapsed 3m 42s (remain 0m 0s)Loss: 0.2527(0.3315)Grad: 5.8305  \n",
      "EVAL: [0/134] Data 1.367 (1.367) Elapsed 0m 1s (remain 3m 13s) Loss: 0.6783(0.6783) \n",
      "EVAL: [100/134] Data 0.645 (0.221) Elapsed 0m 31s (remain 0m 10s) Loss: 0.3241(0.3900) \n"
     ]
    },
    {
     "name": "stderr",
     "output_type": "stream",
     "text": [
      "Epoch 9 - avg_train_loss: 0.3315 avg_val_loss: 0.4055 time: 264s\n",
      "Epoch 9 - Accuracy: 0.8660902079925216\n"
     ]
    },
    {
     "name": "stdout",
     "output_type": "stream",
     "text": [
      "EVAL: [133/134] Data 0.000 (0.212) Elapsed 0m 41s (remain 0m 0s) Loss: 0.4055(0.4055) \n",
      "Epoch: [10][0/535]Data 1.448 (1.448)Elapsed 0m 1s (remain 17m 6s)Loss: 0.5322(0.5322)Grad: 8.4125  \n",
      "Epoch: [10][100/535]Data 0.001 (0.016)Elapsed 0m 43s (remain 3m 5s)Loss: 0.2737(0.3206)Grad: 6.1003  \n",
      "Epoch: [10][200/535]Data 0.000 (0.008)Elapsed 1m 24s (remain 2m 20s)Loss: 0.2221(0.3225)Grad: 4.5745  \n",
      "Epoch: [10][300/535]Data 0.004 (0.006)Elapsed 2m 6s (remain 1m 38s)Loss: 0.2285(0.3206)Grad: 6.0125  \n",
      "Epoch: [10][400/535]Data 0.010 (0.005)Elapsed 2m 48s (remain 0m 56s)Loss: 0.2418(0.3175)Grad: 6.3316  \n",
      "Epoch: [10][500/535]Data 0.000 (0.004)Elapsed 3m 29s (remain 0m 14s)Loss: 0.3490(0.3233)Grad: 6.2316  \n",
      "Epoch: [10][534/535]Data 0.000 (0.004)Elapsed 3m 42s (remain 0m 0s)Loss: 0.5355(0.3257)Grad: 10.0731  \n",
      "EVAL: [0/134] Data 1.724 (1.724) Elapsed 0m 1s (remain 4m 15s) Loss: 0.6955(0.6955) \n",
      "EVAL: [100/134] Data 0.419 (0.214) Elapsed 0m 31s (remain 0m 10s) Loss: 0.3457(0.3893) \n"
     ]
    },
    {
     "name": "stderr",
     "output_type": "stream",
     "text": [
      "Epoch 10 - avg_train_loss: 0.3257 avg_val_loss: 0.4045 time: 264s\n",
      "Epoch 10 - Accuracy: 0.8677261042299602\n",
      "Epoch 10 - Save Best Score: 0.8677 Model\n"
     ]
    },
    {
     "name": "stdout",
     "output_type": "stream",
     "text": [
      "EVAL: [133/134] Data 0.000 (0.209) Elapsed 0m 41s (remain 0m 0s) Loss: 0.3907(0.4045) \n"
     ]
    },
    {
     "name": "stderr",
     "output_type": "stream",
     "text": [
      "=============== fold: 3 result ================\n",
      "Score: 0.86773\n",
      "========== fold: 4 training ============\n"
     ]
    },
    {
     "name": "stdout",
     "output_type": "stream",
     "text": [
      "Epoch: [1][0/535]Data 1.261 (1.261)Elapsed 0m 1s (remain 15m 33s)Loss: 1.5693(1.5693)Grad: 8.2528  \n",
      "Epoch: [1][100/535]Data 0.000 (0.013)Elapsed 0m 44s (remain 3m 9s)Loss: 0.8578(0.9515)Grad: 8.5700  \n",
      "Epoch: [1][200/535]Data 0.000 (0.007)Elapsed 1m 25s (remain 2m 21s)Loss: 0.4183(0.8137)Grad: 5.9334  \n",
      "Epoch: [1][300/535]Data 0.000 (0.005)Elapsed 2m 6s (remain 1m 38s)Loss: 0.6534(0.7355)Grad: 10.3566  \n",
      "Epoch: [1][400/535]Data 0.000 (0.004)Elapsed 2m 46s (remain 0m 55s)Loss: 0.3306(0.6865)Grad: 4.5183  \n",
      "Epoch: [1][500/535]Data 0.000 (0.003)Elapsed 3m 26s (remain 0m 14s)Loss: 0.2394(0.6578)Grad: 4.2555  \n",
      "Epoch: [1][534/535]Data 0.000 (0.003)Elapsed 3m 39s (remain 0m 0s)Loss: 0.4647(0.6522)Grad: 8.2531  \n",
      "EVAL: [0/134] Data 1.189 (1.189) Elapsed 0m 1s (remain 2m 50s) Loss: 0.5940(0.5940) \n",
      "EVAL: [100/134] Data 0.507 (0.192) Elapsed 0m 28s (remain 0m 9s) Loss: 0.5054(0.4958) \n"
     ]
    },
    {
     "name": "stderr",
     "output_type": "stream",
     "text": [
      "Epoch 1 - avg_train_loss: 0.6522 avg_val_loss: 0.4948 time: 259s\n",
      "Epoch 1 - Accuracy: 0.8303341902313625\n",
      "Epoch 1 - Save Best Score: 0.8303 Model\n"
     ]
    },
    {
     "name": "stdout",
     "output_type": "stream",
     "text": [
      "EVAL: [133/134] Data 0.000 (0.197) Elapsed 0m 39s (remain 0m 0s) Loss: 0.4954(0.4948) \n",
      "Epoch: [2][0/535]Data 1.327 (1.327)Elapsed 0m 1s (remain 15m 53s)Loss: 0.6410(0.6410)Grad: 10.6684  \n",
      "Epoch: [2][100/535]Data 0.000 (0.014)Elapsed 0m 42s (remain 3m 2s)Loss: 0.4009(0.5307)Grad: 6.4671  \n",
      "Epoch: [2][200/535]Data 0.000 (0.008)Elapsed 1m 22s (remain 2m 17s)Loss: 0.6463(0.5101)Grad: 9.3870  \n",
      "Epoch: [2][300/535]Data 0.000 (0.005)Elapsed 2m 2s (remain 1m 35s)Loss: 0.4137(0.5011)Grad: 6.4903  \n",
      "Epoch: [2][400/535]Data 0.000 (0.004)Elapsed 2m 42s (remain 0m 54s)Loss: 0.7397(0.4937)Grad: 9.6153  \n",
      "Epoch: [2][500/535]Data 0.000 (0.003)Elapsed 3m 21s (remain 0m 13s)Loss: 1.0153(0.4871)Grad: 10.5235  \n",
      "Epoch: [2][534/535]Data 0.000 (0.003)Elapsed 3m 34s (remain 0m 0s)Loss: 0.3592(0.4876)Grad: 5.4766  \n",
      "EVAL: [0/134] Data 1.162 (1.162) Elapsed 0m 1s (remain 2m 47s) Loss: 0.5246(0.5246) \n",
      "EVAL: [100/134] Data 0.081 (0.180) Elapsed 0m 27s (remain 0m 9s) Loss: 0.4149(0.4403) \n"
     ]
    },
    {
     "name": "stderr",
     "output_type": "stream",
     "text": [
      "Epoch 2 - avg_train_loss: 0.4876 avg_val_loss: 0.4392 time: 251s\n",
      "Epoch 2 - Accuracy: 0.8497312456181351\n",
      "Epoch 2 - Save Best Score: 0.8497 Model\n"
     ]
    },
    {
     "name": "stdout",
     "output_type": "stream",
     "text": [
      "EVAL: [133/134] Data 0.000 (0.176) Elapsed 0m 36s (remain 0m 0s) Loss: 0.2556(0.4392) \n",
      "Epoch: [3][0/535]Data 1.462 (1.462)Elapsed 0m 2s (remain 18m 56s)Loss: 0.9102(0.9102)Grad: 9.3723  \n",
      "Epoch: [3][100/535]Data 0.000 (0.015)Elapsed 0m 41s (remain 2m 57s)Loss: 0.4216(0.4538)Grad: 6.1685  \n",
      "Epoch: [3][200/535]Data 0.000 (0.008)Elapsed 1m 20s (remain 2m 14s)Loss: 0.4706(0.4531)Grad: 6.6568  \n",
      "Epoch: [3][300/535]Data 0.000 (0.005)Elapsed 2m 0s (remain 1m 33s)Loss: 0.5218(0.4466)Grad: 8.1496  \n",
      "Epoch: [3][400/535]Data 0.000 (0.004)Elapsed 2m 39s (remain 0m 53s)Loss: 0.4869(0.4462)Grad: 8.1542  \n",
      "Epoch: [3][500/535]Data 0.000 (0.003)Elapsed 3m 18s (remain 0m 13s)Loss: 0.5423(0.4437)Grad: 7.6306  \n",
      "Epoch: [3][534/535]Data 0.000 (0.003)Elapsed 3m 31s (remain 0m 0s)Loss: 0.4693(0.4461)Grad: 7.9445  \n",
      "EVAL: [0/134] Data 1.402 (1.402) Elapsed 0m 1s (remain 3m 21s) Loss: 0.5531(0.5531) \n",
      "EVAL: [100/134] Data 0.403 (0.189) Elapsed 0m 28s (remain 0m 9s) Loss: 0.5313(0.4298) \n"
     ]
    },
    {
     "name": "stderr",
     "output_type": "stream",
     "text": [
      "Epoch 3 - avg_train_loss: 0.4461 avg_val_loss: 0.4290 time: 249s\n",
      "Epoch 3 - Accuracy: 0.8523019397055387\n",
      "Epoch 3 - Save Best Score: 0.8523 Model\n"
     ]
    },
    {
     "name": "stdout",
     "output_type": "stream",
     "text": [
      "EVAL: [133/134] Data 0.000 (0.182) Elapsed 0m 37s (remain 0m 0s) Loss: 0.3676(0.4290) \n",
      "Epoch: [4][0/535]Data 1.290 (1.290)Elapsed 0m 1s (remain 15m 11s)Loss: 0.2537(0.2537)Grad: 4.6387  \n",
      "Epoch: [4][100/535]Data 0.015 (0.014)Elapsed 0m 41s (remain 2m 56s)Loss: 0.2340(0.4263)Grad: 4.4731  \n",
      "Epoch: [4][200/535]Data 0.000 (0.007)Elapsed 1m 20s (remain 2m 13s)Loss: 0.3651(0.4189)Grad: 6.4363  \n",
      "Epoch: [4][300/535]Data 0.000 (0.005)Elapsed 1m 59s (remain 1m 33s)Loss: 0.8087(0.4197)Grad: 8.8538  \n",
      "Epoch: [4][400/535]Data 0.005 (0.004)Elapsed 2m 38s (remain 0m 53s)Loss: 0.2838(0.4219)Grad: 5.1940  \n",
      "Epoch: [4][500/535]Data 0.000 (0.003)Elapsed 3m 18s (remain 0m 13s)Loss: 0.5697(0.4184)Grad: 8.1139  \n",
      "Epoch: [4][534/535]Data 0.000 (0.003)Elapsed 3m 31s (remain 0m 0s)Loss: 0.3796(0.4176)Grad: 5.7877  \n",
      "EVAL: [0/134] Data 1.222 (1.222) Elapsed 0m 1s (remain 2m 54s) Loss: 0.5419(0.5419) \n",
      "EVAL: [100/134] Data 0.819 (0.182) Elapsed 0m 28s (remain 0m 9s) Loss: 0.4649(0.3981) \n"
     ]
    },
    {
     "name": "stderr",
     "output_type": "stream",
     "text": [
      "Epoch 4 - avg_train_loss: 0.4176 avg_val_loss: 0.3999 time: 248s\n",
      "Epoch 4 - Accuracy: 0.8625847160551531\n",
      "Epoch 4 - Save Best Score: 0.8626 Model\n"
     ]
    },
    {
     "name": "stdout",
     "output_type": "stream",
     "text": [
      "EVAL: [133/134] Data 0.000 (0.176) Elapsed 0m 36s (remain 0m 0s) Loss: 0.3539(0.3999) \n",
      "Epoch: [5][0/535]Data 1.309 (1.309)Elapsed 0m 1s (remain 16m 10s)Loss: 0.2255(0.2255)Grad: 4.9094  \n",
      "Epoch: [5][100/535]Data 0.000 (0.014)Elapsed 0m 41s (remain 2m 57s)Loss: 0.3899(0.4078)Grad: 5.7173  \n",
      "Epoch: [5][200/535]Data 0.000 (0.007)Elapsed 1m 19s (remain 2m 12s)Loss: 0.4452(0.4022)Grad: 7.3054  \n",
      "Epoch: [5][300/535]Data 0.000 (0.005)Elapsed 1m 58s (remain 1m 32s)Loss: 0.3048(0.4002)Grad: 5.5463  \n",
      "Epoch: [5][400/535]Data 0.002 (0.004)Elapsed 2m 38s (remain 0m 52s)Loss: 0.4904(0.4015)Grad: 7.4352  \n",
      "Epoch: [5][500/535]Data 0.000 (0.003)Elapsed 3m 17s (remain 0m 13s)Loss: 0.2724(0.4021)Grad: 4.8642  \n",
      "Epoch: [5][534/535]Data 0.000 (0.003)Elapsed 3m 30s (remain 0m 0s)Loss: 0.2153(0.4012)Grad: 3.7670  \n",
      "EVAL: [0/134] Data 1.747 (1.747) Elapsed 0m 1s (remain 4m 6s) Loss: 0.4546(0.4546) \n",
      "EVAL: [100/134] Data 0.493 (0.184) Elapsed 0m 28s (remain 0m 9s) Loss: 0.4231(0.3909) \n"
     ]
    },
    {
     "name": "stderr",
     "output_type": "stream",
     "text": [
      "Epoch 5 - avg_train_loss: 0.4012 avg_val_loss: 0.3928 time: 246s\n",
      "Epoch 5 - Accuracy: 0.8625847160551531\n"
     ]
    },
    {
     "name": "stdout",
     "output_type": "stream",
     "text": [
      "EVAL: [133/134] Data 0.000 (0.173) Elapsed 0m 35s (remain 0m 0s) Loss: 0.3885(0.3928) \n",
      "Epoch: [6][0/535]Data 1.113 (1.113)Elapsed 0m 1s (remain 13m 57s)Loss: 0.2079(0.2079)Grad: 3.4216  \n",
      "Epoch: [6][100/535]Data 0.000 (0.012)Elapsed 0m 41s (remain 2m 56s)Loss: 0.3991(0.3725)Grad: 7.3801  \n",
      "Epoch: [6][200/535]Data 0.000 (0.006)Elapsed 1m 20s (remain 2m 13s)Loss: 0.4253(0.3685)Grad: 7.2525  \n",
      "Epoch: [6][300/535]Data 0.000 (0.004)Elapsed 1m 59s (remain 1m 32s)Loss: 0.2674(0.3713)Grad: 5.9821  \n",
      "Epoch: [6][400/535]Data 0.000 (0.003)Elapsed 2m 38s (remain 0m 52s)Loss: 0.2662(0.3839)Grad: 4.9176  \n",
      "Epoch: [6][500/535]Data 0.000 (0.003)Elapsed 3m 16s (remain 0m 13s)Loss: 0.2768(0.3813)Grad: 5.1119  \n",
      "Epoch: [6][534/535]Data 0.000 (0.003)Elapsed 3m 30s (remain 0m 0s)Loss: 0.2474(0.3788)Grad: 4.7857  \n",
      "EVAL: [0/134] Data 1.115 (1.115) Elapsed 0m 1s (remain 2m 40s) Loss: 0.4656(0.4656) \n",
      "EVAL: [100/134] Data 0.672 (0.169) Elapsed 0m 26s (remain 0m 8s) Loss: 0.4200(0.3884) \n"
     ]
    },
    {
     "name": "stderr",
     "output_type": "stream",
     "text": [
      "Epoch 6 - avg_train_loss: 0.3788 avg_val_loss: 0.3920 time: 245s\n",
      "Epoch 6 - Accuracy: 0.8691283010049077\n",
      "Epoch 6 - Save Best Score: 0.8691 Model\n"
     ]
    },
    {
     "name": "stdout",
     "output_type": "stream",
     "text": [
      "EVAL: [133/134] Data 0.000 (0.165) Elapsed 0m 34s (remain 0m 0s) Loss: 0.2872(0.3920) \n",
      "Epoch: [7][0/535]Data 1.244 (1.244)Elapsed 0m 1s (remain 15m 4s)Loss: 0.2066(0.2066)Grad: 4.6499  \n",
      "Epoch: [7][100/535]Data 0.000 (0.013)Elapsed 0m 41s (remain 2m 56s)Loss: 0.1848(0.3585)Grad: 3.6254  \n",
      "Epoch: [7][200/535]Data 0.000 (0.007)Elapsed 1m 19s (remain 2m 12s)Loss: 0.2093(0.3579)Grad: 3.6955  \n",
      "Epoch: [7][300/535]Data 0.000 (0.005)Elapsed 1m 58s (remain 1m 32s)Loss: 0.4469(0.3598)Grad: 6.7462  \n",
      "Epoch: [7][400/535]Data 0.000 (0.004)Elapsed 2m 37s (remain 0m 52s)Loss: 0.1663(0.3624)Grad: 4.4972  \n",
      "Epoch: [7][500/535]Data 0.000 (0.003)Elapsed 3m 15s (remain 0m 13s)Loss: 0.5025(0.3594)Grad: 8.9608  \n",
      "Epoch: [7][534/535]Data 0.000 (0.003)Elapsed 3m 29s (remain 0m 0s)Loss: 0.5126(0.3587)Grad: 10.8562  \n",
      "EVAL: [0/134] Data 1.190 (1.190) Elapsed 0m 1s (remain 2m 50s) Loss: 0.4454(0.4454) \n",
      "EVAL: [100/134] Data 0.002 (0.169) Elapsed 0m 26s (remain 0m 8s) Loss: 0.4151(0.3942) \n"
     ]
    },
    {
     "name": "stderr",
     "output_type": "stream",
     "text": [
      "Epoch 7 - avg_train_loss: 0.3587 avg_val_loss: 0.3994 time: 244s\n",
      "Epoch 7 - Accuracy: 0.8660902079925216\n"
     ]
    },
    {
     "name": "stdout",
     "output_type": "stream",
     "text": [
      "EVAL: [133/134] Data 0.000 (0.163) Elapsed 0m 34s (remain 0m 0s) Loss: 0.2931(0.3994) \n",
      "Epoch: [8][0/535]Data 1.230 (1.230)Elapsed 0m 1s (remain 15m 4s)Loss: 0.4316(0.4316)Grad: 7.5108  \n",
      "Epoch: [8][100/535]Data 0.000 (0.013)Elapsed 0m 41s (remain 2m 56s)Loss: 0.2000(0.3339)Grad: 4.9178  \n",
      "Epoch: [8][200/535]Data 0.000 (0.007)Elapsed 1m 20s (remain 2m 12s)Loss: 0.3773(0.3482)Grad: 5.7358  \n",
      "Epoch: [8][300/535]Data 0.000 (0.005)Elapsed 1m 59s (remain 1m 32s)Loss: 0.3552(0.3558)Grad: 7.6377  \n",
      "Epoch: [8][400/535]Data 0.000 (0.004)Elapsed 2m 38s (remain 0m 52s)Loss: 0.2569(0.3503)Grad: 5.1451  \n",
      "Epoch: [8][500/535]Data 0.000 (0.003)Elapsed 3m 17s (remain 0m 13s)Loss: 0.1836(0.3511)Grad: 4.5959  \n",
      "Epoch: [8][534/535]Data 0.000 (0.003)Elapsed 3m 30s (remain 0m 0s)Loss: 0.2390(0.3490)Grad: 5.2571  \n",
      "EVAL: [0/134] Data 1.136 (1.136) Elapsed 0m 1s (remain 2m 55s) Loss: 0.4913(0.4913) \n",
      "EVAL: [100/134] Data 0.546 (0.179) Elapsed 0m 27s (remain 0m 9s) Loss: 0.4042(0.3822) \n"
     ]
    },
    {
     "name": "stderr",
     "output_type": "stream",
     "text": [
      "Epoch 8 - avg_train_loss: 0.3490 avg_val_loss: 0.3847 time: 247s\n",
      "Epoch 8 - Accuracy: 0.8688946015424165\n"
     ]
    },
    {
     "name": "stdout",
     "output_type": "stream",
     "text": [
      "EVAL: [133/134] Data 0.000 (0.178) Elapsed 0m 36s (remain 0m 0s) Loss: 0.3412(0.3847) \n",
      "Epoch: [9][0/535]Data 1.303 (1.303)Elapsed 0m 1s (remain 15m 25s)Loss: 0.2632(0.2632)Grad: 5.8805  \n",
      "Epoch: [9][100/535]Data 0.000 (0.014)Elapsed 0m 41s (remain 2m 59s)Loss: 0.4838(0.3246)Grad: 8.2689  \n",
      "Epoch: [9][200/535]Data 0.000 (0.007)Elapsed 1m 21s (remain 2m 15s)Loss: 0.3259(0.3320)Grad: 6.6004  \n",
      "Epoch: [9][300/535]Data 0.000 (0.005)Elapsed 2m 0s (remain 1m 33s)Loss: 0.4292(0.3408)Grad: 8.6310  \n",
      "Epoch: [9][400/535]Data 0.000 (0.004)Elapsed 2m 41s (remain 0m 53s)Loss: 0.2807(0.3370)Grad: 5.7594  \n",
      "Epoch: [9][500/535]Data 0.000 (0.003)Elapsed 3m 22s (remain 0m 13s)Loss: 0.3910(0.3377)Grad: 8.0990  \n",
      "Epoch: [9][534/535]Data 0.000 (0.003)Elapsed 3m 35s (remain 0m 0s)Loss: 0.4398(0.3377)Grad: 7.5391  \n",
      "EVAL: [0/134] Data 1.208 (1.208) Elapsed 0m 1s (remain 2m 53s) Loss: 0.5493(0.5493) \n",
      "EVAL: [100/134] Data 0.489 (0.191) Elapsed 0m 28s (remain 0m 9s) Loss: 0.4389(0.3865) \n"
     ]
    },
    {
     "name": "stderr",
     "output_type": "stream",
     "text": [
      "Epoch 9 - avg_train_loss: 0.3377 avg_val_loss: 0.3903 time: 254s\n",
      "Epoch 9 - Accuracy: 0.8670250058424865\n"
     ]
    },
    {
     "name": "stdout",
     "output_type": "stream",
     "text": [
      "EVAL: [133/134] Data 0.000 (0.189) Elapsed 0m 38s (remain 0m 0s) Loss: 0.3417(0.3903) \n",
      "Epoch: [10][0/535]Data 1.171 (1.171)Elapsed 0m 1s (remain 14m 40s)Loss: 0.3351(0.3351)Grad: 6.0432  \n",
      "Epoch: [10][100/535]Data 0.000 (0.012)Elapsed 0m 42s (remain 3m 1s)Loss: 0.3684(0.3234)Grad: 6.9836  \n",
      "Epoch: [10][200/535]Data 0.000 (0.007)Elapsed 1m 22s (remain 2m 17s)Loss: 0.3969(0.3233)Grad: 6.7093  \n",
      "Epoch: [10][300/535]Data 0.003 (0.005)Elapsed 2m 3s (remain 1m 35s)Loss: 0.3177(0.3248)Grad: 6.7736  \n",
      "Epoch: [10][400/535]Data 0.000 (0.004)Elapsed 2m 42s (remain 0m 54s)Loss: 0.2191(0.3286)Grad: 5.4889  \n",
      "Epoch: [10][500/535]Data 0.000 (0.003)Elapsed 3m 24s (remain 0m 13s)Loss: 0.1893(0.3269)Grad: 4.5985  \n",
      "Epoch: [10][534/535]Data 0.000 (0.003)Elapsed 3m 37s (remain 0m 0s)Loss: 0.3020(0.3276)Grad: 5.9822  \n",
      "EVAL: [0/134] Data 1.286 (1.286) Elapsed 0m 1s (remain 3m 3s) Loss: 0.4940(0.4940) \n",
      "EVAL: [100/134] Data 0.598 (0.207) Elapsed 0m 30s (remain 0m 9s) Loss: 0.4286(0.3803) \n"
     ]
    },
    {
     "name": "stderr",
     "output_type": "stream",
     "text": [
      "Epoch 10 - avg_train_loss: 0.3276 avg_val_loss: 0.3831 time: 257s\n",
      "Epoch 10 - Accuracy: 0.8700630988548727\n",
      "Epoch 10 - Save Best Score: 0.8701 Model\n"
     ]
    },
    {
     "name": "stdout",
     "output_type": "stream",
     "text": [
      "EVAL: [133/134] Data 0.000 (0.197) Elapsed 0m 39s (remain 0m 0s) Loss: 0.3260(0.3831) \n"
     ]
    },
    {
     "name": "stderr",
     "output_type": "stream",
     "text": [
      "=============== fold: 4 result ================\n",
      "Score: 0.87006\n",
      "============ CV ============\n",
      "Score: 0.87321\n"
     ]
    }
   ],
   "source": [
    "if __name__ == '__main__':\n",
    "    main()"
   ]
  },
  {
   "cell_type": "code",
   "execution_count": null,
   "metadata": {
    "papermill": {
     "duration": 0.279235,
     "end_time": "2020-12-19T14:03:03.190518",
     "exception": false,
     "start_time": "2020-12-19T14:03:02.911283",
     "status": "completed"
    },
    "tags": []
   },
   "outputs": [],
   "source": []
  }
 ],
 "metadata": {
  "kernelspec": {
   "display_name": "Python 3",
   "language": "python",
   "name": "python3"
  },
  "language_info": {
   "codemirror_mode": {
    "name": "ipython",
    "version": 3
   },
   "file_extension": ".py",
   "mimetype": "text/x-python",
   "name": "python",
   "nbconvert_exporter": "python",
   "pygments_lexer": "ipython3",
   "version": "3.7.6"
  },
  "papermill": {
   "duration": 12647.32961,
   "end_time": "2020-12-19T14:03:04.677471",
   "environment_variables": {},
   "exception": null,
   "input_path": "__notebook__.ipynb",
   "output_path": "__notebook__.ipynb",
   "parameters": {},
   "start_time": "2020-12-19T10:32:17.347861",
   "version": "2.1.0"
  }
 },
 "nbformat": 4,
 "nbformat_minor": 4
}
