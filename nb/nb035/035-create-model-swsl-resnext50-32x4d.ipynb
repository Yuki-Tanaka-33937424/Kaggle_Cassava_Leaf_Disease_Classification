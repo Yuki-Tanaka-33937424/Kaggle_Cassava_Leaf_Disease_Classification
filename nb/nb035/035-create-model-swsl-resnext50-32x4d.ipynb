{
 "cells": [
  {
   "cell_type": "code",
   "execution_count": 1,
   "metadata": {
    "execution": {
     "iopub.execute_input": "2021-02-14T13:56:27.723717Z",
     "iopub.status.busy": "2021-02-14T13:56:27.722822Z",
     "iopub.status.idle": "2021-02-14T13:56:27.724495Z",
     "shell.execute_reply": "2021-02-14T13:56:27.725039Z"
    },
    "papermill": {
     "duration": 0.030199,
     "end_time": "2021-02-14T13:56:27.725288",
     "exception": false,
     "start_time": "2021-02-14T13:56:27.695089",
     "status": "completed"
    },
    "tags": []
   },
   "outputs": [],
   "source": [
    "# !pip install pytorch_ranger"
   ]
  },
  {
   "cell_type": "code",
   "execution_count": 2,
   "metadata": {
    "_cell_guid": "79c7e3d0-c299-4dcb-8224-4455121ee9b0",
    "_uuid": "d629ff2d2480ee46fbb7e2d37f6b5fab8052498a",
    "execution": {
     "iopub.execute_input": "2021-02-14T13:56:27.772279Z",
     "iopub.status.busy": "2021-02-14T13:56:27.771716Z",
     "iopub.status.idle": "2021-02-14T13:56:28.446390Z",
     "shell.execute_reply": "2021-02-14T13:56:28.445344Z"
    },
    "papermill": {
     "duration": 0.700147,
     "end_time": "2021-02-14T13:56:28.446553",
     "exception": false,
     "start_time": "2021-02-14T13:56:27.746406",
     "status": "completed"
    },
    "tags": []
   },
   "outputs": [],
   "source": [
    "import numpy as np\n",
    "import pandas as pd\n",
    "import matplotlib.pyplot as plt\n",
    "import seaborn as sns\n",
    "import os\n",
    "\n",
    "%matplotlib inline"
   ]
  },
  {
   "cell_type": "code",
   "execution_count": 3,
   "metadata": {
    "execution": {
     "iopub.execute_input": "2021-02-14T13:56:28.493096Z",
     "iopub.status.busy": "2021-02-14T13:56:28.492240Z",
     "iopub.status.idle": "2021-02-14T13:56:28.498922Z",
     "shell.execute_reply": "2021-02-14T13:56:28.498501Z"
    },
    "papermill": {
     "duration": 0.03135,
     "end_time": "2021-02-14T13:56:28.499036",
     "exception": false,
     "start_time": "2021-02-14T13:56:28.467686",
     "status": "completed"
    },
    "tags": []
   },
   "outputs": [
    {
     "data": {
      "text/plain": [
       "['train_tfrecords',\n",
       " 'sample_submission.csv',\n",
       " 'test_tfrecords',\n",
       " 'label_num_to_disease_map.json',\n",
       " 'train_images',\n",
       " 'train.csv',\n",
       " 'test_images']"
      ]
     },
     "execution_count": 3,
     "metadata": {},
     "output_type": "execute_result"
    }
   ],
   "source": [
    "os.listdir('../input/cassava-leaf-disease-classification/')"
   ]
  },
  {
   "cell_type": "code",
   "execution_count": 4,
   "metadata": {
    "execution": {
     "iopub.execute_input": "2021-02-14T13:56:28.549010Z",
     "iopub.status.busy": "2021-02-14T13:56:28.548460Z",
     "iopub.status.idle": "2021-02-14T13:56:28.824489Z",
     "shell.execute_reply": "2021-02-14T13:56:28.823728Z"
    },
    "papermill": {
     "duration": 0.304338,
     "end_time": "2021-02-14T13:56:28.824628",
     "exception": false,
     "start_time": "2021-02-14T13:56:28.520290",
     "status": "completed"
    },
    "tags": []
   },
   "outputs": [
    {
     "data": {
      "text/html": [
       "<div>\n",
       "<style scoped>\n",
       "    .dataframe tbody tr th:only-of-type {\n",
       "        vertical-align: middle;\n",
       "    }\n",
       "\n",
       "    .dataframe tbody tr th {\n",
       "        vertical-align: top;\n",
       "    }\n",
       "\n",
       "    .dataframe thead th {\n",
       "        text-align: right;\n",
       "    }\n",
       "</style>\n",
       "<table border=\"1\" class=\"dataframe\">\n",
       "  <thead>\n",
       "    <tr style=\"text-align: right;\">\n",
       "      <th></th>\n",
       "      <th>image_id</th>\n",
       "      <th>label</th>\n",
       "      <th>source</th>\n",
       "    </tr>\n",
       "  </thead>\n",
       "  <tbody>\n",
       "    <tr>\n",
       "      <th>0</th>\n",
       "      <td>1000015157.jpg</td>\n",
       "      <td>0</td>\n",
       "      <td>2020</td>\n",
       "    </tr>\n",
       "    <tr>\n",
       "      <th>1</th>\n",
       "      <td>1000201771.jpg</td>\n",
       "      <td>3</td>\n",
       "      <td>2020</td>\n",
       "    </tr>\n",
       "    <tr>\n",
       "      <th>2</th>\n",
       "      <td>100042118.jpg</td>\n",
       "      <td>1</td>\n",
       "      <td>2020</td>\n",
       "    </tr>\n",
       "    <tr>\n",
       "      <th>3</th>\n",
       "      <td>1000723321.jpg</td>\n",
       "      <td>1</td>\n",
       "      <td>2020</td>\n",
       "    </tr>\n",
       "    <tr>\n",
       "      <th>4</th>\n",
       "      <td>1000812911.jpg</td>\n",
       "      <td>3</td>\n",
       "      <td>2020</td>\n",
       "    </tr>\n",
       "  </tbody>\n",
       "</table>\n",
       "</div>"
      ],
      "text/plain": [
       "         image_id  label  source\n",
       "0  1000015157.jpg      0    2020\n",
       "1  1000201771.jpg      3    2020\n",
       "2   100042118.jpg      1    2020\n",
       "3  1000723321.jpg      1    2020\n",
       "4  1000812911.jpg      3    2020"
      ]
     },
     "metadata": {},
     "output_type": "display_data"
    },
    {
     "data": {
      "text/html": [
       "<div>\n",
       "<style scoped>\n",
       "    .dataframe tbody tr th:only-of-type {\n",
       "        vertical-align: middle;\n",
       "    }\n",
       "\n",
       "    .dataframe tbody tr th {\n",
       "        vertical-align: top;\n",
       "    }\n",
       "\n",
       "    .dataframe thead th {\n",
       "        text-align: right;\n",
       "    }\n",
       "</style>\n",
       "<table border=\"1\" class=\"dataframe\">\n",
       "  <thead>\n",
       "    <tr style=\"text-align: right;\">\n",
       "      <th></th>\n",
       "      <th>image_id</th>\n",
       "      <th>label</th>\n",
       "    </tr>\n",
       "  </thead>\n",
       "  <tbody>\n",
       "    <tr>\n",
       "      <th>0</th>\n",
       "      <td>2216849948.jpg</td>\n",
       "      <td>4</td>\n",
       "    </tr>\n",
       "  </tbody>\n",
       "</table>\n",
       "</div>"
      ],
      "text/plain": [
       "         image_id  label\n",
       "0  2216849948.jpg      4"
      ]
     },
     "metadata": {},
     "output_type": "display_data"
    },
    {
     "data": {
      "text/html": [
       "<div>\n",
       "<style scoped>\n",
       "    .dataframe tbody tr th:only-of-type {\n",
       "        vertical-align: middle;\n",
       "    }\n",
       "\n",
       "    .dataframe tbody tr th {\n",
       "        vertical-align: top;\n",
       "    }\n",
       "\n",
       "    .dataframe thead th {\n",
       "        text-align: right;\n",
       "    }\n",
       "</style>\n",
       "<table border=\"1\" class=\"dataframe\">\n",
       "  <thead>\n",
       "    <tr style=\"text-align: right;\">\n",
       "      <th></th>\n",
       "      <th>0</th>\n",
       "    </tr>\n",
       "  </thead>\n",
       "  <tbody>\n",
       "    <tr>\n",
       "      <th>0</th>\n",
       "      <td>Cassava Bacterial Blight (CBB)</td>\n",
       "    </tr>\n",
       "    <tr>\n",
       "      <th>1</th>\n",
       "      <td>Cassava Brown Streak Disease (CBSD)</td>\n",
       "    </tr>\n",
       "    <tr>\n",
       "      <th>2</th>\n",
       "      <td>Cassava Green Mottle (CGM)</td>\n",
       "    </tr>\n",
       "    <tr>\n",
       "      <th>3</th>\n",
       "      <td>Cassava Mosaic Disease (CMD)</td>\n",
       "    </tr>\n",
       "    <tr>\n",
       "      <th>4</th>\n",
       "      <td>Healthy</td>\n",
       "    </tr>\n",
       "  </tbody>\n",
       "</table>\n",
       "</div>"
      ],
      "text/plain": [
       "                                     0\n",
       "0       Cassava Bacterial Blight (CBB)\n",
       "1  Cassava Brown Streak Disease (CBSD)\n",
       "2           Cassava Green Mottle (CGM)\n",
       "3         Cassava Mosaic Disease (CMD)\n",
       "4                              Healthy"
      ]
     },
     "metadata": {},
     "output_type": "display_data"
    }
   ],
   "source": [
    "train = pd.read_csv('../input/cassava-leaf-disease-merged/merged.csv')\n",
    "test = pd.read_csv('../input/cassava-leaf-disease-classification//sample_submission.csv')\n",
    "label_map = pd.read_json('../input/cassava-leaf-disease-classification/label_num_to_disease_map.json', orient='index')\n",
    "\n",
    "display(train.head())\n",
    "display(test.head())\n",
    "display(label_map)"
   ]
  },
  {
   "cell_type": "markdown",
   "metadata": {
    "papermill": {
     "duration": 0.022008,
     "end_time": "2021-02-14T13:56:28.868916",
     "exception": false,
     "start_time": "2021-02-14T13:56:28.846908",
     "status": "completed"
    },
    "tags": []
   },
   "source": [
    "## Directory settings"
   ]
  },
  {
   "cell_type": "code",
   "execution_count": 5,
   "metadata": {
    "execution": {
     "iopub.execute_input": "2021-02-14T13:56:28.917901Z",
     "iopub.status.busy": "2021-02-14T13:56:28.917215Z",
     "iopub.status.idle": "2021-02-14T13:56:28.920138Z",
     "shell.execute_reply": "2021-02-14T13:56:28.919697Z"
    },
    "papermill": {
     "duration": 0.029288,
     "end_time": "2021-02-14T13:56:28.920247",
     "exception": false,
     "start_time": "2021-02-14T13:56:28.890959",
     "status": "completed"
    },
    "tags": []
   },
   "outputs": [],
   "source": [
    "OUTPUT_DIR = './'\n",
    "if not os.path.exists(OUTPUT_DIR):\n",
    "    os.makedirs(OUTPUT_DIR)\n",
    "    \n",
    "TRAIN_PATH = '../input/cassava-leaf-disease-merged/train'\n",
    "TEST_PATH = '../input/cassava-leaf-disease-classification/test_images'"
   ]
  },
  {
   "cell_type": "markdown",
   "metadata": {
    "papermill": {
     "duration": 0.021886,
     "end_time": "2021-02-14T13:56:28.964462",
     "exception": false,
     "start_time": "2021-02-14T13:56:28.942576",
     "status": "completed"
    },
    "tags": []
   },
   "source": [
    "## CFG"
   ]
  },
  {
   "cell_type": "code",
   "execution_count": 6,
   "metadata": {
    "execution": {
     "iopub.execute_input": "2021-02-14T13:56:29.016495Z",
     "iopub.status.busy": "2021-02-14T13:56:29.015782Z",
     "iopub.status.idle": "2021-02-14T13:56:29.018550Z",
     "shell.execute_reply": "2021-02-14T13:56:29.018144Z"
    },
    "papermill": {
     "duration": 0.03167,
     "end_time": "2021-02-14T13:56:29.018658",
     "exception": false,
     "start_time": "2021-02-14T13:56:28.986988",
     "status": "completed"
    },
    "tags": []
   },
   "outputs": [],
   "source": [
    "class CFG:\n",
    "    debug = False\n",
    "    apex = False\n",
    "    print_freq = 100\n",
    "    num_workers = 4\n",
    "    model_name = 'swsl_resnext50_32x4d'\n",
    "    size = 410\n",
    "    scheduler = 'CosineAnnealingWarmRestarts'\n",
    "    loss_train = 'BiTemperedLoss'\n",
    "    epochs = 10\n",
    "    T_0 = 10\n",
    "    lr_1 = 1e-3\n",
    "    lr_2 = 1e-4\n",
    "    t1 = 0.9\n",
    "    t2 = 1.5\n",
    "    smooth = 1e-2\n",
    "    min_lr = 1e-6\n",
    "    batch_size = 32\n",
    "    weight_decay = 1e-6\n",
    "    gradient_accumulation_steps = 1\n",
    "    max_grad_norm = 1000\n",
    "    seed = 42\n",
    "    target_size = 5\n",
    "    target_col = 'label'\n",
    "    n_fold = 5\n",
    "    trn_fold = [0]\n",
    "    train = True\n",
    "    inference = False\n",
    "    \n",
    "if CFG.debug:\n",
    "    CFG.epochs = 3\n",
    "    train = train.sample(n=1000, random_state=CFG.seed).reset_index(drop=True)"
   ]
  },
  {
   "cell_type": "markdown",
   "metadata": {
    "papermill": {
     "duration": 0.021814,
     "end_time": "2021-02-14T13:56:29.062518",
     "exception": false,
     "start_time": "2021-02-14T13:56:29.040704",
     "status": "completed"
    },
    "tags": []
   },
   "source": [
    "## Library"
   ]
  },
  {
   "cell_type": "code",
   "execution_count": 7,
   "metadata": {
    "execution": {
     "iopub.execute_input": "2021-02-14T13:56:29.116729Z",
     "iopub.status.busy": "2021-02-14T13:56:29.116143Z",
     "iopub.status.idle": "2021-02-14T13:56:32.972802Z",
     "shell.execute_reply": "2021-02-14T13:56:32.973664Z"
    },
    "papermill": {
     "duration": 3.889217,
     "end_time": "2021-02-14T13:56:32.973887",
     "exception": false,
     "start_time": "2021-02-14T13:56:29.084670",
     "status": "completed"
    },
    "tags": []
   },
   "outputs": [],
   "source": [
    "import sys\n",
    "sys.path.append('../input/pytorch-image-models/')\n",
    "\n",
    "import os\n",
    "import math\n",
    "import time\n",
    "import random\n",
    "import shutil\n",
    "from pathlib import Path\n",
    "from contextlib import contextmanager\n",
    "from collections import defaultdict, Counter\n",
    "\n",
    "import scipy as sp\n",
    "import numpy as np\n",
    "import pandas as pd\n",
    "\n",
    "from sklearn import preprocessing\n",
    "from sklearn.metrics import accuracy_score\n",
    "from sklearn.model_selection import StratifiedKFold\n",
    "\n",
    "from tqdm.auto import tqdm\n",
    "from functools import partial\n",
    "\n",
    "import cv2\n",
    "from PIL import Image\n",
    "\n",
    "import torch\n",
    "import torch.nn as nn\n",
    "import torch.nn.functional as F\n",
    "from torch.optim import Adam, SGD\n",
    "import torchvision.models as models\n",
    "from torch.nn.parameter import Parameter\n",
    "from torch.utils.data import DataLoader, Dataset\n",
    "from torch.optim.lr_scheduler import CosineAnnealingWarmRestarts, CosineAnnealingLR, ReduceLROnPlateau\n",
    "\n",
    "sys.path.append('../input/pytorch-sam')\n",
    "from sam import SAM\n",
    "\n",
    "from albumentations import (\n",
    "    HorizontalFlip, VerticalFlip, IAAPerspective, ShiftScaleRotate, CLAHE, RandomRotate90,\n",
    "    Transpose, ShiftScaleRotate, Blur, OpticalDistortion, GridDistortion, HueSaturationValue,\n",
    "    IAAAdditiveGaussianNoise, GaussNoise, MotionBlur, MedianBlur, IAAPiecewiseAffine, RandomResizedCrop,\n",
    "    IAASharpen, IAAEmboss, RandomBrightnessContrast, Flip, OneOf, Compose, Normalize, Cutout, CoarseDropout, ShiftScaleRotate, CenterCrop, Resize\n",
    ")\n",
    "from albumentations.pytorch import ToTensorV2\n",
    "from albumentations import ImageOnlyTransform\n",
    "\n",
    "import timm\n",
    "\n",
    "import warnings \n",
    "warnings.filterwarnings('ignore')\n",
    "\n",
    "if CFG.apex:\n",
    "    from apex import amp\n",
    "\n",
    "device = torch.device('cuda' if torch.cuda.is_available() else 'cpu')"
   ]
  },
  {
   "cell_type": "markdown",
   "metadata": {
    "papermill": {
     "duration": 0.035435,
     "end_time": "2021-02-14T13:56:33.056030",
     "exception": false,
     "start_time": "2021-02-14T13:56:33.020595",
     "status": "completed"
    },
    "tags": []
   },
   "source": [
    "## Utils"
   ]
  },
  {
   "cell_type": "code",
   "execution_count": 8,
   "metadata": {
    "execution": {
     "iopub.execute_input": "2021-02-14T13:56:33.139926Z",
     "iopub.status.busy": "2021-02-14T13:56:33.139158Z",
     "iopub.status.idle": "2021-02-14T13:56:33.147097Z",
     "shell.execute_reply": "2021-02-14T13:56:33.148053Z"
    },
    "papermill": {
     "duration": 0.056093,
     "end_time": "2021-02-14T13:56:33.148236",
     "exception": false,
     "start_time": "2021-02-14T13:56:33.092143",
     "status": "completed"
    },
    "tags": []
   },
   "outputs": [],
   "source": [
    "def get_score(y_true, y_pred):\n",
    "    return accuracy_score(y_true, y_pred)\n",
    "\n",
    "@contextmanager\n",
    "def timer(name):\n",
    "    t0 = time.time()\n",
    "    LOGGER.info(f'[{name}] start')\n",
    "    yield\n",
    "    LOGGER.info(f'[{name}] done in {time.time() - t0:.0f}')\n",
    "    \n",
    "def init_logger(log_file=OUTPUT_DIR+'train.log'):\n",
    "    from logging import getLogger, INFO, FileHandler,  Formatter,  StreamHandler\n",
    "    logger = getLogger(__name__)\n",
    "    logger.setLevel(INFO)\n",
    "    handler1 = StreamHandler()\n",
    "    handler1.setFormatter(Formatter(\"%(message)s\"))\n",
    "    handler2 = FileHandler(filename=log_file)\n",
    "    handler2.setFormatter(Formatter(\"%(message)s\"))\n",
    "    logger.addHandler(handler1)\n",
    "    logger.addHandler(handler2)\n",
    "    return logger\n",
    "\n",
    "LOGGER = init_logger()\n",
    "\n",
    "def seed_torch(seed=42):\n",
    "    random.seed(seed)\n",
    "    os.environ['PYTHONHASHSEED'] = str(seed)\n",
    "    np.random.seed(seed)\n",
    "    torch.manual_seed(seed)\n",
    "    torch.cuda.manual_seed(seed)\n",
    "    torch.backends.cudnn.benchmark = False\n",
    "    torch.backends.cudnn.deterministic = True\n",
    "\n",
    "seed_torch(seed=CFG.seed)"
   ]
  },
  {
   "cell_type": "markdown",
   "metadata": {
    "papermill": {
     "duration": 0.047932,
     "end_time": "2021-02-14T13:56:33.236706",
     "exception": false,
     "start_time": "2021-02-14T13:56:33.188774",
     "status": "completed"
    },
    "tags": []
   },
   "source": [
    "## CV split"
   ]
  },
  {
   "cell_type": "code",
   "execution_count": 9,
   "metadata": {
    "execution": {
     "iopub.execute_input": "2021-02-14T13:56:33.319612Z",
     "iopub.status.busy": "2021-02-14T13:56:33.316950Z",
     "iopub.status.idle": "2021-02-14T13:56:33.353742Z",
     "shell.execute_reply": "2021-02-14T13:56:33.352934Z"
    },
    "papermill": {
     "duration": 0.078659,
     "end_time": "2021-02-14T13:56:33.353867",
     "exception": false,
     "start_time": "2021-02-14T13:56:33.275208",
     "status": "completed"
    },
    "tags": []
   },
   "outputs": [
    {
     "name": "stdout",
     "output_type": "stream",
     "text": [
      "fold  label\n",
      "0     0         299\n",
      "      1         695\n",
      "      2         604\n",
      "      3        3092\n",
      "      4         578\n",
      "1     0         299\n",
      "      1         695\n",
      "      2         604\n",
      "      3        3092\n",
      "      4         578\n",
      "2     0         298\n",
      "      1         695\n",
      "      2         603\n",
      "      3        3093\n",
      "      4         578\n",
      "3     0         298\n",
      "      1         695\n",
      "      2         603\n",
      "      3        3093\n",
      "      4         578\n",
      "4     0         298\n",
      "      1         696\n",
      "      2         603\n",
      "      3        3092\n",
      "      4         578\n",
      "dtype: int64\n"
     ]
    }
   ],
   "source": [
    "folds = train.copy()\n",
    "Fold = StratifiedKFold(n_splits=CFG.n_fold, shuffle=True, random_state=CFG.seed)\n",
    "for n, (train_index, val_index) in enumerate(Fold.split(folds, folds[CFG.target_col])):\n",
    "    folds.loc[val_index, 'fold'] = int(n)\n",
    "folds['fold'] = folds['fold'].astype(int)\n",
    "print(folds.groupby(['fold', CFG.target_col]).size())"
   ]
  },
  {
   "cell_type": "markdown",
   "metadata": {
    "papermill": {
     "duration": 0.039883,
     "end_time": "2021-02-14T13:56:33.434519",
     "exception": false,
     "start_time": "2021-02-14T13:56:33.394636",
     "status": "completed"
    },
    "tags": []
   },
   "source": [
    "## Dataset"
   ]
  },
  {
   "cell_type": "code",
   "execution_count": 10,
   "metadata": {
    "execution": {
     "iopub.execute_input": "2021-02-14T13:56:33.508267Z",
     "iopub.status.busy": "2021-02-14T13:56:33.506477Z",
     "iopub.status.idle": "2021-02-14T13:56:33.508889Z",
     "shell.execute_reply": "2021-02-14T13:56:33.509309Z"
    },
    "papermill": {
     "duration": 0.037198,
     "end_time": "2021-02-14T13:56:33.509442",
     "exception": false,
     "start_time": "2021-02-14T13:56:33.472244",
     "status": "completed"
    },
    "tags": []
   },
   "outputs": [],
   "source": [
    "class TrainDataset(Dataset):\n",
    "    def __init__(self, df, transform=None):\n",
    "        self.df = df\n",
    "        self.file_names = df['image_id'].values\n",
    "        self.labels = df['label'].values\n",
    "#         self.labels = pd.get_dummies(df['label']).values  # One Hot Encoding\n",
    "        self.transform = transform\n",
    "    \n",
    "    def __len__(self):\n",
    "        return len(self.df)\n",
    "    \n",
    "    def __getitem__(self, idx):\n",
    "        file_name = self.file_names[idx]\n",
    "        file_path = f'{TRAIN_PATH}/{file_name}'\n",
    "        image = cv2.imread(file_path)\n",
    "        image = cv2.cvtColor(image, cv2.COLOR_BGR2RGB)\n",
    "        if self.transform:\n",
    "            augmented = self.transform(image=image)\n",
    "            image = augmented['image']\n",
    "        label = torch.tensor(self.labels[idx]).long()\n",
    "        return image, label\n",
    "    \n",
    "class TestDataset(Dataset):\n",
    "    def __init__(self, df, transform=None):\n",
    "        self.df = df\n",
    "        self.file_names = df['image_id'].values\n",
    "        self.transform = transform\n",
    "        \n",
    "    def __len__(self):\n",
    "        return len(self.df)\n",
    "    \n",
    "    def __getitem__(self, idx):\n",
    "        file_name = self.file_names[idx]\n",
    "        file_path = f'{TEST_PATH}/{file_name}'\n",
    "        image = cv2.imread(file_path)\n",
    "        image = cv2.cvtColor(image, cv2.COLOR_BGR2RGB)\n",
    "        if self.transform:\n",
    "            augmented = self.transform(image=image)\n",
    "            image = augmented['image']\n",
    "        return image"
   ]
  },
  {
   "cell_type": "code",
   "execution_count": 11,
   "metadata": {
    "execution": {
     "iopub.execute_input": "2021-02-14T13:56:33.558061Z",
     "iopub.status.busy": "2021-02-14T13:56:33.557357Z",
     "iopub.status.idle": "2021-02-14T13:56:33.561152Z",
     "shell.execute_reply": "2021-02-14T13:56:33.560722Z"
    },
    "papermill": {
     "duration": 0.029223,
     "end_time": "2021-02-14T13:56:33.561272",
     "exception": false,
     "start_time": "2021-02-14T13:56:33.532049",
     "status": "completed"
    },
    "tags": []
   },
   "outputs": [],
   "source": [
    "# train_dataset = TrainDataset(train, transform=None)\n",
    "\n",
    "# for i in range(1):\n",
    "#     image, label = train_dataset[i]\n",
    "#     plt.imshow(image)\n",
    "#     plt.title(f'label: {label}')\n",
    "#     plt.show()"
   ]
  },
  {
   "cell_type": "markdown",
   "metadata": {
    "papermill": {
     "duration": 0.023621,
     "end_time": "2021-02-14T13:56:33.607350",
     "exception": false,
     "start_time": "2021-02-14T13:56:33.583729",
     "status": "completed"
    },
    "tags": []
   },
   "source": [
    "## Transforms"
   ]
  },
  {
   "cell_type": "code",
   "execution_count": 12,
   "metadata": {
    "execution": {
     "iopub.execute_input": "2021-02-14T13:56:33.661059Z",
     "iopub.status.busy": "2021-02-14T13:56:33.660360Z",
     "iopub.status.idle": "2021-02-14T13:56:33.664152Z",
     "shell.execute_reply": "2021-02-14T13:56:33.663666Z"
    },
    "papermill": {
     "duration": 0.034278,
     "end_time": "2021-02-14T13:56:33.664276",
     "exception": false,
     "start_time": "2021-02-14T13:56:33.629998",
     "status": "completed"
    },
    "tags": []
   },
   "outputs": [],
   "source": [
    "def get_transforms(*, data):\n",
    "    \n",
    "    if data == 'train':\n",
    "        return Compose([\n",
    "            RandomResizedCrop(CFG.size, CFG.size), \n",
    "            Transpose(p=0.5), \n",
    "            HorizontalFlip(p=0.5), \n",
    "            VerticalFlip(p=0.5), \n",
    "            ShiftScaleRotate(p=0.5), \n",
    "            HueSaturationValue(hue_shift_limit=0.2, sat_shift_limit=0.2, val_shift_limit=0.2, p=0.5), \n",
    "            RandomBrightnessContrast(brightness_limit=(-0.1, 0.1), contrast_limit=(-0.1, 0.1), p=0.5), \n",
    "            Normalize(\n",
    "                mean=[0.485, 0.456, 0.406], \n",
    "                std=[0.229, 0.224, 0.225], \n",
    "            ), \n",
    "            ToTensorV2(),\n",
    "        ])\n",
    "    \n",
    "    elif data == 'valid':\n",
    "        return Compose([\n",
    "            Resize(CFG.size, CFG.size), \n",
    "            Normalize(\n",
    "                mean=[0.485, 0.456, 0.406], \n",
    "                std=[0.229, 0.224, 0.225], \n",
    "            ), \n",
    "            ToTensorV2(),\n",
    "        ])"
   ]
  },
  {
   "cell_type": "code",
   "execution_count": 13,
   "metadata": {
    "execution": {
     "iopub.execute_input": "2021-02-14T13:56:33.713471Z",
     "iopub.status.busy": "2021-02-14T13:56:33.712977Z",
     "iopub.status.idle": "2021-02-14T13:56:33.716605Z",
     "shell.execute_reply": "2021-02-14T13:56:33.716070Z"
    },
    "papermill": {
     "duration": 0.02953,
     "end_time": "2021-02-14T13:56:33.716774",
     "exception": false,
     "start_time": "2021-02-14T13:56:33.687244",
     "status": "completed"
    },
    "tags": []
   },
   "outputs": [],
   "source": [
    "# train_dataset = TrainDataset(train, transform=get_transforms(data='train'))\n",
    "\n",
    "# for i in range(1):\n",
    "#     image, label = train_dataset[i]\n",
    "#     plt.imshow(image[0])\n",
    "#     plt.title(f'label: {label}')\n",
    "#     plt.show()"
   ]
  },
  {
   "cell_type": "markdown",
   "metadata": {
    "papermill": {
     "duration": 0.022165,
     "end_time": "2021-02-14T13:56:33.761559",
     "exception": false,
     "start_time": "2021-02-14T13:56:33.739394",
     "status": "completed"
    },
    "tags": []
   },
   "source": [
    "## MODEL"
   ]
  },
  {
   "cell_type": "code",
   "execution_count": 14,
   "metadata": {
    "execution": {
     "iopub.execute_input": "2021-02-14T13:56:33.812714Z",
     "iopub.status.busy": "2021-02-14T13:56:33.812109Z",
     "iopub.status.idle": "2021-02-14T13:56:33.816282Z",
     "shell.execute_reply": "2021-02-14T13:56:33.815846Z"
    },
    "papermill": {
     "duration": 0.032211,
     "end_time": "2021-02-14T13:56:33.816393",
     "exception": false,
     "start_time": "2021-02-14T13:56:33.784182",
     "status": "completed"
    },
    "tags": []
   },
   "outputs": [],
   "source": [
    "class Custom_swsl_resnext101_32x8d(nn.Module):\n",
    "    def __init__(self, model_name='swsl_resnext101_32x8d', pretrained=False):\n",
    "        super().__init__()\n",
    "        self.model = timm.create_model(model_name, pretrained=pretrained)\n",
    "        n_features = self.model.fc.in_features\n",
    "        self.model.fc = nn.Linear(n_features, CFG.target_size)\n",
    "        \n",
    "    def forward(self, x):\n",
    "        x = self.model(x)\n",
    "        return x"
   ]
  },
  {
   "cell_type": "code",
   "execution_count": 15,
   "metadata": {
    "execution": {
     "iopub.execute_input": "2021-02-14T13:56:33.868087Z",
     "iopub.status.busy": "2021-02-14T13:56:33.866581Z",
     "iopub.status.idle": "2021-02-14T13:56:33.869166Z",
     "shell.execute_reply": "2021-02-14T13:56:33.869597Z"
    },
    "papermill": {
     "duration": 0.030308,
     "end_time": "2021-02-14T13:56:33.869742",
     "exception": false,
     "start_time": "2021-02-14T13:56:33.839434",
     "status": "completed"
    },
    "tags": []
   },
   "outputs": [],
   "source": [
    "# model = Customswsl_resnext101_32x8d(model_name=CFG.model_name, pretrained=False)\n",
    "# train_dataset = TrainDataset(train, transform=get_transforms(data='train'))\n",
    "# train_loader = DataLoader(train_dataset, batch_size=4, shuffle=True, \n",
    "#                           num_workers=4, pin_memory=True, drop_last=True)\n",
    "\n",
    "# for image, label in train_loader:\n",
    "#     print(image.size())\n",
    "#     output = model(image)\n",
    "#     print(output)\n",
    "#     break"
   ]
  },
  {
   "cell_type": "markdown",
   "metadata": {
    "papermill": {
     "duration": 0.022539,
     "end_time": "2021-02-14T13:56:33.914712",
     "exception": false,
     "start_time": "2021-02-14T13:56:33.892173",
     "status": "completed"
    },
    "tags": []
   },
   "source": [
    "## Loss Functions"
   ]
  },
  {
   "cell_type": "code",
   "execution_count": 16,
   "metadata": {
    "execution": {
     "iopub.execute_input": "2021-02-14T13:56:33.966495Z",
     "iopub.status.busy": "2021-02-14T13:56:33.966017Z",
     "iopub.status.idle": "2021-02-14T13:56:33.970014Z",
     "shell.execute_reply": "2021-02-14T13:56:33.969566Z"
    },
    "papermill": {
     "duration": 0.032917,
     "end_time": "2021-02-14T13:56:33.970113",
     "exception": false,
     "start_time": "2021-02-14T13:56:33.937196",
     "status": "completed"
    },
    "tags": []
   },
   "outputs": [],
   "source": [
    "# ====================================================\n",
    "# Label Smoothing\n",
    "# ====================================================\n",
    "class LabelSmoothingLoss(nn.Module): \n",
    "    def __init__(self, classes=5, smoothing=0.0, dim=-1): \n",
    "        super(LabelSmoothingLoss, self).__init__() \n",
    "        self.confidence = 1.0 - smoothing \n",
    "        self.smoothing = smoothing \n",
    "        self.cls = classes \n",
    "        self.dim = dim \n",
    "    def forward(self, pred, target): \n",
    "        pred = pred.log_softmax(dim=self.dim) \n",
    "        with torch.no_grad():\n",
    "            true_dist = torch.zeros_like(pred) \n",
    "            true_dist.fill_(self.smoothing / (self.cls - 1)) \n",
    "            true_dist.scatter_(1, target.data.unsqueeze(1), self.confidence) \n",
    "        return torch.mean(torch.sum(-true_dist * pred, dim=self.dim))"
   ]
  },
  {
   "cell_type": "code",
   "execution_count": 17,
   "metadata": {
    "execution": {
     "iopub.execute_input": "2021-02-14T13:56:34.022611Z",
     "iopub.status.busy": "2021-02-14T13:56:34.022035Z",
     "iopub.status.idle": "2021-02-14T13:56:34.026015Z",
     "shell.execute_reply": "2021-02-14T13:56:34.025590Z"
    },
    "papermill": {
     "duration": 0.032754,
     "end_time": "2021-02-14T13:56:34.026119",
     "exception": false,
     "start_time": "2021-02-14T13:56:33.993365",
     "status": "completed"
    },
    "tags": []
   },
   "outputs": [],
   "source": [
    "class FocalLoss(nn.Module):\n",
    "    def __init__(self, alpha=1, gamma=2, reduce=True):\n",
    "        super(FocalLoss, self).__init__()\n",
    "        self.alpha = alpha\n",
    "        self.gamma = gamma\n",
    "        self.reduce = reduce\n",
    "\n",
    "    def forward(self, inputs, targets):\n",
    "        BCE_loss = nn.CrossEntropyLoss()(inputs, targets)\n",
    "\n",
    "        pt = torch.exp(-BCE_loss)\n",
    "        F_loss = self.alpha * (1-pt)**self.gamma * BCE_loss\n",
    "\n",
    "        if self.reduce:\n",
    "            return torch.mean(F_loss)\n",
    "        else:\n",
    "            return F_loss"
   ]
  },
  {
   "cell_type": "code",
   "execution_count": 18,
   "metadata": {
    "execution": {
     "iopub.execute_input": "2021-02-14T13:56:34.079327Z",
     "iopub.status.busy": "2021-02-14T13:56:34.077669Z",
     "iopub.status.idle": "2021-02-14T13:56:34.079927Z",
     "shell.execute_reply": "2021-02-14T13:56:34.080317Z"
    },
    "papermill": {
     "duration": 0.031962,
     "end_time": "2021-02-14T13:56:34.080436",
     "exception": false,
     "start_time": "2021-02-14T13:56:34.048474",
     "status": "completed"
    },
    "tags": []
   },
   "outputs": [],
   "source": [
    "class FocalCosineLoss(nn.Module):\n",
    "    def __init__(self, alpha=1, gamma=2, xent=.1):\n",
    "        super(FocalCosineLoss, self).__init__()\n",
    "        self.alpha = alpha\n",
    "        self.gamma = gamma\n",
    "\n",
    "        self.xent = xent\n",
    "\n",
    "        self.y = torch.Tensor([1]).cuda()\n",
    "\n",
    "    def forward(self, input, target, reduction=\"mean\"):\n",
    "        cosine_loss = F.cosine_embedding_loss(input, F.one_hot(target, num_classes=input.size(-1)), self.y, reduction=reduction)\n",
    "\n",
    "        cent_loss = F.cross_entropy(F.normalize(input), target, reduce=False)\n",
    "        pt = torch.exp(-cent_loss)\n",
    "        focal_loss = self.alpha * (1-pt)**self.gamma * cent_loss\n",
    "\n",
    "        if reduction == \"mean\":\n",
    "            focal_loss = torch.mean(focal_loss)\n",
    "\n",
    "        return cosine_loss + self.xent * focal_loss"
   ]
  },
  {
   "cell_type": "code",
   "execution_count": 19,
   "metadata": {
    "execution": {
     "iopub.execute_input": "2021-02-14T13:56:34.131467Z",
     "iopub.status.busy": "2021-02-14T13:56:34.130959Z",
     "iopub.status.idle": "2021-02-14T13:56:34.134672Z",
     "shell.execute_reply": "2021-02-14T13:56:34.134154Z"
    },
    "papermill": {
     "duration": 0.031958,
     "end_time": "2021-02-14T13:56:34.134779",
     "exception": false,
     "start_time": "2021-02-14T13:56:34.102821",
     "status": "completed"
    },
    "tags": []
   },
   "outputs": [],
   "source": [
    "class SymmetricCrossEntropy(nn.Module):\n",
    "\n",
    "    def __init__(self, alpha=0.1, beta=1.0, num_classes=5):\n",
    "        super(SymmetricCrossEntropy, self).__init__()\n",
    "        self.alpha = alpha\n",
    "        self.beta = beta\n",
    "        self.num_classes = num_classes\n",
    "\n",
    "    def forward(self, logits, targets, reduction='mean'):\n",
    "        onehot_targets = torch.eye(self.num_classes)[targets].cuda()\n",
    "        ce_loss = F.cross_entropy(logits, targets, reduction=reduction)\n",
    "        rce_loss = (-onehot_targets*logits.softmax(1).clamp(1e-7, 1.0).log()).sum(1)\n",
    "        if reduction == 'mean':\n",
    "            rce_loss = rce_loss.mean()\n",
    "        elif reduction == 'sum':\n",
    "            rce_loss = rce_loss.sum()\n",
    "        return self.alpha * ce_loss + self.beta * rce_loss"
   ]
  },
  {
   "cell_type": "code",
   "execution_count": 20,
   "metadata": {
    "execution": {
     "iopub.execute_input": "2021-02-14T13:56:34.203776Z",
     "iopub.status.busy": "2021-02-14T13:56:34.188084Z",
     "iopub.status.idle": "2021-02-14T13:56:34.210996Z",
     "shell.execute_reply": "2021-02-14T13:56:34.210584Z"
    },
    "papermill": {
     "duration": 0.053629,
     "end_time": "2021-02-14T13:56:34.211102",
     "exception": false,
     "start_time": "2021-02-14T13:56:34.157473",
     "status": "completed"
    },
    "tags": []
   },
   "outputs": [],
   "source": [
    "def log_t(u, t):\n",
    "    \"\"\"Compute log_t for `u'.\"\"\"\n",
    "    if t==1.0:\n",
    "        return u.log()\n",
    "    else:\n",
    "        return (u.pow(1.0 - t) - 1.0) / (1.0 - t)\n",
    "\n",
    "def exp_t(u, t):\n",
    "    \"\"\"Compute exp_t for `u'.\"\"\"\n",
    "    if t==1:\n",
    "        return u.exp()\n",
    "    else:\n",
    "        return (1.0 + (1.0-t)*u).relu().pow(1.0 / (1.0 - t))\n",
    "\n",
    "def compute_normalization_fixed_point(activations, t, num_iters):\n",
    "\n",
    "    \"\"\"Returns the normalization value for each example (t > 1.0).\n",
    "    Args:\n",
    "      activations: A multi-dimensional tensor with last dimension `num_classes`.\n",
    "      t: Temperature 2 (> 1.0 for tail heaviness).\n",
    "      num_iters: Number of iterations to run the method.\n",
    "    Return: A tensor of same shape as activation with the last dimension being 1.\n",
    "    \"\"\"\n",
    "    mu, _ = torch.max(activations, -1, keepdim=True)\n",
    "    normalized_activations_step_0 = activations - mu\n",
    "\n",
    "    normalized_activations = normalized_activations_step_0\n",
    "\n",
    "    for _ in range(num_iters):\n",
    "        logt_partition = torch.sum(\n",
    "                exp_t(normalized_activations, t), -1, keepdim=True)\n",
    "        normalized_activations = normalized_activations_step_0 * \\\n",
    "                logt_partition.pow(1.0-t)\n",
    "\n",
    "    logt_partition = torch.sum(\n",
    "            exp_t(normalized_activations, t), -1, keepdim=True)\n",
    "    normalization_constants = - log_t(1.0 / logt_partition, t) + mu\n",
    "\n",
    "    return normalization_constants\n",
    "\n",
    "def compute_normalization_binary_search(activations, t, num_iters):\n",
    "\n",
    "    \"\"\"Returns the normalization value for each example (t < 1.0).\n",
    "    Args:\n",
    "      activations: A multi-dimensional tensor with last dimension `num_classes`.\n",
    "      t: Temperature 2 (< 1.0 for finite support).\n",
    "      num_iters: Number of iterations to run the method.\n",
    "    Return: A tensor of same rank as activation with the last dimension being 1.\n",
    "    \"\"\"\n",
    "\n",
    "    mu, _ = torch.max(activations, -1, keepdim=True)\n",
    "    normalized_activations = activations - mu\n",
    "\n",
    "    effective_dim = \\\n",
    "        torch.sum(\n",
    "                (normalized_activations > -1.0 / (1.0-t)).to(torch.int32),\n",
    "            dim=-1, keepdim=True).to(activations.dtype)\n",
    "\n",
    "    shape_partition = activations.shape[:-1] + (1,)\n",
    "    lower = torch.zeros(shape_partition, dtype=activations.dtype, device=activations.device)\n",
    "    upper = -log_t(1.0/effective_dim, t) * torch.ones_like(lower)\n",
    "\n",
    "    for _ in range(num_iters):\n",
    "        logt_partition = (upper + lower)/2.0\n",
    "        sum_probs = torch.sum(\n",
    "                exp_t(normalized_activations - logt_partition, t),\n",
    "                dim=-1, keepdim=True)\n",
    "        update = (sum_probs < 1.0).to(activations.dtype)\n",
    "        lower = torch.reshape(\n",
    "                lower * update + (1.0-update) * logt_partition,\n",
    "                shape_partition)\n",
    "        upper = torch.reshape(\n",
    "                upper * (1.0 - update) + update * logt_partition,\n",
    "                shape_partition)\n",
    "\n",
    "    logt_partition = (upper + lower)/2.0\n",
    "    return logt_partition + mu\n",
    "\n",
    "class ComputeNormalization(torch.autograd.Function):\n",
    "    \"\"\"\n",
    "    Class implementing custom backward pass for compute_normalization. See compute_normalization.\n",
    "    \"\"\"\n",
    "    @staticmethod\n",
    "    def forward(ctx, activations, t, num_iters):\n",
    "        if t < 1.0:\n",
    "            normalization_constants = compute_normalization_binary_search(activations, t, num_iters)\n",
    "        else:\n",
    "            normalization_constants = compute_normalization_fixed_point(activations, t, num_iters)\n",
    "\n",
    "        ctx.save_for_backward(activations, normalization_constants)\n",
    "        ctx.t=t\n",
    "        return normalization_constants\n",
    "\n",
    "    @staticmethod\n",
    "    def backward(ctx, grad_output):\n",
    "        activations, normalization_constants = ctx.saved_tensors\n",
    "        t = ctx.t\n",
    "        normalized_activations = activations - normalization_constants \n",
    "        probabilities = exp_t(normalized_activations, t)\n",
    "        escorts = probabilities.pow(t)\n",
    "        escorts = escorts / escorts.sum(dim=-1, keepdim=True)\n",
    "        grad_input = escorts * grad_output\n",
    "        \n",
    "        return grad_input, None, None\n",
    "\n",
    "def compute_normalization(activations, t, num_iters=5):\n",
    "    \"\"\"Returns the normalization value for each example. \n",
    "    Backward pass is implemented.\n",
    "    Args:\n",
    "      activations: A multi-dimensional tensor with last dimension `num_classes`.\n",
    "      t: Temperature 2 (> 1.0 for tail heaviness, < 1.0 for finite support).\n",
    "      num_iters: Number of iterations to run the method.\n",
    "    Return: A tensor of same rank as activation with the last dimension being 1.\n",
    "    \"\"\"\n",
    "    return ComputeNormalization.apply(activations, t, num_iters)\n",
    "\n",
    "def tempered_sigmoid(activations, t, num_iters = 5):\n",
    "    \"\"\"Tempered sigmoid function.\n",
    "    Args:\n",
    "      activations: Activations for the positive class for binary classification.\n",
    "      t: Temperature tensor > 0.0.\n",
    "      num_iters: Number of iterations to run the method.\n",
    "    Returns:\n",
    "      A probabilities tensor.\n",
    "    \"\"\"\n",
    "    internal_activations = torch.stack([activations,\n",
    "        torch.zeros_like(activations)],\n",
    "        dim=-1)\n",
    "    internal_probabilities = tempered_softmax(internal_activations, t, num_iters)\n",
    "    return internal_probabilities[..., 0]\n",
    "\n",
    "\n",
    "def tempered_softmax(activations, t, num_iters=5):\n",
    "    \"\"\"Tempered softmax function.\n",
    "    Args:\n",
    "      activations: A multi-dimensional tensor with last dimension `num_classes`.\n",
    "      t: Temperature > 1.0.\n",
    "      num_iters: Number of iterations to run the method.\n",
    "    Returns:\n",
    "      A probabilities tensor.\n",
    "    \"\"\"\n",
    "    if t == 1.0:\n",
    "        return activations.softmax(dim=-1)\n",
    "\n",
    "    normalization_constants = compute_normalization(activations, t, num_iters)\n",
    "    return exp_t(activations - normalization_constants, t)\n",
    "\n",
    "def bi_tempered_binary_logistic_loss(activations,\n",
    "        labels,\n",
    "        t1,\n",
    "        t2,\n",
    "        label_smoothing = 0.0,\n",
    "        num_iters=5,\n",
    "        reduction='mean'):\n",
    "\n",
    "    \"\"\"Bi-Tempered binary logistic loss.\n",
    "    Args:\n",
    "      activations: A tensor containing activations for class 1.\n",
    "      labels: A tensor with shape as activations, containing probabilities for class 1\n",
    "      t1: Temperature 1 (< 1.0 for boundedness).\n",
    "      t2: Temperature 2 (> 1.0 for tail heaviness, < 1.0 for finite support).\n",
    "      label_smoothing: Label smoothing\n",
    "      num_iters: Number of iterations to run the method.\n",
    "    Returns:\n",
    "      A loss tensor.\n",
    "    \"\"\"\n",
    "    internal_activations = torch.stack([activations,\n",
    "        torch.zeros_like(activations)],\n",
    "        dim=-1)\n",
    "    internal_labels = torch.stack([labels.to(activations.dtype),\n",
    "        1.0 - labels.to(activations.dtype)],\n",
    "        dim=-1)\n",
    "    return bi_tempered_logistic_loss(internal_activations, \n",
    "            internal_labels,\n",
    "            t1,\n",
    "            t2,\n",
    "            label_smoothing = label_smoothing,\n",
    "            num_iters = num_iters,\n",
    "            reduction = reduction)\n",
    "\n",
    "def bi_tempered_logistic_loss(activations,\n",
    "        labels,\n",
    "        t1,\n",
    "        t2,\n",
    "        label_smoothing=0.0,\n",
    "        num_iters=5,\n",
    "        reduction = 'mean'):\n",
    "\n",
    "    \"\"\"Bi-Tempered Logistic Loss.\n",
    "    Args:\n",
    "      activations: A multi-dimensional tensor with last dimension `num_classes`.\n",
    "      labels: A tensor with shape and dtype as activations (onehot), \n",
    "        or a long tensor of one dimension less than activations (pytorch standard)\n",
    "      t1: Temperature 1 (< 1.0 for boundedness).\n",
    "      t2: Temperature 2 (> 1.0 for tail heaviness, < 1.0 for finite support).\n",
    "      label_smoothing: Label smoothing parameter between [0, 1). Default 0.0.\n",
    "      num_iters: Number of iterations to run the method. Default 5.\n",
    "      reduction: ``'none'`` | ``'mean'`` | ``'sum'``. Default ``'mean'``.\n",
    "        ``'none'``: No reduction is applied, return shape is shape of\n",
    "        activations without the last dimension.\n",
    "        ``'mean'``: Loss is averaged over minibatch. Return shape (1,)\n",
    "        ``'sum'``: Loss is summed over minibatch. Return shape (1,)\n",
    "    Returns:\n",
    "      A loss tensor.\n",
    "    \"\"\"\n",
    "\n",
    "    if len(labels.shape)<len(activations.shape): #not one-hot\n",
    "        labels_onehot = torch.zeros_like(activations)\n",
    "        labels_onehot.scatter_(1, labels[..., None], 1)\n",
    "    else:\n",
    "        labels_onehot = labels\n",
    "\n",
    "    if label_smoothing > 0:\n",
    "        num_classes = labels_onehot.shape[-1]\n",
    "        labels_onehot = ( 1 - label_smoothing * num_classes / (num_classes - 1) ) \\\n",
    "                * labels_onehot + \\\n",
    "                label_smoothing / (num_classes - 1)\n",
    "\n",
    "    probabilities = tempered_softmax(activations, t2, num_iters)\n",
    "\n",
    "    loss_values = labels_onehot * log_t(labels_onehot + 1e-10, t1) \\\n",
    "            - labels_onehot * log_t(probabilities, t1) \\\n",
    "            - labels_onehot.pow(2.0 - t1) / (2.0 - t1) \\\n",
    "            + probabilities.pow(2.0 - t1) / (2.0 - t1)\n",
    "    loss_values = loss_values.sum(dim = -1) #sum over classes\n",
    "\n",
    "    if reduction == 'none':\n",
    "        return loss_values\n",
    "    if reduction == 'sum':\n",
    "        return loss_values.sum()\n",
    "    if reduction == 'mean':\n",
    "        return loss_values.mean()"
   ]
  },
  {
   "cell_type": "code",
   "execution_count": 21,
   "metadata": {
    "execution": {
     "iopub.execute_input": "2021-02-14T13:56:34.261475Z",
     "iopub.status.busy": "2021-02-14T13:56:34.260877Z",
     "iopub.status.idle": "2021-02-14T13:56:34.263699Z",
     "shell.execute_reply": "2021-02-14T13:56:34.263287Z"
    },
    "papermill": {
     "duration": 0.030333,
     "end_time": "2021-02-14T13:56:34.263804",
     "exception": false,
     "start_time": "2021-02-14T13:56:34.233471",
     "status": "completed"
    },
    "tags": []
   },
   "outputs": [],
   "source": [
    "class BiTemperedLogisticLoss(nn.Module): \n",
    "    def __init__(self, t1, t2, smoothing=0.0): \n",
    "        super(BiTemperedLogisticLoss, self).__init__() \n",
    "        self.t1 = t1\n",
    "        self.t2 = t2\n",
    "        self.smoothing = smoothing\n",
    "    def forward(self, logit_label, truth_label):\n",
    "        loss_label = bi_tempered_logistic_loss(\n",
    "            logit_label, truth_label,\n",
    "            t1=self.t1, t2=self.t2,\n",
    "            label_smoothing=self.smoothing,\n",
    "            reduction='none'\n",
    "        )\n",
    "        \n",
    "        loss_label = loss_label.mean()\n",
    "        return loss_label"
   ]
  },
  {
   "cell_type": "code",
   "execution_count": 22,
   "metadata": {
    "execution": {
     "iopub.execute_input": "2021-02-14T13:56:34.333109Z",
     "iopub.status.busy": "2021-02-14T13:56:34.332292Z",
     "iopub.status.idle": "2021-02-14T13:56:34.335045Z",
     "shell.execute_reply": "2021-02-14T13:56:34.334548Z"
    },
    "papermill": {
     "duration": 0.049155,
     "end_time": "2021-02-14T13:56:34.335158",
     "exception": false,
     "start_time": "2021-02-14T13:56:34.286003",
     "status": "completed"
    },
    "tags": []
   },
   "outputs": [],
   "source": [
    "class AverageMeter(object):\n",
    "    \"\"\"Computes and stores the average and current value\"\"\"\n",
    "    def __init__(self):\n",
    "        self.reset()\n",
    "        \n",
    "    def reset(self):\n",
    "        self.val = 0\n",
    "        self.avg = 0\n",
    "        self.sum = 0\n",
    "        self.count = 0\n",
    "        \n",
    "    def update(self, val, n=1):\n",
    "        self.val = val\n",
    "        self.sum += val * n\n",
    "        self.count += n\n",
    "        self.avg = self.sum / self.count\n",
    "        \n",
    "def asMinutes(s):\n",
    "    \"\"\"秒を分に変換する関数\"\"\"\n",
    "    m = math.floor(s / 60)\n",
    "    s -= m * 60\n",
    "    return '%dm %ds' % (m, s)\n",
    "\n",
    "def timeSince(since, percent):\n",
    "    \"\"\"経過時間の測定と終了時間の予測を行う関数\n",
    "    Parameters\n",
    "    ----------\n",
    "    since : float\n",
    "        実験を始めた時刻\n",
    "    percent : float\n",
    "        実験が進んだ割合\n",
    "        \n",
    "    Returns\n",
    "    -------\n",
    "    s : 経過時間\n",
    "    re : 終了までの時間の予測\n",
    "    \"\"\"\n",
    "    now = time.time()\n",
    "    s = now - since  # 経過時間の測定\n",
    "    es = s / percent  # 終了時間の予測\n",
    "    re = es - s  # 残り時間の予想\n",
    "    return '%s (remain %s)' % (asMinutes(s), asMinutes(re))\n",
    "\n",
    "def train_fn(train_loader, model, loss_train, loss_metric, optimizer, epoch, shechduler, device):\n",
    "    batch_time = AverageMeter()\n",
    "    data_time = AverageMeter()\n",
    "    losses = AverageMeter()\n",
    "    scores = AverageMeter()\n",
    "    # switch to train mode\n",
    "    model.train()\n",
    "    start = end = time.time()\n",
    "    global_step = 0\n",
    "    for step, (images, labels) in enumerate(train_loader):\n",
    "        # measure data loading time\n",
    "        data_time.update(time.time() - end)\n",
    "        images = images.to(device)\n",
    "        labels = labels.to(device)\n",
    "        batch_size = labels.size(0)\n",
    "        y_preds = model(images)\n",
    "        metric = loss_metric(y_preds, labels)\n",
    "        loss = loss_train(y_preds, labels)\n",
    "        # record loss\n",
    "        losses.update(metric.item(), batch_size)\n",
    "        if CFG.gradient_accumulation_steps > 1:\n",
    "            loss = loss / CFG.gradient_accumulation_steps\n",
    "        if CFG.apex:\n",
    "            with amp.scale_loss(loss, optimizer) as scaled_loss:\n",
    "                scaled_loss.backward()\n",
    "        else: \n",
    "            loss.backward()\n",
    "        grad_norm = torch.nn.utils.clip_grad_norm_(model.parameters(), CFG.max_grad_norm)\n",
    "        if (step + 1) % CFG.gradient_accumulation_steps == 0:\n",
    "            optimizer.first_step(zero_grad=True)\n",
    "#             optimizer.zero_grad()\n",
    "            global_step += 1\n",
    "        # measure elapsed time\n",
    "        loss_train(model(images), labels).backward()\n",
    "#         loss = torch.mean(loss)\n",
    "#         loss.backward()\n",
    "        optimizer.second_step(zero_grad=True)\n",
    "        \n",
    "        batch_time.update(time.time() - end)\n",
    "        end = time.time()\n",
    "        if step % CFG.print_freq == 0 or step == (len(train_loader)-1):\n",
    "            print('Epoch: [{0}][{1}/{2}]'\n",
    "                  'Data {data_time.val:.3f} ({data_time.avg:.3f})'\n",
    "                  'Elapsed {remain:s}' \n",
    "                  'Loss: {loss.val:.4f}({loss.avg:.4f})' \n",
    "                  'Grad: {grad_norm:.4f}  '\n",
    "                  .format(epoch+1, step, len(train_loader), batch_time=batch_time, \n",
    "                          data_time=data_time, loss=losses, \n",
    "                          remain=timeSince(start, float(step+1)/len(train_loader)), \n",
    "                          grad_norm=grad_norm))\n",
    "    return losses.avg\n",
    "\n",
    "def valid_fn(valid_loader, model, loss_metric, device):\n",
    "    batch_time = AverageMeter()\n",
    "    data_time = AverageMeter()\n",
    "    losses = AverageMeter()\n",
    "    scores = AverageMeter()\n",
    "    # switch to evaluation mode\n",
    "    model.eval()\n",
    "    preds = []\n",
    "    start = end = time.time()\n",
    "    for step, (images, labels) in enumerate(valid_loader):\n",
    "        # measure data loading time\n",
    "        data_time.update(time.time() - end)\n",
    "        images = images.to(device)\n",
    "        labels = labels.to(device)\n",
    "        batch_size = labels.size(0)\n",
    "        # compute loss\n",
    "        with torch.no_grad():\n",
    "            y_preds = model(images)\n",
    "        loss = loss_metric(y_preds, labels)\n",
    "        losses.update(loss.item(), batch_size)\n",
    "        # record accuracy\n",
    "        preds.append(y_preds.softmax(1).to('cpu').numpy())\n",
    "        if CFG.gradient_accumulation_steps > 1:\n",
    "            loss = loss / CFG.gradient_accumulation_steps\n",
    "        # measure elapsed time\n",
    "        batch_time.update(time.time() - end)\n",
    "        end = time.time()\n",
    "        if step % CFG.print_freq == 0 or step == (len(valid_loader)-1):\n",
    "            print('EVAL: [{0}/{1}] '\n",
    "                  'Data {data_time.val:.3f} ({data_time.avg:.3f}) '\n",
    "                  'Elapsed {remain:s} '\n",
    "                  'Loss: {loss.val:.4f}({loss.avg:.4f}) '\n",
    "                  .format(\n",
    "                   step, len(valid_loader), batch_time=batch_time,\n",
    "                   data_time=data_time, loss=losses,\n",
    "                   remain=timeSince(start, float(step+1)/len(valid_loader)),\n",
    "                   ))\n",
    "            \n",
    "    predictions = np.concatenate(preds)\n",
    "    return losses.avg, predictions\n",
    "\n",
    "def inference(model, states, test_loader, device):\n",
    "    model.to(device)\n",
    "    tk0 = tqdm(enumerate(test_loader), total=len(test_loader))\n",
    "    probs = []\n",
    "    for i, (images) in tk0:\n",
    "        images = images.to(device)\n",
    "        avgpreds = []\n",
    "        for state in states:\n",
    "            model.load_state_dict(state['model'])\n",
    "            model.eval()\n",
    "            with torch.no_grad():\n",
    "                y_preds = model(images)\n",
    "            avg_preds.append(y_preds.softmax(1).to('cpu').numpy())\n",
    "        avg_preds = np.mean(avg_preds, axis=0)\n",
    "        probs.append(avg_preds)\n",
    "    probs = np.concatenate(probs)\n",
    "    return probs"
   ]
  },
  {
   "cell_type": "markdown",
   "metadata": {
    "papermill": {
     "duration": 0.022191,
     "end_time": "2021-02-14T13:56:34.379631",
     "exception": false,
     "start_time": "2021-02-14T13:56:34.357440",
     "status": "completed"
    },
    "tags": []
   },
   "source": [
    "## Train loop"
   ]
  },
  {
   "cell_type": "code",
   "execution_count": 23,
   "metadata": {
    "execution": {
     "iopub.execute_input": "2021-02-14T13:56:34.447337Z",
     "iopub.status.busy": "2021-02-14T13:56:34.446483Z",
     "iopub.status.idle": "2021-02-14T13:56:34.449041Z",
     "shell.execute_reply": "2021-02-14T13:56:34.448633Z"
    },
    "papermill": {
     "duration": 0.047238,
     "end_time": "2021-02-14T13:56:34.449160",
     "exception": false,
     "start_time": "2021-02-14T13:56:34.401922",
     "status": "completed"
    },
    "tags": []
   },
   "outputs": [],
   "source": [
    "# ======================================================\n",
    "# Train loop\n",
    "# ======================================================\n",
    "\n",
    "def train_loop(folds, fold):\n",
    "    \n",
    "    seed_torch(seed=CFG.seed)    \n",
    "    \n",
    "    LOGGER.info(f'========== fold: {fold} training ============')\n",
    "    \n",
    "    # ======================================================\n",
    "    # loader\n",
    "    # ======================================================\n",
    "    trn_idx = folds[folds['fold'] != fold].index\n",
    "    val_idx = folds[folds['fold'] == fold].index\n",
    "    \n",
    "    train_folds = folds.loc[trn_idx].reset_index(drop=True)\n",
    "    valid_folds = folds.loc[val_idx].reset_index(drop=True)\n",
    "    \n",
    "    train_dataset = TrainDataset(train_folds, \n",
    "                                 transform=get_transforms(data='train'))\n",
    "    valid_dataset = TrainDataset(valid_folds, \n",
    "                                 transform=get_transforms(data='valid'))\n",
    "    \n",
    "    train_loader = DataLoader(train_dataset, \n",
    "                              batch_size=CFG.batch_size, \n",
    "                              shuffle=True, \n",
    "                              num_workers=CFG.num_workers, \n",
    "                              pin_memory=True, \n",
    "                              drop_last=False)\n",
    "    valid_loader = DataLoader(valid_dataset, \n",
    "                              batch_size=CFG.batch_size, \n",
    "                              shuffle=False, \n",
    "                              num_workers=CFG.num_workers, \n",
    "                              pin_memory=True, \n",
    "                              drop_last=False)\n",
    "    \n",
    "    # ===============================================\n",
    "    # scheduler\n",
    "    # ===============================================\n",
    "    def get_scheduler(optimizer):\n",
    "        if CFG.scheduler=='ReduceLROnPlateau':\n",
    "            scheduler = ReduceLROnPlateau(optimizer, mode='min', factor=CFG.factor, patience=CFG.patience, verbose=True, eps=CFG.eps)\n",
    "        elif CFG.scheduler=='CosineAnnealingLR':\n",
    "            scheduler = CosineAnnealingLR(optimizer, T_max=CFG.T_max, eta_min=CFG.min_lr, last_epoch=-1)\n",
    "        elif CFG.scheduler=='CosineAnnealingWarmRestarts':\n",
    "            scheduler = CosineAnnealingWarmRestarts(optimizer, T_0=CFG.T_0, T_mult=1, eta_min=CFG.min_lr, last_epoch=-1)\n",
    "        return scheduler\n",
    "    \n",
    "    # ===============================================\n",
    "    # model & optimizer\n",
    "    # ===============================================\n",
    "    model = Custom_swsl_resnext101_32x8d(CFG.model_name, pretrained=True)\n",
    "    \n",
    "    # 最初の1epochはclassifier層以外全て凍結する。\n",
    "    for name, param in model.model.named_parameters():\n",
    "        if 'fc' not in name:\n",
    "            param.requires_grad=False\n",
    "    \n",
    "    model.to(device)\n",
    "    \n",
    "    base_optimizer = Adam\n",
    "    optimizer = SAM(model.parameters(), base_optimizer, lr=CFG.lr_1, weight_decay=CFG.weight_decay, amsgrad=False)\n",
    "    \n",
    "    scheduler = get_scheduler(optimizer)\n",
    "    \n",
    "    # ===============================================\n",
    "    # apex \n",
    "    # ===============================================\n",
    "    if CFG.apex:\n",
    "        model.optimizer = amp.initialize(model, optimizer, opt_level='O1', verbosity=0)\n",
    "        \n",
    "    # ===============================================\n",
    "    # loop\n",
    "    # ===============================================\n",
    "    def get_loss_train():\n",
    "        if CFG.loss_train == 'CrossEntropyLoss':\n",
    "            loss_train = nn.CrossEntropyLoss()\n",
    "        elif CFG.loss_train == 'LabelSmoothing':\n",
    "            loss_train = LabelSmoothingLoss(classes=CFG.target_size, smoothing=CFG.smooth)\n",
    "        elif CFG.loss_train == 'FocalLoss':\n",
    "            loss_train = FocalLoss().to(device)\n",
    "        elif CFG.loss_train == 'FocalCosineLoss':\n",
    "            loss_train = FocalCosineLoss()\n",
    "        elif CFG.loss_train == 'SymmetricCrossEntropyLoss':\n",
    "            loss_train = SymmetricCrossEntropy().to(device)\n",
    "        elif CFG.loss_train == 'BiTemperedLoss':\n",
    "            loss_train = BiTemperedLogisticLoss(t1=CFG.t1, t2=CFG.t2, smoothing=CFG.smooth)\n",
    "        return loss_train\n",
    "    \n",
    "    loss_train = get_loss_train()\n",
    "    LOGGER.info(f'loss_train: {loss_train}')\n",
    "    loss_metric = nn.CrossEntropyLoss()\n",
    "    \n",
    "    best_score = 0.\n",
    "    best_loss = np.inf\n",
    "    \n",
    "    for epoch in range(CFG.epochs):\n",
    "        \n",
    "        start_time = time.time()\n",
    "        \n",
    "        if epoch == 1:\n",
    "            \n",
    "            # 2epoch目に重みを全て解凍する\n",
    "            for param in model.model.parameters():\n",
    "                param.requires_grad = True\n",
    "                \n",
    "            # 学習率を落とす\n",
    "            base_optimizer = Adam\n",
    "            optimizer = SAM(model.parameters(), base_optimizer, lr=CFG.lr_2, weight_decay=CFG.weight_decay, amsgrad=False)\n",
    "            scheduler = get_scheduler(optimizer)\n",
    "\n",
    "            LOGGER.info('requires_grad of all parameters are unlocked')\n",
    "            \n",
    "        \n",
    "        # train\n",
    "        avg_loss = train_fn(train_loader, model, loss_train, loss_metric, optimizer, epoch, scheduler, device)\n",
    "        \n",
    "        # eval\n",
    "        avg_val_loss, preds = valid_fn(valid_loader, model, loss_metric, device)\n",
    "        valid_labels = valid_folds[CFG.target_col].values\n",
    "        \n",
    "        if isinstance(scheduler, ReduceLROnPlateau):\n",
    "            scheduler.step(avg_val_loss)\n",
    "        elif isinstance(scheduler, CosineAnnealingLR):\n",
    "            scheduler.step()\n",
    "        elif isinstance(scheduler, CosineAnnealingWarmRestarts):\n",
    "            scheduler.step()\n",
    "        \n",
    "        # scoring\n",
    "        score = get_score(valid_labels, preds.argmax(1))\n",
    "        \n",
    "        elapsed = time.time() - start_time\n",
    "        \n",
    "        LOGGER.info(f'Epoch {epoch+1} - avg_train_loss: {avg_loss:.4f} avg_val_loss: {avg_val_loss:.4f} time: {elapsed:.0f}s')\n",
    "        LOGGER.info(f'Epoch {epoch+1} - Accuracy: {score}')\n",
    "        \n",
    "        if score > best_score:\n",
    "            best_score = score\n",
    "            LOGGER.info(f'Epoch {epoch+1} - Save Best Score: {best_score:.4f} Model')\n",
    "            torch.save({'model': model.state_dict(), \n",
    "                        'preds': preds}, \n",
    "                        OUTPUT_DIR+f'{CFG.model_name}_fold{fold}_best.pth')\n",
    "        if epoch > 4:\n",
    "            # inference用に全て保存しておく        \n",
    "            torch.save({'model': model.state_dict()}, OUTPUT_DIR+f'{CFG.model_name}_fold{fold}_epoch{epoch+1}.pth')\n",
    "    \n",
    "    check_point = torch.load(OUTPUT_DIR+f'{CFG.model_name}_fold{fold}_best.pth')\n",
    "    valid_folds[[str(c) for c in range(5)]] = check_point['preds']\n",
    "    valid_folds['preds'] = check_point['preds'].argmax(1)\n",
    "    \n",
    "    return valid_folds"
   ]
  },
  {
   "cell_type": "code",
   "execution_count": 24,
   "metadata": {
    "execution": {
     "iopub.execute_input": "2021-02-14T13:56:34.503678Z",
     "iopub.status.busy": "2021-02-14T13:56:34.502875Z",
     "iopub.status.idle": "2021-02-14T13:56:34.505666Z",
     "shell.execute_reply": "2021-02-14T13:56:34.505147Z"
    },
    "papermill": {
     "duration": 0.034126,
     "end_time": "2021-02-14T13:56:34.505777",
     "exception": false,
     "start_time": "2021-02-14T13:56:34.471651",
     "status": "completed"
    },
    "tags": []
   },
   "outputs": [],
   "source": [
    "# ====================================================\n",
    "# main\n",
    "# ====================================================\n",
    "def main():\n",
    "    \n",
    "    \"\"\"\n",
    "    Prepare: 1.train 2.test 3.submission 4.folds\n",
    "    \"\"\"\n",
    "    \n",
    "    def get_result(result_df):\n",
    "        preds = result_df['preds'].values\n",
    "        labels = result_df[CFG.target_col].values\n",
    "        score = get_score(labels, preds)\n",
    "        LOGGER.info(f'Score: {score:<.5f}')\n",
    "        \n",
    "    if CFG.train:\n",
    "        # train\n",
    "        oof_df = pd.DataFrame()\n",
    "        for fold in range(CFG.n_fold):\n",
    "            if fold in CFG.trn_fold:\n",
    "                _oof_df = train_loop(folds, fold)\n",
    "                oof_df = pd.concat([oof_df, _oof_df])\n",
    "                LOGGER.info(f'=============== fold: {fold} result ================')\n",
    "                get_result(_oof_df)\n",
    "                \n",
    "        # CV result\n",
    "        LOGGER.info(f'============ CV ============')\n",
    "        get_result(oof_df)\n",
    "        # save result\n",
    "        oof_df.to_csv(OUTPUT_DIR+'oof_df.csv', index=False)\n",
    "        \n",
    "    if CFG.inference:\n",
    "        # inference\n",
    "        model = Custom_swsl_resnext101_32x8d(CFG.model_name, pretrained=False)\n",
    "        states = [torch.load(OUTPUT_DIR+f'{CFG.model_name}_fold{fold}_best.pth') for fold in CFG.trn_fold]\n",
    "        test_dataset = TestDataset(test, batch_size=CFG.batch_size, shuffle=False, pin_memory=True)\n",
    "        predictions = inference(model, states, test_loader, device)\n",
    "        # submission\n",
    "        test['label'] = predictions.argmax(1)\n",
    "        test[['image_id', 'label']].to_csv(OUTPUT_DIR+'submission.csv', index=False)"
   ]
  },
  {
   "cell_type": "code",
   "execution_count": 25,
   "metadata": {
    "execution": {
     "iopub.execute_input": "2021-02-14T13:56:34.556962Z",
     "iopub.status.busy": "2021-02-14T13:56:34.555994Z",
     "iopub.status.idle": "2021-02-14T13:56:34.560792Z",
     "shell.execute_reply": "2021-02-14T13:56:34.560317Z"
    },
    "papermill": {
     "duration": 0.032462,
     "end_time": "2021-02-14T13:56:34.560912",
     "exception": false,
     "start_time": "2021-02-14T13:56:34.528450",
     "status": "completed"
    },
    "tags": []
   },
   "outputs": [
    {
     "name": "stderr",
     "output_type": "stream",
     "text": [
      "used device: cuda\n"
     ]
    }
   ],
   "source": [
    "LOGGER.info(f'used device: {device}')"
   ]
  },
  {
   "cell_type": "code",
   "execution_count": 26,
   "metadata": {
    "execution": {
     "iopub.execute_input": "2021-02-14T13:56:34.617110Z",
     "iopub.status.busy": "2021-02-14T13:56:34.616219Z",
     "iopub.status.idle": "2021-02-14T17:00:08.225303Z",
     "shell.execute_reply": "2021-02-14T17:00:08.224411Z"
    },
    "papermill": {
     "duration": 11013.639196,
     "end_time": "2021-02-14T17:00:08.225455",
     "exception": false,
     "start_time": "2021-02-14T13:56:34.586259",
     "status": "completed"
    },
    "tags": []
   },
   "outputs": [
    {
     "name": "stderr",
     "output_type": "stream",
     "text": [
      "========== fold: 0 training ============\n",
      "Downloading: \"https://dl.fbaipublicfiles.com/semiweaksupervision/model_files/semi_weakly_supervised_resnext50_32x4-72679e44.pth\" to /root/.cache/torch/hub/checkpoints/semi_weakly_supervised_resnext50_32x4-72679e44.pth\n",
      "loss_train: BiTemperedLogisticLoss()\n"
     ]
    },
    {
     "name": "stdout",
     "output_type": "stream",
     "text": [
      "Epoch: [1][0/659]Data 2.806 (2.806)Elapsed 0m 4s (remain 50m 47s)Loss: 1.4669(1.4669)Grad: 3.4962  \n",
      "Epoch: [1][100/659]Data 0.147 (0.131)Elapsed 1m 4s (remain 5m 54s)Loss: 0.8528(1.5841)Grad: 1.4041  \n",
      "Epoch: [1][200/659]Data 0.247 (0.137)Elapsed 2m 4s (remain 4m 44s)Loss: 1.5428(1.3923)Grad: 2.1670  \n",
      "Epoch: [1][300/659]Data 0.244 (0.136)Elapsed 3m 5s (remain 3m 40s)Loss: 0.7338(1.3189)Grad: 1.1531  \n",
      "Epoch: [1][400/659]Data 0.157 (0.137)Elapsed 4m 5s (remain 2m 38s)Loss: 1.2477(1.2643)Grad: 1.1990  \n",
      "Epoch: [1][500/659]Data 0.214 (0.142)Elapsed 5m 7s (remain 1m 36s)Loss: 0.9653(1.2364)Grad: 0.5536  \n",
      "Epoch: [1][600/659]Data 0.210 (0.144)Elapsed 6m 7s (remain 0m 35s)Loss: 1.1143(1.2003)Grad: 0.9948  \n",
      "Epoch: [1][658/659]Data 0.000 (0.143)Elapsed 6m 41s (remain 0m 0s)Loss: 1.2860(1.1817)Grad: 2.4573  \n",
      "EVAL: [0/165] Data 1.940 (1.940) Elapsed 0m 2s (remain 5m 57s) Loss: 0.9463(0.9463) \n",
      "EVAL: [100/165] Data 0.604 (0.232) Elapsed 0m 47s (remain 0m 29s) Loss: 1.2497(0.8784) \n"
     ]
    },
    {
     "name": "stderr",
     "output_type": "stream",
     "text": [
      "Epoch 1 - avg_train_loss: 1.1817 avg_val_loss: 0.9083 time: 476s\n",
      "Epoch 1 - Accuracy: 0.7074791192103265\n",
      "Epoch 1 - Save Best Score: 0.7075 Model\n"
     ]
    },
    {
     "name": "stdout",
     "output_type": "stream",
     "text": [
      "EVAL: [164/165] Data 0.000 (0.214) Elapsed 1m 13s (remain 0m 0s) Loss: 1.2252(0.9083) \n"
     ]
    },
    {
     "name": "stderr",
     "output_type": "stream",
     "text": [
      "requires_grad of all parameters are unlocked\n"
     ]
    },
    {
     "name": "stdout",
     "output_type": "stream",
     "text": [
      "Epoch: [2][0/659]Data 2.605 (2.605)Elapsed 0m 4s (remain 50m 13s)Loss: 1.1936(1.1936)Grad: 13.6150  \n",
      "Epoch: [2][100/659]Data 0.000 (0.026)Elapsed 2m 51s (remain 15m 48s)Loss: 1.1538(0.8884)Grad: 2.9236  \n",
      "Epoch: [2][200/659]Data 0.000 (0.013)Elapsed 5m 38s (remain 12m 51s)Loss: 0.5349(0.7943)Grad: 3.3094  \n",
      "Epoch: [2][300/659]Data 0.000 (0.009)Elapsed 8m 25s (remain 10m 0s)Loss: 0.3409(0.7360)Grad: 2.0752  \n",
      "Epoch: [2][400/659]Data 0.000 (0.007)Elapsed 11m 11s (remain 7m 12s)Loss: 0.7219(0.7143)Grad: 2.3242  \n",
      "Epoch: [2][500/659]Data 0.000 (0.005)Elapsed 13m 57s (remain 4m 24s)Loss: 0.5706(0.6902)Grad: 2.9619  \n",
      "Epoch: [2][600/659]Data 0.000 (0.004)Elapsed 16m 44s (remain 1m 36s)Loss: 0.1246(0.6832)Grad: 1.3670  \n",
      "Epoch: [2][658/659]Data 0.000 (0.004)Elapsed 18m 20s (remain 0m 0s)Loss: 1.1777(0.6785)Grad: 4.1596  \n",
      "EVAL: [0/165] Data 2.338 (2.338) Elapsed 0m 2s (remain 7m 1s) Loss: 0.3645(0.3645) \n",
      "EVAL: [100/165] Data 0.576 (0.229) Elapsed 0m 46s (remain 0m 29s) Loss: 0.7949(0.6268) \n"
     ]
    },
    {
     "name": "stderr",
     "output_type": "stream",
     "text": [
      "Epoch 2 - avg_train_loss: 0.6785 avg_val_loss: 0.6276 time: 1173s\n",
      "Epoch 2 - Accuracy: 0.8513667425968109\n",
      "Epoch 2 - Save Best Score: 0.8514 Model\n"
     ]
    },
    {
     "name": "stdout",
     "output_type": "stream",
     "text": [
      "EVAL: [164/165] Data 0.000 (0.209) Elapsed 1m 13s (remain 0m 0s) Loss: 0.2811(0.6276) \n",
      "Epoch: [3][0/659]Data 2.406 (2.406)Elapsed 0m 4s (remain 45m 51s)Loss: 0.4423(0.4423)Grad: 1.8798  \n",
      "Epoch: [3][100/659]Data 0.000 (0.024)Elapsed 2m 50s (remain 15m 43s)Loss: 0.3225(0.6704)Grad: 1.3575  \n",
      "Epoch: [3][200/659]Data 0.000 (0.012)Elapsed 5m 37s (remain 12m 48s)Loss: 0.2568(0.6409)Grad: 1.1884  \n",
      "Epoch: [3][300/659]Data 0.000 (0.008)Elapsed 8m 23s (remain 9m 59s)Loss: 0.1737(0.6153)Grad: 3.2385  \n",
      "Epoch: [3][400/659]Data 0.000 (0.006)Elapsed 11m 10s (remain 7m 11s)Loss: 0.2937(0.6112)Grad: 1.0422  \n",
      "Epoch: [3][500/659]Data 0.000 (0.005)Elapsed 13m 56s (remain 4m 23s)Loss: 0.4168(0.6112)Grad: 2.3621  \n",
      "Epoch: [3][600/659]Data 0.000 (0.004)Elapsed 16m 43s (remain 1m 36s)Loss: 0.8358(0.6126)Grad: 1.4819  \n",
      "Epoch: [3][658/659]Data 0.000 (0.004)Elapsed 18m 18s (remain 0m 0s)Loss: 0.4349(0.6090)Grad: 2.5423  \n",
      "EVAL: [0/165] Data 1.730 (1.730) Elapsed 0m 1s (remain 5m 22s) Loss: 0.4583(0.4583) \n",
      "EVAL: [100/165] Data 0.547 (0.215) Elapsed 0m 45s (remain 0m 28s) Loss: 0.6258(0.5698) \n"
     ]
    },
    {
     "name": "stderr",
     "output_type": "stream",
     "text": [
      "Epoch 3 - avg_train_loss: 0.6090 avg_val_loss: 0.5677 time: 1171s\n",
      "Epoch 3 - Accuracy: 0.8616173120728929\n",
      "Epoch 3 - Save Best Score: 0.8616 Model\n"
     ]
    },
    {
     "name": "stdout",
     "output_type": "stream",
     "text": [
      "EVAL: [164/165] Data 0.000 (0.201) Elapsed 1m 11s (remain 0m 0s) Loss: 0.3202(0.5677) \n",
      "Epoch: [4][0/659]Data 2.369 (2.369)Elapsed 0m 4s (remain 45m 33s)Loss: 0.7164(0.7164)Grad: 1.5803  \n",
      "Epoch: [4][100/659]Data 0.000 (0.024)Elapsed 2m 50s (remain 15m 43s)Loss: 0.5569(0.6387)Grad: 1.3846  \n",
      "Epoch: [4][200/659]Data 0.000 (0.012)Elapsed 5m 37s (remain 12m 48s)Loss: 0.2969(0.6182)Grad: 1.6572  \n",
      "Epoch: [4][300/659]Data 0.000 (0.008)Elapsed 8m 23s (remain 9m 58s)Loss: 0.5724(0.6187)Grad: 1.8976  \n",
      "Epoch: [4][400/659]Data 0.000 (0.006)Elapsed 11m 9s (remain 7m 11s)Loss: 1.4205(0.5975)Grad: 2.1868  \n",
      "Epoch: [4][500/659]Data 0.000 (0.005)Elapsed 13m 56s (remain 4m 23s)Loss: 0.9310(0.5926)Grad: 1.2042  \n",
      "Epoch: [4][600/659]Data 0.000 (0.004)Elapsed 16m 42s (remain 1m 36s)Loss: 0.5343(0.5936)Grad: 1.6507  \n",
      "Epoch: [4][658/659]Data 0.000 (0.004)Elapsed 18m 18s (remain 0m 0s)Loss: 0.4856(0.5963)Grad: 2.4087  \n",
      "EVAL: [0/165] Data 2.648 (2.648) Elapsed 0m 2s (remain 8m 3s) Loss: 0.6388(0.6388) \n",
      "EVAL: [100/165] Data 0.987 (0.216) Elapsed 0m 45s (remain 0m 29s) Loss: 0.5903(0.5938) \n"
     ]
    },
    {
     "name": "stderr",
     "output_type": "stream",
     "text": [
      "Epoch 4 - avg_train_loss: 0.5963 avg_val_loss: 0.5659 time: 1170s\n",
      "Epoch 4 - Accuracy: 0.8680713743356112\n",
      "Epoch 4 - Save Best Score: 0.8681 Model\n"
     ]
    },
    {
     "name": "stdout",
     "output_type": "stream",
     "text": [
      "EVAL: [164/165] Data 0.000 (0.197) Elapsed 1m 11s (remain 0m 0s) Loss: 0.2782(0.5659) \n",
      "Epoch: [5][0/659]Data 2.315 (2.315)Elapsed 0m 4s (remain 45m 11s)Loss: 0.2312(0.2312)Grad: 1.8553  \n",
      "Epoch: [5][100/659]Data 0.000 (0.023)Elapsed 2m 50s (remain 15m 41s)Loss: 0.2685(0.5746)Grad: 1.1448  \n",
      "Epoch: [5][200/659]Data 0.000 (0.012)Elapsed 5m 36s (remain 12m 47s)Loss: 0.3577(0.5720)Grad: 0.9423  \n",
      "Epoch: [5][300/659]Data 0.000 (0.008)Elapsed 8m 22s (remain 9m 58s)Loss: 0.7663(0.5815)Grad: 1.2712  \n",
      "Epoch: [5][400/659]Data 0.000 (0.006)Elapsed 11m 9s (remain 7m 10s)Loss: 0.6766(0.5825)Grad: 1.5942  \n",
      "Epoch: [5][500/659]Data 0.000 (0.005)Elapsed 13m 55s (remain 4m 23s)Loss: 0.2859(0.5752)Grad: 1.9247  \n",
      "Epoch: [5][600/659]Data 0.000 (0.004)Elapsed 16m 42s (remain 1m 36s)Loss: 0.6818(0.5782)Grad: 1.8945  \n",
      "Epoch: [5][658/659]Data 0.000 (0.004)Elapsed 18m 17s (remain 0m 0s)Loss: 0.1744(0.5858)Grad: 1.5581  \n",
      "EVAL: [0/165] Data 1.766 (1.766) Elapsed 0m 2s (remain 5m 31s) Loss: 0.5756(0.5756) \n",
      "EVAL: [100/165] Data 0.698 (0.220) Elapsed 0m 45s (remain 0m 29s) Loss: 0.6712(0.6098) \n"
     ]
    },
    {
     "name": "stderr",
     "output_type": "stream",
     "text": [
      "Epoch 5 - avg_train_loss: 0.5858 avg_val_loss: 0.5818 time: 1170s\n",
      "Epoch 5 - Accuracy: 0.8694001518602885\n",
      "Epoch 5 - Save Best Score: 0.8694 Model\n"
     ]
    },
    {
     "name": "stdout",
     "output_type": "stream",
     "text": [
      "EVAL: [164/165] Data 0.000 (0.201) Elapsed 1m 11s (remain 0m 0s) Loss: 0.1649(0.5818) \n",
      "Epoch: [6][0/659]Data 2.626 (2.626)Elapsed 0m 4s (remain 48m 19s)Loss: 0.2627(0.2627)Grad: 1.7325  \n",
      "Epoch: [6][100/659]Data 0.000 (0.026)Elapsed 2m 50s (remain 15m 43s)Loss: 0.1630(0.5831)Grad: 1.1830  \n",
      "Epoch: [6][200/659]Data 0.000 (0.013)Elapsed 5m 37s (remain 12m 48s)Loss: 0.4385(0.5565)Grad: 1.5004  \n",
      "Epoch: [6][300/659]Data 0.000 (0.009)Elapsed 8m 23s (remain 9m 58s)Loss: 0.2736(0.5653)Grad: 1.5403  \n",
      "Epoch: [6][400/659]Data 0.000 (0.007)Elapsed 11m 9s (remain 7m 11s)Loss: 1.0056(0.5573)Grad: 1.1386  \n",
      "Epoch: [6][500/659]Data 0.000 (0.005)Elapsed 13m 56s (remain 4m 23s)Loss: 1.4909(0.5590)Grad: 1.5113  \n",
      "Epoch: [6][600/659]Data 0.000 (0.005)Elapsed 16m 42s (remain 1m 36s)Loss: 0.9601(0.5544)Grad: 1.9644  \n",
      "Epoch: [6][658/659]Data 0.000 (0.004)Elapsed 18m 18s (remain 0m 0s)Loss: 3.6334(0.5600)Grad: 2.9411  \n",
      "EVAL: [0/165] Data 1.971 (1.971) Elapsed 0m 2s (remain 6m 1s) Loss: 0.5127(0.5127) \n",
      "EVAL: [100/165] Data 0.727 (0.229) Elapsed 0m 46s (remain 0m 29s) Loss: 0.7961(0.5635) \n"
     ]
    },
    {
     "name": "stderr",
     "output_type": "stream",
     "text": [
      "Epoch 6 - avg_train_loss: 0.5600 avg_val_loss: 0.5406 time: 1172s\n",
      "Epoch 6 - Accuracy: 0.8754745634016705\n",
      "Epoch 6 - Save Best Score: 0.8755 Model\n"
     ]
    },
    {
     "name": "stdout",
     "output_type": "stream",
     "text": [
      "EVAL: [164/165] Data 0.000 (0.211) Elapsed 1m 13s (remain 0m 0s) Loss: 0.2100(0.5406) \n",
      "Epoch: [7][0/659]Data 2.198 (2.198)Elapsed 0m 4s (remain 43m 58s)Loss: 0.3141(0.3141)Grad: 1.8467  \n",
      "Epoch: [7][100/659]Data 0.000 (0.022)Elapsed 2m 50s (remain 15m 40s)Loss: 0.7018(0.5338)Grad: 1.1463  \n",
      "Epoch: [7][200/659]Data 0.000 (0.011)Elapsed 5m 36s (remain 12m 47s)Loss: 0.1748(0.5329)Grad: 1.2071  \n",
      "Epoch: [7][300/659]Data 0.000 (0.007)Elapsed 8m 23s (remain 9m 58s)Loss: 0.0424(0.5374)Grad: 0.8298  \n",
      "Epoch: [7][400/659]Data 0.000 (0.006)Elapsed 11m 9s (remain 7m 10s)Loss: 0.3142(0.5341)Grad: 0.9118  \n",
      "Epoch: [7][500/659]Data 0.000 (0.005)Elapsed 13m 55s (remain 4m 23s)Loss: 0.2192(0.5440)Grad: 1.9947  \n",
      "Epoch: [7][600/659]Data 0.000 (0.004)Elapsed 16m 42s (remain 1m 36s)Loss: 0.1046(0.5430)Grad: 1.1110  \n",
      "Epoch: [7][658/659]Data 0.000 (0.003)Elapsed 18m 17s (remain 0m 0s)Loss: 0.3430(0.5455)Grad: 0.8850  \n",
      "EVAL: [0/165] Data 1.792 (1.792) Elapsed 0m 2s (remain 5m 31s) Loss: 0.3927(0.3927) \n",
      "EVAL: [100/165] Data 0.222 (0.197) Elapsed 0m 43s (remain 0m 27s) Loss: 0.7711(0.5625) \n"
     ]
    },
    {
     "name": "stderr",
     "output_type": "stream",
     "text": [
      "Epoch 7 - avg_train_loss: 0.5455 avg_val_loss: 0.5259 time: 1167s\n",
      "Epoch 7 - Accuracy: 0.8849658314350797\n",
      "Epoch 7 - Save Best Score: 0.8850 Model\n"
     ]
    },
    {
     "name": "stdout",
     "output_type": "stream",
     "text": [
      "EVAL: [164/165] Data 0.000 (0.184) Elapsed 1m 9s (remain 0m 0s) Loss: 0.0806(0.5259) \n",
      "Epoch: [8][0/659]Data 2.466 (2.466)Elapsed 0m 4s (remain 46m 36s)Loss: 0.3549(0.3549)Grad: 1.0479  \n",
      "Epoch: [8][100/659]Data 0.000 (0.025)Elapsed 2m 50s (remain 15m 42s)Loss: 0.5121(0.5367)Grad: 1.8342  \n",
      "Epoch: [8][200/659]Data 0.000 (0.012)Elapsed 5m 37s (remain 12m 48s)Loss: 0.6003(0.5373)Grad: 1.3426  \n",
      "Epoch: [8][300/659]Data 0.000 (0.008)Elapsed 8m 23s (remain 9m 58s)Loss: 0.4255(0.5222)Grad: 1.3039  \n",
      "Epoch: [8][400/659]Data 0.000 (0.006)Elapsed 11m 9s (remain 7m 10s)Loss: 0.6617(0.5221)Grad: 1.5309  \n",
      "Epoch: [8][500/659]Data 0.000 (0.005)Elapsed 13m 56s (remain 4m 23s)Loss: 0.5818(0.5167)Grad: 1.0085  \n",
      "Epoch: [8][600/659]Data 0.000 (0.004)Elapsed 16m 42s (remain 1m 36s)Loss: 0.3506(0.5106)Grad: 1.2125  \n",
      "Epoch: [8][658/659]Data 0.000 (0.004)Elapsed 18m 17s (remain 0m 0s)Loss: 0.2790(0.5138)Grad: 1.4792  \n",
      "EVAL: [0/165] Data 1.587 (1.587) Elapsed 0m 1s (remain 5m 6s) Loss: 0.5131(0.5131) \n",
      "EVAL: [100/165] Data 0.080 (0.207) Elapsed 0m 44s (remain 0m 28s) Loss: 0.7555(0.5410) \n"
     ]
    },
    {
     "name": "stderr",
     "output_type": "stream",
     "text": [
      "Epoch 8 - avg_train_loss: 0.5138 avg_val_loss: 0.5159 time: 1168s\n",
      "Epoch 8 - Accuracy: 0.8868640850417616\n",
      "Epoch 8 - Save Best Score: 0.8869 Model\n"
     ]
    },
    {
     "name": "stdout",
     "output_type": "stream",
     "text": [
      "EVAL: [164/165] Data 0.000 (0.193) Elapsed 1m 10s (remain 0m 0s) Loss: 0.1523(0.5159) \n",
      "Epoch: [9][0/659]Data 2.498 (2.498)Elapsed 0m 4s (remain 47m 25s)Loss: 0.2830(0.2830)Grad: 1.3473  \n",
      "Epoch: [9][100/659]Data 0.000 (0.025)Elapsed 2m 50s (remain 15m 43s)Loss: 0.6008(0.5197)Grad: 1.4434  \n",
      "Epoch: [9][200/659]Data 0.000 (0.013)Elapsed 5m 37s (remain 12m 48s)Loss: 0.5957(0.4851)Grad: 1.5370  \n",
      "Epoch: [9][300/659]Data 0.000 (0.008)Elapsed 8m 23s (remain 9m 58s)Loss: 0.3186(0.4834)Grad: 0.8078  \n",
      "Epoch: [9][400/659]Data 0.000 (0.006)Elapsed 11m 9s (remain 7m 10s)Loss: 0.8342(0.5107)Grad: 1.1229  \n",
      "Epoch: [9][500/659]Data 0.000 (0.005)Elapsed 13m 55s (remain 4m 23s)Loss: 0.8568(0.5124)Grad: 1.3332  \n",
      "Epoch: [9][600/659]Data 0.000 (0.004)Elapsed 16m 42s (remain 1m 36s)Loss: 0.4603(0.5115)Grad: 1.4583  \n",
      "Epoch: [9][658/659]Data 0.000 (0.004)Elapsed 18m 17s (remain 0m 0s)Loss: 0.0565(0.5098)Grad: 1.0839  \n",
      "EVAL: [0/165] Data 1.569 (1.569) Elapsed 0m 1s (remain 4m 59s) Loss: 0.5706(0.5706) \n",
      "EVAL: [100/165] Data 0.509 (0.208) Elapsed 0m 44s (remain 0m 28s) Loss: 0.7500(0.5536) \n"
     ]
    },
    {
     "name": "stderr",
     "output_type": "stream",
     "text": [
      "Epoch 9 - avg_train_loss: 0.5098 avg_val_loss: 0.5358 time: 1167s\n",
      "Epoch 9 - Accuracy: 0.889331814730448\n",
      "Epoch 9 - Save Best Score: 0.8893 Model\n"
     ]
    },
    {
     "name": "stdout",
     "output_type": "stream",
     "text": [
      "EVAL: [164/165] Data 0.000 (0.188) Elapsed 1m 9s (remain 0m 0s) Loss: 0.0966(0.5358) \n",
      "Epoch: [10][0/659]Data 2.976 (2.976)Elapsed 0m 4s (remain 51m 59s)Loss: 0.2646(0.2646)Grad: 1.4778  \n",
      "Epoch: [10][100/659]Data 0.000 (0.030)Elapsed 2m 51s (remain 15m 46s)Loss: 0.6253(0.5042)Grad: 1.4297  \n",
      "Epoch: [10][200/659]Data 0.000 (0.015)Elapsed 5m 37s (remain 12m 48s)Loss: 0.4701(0.4974)Grad: 1.4723  \n",
      "Epoch: [10][300/659]Data 0.000 (0.010)Elapsed 8m 23s (remain 9m 59s)Loss: 0.5391(0.5114)Grad: 1.3204  \n",
      "Epoch: [10][400/659]Data 0.000 (0.008)Elapsed 11m 10s (remain 7m 11s)Loss: 0.1929(0.5107)Grad: 0.7630  \n",
      "Epoch: [10][500/659]Data 0.000 (0.006)Elapsed 13m 56s (remain 4m 23s)Loss: 0.6962(0.5070)Grad: 1.4443  \n",
      "Epoch: [10][600/659]Data 0.000 (0.005)Elapsed 16m 42s (remain 1m 36s)Loss: 0.1018(0.5024)Grad: 0.8529  \n",
      "Epoch: [10][658/659]Data 0.000 (0.005)Elapsed 18m 18s (remain 0m 0s)Loss: 0.7189(0.4992)Grad: 2.9819  \n",
      "EVAL: [0/165] Data 1.771 (1.771) Elapsed 0m 2s (remain 5m 33s) Loss: 0.5549(0.5549) \n",
      "EVAL: [100/165] Data 0.578 (0.216) Elapsed 0m 45s (remain 0m 28s) Loss: 0.7614(0.5551) \n"
     ]
    },
    {
     "name": "stderr",
     "output_type": "stream",
     "text": [
      "Epoch 10 - avg_train_loss: 0.4992 avg_val_loss: 0.5269 time: 1170s\n",
      "Epoch 10 - Accuracy: 0.8902809415337889\n",
      "Epoch 10 - Save Best Score: 0.8903 Model\n"
     ]
    },
    {
     "name": "stdout",
     "output_type": "stream",
     "text": [
      "EVAL: [164/165] Data 0.000 (0.198) Elapsed 1m 11s (remain 0m 0s) Loss: 0.0591(0.5269) \n"
     ]
    },
    {
     "name": "stderr",
     "output_type": "stream",
     "text": [
      "=============== fold: 0 result ================\n",
      "Score: 0.89028\n",
      "============ CV ============\n",
      "Score: 0.89028\n"
     ]
    }
   ],
   "source": [
    "if __name__ == '__main__':\n",
    "    main()"
   ]
  },
  {
   "cell_type": "code",
   "execution_count": null,
   "metadata": {
    "papermill": {
     "duration": 0.063585,
     "end_time": "2021-02-14T17:00:08.353209",
     "exception": false,
     "start_time": "2021-02-14T17:00:08.289624",
     "status": "completed"
    },
    "tags": []
   },
   "outputs": [],
   "source": []
  }
 ],
 "metadata": {
  "kernelspec": {
   "display_name": "Python 3",
   "language": "python",
   "name": "python3"
  },
  "language_info": {
   "codemirror_mode": {
    "name": "ipython",
    "version": 3
   },
   "file_extension": ".py",
   "mimetype": "text/x-python",
   "name": "python",
   "nbconvert_exporter": "python",
   "pygments_lexer": "ipython3",
   "version": "3.7.9"
  },
  "papermill": {
   "default_parameters": {},
   "duration": 11027.835142,
   "end_time": "2021-02-14T17:00:10.901606",
   "environment_variables": {},
   "exception": null,
   "input_path": "__notebook__.ipynb",
   "output_path": "__notebook__.ipynb",
   "parameters": {},
   "start_time": "2021-02-14T13:56:23.066464",
   "version": "2.2.2"
  }
 },
 "nbformat": 4,
 "nbformat_minor": 4
}
