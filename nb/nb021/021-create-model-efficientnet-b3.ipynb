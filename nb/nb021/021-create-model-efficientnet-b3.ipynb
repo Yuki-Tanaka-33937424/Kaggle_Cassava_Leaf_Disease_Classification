{
 "cells": [
  {
   "cell_type": "code",
   "execution_count": 1,
   "metadata": {
    "execution": {
     "iopub.execute_input": "2021-01-10T00:38:25.677464Z",
     "iopub.status.busy": "2021-01-10T00:38:25.675710Z",
     "iopub.status.idle": "2021-01-10T00:38:25.678402Z",
     "shell.execute_reply": "2021-01-10T00:38:25.678977Z"
    },
    "papermill": {
     "duration": 0.036837,
     "end_time": "2021-01-10T00:38:25.679289",
     "exception": false,
     "start_time": "2021-01-10T00:38:25.642452",
     "status": "completed"
    },
    "tags": []
   },
   "outputs": [],
   "source": [
    "# !pip install pytorch_ranger"
   ]
  },
  {
   "cell_type": "code",
   "execution_count": 2,
   "metadata": {
    "_cell_guid": "79c7e3d0-c299-4dcb-8224-4455121ee9b0",
    "_uuid": "d629ff2d2480ee46fbb7e2d37f6b5fab8052498a",
    "execution": {
     "iopub.execute_input": "2021-01-10T00:38:25.739724Z",
     "iopub.status.busy": "2021-01-10T00:38:25.739005Z",
     "iopub.status.idle": "2021-01-10T00:38:26.634597Z",
     "shell.execute_reply": "2021-01-10T00:38:26.633947Z"
    },
    "papermill": {
     "duration": 0.927727,
     "end_time": "2021-01-10T00:38:26.634734",
     "exception": false,
     "start_time": "2021-01-10T00:38:25.707007",
     "status": "completed"
    },
    "tags": []
   },
   "outputs": [],
   "source": [
    "import numpy as np\n",
    "import pandas as pd\n",
    "import matplotlib.pyplot as plt\n",
    "import seaborn as sns\n",
    "import os\n",
    "\n",
    "%matplotlib inline"
   ]
  },
  {
   "cell_type": "code",
   "execution_count": 3,
   "metadata": {
    "execution": {
     "iopub.execute_input": "2021-01-10T00:38:26.695504Z",
     "iopub.status.busy": "2021-01-10T00:38:26.694663Z",
     "iopub.status.idle": "2021-01-10T00:38:26.701505Z",
     "shell.execute_reply": "2021-01-10T00:38:26.702086Z"
    },
    "papermill": {
     "duration": 0.04001,
     "end_time": "2021-01-10T00:38:26.702213",
     "exception": false,
     "start_time": "2021-01-10T00:38:26.662203",
     "status": "completed"
    },
    "tags": []
   },
   "outputs": [
    {
     "data": {
      "text/plain": [
       "['train_tfrecords',\n",
       " 'sample_submission.csv',\n",
       " 'test_tfrecords',\n",
       " 'label_num_to_disease_map.json',\n",
       " 'train_images',\n",
       " 'train.csv',\n",
       " 'test_images']"
      ]
     },
     "execution_count": 3,
     "metadata": {},
     "output_type": "execute_result"
    }
   ],
   "source": [
    "os.listdir('../input/cassava-leaf-disease-classification/')"
   ]
  },
  {
   "cell_type": "code",
   "execution_count": 4,
   "metadata": {
    "execution": {
     "iopub.execute_input": "2021-01-10T00:38:26.765482Z",
     "iopub.status.busy": "2021-01-10T00:38:26.764864Z",
     "iopub.status.idle": "2021-01-10T00:38:27.088359Z",
     "shell.execute_reply": "2021-01-10T00:38:27.087458Z"
    },
    "papermill": {
     "duration": 0.358591,
     "end_time": "2021-01-10T00:38:27.088469",
     "exception": false,
     "start_time": "2021-01-10T00:38:26.729878",
     "status": "completed"
    },
    "tags": []
   },
   "outputs": [
    {
     "data": {
      "text/html": [
       "<div>\n",
       "<style scoped>\n",
       "    .dataframe tbody tr th:only-of-type {\n",
       "        vertical-align: middle;\n",
       "    }\n",
       "\n",
       "    .dataframe tbody tr th {\n",
       "        vertical-align: top;\n",
       "    }\n",
       "\n",
       "    .dataframe thead th {\n",
       "        text-align: right;\n",
       "    }\n",
       "</style>\n",
       "<table border=\"1\" class=\"dataframe\">\n",
       "  <thead>\n",
       "    <tr style=\"text-align: right;\">\n",
       "      <th></th>\n",
       "      <th>image_id</th>\n",
       "      <th>label</th>\n",
       "      <th>source</th>\n",
       "    </tr>\n",
       "  </thead>\n",
       "  <tbody>\n",
       "    <tr>\n",
       "      <th>0</th>\n",
       "      <td>1000015157.jpg</td>\n",
       "      <td>0</td>\n",
       "      <td>2020</td>\n",
       "    </tr>\n",
       "    <tr>\n",
       "      <th>1</th>\n",
       "      <td>1000201771.jpg</td>\n",
       "      <td>3</td>\n",
       "      <td>2020</td>\n",
       "    </tr>\n",
       "    <tr>\n",
       "      <th>2</th>\n",
       "      <td>100042118.jpg</td>\n",
       "      <td>1</td>\n",
       "      <td>2020</td>\n",
       "    </tr>\n",
       "    <tr>\n",
       "      <th>3</th>\n",
       "      <td>1000723321.jpg</td>\n",
       "      <td>1</td>\n",
       "      <td>2020</td>\n",
       "    </tr>\n",
       "    <tr>\n",
       "      <th>4</th>\n",
       "      <td>1000812911.jpg</td>\n",
       "      <td>3</td>\n",
       "      <td>2020</td>\n",
       "    </tr>\n",
       "  </tbody>\n",
       "</table>\n",
       "</div>"
      ],
      "text/plain": [
       "         image_id  label  source\n",
       "0  1000015157.jpg      0    2020\n",
       "1  1000201771.jpg      3    2020\n",
       "2   100042118.jpg      1    2020\n",
       "3  1000723321.jpg      1    2020\n",
       "4  1000812911.jpg      3    2020"
      ]
     },
     "metadata": {},
     "output_type": "display_data"
    },
    {
     "data": {
      "text/html": [
       "<div>\n",
       "<style scoped>\n",
       "    .dataframe tbody tr th:only-of-type {\n",
       "        vertical-align: middle;\n",
       "    }\n",
       "\n",
       "    .dataframe tbody tr th {\n",
       "        vertical-align: top;\n",
       "    }\n",
       "\n",
       "    .dataframe thead th {\n",
       "        text-align: right;\n",
       "    }\n",
       "</style>\n",
       "<table border=\"1\" class=\"dataframe\">\n",
       "  <thead>\n",
       "    <tr style=\"text-align: right;\">\n",
       "      <th></th>\n",
       "      <th>image_id</th>\n",
       "      <th>label</th>\n",
       "    </tr>\n",
       "  </thead>\n",
       "  <tbody>\n",
       "    <tr>\n",
       "      <th>0</th>\n",
       "      <td>2216849948.jpg</td>\n",
       "      <td>4</td>\n",
       "    </tr>\n",
       "  </tbody>\n",
       "</table>\n",
       "</div>"
      ],
      "text/plain": [
       "         image_id  label\n",
       "0  2216849948.jpg      4"
      ]
     },
     "metadata": {},
     "output_type": "display_data"
    },
    {
     "data": {
      "text/html": [
       "<div>\n",
       "<style scoped>\n",
       "    .dataframe tbody tr th:only-of-type {\n",
       "        vertical-align: middle;\n",
       "    }\n",
       "\n",
       "    .dataframe tbody tr th {\n",
       "        vertical-align: top;\n",
       "    }\n",
       "\n",
       "    .dataframe thead th {\n",
       "        text-align: right;\n",
       "    }\n",
       "</style>\n",
       "<table border=\"1\" class=\"dataframe\">\n",
       "  <thead>\n",
       "    <tr style=\"text-align: right;\">\n",
       "      <th></th>\n",
       "      <th>0</th>\n",
       "    </tr>\n",
       "  </thead>\n",
       "  <tbody>\n",
       "    <tr>\n",
       "      <th>0</th>\n",
       "      <td>Cassava Bacterial Blight (CBB)</td>\n",
       "    </tr>\n",
       "    <tr>\n",
       "      <th>1</th>\n",
       "      <td>Cassava Brown Streak Disease (CBSD)</td>\n",
       "    </tr>\n",
       "    <tr>\n",
       "      <th>2</th>\n",
       "      <td>Cassava Green Mottle (CGM)</td>\n",
       "    </tr>\n",
       "    <tr>\n",
       "      <th>3</th>\n",
       "      <td>Cassava Mosaic Disease (CMD)</td>\n",
       "    </tr>\n",
       "    <tr>\n",
       "      <th>4</th>\n",
       "      <td>Healthy</td>\n",
       "    </tr>\n",
       "  </tbody>\n",
       "</table>\n",
       "</div>"
      ],
      "text/plain": [
       "                                     0\n",
       "0       Cassava Bacterial Blight (CBB)\n",
       "1  Cassava Brown Streak Disease (CBSD)\n",
       "2           Cassava Green Mottle (CGM)\n",
       "3         Cassava Mosaic Disease (CMD)\n",
       "4                              Healthy"
      ]
     },
     "metadata": {},
     "output_type": "display_data"
    }
   ],
   "source": [
    "train = pd.read_csv('../input/cassava-leaf-disease-merged/merged.csv')\n",
    "test = pd.read_csv('../input/cassava-leaf-disease-classification//sample_submission.csv')\n",
    "label_map = pd.read_json('../input/cassava-leaf-disease-classification/label_num_to_disease_map.json', orient='index')\n",
    "\n",
    "display(train.head())\n",
    "display(test.head())\n",
    "display(label_map)"
   ]
  },
  {
   "cell_type": "markdown",
   "metadata": {
    "papermill": {
     "duration": 0.028705,
     "end_time": "2021-01-10T00:38:27.147351",
     "exception": false,
     "start_time": "2021-01-10T00:38:27.118646",
     "status": "completed"
    },
    "tags": []
   },
   "source": [
    "## Directory settings"
   ]
  },
  {
   "cell_type": "code",
   "execution_count": 5,
   "metadata": {
    "execution": {
     "iopub.execute_input": "2021-01-10T00:38:27.209675Z",
     "iopub.status.busy": "2021-01-10T00:38:27.208842Z",
     "iopub.status.idle": "2021-01-10T00:38:27.211789Z",
     "shell.execute_reply": "2021-01-10T00:38:27.211304Z"
    },
    "papermill": {
     "duration": 0.036392,
     "end_time": "2021-01-10T00:38:27.211887",
     "exception": false,
     "start_time": "2021-01-10T00:38:27.175495",
     "status": "completed"
    },
    "tags": []
   },
   "outputs": [],
   "source": [
    "OUTPUT_DIR = './'\n",
    "if not os.path.exists(OUTPUT_DIR):\n",
    "    os.makedirs(OUTPUT_DIR)\n",
    "    \n",
    "TRAIN_PATH = '../input/cassava-leaf-disease-merged/train'\n",
    "TEST_PATH = '../input/cassava-leaf-disease-classification/test_images'"
   ]
  },
  {
   "cell_type": "markdown",
   "metadata": {
    "papermill": {
     "duration": 0.029021,
     "end_time": "2021-01-10T00:38:27.269870",
     "exception": false,
     "start_time": "2021-01-10T00:38:27.240849",
     "status": "completed"
    },
    "tags": []
   },
   "source": [
    "## CFG"
   ]
  },
  {
   "cell_type": "code",
   "execution_count": 6,
   "metadata": {
    "execution": {
     "iopub.execute_input": "2021-01-10T00:38:27.337827Z",
     "iopub.status.busy": "2021-01-10T00:38:27.335697Z",
     "iopub.status.idle": "2021-01-10T00:38:27.340365Z",
     "shell.execute_reply": "2021-01-10T00:38:27.339840Z"
    },
    "papermill": {
     "duration": 0.041083,
     "end_time": "2021-01-10T00:38:27.340454",
     "exception": false,
     "start_time": "2021-01-10T00:38:27.299371",
     "status": "completed"
    },
    "tags": []
   },
   "outputs": [],
   "source": [
    "class CFG:\n",
    "    debug = False\n",
    "    apex = False\n",
    "    print_freq = 100\n",
    "    num_workers = 4\n",
    "    model_name = 'tf_efficientnet_b3'\n",
    "    size = 470\n",
    "    scheduler = 'CosineAnnealingWarmRestarts'\n",
    "    loss_train = 'BiTemperedLoss'\n",
    "    epochs = 10\n",
    "    T_0 = 10\n",
    "    lr_1 = 5e-4\n",
    "    lr_2 = 5e-5\n",
    "    t1 = 0.9\n",
    "    t2 = 1.5\n",
    "    smooth = 1e-2\n",
    "    min_lr = 1e-6\n",
    "    batch_size = 16\n",
    "    weight_decay = 1e-6\n",
    "    gradient_accumulation_steps = 1\n",
    "    max_grad_norm = 1000\n",
    "    seed = 42\n",
    "    target_size = 5\n",
    "    target_col = 'label'\n",
    "    n_fold = 5\n",
    "    trn_fold = [0, 1, 2, 3, 4]\n",
    "    train = True\n",
    "    inference = False\n",
    "    \n",
    "if CFG.debug:\n",
    "    CFG.epochs = 3\n",
    "    train = train.sample(n=1000, random_state=CFG.seed).reset_index(drop=True)"
   ]
  },
  {
   "cell_type": "markdown",
   "metadata": {
    "papermill": {
     "duration": 0.028417,
     "end_time": "2021-01-10T00:38:27.398334",
     "exception": false,
     "start_time": "2021-01-10T00:38:27.369917",
     "status": "completed"
    },
    "tags": []
   },
   "source": [
    "## Library"
   ]
  },
  {
   "cell_type": "code",
   "execution_count": 7,
   "metadata": {
    "execution": {
     "iopub.execute_input": "2021-01-10T00:38:27.470847Z",
     "iopub.status.busy": "2021-01-10T00:38:27.470096Z",
     "iopub.status.idle": "2021-01-10T00:38:31.521285Z",
     "shell.execute_reply": "2021-01-10T00:38:31.520760Z"
    },
    "papermill": {
     "duration": 4.09441,
     "end_time": "2021-01-10T00:38:31.521403",
     "exception": false,
     "start_time": "2021-01-10T00:38:27.426993",
     "status": "completed"
    },
    "tags": []
   },
   "outputs": [],
   "source": [
    "import sys\n",
    "sys.path.append('../input/pytorch-image-models/pytorch-image-models-master')\n",
    "\n",
    "import os\n",
    "import math\n",
    "import time\n",
    "import random\n",
    "import shutil\n",
    "from pathlib import Path\n",
    "from contextlib import contextmanager\n",
    "from collections import defaultdict, Counter\n",
    "\n",
    "import scipy as sp\n",
    "import numpy as np\n",
    "import pandas as pd\n",
    "\n",
    "from sklearn import preprocessing\n",
    "from sklearn.metrics import accuracy_score\n",
    "from sklearn.model_selection import StratifiedKFold\n",
    "\n",
    "from tqdm.auto import tqdm\n",
    "from functools import partial\n",
    "\n",
    "import cv2\n",
    "from PIL import Image\n",
    "\n",
    "import torch\n",
    "import torch.nn as nn\n",
    "import torch.nn.functional as F\n",
    "from torch.optim import Adam, SGD\n",
    "import torchvision.models as models\n",
    "from torch.nn.parameter import Parameter\n",
    "from torch.utils.data import DataLoader, Dataset\n",
    "from torch.optim.lr_scheduler import CosineAnnealingWarmRestarts, CosineAnnealingLR, ReduceLROnPlateau\n",
    "\n",
    "sys.path.append('../input/bi-tempered-loss-pytorch')\n",
    "from bi_tempered_loss import *\n",
    "\n",
    "# sys.path.append('../input/pytorch-optimizer')\n",
    "# import torch_optimizer as optim\n",
    "\n",
    "sys.path.append('../input/pytorch-sam')\n",
    "from sam import SAM\n",
    "\n",
    "from albumentations import (\n",
    "    HorizontalFlip, VerticalFlip, IAAPerspective, ShiftScaleRotate, CLAHE, RandomRotate90,\n",
    "    Transpose, ShiftScaleRotate, Blur, OpticalDistortion, GridDistortion, HueSaturationValue,\n",
    "    IAAAdditiveGaussianNoise, GaussNoise, MotionBlur, MedianBlur, IAAPiecewiseAffine, RandomResizedCrop,\n",
    "    IAASharpen, IAAEmboss, RandomBrightnessContrast, Flip, OneOf, Compose, Normalize, Cutout, CoarseDropout, ShiftScaleRotate, CenterCrop, Resize\n",
    ")\n",
    "from albumentations.pytorch import ToTensorV2\n",
    "from albumentations import ImageOnlyTransform\n",
    "\n",
    "import timm\n",
    "\n",
    "import warnings \n",
    "warnings.filterwarnings('ignore')\n",
    "\n",
    "if CFG.apex:\n",
    "    from apex import amp\n",
    "\n",
    "device = torch.device('cuda' if torch.cuda.is_available() else 'cpu')"
   ]
  },
  {
   "cell_type": "markdown",
   "metadata": {
    "papermill": {
     "duration": 0.029728,
     "end_time": "2021-01-10T00:38:31.579981",
     "exception": false,
     "start_time": "2021-01-10T00:38:31.550253",
     "status": "completed"
    },
    "tags": []
   },
   "source": [
    "## Utils"
   ]
  },
  {
   "cell_type": "code",
   "execution_count": 8,
   "metadata": {
    "execution": {
     "iopub.execute_input": "2021-01-10T00:38:31.649039Z",
     "iopub.status.busy": "2021-01-10T00:38:31.648337Z",
     "iopub.status.idle": "2021-01-10T00:38:31.654660Z",
     "shell.execute_reply": "2021-01-10T00:38:31.654004Z"
    },
    "papermill": {
     "duration": 0.046346,
     "end_time": "2021-01-10T00:38:31.654797",
     "exception": false,
     "start_time": "2021-01-10T00:38:31.608451",
     "status": "completed"
    },
    "tags": []
   },
   "outputs": [],
   "source": [
    "def get_score(y_true, y_pred):\n",
    "    return accuracy_score(y_true, y_pred)\n",
    "\n",
    "@contextmanager\n",
    "def timer(name):\n",
    "    t0 = time.time()\n",
    "    LOGGER.info(f'[{name}] start')\n",
    "    yield\n",
    "    LOGGER.info(f'[{name}] done in {time.time() - t0:.0f}')\n",
    "    \n",
    "def init_logger(log_file=OUTPUT_DIR+'train.log'):\n",
    "    from logging import getLogger, INFO, FileHandler,  Formatter,  StreamHandler\n",
    "    logger = getLogger(__name__)\n",
    "    logger.setLevel(INFO)\n",
    "    handler1 = StreamHandler()\n",
    "    handler1.setFormatter(Formatter(\"%(message)s\"))\n",
    "    handler2 = FileHandler(filename=log_file)\n",
    "    handler2.setFormatter(Formatter(\"%(message)s\"))\n",
    "    logger.addHandler(handler1)\n",
    "    logger.addHandler(handler2)\n",
    "    return logger\n",
    "\n",
    "LOGGER = init_logger()\n",
    "\n",
    "def seed_torch(seed=42):\n",
    "    random.seed(seed)\n",
    "    os.environ['PYTHONHASHSEED'] = str(seed)\n",
    "    np.random.seed(seed)\n",
    "    torch.manual_seed(seed)\n",
    "    torch.cuda.manual_seed(seed)\n",
    "    torch.backends.cudnn.benchmark = False\n",
    "    torch.backends.cudnn.deterministic = True\n",
    "\n",
    "seed_torch(seed=CFG.seed)"
   ]
  },
  {
   "cell_type": "markdown",
   "metadata": {
    "papermill": {
     "duration": 0.029456,
     "end_time": "2021-01-10T00:38:31.712624",
     "exception": false,
     "start_time": "2021-01-10T00:38:31.683168",
     "status": "completed"
    },
    "tags": []
   },
   "source": [
    "## CV split"
   ]
  },
  {
   "cell_type": "code",
   "execution_count": 9,
   "metadata": {
    "execution": {
     "iopub.execute_input": "2021-01-10T00:38:31.817145Z",
     "iopub.status.busy": "2021-01-10T00:38:31.816154Z",
     "iopub.status.idle": "2021-01-10T00:38:31.844929Z",
     "shell.execute_reply": "2021-01-10T00:38:31.845504Z"
    },
    "papermill": {
     "duration": 0.069798,
     "end_time": "2021-01-10T00:38:31.845891",
     "exception": false,
     "start_time": "2021-01-10T00:38:31.776093",
     "status": "completed"
    },
    "tags": []
   },
   "outputs": [
    {
     "name": "stdout",
     "output_type": "stream",
     "text": [
      "fold  label\n",
      "0     0         299\n",
      "      1         695\n",
      "      2         604\n",
      "      3        3092\n",
      "      4         578\n",
      "1     0         299\n",
      "      1         695\n",
      "      2         604\n",
      "      3        3092\n",
      "      4         578\n",
      "2     0         298\n",
      "      1         695\n",
      "      2         603\n",
      "      3        3093\n",
      "      4         578\n",
      "3     0         298\n",
      "      1         695\n",
      "      2         603\n",
      "      3        3093\n",
      "      4         578\n",
      "4     0         298\n",
      "      1         696\n",
      "      2         603\n",
      "      3        3092\n",
      "      4         578\n",
      "dtype: int64\n"
     ]
    }
   ],
   "source": [
    "folds = train.copy()\n",
    "Fold = StratifiedKFold(n_splits=CFG.n_fold, shuffle=True, random_state=CFG.seed)\n",
    "for n, (train_index, val_index) in enumerate(Fold.split(folds, folds[CFG.target_col])):\n",
    "    folds.loc[val_index, 'fold'] = int(n)\n",
    "folds['fold'] = folds['fold'].astype(int)\n",
    "print(folds.groupby(['fold', CFG.target_col]).size())"
   ]
  },
  {
   "cell_type": "markdown",
   "metadata": {
    "papermill": {
     "duration": 0.030294,
     "end_time": "2021-01-10T00:38:31.906812",
     "exception": false,
     "start_time": "2021-01-10T00:38:31.876518",
     "status": "completed"
    },
    "tags": []
   },
   "source": [
    "## Dataset"
   ]
  },
  {
   "cell_type": "code",
   "execution_count": 10,
   "metadata": {
    "execution": {
     "iopub.execute_input": "2021-01-10T00:38:31.985135Z",
     "iopub.status.busy": "2021-01-10T00:38:31.984291Z",
     "iopub.status.idle": "2021-01-10T00:38:31.987266Z",
     "shell.execute_reply": "2021-01-10T00:38:31.986791Z"
    },
    "papermill": {
     "duration": 0.05041,
     "end_time": "2021-01-10T00:38:31.987364",
     "exception": false,
     "start_time": "2021-01-10T00:38:31.936954",
     "status": "completed"
    },
    "tags": []
   },
   "outputs": [],
   "source": [
    "class TrainDataset(Dataset):\n",
    "    def __init__(self, df, transform=None):\n",
    "        self.df = df\n",
    "        self.file_names = df['image_id'].values\n",
    "        self.labels = df['label'].values\n",
    "#         self.labels = pd.get_dummies(df['label']).values  # One Hot Encoding\n",
    "        self.transform = transform\n",
    "    \n",
    "    def __len__(self):\n",
    "        return len(self.df)\n",
    "    \n",
    "    def __getitem__(self, idx):\n",
    "        file_name = self.file_names[idx]\n",
    "        file_path = f'{TRAIN_PATH}/{file_name}'\n",
    "        image = cv2.imread(file_path)\n",
    "        image = cv2.cvtColor(image, cv2.COLOR_BGR2RGB)\n",
    "        if self.transform:\n",
    "            augmented = self.transform(image=image)\n",
    "            image = augmented['image']\n",
    "        label = torch.tensor(self.labels[idx]).long()\n",
    "        return image, label\n",
    "    \n",
    "class TestDataset(Dataset):\n",
    "    def __init__(self, df, transform=None):\n",
    "        self.df = df\n",
    "        self.file_names = df['image_id'].values\n",
    "        self.transform = transform\n",
    "        \n",
    "    def __len__(self):\n",
    "        return len(self.df)\n",
    "    \n",
    "    def __getitem__(self, idx):\n",
    "        file_name = self.file_names[idx]\n",
    "        file_path = f'{TEST_PATH}/{file_name}'\n",
    "        image = cv2.imread(file_path)\n",
    "        image = cv2.cvtColor(image, cv2.COLOR_BGR2RGB)\n",
    "        if self.transform:\n",
    "            augmented = self.transform(image=image)\n",
    "            image = augmented['image']\n",
    "        return image"
   ]
  },
  {
   "cell_type": "code",
   "execution_count": 11,
   "metadata": {
    "execution": {
     "iopub.execute_input": "2021-01-10T00:38:32.067220Z",
     "iopub.status.busy": "2021-01-10T00:38:32.066405Z",
     "iopub.status.idle": "2021-01-10T00:38:32.068895Z",
     "shell.execute_reply": "2021-01-10T00:38:32.069469Z"
    },
    "papermill": {
     "duration": 0.052324,
     "end_time": "2021-01-10T00:38:32.069611",
     "exception": false,
     "start_time": "2021-01-10T00:38:32.017287",
     "status": "completed"
    },
    "tags": []
   },
   "outputs": [],
   "source": [
    "# train_dataset = TrainDataset(train, transform=None)\n",
    "\n",
    "# for i in range(1):\n",
    "#     image, label = train_dataset[i]\n",
    "#     plt.imshow(image)\n",
    "#     plt.title(f'label: {label}')\n",
    "#     plt.show()"
   ]
  },
  {
   "cell_type": "markdown",
   "metadata": {
    "papermill": {
     "duration": 0.028378,
     "end_time": "2021-01-10T00:38:32.129856",
     "exception": false,
     "start_time": "2021-01-10T00:38:32.101478",
     "status": "completed"
    },
    "tags": []
   },
   "source": [
    "## Transforms"
   ]
  },
  {
   "cell_type": "code",
   "execution_count": 12,
   "metadata": {
    "execution": {
     "iopub.execute_input": "2021-01-10T00:38:32.198174Z",
     "iopub.status.busy": "2021-01-10T00:38:32.197348Z",
     "iopub.status.idle": "2021-01-10T00:38:32.200018Z",
     "shell.execute_reply": "2021-01-10T00:38:32.200520Z"
    },
    "papermill": {
     "duration": 0.042189,
     "end_time": "2021-01-10T00:38:32.200650",
     "exception": false,
     "start_time": "2021-01-10T00:38:32.158461",
     "status": "completed"
    },
    "tags": []
   },
   "outputs": [],
   "source": [
    "def get_transforms(*, data):\n",
    "    \n",
    "    if data == 'train':\n",
    "        return Compose([\n",
    "            RandomResizedCrop(CFG.size, CFG.size), \n",
    "            Transpose(p=0.5), \n",
    "            HorizontalFlip(p=0.5), \n",
    "            VerticalFlip(p=0.5), \n",
    "            ShiftScaleRotate(p=0.5), \n",
    "            HueSaturationValue(hue_shift_limit=0.2, sat_shift_limit=0.2, val_shift_limit=0.2, p=0.5), \n",
    "            RandomBrightnessContrast(brightness_limit=(-0.1, 0.1), contrast_limit=(-0.1, 0.1), p=0.5), \n",
    "            Normalize(\n",
    "                mean=[0.485, 0.456, 0.406], \n",
    "                std=[0.229, 0.224, 0.225], \n",
    "            ), \n",
    "            ToTensorV2(),\n",
    "        ])\n",
    "    \n",
    "    elif data == 'valid':\n",
    "        return Compose([\n",
    "            Resize(CFG.size, CFG.size), \n",
    "            Normalize(\n",
    "                mean=[0.485, 0.456, 0.406], \n",
    "                std=[0.229, 0.224, 0.225], \n",
    "            ), \n",
    "            ToTensorV2(),\n",
    "        ])"
   ]
  },
  {
   "cell_type": "code",
   "execution_count": 13,
   "metadata": {
    "execution": {
     "iopub.execute_input": "2021-01-10T00:38:32.263444Z",
     "iopub.status.busy": "2021-01-10T00:38:32.262665Z",
     "iopub.status.idle": "2021-01-10T00:38:32.265180Z",
     "shell.execute_reply": "2021-01-10T00:38:32.265638Z"
    },
    "papermill": {
     "duration": 0.036186,
     "end_time": "2021-01-10T00:38:32.265755",
     "exception": false,
     "start_time": "2021-01-10T00:38:32.229569",
     "status": "completed"
    },
    "tags": []
   },
   "outputs": [],
   "source": [
    "# train_dataset = TrainDataset(train, transform=get_transforms(data='train'))\n",
    "\n",
    "# for i in range(1):\n",
    "#     image, label = train_dataset[i]\n",
    "#     plt.imshow(image[0])\n",
    "#     plt.title(f'label: {label}')\n",
    "#     plt.show()"
   ]
  },
  {
   "cell_type": "markdown",
   "metadata": {
    "papermill": {
     "duration": 0.028925,
     "end_time": "2021-01-10T00:38:32.323429",
     "exception": false,
     "start_time": "2021-01-10T00:38:32.294504",
     "status": "completed"
    },
    "tags": []
   },
   "source": [
    "## MODEL"
   ]
  },
  {
   "cell_type": "code",
   "execution_count": 14,
   "metadata": {
    "execution": {
     "iopub.execute_input": "2021-01-10T00:38:32.389658Z",
     "iopub.status.busy": "2021-01-10T00:38:32.388885Z",
     "iopub.status.idle": "2021-01-10T00:38:32.391442Z",
     "shell.execute_reply": "2021-01-10T00:38:32.391992Z"
    },
    "papermill": {
     "duration": 0.039286,
     "end_time": "2021-01-10T00:38:32.392109",
     "exception": false,
     "start_time": "2021-01-10T00:38:32.352823",
     "status": "completed"
    },
    "tags": []
   },
   "outputs": [],
   "source": [
    "class CustomEfficientNetB3(nn.Module):\n",
    "    def __init__(self, model_name='tf_efficientnet_b3', pretrained=False):\n",
    "        super().__init__()\n",
    "        self.model = timm.create_model(model_name, pretrained=pretrained)\n",
    "        n_features = self.model.classifier.in_features\n",
    "        self.model.classifier = nn.Linear(n_features, CFG.target_size)\n",
    "        \n",
    "    def forward(self, x):\n",
    "        x = self.model(x)\n",
    "        return x"
   ]
  },
  {
   "cell_type": "code",
   "execution_count": 15,
   "metadata": {
    "execution": {
     "iopub.execute_input": "2021-01-10T00:38:32.454445Z",
     "iopub.status.busy": "2021-01-10T00:38:32.453642Z",
     "iopub.status.idle": "2021-01-10T00:38:32.456222Z",
     "shell.execute_reply": "2021-01-10T00:38:32.456713Z"
    },
    "papermill": {
     "duration": 0.035516,
     "end_time": "2021-01-10T00:38:32.456834",
     "exception": false,
     "start_time": "2021-01-10T00:38:32.421318",
     "status": "completed"
    },
    "tags": []
   },
   "outputs": [],
   "source": [
    "# model = CustomEfficientNetB2ns(model_name=CFG.model_name, pretrained=False)\n",
    "# train_dataset = TrainDataset(train, transform=get_transforms(data='train'))\n",
    "# train_loader = DataLoader(train_dataset, batch_size=4, shuffle=True, \n",
    "#                           num_workers=4, pin_memory=True, drop_last=True)\n",
    "\n",
    "# for image, label in train_loader:\n",
    "#     print(image.size())\n",
    "#     output = model(image)\n",
    "#     print(output)\n",
    "#     break"
   ]
  },
  {
   "cell_type": "markdown",
   "metadata": {
    "papermill": {
     "duration": 0.028377,
     "end_time": "2021-01-10T00:38:32.514402",
     "exception": false,
     "start_time": "2021-01-10T00:38:32.486025",
     "status": "completed"
    },
    "tags": []
   },
   "source": [
    "## Loss Functions"
   ]
  },
  {
   "cell_type": "code",
   "execution_count": 16,
   "metadata": {
    "execution": {
     "iopub.execute_input": "2021-01-10T00:38:32.582213Z",
     "iopub.status.busy": "2021-01-10T00:38:32.579826Z",
     "iopub.status.idle": "2021-01-10T00:38:32.584249Z",
     "shell.execute_reply": "2021-01-10T00:38:32.584744Z"
    },
    "papermill": {
     "duration": 0.041861,
     "end_time": "2021-01-10T00:38:32.584863",
     "exception": false,
     "start_time": "2021-01-10T00:38:32.543002",
     "status": "completed"
    },
    "tags": []
   },
   "outputs": [],
   "source": [
    "# ====================================================\n",
    "# Label Smoothing\n",
    "# ====================================================\n",
    "class LabelSmoothingLoss(nn.Module): \n",
    "    def __init__(self, classes=5, smoothing=0.0, dim=-1): \n",
    "        super(LabelSmoothingLoss, self).__init__() \n",
    "        self.confidence = 1.0 - smoothing \n",
    "        self.smoothing = smoothing \n",
    "        self.cls = classes \n",
    "        self.dim = dim \n",
    "    def forward(self, pred, target): \n",
    "        pred = pred.log_softmax(dim=self.dim) \n",
    "        with torch.no_grad():\n",
    "            true_dist = torch.zeros_like(pred) \n",
    "            true_dist.fill_(self.smoothing / (self.cls - 1)) \n",
    "            true_dist.scatter_(1, target.data.unsqueeze(1), self.confidence) \n",
    "        return torch.mean(torch.sum(-true_dist * pred, dim=self.dim))"
   ]
  },
  {
   "cell_type": "code",
   "execution_count": 17,
   "metadata": {
    "execution": {
     "iopub.execute_input": "2021-01-10T00:38:32.651030Z",
     "iopub.status.busy": "2021-01-10T00:38:32.650274Z",
     "iopub.status.idle": "2021-01-10T00:38:32.653218Z",
     "shell.execute_reply": "2021-01-10T00:38:32.652649Z"
    },
    "papermill": {
     "duration": 0.03945,
     "end_time": "2021-01-10T00:38:32.653308",
     "exception": false,
     "start_time": "2021-01-10T00:38:32.613858",
     "status": "completed"
    },
    "tags": []
   },
   "outputs": [],
   "source": [
    "class FocalLoss(nn.Module):\n",
    "    def __init__(self, alpha=1, gamma=2, reduce=True):\n",
    "        super(FocalLoss, self).__init__()\n",
    "        self.alpha = alpha\n",
    "        self.gamma = gamma\n",
    "        self.reduce = reduce\n",
    "\n",
    "    def forward(self, inputs, targets):\n",
    "        BCE_loss = nn.CrossEntropyLoss()(inputs, targets)\n",
    "\n",
    "        pt = torch.exp(-BCE_loss)\n",
    "        F_loss = self.alpha * (1-pt)**self.gamma * BCE_loss\n",
    "\n",
    "        if self.reduce:\n",
    "            return torch.mean(F_loss)\n",
    "        else:\n",
    "            return F_loss"
   ]
  },
  {
   "cell_type": "code",
   "execution_count": 18,
   "metadata": {
    "execution": {
     "iopub.execute_input": "2021-01-10T00:38:32.723948Z",
     "iopub.status.busy": "2021-01-10T00:38:32.723086Z",
     "iopub.status.idle": "2021-01-10T00:38:32.726147Z",
     "shell.execute_reply": "2021-01-10T00:38:32.725652Z"
    },
    "papermill": {
     "duration": 0.043021,
     "end_time": "2021-01-10T00:38:32.726244",
     "exception": false,
     "start_time": "2021-01-10T00:38:32.683223",
     "status": "completed"
    },
    "tags": []
   },
   "outputs": [],
   "source": [
    "class FocalCosineLoss(nn.Module):\n",
    "    def __init__(self, alpha=1, gamma=2, xent=.1):\n",
    "        super(FocalCosineLoss, self).__init__()\n",
    "        self.alpha = alpha\n",
    "        self.gamma = gamma\n",
    "\n",
    "        self.xent = xent\n",
    "\n",
    "        self.y = torch.Tensor([1]).cuda()\n",
    "\n",
    "    def forward(self, input, target, reduction=\"mean\"):\n",
    "        cosine_loss = F.cosine_embedding_loss(input, F.one_hot(target, num_classes=input.size(-1)), self.y, reduction=reduction)\n",
    "\n",
    "        cent_loss = F.cross_entropy(F.normalize(input), target, reduce=False)\n",
    "        pt = torch.exp(-cent_loss)\n",
    "        focal_loss = self.alpha * (1-pt)**self.gamma * cent_loss\n",
    "\n",
    "        if reduction == \"mean\":\n",
    "            focal_loss = torch.mean(focal_loss)\n",
    "\n",
    "        return cosine_loss + self.xent * focal_loss"
   ]
  },
  {
   "cell_type": "code",
   "execution_count": 19,
   "metadata": {
    "execution": {
     "iopub.execute_input": "2021-01-10T00:38:32.795913Z",
     "iopub.status.busy": "2021-01-10T00:38:32.795100Z",
     "iopub.status.idle": "2021-01-10T00:38:32.797458Z",
     "shell.execute_reply": "2021-01-10T00:38:32.797921Z"
    },
    "papermill": {
     "duration": 0.041724,
     "end_time": "2021-01-10T00:38:32.798038",
     "exception": false,
     "start_time": "2021-01-10T00:38:32.756314",
     "status": "completed"
    },
    "tags": []
   },
   "outputs": [],
   "source": [
    "class SymmetricCrossEntropy(nn.Module):\n",
    "\n",
    "    def __init__(self, alpha=0.1, beta=1.0, num_classes=5):\n",
    "        super(SymmetricCrossEntropy, self).__init__()\n",
    "        self.alpha = alpha\n",
    "        self.beta = beta\n",
    "        self.num_classes = num_classes\n",
    "\n",
    "    def forward(self, logits, targets, reduction='mean'):\n",
    "        onehot_targets = torch.eye(self.num_classes)[targets].cuda()\n",
    "        ce_loss = F.cross_entropy(logits, targets, reduction=reduction)\n",
    "        rce_loss = (-onehot_targets*logits.softmax(1).clamp(1e-7, 1.0).log()).sum(1)\n",
    "        if reduction == 'mean':\n",
    "            rce_loss = rce_loss.mean()\n",
    "        elif reduction == 'sum':\n",
    "            rce_loss = rce_loss.sum()\n",
    "        return self.alpha * ce_loss + self.beta * rce_loss"
   ]
  },
  {
   "cell_type": "code",
   "execution_count": 20,
   "metadata": {
    "execution": {
     "iopub.execute_input": "2021-01-10T00:38:32.859839Z",
     "iopub.status.busy": "2021-01-10T00:38:32.858889Z",
     "iopub.status.idle": "2021-01-10T00:38:32.903525Z",
     "shell.execute_reply": "2021-01-10T00:38:32.903065Z"
    },
    "papermill": {
     "duration": 0.076763,
     "end_time": "2021-01-10T00:38:32.903642",
     "exception": false,
     "start_time": "2021-01-10T00:38:32.826879",
     "status": "completed"
    },
    "tags": []
   },
   "outputs": [],
   "source": [
    "def log_t(u, t):\n",
    "    \"\"\"Compute log_t for `u'.\"\"\"\n",
    "    if t==1.0:\n",
    "        return u.log()\n",
    "    else:\n",
    "        return (u.pow(1.0 - t) - 1.0) / (1.0 - t)\n",
    "\n",
    "def exp_t(u, t):\n",
    "    \"\"\"Compute exp_t for `u'.\"\"\"\n",
    "    if t==1:\n",
    "        return u.exp()\n",
    "    else:\n",
    "        return (1.0 + (1.0-t)*u).relu().pow(1.0 / (1.0 - t))\n",
    "\n",
    "def compute_normalization_fixed_point(activations, t, num_iters):\n",
    "\n",
    "    \"\"\"Returns the normalization value for each example (t > 1.0).\n",
    "    Args:\n",
    "      activations: A multi-dimensional tensor with last dimension `num_classes`.\n",
    "      t: Temperature 2 (> 1.0 for tail heaviness).\n",
    "      num_iters: Number of iterations to run the method.\n",
    "    Return: A tensor of same shape as activation with the last dimension being 1.\n",
    "    \"\"\"\n",
    "    mu, _ = torch.max(activations, -1, keepdim=True)\n",
    "    normalized_activations_step_0 = activations - mu\n",
    "\n",
    "    normalized_activations = normalized_activations_step_0\n",
    "\n",
    "    for _ in range(num_iters):\n",
    "        logt_partition = torch.sum(\n",
    "                exp_t(normalized_activations, t), -1, keepdim=True)\n",
    "        normalized_activations = normalized_activations_step_0 * \\\n",
    "                logt_partition.pow(1.0-t)\n",
    "\n",
    "    logt_partition = torch.sum(\n",
    "            exp_t(normalized_activations, t), -1, keepdim=True)\n",
    "    normalization_constants = - log_t(1.0 / logt_partition, t) + mu\n",
    "\n",
    "    return normalization_constants\n",
    "\n",
    "def compute_normalization_binary_search(activations, t, num_iters):\n",
    "\n",
    "    \"\"\"Returns the normalization value for each example (t < 1.0).\n",
    "    Args:\n",
    "      activations: A multi-dimensional tensor with last dimension `num_classes`.\n",
    "      t: Temperature 2 (< 1.0 for finite support).\n",
    "      num_iters: Number of iterations to run the method.\n",
    "    Return: A tensor of same rank as activation with the last dimension being 1.\n",
    "    \"\"\"\n",
    "\n",
    "    mu, _ = torch.max(activations, -1, keepdim=True)\n",
    "    normalized_activations = activations - mu\n",
    "\n",
    "    effective_dim = \\\n",
    "        torch.sum(\n",
    "                (normalized_activations > -1.0 / (1.0-t)).to(torch.int32),\n",
    "            dim=-1, keepdim=True).to(activations.dtype)\n",
    "\n",
    "    shape_partition = activations.shape[:-1] + (1,)\n",
    "    lower = torch.zeros(shape_partition, dtype=activations.dtype, device=activations.device)\n",
    "    upper = -log_t(1.0/effective_dim, t) * torch.ones_like(lower)\n",
    "\n",
    "    for _ in range(num_iters):\n",
    "        logt_partition = (upper + lower)/2.0\n",
    "        sum_probs = torch.sum(\n",
    "                exp_t(normalized_activations - logt_partition, t),\n",
    "                dim=-1, keepdim=True)\n",
    "        update = (sum_probs < 1.0).to(activations.dtype)\n",
    "        lower = torch.reshape(\n",
    "                lower * update + (1.0-update) * logt_partition,\n",
    "                shape_partition)\n",
    "        upper = torch.reshape(\n",
    "                upper * (1.0 - update) + update * logt_partition,\n",
    "                shape_partition)\n",
    "\n",
    "    logt_partition = (upper + lower)/2.0\n",
    "    return logt_partition + mu\n",
    "\n",
    "class ComputeNormalization(torch.autograd.Function):\n",
    "    \"\"\"\n",
    "    Class implementing custom backward pass for compute_normalization. See compute_normalization.\n",
    "    \"\"\"\n",
    "    @staticmethod\n",
    "    def forward(ctx, activations, t, num_iters):\n",
    "        if t < 1.0:\n",
    "            normalization_constants = compute_normalization_binary_search(activations, t, num_iters)\n",
    "        else:\n",
    "            normalization_constants = compute_normalization_fixed_point(activations, t, num_iters)\n",
    "\n",
    "        ctx.save_for_backward(activations, normalization_constants)\n",
    "        ctx.t=t\n",
    "        return normalization_constants\n",
    "\n",
    "    @staticmethod\n",
    "    def backward(ctx, grad_output):\n",
    "        activations, normalization_constants = ctx.saved_tensors\n",
    "        t = ctx.t\n",
    "        normalized_activations = activations - normalization_constants \n",
    "        probabilities = exp_t(normalized_activations, t)\n",
    "        escorts = probabilities.pow(t)\n",
    "        escorts = escorts / escorts.sum(dim=-1, keepdim=True)\n",
    "        grad_input = escorts * grad_output\n",
    "        \n",
    "        return grad_input, None, None\n",
    "\n",
    "def compute_normalization(activations, t, num_iters=5):\n",
    "    \"\"\"Returns the normalization value for each example. \n",
    "    Backward pass is implemented.\n",
    "    Args:\n",
    "      activations: A multi-dimensional tensor with last dimension `num_classes`.\n",
    "      t: Temperature 2 (> 1.0 for tail heaviness, < 1.0 for finite support).\n",
    "      num_iters: Number of iterations to run the method.\n",
    "    Return: A tensor of same rank as activation with the last dimension being 1.\n",
    "    \"\"\"\n",
    "    return ComputeNormalization.apply(activations, t, num_iters)\n",
    "\n",
    "def tempered_sigmoid(activations, t, num_iters = 5):\n",
    "    \"\"\"Tempered sigmoid function.\n",
    "    Args:\n",
    "      activations: Activations for the positive class for binary classification.\n",
    "      t: Temperature tensor > 0.0.\n",
    "      num_iters: Number of iterations to run the method.\n",
    "    Returns:\n",
    "      A probabilities tensor.\n",
    "    \"\"\"\n",
    "    internal_activations = torch.stack([activations,\n",
    "        torch.zeros_like(activations)],\n",
    "        dim=-1)\n",
    "    internal_probabilities = tempered_softmax(internal_activations, t, num_iters)\n",
    "    return internal_probabilities[..., 0]\n",
    "\n",
    "\n",
    "def tempered_softmax(activations, t, num_iters=5):\n",
    "    \"\"\"Tempered softmax function.\n",
    "    Args:\n",
    "      activations: A multi-dimensional tensor with last dimension `num_classes`.\n",
    "      t: Temperature > 1.0.\n",
    "      num_iters: Number of iterations to run the method.\n",
    "    Returns:\n",
    "      A probabilities tensor.\n",
    "    \"\"\"\n",
    "    if t == 1.0:\n",
    "        return activations.softmax(dim=-1)\n",
    "\n",
    "    normalization_constants = compute_normalization(activations, t, num_iters)\n",
    "    return exp_t(activations - normalization_constants, t)\n",
    "\n",
    "def bi_tempered_binary_logistic_loss(activations,\n",
    "        labels,\n",
    "        t1,\n",
    "        t2,\n",
    "        label_smoothing = 0.0,\n",
    "        num_iters=5,\n",
    "        reduction='mean'):\n",
    "\n",
    "    \"\"\"Bi-Tempered binary logistic loss.\n",
    "    Args:\n",
    "      activations: A tensor containing activations for class 1.\n",
    "      labels: A tensor with shape as activations, containing probabilities for class 1\n",
    "      t1: Temperature 1 (< 1.0 for boundedness).\n",
    "      t2: Temperature 2 (> 1.0 for tail heaviness, < 1.0 for finite support).\n",
    "      label_smoothing: Label smoothing\n",
    "      num_iters: Number of iterations to run the method.\n",
    "    Returns:\n",
    "      A loss tensor.\n",
    "    \"\"\"\n",
    "    internal_activations = torch.stack([activations,\n",
    "        torch.zeros_like(activations)],\n",
    "        dim=-1)\n",
    "    internal_labels = torch.stack([labels.to(activations.dtype),\n",
    "        1.0 - labels.to(activations.dtype)],\n",
    "        dim=-1)\n",
    "    return bi_tempered_logistic_loss(internal_activations, \n",
    "            internal_labels,\n",
    "            t1,\n",
    "            t2,\n",
    "            label_smoothing = label_smoothing,\n",
    "            num_iters = num_iters,\n",
    "            reduction = reduction)\n",
    "\n",
    "def bi_tempered_logistic_loss(activations,\n",
    "        labels,\n",
    "        t1,\n",
    "        t2,\n",
    "        label_smoothing=0.0,\n",
    "        num_iters=5,\n",
    "        reduction = 'mean'):\n",
    "\n",
    "    \"\"\"Bi-Tempered Logistic Loss.\n",
    "    Args:\n",
    "      activations: A multi-dimensional tensor with last dimension `num_classes`.\n",
    "      labels: A tensor with shape and dtype as activations (onehot), \n",
    "        or a long tensor of one dimension less than activations (pytorch standard)\n",
    "      t1: Temperature 1 (< 1.0 for boundedness).\n",
    "      t2: Temperature 2 (> 1.0 for tail heaviness, < 1.0 for finite support).\n",
    "      label_smoothing: Label smoothing parameter between [0, 1). Default 0.0.\n",
    "      num_iters: Number of iterations to run the method. Default 5.\n",
    "      reduction: ``'none'`` | ``'mean'`` | ``'sum'``. Default ``'mean'``.\n",
    "        ``'none'``: No reduction is applied, return shape is shape of\n",
    "        activations without the last dimension.\n",
    "        ``'mean'``: Loss is averaged over minibatch. Return shape (1,)\n",
    "        ``'sum'``: Loss is summed over minibatch. Return shape (1,)\n",
    "    Returns:\n",
    "      A loss tensor.\n",
    "    \"\"\"\n",
    "\n",
    "    if len(labels.shape)<len(activations.shape): #not one-hot\n",
    "        labels_onehot = torch.zeros_like(activations)\n",
    "        labels_onehot.scatter_(1, labels[..., None], 1)\n",
    "    else:\n",
    "        labels_onehot = labels\n",
    "\n",
    "    if label_smoothing > 0:\n",
    "        num_classes = labels_onehot.shape[-1]\n",
    "        labels_onehot = ( 1 - label_smoothing * num_classes / (num_classes - 1) ) \\\n",
    "                * labels_onehot + \\\n",
    "                label_smoothing / (num_classes - 1)\n",
    "\n",
    "    probabilities = tempered_softmax(activations, t2, num_iters)\n",
    "\n",
    "    loss_values = labels_onehot * log_t(labels_onehot + 1e-10, t1) \\\n",
    "            - labels_onehot * log_t(probabilities, t1) \\\n",
    "            - labels_onehot.pow(2.0 - t1) / (2.0 - t1) \\\n",
    "            + probabilities.pow(2.0 - t1) / (2.0 - t1)\n",
    "    loss_values = loss_values.sum(dim = -1) #sum over classes\n",
    "\n",
    "    if reduction == 'none':\n",
    "        return loss_values\n",
    "    if reduction == 'sum':\n",
    "        return loss_values.sum()\n",
    "    if reduction == 'mean':\n",
    "        return loss_values.mean()"
   ]
  },
  {
   "cell_type": "code",
   "execution_count": 21,
   "metadata": {
    "execution": {
     "iopub.execute_input": "2021-01-10T00:38:32.970320Z",
     "iopub.status.busy": "2021-01-10T00:38:32.969490Z",
     "iopub.status.idle": "2021-01-10T00:38:32.972488Z",
     "shell.execute_reply": "2021-01-10T00:38:32.971936Z"
    },
    "papermill": {
     "duration": 0.039629,
     "end_time": "2021-01-10T00:38:32.972595",
     "exception": false,
     "start_time": "2021-01-10T00:38:32.932966",
     "status": "completed"
    },
    "tags": []
   },
   "outputs": [],
   "source": [
    "class BiTemperedLogisticLoss(nn.Module): \n",
    "    def __init__(self, t1, t2, smoothing=0.0): \n",
    "        super(BiTemperedLogisticLoss, self).__init__() \n",
    "        self.t1 = t1\n",
    "        self.t2 = t2\n",
    "        self.smoothing = smoothing\n",
    "    def forward(self, logit_label, truth_label):\n",
    "        loss_label = bi_tempered_logistic_loss(\n",
    "            logit_label, truth_label,\n",
    "            t1=self.t1, t2=self.t2,\n",
    "            label_smoothing=self.smoothing,\n",
    "            reduction='none'\n",
    "        )\n",
    "        \n",
    "        loss_label = loss_label.mean()\n",
    "        return loss_label"
   ]
  },
  {
   "cell_type": "code",
   "execution_count": 22,
   "metadata": {
    "execution": {
     "iopub.execute_input": "2021-01-10T00:38:33.071221Z",
     "iopub.status.busy": "2021-01-10T00:38:33.049013Z",
     "iopub.status.idle": "2021-01-10T00:38:33.073790Z",
     "shell.execute_reply": "2021-01-10T00:38:33.073281Z"
    },
    "papermill": {
     "duration": 0.072321,
     "end_time": "2021-01-10T00:38:33.073892",
     "exception": false,
     "start_time": "2021-01-10T00:38:33.001571",
     "status": "completed"
    },
    "tags": []
   },
   "outputs": [],
   "source": [
    "class AverageMeter(object):\n",
    "    \"\"\"Computes and stores the average and current value\"\"\"\n",
    "    def __init__(self):\n",
    "        self.reset()\n",
    "        \n",
    "    def reset(self):\n",
    "        self.val = 0\n",
    "        self.avg = 0\n",
    "        self.sum = 0\n",
    "        self.count = 0\n",
    "        \n",
    "    def update(self, val, n=1):\n",
    "        self.val = val\n",
    "        self.sum += val * n\n",
    "        self.count += n\n",
    "        self.avg = self.sum / self.count\n",
    "        \n",
    "def asMinutes(s):\n",
    "    \"\"\"秒を分に変換する関数\"\"\"\n",
    "    m = math.floor(s / 60)\n",
    "    s -= m * 60\n",
    "    return '%dm %ds' % (m, s)\n",
    "\n",
    "def timeSince(since, percent):\n",
    "    \"\"\"経過時間の測定と終了時間の予測を行う関数\n",
    "    Parameters\n",
    "    ----------\n",
    "    since : float\n",
    "        実験を始めた時刻\n",
    "    percent : float\n",
    "        実験が進んだ割合\n",
    "        \n",
    "    Returns\n",
    "    -------\n",
    "    s : 経過時間\n",
    "    re : 終了までの時間の予測\n",
    "    \"\"\"\n",
    "    now = time.time()\n",
    "    s = now - since  # 経過時間の測定\n",
    "    es = s / percent  # 終了時間の予測\n",
    "    re = es - s  # 残り時間の予想\n",
    "    return '%s (remain %s)' % (asMinutes(s), asMinutes(re))\n",
    "\n",
    "def train_fn(train_loader, model, loss_train, loss_metric, optimizer, epoch, shechduler, device):\n",
    "    batch_time = AverageMeter()\n",
    "    data_time = AverageMeter()\n",
    "    losses = AverageMeter()\n",
    "    scores = AverageMeter()\n",
    "    # switch to train mode\n",
    "    model.train()\n",
    "    start = end = time.time()\n",
    "    global_step = 0\n",
    "    for step, (images, labels) in enumerate(train_loader):\n",
    "        # measure data loading time\n",
    "        data_time.update(time.time() - end)\n",
    "        images = images.to(device)\n",
    "        labels = labels.to(device)\n",
    "        batch_size = labels.size(0)\n",
    "        y_preds = model(images)\n",
    "        metric = loss_metric(y_preds, labels)\n",
    "        loss = loss_train(y_preds, labels)\n",
    "        # record loss\n",
    "        losses.update(metric.item(), batch_size)\n",
    "        if CFG.gradient_accumulation_steps > 1:\n",
    "            loss = loss / CFG.gradient_accumulation_steps\n",
    "        if CFG.apex:\n",
    "            with amp.scale_loss(loss, optimizer) as scaled_loss:\n",
    "                scaled_loss.backward()\n",
    "        else: \n",
    "            loss.backward()\n",
    "        grad_norm = torch.nn.utils.clip_grad_norm_(model.parameters(), CFG.max_grad_norm)\n",
    "        if (step + 1) % CFG.gradient_accumulation_steps == 0:\n",
    "            optimizer.first_step(zero_grad=True)\n",
    "#             optimizer.zero_grad()\n",
    "            global_step += 1\n",
    "        # measure elapsed time\n",
    "        loss_train(model(images), labels).backward()\n",
    "#         loss = torch.mean(loss)\n",
    "#         loss.backward()\n",
    "        optimizer.second_step(zero_grad=True)\n",
    "        \n",
    "        batch_time.update(time.time() - end)\n",
    "        end = time.time()\n",
    "        if step % CFG.print_freq == 0 or step == (len(train_loader)-1):\n",
    "            print('Epoch: [{0}][{1}/{2}]'\n",
    "                  'Data {data_time.val:.3f} ({data_time.avg:.3f})'\n",
    "                  'Elapsed {remain:s}' \n",
    "                  'Loss: {loss.val:.4f}({loss.avg:.4f})' \n",
    "                  'Grad: {grad_norm:.4f}  '\n",
    "                  .format(epoch+1, step, len(train_loader), batch_time=batch_time, \n",
    "                          data_time=data_time, loss=losses, \n",
    "                          remain=timeSince(start, float(step+1)/len(train_loader)), \n",
    "                          grad_norm=grad_norm))\n",
    "    return losses.avg\n",
    "\n",
    "def valid_fn(valid_loader, model, loss_metric, device):\n",
    "    batch_time = AverageMeter()\n",
    "    data_time = AverageMeter()\n",
    "    losses = AverageMeter()\n",
    "    scores = AverageMeter()\n",
    "    # switch to evaluation mode\n",
    "    model.eval()\n",
    "    preds = []\n",
    "    start = end = time.time()\n",
    "    for step, (images, labels) in enumerate(valid_loader):\n",
    "        # measure data loading time\n",
    "        data_time.update(time.time() - end)\n",
    "        images = images.to(device)\n",
    "        labels = labels.to(device)\n",
    "        batch_size = labels.size(0)\n",
    "        # compute loss\n",
    "        with torch.no_grad():\n",
    "            y_preds = model(images)\n",
    "        loss = loss_metric(y_preds, labels)\n",
    "        losses.update(loss.item(), batch_size)\n",
    "        # record accuracy\n",
    "        preds.append(y_preds.softmax(1).to('cpu').numpy())\n",
    "        if CFG.gradient_accumulation_steps > 1:\n",
    "            loss = loss / CFG.gradient_accumulation_steps\n",
    "        # measure elapsed time\n",
    "        batch_time.update(time.time() - end)\n",
    "        end = time.time()\n",
    "        if step % CFG.print_freq == 0 or step == (len(valid_loader)-1):\n",
    "            print('EVAL: [{0}/{1}] '\n",
    "                  'Data {data_time.val:.3f} ({data_time.avg:.3f}) '\n",
    "                  'Elapsed {remain:s} '\n",
    "                  'Loss: {loss.val:.4f}({loss.avg:.4f}) '\n",
    "                  .format(\n",
    "                   step, len(valid_loader), batch_time=batch_time,\n",
    "                   data_time=data_time, loss=losses,\n",
    "                   remain=timeSince(start, float(step+1)/len(valid_loader)),\n",
    "                   ))\n",
    "            \n",
    "    predictions = np.concatenate(preds)\n",
    "    return losses.avg, predictions\n",
    "\n",
    "def inference(model, states, test_loader, device):\n",
    "    model.to(device)\n",
    "    tk0 = tqdm(enumerate(test_loader), total=len(test_loader))\n",
    "    probs = []\n",
    "    for i, (images) in tk0:\n",
    "        images = images.to(device)\n",
    "        avgpreds = []\n",
    "        for state in states:\n",
    "            model.load_state_dict(state['model'])\n",
    "            model.eval()\n",
    "            with torch.no_grad():\n",
    "                y_preds = model(images)\n",
    "            avg_preds.append(y_preds.softmax(1).to('cpu').numpy())\n",
    "        avg_preds = np.mean(avg_preds, axis=0)\n",
    "        probs.append(avg_preds)\n",
    "    probs = np.concatenate(probs)\n",
    "    return probs"
   ]
  },
  {
   "cell_type": "markdown",
   "metadata": {
    "papermill": {
     "duration": 0.028974,
     "end_time": "2021-01-10T00:38:33.132873",
     "exception": false,
     "start_time": "2021-01-10T00:38:33.103899",
     "status": "completed"
    },
    "tags": []
   },
   "source": [
    "## Train loop"
   ]
  },
  {
   "cell_type": "code",
   "execution_count": 23,
   "metadata": {
    "execution": {
     "iopub.execute_input": "2021-01-10T00:38:33.230925Z",
     "iopub.status.busy": "2021-01-10T00:38:33.206655Z",
     "iopub.status.idle": "2021-01-10T00:38:33.233673Z",
     "shell.execute_reply": "2021-01-10T00:38:33.233099Z"
    },
    "papermill": {
     "duration": 0.070499,
     "end_time": "2021-01-10T00:38:33.233782",
     "exception": false,
     "start_time": "2021-01-10T00:38:33.163283",
     "status": "completed"
    },
    "tags": []
   },
   "outputs": [],
   "source": [
    "# ======================================================\n",
    "# Train loop\n",
    "# ======================================================\n",
    "\n",
    "def train_loop(folds, fold):\n",
    "    \n",
    "    seed_torch(seed=CFG.seed)    \n",
    "    \n",
    "    LOGGER.info(f'========== fold: {fold} training ============')\n",
    "    \n",
    "    # ======================================================\n",
    "    # loader\n",
    "    # ======================================================\n",
    "    trn_idx = folds[folds['fold'] != fold].index\n",
    "    val_idx = folds[folds['fold'] == fold].index\n",
    "    \n",
    "    train_folds = folds.loc[trn_idx].reset_index(drop=True)\n",
    "    valid_folds = folds.loc[val_idx].reset_index(drop=True)\n",
    "    \n",
    "    train_dataset = TrainDataset(train_folds, \n",
    "                                 transform=get_transforms(data='train'))\n",
    "    valid_dataset = TrainDataset(valid_folds, \n",
    "                                 transform=get_transforms(data='valid'))\n",
    "    \n",
    "    train_loader = DataLoader(train_dataset, \n",
    "                              batch_size=CFG.batch_size, \n",
    "                              shuffle=True, \n",
    "                              num_workers=CFG.num_workers, \n",
    "                              pin_memory=True, \n",
    "                              drop_last=False)\n",
    "    valid_loader = DataLoader(valid_dataset, \n",
    "                              batch_size=CFG.batch_size, \n",
    "                              shuffle=False, \n",
    "                              num_workers=CFG.num_workers, \n",
    "                              pin_memory=True, \n",
    "                              drop_last=False)\n",
    "    \n",
    "    # ===============================================\n",
    "    # scheduler\n",
    "    # ===============================================\n",
    "    def get_scheduler(optimizer):\n",
    "        if CFG.scheduler=='ReduceLROnPlateau':\n",
    "            scheduler = ReduceLROnPlateau(optimizer, mode='min', factor=CFG.factor, patience=CFG.patience, verbose=True, eps=CFG.eps)\n",
    "        elif CFG.scheduler=='CosineAnnealingLR':\n",
    "            scheduler = CosineAnnealingLR(optimizer, T_max=CFG.T_max, eta_min=CFG.min_lr, last_epoch=-1)\n",
    "        elif CFG.scheduler=='CosineAnnealingWarmRestarts':\n",
    "            scheduler = CosineAnnealingWarmRestarts(optimizer, T_0=CFG.T_0, T_mult=1, eta_min=CFG.min_lr, last_epoch=-1)\n",
    "        return scheduler\n",
    "    \n",
    "    # ===============================================\n",
    "    # model & optimizer\n",
    "    # ===============================================\n",
    "    model = CustomEfficientNetB3(CFG.model_name, pretrained=True)\n",
    "    \n",
    "    # 最初の3epochはclassifier層以外全て凍結する。\n",
    "    for name, param in model.model.named_parameters():\n",
    "        if 'classifier' not in name:\n",
    "            param.requires_grad=False\n",
    "    \n",
    "    model.to(device)\n",
    "    \n",
    "    base_optimizer = Adam\n",
    "    optimizer = SAM(model.parameters(), base_optimizer, lr=CFG.lr_1, weight_decay=CFG.weight_decay, amsgrad=False)\n",
    "    \n",
    "    scheduler = get_scheduler(optimizer)\n",
    "    \n",
    "    # ===============================================\n",
    "    # apex \n",
    "    # ===============================================\n",
    "    if CFG.apex:\n",
    "        model.optimizer = amp.initialize(model, optimizer, opt_level='O1', verbosity=0)\n",
    "        \n",
    "    # ===============================================\n",
    "    # loop\n",
    "    # ===============================================\n",
    "    def get_loss_train():\n",
    "        if CFG.loss_train == 'CrossEntropyLoss':\n",
    "            loss_train = nn.CrossEntropyLoss()\n",
    "        elif CFG.loss_train == 'LabelSmoothing':\n",
    "            loss_train = LabelSmoothingLoss(classes=CFG.target_size, smoothing=CFG.smooth)\n",
    "        elif CFG.loss_train == 'FocalLoss':\n",
    "            loss_train = FocalLoss().to(device)\n",
    "        elif CFG.loss_train == 'FocalCosineLoss':\n",
    "            loss_train = FocalCosineLoss()\n",
    "        elif CFG.loss_train == 'SymmetricCrossEntropyLoss':\n",
    "            loss_train = SymmetricCrossEntropy().to(device)\n",
    "        elif CFG.loss_train == 'BiTemperedLoss':\n",
    "            loss_train = BiTemperedLogisticLoss(t1=CFG.t1, t2=CFG.t2, smoothing=CFG.smooth)\n",
    "        return loss_train\n",
    "    \n",
    "    loss_train = get_loss_train()\n",
    "    LOGGER.info(f'loss_train: {loss_train}')\n",
    "    loss_metric = nn.CrossEntropyLoss()\n",
    "    \n",
    "    best_score = 0.\n",
    "    best_loss = np.inf\n",
    "    \n",
    "    for epoch in range(CFG.epochs):\n",
    "        \n",
    "        start_time = time.time()\n",
    "        \n",
    "        if epoch == 1:\n",
    "            \n",
    "            # 2epoch目に重みを全て解凍する\n",
    "            for param in model.model.parameters():\n",
    "                param.requires_grad = True\n",
    "                \n",
    "            # 学習率を4e-3から4e-4に落とす\n",
    "            base_optimizer = Adam\n",
    "            optimizer = SAM(model.parameters(), base_optimizer, lr=CFG.lr_2, weight_decay=CFG.weight_decay, amsgrad=False)\n",
    "            scheduler = get_scheduler(optimizer)\n",
    "\n",
    "            LOGGER.info('requires_grad of all parameters are unlocked')\n",
    "            \n",
    "        \n",
    "        # train\n",
    "        avg_loss = train_fn(train_loader, model, loss_train, loss_metric, optimizer, epoch, scheduler, device)\n",
    "        \n",
    "        # eval\n",
    "        avg_val_loss, preds = valid_fn(valid_loader, model, loss_metric, device)\n",
    "        valid_labels = valid_folds[CFG.target_col].values\n",
    "        \n",
    "        if isinstance(scheduler, ReduceLROnPlateau):\n",
    "            scheduler.step(avg_val_loss)\n",
    "        elif isinstance(scheduler, CosineAnnealingLR):\n",
    "            scheduler.step()\n",
    "        elif isinstance(scheduler, CosineAnnealingWarmRestarts):\n",
    "            scheduler.step()\n",
    "        \n",
    "        # scoring\n",
    "        score = get_score(valid_labels, preds.argmax(1))\n",
    "        \n",
    "        elapsed = time.time() - start_time\n",
    "        \n",
    "        LOGGER.info(f'Epoch {epoch+1} - avg_train_loss: {avg_loss:.4f} avg_val_loss: {avg_val_loss:.4f} time: {elapsed:.0f}s')\n",
    "        LOGGER.info(f'Epoch {epoch+1} - Accuracy: {score}')\n",
    "        \n",
    "        if score > best_score:\n",
    "            best_score = score\n",
    "            LOGGER.info(f'Epoch {epoch+1} - Save Best Score: {best_score:.4f} Model')\n",
    "            torch.save({'model': model.state_dict(), \n",
    "                        'preds': preds}, \n",
    "                        OUTPUT_DIR+f'{CFG.model_name}_fold{fold}_best.pth')\n",
    "            \n",
    "        # inference用に全て保存しておく        \n",
    "        torch.save({'model': model.state_dict()}, OUTPUT_DIR+f'{CFG.model_name}_fold{fold}_epoch{epoch+1}.pth')\n",
    "    \n",
    "    check_point = torch.load(OUTPUT_DIR+f'{CFG.model_name}_fold{fold}_best.pth')\n",
    "    valid_folds[[str(c) for c in range(5)]] = check_point['preds']\n",
    "    valid_folds['preds'] = check_point['preds'].argmax(1)\n",
    "    \n",
    "    return valid_folds"
   ]
  },
  {
   "cell_type": "code",
   "execution_count": 24,
   "metadata": {
    "execution": {
     "iopub.execute_input": "2021-01-10T00:38:33.297213Z",
     "iopub.status.busy": "2021-01-10T00:38:33.296310Z",
     "iopub.status.idle": "2021-01-10T00:38:33.321663Z",
     "shell.execute_reply": "2021-01-10T00:38:33.320322Z"
    },
    "papermill": {
     "duration": 0.057833,
     "end_time": "2021-01-10T00:38:33.321797",
     "exception": false,
     "start_time": "2021-01-10T00:38:33.263964",
     "status": "completed"
    },
    "tags": []
   },
   "outputs": [],
   "source": [
    "# ====================================================\n",
    "# main\n",
    "# ====================================================\n",
    "def main():\n",
    "    \n",
    "    \"\"\"\n",
    "    Prepare: 1.train 2.test 3.submission 4.folds\n",
    "    \"\"\"\n",
    "    \n",
    "    def get_result(result_df):\n",
    "        preds = result_df['preds'].values\n",
    "        labels = result_df[CFG.target_col].values\n",
    "        score = get_score(labels, preds)\n",
    "        LOGGER.info(f'Score: {score:<.5f}')\n",
    "        \n",
    "    if CFG.train:\n",
    "        # train\n",
    "        oof_df = pd.DataFrame()\n",
    "        for fold in range(CFG.n_fold):\n",
    "            if fold in CFG.trn_fold:\n",
    "                _oof_df = train_loop(folds, fold)\n",
    "                oof_df = pd.concat([oof_df, _oof_df])\n",
    "                LOGGER.info(f'=============== fold: {fold} result ================')\n",
    "                get_result(_oof_df)\n",
    "                \n",
    "                # 1foldのみを用いる\n",
    "                break\n",
    "                \n",
    "        # CV result\n",
    "        LOGGER.info(f'============ CV ============')\n",
    "        get_result(oof_df)\n",
    "        # save result\n",
    "        oof_df.to_csv(OUTPUT_DIR+'oof_df.csv', index=False)\n",
    "        \n",
    "    if CFG.inference:\n",
    "        # inference\n",
    "        model = CustomEfficientNetB3(CFG.model_name, pretrained=False)\n",
    "        states = [torch.load(OUTPUT_DIR+f'{CFG.model_name}_fold{fold}_best.pth') for fold in CFG.trn_fold]\n",
    "        test_dataset = TestDataset(test, batch_size=CFG.batch_size, shuffle=False, pin_memory=True)\n",
    "        predictions = inference(model, states, test_loader, device)\n",
    "        # submission\n",
    "        test['label'] = predictions.argmax(1)\n",
    "        test[['image_id', 'label']].to_csv(OUTPUT_DIR+'submission.csv', index=False)"
   ]
  },
  {
   "cell_type": "code",
   "execution_count": 25,
   "metadata": {
    "execution": {
     "iopub.execute_input": "2021-01-10T00:38:33.434556Z",
     "iopub.status.busy": "2021-01-10T00:38:33.433638Z",
     "iopub.status.idle": "2021-01-10T00:38:33.436989Z",
     "shell.execute_reply": "2021-01-10T00:38:33.437817Z"
    },
    "papermill": {
     "duration": 0.064275,
     "end_time": "2021-01-10T00:38:33.438015",
     "exception": false,
     "start_time": "2021-01-10T00:38:33.373740",
     "status": "completed"
    },
    "tags": []
   },
   "outputs": [
    {
     "name": "stderr",
     "output_type": "stream",
     "text": [
      "used device: cuda\n"
     ]
    }
   ],
   "source": [
    "LOGGER.info(f'used device: {device}')"
   ]
  },
  {
   "cell_type": "code",
   "execution_count": 26,
   "metadata": {
    "execution": {
     "iopub.execute_input": "2021-01-10T00:38:33.531433Z",
     "iopub.status.busy": "2021-01-10T00:38:33.530496Z",
     "iopub.status.idle": "2021-01-10T04:26:21.672644Z",
     "shell.execute_reply": "2021-01-10T04:26:21.671551Z"
    },
    "papermill": {
     "duration": 13668.189926,
     "end_time": "2021-01-10T04:26:21.672772",
     "exception": false,
     "start_time": "2021-01-10T00:38:33.482846",
     "status": "completed"
    },
    "tags": []
   },
   "outputs": [
    {
     "name": "stderr",
     "output_type": "stream",
     "text": [
      "========== fold: 0 training ============\n",
      "Downloading: \"https://github.com/rwightman/pytorch-image-models/releases/download/v0.1-weights/tf_efficientnet_b3_aa-84b4657e.pth\" to /root/.cache/torch/hub/checkpoints/tf_efficientnet_b3_aa-84b4657e.pth\n",
      "loss_train: BiTemperedLogisticLoss()\n"
     ]
    },
    {
     "name": "stdout",
     "output_type": "stream",
     "text": [
      "Epoch: [1][0/1317]Data 1.566 (1.566)Elapsed 0m 3s (remain 78m 25s)Loss: 1.6745(1.6745)Grad: 1.0540  \n",
      "Epoch: [1][100/1317]Data 0.000 (0.018)Elapsed 0m 39s (remain 7m 53s)Loss: 1.2096(1.3463)Grad: 0.5141  \n",
      "Epoch: [1][200/1317]Data 0.000 (0.010)Elapsed 1m 14s (remain 6m 55s)Loss: 0.8368(1.3052)Grad: 0.4655  \n",
      "Epoch: [1][300/1317]Data 0.002 (0.007)Elapsed 1m 50s (remain 6m 14s)Loss: 0.6912(1.2427)Grad: 0.6130  \n",
      "Epoch: [1][400/1317]Data 0.000 (0.006)Elapsed 2m 26s (remain 5m 34s)Loss: 0.7895(1.1935)Grad: 0.4974  \n",
      "Epoch: [1][500/1317]Data 0.000 (0.005)Elapsed 3m 2s (remain 4m 57s)Loss: 1.2968(1.1622)Grad: 0.5937  \n",
      "Epoch: [1][600/1317]Data 0.000 (0.004)Elapsed 3m 38s (remain 4m 20s)Loss: 2.0250(1.1265)Grad: 0.6256  \n",
      "Epoch: [1][700/1317]Data 0.000 (0.004)Elapsed 4m 14s (remain 3m 43s)Loss: 1.8086(1.1010)Grad: 0.6180  \n",
      "Epoch: [1][800/1317]Data 0.000 (0.004)Elapsed 4m 51s (remain 3m 7s)Loss: 0.6399(1.0789)Grad: 0.4826  \n",
      "Epoch: [1][900/1317]Data 0.012 (0.003)Elapsed 5m 26s (remain 2m 30s)Loss: 1.3171(1.0697)Grad: 0.7134  \n",
      "Epoch: [1][1000/1317]Data 0.004 (0.003)Elapsed 6m 2s (remain 1m 54s)Loss: 1.0971(1.0571)Grad: 0.5025  \n",
      "Epoch: [1][1100/1317]Data 0.003 (0.003)Elapsed 6m 38s (remain 1m 18s)Loss: 0.7115(1.0466)Grad: 0.4902  \n",
      "Epoch: [1][1200/1317]Data 0.000 (0.003)Elapsed 7m 14s (remain 0m 42s)Loss: 0.5495(1.0357)Grad: 0.4702  \n",
      "Epoch: [1][1300/1317]Data 0.000 (0.003)Elapsed 7m 51s (remain 0m 5s)Loss: 1.2423(1.0285)Grad: 0.5035  \n",
      "Epoch: [1][1316/1317]Data 0.000 (0.003)Elapsed 7m 56s (remain 0m 0s)Loss: 1.0016(1.0259)Grad: 0.6663  \n",
      "EVAL: [0/330] Data 1.220 (1.220) Elapsed 0m 1s (remain 7m 24s) Loss: 1.0861(1.0861) \n",
      "EVAL: [100/330] Data 0.000 (0.131) Elapsed 0m 26s (remain 0m 59s) Loss: 1.1341(0.8022) \n",
      "EVAL: [200/330] Data 0.204 (0.132) Elapsed 0m 52s (remain 0m 33s) Loss: 1.0973(0.8219) \n",
      "EVAL: [300/330] Data 0.280 (0.127) Elapsed 1m 17s (remain 0m 7s) Loss: 0.6205(0.8388) \n"
     ]
    },
    {
     "name": "stderr",
     "output_type": "stream",
     "text": [
      "Epoch 1 - avg_train_loss: 1.0259 avg_val_loss: 0.8412 time: 561s\n",
      "Epoch 1 - Accuracy: 0.7414578587699316\n",
      "Epoch 1 - Save Best Score: 0.7415 Model\n"
     ]
    },
    {
     "name": "stdout",
     "output_type": "stream",
     "text": [
      "EVAL: [329/330] Data 0.000 (0.125) Elapsed 1m 23s (remain 0m 0s) Loss: 0.0300(0.8412) \n"
     ]
    },
    {
     "name": "stderr",
     "output_type": "stream",
     "text": [
      "requires_grad of all parameters are unlocked\n"
     ]
    },
    {
     "name": "stdout",
     "output_type": "stream",
     "text": [
      "Epoch: [2][0/1317]Data 1.223 (1.223)Elapsed 0m 3s (remain 66m 31s)Loss: 0.8464(0.8464)Grad: 2.5129  \n",
      "Epoch: [2][100/1317]Data 0.000 (0.012)Elapsed 1m 47s (remain 21m 32s)Loss: 0.9658(0.9099)Grad: 3.7640  \n",
      "Epoch: [2][200/1317]Data 0.000 (0.006)Elapsed 3m 31s (remain 19m 36s)Loss: 0.5797(0.8358)Grad: 3.0845  \n",
      "Epoch: [2][300/1317]Data 0.000 (0.004)Elapsed 5m 16s (remain 17m 48s)Loss: 0.2834(0.8057)Grad: 2.1353  \n",
      "Epoch: [2][400/1317]Data 0.000 (0.003)Elapsed 7m 1s (remain 16m 1s)Loss: 1.1282(0.7665)Grad: 2.2329  \n",
      "Epoch: [2][500/1317]Data 0.000 (0.003)Elapsed 8m 46s (remain 14m 16s)Loss: 0.7685(0.7514)Grad: 1.8899  \n",
      "Epoch: [2][600/1317]Data 0.000 (0.002)Elapsed 10m 30s (remain 12m 31s)Loss: 0.2472(0.7364)Grad: 1.7523  \n",
      "Epoch: [2][700/1317]Data 0.000 (0.002)Elapsed 12m 15s (remain 10m 45s)Loss: 0.8161(0.7239)Grad: 2.7122  \n",
      "Epoch: [2][800/1317]Data 0.000 (0.002)Elapsed 13m 59s (remain 9m 0s)Loss: 0.2010(0.7136)Grad: 1.8443  \n",
      "Epoch: [2][900/1317]Data 0.000 (0.002)Elapsed 15m 44s (remain 7m 16s)Loss: 0.5012(0.7100)Grad: 1.7423  \n",
      "Epoch: [2][1000/1317]Data 0.000 (0.001)Elapsed 17m 29s (remain 5m 31s)Loss: 1.2719(0.7057)Grad: 1.0614  \n",
      "Epoch: [2][1100/1317]Data 0.000 (0.001)Elapsed 19m 13s (remain 3m 46s)Loss: 0.7157(0.6948)Grad: 1.2839  \n",
      "Epoch: [2][1200/1317]Data 0.000 (0.001)Elapsed 20m 58s (remain 2m 1s)Loss: 0.0856(0.6876)Grad: 1.3346  \n",
      "Epoch: [2][1300/1317]Data 0.000 (0.001)Elapsed 22m 42s (remain 0m 16s)Loss: 1.7797(0.6817)Grad: 2.2086  \n",
      "Epoch: [2][1316/1317]Data 0.000 (0.001)Elapsed 22m 58s (remain 0m 0s)Loss: 1.0942(0.6812)Grad: 2.6421  \n",
      "EVAL: [0/330] Data 1.007 (1.007) Elapsed 0m 1s (remain 6m 25s) Loss: 0.5860(0.5860) \n",
      "EVAL: [100/330] Data 0.086 (0.125) Elapsed 0m 26s (remain 0m 59s) Loss: 0.6625(0.5603) \n",
      "EVAL: [200/330] Data 0.047 (0.122) Elapsed 0m 50s (remain 0m 32s) Loss: 0.5628(0.5584) \n",
      "EVAL: [300/330] Data 0.330 (0.120) Elapsed 1m 15s (remain 0m 7s) Loss: 0.3570(0.5521) \n"
     ]
    },
    {
     "name": "stderr",
     "output_type": "stream",
     "text": [
      "Epoch 2 - avg_train_loss: 0.6812 avg_val_loss: 0.5568 time: 1462s\n",
      "Epoch 2 - Accuracy: 0.8616173120728929\n",
      "Epoch 2 - Save Best Score: 0.8616 Model\n"
     ]
    },
    {
     "name": "stdout",
     "output_type": "stream",
     "text": [
      "EVAL: [329/330] Data 0.000 (0.119) Elapsed 1m 22s (remain 0m 0s) Loss: 0.0037(0.5568) \n",
      "Epoch: [3][0/1317]Data 1.414 (1.414)Elapsed 0m 2s (remain 58m 54s)Loss: 0.5524(0.5524)Grad: 2.4966  \n",
      "Epoch: [3][100/1317]Data 0.000 (0.014)Elapsed 1m 47s (remain 21m 30s)Loss: 0.2932(0.5504)Grad: 1.9184  \n",
      "Epoch: [3][200/1317]Data 0.000 (0.007)Elapsed 3m 32s (remain 19m 37s)Loss: 0.6849(0.5613)Grad: 1.6688  \n",
      "Epoch: [3][300/1317]Data 0.000 (0.005)Elapsed 5m 16s (remain 17m 48s)Loss: 0.3336(0.5904)Grad: 2.3195  \n",
      "Epoch: [3][400/1317]Data 0.000 (0.004)Elapsed 7m 0s (remain 16m 1s)Loss: 0.6719(0.6002)Grad: 2.2032  \n",
      "Epoch: [3][500/1317]Data 0.000 (0.003)Elapsed 8m 44s (remain 14m 14s)Loss: 0.5170(0.5980)Grad: 1.4130  \n",
      "Epoch: [3][600/1317]Data 0.000 (0.003)Elapsed 10m 29s (remain 12m 29s)Loss: 0.0292(0.5946)Grad: 0.7682  \n",
      "Epoch: [3][700/1317]Data 0.000 (0.002)Elapsed 12m 13s (remain 10m 44s)Loss: 0.8591(0.6060)Grad: 2.0404  \n",
      "Epoch: [3][800/1317]Data 0.000 (0.002)Elapsed 13m 57s (remain 8m 59s)Loss: 0.2425(0.6004)Grad: 1.2833  \n",
      "Epoch: [3][900/1317]Data 0.000 (0.002)Elapsed 15m 41s (remain 7m 14s)Loss: 0.7025(0.6065)Grad: 0.9925  \n",
      "Epoch: [3][1000/1317]Data 0.000 (0.002)Elapsed 17m 25s (remain 5m 30s)Loss: 0.8483(0.5963)Grad: 2.1755  \n",
      "Epoch: [3][1100/1317]Data 0.000 (0.001)Elapsed 19m 10s (remain 3m 45s)Loss: 0.8243(0.5934)Grad: 2.4816  \n",
      "Epoch: [3][1200/1317]Data 0.000 (0.001)Elapsed 20m 54s (remain 2m 1s)Loss: 0.1657(0.5940)Grad: 1.3080  \n",
      "Epoch: [3][1300/1317]Data 0.000 (0.001)Elapsed 22m 38s (remain 0m 16s)Loss: 1.0873(0.5977)Grad: 1.7699  \n",
      "Epoch: [3][1316/1317]Data 0.000 (0.001)Elapsed 22m 54s (remain 0m 0s)Loss: 0.2375(0.5981)Grad: 1.4368  \n",
      "EVAL: [0/330] Data 1.494 (1.494) Elapsed 0m 1s (remain 8m 53s) Loss: 0.4882(0.4882) \n",
      "EVAL: [100/330] Data 0.600 (0.131) Elapsed 0m 26s (remain 1m 0s) Loss: 0.3275(0.5194) \n",
      "EVAL: [200/330] Data 0.223 (0.116) Elapsed 0m 49s (remain 0m 31s) Loss: 0.5193(0.5217) \n",
      "EVAL: [300/330] Data 0.154 (0.113) Elapsed 1m 14s (remain 0m 7s) Loss: 0.3114(0.5206) \n"
     ]
    },
    {
     "name": "stderr",
     "output_type": "stream",
     "text": [
      "Epoch 3 - avg_train_loss: 0.5981 avg_val_loss: 0.5209 time: 1455s\n",
      "Epoch 3 - Accuracy: 0.863705391040243\n",
      "Epoch 3 - Save Best Score: 0.8637 Model\n"
     ]
    },
    {
     "name": "stdout",
     "output_type": "stream",
     "text": [
      "EVAL: [329/330] Data 0.000 (0.110) Elapsed 1m 19s (remain 0m 0s) Loss: 0.0421(0.5209) \n",
      "Epoch: [4][0/1317]Data 1.649 (1.649)Elapsed 0m 2s (remain 65m 35s)Loss: 0.0708(0.0708)Grad: 1.0884  \n",
      "Epoch: [4][100/1317]Data 0.000 (0.016)Elapsed 1m 47s (remain 21m 32s)Loss: 1.5741(0.5615)Grad: 1.3022  \n",
      "Epoch: [4][200/1317]Data 0.000 (0.008)Elapsed 3m 31s (remain 19m 32s)Loss: 0.5713(0.5332)Grad: 1.1164  \n",
      "Epoch: [4][300/1317]Data 0.000 (0.006)Elapsed 5m 15s (remain 17m 43s)Loss: 0.4134(0.5568)Grad: 1.1504  \n",
      "Epoch: [4][400/1317]Data 0.000 (0.004)Elapsed 6m 59s (remain 15m 57s)Loss: 0.7450(0.5500)Grad: 1.2081  \n",
      "Epoch: [4][500/1317]Data 0.000 (0.003)Elapsed 8m 43s (remain 14m 12s)Loss: 0.4445(0.5600)Grad: 0.9693  \n",
      "Epoch: [4][600/1317]Data 0.000 (0.003)Elapsed 10m 27s (remain 12m 27s)Loss: 0.2777(0.5703)Grad: 1.4078  \n",
      "Epoch: [4][700/1317]Data 0.000 (0.003)Elapsed 12m 11s (remain 10m 42s)Loss: 0.6145(0.5800)Grad: 1.6564  \n",
      "Epoch: [4][800/1317]Data 0.000 (0.002)Elapsed 13m 55s (remain 8m 58s)Loss: 1.2848(0.5784)Grad: 2.3897  \n",
      "Epoch: [4][900/1317]Data 0.000 (0.002)Elapsed 15m 38s (remain 7m 13s)Loss: 0.6085(0.5855)Grad: 1.4451  \n",
      "Epoch: [4][1000/1317]Data 0.000 (0.002)Elapsed 17m 23s (remain 5m 29s)Loss: 0.2179(0.5738)Grad: 1.4971  \n",
      "Epoch: [4][1100/1317]Data 0.000 (0.002)Elapsed 19m 7s (remain 3m 45s)Loss: 1.5352(0.5679)Grad: 1.1361  \n",
      "Epoch: [4][1200/1317]Data 0.000 (0.002)Elapsed 20m 51s (remain 2m 0s)Loss: 0.4393(0.5621)Grad: 1.2004  \n",
      "Epoch: [4][1300/1317]Data 0.000 (0.001)Elapsed 22m 35s (remain 0m 16s)Loss: 0.3267(0.5579)Grad: 0.6849  \n",
      "Epoch: [4][1316/1317]Data 0.000 (0.001)Elapsed 22m 52s (remain 0m 0s)Loss: 1.5446(0.5621)Grad: 2.6306  \n",
      "EVAL: [0/330] Data 1.118 (1.118) Elapsed 0m 1s (remain 6m 48s) Loss: 0.6006(0.6006) \n",
      "EVAL: [100/330] Data 0.360 (0.110) Elapsed 0m 24s (remain 0m 55s) Loss: 0.3216(0.5515) \n",
      "EVAL: [200/330] Data 0.782 (0.105) Elapsed 0m 47s (remain 0m 30s) Loss: 0.3843(0.5406) \n",
      "EVAL: [300/330] Data 0.000 (0.105) Elapsed 1m 11s (remain 0m 6s) Loss: 0.0891(0.5370) \n"
     ]
    },
    {
     "name": "stderr",
     "output_type": "stream",
     "text": [
      "Epoch 4 - avg_train_loss: 0.5621 avg_val_loss: 0.5434 time: 1449s\n",
      "Epoch 4 - Accuracy: 0.8724373576309795\n",
      "Epoch 4 - Save Best Score: 0.8724 Model\n"
     ]
    },
    {
     "name": "stdout",
     "output_type": "stream",
     "text": [
      "EVAL: [329/330] Data 0.000 (0.102) Elapsed 1m 17s (remain 0m 0s) Loss: 0.2823(0.5434) \n",
      "Epoch: [5][0/1317]Data 1.179 (1.179)Elapsed 0m 2s (remain 58m 31s)Loss: 0.4769(0.4769)Grad: 1.6053  \n",
      "Epoch: [5][100/1317]Data 0.000 (0.012)Elapsed 1m 46s (remain 21m 26s)Loss: 1.4503(0.5210)Grad: 1.8440  \n",
      "Epoch: [5][200/1317]Data 0.000 (0.006)Elapsed 3m 30s (remain 19m 31s)Loss: 0.1119(0.5031)Grad: 0.9612  \n",
      "Epoch: [5][300/1317]Data 0.000 (0.004)Elapsed 5m 14s (remain 17m 41s)Loss: 0.1765(0.5154)Grad: 1.1497  \n",
      "Epoch: [5][400/1317]Data 0.000 (0.003)Elapsed 6m 58s (remain 15m 55s)Loss: 0.2483(0.5224)Grad: 1.2735  \n",
      "Epoch: [5][500/1317]Data 0.000 (0.003)Elapsed 8m 42s (remain 14m 10s)Loss: 0.0084(0.5242)Grad: 0.2846  \n",
      "Epoch: [5][600/1317]Data 0.000 (0.002)Elapsed 10m 26s (remain 12m 25s)Loss: 0.8841(0.5248)Grad: 1.6083  \n",
      "Epoch: [5][700/1317]Data 0.000 (0.002)Elapsed 12m 9s (remain 10m 41s)Loss: 0.0981(0.5209)Grad: 1.3186  \n",
      "Epoch: [5][800/1317]Data 0.000 (0.002)Elapsed 13m 54s (remain 8m 57s)Loss: 0.0851(0.5155)Grad: 1.6082  \n",
      "Epoch: [5][900/1317]Data 0.000 (0.001)Elapsed 15m 38s (remain 7m 13s)Loss: 0.5787(0.5253)Grad: 1.3122  \n",
      "Epoch: [5][1000/1317]Data 0.000 (0.001)Elapsed 17m 22s (remain 5m 29s)Loss: 0.3261(0.5305)Grad: 1.7569  \n",
      "Epoch: [5][1100/1317]Data 0.000 (0.001)Elapsed 19m 6s (remain 3m 44s)Loss: 0.4032(0.5302)Grad: 1.4901  \n",
      "Epoch: [5][1200/1317]Data 0.000 (0.001)Elapsed 20m 50s (remain 2m 0s)Loss: 1.1672(0.5375)Grad: 1.1955  \n",
      "Epoch: [5][1300/1317]Data 0.000 (0.001)Elapsed 22m 35s (remain 0m 16s)Loss: 0.4347(0.5350)Grad: 1.1844  \n",
      "Epoch: [5][1316/1317]Data 0.000 (0.001)Elapsed 22m 51s (remain 0m 0s)Loss: 0.3794(0.5340)Grad: 1.1894  \n",
      "EVAL: [0/330] Data 1.141 (1.141) Elapsed 0m 1s (remain 6m 57s) Loss: 0.7168(0.7168) \n",
      "EVAL: [100/330] Data 0.317 (0.118) Elapsed 0m 25s (remain 0m 57s) Loss: 0.4428(0.5465) \n",
      "EVAL: [200/330] Data 0.500 (0.118) Elapsed 0m 50s (remain 0m 32s) Loss: 0.5313(0.5341) \n",
      "EVAL: [300/330] Data 0.117 (0.113) Elapsed 1m 13s (remain 0m 7s) Loss: 0.1957(0.5170) \n"
     ]
    },
    {
     "name": "stderr",
     "output_type": "stream",
     "text": [
      "Epoch 5 - avg_train_loss: 0.5340 avg_val_loss: 0.5188 time: 1451s\n",
      "Epoch 5 - Accuracy: 0.881169324221716\n",
      "Epoch 5 - Save Best Score: 0.8812 Model\n"
     ]
    },
    {
     "name": "stdout",
     "output_type": "stream",
     "text": [
      "EVAL: [329/330] Data 0.000 (0.109) Elapsed 1m 19s (remain 0m 0s) Loss: 0.0306(0.5188) \n",
      "Epoch: [6][0/1317]Data 1.098 (1.098)Elapsed 0m 2s (remain 55m 3s)Loss: 0.6491(0.6491)Grad: 1.8243  \n",
      "Epoch: [6][100/1317]Data 0.000 (0.011)Elapsed 1m 46s (remain 21m 23s)Loss: 2.5207(0.5469)Grad: 1.3112  \n",
      "Epoch: [6][200/1317]Data 0.000 (0.006)Elapsed 3m 30s (remain 19m 30s)Loss: 0.6172(0.5250)Grad: 1.4717  \n",
      "Epoch: [6][300/1317]Data 0.000 (0.004)Elapsed 5m 14s (remain 17m 41s)Loss: 0.3444(0.4982)Grad: 1.1341  \n",
      "Epoch: [6][400/1317]Data 0.000 (0.003)Elapsed 6m 58s (remain 15m 56s)Loss: 0.7948(0.5111)Grad: 1.1244  \n",
      "Epoch: [6][500/1317]Data 0.000 (0.002)Elapsed 8m 42s (remain 14m 11s)Loss: 0.1921(0.4908)Grad: 1.5225  \n",
      "Epoch: [6][600/1317]Data 0.000 (0.002)Elapsed 10m 27s (remain 12m 27s)Loss: 0.0858(0.4905)Grad: 1.1239  \n",
      "Epoch: [6][700/1317]Data 0.000 (0.002)Elapsed 12m 10s (remain 10m 42s)Loss: 0.5498(0.4973)Grad: 1.2770  \n",
      "Epoch: [6][800/1317]Data 0.000 (0.002)Elapsed 13m 54s (remain 8m 57s)Loss: 1.1099(0.5057)Grad: 1.0944  \n",
      "Epoch: [6][900/1317]Data 0.000 (0.001)Elapsed 15m 38s (remain 7m 13s)Loss: 0.4840(0.5060)Grad: 1.3452  \n",
      "Epoch: [6][1000/1317]Data 0.000 (0.001)Elapsed 17m 21s (remain 5m 28s)Loss: 0.7141(0.5064)Grad: 2.5226  \n",
      "Epoch: [6][1100/1317]Data 0.000 (0.001)Elapsed 19m 5s (remain 3m 44s)Loss: 0.5959(0.5185)Grad: 1.0895  \n",
      "Epoch: [6][1200/1317]Data 0.000 (0.001)Elapsed 20m 49s (remain 2m 0s)Loss: 0.3211(0.5134)Grad: 1.1657  \n",
      "Epoch: [6][1300/1317]Data 0.000 (0.001)Elapsed 22m 34s (remain 0m 16s)Loss: 0.6000(0.5197)Grad: 1.3451  \n",
      "Epoch: [6][1316/1317]Data 0.000 (0.001)Elapsed 22m 50s (remain 0m 0s)Loss: 0.1333(0.5184)Grad: 1.6255  \n",
      "EVAL: [0/330] Data 1.147 (1.147) Elapsed 0m 1s (remain 7m 1s) Loss: 0.6800(0.6800) \n",
      "EVAL: [100/330] Data 0.407 (0.128) Elapsed 0m 25s (remain 0m 58s) Loss: 0.4039(0.5239) \n",
      "EVAL: [200/330] Data 0.464 (0.124) Elapsed 0m 50s (remain 0m 32s) Loss: 0.4813(0.5235) \n",
      "EVAL: [300/330] Data 0.213 (0.115) Elapsed 1m 13s (remain 0m 7s) Loss: 0.2599(0.5125) \n"
     ]
    },
    {
     "name": "stderr",
     "output_type": "stream",
     "text": [
      "Epoch 6 - avg_train_loss: 0.5184 avg_val_loss: 0.5190 time: 1450s\n",
      "Epoch 6 - Accuracy: 0.8802201974183751\n"
     ]
    },
    {
     "name": "stdout",
     "output_type": "stream",
     "text": [
      "EVAL: [329/330] Data 0.000 (0.112) Elapsed 1m 19s (remain 0m 0s) Loss: 0.0460(0.5190) \n",
      "Epoch: [7][0/1317]Data 1.210 (1.210)Elapsed 0m 2s (remain 55m 16s)Loss: 0.1201(0.1201)Grad: 1.6402  \n",
      "Epoch: [7][100/1317]Data 0.000 (0.012)Elapsed 1m 46s (remain 21m 21s)Loss: 0.4022(0.5276)Grad: 1.3525  \n",
      "Epoch: [7][200/1317]Data 0.000 (0.006)Elapsed 3m 30s (remain 19m 29s)Loss: 0.2065(0.5041)Grad: 1.4155  \n",
      "Epoch: [7][300/1317]Data 0.000 (0.004)Elapsed 5m 14s (remain 17m 41s)Loss: 1.0173(0.5083)Grad: 1.0218  \n",
      "Epoch: [7][400/1317]Data 0.000 (0.003)Elapsed 6m 58s (remain 15m 55s)Loss: 0.0083(0.5047)Grad: 0.4319  \n",
      "Epoch: [7][500/1317]Data 0.000 (0.003)Elapsed 8m 42s (remain 14m 11s)Loss: 0.8222(0.4976)Grad: 1.9663  \n",
      "Epoch: [7][600/1317]Data 0.000 (0.002)Elapsed 10m 26s (remain 12m 26s)Loss: 0.2255(0.4912)Grad: 1.7065  \n",
      "Epoch: [7][700/1317]Data 0.000 (0.002)Elapsed 12m 10s (remain 10m 42s)Loss: 0.0215(0.4858)Grad: 0.5475  \n",
      "Epoch: [7][800/1317]Data 0.000 (0.002)Elapsed 13m 55s (remain 8m 58s)Loss: 1.4106(0.4779)Grad: 1.7823  \n",
      "Epoch: [7][900/1317]Data 0.000 (0.001)Elapsed 15m 39s (remain 7m 13s)Loss: 1.0142(0.4853)Grad: 0.5356  \n",
      "Epoch: [7][1000/1317]Data 0.000 (0.001)Elapsed 17m 24s (remain 5m 29s)Loss: 0.1377(0.4812)Grad: 1.4674  \n",
      "Epoch: [7][1100/1317]Data 0.000 (0.001)Elapsed 19m 8s (remain 3m 45s)Loss: 0.4019(0.4788)Grad: 1.9236  \n",
      "Epoch: [7][1200/1317]Data 0.000 (0.001)Elapsed 20m 52s (remain 2m 1s)Loss: 0.2050(0.4857)Grad: 1.1144  \n",
      "Epoch: [7][1300/1317]Data 0.000 (0.001)Elapsed 22m 37s (remain 0m 16s)Loss: 0.8117(0.4890)Grad: 0.9172  \n",
      "Epoch: [7][1316/1317]Data 0.000 (0.001)Elapsed 22m 53s (remain 0m 0s)Loss: 0.2792(0.4907)Grad: 1.4342  \n",
      "EVAL: [0/330] Data 1.054 (1.054) Elapsed 0m 1s (remain 6m 38s) Loss: 0.7100(0.7100) \n",
      "EVAL: [100/330] Data 0.000 (0.125) Elapsed 0m 26s (remain 0m 59s) Loss: 0.3117(0.5070) \n",
      "EVAL: [200/330] Data 0.587 (0.124) Elapsed 0m 51s (remain 0m 33s) Loss: 0.4799(0.5150) \n",
      "EVAL: [300/330] Data 0.647 (0.118) Elapsed 1m 15s (remain 0m 7s) Loss: 0.3595(0.5056) \n"
     ]
    },
    {
     "name": "stderr",
     "output_type": "stream",
     "text": [
      "Epoch 7 - avg_train_loss: 0.4907 avg_val_loss: 0.5096 time: 1455s\n",
      "Epoch 7 - Accuracy: 0.8819286256643888\n",
      "Epoch 7 - Save Best Score: 0.8819 Model\n"
     ]
    },
    {
     "name": "stdout",
     "output_type": "stream",
     "text": [
      "EVAL: [329/330] Data 0.000 (0.114) Elapsed 1m 21s (remain 0m 0s) Loss: 0.0695(0.5096) \n",
      "Epoch: [8][0/1317]Data 1.210 (1.210)Elapsed 0m 2s (remain 63m 47s)Loss: 0.3628(0.3628)Grad: 1.9526  \n",
      "Epoch: [8][100/1317]Data 0.000 (0.012)Elapsed 1m 47s (remain 21m 28s)Loss: 0.2833(0.4560)Grad: 0.8896  \n",
      "Epoch: [8][200/1317]Data 0.000 (0.006)Elapsed 3m 31s (remain 19m 35s)Loss: 0.2097(0.4842)Grad: 1.2584  \n",
      "Epoch: [8][300/1317]Data 0.000 (0.004)Elapsed 5m 16s (remain 17m 47s)Loss: 1.0089(0.5024)Grad: 1.2294  \n",
      "Epoch: [8][400/1317]Data 0.000 (0.003)Elapsed 7m 0s (remain 16m 1s)Loss: 0.2523(0.4931)Grad: 1.8982  \n",
      "Epoch: [8][500/1317]Data 0.000 (0.003)Elapsed 8m 45s (remain 14m 15s)Loss: 0.2445(0.4931)Grad: 0.9139  \n",
      "Epoch: [8][600/1317]Data 0.000 (0.002)Elapsed 10m 29s (remain 12m 30s)Loss: 1.2841(0.4959)Grad: 1.1543  \n",
      "Epoch: [8][700/1317]Data 0.000 (0.002)Elapsed 12m 14s (remain 10m 45s)Loss: 0.2716(0.4952)Grad: 0.7976  \n",
      "Epoch: [8][800/1317]Data 0.000 (0.002)Elapsed 13m 59s (remain 9m 0s)Loss: 0.5736(0.4933)Grad: 1.6311  \n",
      "Epoch: [8][900/1317]Data 0.000 (0.002)Elapsed 15m 44s (remain 7m 16s)Loss: 0.7075(0.4955)Grad: 1.6880  \n",
      "Epoch: [8][1000/1317]Data 0.000 (0.001)Elapsed 17m 29s (remain 5m 31s)Loss: 0.2953(0.4876)Grad: 1.6095  \n",
      "Epoch: [8][1100/1317]Data 0.000 (0.001)Elapsed 19m 14s (remain 3m 46s)Loss: 0.2315(0.4858)Grad: 1.1060  \n",
      "Epoch: [8][1200/1317]Data 0.000 (0.001)Elapsed 20m 58s (remain 2m 1s)Loss: 0.6123(0.4810)Grad: 1.2072  \n",
      "Epoch: [8][1300/1317]Data 0.000 (0.001)Elapsed 22m 43s (remain 0m 16s)Loss: 1.1913(0.4807)Grad: 2.3325  \n",
      "Epoch: [8][1316/1317]Data 0.000 (0.001)Elapsed 23m 0s (remain 0m 0s)Loss: 0.0805(0.4797)Grad: 1.0887  \n",
      "EVAL: [0/330] Data 1.181 (1.181) Elapsed 0m 1s (remain 7m 8s) Loss: 0.8146(0.8146) \n",
      "EVAL: [100/330] Data 0.592 (0.124) Elapsed 0m 25s (remain 0m 58s) Loss: 0.4906(0.5772) \n",
      "EVAL: [200/330] Data 0.332 (0.118) Elapsed 0m 50s (remain 0m 32s) Loss: 0.4658(0.5666) \n",
      "EVAL: [300/330] Data 0.000 (0.119) Elapsed 1m 15s (remain 0m 7s) Loss: 0.3822(0.5563) \n"
     ]
    },
    {
     "name": "stderr",
     "output_type": "stream",
     "text": [
      "Epoch 8 - avg_train_loss: 0.4797 avg_val_loss: 0.5684 time: 1462s\n",
      "Epoch 8 - Accuracy: 0.8843963553530751\n",
      "Epoch 8 - Save Best Score: 0.8844 Model\n"
     ]
    },
    {
     "name": "stdout",
     "output_type": "stream",
     "text": [
      "EVAL: [329/330] Data 0.000 (0.115) Elapsed 1m 21s (remain 0m 0s) Loss: 0.0319(0.5684) \n",
      "Epoch: [9][0/1317]Data 1.475 (1.475)Elapsed 0m 3s (remain 67m 47s)Loss: 0.0308(0.0308)Grad: 0.5594  \n",
      "Epoch: [9][100/1317]Data 0.000 (0.015)Elapsed 1m 48s (remain 21m 40s)Loss: 0.5994(0.4030)Grad: 1.3832  \n",
      "Epoch: [9][200/1317]Data 0.000 (0.008)Elapsed 3m 32s (remain 19m 39s)Loss: 0.1869(0.4316)Grad: 1.6477  \n",
      "Epoch: [9][300/1317]Data 0.000 (0.005)Elapsed 5m 16s (remain 17m 49s)Loss: 0.1285(0.4679)Grad: 1.2685  \n",
      "Epoch: [9][400/1317]Data 0.000 (0.004)Elapsed 7m 1s (remain 16m 3s)Loss: 0.8016(0.4754)Grad: 1.0535  \n",
      "Epoch: [9][500/1317]Data 0.000 (0.003)Elapsed 8m 46s (remain 14m 16s)Loss: 0.3452(0.4740)Grad: 1.5856  \n",
      "Epoch: [9][600/1317]Data 0.000 (0.003)Elapsed 10m 30s (remain 12m 31s)Loss: 0.1871(0.4877)Grad: 0.9159  \n",
      "Epoch: [9][700/1317]Data 0.000 (0.002)Elapsed 12m 15s (remain 10m 46s)Loss: 1.0315(0.4917)Grad: 1.7682  \n",
      "Epoch: [9][800/1317]Data 0.000 (0.002)Elapsed 14m 0s (remain 9m 1s)Loss: 0.0915(0.4883)Grad: 0.7392  \n",
      "Epoch: [9][900/1317]Data 0.000 (0.002)Elapsed 15m 44s (remain 7m 16s)Loss: 0.4145(0.4804)Grad: 0.9682  \n",
      "Epoch: [9][1000/1317]Data 0.000 (0.002)Elapsed 17m 28s (remain 5m 31s)Loss: 0.6372(0.4779)Grad: 2.1664  \n",
      "Epoch: [9][1100/1317]Data 0.000 (0.002)Elapsed 19m 12s (remain 3m 46s)Loss: 0.1336(0.4788)Grad: 2.3962  \n",
      "Epoch: [9][1200/1317]Data 0.000 (0.001)Elapsed 20m 57s (remain 2m 1s)Loss: 0.6328(0.4732)Grad: 1.6675  \n",
      "Epoch: [9][1300/1317]Data 0.000 (0.001)Elapsed 22m 41s (remain 0m 16s)Loss: 0.7873(0.4713)Grad: 1.7775  \n",
      "Epoch: [9][1316/1317]Data 0.000 (0.001)Elapsed 22m 57s (remain 0m 0s)Loss: 0.5906(0.4718)Grad: 1.6624  \n",
      "EVAL: [0/330] Data 1.064 (1.064) Elapsed 0m 1s (remain 6m 33s) Loss: 0.8868(0.8868) \n",
      "EVAL: [100/330] Data 0.269 (0.120) Elapsed 0m 25s (remain 0m 57s) Loss: 0.3507(0.5544) \n",
      "EVAL: [200/330] Data 0.940 (0.119) Elapsed 0m 50s (remain 0m 32s) Loss: 0.4543(0.5386) \n",
      "EVAL: [300/330] Data 0.308 (0.114) Elapsed 1m 13s (remain 0m 7s) Loss: 0.3301(0.5220) \n"
     ]
    },
    {
     "name": "stderr",
     "output_type": "stream",
     "text": [
      "Epoch 9 - avg_train_loss: 0.4718 avg_val_loss: 0.5304 time: 1458s\n",
      "Epoch 9 - Accuracy: 0.8880030372057707\n",
      "Epoch 9 - Save Best Score: 0.8880 Model\n"
     ]
    },
    {
     "name": "stdout",
     "output_type": "stream",
     "text": [
      "EVAL: [329/330] Data 0.000 (0.110) Elapsed 1m 19s (remain 0m 0s) Loss: 0.0494(0.5304) \n",
      "Epoch: [10][0/1317]Data 1.317 (1.317)Elapsed 0m 2s (remain 59m 43s)Loss: 0.1846(0.1846)Grad: 1.4613  \n",
      "Epoch: [10][100/1317]Data 0.000 (0.013)Elapsed 1m 47s (remain 21m 36s)Loss: 0.6663(0.4537)Grad: 2.5480  \n",
      "Epoch: [10][200/1317]Data 0.000 (0.007)Elapsed 3m 31s (remain 19m 36s)Loss: 0.5803(0.4589)Grad: 1.7345  \n",
      "Epoch: [10][300/1317]Data 0.000 (0.005)Elapsed 5m 15s (remain 17m 45s)Loss: 1.3256(0.4557)Grad: 1.2956  \n",
      "Epoch: [10][400/1317]Data 0.000 (0.003)Elapsed 6m 59s (remain 15m 58s)Loss: 0.1696(0.4509)Grad: 1.3128  \n",
      "Epoch: [10][500/1317]Data 0.000 (0.003)Elapsed 8m 44s (remain 14m 13s)Loss: 0.0077(0.4599)Grad: 0.3589  \n",
      "Epoch: [10][600/1317]Data 0.000 (0.002)Elapsed 10m 28s (remain 12m 28s)Loss: 0.3215(0.4531)Grad: 1.4463  \n",
      "Epoch: [10][700/1317]Data 0.000 (0.002)Elapsed 12m 12s (remain 10m 43s)Loss: 1.2166(0.4450)Grad: 0.9568  \n",
      "Epoch: [10][800/1317]Data 0.000 (0.002)Elapsed 13m 56s (remain 8m 58s)Loss: 0.3377(0.4597)Grad: 1.3556  \n",
      "Epoch: [10][900/1317]Data 0.000 (0.002)Elapsed 15m 40s (remain 7m 14s)Loss: 0.0794(0.4633)Grad: 1.0938  \n",
      "Epoch: [10][1000/1317]Data 0.000 (0.001)Elapsed 17m 25s (remain 5m 30s)Loss: 0.3318(0.4685)Grad: 1.3652  \n",
      "Epoch: [10][1100/1317]Data 0.000 (0.001)Elapsed 19m 9s (remain 3m 45s)Loss: 0.6231(0.4605)Grad: 1.6186  \n",
      "Epoch: [10][1200/1317]Data 0.000 (0.001)Elapsed 20m 54s (remain 2m 1s)Loss: 0.4223(0.4593)Grad: 1.8622  \n",
      "Epoch: [10][1300/1317]Data 0.000 (0.001)Elapsed 22m 38s (remain 0m 16s)Loss: 1.4790(0.4586)Grad: 1.1100  \n",
      "Epoch: [10][1316/1317]Data 0.000 (0.001)Elapsed 22m 55s (remain 0m 0s)Loss: 0.1868(0.4585)Grad: 1.4788  \n",
      "EVAL: [0/330] Data 0.952 (0.952) Elapsed 0m 1s (remain 6m 0s) Loss: 0.8275(0.8275) \n",
      "EVAL: [100/330] Data 0.321 (0.125) Elapsed 0m 26s (remain 0m 59s) Loss: 0.4213(0.5228) \n",
      "EVAL: [200/330] Data 0.000 (0.118) Elapsed 0m 50s (remain 0m 32s) Loss: 0.4388(0.5164) \n",
      "EVAL: [300/330] Data 0.000 (0.113) Elapsed 1m 14s (remain 0m 7s) Loss: 0.3280(0.5026) \n"
     ]
    },
    {
     "name": "stderr",
     "output_type": "stream",
     "text": [
      "Epoch 10 - avg_train_loss: 0.4585 avg_val_loss: 0.5088 time: 1456s\n",
      "Epoch 10 - Accuracy: 0.8881928625664389\n",
      "Epoch 10 - Save Best Score: 0.8882 Model\n"
     ]
    },
    {
     "name": "stdout",
     "output_type": "stream",
     "text": [
      "EVAL: [329/330] Data 0.000 (0.112) Elapsed 1m 20s (remain 0m 0s) Loss: 0.0800(0.5088) \n"
     ]
    },
    {
     "name": "stderr",
     "output_type": "stream",
     "text": [
      "=============== fold: 0 result ================\n",
      "Score: 0.88819\n",
      "============ CV ============\n",
      "Score: 0.88819\n"
     ]
    }
   ],
   "source": [
    "if __name__ == '__main__':\n",
    "    main()"
   ]
  }
 ],
 "metadata": {
  "kernelspec": {
   "display_name": "Python 3",
   "language": "python",
   "name": "python3"
  },
  "language_info": {
   "codemirror_mode": {
    "name": "ipython",
    "version": 3
   },
   "file_extension": ".py",
   "mimetype": "text/x-python",
   "name": "python",
   "nbconvert_exporter": "python",
   "pygments_lexer": "ipython3",
   "version": "3.7.6"
  },
  "papermill": {
   "duration": 13681.723443,
   "end_time": "2021-01-10T04:26:22.890172",
   "environment_variables": {},
   "exception": null,
   "input_path": "__notebook__.ipynb",
   "output_path": "__notebook__.ipynb",
   "parameters": {},
   "start_time": "2021-01-10T00:38:21.166729",
   "version": "2.1.0"
  }
 },
 "nbformat": 4,
 "nbformat_minor": 4
}
