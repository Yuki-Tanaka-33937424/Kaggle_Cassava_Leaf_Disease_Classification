{
 "cells": [
  {
   "cell_type": "code",
   "execution_count": 1,
   "metadata": {
    "_cell_guid": "79c7e3d0-c299-4dcb-8224-4455121ee9b0",
    "_uuid": "d629ff2d2480ee46fbb7e2d37f6b5fab8052498a",
    "execution": {
     "iopub.execute_input": "2021-02-17T12:23:48.014370Z",
     "iopub.status.busy": "2021-02-17T12:23:48.013623Z",
     "iopub.status.idle": "2021-02-17T12:23:48.020130Z",
     "shell.execute_reply": "2021-02-17T12:23:48.019387Z"
    },
    "papermill": {
     "duration": 0.030356,
     "end_time": "2021-02-17T12:23:48.020263",
     "exception": false,
     "start_time": "2021-02-17T12:23:47.989907",
     "status": "completed"
    },
    "tags": []
   },
   "outputs": [],
   "source": [
    "import numpy as np\n",
    "import pandas as pd\n",
    "import os"
   ]
  },
  {
   "cell_type": "code",
   "execution_count": 2,
   "metadata": {
    "execution": {
     "iopub.execute_input": "2021-02-17T12:23:48.063344Z",
     "iopub.status.busy": "2021-02-17T12:23:48.062573Z",
     "iopub.status.idle": "2021-02-17T12:23:48.070181Z",
     "shell.execute_reply": "2021-02-17T12:23:48.070710Z"
    },
    "papermill": {
     "duration": 0.030648,
     "end_time": "2021-02-17T12:23:48.070873",
     "exception": false,
     "start_time": "2021-02-17T12:23:48.040225",
     "status": "completed"
    },
    "tags": []
   },
   "outputs": [
    {
     "data": {
      "text/plain": [
       "['train_tfrecords',\n",
       " 'sample_submission.csv',\n",
       " 'test_tfrecords',\n",
       " 'label_num_to_disease_map.json',\n",
       " 'train_images',\n",
       " 'train.csv',\n",
       " 'test_images']"
      ]
     },
     "execution_count": 2,
     "metadata": {},
     "output_type": "execute_result"
    }
   ],
   "source": [
    "os.listdir('../input/cassava-leaf-disease-classification/')"
   ]
  },
  {
   "cell_type": "code",
   "execution_count": 3,
   "metadata": {
    "execution": {
     "iopub.execute_input": "2021-02-17T12:23:48.115231Z",
     "iopub.status.busy": "2021-02-17T12:23:48.114527Z",
     "iopub.status.idle": "2021-02-17T12:23:48.554620Z",
     "shell.execute_reply": "2021-02-17T12:23:48.553870Z"
    },
    "papermill": {
     "duration": 0.462907,
     "end_time": "2021-02-17T12:23:48.554742",
     "exception": false,
     "start_time": "2021-02-17T12:23:48.091835",
     "status": "completed"
    },
    "tags": []
   },
   "outputs": [],
   "source": [
    "train = pd.read_csv('../input/cassava-leaf-disease-merged/merged.csv')\n",
    "test = pd.read_csv('../input/cassava-leaf-disease-classification//sample_submission.csv')\n",
    "label_map = pd.read_json('../input/cassava-leaf-disease-classification/label_num_to_disease_map.json', orient='index')"
   ]
  },
  {
   "cell_type": "markdown",
   "metadata": {
    "papermill": {
     "duration": 0.020491,
     "end_time": "2021-02-17T12:23:48.596412",
     "exception": false,
     "start_time": "2021-02-17T12:23:48.575921",
     "status": "completed"
    },
    "tags": []
   },
   "source": [
    "## Directory settings"
   ]
  },
  {
   "cell_type": "code",
   "execution_count": 4,
   "metadata": {
    "execution": {
     "iopub.execute_input": "2021-02-17T12:23:48.645599Z",
     "iopub.status.busy": "2021-02-17T12:23:48.644478Z",
     "iopub.status.idle": "2021-02-17T12:23:48.647241Z",
     "shell.execute_reply": "2021-02-17T12:23:48.647788Z"
    },
    "papermill": {
     "duration": 0.03059,
     "end_time": "2021-02-17T12:23:48.647947",
     "exception": false,
     "start_time": "2021-02-17T12:23:48.617357",
     "status": "completed"
    },
    "tags": []
   },
   "outputs": [],
   "source": [
    "OUTPUT_DIR = './'\n",
    "if not os.path.exists(OUTPUT_DIR):\n",
    "    os.makedirs(OUTPUT_DIR)\n",
    "    \n",
    "TRAIN_PATH = '../input/cassava-leaf-disease-merged/train'\n",
    "TEST_PATH = '../input/cassava-leaf-disease-classification/test_images'"
   ]
  },
  {
   "cell_type": "markdown",
   "metadata": {
    "papermill": {
     "duration": 0.019808,
     "end_time": "2021-02-17T12:23:48.688127",
     "exception": false,
     "start_time": "2021-02-17T12:23:48.668319",
     "status": "completed"
    },
    "tags": []
   },
   "source": [
    "## CFG"
   ]
  },
  {
   "cell_type": "code",
   "execution_count": 5,
   "metadata": {
    "execution": {
     "iopub.execute_input": "2021-02-17T12:23:48.738619Z",
     "iopub.status.busy": "2021-02-17T12:23:48.737228Z",
     "iopub.status.idle": "2021-02-17T12:23:48.741886Z",
     "shell.execute_reply": "2021-02-17T12:23:48.741329Z"
    },
    "papermill": {
     "duration": 0.033642,
     "end_time": "2021-02-17T12:23:48.742016",
     "exception": false,
     "start_time": "2021-02-17T12:23:48.708374",
     "status": "completed"
    },
    "tags": []
   },
   "outputs": [],
   "source": [
    "class CFG:\n",
    "    debug = False\n",
    "    apex = False\n",
    "    print_freq = 100\n",
    "    num_workers = 4\n",
    "    model_name = '1D_CNN'\n",
    "    size = 256\n",
    "    scheduler = 'CosineAnnealingWarmRestarts'\n",
    "    epochs = 30\n",
    "    T_0 = 10\n",
    "    lr = 1e-3\n",
    "    min_lr = 1e-6\n",
    "    batch_size = 256\n",
    "    weight_decay = 1e-6\n",
    "    gradient_accumulation_steps = 1\n",
    "    max_grad_norm = 1000\n",
    "    seed = 42\n",
    "    target_size = 5\n",
    "    target_col = 'label'\n",
    "    n_fold = 5\n",
    "    trn_fold = [0, 1, 2, 3, 4]\n",
    "    train = True\n",
    "    inference = False\n",
    "    \n",
    "if CFG.debug:\n",
    "    CFG.epochs = 1\n",
    "    train = train.sample(n=1000, random_state=CFG.seed).reset_index(drop=True)"
   ]
  },
  {
   "cell_type": "markdown",
   "metadata": {
    "papermill": {
     "duration": 0.020159,
     "end_time": "2021-02-17T12:23:48.782627",
     "exception": false,
     "start_time": "2021-02-17T12:23:48.762468",
     "status": "completed"
    },
    "tags": []
   },
   "source": [
    "## Library"
   ]
  },
  {
   "cell_type": "code",
   "execution_count": 6,
   "metadata": {
    "execution": {
     "iopub.execute_input": "2021-02-17T12:23:48.838377Z",
     "iopub.status.busy": "2021-02-17T12:23:48.837450Z",
     "iopub.status.idle": "2021-02-17T12:23:53.141537Z",
     "shell.execute_reply": "2021-02-17T12:23:53.140500Z"
    },
    "papermill": {
     "duration": 4.33841,
     "end_time": "2021-02-17T12:23:53.141673",
     "exception": false,
     "start_time": "2021-02-17T12:23:48.803263",
     "status": "completed"
    },
    "tags": []
   },
   "outputs": [],
   "source": [
    "import sys\n",
    "sys.path.append('../input/pytorch-image-models/pytorch-image-models-master')\n",
    "\n",
    "import os\n",
    "import math\n",
    "import time\n",
    "import random\n",
    "import shutil\n",
    "from pathlib import Path\n",
    "from contextlib import contextmanager\n",
    "from collections import defaultdict, Counter\n",
    "\n",
    "import scipy as sp\n",
    "import numpy as np\n",
    "import pandas as pd\n",
    "\n",
    "from sklearn import preprocessing\n",
    "from sklearn.metrics import accuracy_score\n",
    "from sklearn.model_selection import StratifiedKFold\n",
    "\n",
    "from tqdm.auto import tqdm\n",
    "from functools import partial\n",
    "\n",
    "import cv2\n",
    "from PIL import Image\n",
    "\n",
    "import torch\n",
    "import torch.nn as nn\n",
    "import torch.nn.functional as F\n",
    "from torch.optim import Adam, SGD\n",
    "import torchvision.models as models\n",
    "from torch.nn.parameter import Parameter\n",
    "from torch.utils.data import DataLoader, Dataset\n",
    "from torch.optim.lr_scheduler import CosineAnnealingWarmRestarts, CosineAnnealingLR, ReduceLROnPlateau\n",
    "\n",
    "from albumentations import (\n",
    "    Compose, OneOf, Normalize, Resize, RandomResizedCrop, RandomCrop, HorizontalFlip, VerticalFlip, \n",
    "    RandomBrightness, RandomContrast, RandomBrightnessContrast, Rotate, ShiftScaleRotate, Cutout, \n",
    "    IAAAdditiveGaussianNoise, Transpose\n",
    "    )\n",
    "from albumentations.pytorch import ToTensorV2\n",
    "from albumentations import ImageOnlyTransform\n",
    "\n",
    "import timm\n",
    "\n",
    "import warnings \n",
    "warnings.filterwarnings('ignore')\n",
    "\n",
    "if CFG.apex:\n",
    "    from apex import amp\n",
    "\n",
    "device = torch.device('cuda' if torch.cuda.is_available() else 'cpu')"
   ]
  },
  {
   "cell_type": "markdown",
   "metadata": {
    "papermill": {
     "duration": 0.025698,
     "end_time": "2021-02-17T12:23:53.193961",
     "exception": false,
     "start_time": "2021-02-17T12:23:53.168263",
     "status": "completed"
    },
    "tags": []
   },
   "source": [
    "## Utils"
   ]
  },
  {
   "cell_type": "code",
   "execution_count": 7,
   "metadata": {
    "execution": {
     "iopub.execute_input": "2021-02-17T12:23:53.262882Z",
     "iopub.status.busy": "2021-02-17T12:23:53.262119Z",
     "iopub.status.idle": "2021-02-17T12:23:53.271805Z",
     "shell.execute_reply": "2021-02-17T12:23:53.271121Z"
    },
    "papermill": {
     "duration": 0.054489,
     "end_time": "2021-02-17T12:23:53.271945",
     "exception": false,
     "start_time": "2021-02-17T12:23:53.217456",
     "status": "completed"
    },
    "tags": []
   },
   "outputs": [],
   "source": [
    "def get_score(y_true, y_pred):\n",
    "    return accuracy_score(y_true, y_pred)\n",
    "\n",
    "@contextmanager\n",
    "def timer(name):\n",
    "    t0 = time.time()\n",
    "    LOGGER.info(f'[{name}] start')\n",
    "    yield\n",
    "    LOGGER.info(f'[{name}] done in {time.time() - t0:.0f}')\n",
    "    \n",
    "def init_logger(log_file=OUTPUT_DIR+'train.log'):\n",
    "    from logging import getLogger, INFO, FileHandler,  Formatter,  StreamHandler\n",
    "    logger = getLogger(__name__)\n",
    "    logger.setLevel(INFO)\n",
    "    handler1 = StreamHandler()\n",
    "    handler1.setFormatter(Formatter(\"%(message)s\"))\n",
    "    handler2 = FileHandler(filename=log_file)\n",
    "    handler2.setFormatter(Formatter(\"%(message)s\"))\n",
    "    logger.addHandler(handler1)\n",
    "    logger.addHandler(handler2)\n",
    "    return logger\n",
    "\n",
    "LOGGER = init_logger()\n",
    "\n",
    "def seed_torch(seed=42):\n",
    "    random.seed(seed)\n",
    "    os.environ['PYTHONHASHSEED'] = str(seed)\n",
    "    np.random.seed(seed)\n",
    "    torch.manual_seed(seed)\n",
    "    torch.cuda.manual_seed(seed)\n",
    "    torch.backends.cudnn.deterministic = True\n",
    "\n",
    "seed_torch(seed=CFG.seed)"
   ]
  },
  {
   "cell_type": "markdown",
   "metadata": {
    "papermill": {
     "duration": 0.024715,
     "end_time": "2021-02-17T12:23:53.319728",
     "exception": false,
     "start_time": "2021-02-17T12:23:53.295013",
     "status": "completed"
    },
    "tags": []
   },
   "source": [
    "## CV split"
   ]
  },
  {
   "cell_type": "code",
   "execution_count": 8,
   "metadata": {
    "execution": {
     "iopub.execute_input": "2021-02-17T12:23:53.376435Z",
     "iopub.status.busy": "2021-02-17T12:23:53.375681Z",
     "iopub.status.idle": "2021-02-17T12:23:53.645546Z",
     "shell.execute_reply": "2021-02-17T12:23:53.646188Z"
    },
    "papermill": {
     "duration": 0.305056,
     "end_time": "2021-02-17T12:23:53.646333",
     "exception": false,
     "start_time": "2021-02-17T12:23:53.341277",
     "status": "completed"
    },
    "tags": []
   },
   "outputs": [
    {
     "data": {
      "text/html": [
       "<div>\n",
       "<style scoped>\n",
       "    .dataframe tbody tr th:only-of-type {\n",
       "        vertical-align: middle;\n",
       "    }\n",
       "\n",
       "    .dataframe tbody tr th {\n",
       "        vertical-align: top;\n",
       "    }\n",
       "\n",
       "    .dataframe thead th {\n",
       "        text-align: right;\n",
       "    }\n",
       "</style>\n",
       "<table border=\"1\" class=\"dataframe\">\n",
       "  <thead>\n",
       "    <tr style=\"text-align: right;\">\n",
       "      <th></th>\n",
       "      <th>0</th>\n",
       "      <th>1</th>\n",
       "      <th>2</th>\n",
       "      <th>3</th>\n",
       "      <th>4</th>\n",
       "      <th>5</th>\n",
       "      <th>6</th>\n",
       "      <th>7</th>\n",
       "      <th>8</th>\n",
       "      <th>9</th>\n",
       "      <th>label</th>\n",
       "    </tr>\n",
       "  </thead>\n",
       "  <tbody>\n",
       "    <tr>\n",
       "      <th>0</th>\n",
       "      <td>3.826102e-15</td>\n",
       "      <td>4.340454e-16</td>\n",
       "      <td>5.234761e-11</td>\n",
       "      <td>1.000000e+00</td>\n",
       "      <td>4.762953e-14</td>\n",
       "      <td>1.522047e-14</td>\n",
       "      <td>9.014521e-16</td>\n",
       "      <td>1.139739e-09</td>\n",
       "      <td>1.000000e+00</td>\n",
       "      <td>3.116005e-13</td>\n",
       "      <td>3</td>\n",
       "    </tr>\n",
       "    <tr>\n",
       "      <th>1</th>\n",
       "      <td>9.538939e-01</td>\n",
       "      <td>1.037140e-02</td>\n",
       "      <td>1.156314e-06</td>\n",
       "      <td>8.508536e-07</td>\n",
       "      <td>3.573275e-02</td>\n",
       "      <td>9.599438e-01</td>\n",
       "      <td>7.439279e-03</td>\n",
       "      <td>1.127475e-06</td>\n",
       "      <td>8.668555e-07</td>\n",
       "      <td>3.261490e-02</td>\n",
       "      <td>4</td>\n",
       "    </tr>\n",
       "    <tr>\n",
       "      <th>2</th>\n",
       "      <td>4.627016e-18</td>\n",
       "      <td>1.426970e-14</td>\n",
       "      <td>1.898384e-14</td>\n",
       "      <td>1.000000e+00</td>\n",
       "      <td>4.604767e-15</td>\n",
       "      <td>3.705072e-17</td>\n",
       "      <td>5.054389e-14</td>\n",
       "      <td>2.114423e-13</td>\n",
       "      <td>1.000000e+00</td>\n",
       "      <td>2.999360e-14</td>\n",
       "      <td>3</td>\n",
       "    </tr>\n",
       "    <tr>\n",
       "      <th>3</th>\n",
       "      <td>4.606794e-07</td>\n",
       "      <td>1.124587e-05</td>\n",
       "      <td>1.638323e-02</td>\n",
       "      <td>9.827052e-01</td>\n",
       "      <td>8.998843e-04</td>\n",
       "      <td>3.833728e-07</td>\n",
       "      <td>9.185316e-06</td>\n",
       "      <td>1.194510e-02</td>\n",
       "      <td>9.875053e-01</td>\n",
       "      <td>5.400496e-04</td>\n",
       "      <td>3</td>\n",
       "    </tr>\n",
       "    <tr>\n",
       "      <th>4</th>\n",
       "      <td>6.382671e-06</td>\n",
       "      <td>1.690052e-05</td>\n",
       "      <td>4.985041e-04</td>\n",
       "      <td>1.611800e-05</td>\n",
       "      <td>9.994621e-01</td>\n",
       "      <td>4.209951e-06</td>\n",
       "      <td>7.615774e-06</td>\n",
       "      <td>2.362547e-04</td>\n",
       "      <td>8.609924e-06</td>\n",
       "      <td>9.997434e-01</td>\n",
       "      <td>2</td>\n",
       "    </tr>\n",
       "    <tr>\n",
       "      <th>...</th>\n",
       "      <td>...</td>\n",
       "      <td>...</td>\n",
       "      <td>...</td>\n",
       "      <td>...</td>\n",
       "      <td>...</td>\n",
       "      <td>...</td>\n",
       "      <td>...</td>\n",
       "      <td>...</td>\n",
       "      <td>...</td>\n",
       "      <td>...</td>\n",
       "      <td>...</td>\n",
       "    </tr>\n",
       "    <tr>\n",
       "      <th>26332</th>\n",
       "      <td>8.475993e-07</td>\n",
       "      <td>9.982687e-01</td>\n",
       "      <td>2.881717e-07</td>\n",
       "      <td>1.730106e-03</td>\n",
       "      <td>8.013854e-08</td>\n",
       "      <td>9.047382e-07</td>\n",
       "      <td>9.980873e-01</td>\n",
       "      <td>3.099606e-07</td>\n",
       "      <td>1.911314e-03</td>\n",
       "      <td>6.628071e-08</td>\n",
       "      <td>1</td>\n",
       "    </tr>\n",
       "    <tr>\n",
       "      <th>26333</th>\n",
       "      <td>4.107651e-02</td>\n",
       "      <td>9.103698e-01</td>\n",
       "      <td>1.831035e-02</td>\n",
       "      <td>2.917714e-03</td>\n",
       "      <td>2.732570e-02</td>\n",
       "      <td>2.457832e-02</td>\n",
       "      <td>9.492393e-01</td>\n",
       "      <td>9.367346e-03</td>\n",
       "      <td>1.033589e-03</td>\n",
       "      <td>1.578141e-02</td>\n",
       "      <td>1</td>\n",
       "    </tr>\n",
       "    <tr>\n",
       "      <th>26334</th>\n",
       "      <td>3.930135e-09</td>\n",
       "      <td>1.206950e-05</td>\n",
       "      <td>3.702277e-11</td>\n",
       "      <td>9.999880e-01</td>\n",
       "      <td>3.137060e-13</td>\n",
       "      <td>6.578338e-09</td>\n",
       "      <td>1.752745e-05</td>\n",
       "      <td>4.747458e-11</td>\n",
       "      <td>9.999825e-01</td>\n",
       "      <td>7.934944e-13</td>\n",
       "      <td>3</td>\n",
       "    </tr>\n",
       "    <tr>\n",
       "      <th>26335</th>\n",
       "      <td>3.089139e-07</td>\n",
       "      <td>2.266481e-06</td>\n",
       "      <td>4.496734e-04</td>\n",
       "      <td>9.995383e-01</td>\n",
       "      <td>9.492393e-06</td>\n",
       "      <td>1.146029e-07</td>\n",
       "      <td>8.421153e-07</td>\n",
       "      <td>5.965448e-04</td>\n",
       "      <td>9.994010e-01</td>\n",
       "      <td>1.521211e-06</td>\n",
       "      <td>3</td>\n",
       "    </tr>\n",
       "    <tr>\n",
       "      <th>26336</th>\n",
       "      <td>9.672021e-01</td>\n",
       "      <td>1.329952e-02</td>\n",
       "      <td>1.230133e-03</td>\n",
       "      <td>5.429258e-05</td>\n",
       "      <td>1.821390e-02</td>\n",
       "      <td>9.656506e-01</td>\n",
       "      <td>1.646547e-02</td>\n",
       "      <td>1.371837e-03</td>\n",
       "      <td>6.390436e-05</td>\n",
       "      <td>1.644809e-02</td>\n",
       "      <td>0</td>\n",
       "    </tr>\n",
       "  </tbody>\n",
       "</table>\n",
       "<p>26337 rows × 11 columns</p>\n",
       "</div>"
      ],
      "text/plain": [
       "                  0             1             2             3             4  \\\n",
       "0      3.826102e-15  4.340454e-16  5.234761e-11  1.000000e+00  4.762953e-14   \n",
       "1      9.538939e-01  1.037140e-02  1.156314e-06  8.508536e-07  3.573275e-02   \n",
       "2      4.627016e-18  1.426970e-14  1.898384e-14  1.000000e+00  4.604767e-15   \n",
       "3      4.606794e-07  1.124587e-05  1.638323e-02  9.827052e-01  8.998843e-04   \n",
       "4      6.382671e-06  1.690052e-05  4.985041e-04  1.611800e-05  9.994621e-01   \n",
       "...             ...           ...           ...           ...           ...   \n",
       "26332  8.475993e-07  9.982687e-01  2.881717e-07  1.730106e-03  8.013854e-08   \n",
       "26333  4.107651e-02  9.103698e-01  1.831035e-02  2.917714e-03  2.732570e-02   \n",
       "26334  3.930135e-09  1.206950e-05  3.702277e-11  9.999880e-01  3.137060e-13   \n",
       "26335  3.089139e-07  2.266481e-06  4.496734e-04  9.995383e-01  9.492393e-06   \n",
       "26336  9.672021e-01  1.329952e-02  1.230133e-03  5.429258e-05  1.821390e-02   \n",
       "\n",
       "                  5             6             7             8             9  \\\n",
       "0      1.522047e-14  9.014521e-16  1.139739e-09  1.000000e+00  3.116005e-13   \n",
       "1      9.599438e-01  7.439279e-03  1.127475e-06  8.668555e-07  3.261490e-02   \n",
       "2      3.705072e-17  5.054389e-14  2.114423e-13  1.000000e+00  2.999360e-14   \n",
       "3      3.833728e-07  9.185316e-06  1.194510e-02  9.875053e-01  5.400496e-04   \n",
       "4      4.209951e-06  7.615774e-06  2.362547e-04  8.609924e-06  9.997434e-01   \n",
       "...             ...           ...           ...           ...           ...   \n",
       "26332  9.047382e-07  9.980873e-01  3.099606e-07  1.911314e-03  6.628071e-08   \n",
       "26333  2.457832e-02  9.492393e-01  9.367346e-03  1.033589e-03  1.578141e-02   \n",
       "26334  6.578338e-09  1.752745e-05  4.747458e-11  9.999825e-01  7.934944e-13   \n",
       "26335  1.146029e-07  8.421153e-07  5.965448e-04  9.994010e-01  1.521211e-06   \n",
       "26336  9.656506e-01  1.646547e-02  1.371837e-03  6.390436e-05  1.644809e-02   \n",
       "\n",
       "       label  \n",
       "0          3  \n",
       "1          4  \n",
       "2          3  \n",
       "3          3  \n",
       "4          2  \n",
       "...      ...  \n",
       "26332      1  \n",
       "26333      1  \n",
       "26334      3  \n",
       "26335      3  \n",
       "26336      0  \n",
       "\n",
       "[26337 rows x 11 columns]"
      ]
     },
     "execution_count": 8,
     "metadata": {},
     "output_type": "execute_result"
    }
   ],
   "source": [
    "oof_B3ns = pd.read_csv('../input/041-create-oof-efficientnet-b3ns-data/oof_df_0.csv')\n",
    "oof_se = pd.read_csv('../input/nb023-data/oof_df.csv')\n",
    "\n",
    "oof_B3ns_ = oof_B3ns[['0', '1', '2', '3', '4']]\n",
    "oof_se_ = oof_se[['0', '1', '2', '3', '4']]\n",
    "oof_se_.columns = ['5', '6', '7', '8', '9']\n",
    "\n",
    "train = pd.concat([oof_B3ns_, oof_se_, oof_se[['label']]], axis=1)\n",
    "train"
   ]
  },
  {
   "cell_type": "code",
   "execution_count": 9,
   "metadata": {
    "execution": {
     "iopub.execute_input": "2021-02-17T12:23:53.693020Z",
     "iopub.status.busy": "2021-02-17T12:23:53.692258Z",
     "iopub.status.idle": "2021-02-17T12:23:53.731733Z",
     "shell.execute_reply": "2021-02-17T12:23:53.732480Z"
    },
    "papermill": {
     "duration": 0.064743,
     "end_time": "2021-02-17T12:23:53.732710",
     "exception": false,
     "start_time": "2021-02-17T12:23:53.667967",
     "status": "completed"
    },
    "tags": []
   },
   "outputs": [
    {
     "name": "stdout",
     "output_type": "stream",
     "text": [
      "fold  label\n",
      "0     0         299\n",
      "      1         695\n",
      "      2         603\n",
      "      3        3093\n",
      "      4         578\n",
      "1     0         299\n",
      "      1         695\n",
      "      2         603\n",
      "      3        3093\n",
      "      4         578\n",
      "2     0         298\n",
      "      1         695\n",
      "      2         604\n",
      "      3        3092\n",
      "      4         578\n",
      "3     0         298\n",
      "      1         695\n",
      "      2         604\n",
      "      3        3092\n",
      "      4         578\n",
      "4     0         298\n",
      "      1         696\n",
      "      2         603\n",
      "      3        3092\n",
      "      4         578\n",
      "dtype: int64\n"
     ]
    }
   ],
   "source": [
    "folds = train.copy()\n",
    "Fold = StratifiedKFold(n_splits=CFG.n_fold, shuffle=True, random_state=CFG.seed)\n",
    "for n, (train_index, val_index) in enumerate(Fold.split(folds, folds[CFG.target_col])):\n",
    "    folds.loc[val_index, 'fold'] = int(n)\n",
    "folds['fold'] = folds['fold'].astype(int)\n",
    "print(folds.groupby(['fold', CFG.target_col]).size())"
   ]
  },
  {
   "cell_type": "code",
   "execution_count": 10,
   "metadata": {
    "execution": {
     "iopub.execute_input": "2021-02-17T12:23:53.792812Z",
     "iopub.status.busy": "2021-02-17T12:23:53.792150Z",
     "iopub.status.idle": "2021-02-17T12:23:53.805943Z",
     "shell.execute_reply": "2021-02-17T12:23:53.805306Z"
    },
    "papermill": {
     "duration": 0.0499,
     "end_time": "2021-02-17T12:23:53.806123",
     "exception": false,
     "start_time": "2021-02-17T12:23:53.756223",
     "status": "completed"
    },
    "tags": []
   },
   "outputs": [
    {
     "data": {
      "text/html": [
       "<div>\n",
       "<style scoped>\n",
       "    .dataframe tbody tr th:only-of-type {\n",
       "        vertical-align: middle;\n",
       "    }\n",
       "\n",
       "    .dataframe tbody tr th {\n",
       "        vertical-align: top;\n",
       "    }\n",
       "\n",
       "    .dataframe thead th {\n",
       "        text-align: right;\n",
       "    }\n",
       "</style>\n",
       "<table border=\"1\" class=\"dataframe\">\n",
       "  <thead>\n",
       "    <tr style=\"text-align: right;\">\n",
       "      <th></th>\n",
       "      <th>0</th>\n",
       "      <th>1</th>\n",
       "      <th>2</th>\n",
       "      <th>3</th>\n",
       "      <th>4</th>\n",
       "      <th>5</th>\n",
       "      <th>6</th>\n",
       "      <th>7</th>\n",
       "      <th>8</th>\n",
       "      <th>9</th>\n",
       "      <th>label</th>\n",
       "      <th>fold</th>\n",
       "    </tr>\n",
       "  </thead>\n",
       "  <tbody>\n",
       "    <tr>\n",
       "      <th>0</th>\n",
       "      <td>3.826102e-15</td>\n",
       "      <td>4.340454e-16</td>\n",
       "      <td>5.234761e-11</td>\n",
       "      <td>1.000000e+00</td>\n",
       "      <td>4.762953e-14</td>\n",
       "      <td>1.522047e-14</td>\n",
       "      <td>9.014521e-16</td>\n",
       "      <td>1.139739e-09</td>\n",
       "      <td>1.000000e+00</td>\n",
       "      <td>3.116005e-13</td>\n",
       "      <td>3</td>\n",
       "      <td>0</td>\n",
       "    </tr>\n",
       "    <tr>\n",
       "      <th>1</th>\n",
       "      <td>9.538939e-01</td>\n",
       "      <td>1.037140e-02</td>\n",
       "      <td>1.156314e-06</td>\n",
       "      <td>8.508536e-07</td>\n",
       "      <td>3.573275e-02</td>\n",
       "      <td>9.599438e-01</td>\n",
       "      <td>7.439279e-03</td>\n",
       "      <td>1.127475e-06</td>\n",
       "      <td>8.668555e-07</td>\n",
       "      <td>3.261490e-02</td>\n",
       "      <td>4</td>\n",
       "      <td>2</td>\n",
       "    </tr>\n",
       "    <tr>\n",
       "      <th>2</th>\n",
       "      <td>4.627016e-18</td>\n",
       "      <td>1.426970e-14</td>\n",
       "      <td>1.898384e-14</td>\n",
       "      <td>1.000000e+00</td>\n",
       "      <td>4.604767e-15</td>\n",
       "      <td>3.705072e-17</td>\n",
       "      <td>5.054389e-14</td>\n",
       "      <td>2.114423e-13</td>\n",
       "      <td>1.000000e+00</td>\n",
       "      <td>2.999360e-14</td>\n",
       "      <td>3</td>\n",
       "      <td>2</td>\n",
       "    </tr>\n",
       "    <tr>\n",
       "      <th>3</th>\n",
       "      <td>4.606794e-07</td>\n",
       "      <td>1.124587e-05</td>\n",
       "      <td>1.638323e-02</td>\n",
       "      <td>9.827052e-01</td>\n",
       "      <td>8.998843e-04</td>\n",
       "      <td>3.833728e-07</td>\n",
       "      <td>9.185316e-06</td>\n",
       "      <td>1.194510e-02</td>\n",
       "      <td>9.875053e-01</td>\n",
       "      <td>5.400496e-04</td>\n",
       "      <td>3</td>\n",
       "      <td>2</td>\n",
       "    </tr>\n",
       "    <tr>\n",
       "      <th>4</th>\n",
       "      <td>6.382671e-06</td>\n",
       "      <td>1.690052e-05</td>\n",
       "      <td>4.985041e-04</td>\n",
       "      <td>1.611800e-05</td>\n",
       "      <td>9.994621e-01</td>\n",
       "      <td>4.209951e-06</td>\n",
       "      <td>7.615774e-06</td>\n",
       "      <td>2.362547e-04</td>\n",
       "      <td>8.609924e-06</td>\n",
       "      <td>9.997434e-01</td>\n",
       "      <td>2</td>\n",
       "      <td>2</td>\n",
       "    </tr>\n",
       "    <tr>\n",
       "      <th>...</th>\n",
       "      <td>...</td>\n",
       "      <td>...</td>\n",
       "      <td>...</td>\n",
       "      <td>...</td>\n",
       "      <td>...</td>\n",
       "      <td>...</td>\n",
       "      <td>...</td>\n",
       "      <td>...</td>\n",
       "      <td>...</td>\n",
       "      <td>...</td>\n",
       "      <td>...</td>\n",
       "      <td>...</td>\n",
       "    </tr>\n",
       "    <tr>\n",
       "      <th>26332</th>\n",
       "      <td>8.475993e-07</td>\n",
       "      <td>9.982687e-01</td>\n",
       "      <td>2.881717e-07</td>\n",
       "      <td>1.730106e-03</td>\n",
       "      <td>8.013854e-08</td>\n",
       "      <td>9.047382e-07</td>\n",
       "      <td>9.980873e-01</td>\n",
       "      <td>3.099606e-07</td>\n",
       "      <td>1.911314e-03</td>\n",
       "      <td>6.628071e-08</td>\n",
       "      <td>1</td>\n",
       "      <td>4</td>\n",
       "    </tr>\n",
       "    <tr>\n",
       "      <th>26333</th>\n",
       "      <td>4.107651e-02</td>\n",
       "      <td>9.103698e-01</td>\n",
       "      <td>1.831035e-02</td>\n",
       "      <td>2.917714e-03</td>\n",
       "      <td>2.732570e-02</td>\n",
       "      <td>2.457832e-02</td>\n",
       "      <td>9.492393e-01</td>\n",
       "      <td>9.367346e-03</td>\n",
       "      <td>1.033589e-03</td>\n",
       "      <td>1.578141e-02</td>\n",
       "      <td>1</td>\n",
       "      <td>3</td>\n",
       "    </tr>\n",
       "    <tr>\n",
       "      <th>26334</th>\n",
       "      <td>3.930135e-09</td>\n",
       "      <td>1.206950e-05</td>\n",
       "      <td>3.702277e-11</td>\n",
       "      <td>9.999880e-01</td>\n",
       "      <td>3.137060e-13</td>\n",
       "      <td>6.578338e-09</td>\n",
       "      <td>1.752745e-05</td>\n",
       "      <td>4.747458e-11</td>\n",
       "      <td>9.999825e-01</td>\n",
       "      <td>7.934944e-13</td>\n",
       "      <td>3</td>\n",
       "      <td>0</td>\n",
       "    </tr>\n",
       "    <tr>\n",
       "      <th>26335</th>\n",
       "      <td>3.089139e-07</td>\n",
       "      <td>2.266481e-06</td>\n",
       "      <td>4.496734e-04</td>\n",
       "      <td>9.995383e-01</td>\n",
       "      <td>9.492393e-06</td>\n",
       "      <td>1.146029e-07</td>\n",
       "      <td>8.421153e-07</td>\n",
       "      <td>5.965448e-04</td>\n",
       "      <td>9.994010e-01</td>\n",
       "      <td>1.521211e-06</td>\n",
       "      <td>3</td>\n",
       "      <td>2</td>\n",
       "    </tr>\n",
       "    <tr>\n",
       "      <th>26336</th>\n",
       "      <td>9.672021e-01</td>\n",
       "      <td>1.329952e-02</td>\n",
       "      <td>1.230133e-03</td>\n",
       "      <td>5.429258e-05</td>\n",
       "      <td>1.821390e-02</td>\n",
       "      <td>9.656506e-01</td>\n",
       "      <td>1.646547e-02</td>\n",
       "      <td>1.371837e-03</td>\n",
       "      <td>6.390436e-05</td>\n",
       "      <td>1.644809e-02</td>\n",
       "      <td>0</td>\n",
       "      <td>4</td>\n",
       "    </tr>\n",
       "  </tbody>\n",
       "</table>\n",
       "<p>26337 rows × 12 columns</p>\n",
       "</div>"
      ],
      "text/plain": [
       "                  0             1             2             3             4  \\\n",
       "0      3.826102e-15  4.340454e-16  5.234761e-11  1.000000e+00  4.762953e-14   \n",
       "1      9.538939e-01  1.037140e-02  1.156314e-06  8.508536e-07  3.573275e-02   \n",
       "2      4.627016e-18  1.426970e-14  1.898384e-14  1.000000e+00  4.604767e-15   \n",
       "3      4.606794e-07  1.124587e-05  1.638323e-02  9.827052e-01  8.998843e-04   \n",
       "4      6.382671e-06  1.690052e-05  4.985041e-04  1.611800e-05  9.994621e-01   \n",
       "...             ...           ...           ...           ...           ...   \n",
       "26332  8.475993e-07  9.982687e-01  2.881717e-07  1.730106e-03  8.013854e-08   \n",
       "26333  4.107651e-02  9.103698e-01  1.831035e-02  2.917714e-03  2.732570e-02   \n",
       "26334  3.930135e-09  1.206950e-05  3.702277e-11  9.999880e-01  3.137060e-13   \n",
       "26335  3.089139e-07  2.266481e-06  4.496734e-04  9.995383e-01  9.492393e-06   \n",
       "26336  9.672021e-01  1.329952e-02  1.230133e-03  5.429258e-05  1.821390e-02   \n",
       "\n",
       "                  5             6             7             8             9  \\\n",
       "0      1.522047e-14  9.014521e-16  1.139739e-09  1.000000e+00  3.116005e-13   \n",
       "1      9.599438e-01  7.439279e-03  1.127475e-06  8.668555e-07  3.261490e-02   \n",
       "2      3.705072e-17  5.054389e-14  2.114423e-13  1.000000e+00  2.999360e-14   \n",
       "3      3.833728e-07  9.185316e-06  1.194510e-02  9.875053e-01  5.400496e-04   \n",
       "4      4.209951e-06  7.615774e-06  2.362547e-04  8.609924e-06  9.997434e-01   \n",
       "...             ...           ...           ...           ...           ...   \n",
       "26332  9.047382e-07  9.980873e-01  3.099606e-07  1.911314e-03  6.628071e-08   \n",
       "26333  2.457832e-02  9.492393e-01  9.367346e-03  1.033589e-03  1.578141e-02   \n",
       "26334  6.578338e-09  1.752745e-05  4.747458e-11  9.999825e-01  7.934944e-13   \n",
       "26335  1.146029e-07  8.421153e-07  5.965448e-04  9.994010e-01  1.521211e-06   \n",
       "26336  9.656506e-01  1.646547e-02  1.371837e-03  6.390436e-05  1.644809e-02   \n",
       "\n",
       "       label  fold  \n",
       "0          3     0  \n",
       "1          4     2  \n",
       "2          3     2  \n",
       "3          3     2  \n",
       "4          2     2  \n",
       "...      ...   ...  \n",
       "26332      1     4  \n",
       "26333      1     3  \n",
       "26334      3     0  \n",
       "26335      3     2  \n",
       "26336      0     4  \n",
       "\n",
       "[26337 rows x 12 columns]"
      ]
     },
     "execution_count": 10,
     "metadata": {},
     "output_type": "execute_result"
    }
   ],
   "source": [
    "folds"
   ]
  },
  {
   "cell_type": "code",
   "execution_count": 11,
   "metadata": {
    "execution": {
     "iopub.execute_input": "2021-02-17T12:23:53.855864Z",
     "iopub.status.busy": "2021-02-17T12:23:53.855207Z",
     "iopub.status.idle": "2021-02-17T12:23:53.863611Z",
     "shell.execute_reply": "2021-02-17T12:23:53.862975Z"
    },
    "papermill": {
     "duration": 0.034236,
     "end_time": "2021-02-17T12:23:53.863720",
     "exception": false,
     "start_time": "2021-02-17T12:23:53.829484",
     "status": "completed"
    },
    "tags": []
   },
   "outputs": [
    {
     "name": "stdout",
     "output_type": "stream",
     "text": [
      "(26337, 5, 2)\n"
     ]
    }
   ],
   "source": [
    "train = np.stack([df.values for df in [oof_B3ns_, oof_se_]], axis=2)\n",
    "print(train.shape)"
   ]
  },
  {
   "cell_type": "markdown",
   "metadata": {
    "papermill": {
     "duration": 0.023297,
     "end_time": "2021-02-17T12:23:53.910441",
     "exception": false,
     "start_time": "2021-02-17T12:23:53.887144",
     "status": "completed"
    },
    "tags": []
   },
   "source": [
    "## Dataset"
   ]
  },
  {
   "cell_type": "code",
   "execution_count": 12,
   "metadata": {
    "execution": {
     "iopub.execute_input": "2021-02-17T12:23:53.962360Z",
     "iopub.status.busy": "2021-02-17T12:23:53.961501Z",
     "iopub.status.idle": "2021-02-17T12:23:53.980200Z",
     "shell.execute_reply": "2021-02-17T12:23:53.980791Z"
    },
    "papermill": {
     "duration": 0.047043,
     "end_time": "2021-02-17T12:23:53.980946",
     "exception": false,
     "start_time": "2021-02-17T12:23:53.933903",
     "status": "completed"
    },
    "tags": []
   },
   "outputs": [],
   "source": [
    "class TrainDataset(Dataset):\n",
    "    def __init__(self, df, transform=None):\n",
    "        self.df = df\n",
    "        self.file_names = df['image_id'].values\n",
    "        self.labels = df['label'].values\n",
    "        self.transform = transform\n",
    "    \n",
    "    def __len__(self):\n",
    "        return len(self.df)\n",
    "    \n",
    "    def __getitem__(self, idx):\n",
    "        file_name = self.file_names[idx]\n",
    "        file_path = f'{TRAIN_PATH}/{file_name}'\n",
    "        image = cv2.imread(file_path)\n",
    "        image = cv2.cvtColor(image, cv2.COLOR_BGR2RGB)\n",
    "        if self.transform:\n",
    "            augmented = self.transform(image=image)\n",
    "            image = augmented['image']\n",
    "        label = torch.tensor(self.labels[idx]).long()\n",
    "        return image, label\n",
    "    \n",
    "class StackingDataset(Dataset):\n",
    "    def __init__(self, X, y):\n",
    "        self.X = X\n",
    "        self.y = y\n",
    "    \n",
    "    def __len__(self):\n",
    "        return len(self.X)\n",
    "    \n",
    "    def __getitem__(self, idx):\n",
    "        X = torch.tensor(self.X[idx]).float()\n",
    "        y = torch.tensor(self.y[idx]).long()\n",
    "        return X, y\n",
    "    \n",
    "class TestDataset(Dataset):\n",
    "    def __init__(self, df, transform=None):\n",
    "        self.df = df\n",
    "        self.file_names = df['image_id'].values\n",
    "        self.transform = transform\n",
    "        \n",
    "    def __len__(self):\n",
    "        return len(self.df)\n",
    "    \n",
    "    def __getitem__(self, idx):\n",
    "        file_name = self.file_names[idx]\n",
    "        file_path = f'{TEST_PATH}/{file_name}'\n",
    "        image = cv2.imread(file_path)\n",
    "        image = cv2.cvtColor(image, cv2.COLOR_BGR2RGB)\n",
    "        if self.transform:\n",
    "            augmented = self.transform(image=image)\n",
    "            image = augmented['image']\n",
    "        return image"
   ]
  },
  {
   "cell_type": "code",
   "execution_count": 13,
   "metadata": {
    "execution": {
     "iopub.execute_input": "2021-02-17T12:23:54.033812Z",
     "iopub.status.busy": "2021-02-17T12:23:54.033089Z",
     "iopub.status.idle": "2021-02-17T12:23:54.068687Z",
     "shell.execute_reply": "2021-02-17T12:23:54.068048Z"
    },
    "papermill": {
     "duration": 0.063118,
     "end_time": "2021-02-17T12:23:54.068826",
     "exception": false,
     "start_time": "2021-02-17T12:23:54.005708",
     "status": "completed"
    },
    "tags": []
   },
   "outputs": [
    {
     "name": "stdout",
     "output_type": "stream",
     "text": [
      "torch.Size([5, 2])\n"
     ]
    }
   ],
   "source": [
    "train_dataset = StackingDataset(train, folds['label'])\n",
    "\n",
    "for i in range(1):\n",
    "    X, y = train_dataset[i]\n",
    "    print(X.size())"
   ]
  },
  {
   "cell_type": "markdown",
   "metadata": {
    "papermill": {
     "duration": 0.023492,
     "end_time": "2021-02-17T12:23:54.116732",
     "exception": false,
     "start_time": "2021-02-17T12:23:54.093240",
     "status": "completed"
    },
    "tags": []
   },
   "source": [
    "## Transforms"
   ]
  },
  {
   "cell_type": "code",
   "execution_count": 14,
   "metadata": {
    "execution": {
     "iopub.execute_input": "2021-02-17T12:23:54.168868Z",
     "iopub.status.busy": "2021-02-17T12:23:54.167865Z",
     "iopub.status.idle": "2021-02-17T12:23:54.177600Z",
     "shell.execute_reply": "2021-02-17T12:23:54.178140Z"
    },
    "papermill": {
     "duration": 0.037702,
     "end_time": "2021-02-17T12:23:54.178295",
     "exception": false,
     "start_time": "2021-02-17T12:23:54.140593",
     "status": "completed"
    },
    "tags": []
   },
   "outputs": [],
   "source": [
    "def get_transforms(*, data):\n",
    "    \n",
    "    if data == 'train':\n",
    "        return Compose([\n",
    "            RandomResizedCrop(CFG.size, CFG.size), \n",
    "            Transpose(p=0.5), \n",
    "            HorizontalFlip(p=0.5), \n",
    "            VerticalFlip(p=0.5), \n",
    "            ShiftScaleRotate(p=0.5), \n",
    "            Normalize(\n",
    "                mean=[0.485, 0.456, 0.406], \n",
    "                std=[0.229, 0.224, 0.225], \n",
    "            ), \n",
    "            ToTensorV2(),\n",
    "        ])\n",
    "    \n",
    "    elif data == 'valid':\n",
    "        return Compose([\n",
    "            Resize(CFG.size, CFG.size), \n",
    "            Normalize(\n",
    "                mean=[0.485, 0.456, 0.406], \n",
    "                std=[0.229, 0.224, 0.225], \n",
    "            ), \n",
    "            ToTensorV2(),\n",
    "        ])"
   ]
  },
  {
   "cell_type": "code",
   "execution_count": 15,
   "metadata": {
    "execution": {
     "iopub.execute_input": "2021-02-17T12:23:54.231036Z",
     "iopub.status.busy": "2021-02-17T12:23:54.230003Z",
     "iopub.status.idle": "2021-02-17T12:23:54.234087Z",
     "shell.execute_reply": "2021-02-17T12:23:54.234643Z"
    },
    "papermill": {
     "duration": 0.032179,
     "end_time": "2021-02-17T12:23:54.234816",
     "exception": false,
     "start_time": "2021-02-17T12:23:54.202637",
     "status": "completed"
    },
    "tags": []
   },
   "outputs": [],
   "source": [
    "# train_dataset = StackingDataset(train, transform=get_transforms(data='train'))\n",
    "\n",
    "# for i in range(1):\n",
    "#     image, label = train_dataset[i]\n",
    "#     plt.imshow(image[0])\n",
    "#     plt.title(f'label: {label}')\n",
    "#     plt.show()"
   ]
  },
  {
   "cell_type": "markdown",
   "metadata": {
    "papermill": {
     "duration": 0.024172,
     "end_time": "2021-02-17T12:23:54.284120",
     "exception": false,
     "start_time": "2021-02-17T12:23:54.259948",
     "status": "completed"
    },
    "tags": []
   },
   "source": [
    "## MODEL"
   ]
  },
  {
   "cell_type": "code",
   "execution_count": 16,
   "metadata": {
    "execution": {
     "iopub.execute_input": "2021-02-17T12:23:54.336404Z",
     "iopub.status.busy": "2021-02-17T12:23:54.335373Z",
     "iopub.status.idle": "2021-02-17T12:23:54.344497Z",
     "shell.execute_reply": "2021-02-17T12:23:54.343789Z"
    },
    "papermill": {
     "duration": 0.03648,
     "end_time": "2021-02-17T12:23:54.344622",
     "exception": false,
     "start_time": "2021-02-17T12:23:54.308142",
     "status": "completed"
    },
    "tags": []
   },
   "outputs": [],
   "source": [
    "class CustomResNext(nn.Module):\n",
    "    def __init__(self, model_name='resnext50_32x4d', pretrained=False):\n",
    "        super().__init__()\n",
    "        self.model = timm.create_model(model_name, pretrained=pretrained)\n",
    "        n_features = self.model.fc.in_features\n",
    "        self.model.fc = nn.Linear(n_features, CFG.target_size)\n",
    "        \n",
    "    def forward(self, x):\n",
    "        x = self.model(x)\n",
    "        return x"
   ]
  },
  {
   "cell_type": "code",
   "execution_count": 17,
   "metadata": {
    "execution": {
     "iopub.execute_input": "2021-02-17T12:23:54.406251Z",
     "iopub.status.busy": "2021-02-17T12:23:54.405202Z",
     "iopub.status.idle": "2021-02-17T12:23:54.408484Z",
     "shell.execute_reply": "2021-02-17T12:23:54.407847Z"
    },
    "papermill": {
     "duration": 0.039656,
     "end_time": "2021-02-17T12:23:54.408609",
     "exception": false,
     "start_time": "2021-02-17T12:23:54.368953",
     "status": "completed"
    },
    "tags": []
   },
   "outputs": [],
   "source": [
    "class StackingModel(nn.Module):\n",
    "    def __init__(self, num_features, num_targets, dropout_ratio):\n",
    "        super(StackingModel, self).__init__()\n",
    "        \n",
    "        self.conv1d_1 = nn.Conv1d(in_channels=num_features, \n",
    "                                  out_channels=10, \n",
    "                                  kernel_size=2, \n",
    "                                  stride=1, \n",
    "                                  padding=0)\n",
    "        self.relu_1 = nn.ReLU()\n",
    "        \n",
    "        self.linear_2 = nn.Linear(10, 16)\n",
    "        self.relu_2 = nn.ReLU()\n",
    "        self.dropout_2 = nn.Dropout(dropout_ratio)\n",
    "        \n",
    "        self.linear_3 = nn.Linear(16, num_targets)\n",
    "        \n",
    "    def forward(self, x, batch_size):\n",
    "        x = self.conv1d_1(x)\n",
    "        x = self.relu_1(x)\n",
    "        x = torch.reshape(x, (batch_size, -1))\n",
    "        \n",
    "        x = self.linear_2(x)\n",
    "        x = self.relu_2(x)\n",
    "        x = self.dropout_2(x)\n",
    "        \n",
    "        x = self.linear_3(x)\n",
    "        \n",
    "        return x"
   ]
  },
  {
   "cell_type": "code",
   "execution_count": 18,
   "metadata": {
    "execution": {
     "iopub.execute_input": "2021-02-17T12:23:54.473514Z",
     "iopub.status.busy": "2021-02-17T12:23:54.472674Z",
     "iopub.status.idle": "2021-02-17T12:23:54.681803Z",
     "shell.execute_reply": "2021-02-17T12:23:54.680605Z"
    },
    "papermill": {
     "duration": 0.248976,
     "end_time": "2021-02-17T12:23:54.681935",
     "exception": false,
     "start_time": "2021-02-17T12:23:54.432959",
     "status": "completed"
    },
    "tags": []
   },
   "outputs": [
    {
     "name": "stdout",
     "output_type": "stream",
     "text": [
      "torch.Size([256, 5, 2])\n",
      "torch.Size([256, 5])\n"
     ]
    }
   ],
   "source": [
    "model = StackingModel(num_features=CFG.target_size, num_targets=CFG.target_size, dropout_ratio=0.2)\n",
    "train_dataset = StackingDataset(train, folds['label'])\n",
    "train_loader = DataLoader(train_dataset, batch_size=CFG.batch_size, shuffle=True, \n",
    "                          num_workers=4, pin_memory=True, drop_last=True)\n",
    "\n",
    "for X, y in train_loader:\n",
    "    print(X.size())\n",
    "    output = model(X, CFG.batch_size)\n",
    "    print(output.size())\n",
    "    break"
   ]
  },
  {
   "cell_type": "code",
   "execution_count": 19,
   "metadata": {
    "execution": {
     "iopub.execute_input": "2021-02-17T12:23:54.776695Z",
     "iopub.status.busy": "2021-02-17T12:23:54.753156Z",
     "iopub.status.idle": "2021-02-17T12:23:54.781657Z",
     "shell.execute_reply": "2021-02-17T12:23:54.781087Z"
    },
    "papermill": {
     "duration": 0.074486,
     "end_time": "2021-02-17T12:23:54.781787",
     "exception": false,
     "start_time": "2021-02-17T12:23:54.707301",
     "status": "completed"
    },
    "tags": []
   },
   "outputs": [],
   "source": [
    "class AverageMeter(object):\n",
    "    \"\"\"Computes and stores the average and current value\"\"\"\n",
    "    def __init__(self):\n",
    "        self.reset()\n",
    "        \n",
    "    def reset(self):\n",
    "        self.val = 0\n",
    "        self.avg = 0\n",
    "        self.sum = 0\n",
    "        self.count = 0\n",
    "        \n",
    "    def update(self, val, n=1):\n",
    "        self.val = val\n",
    "        self.sum += val * n\n",
    "        self.count += n\n",
    "        self.avg = self.sum / self.count\n",
    "        \n",
    "def asMinutes(s):\n",
    "    \"\"\"秒を分に変換する関数\"\"\"\n",
    "    m = math.floor(s / 60)\n",
    "    s -= m * 60\n",
    "    return '%dm %ds' % (m, s)\n",
    "\n",
    "def timeSince(since, percent):\n",
    "    \"\"\"経過時間の測定と終了時間の予測を行う関数\n",
    "    Parameters\n",
    "    ----------\n",
    "    since : float\n",
    "        実験を始めた時刻\n",
    "    percent : float\n",
    "        実験が進んだ割合\n",
    "        \n",
    "    Returns\n",
    "    -------\n",
    "    s : 経過時間\n",
    "    re : 終了までの時間の予測\n",
    "    \"\"\"\n",
    "    now = time.time()\n",
    "    s = now - since  # 経過時間の測定\n",
    "    es = s / percent  # 終了時間の予測\n",
    "    re = es - s  # 残り時間の予想\n",
    "    return '%s (remain %s)' % (asMinutes(s), asMinutes(re))\n",
    "\n",
    "def train_fn(train_loader, model, criterion, optimizer, epoch, shechduler, device):\n",
    "    batch_time = AverageMeter()\n",
    "    data_time = AverageMeter()\n",
    "    losses = AverageMeter()\n",
    "    scores = AverageMeter()\n",
    "    # switch to train mode\n",
    "    model.train()\n",
    "    start = end = time.time()\n",
    "    global_step = 0\n",
    "    for step, (X, y) in enumerate(train_loader):\n",
    "        # measure data loading time\n",
    "        data_time.update(time.time() - end)\n",
    "        X = X.to(device)\n",
    "        y = y.to(device)\n",
    "        batch_size = y.size(0)\n",
    "        y_preds = model(X, batch_size)\n",
    "        loss = criterion(y_preds, y)\n",
    "        # record loss\n",
    "        losses.update(loss.item(), batch_size)\n",
    "        if CFG.gradient_accumulation_steps > 1:\n",
    "            loss = loss / CFG.gradient_accumulation_steps\n",
    "        if CFG.apex:\n",
    "            with amp.scale_loss(loss, optimizer) as scaled_loss:\n",
    "                scaled_loss.backward()\n",
    "        else: \n",
    "            loss.backward()\n",
    "        grad_norm = torch.nn.utils.clip_grad_norm_(model.parameters(), CFG.max_grad_norm)\n",
    "        if (step + 1) % CFG.gradient_accumulation_steps == 0:\n",
    "            optimizer.step()\n",
    "            optimizer.zero_grad()\n",
    "            global_step += 1\n",
    "        # measure elapsed time\n",
    "        batch_time.update(time.time() - end)\n",
    "        end = time.time()\n",
    "        if step % CFG.print_freq == 0 or step == (len(train_loader)-1):\n",
    "            print('Epoch: [{0}][{1}/{2}]'\n",
    "                  'Data {data_time.val:.3f} ({data_time.avg:.3f})'\n",
    "                  'Elapsed {remain:s}' \n",
    "                  'Loss: {loss.val:.4f}({loss.avg:.4f})' \n",
    "                  'Grad: {grad_norm:.4f}  '\n",
    "                  .format(epoch+1, step, len(train_loader), batch_time=batch_time, \n",
    "                          data_time=data_time, loss=losses, \n",
    "                          remain=timeSince(start, float(step+1)/len(train_loader)), \n",
    "                          grad_norm=grad_norm))\n",
    "    return losses.avg\n",
    "\n",
    "def valid_fn(valid_loader, model, criterion, device):\n",
    "    batch_time = AverageMeter()\n",
    "    data_time = AverageMeter()\n",
    "    losses = AverageMeter()\n",
    "    scores = AverageMeter()\n",
    "    # switch to evaluation mode\n",
    "    model.eval()\n",
    "    preds = []\n",
    "    start = end = time.time()\n",
    "    for step, (X, y) in enumerate(valid_loader):\n",
    "        # measure data loading time\n",
    "        data_time.update(time.time() - end)\n",
    "        X = X.to(device)\n",
    "        y = y.to(device)\n",
    "        batch_size = y.size(0)\n",
    "        # compute loss\n",
    "        with torch.no_grad():\n",
    "            y_preds = model(X, batch_size)\n",
    "        loss = criterion(y_preds, y)\n",
    "        losses.update(loss.item(), batch_size)\n",
    "        # record accuracy\n",
    "        preds.append(y_preds.softmax(1).to('cpu').numpy())\n",
    "        if CFG.gradient_accumulation_steps > 1:\n",
    "            loss = loss / CFG.gradient_accumulation_steps\n",
    "        # measure elapsed time\n",
    "        batch_time.update(time.time() - end)\n",
    "        end = time.time()\n",
    "        if step % CFG.print_freq == 0 or step == (len(valid_loader)-1):\n",
    "            print('EVAL: [{0}/{1}] '\n",
    "                  'Data {data_time.val:.3f} ({data_time.avg:.3f}) '\n",
    "                  'Elapsed {remain:s} '\n",
    "                  'Loss: {loss.val:.4f}({loss.avg:.4f}) '\n",
    "                  .format(\n",
    "                   step, len(valid_loader), batch_time=batch_time,\n",
    "                   data_time=data_time, loss=losses,\n",
    "                   remain=timeSince(start, float(step+1)/len(valid_loader)),\n",
    "                   ))\n",
    "            \n",
    "    predictions = np.concatenate(preds)\n",
    "    return losses.avg, predictions\n",
    "\n",
    "def inference(model, states, test_loader, device):\n",
    "    model.to(device)\n",
    "    tk0 = tqdm(enumerate(test_loader), total=len(test_loader))\n",
    "    probs = []\n",
    "    for i, (images) in tk0:\n",
    "        images = images.to(device)\n",
    "        avgpreds = []\n",
    "        for state in states:\n",
    "            model.load_state_dict(state['model'])\n",
    "            model.eval()\n",
    "            with torch.no_grad():\n",
    "                y_preds = model(images)\n",
    "            avg_preds.append(y_preds.softmax(1).to('cpu').numpy())\n",
    "        avg_preds = np.mean(avg_preds, axis=0)\n",
    "        probs.append(avg_preds)\n",
    "    probs = np.concatenate(probs)\n",
    "    return probs"
   ]
  },
  {
   "cell_type": "markdown",
   "metadata": {
    "papermill": {
     "duration": 0.02522,
     "end_time": "2021-02-17T12:23:54.832494",
     "exception": false,
     "start_time": "2021-02-17T12:23:54.807274",
     "status": "completed"
    },
    "tags": []
   },
   "source": [
    "## Train loop"
   ]
  },
  {
   "cell_type": "code",
   "execution_count": 20,
   "metadata": {
    "execution": {
     "iopub.execute_input": "2021-02-17T12:23:54.913929Z",
     "iopub.status.busy": "2021-02-17T12:23:54.887437Z",
     "iopub.status.idle": "2021-02-17T12:23:54.917045Z",
     "shell.execute_reply": "2021-02-17T12:23:54.916492Z"
    },
    "papermill": {
     "duration": 0.059171,
     "end_time": "2021-02-17T12:23:54.917169",
     "exception": false,
     "start_time": "2021-02-17T12:23:54.857998",
     "status": "completed"
    },
    "tags": []
   },
   "outputs": [],
   "source": [
    "# ======================================================\n",
    "# Train loop\n",
    "# ======================================================\n",
    "\n",
    "def train_loop(folds, fold):\n",
    "    \n",
    "    LOGGER.info(f'========== fold: {fold} training ============')\n",
    "    \n",
    "    # ======================================================\n",
    "    # loader\n",
    "    # ======================================================\n",
    "    trn_idx = folds[folds['fold'] != fold].index\n",
    "    val_idx = folds[folds['fold'] == fold].index\n",
    "    \n",
    "    train_folds = folds.loc[trn_idx].reset_index(drop=True)\n",
    "    valid_folds = folds.loc[val_idx].reset_index(drop=True)\n",
    "    \n",
    "    train_ = train[trn_idx]\n",
    "    valid_ = train[val_idx]\n",
    "    \n",
    "    train_dataset = StackingDataset(train_, train_folds['label'])\n",
    "    valid_dataset = StackingDataset(valid_, valid_folds['label'])\n",
    "    \n",
    "    train_loader = DataLoader(train_dataset, \n",
    "                              batch_size=CFG.batch_size, \n",
    "                              shuffle=True, \n",
    "                              num_workers=CFG.num_workers, \n",
    "                              pin_memory=True, \n",
    "                              drop_last=False)\n",
    "    valid_loader = DataLoader(valid_dataset, \n",
    "                              batch_size=CFG.batch_size, \n",
    "                              shuffle=False, \n",
    "                              num_workers=CFG.num_workers, \n",
    "                              pin_memory=True, \n",
    "                              drop_last=False)\n",
    "    \n",
    "    # ===============================================\n",
    "    # scheduler\n",
    "    # ===============================================\n",
    "    def get_scheduler(optimizer):\n",
    "        if CFG.scheduler=='ReduceLROnPlateau':\n",
    "            scheduler = ReduceLROnPlateau(optimizer, mode='min', factor=CFG.factor, patience=CFG.patience, verbose=True, eps=CFG.eps)\n",
    "        elif CFG.scheduler=='CosineAnnealingLR':\n",
    "            scheduler = CosineAnnealingLR(optimizer, T_max=CFG.T_max, eta_min=CFG.min_lr, last_epoch=-1)\n",
    "        elif CFG.scheduler=='CosineAnnealingWarmRestarts':\n",
    "            scheduler = CosineAnnealingWarmRestarts(optimizer, T_0=CFG.T_0, T_mult=1, eta_min=CFG.min_lr, last_epoch=-1)\n",
    "        return scheduler\n",
    "    \n",
    "    # ===============================================\n",
    "    # model & optimizer\n",
    "    # ===============================================\n",
    "    model = StackingModel(num_features=CFG.target_size, num_targets=CFG.target_size, dropout_ratio=0.5)\n",
    "    model.to(device)\n",
    "    \n",
    "    optimizer = Adam(model.parameters(), lr=CFG.lr, weight_decay=CFG.weight_decay, amsgrad=False)\n",
    "    scheduler = get_scheduler(optimizer)\n",
    "    \n",
    "    # ===============================================\n",
    "    # apex \n",
    "    # ===============================================\n",
    "    if CFG.apex:\n",
    "        model.optimizer = amp.initialize(model, optimizer, opt_level='O1', verbosity=0)\n",
    "        \n",
    "    # ===============================================\n",
    "    # loop\n",
    "    # ===============================================\n",
    "    criterion = nn.CrossEntropyLoss()\n",
    "    \n",
    "    best_score = 0.\n",
    "    best_loss = np.inf\n",
    "    \n",
    "    for epoch in range(CFG.epochs):\n",
    "        \n",
    "        start_time = time.time()\n",
    "        \n",
    "        # train\n",
    "        avg_loss = train_fn(train_loader, model, criterion, optimizer, epoch, scheduler, device)\n",
    "        \n",
    "        # eval\n",
    "        avg_val_loss, preds = valid_fn(valid_loader, model, criterion, device)\n",
    "        valid_labels = valid_folds[CFG.target_col].values\n",
    "        \n",
    "        if isinstance(scheduler, ReduceLROnPlateau):\n",
    "            scheduler.step(avg_val_loss)\n",
    "        elif isinstance(scheduler, CosineAnnealingLR):\n",
    "            scheduler.step()\n",
    "        elif isinstance(scheduler, CosineAnnealingWarmRestarts):\n",
    "            scheduler.step()\n",
    "        \n",
    "        # scoring\n",
    "        score = get_score(valid_labels, preds.argmax(1))\n",
    "        \n",
    "        elapsed = time.time() - start_time\n",
    "        \n",
    "        LOGGER.info(f'Epoch {epoch+1} - avg_train_loss: {avg_loss:.4f} avg_val_loss: {avg_val_loss:.4f} time: {elapsed:.0f}s')\n",
    "        LOGGER.info(f'Epoch {epoch+1} - Accuracy: {score}')\n",
    "        \n",
    "        if score > best_score:\n",
    "            best_score = score\n",
    "            LOGGER.info(f'Epoch {epoch+1} - Save Best Score: {best_score:.4f} Mpdel')\n",
    "            torch.save({'model': model.state_dict(), \n",
    "                        'preds': preds}, \n",
    "                        OUTPUT_DIR+f'{CFG.model_name}_fold{fold}_best.pth')\n",
    "    check_point = torch.load(OUTPUT_DIR+f'{CFG.model_name}_fold{fold}_best.pth')\n",
    "    valid_folds[[str(c) for c in range(5)]] = check_point['preds']\n",
    "    valid_folds['preds'] = check_point['preds'].argmax(1)\n",
    "    \n",
    "    return valid_folds"
   ]
  },
  {
   "cell_type": "code",
   "execution_count": 21,
   "metadata": {
    "execution": {
     "iopub.execute_input": "2021-02-17T12:23:54.983049Z",
     "iopub.status.busy": "2021-02-17T12:23:54.982281Z",
     "iopub.status.idle": "2021-02-17T12:23:54.985619Z",
     "shell.execute_reply": "2021-02-17T12:23:54.984987Z"
    },
    "papermill": {
     "duration": 0.043289,
     "end_time": "2021-02-17T12:23:54.985729",
     "exception": false,
     "start_time": "2021-02-17T12:23:54.942440",
     "status": "completed"
    },
    "tags": []
   },
   "outputs": [],
   "source": [
    "# ====================================================\n",
    "# main\n",
    "# ====================================================\n",
    "def main():\n",
    "    \n",
    "    \"\"\"\n",
    "    Prepare: 1.train 2.test 3.submission 4.folds\n",
    "    \"\"\"\n",
    "    \n",
    "    def get_result(result_df):\n",
    "        preds = result_df['preds'].values\n",
    "        labels = result_df[CFG.target_col].values\n",
    "        score = get_score(labels, preds)\n",
    "        LOGGER.info(f'Score: {score:<.5f}')\n",
    "        \n",
    "    if CFG.train:\n",
    "        # train\n",
    "        oof_df = pd.DataFrame()\n",
    "        for fold in range(CFG.n_fold):\n",
    "            if fold in CFG.trn_fold:\n",
    "                _oof_df = train_loop(folds, fold)\n",
    "                oof_df = pd.concat([oof_df, _oof_df])\n",
    "                LOGGER.info(f'=============== fold: {fold} result ================')\n",
    "                get_result(_oof_df)\n",
    "        # CV result\n",
    "        LOGGER.info(f'============ CV ============')\n",
    "        get_result(oof_df)\n",
    "        # save result\n",
    "        oof_df.to_csv(OUTPUT_DIR+'oof_df.csv', index=False)\n",
    "        \n",
    "    if CFG.inference:\n",
    "        # inference\n",
    "        model = CustomResNext(CFG.model_name, pretrained=False)\n",
    "        states = [torch.load(OUTPUT_DIR+f'{CFG.model_name}_fold{fold}_best.pth') for fold in CFG.trn_fold]\n",
    "        test_dataset = TestDataset(test, batch_size=CFG.batch_size, shuffle=False, pin_memory=True)\n",
    "        predictions = inference(model, states, test_loader, device)\n",
    "        # submission\n",
    "        test['label'] = predictions.argmax(1)\n",
    "        test[['image_id', 'label']].to_csv(OUTPUT_DIR+'submission.csv', index=False)"
   ]
  },
  {
   "cell_type": "code",
   "execution_count": 22,
   "metadata": {
    "execution": {
     "iopub.execute_input": "2021-02-17T12:23:55.047839Z",
     "iopub.status.busy": "2021-02-17T12:23:55.047167Z",
     "iopub.status.idle": "2021-02-17T12:26:40.202683Z",
     "shell.execute_reply": "2021-02-17T12:26:40.202012Z"
    },
    "papermill": {
     "duration": 165.190214,
     "end_time": "2021-02-17T12:26:40.202860",
     "exception": false,
     "start_time": "2021-02-17T12:23:55.012646",
     "status": "completed"
    },
    "tags": []
   },
   "outputs": [
    {
     "name": "stderr",
     "output_type": "stream",
     "text": [
      "========== fold: 0 training ============\n"
     ]
    },
    {
     "name": "stdout",
     "output_type": "stream",
     "text": [
      "Epoch: [1][0/83]Data 0.104 (0.104)Elapsed 0m 0s (remain 0m 13s)Loss: 1.6677(1.6677)Grad: 0.6472  \n",
      "Epoch: [1][82/83]Data 0.000 (0.004)Elapsed 0m 0s (remain 0m 0s)Loss: 1.4484(1.5518)Grad: 0.4470  \n",
      "EVAL: [0/21] Data 0.104 (0.104) Elapsed 0m 0s (remain 0m 2s) Loss: 1.4166(1.4166) \n"
     ]
    },
    {
     "name": "stderr",
     "output_type": "stream",
     "text": [
      "Epoch 1 - avg_train_loss: 1.5518 avg_val_loss: 1.4122 time: 1s\n",
      "Epoch 1 - Accuracy: 0.587129840546697\n",
      "Epoch 1 - Save Best Score: 0.5871 Mpdel\n"
     ]
    },
    {
     "name": "stdout",
     "output_type": "stream",
     "text": [
      "EVAL: [20/21] Data 0.000 (0.010) Elapsed 0m 0s (remain 0m 0s) Loss: 1.4758(1.4122) \n",
      "Epoch: [2][0/83]Data 0.102 (0.102)Elapsed 0m 0s (remain 0m 9s)Loss: 1.4004(1.4004)Grad: 0.5594  \n",
      "Epoch: [2][82/83]Data 0.000 (0.004)Elapsed 0m 0s (remain 0m 0s)Loss: 1.1552(1.2272)Grad: 0.3798  \n",
      "EVAL: [0/21] Data 0.112 (0.112) Elapsed 0m 0s (remain 0m 2s) Loss: 0.9383(0.9383) \n"
     ]
    },
    {
     "name": "stderr",
     "output_type": "stream",
     "text": [
      "Epoch 2 - avg_train_loss: 1.2272 avg_val_loss: 0.9474 time: 1s\n",
      "Epoch 2 - Accuracy: 0.6989369779802581\n",
      "Epoch 2 - Save Best Score: 0.6989 Mpdel\n"
     ]
    },
    {
     "name": "stdout",
     "output_type": "stream",
     "text": [
      "EVAL: [20/21] Data 0.000 (0.008) Elapsed 0m 0s (remain 0m 0s) Loss: 1.1013(0.9474) \n",
      "Epoch: [3][0/83]Data 0.105 (0.105)Elapsed 0m 0s (remain 0m 9s)Loss: 0.9572(0.9572)Grad: 0.5305  \n",
      "Epoch: [3][82/83]Data 0.002 (0.004)Elapsed 0m 0s (remain 0m 0s)Loss: 0.9829(0.8751)Grad: 0.2435  \n",
      "EVAL: [0/21] Data 0.103 (0.103) Elapsed 0m 0s (remain 0m 2s) Loss: 0.6471(0.6471) \n"
     ]
    },
    {
     "name": "stderr",
     "output_type": "stream",
     "text": [
      "Epoch 3 - avg_train_loss: 0.8751 avg_val_loss: 0.6691 time: 1s\n",
      "Epoch 3 - Accuracy: 0.80125284738041\n",
      "Epoch 3 - Save Best Score: 0.8013 Mpdel\n"
     ]
    },
    {
     "name": "stdout",
     "output_type": "stream",
     "text": [
      "EVAL: [20/21] Data 0.000 (0.009) Elapsed 0m 0s (remain 0m 0s) Loss: 0.8323(0.6691) \n",
      "Epoch: [4][0/83]Data 0.109 (0.109)Elapsed 0m 0s (remain 0m 9s)Loss: 0.7193(0.7193)Grad: 0.3486  \n",
      "Epoch: [4][82/83]Data 0.000 (0.004)Elapsed 0m 0s (remain 0m 0s)Loss: 0.6996(0.7457)Grad: 0.3133  \n",
      "EVAL: [0/21] Data 0.092 (0.092) Elapsed 0m 0s (remain 0m 1s) Loss: 0.5554(0.5554) \n"
     ]
    },
    {
     "name": "stderr",
     "output_type": "stream",
     "text": [
      "Epoch 4 - avg_train_loss: 0.7457 avg_val_loss: 0.5800 time: 1s\n",
      "Epoch 4 - Accuracy: 0.7854973424449506\n"
     ]
    },
    {
     "name": "stdout",
     "output_type": "stream",
     "text": [
      "EVAL: [20/21] Data 0.000 (0.008) Elapsed 0m 0s (remain 0m 0s) Loss: 0.7285(0.5800) \n",
      "Epoch: [5][0/83]Data 0.108 (0.108)Elapsed 0m 0s (remain 0m 9s)Loss: 0.6661(0.6661)Grad: 0.2013  \n",
      "Epoch: [5][82/83]Data 0.000 (0.004)Elapsed 0m 0s (remain 0m 0s)Loss: 0.6211(0.6976)Grad: 0.3102  \n",
      "EVAL: [0/21] Data 0.104 (0.104) Elapsed 0m 0s (remain 0m 2s) Loss: 0.5220(0.5220) \n"
     ]
    },
    {
     "name": "stderr",
     "output_type": "stream",
     "text": [
      "Epoch 5 - avg_train_loss: 0.6976 avg_val_loss: 0.5471 time: 1s\n",
      "Epoch 5 - Accuracy: 0.8082763857251328\n",
      "Epoch 5 - Save Best Score: 0.8083 Mpdel\n"
     ]
    },
    {
     "name": "stdout",
     "output_type": "stream",
     "text": [
      "EVAL: [20/21] Data 0.000 (0.007) Elapsed 0m 0s (remain 0m 0s) Loss: 0.6846(0.5471) \n",
      "Epoch: [6][0/83]Data 0.112 (0.112)Elapsed 0m 0s (remain 0m 9s)Loss: 0.7905(0.7905)Grad: 0.2081  \n",
      "Epoch: [6][82/83]Data 0.000 (0.004)Elapsed 0m 0s (remain 0m 0s)Loss: 0.6979(0.6781)Grad: 0.2305  \n",
      "EVAL: [0/21] Data 0.105 (0.105) Elapsed 0m 0s (remain 0m 2s) Loss: 0.5056(0.5056) \n"
     ]
    },
    {
     "name": "stderr",
     "output_type": "stream",
     "text": [
      "Epoch 6 - avg_train_loss: 0.6781 avg_val_loss: 0.5315 time: 1s\n",
      "Epoch 6 - Accuracy: 0.8120728929384966\n",
      "Epoch 6 - Save Best Score: 0.8121 Mpdel\n"
     ]
    },
    {
     "name": "stdout",
     "output_type": "stream",
     "text": [
      "EVAL: [20/21] Data 0.002 (0.008) Elapsed 0m 0s (remain 0m 0s) Loss: 0.6626(0.5315) \n",
      "Epoch: [7][0/83]Data 0.105 (0.105)Elapsed 0m 0s (remain 0m 9s)Loss: 0.7794(0.7794)Grad: 0.1842  \n",
      "Epoch: [7][82/83]Data 0.000 (0.004)Elapsed 0m 0s (remain 0m 0s)Loss: 0.6287(0.6628)Grad: 0.2834  \n",
      "EVAL: [0/21] Data 0.100 (0.100) Elapsed 0m 0s (remain 0m 2s) Loss: 0.4964(0.4964) \n"
     ]
    },
    {
     "name": "stderr",
     "output_type": "stream",
     "text": [
      "Epoch 7 - avg_train_loss: 0.6628 avg_val_loss: 0.5230 time: 1s\n",
      "Epoch 7 - Accuracy: 0.8154897494305239\n",
      "Epoch 7 - Save Best Score: 0.8155 Mpdel\n"
     ]
    },
    {
     "name": "stdout",
     "output_type": "stream",
     "text": [
      "EVAL: [20/21] Data 0.002 (0.008) Elapsed 0m 0s (remain 0m 0s) Loss: 0.6503(0.5230) \n",
      "Epoch: [8][0/83]Data 0.105 (0.105)Elapsed 0m 0s (remain 0m 9s)Loss: 0.7259(0.7259)Grad: 0.1513  \n",
      "Epoch: [8][82/83]Data 0.000 (0.004)Elapsed 0m 0s (remain 0m 0s)Loss: 0.5037(0.6607)Grad: 0.2452  \n",
      "EVAL: [0/21] Data 0.109 (0.109) Elapsed 0m 0s (remain 0m 2s) Loss: 0.4910(0.4910) \n"
     ]
    },
    {
     "name": "stderr",
     "output_type": "stream",
     "text": [
      "Epoch 8 - avg_train_loss: 0.6607 avg_val_loss: 0.5180 time: 1s\n",
      "Epoch 8 - Accuracy: 0.8232725892179195\n",
      "Epoch 8 - Save Best Score: 0.8233 Mpdel\n"
     ]
    },
    {
     "name": "stdout",
     "output_type": "stream",
     "text": [
      "EVAL: [20/21] Data 0.000 (0.008) Elapsed 0m 0s (remain 0m 0s) Loss: 0.6438(0.5180) \n",
      "Epoch: [9][0/83]Data 0.095 (0.095)Elapsed 0m 0s (remain 0m 8s)Loss: 0.6909(0.6909)Grad: 0.1406  \n",
      "Epoch: [9][82/83]Data 0.000 (0.004)Elapsed 0m 0s (remain 0m 0s)Loss: 0.7378(0.6579)Grad: 0.2231  \n",
      "EVAL: [0/21] Data 0.119 (0.119) Elapsed 0m 0s (remain 0m 2s) Loss: 0.4887(0.4887) \n"
     ]
    },
    {
     "name": "stderr",
     "output_type": "stream",
     "text": [
      "Epoch 9 - avg_train_loss: 0.6579 avg_val_loss: 0.5155 time: 1s\n",
      "Epoch 9 - Accuracy: 0.8984434320425209\n",
      "Epoch 9 - Save Best Score: 0.8984 Mpdel\n"
     ]
    },
    {
     "name": "stdout",
     "output_type": "stream",
     "text": [
      "EVAL: [20/21] Data 0.002 (0.008) Elapsed 0m 0s (remain 0m 0s) Loss: 0.6400(0.5155) \n",
      "Epoch: [10][0/83]Data 0.106 (0.106)Elapsed 0m 0s (remain 0m 9s)Loss: 0.6839(0.6839)Grad: 0.1459  \n",
      "Epoch: [10][82/83]Data 0.000 (0.004)Elapsed 0m 0s (remain 0m 0s)Loss: 0.5487(0.6559)Grad: 0.4389  \n",
      "EVAL: [0/21] Data 0.109 (0.109) Elapsed 0m 0s (remain 0m 2s) Loss: 0.4881(0.4881) \n"
     ]
    },
    {
     "name": "stderr",
     "output_type": "stream",
     "text": [
      "Epoch 10 - avg_train_loss: 0.6559 avg_val_loss: 0.5149 time: 1s\n",
      "Epoch 10 - Accuracy: 0.8990129081245254\n",
      "Epoch 10 - Save Best Score: 0.8990 Mpdel\n"
     ]
    },
    {
     "name": "stdout",
     "output_type": "stream",
     "text": [
      "EVAL: [20/21] Data 0.000 (0.008) Elapsed 0m 0s (remain 0m 0s) Loss: 0.6391(0.5149) \n",
      "Epoch: [11][0/83]Data 0.103 (0.103)Elapsed 0m 0s (remain 0m 9s)Loss: 0.6963(0.6963)Grad: 0.1747  \n",
      "Epoch: [11][82/83]Data 0.000 (0.004)Elapsed 0m 0s (remain 0m 0s)Loss: 0.7497(0.6432)Grad: 0.2566  \n",
      "EVAL: [0/21] Data 0.101 (0.101) Elapsed 0m 0s (remain 0m 2s) Loss: 0.4581(0.4581) \n"
     ]
    },
    {
     "name": "stderr",
     "output_type": "stream",
     "text": [
      "Epoch 11 - avg_train_loss: 0.6432 avg_val_loss: 0.4883 time: 1s\n",
      "Epoch 11 - Accuracy: 0.9005315110098709\n",
      "Epoch 11 - Save Best Score: 0.9005 Mpdel\n"
     ]
    },
    {
     "name": "stdout",
     "output_type": "stream",
     "text": [
      "EVAL: [20/21] Data 0.000 (0.008) Elapsed 0m 0s (remain 0m 0s) Loss: 0.6027(0.4883) \n",
      "Epoch: [12][0/83]Data 0.098 (0.098)Elapsed 0m 0s (remain 0m 8s)Loss: 0.5965(0.5965)Grad: 0.1616  \n",
      "Epoch: [12][82/83]Data 0.000 (0.004)Elapsed 0m 0s (remain 0m 0s)Loss: 0.6513(0.6266)Grad: 0.3213  \n",
      "EVAL: [0/21] Data 0.112 (0.112) Elapsed 0m 0s (remain 0m 2s) Loss: 0.4244(0.4244) \n"
     ]
    },
    {
     "name": "stderr",
     "output_type": "stream",
     "text": [
      "Epoch 12 - avg_train_loss: 0.6266 avg_val_loss: 0.4594 time: 1s\n",
      "Epoch 12 - Accuracy: 0.9012908124525436\n",
      "Epoch 12 - Save Best Score: 0.9013 Mpdel\n"
     ]
    },
    {
     "name": "stdout",
     "output_type": "stream",
     "text": [
      "EVAL: [20/21] Data 0.002 (0.009) Elapsed 0m 0s (remain 0m 0s) Loss: 0.5636(0.4594) \n",
      "Epoch: [13][0/83]Data 0.113 (0.113)Elapsed 0m 0s (remain 0m 9s)Loss: 0.7534(0.7534)Grad: 0.2824  \n",
      "Epoch: [13][82/83]Data 0.000 (0.004)Elapsed 0m 0s (remain 0m 0s)Loss: 0.5982(0.6101)Grad: 0.3599  \n",
      "EVAL: [0/21] Data 0.112 (0.112) Elapsed 0m 0s (remain 0m 2s) Loss: 0.3996(0.3996) \n"
     ]
    },
    {
     "name": "stderr",
     "output_type": "stream",
     "text": [
      "Epoch 13 - avg_train_loss: 0.6101 avg_val_loss: 0.4399 time: 1s\n",
      "Epoch 13 - Accuracy: 0.9020501138952164\n",
      "Epoch 13 - Save Best Score: 0.9021 Mpdel\n"
     ]
    },
    {
     "name": "stdout",
     "output_type": "stream",
     "text": [
      "EVAL: [20/21] Data 0.000 (0.010) Elapsed 0m 0s (remain 0m 0s) Loss: 0.5395(0.4399) \n",
      "Epoch: [14][0/83]Data 0.106 (0.106)Elapsed 0m 0s (remain 0m 9s)Loss: 0.5763(0.5763)Grad: 0.1758  \n",
      "Epoch: [14][82/83]Data 0.002 (0.004)Elapsed 0m 0s (remain 0m 0s)Loss: 0.6877(0.5972)Grad: 0.3530  \n",
      "EVAL: [0/21] Data 0.103 (0.103) Elapsed 0m 0s (remain 0m 2s) Loss: 0.3826(0.3826) \n"
     ]
    },
    {
     "name": "stderr",
     "output_type": "stream",
     "text": [
      "Epoch 14 - avg_train_loss: 0.5972 avg_val_loss: 0.4279 time: 1s\n",
      "Epoch 14 - Accuracy: 0.9022399392558846\n",
      "Epoch 14 - Save Best Score: 0.9022 Mpdel\n"
     ]
    },
    {
     "name": "stdout",
     "output_type": "stream",
     "text": [
      "EVAL: [20/21] Data 0.000 (0.009) Elapsed 0m 0s (remain 0m 0s) Loss: 0.5276(0.4279) \n",
      "Epoch: [15][0/83]Data 0.107 (0.107)Elapsed 0m 0s (remain 0m 9s)Loss: 0.5678(0.5678)Grad: 0.1464  \n",
      "Epoch: [15][82/83]Data 0.002 (0.004)Elapsed 0m 0s (remain 0m 0s)Loss: 0.6286(0.5880)Grad: 0.3428  \n",
      "EVAL: [0/21] Data 0.127 (0.127) Elapsed 0m 0s (remain 0m 2s) Loss: 0.3717(0.3717) \n"
     ]
    },
    {
     "name": "stderr",
     "output_type": "stream",
     "text": [
      "Epoch 15 - avg_train_loss: 0.5880 avg_val_loss: 0.4193 time: 1s\n",
      "Epoch 15 - Accuracy: 0.9029992406985573\n",
      "Epoch 15 - Save Best Score: 0.9030 Mpdel\n"
     ]
    },
    {
     "name": "stdout",
     "output_type": "stream",
     "text": [
      "EVAL: [20/21] Data 0.000 (0.010) Elapsed 0m 0s (remain 0m 0s) Loss: 0.5175(0.4193) \n",
      "Epoch: [16][0/83]Data 0.129 (0.129)Elapsed 0m 0s (remain 0m 11s)Loss: 0.6759(0.6759)Grad: 0.1282  \n",
      "Epoch: [16][82/83]Data 0.000 (0.005)Elapsed 0m 0s (remain 0m 0s)Loss: 0.4206(0.5851)Grad: 0.2037  \n",
      "EVAL: [0/21] Data 0.114 (0.114) Elapsed 0m 0s (remain 0m 2s) Loss: 0.3672(0.3672) \n"
     ]
    },
    {
     "name": "stderr",
     "output_type": "stream",
     "text": [
      "Epoch 16 - avg_train_loss: 0.5851 avg_val_loss: 0.4163 time: 1s\n",
      "Epoch 16 - Accuracy: 0.9031890660592256\n",
      "Epoch 16 - Save Best Score: 0.9032 Mpdel\n"
     ]
    },
    {
     "name": "stdout",
     "output_type": "stream",
     "text": [
      "EVAL: [20/21] Data 0.002 (0.009) Elapsed 0m 0s (remain 0m 0s) Loss: 0.5155(0.4163) \n",
      "Epoch: [17][0/83]Data 0.128 (0.128)Elapsed 0m 0s (remain 0m 11s)Loss: 0.5374(0.5374)Grad: 0.1511  \n",
      "Epoch: [17][82/83]Data 0.000 (0.004)Elapsed 0m 0s (remain 0m 0s)Loss: 0.6348(0.5844)Grad: 0.3569  \n",
      "EVAL: [0/21] Data 0.120 (0.120) Elapsed 0m 0s (remain 0m 2s) Loss: 0.3650(0.3650) \n"
     ]
    },
    {
     "name": "stderr",
     "output_type": "stream",
     "text": [
      "Epoch 17 - avg_train_loss: 0.5844 avg_val_loss: 0.4143 time: 1s\n",
      "Epoch 17 - Accuracy: 0.9029992406985573\n"
     ]
    },
    {
     "name": "stdout",
     "output_type": "stream",
     "text": [
      "EVAL: [20/21] Data 0.000 (0.009) Elapsed 0m 0s (remain 0m 0s) Loss: 0.5117(0.4143) \n",
      "Epoch: [18][0/83]Data 0.112 (0.112)Elapsed 0m 0s (remain 0m 10s)Loss: 0.5483(0.5483)Grad: 0.1488  \n",
      "Epoch: [18][82/83]Data 0.002 (0.004)Elapsed 0m 0s (remain 0m 0s)Loss: 0.4850(0.5852)Grad: 0.2856  \n",
      "EVAL: [0/21] Data 0.097 (0.097) Elapsed 0m 0s (remain 0m 2s) Loss: 0.3634(0.3634) \n",
      "EVAL: [20/21] Data 0.000 (0.009) Elapsed 0m 0s (remain 0m 0s) Loss: 0.5114(0.4133) \n"
     ]
    },
    {
     "name": "stderr",
     "output_type": "stream",
     "text": [
      "Epoch 18 - avg_train_loss: 0.5852 avg_val_loss: 0.4133 time: 1s\n",
      "Epoch 18 - Accuracy: 0.9028094153378892\n"
     ]
    },
    {
     "name": "stdout",
     "output_type": "stream",
     "text": [
      "Epoch: [19][0/83]Data 0.144 (0.144)Elapsed 0m 0s (remain 0m 12s)Loss: 0.7608(0.7608)Grad: 0.2543  \n",
      "Epoch: [19][82/83]Data 0.000 (0.005)Elapsed 0m 1s (remain 0m 0s)Loss: 0.6223(0.5810)Grad: 0.3062  \n",
      "EVAL: [0/21] Data 0.097 (0.097) Elapsed 0m 0s (remain 0m 2s) Loss: 0.3628(0.3628) \n"
     ]
    },
    {
     "name": "stderr",
     "output_type": "stream",
     "text": [
      "Epoch 19 - avg_train_loss: 0.5810 avg_val_loss: 0.4126 time: 1s\n",
      "Epoch 19 - Accuracy: 0.9028094153378892\n"
     ]
    },
    {
     "name": "stdout",
     "output_type": "stream",
     "text": [
      "EVAL: [20/21] Data 0.000 (0.009) Elapsed 0m 0s (remain 0m 0s) Loss: 0.5110(0.4126) \n",
      "Epoch: [20][0/83]Data 0.117 (0.117)Elapsed 0m 0s (remain 0m 10s)Loss: 0.6732(0.6732)Grad: 0.3607  \n",
      "Epoch: [20][82/83]Data 0.000 (0.004)Elapsed 0m 0s (remain 0m 0s)Loss: 0.3619(0.5841)Grad: 0.2682  \n",
      "EVAL: [0/21] Data 0.109 (0.109) Elapsed 0m 0s (remain 0m 2s) Loss: 0.3626(0.3626) \n"
     ]
    },
    {
     "name": "stderr",
     "output_type": "stream",
     "text": [
      "Epoch 20 - avg_train_loss: 0.5841 avg_val_loss: 0.4125 time: 1s\n",
      "Epoch 20 - Accuracy: 0.9028094153378892\n"
     ]
    },
    {
     "name": "stdout",
     "output_type": "stream",
     "text": [
      "EVAL: [20/21] Data 0.002 (0.009) Elapsed 0m 0s (remain 0m 0s) Loss: 0.5110(0.4125) \n",
      "Epoch: [21][0/83]Data 0.105 (0.105)Elapsed 0m 0s (remain 0m 9s)Loss: 0.5316(0.5316)Grad: 0.2260  \n",
      "Epoch: [21][82/83]Data 0.000 (0.004)Elapsed 0m 0s (remain 0m 0s)Loss: 0.6922(0.5836)Grad: 0.2977  \n",
      "EVAL: [0/21] Data 0.094 (0.094) Elapsed 0m 0s (remain 0m 2s) Loss: 0.3575(0.3575) \n"
     ]
    },
    {
     "name": "stderr",
     "output_type": "stream",
     "text": [
      "Epoch 21 - avg_train_loss: 0.5836 avg_val_loss: 0.4091 time: 1s\n",
      "Epoch 21 - Accuracy: 0.9026195899772209\n"
     ]
    },
    {
     "name": "stdout",
     "output_type": "stream",
     "text": [
      "EVAL: [20/21] Data 0.000 (0.008) Elapsed 0m 0s (remain 0m 0s) Loss: 0.5090(0.4091) \n",
      "Epoch: [22][0/83]Data 0.119 (0.119)Elapsed 0m 0s (remain 0m 10s)Loss: 0.5416(0.5416)Grad: 0.2128  \n",
      "Epoch: [22][82/83]Data 0.000 (0.004)Elapsed 0m 0s (remain 0m 0s)Loss: 0.6550(0.5777)Grad: 0.4555  \n",
      "EVAL: [0/21] Data 0.108 (0.108) Elapsed 0m 0s (remain 0m 2s) Loss: 0.3540(0.3540) \n"
     ]
    },
    {
     "name": "stderr",
     "output_type": "stream",
     "text": [
      "Epoch 22 - avg_train_loss: 0.5777 avg_val_loss: 0.4068 time: 1s\n",
      "Epoch 22 - Accuracy: 0.9035687167805618\n",
      "Epoch 22 - Save Best Score: 0.9036 Mpdel\n"
     ]
    },
    {
     "name": "stdout",
     "output_type": "stream",
     "text": [
      "EVAL: [20/21] Data 0.000 (0.008) Elapsed 0m 0s (remain 0m 0s) Loss: 0.5060(0.4068) \n",
      "Epoch: [23][0/83]Data 0.111 (0.111)Elapsed 0m 0s (remain 0m 9s)Loss: 0.5811(0.5811)Grad: 0.1856  \n",
      "Epoch: [23][82/83]Data 0.000 (0.004)Elapsed 0m 0s (remain 0m 0s)Loss: 0.7649(0.5845)Grad: 0.4540  \n",
      "EVAL: [0/21] Data 0.100 (0.100) Elapsed 0m 0s (remain 0m 2s) Loss: 0.3458(0.3458) \n"
     ]
    },
    {
     "name": "stderr",
     "output_type": "stream",
     "text": [
      "Epoch 23 - avg_train_loss: 0.5845 avg_val_loss: 0.4025 time: 1s\n",
      "Epoch 23 - Accuracy: 0.9031890660592256\n"
     ]
    },
    {
     "name": "stdout",
     "output_type": "stream",
     "text": [
      "EVAL: [20/21] Data 0.000 (0.008) Elapsed 0m 0s (remain 0m 0s) Loss: 0.5086(0.4025) \n",
      "Epoch: [24][0/83]Data 0.108 (0.108)Elapsed 0m 0s (remain 0m 9s)Loss: 0.4806(0.4806)Grad: 0.1754  \n",
      "Epoch: [24][82/83]Data 0.000 (0.004)Elapsed 0m 0s (remain 0m 0s)Loss: 0.5604(0.5778)Grad: 0.4609  \n",
      "EVAL: [0/21] Data 0.099 (0.099) Elapsed 0m 0s (remain 0m 2s) Loss: 0.3417(0.3417) \n"
     ]
    },
    {
     "name": "stderr",
     "output_type": "stream",
     "text": [
      "Epoch 24 - avg_train_loss: 0.5778 avg_val_loss: 0.3998 time: 1s\n",
      "Epoch 24 - Accuracy: 0.9031890660592256\n"
     ]
    },
    {
     "name": "stdout",
     "output_type": "stream",
     "text": [
      "EVAL: [20/21] Data 0.000 (0.008) Elapsed 0m 0s (remain 0m 0s) Loss: 0.5101(0.3998) \n",
      "Epoch: [25][0/83]Data 0.117 (0.117)Elapsed 0m 0s (remain 0m 10s)Loss: 0.5433(0.5433)Grad: 0.2611  \n",
      "Epoch: [25][82/83]Data 0.002 (0.004)Elapsed 0m 0s (remain 0m 0s)Loss: 0.5863(0.5702)Grad: 0.2788  \n",
      "EVAL: [0/21] Data 0.104 (0.104) Elapsed 0m 0s (remain 0m 2s) Loss: 0.3402(0.3402) \n"
     ]
    },
    {
     "name": "stderr",
     "output_type": "stream",
     "text": [
      "Epoch 25 - avg_train_loss: 0.5702 avg_val_loss: 0.3990 time: 1s\n",
      "Epoch 25 - Accuracy: 0.9028094153378892\n"
     ]
    },
    {
     "name": "stdout",
     "output_type": "stream",
     "text": [
      "EVAL: [20/21] Data 0.000 (0.008) Elapsed 0m 0s (remain 0m 0s) Loss: 0.5083(0.3990) \n",
      "Epoch: [26][0/83]Data 0.100 (0.100)Elapsed 0m 0s (remain 0m 9s)Loss: 0.6120(0.6120)Grad: 0.1855  \n",
      "Epoch: [26][82/83]Data 0.002 (0.004)Elapsed 0m 0s (remain 0m 0s)Loss: 0.4528(0.5651)Grad: 0.2861  \n",
      "EVAL: [0/21] Data 0.091 (0.091) Elapsed 0m 0s (remain 0m 1s) Loss: 0.3382(0.3382) \n"
     ]
    },
    {
     "name": "stderr",
     "output_type": "stream",
     "text": [
      "Epoch 26 - avg_train_loss: 0.5651 avg_val_loss: 0.3975 time: 1s\n",
      "Epoch 26 - Accuracy: 0.9026195899772209\n"
     ]
    },
    {
     "name": "stdout",
     "output_type": "stream",
     "text": [
      "EVAL: [20/21] Data 0.000 (0.009) Elapsed 0m 0s (remain 0m 0s) Loss: 0.5081(0.3975) \n",
      "Epoch: [27][0/83]Data 0.114 (0.114)Elapsed 0m 0s (remain 0m 9s)Loss: 0.4673(0.4673)Grad: 0.1767  \n",
      "Epoch: [27][82/83]Data 0.002 (0.004)Elapsed 0m 0s (remain 0m 0s)Loss: 0.3965(0.5582)Grad: 0.3239  \n",
      "EVAL: [0/21] Data 0.101 (0.101) Elapsed 0m 0s (remain 0m 2s) Loss: 0.3353(0.3353) \n"
     ]
    },
    {
     "name": "stderr",
     "output_type": "stream",
     "text": [
      "Epoch 27 - avg_train_loss: 0.5582 avg_val_loss: 0.3959 time: 1s\n",
      "Epoch 27 - Accuracy: 0.9029992406985573\n"
     ]
    },
    {
     "name": "stdout",
     "output_type": "stream",
     "text": [
      "EVAL: [20/21] Data 0.000 (0.008) Elapsed 0m 0s (remain 0m 0s) Loss: 0.5066(0.3959) \n",
      "Epoch: [28][0/83]Data 0.106 (0.106)Elapsed 0m 0s (remain 0m 9s)Loss: 0.5375(0.5375)Grad: 0.1480  \n",
      "Epoch: [28][82/83]Data 0.000 (0.004)Elapsed 0m 0s (remain 0m 0s)Loss: 0.5887(0.5620)Grad: 0.2664  \n",
      "EVAL: [0/21] Data 0.108 (0.108) Elapsed 0m 0s (remain 0m 2s) Loss: 0.3348(0.3348) \n"
     ]
    },
    {
     "name": "stderr",
     "output_type": "stream",
     "text": [
      "Epoch 28 - avg_train_loss: 0.5620 avg_val_loss: 0.3956 time: 1s\n",
      "Epoch 28 - Accuracy: 0.9024297646165528\n"
     ]
    },
    {
     "name": "stdout",
     "output_type": "stream",
     "text": [
      "EVAL: [20/21] Data 0.000 (0.009) Elapsed 0m 0s (remain 0m 0s) Loss: 0.5056(0.3956) \n",
      "Epoch: [29][0/83]Data 0.137 (0.137)Elapsed 0m 0s (remain 0m 11s)Loss: 0.4589(0.4589)Grad: 0.1746  \n",
      "Epoch: [29][82/83]Data 0.000 (0.004)Elapsed 0m 0s (remain 0m 0s)Loss: 0.6820(0.5561)Grad: 0.4138  \n",
      "EVAL: [0/21] Data 0.101 (0.101) Elapsed 0m 0s (remain 0m 2s) Loss: 0.3344(0.3344) \n"
     ]
    },
    {
     "name": "stderr",
     "output_type": "stream",
     "text": [
      "Epoch 29 - avg_train_loss: 0.5561 avg_val_loss: 0.3954 time: 1s\n",
      "Epoch 29 - Accuracy: 0.9024297646165528\n"
     ]
    },
    {
     "name": "stdout",
     "output_type": "stream",
     "text": [
      "EVAL: [20/21] Data 0.002 (0.008) Elapsed 0m 0s (remain 0m 0s) Loss: 0.5053(0.3954) \n",
      "Epoch: [30][0/83]Data 0.109 (0.109)Elapsed 0m 0s (remain 0m 9s)Loss: 0.6003(0.6003)Grad: 0.1498  \n",
      "Epoch: [30][82/83]Data 0.000 (0.004)Elapsed 0m 0s (remain 0m 0s)Loss: 0.5842(0.5585)Grad: 0.3025  \n",
      "EVAL: [0/21] Data 0.096 (0.096) Elapsed 0m 0s (remain 0m 2s) Loss: 0.3343(0.3343) \n"
     ]
    },
    {
     "name": "stderr",
     "output_type": "stream",
     "text": [
      "Epoch 30 - avg_train_loss: 0.5585 avg_val_loss: 0.3953 time: 1s\n",
      "Epoch 30 - Accuracy: 0.9022399392558846\n",
      "=============== fold: 0 result ================\n",
      "Score: 0.90357\n",
      "========== fold: 1 training ============\n"
     ]
    },
    {
     "name": "stdout",
     "output_type": "stream",
     "text": [
      "EVAL: [20/21] Data 0.000 (0.008) Elapsed 0m 0s (remain 0m 0s) Loss: 0.5054(0.3953) \n",
      "Epoch: [1][0/83]Data 0.109 (0.109)Elapsed 0m 0s (remain 0m 9s)Loss: 1.5474(1.5474)Grad: 0.5351  \n",
      "Epoch: [1][82/83]Data 0.000 (0.004)Elapsed 0m 0s (remain 0m 0s)Loss: 1.1299(1.3743)Grad: 0.6624  \n",
      "EVAL: [0/21] Data 0.096 (0.096) Elapsed 0m 0s (remain 0m 2s) Loss: 1.1140(1.1140) \n"
     ]
    },
    {
     "name": "stderr",
     "output_type": "stream",
     "text": [
      "Epoch 1 - avg_train_loss: 1.3743 avg_val_loss: 1.1396 time: 1s\n",
      "Epoch 1 - Accuracy: 0.587129840546697\n",
      "Epoch 1 - Save Best Score: 0.5871 Mpdel\n"
     ]
    },
    {
     "name": "stdout",
     "output_type": "stream",
     "text": [
      "EVAL: [20/21] Data 0.000 (0.007) Elapsed 0m 0s (remain 0m 0s) Loss: 1.1716(1.1396) \n",
      "Epoch: [2][0/83]Data 0.105 (0.105)Elapsed 0m 0s (remain 0m 9s)Loss: 1.1355(1.1355)Grad: 0.6242  \n",
      "Epoch: [2][82/83]Data 0.000 (0.004)Elapsed 0m 0s (remain 0m 0s)Loss: 0.9168(0.9769)Grad: 0.3662  \n",
      "EVAL: [0/21] Data 0.105 (0.105) Elapsed 0m 0s (remain 0m 2s) Loss: 0.7659(0.7659) \n"
     ]
    },
    {
     "name": "stderr",
     "output_type": "stream",
     "text": [
      "Epoch 2 - avg_train_loss: 0.9769 avg_val_loss: 0.7731 time: 1s\n",
      "Epoch 2 - Accuracy: 0.6960895975702354\n",
      "Epoch 2 - Save Best Score: 0.6961 Mpdel\n"
     ]
    },
    {
     "name": "stdout",
     "output_type": "stream",
     "text": [
      "EVAL: [20/21] Data 0.003 (0.009) Elapsed 0m 0s (remain 0m 0s) Loss: 0.8426(0.7731) \n",
      "Epoch: [3][0/83]Data 0.117 (0.117)Elapsed 0m 0s (remain 0m 10s)Loss: 0.9433(0.9433)Grad: 0.2301  \n",
      "Epoch: [3][82/83]Data 0.000 (0.004)Elapsed 0m 0s (remain 0m 0s)Loss: 0.7909(0.7834)Grad: 0.2381  \n",
      "EVAL: [0/21] Data 0.113 (0.113) Elapsed 0m 0s (remain 0m 2s) Loss: 0.6824(0.6824) \n"
     ]
    },
    {
     "name": "stderr",
     "output_type": "stream",
     "text": [
      "Epoch 3 - avg_train_loss: 0.7834 avg_val_loss: 0.6518 time: 1s\n",
      "Epoch 3 - Accuracy: 0.7752467729688687\n",
      "Epoch 3 - Save Best Score: 0.7752 Mpdel\n"
     ]
    },
    {
     "name": "stdout",
     "output_type": "stream",
     "text": [
      "EVAL: [20/21] Data 0.000 (0.009) Elapsed 0m 0s (remain 0m 0s) Loss: 0.7287(0.6518) \n",
      "Epoch: [4][0/83]Data 0.111 (0.111)Elapsed 0m 0s (remain 0m 9s)Loss: 0.7430(0.7430)Grad: 0.2077  \n",
      "Epoch: [4][82/83]Data 0.002 (0.004)Elapsed 0m 0s (remain 0m 0s)Loss: 0.7208(0.7139)Grad: 0.2265  \n",
      "EVAL: [0/21] Data 0.101 (0.101) Elapsed 0m 0s (remain 0m 2s) Loss: 0.6507(0.6507) \n"
     ]
    },
    {
     "name": "stderr",
     "output_type": "stream",
     "text": [
      "Epoch 4 - avg_train_loss: 0.7139 avg_val_loss: 0.5973 time: 1s\n",
      "Epoch 4 - Accuracy: 0.8578208048595293\n",
      "Epoch 4 - Save Best Score: 0.8578 Mpdel\n"
     ]
    },
    {
     "name": "stdout",
     "output_type": "stream",
     "text": [
      "EVAL: [20/21] Data 0.002 (0.008) Elapsed 0m 0s (remain 0m 0s) Loss: 0.6865(0.5973) \n",
      "Epoch: [5][0/83]Data 0.114 (0.114)Elapsed 0m 0s (remain 0m 10s)Loss: 0.7789(0.7789)Grad: 0.2222  \n",
      "Epoch: [5][82/83]Data 0.000 (0.004)Elapsed 0m 0s (remain 0m 0s)Loss: 0.6439(0.6823)Grad: 0.2501  \n",
      "EVAL: [0/21] Data 0.111 (0.111) Elapsed 0m 0s (remain 0m 2s) Loss: 0.6379(0.6379) \n"
     ]
    },
    {
     "name": "stderr",
     "output_type": "stream",
     "text": [
      "Epoch 5 - avg_train_loss: 0.6823 avg_val_loss: 0.5699 time: 1s\n",
      "Epoch 5 - Accuracy: 0.8587699316628702\n",
      "Epoch 5 - Save Best Score: 0.8588 Mpdel\n"
     ]
    },
    {
     "name": "stdout",
     "output_type": "stream",
     "text": [
      "EVAL: [20/21] Data 0.000 (0.009) Elapsed 0m 0s (remain 0m 0s) Loss: 0.6632(0.5699) \n",
      "Epoch: [6][0/83]Data 0.105 (0.105)Elapsed 0m 0s (remain 0m 9s)Loss: 0.7165(0.7165)Grad: 0.1564  \n",
      "Epoch: [6][82/83]Data 0.002 (0.004)Elapsed 0m 0s (remain 0m 0s)Loss: 0.6575(0.6683)Grad: 0.2428  \n",
      "EVAL: [0/21] Data 0.120 (0.120) Elapsed 0m 0s (remain 0m 2s) Loss: 0.6290(0.6290) \n"
     ]
    },
    {
     "name": "stderr",
     "output_type": "stream",
     "text": [
      "Epoch 6 - avg_train_loss: 0.6683 avg_val_loss: 0.5527 time: 1s\n",
      "Epoch 6 - Accuracy: 0.8585801063022019\n"
     ]
    },
    {
     "name": "stdout",
     "output_type": "stream",
     "text": [
      "EVAL: [20/21] Data 0.002 (0.009) Elapsed 0m 0s (remain 0m 0s) Loss: 0.6476(0.5527) \n",
      "Epoch: [7][0/83]Data 0.113 (0.113)Elapsed 0m 0s (remain 0m 9s)Loss: 0.6137(0.6137)Grad: 0.1477  \n",
      "Epoch: [7][82/83]Data 0.000 (0.004)Elapsed 0m 0s (remain 0m 0s)Loss: 0.5937(0.6580)Grad: 0.3055  \n",
      "EVAL: [0/21] Data 0.105 (0.105) Elapsed 0m 0s (remain 0m 2s) Loss: 0.6228(0.6228) \n"
     ]
    },
    {
     "name": "stderr",
     "output_type": "stream",
     "text": [
      "Epoch 7 - avg_train_loss: 0.6580 avg_val_loss: 0.5414 time: 1s\n",
      "Epoch 7 - Accuracy: 0.8580106302201974\n"
     ]
    },
    {
     "name": "stdout",
     "output_type": "stream",
     "text": [
      "EVAL: [20/21] Data 0.000 (0.009) Elapsed 0m 0s (remain 0m 0s) Loss: 0.6373(0.5414) \n",
      "Epoch: [8][0/83]Data 0.113 (0.113)Elapsed 0m 0s (remain 0m 9s)Loss: 0.6519(0.6519)Grad: 0.1404  \n",
      "Epoch: [8][82/83]Data 0.000 (0.004)Elapsed 0m 0s (remain 0m 0s)Loss: 0.6324(0.6550)Grad: 0.2732  \n",
      "EVAL: [0/21] Data 0.122 (0.122) Elapsed 0m 0s (remain 0m 2s) Loss: 0.6195(0.6195) \n"
     ]
    },
    {
     "name": "stderr",
     "output_type": "stream",
     "text": [
      "Epoch 8 - avg_train_loss: 0.6550 avg_val_loss: 0.5352 time: 1s\n",
      "Epoch 8 - Accuracy: 0.8585801063022019\n"
     ]
    },
    {
     "name": "stdout",
     "output_type": "stream",
     "text": [
      "EVAL: [20/21] Data 0.000 (0.009) Elapsed 0m 0s (remain 0m 0s) Loss: 0.6328(0.5352) \n",
      "Epoch: [9][0/83]Data 0.115 (0.115)Elapsed 0m 0s (remain 0m 10s)Loss: 0.6423(0.6423)Grad: 0.1467  \n",
      "Epoch: [9][82/83]Data 0.000 (0.004)Elapsed 0m 0s (remain 0m 0s)Loss: 0.5987(0.6460)Grad: 0.2366  \n",
      "EVAL: [0/21] Data 0.110 (0.110) Elapsed 0m 0s (remain 0m 2s) Loss: 0.6180(0.6180) \n"
     ]
    },
    {
     "name": "stderr",
     "output_type": "stream",
     "text": [
      "Epoch 9 - avg_train_loss: 0.6460 avg_val_loss: 0.5323 time: 1s\n",
      "Epoch 9 - Accuracy: 0.8587699316628702\n"
     ]
    },
    {
     "name": "stdout",
     "output_type": "stream",
     "text": [
      "EVAL: [20/21] Data 0.000 (0.008) Elapsed 0m 0s (remain 0m 0s) Loss: 0.6307(0.5323) \n",
      "Epoch: [10][0/83]Data 0.112 (0.112)Elapsed 0m 0s (remain 0m 9s)Loss: 0.5638(0.5638)Grad: 0.2024  \n",
      "Epoch: [10][82/83]Data 0.002 (0.004)Elapsed 0m 0s (remain 0m 0s)Loss: 0.9318(0.6471)Grad: 0.5315  \n",
      "EVAL: [0/21] Data 0.120 (0.120) Elapsed 0m 0s (remain 0m 2s) Loss: 0.6176(0.6176) \n"
     ]
    },
    {
     "name": "stderr",
     "output_type": "stream",
     "text": [
      "Epoch 10 - avg_train_loss: 0.6471 avg_val_loss: 0.5317 time: 1s\n",
      "Epoch 10 - Accuracy: 0.8589597570235383\n",
      "Epoch 10 - Save Best Score: 0.8590 Mpdel\n"
     ]
    },
    {
     "name": "stdout",
     "output_type": "stream",
     "text": [
      "EVAL: [20/21] Data 0.000 (0.009) Elapsed 0m 0s (remain 0m 0s) Loss: 0.6301(0.5317) \n",
      "Epoch: [11][0/83]Data 0.106 (0.106)Elapsed 0m 0s (remain 0m 9s)Loss: 0.6852(0.6852)Grad: 0.1783  \n",
      "Epoch: [11][82/83]Data 0.000 (0.004)Elapsed 0m 0s (remain 0m 0s)Loss: 0.7547(0.6325)Grad: 0.4189  \n",
      "EVAL: [0/21] Data 0.107 (0.107) Elapsed 0m 0s (remain 0m 2s) Loss: 0.6005(0.6005) \n"
     ]
    },
    {
     "name": "stderr",
     "output_type": "stream",
     "text": [
      "Epoch 11 - avg_train_loss: 0.6325 avg_val_loss: 0.5056 time: 1s\n",
      "Epoch 11 - Accuracy: 0.8595292331055429\n",
      "Epoch 11 - Save Best Score: 0.8595 Mpdel\n"
     ]
    },
    {
     "name": "stdout",
     "output_type": "stream",
     "text": [
      "EVAL: [20/21] Data 0.000 (0.007) Elapsed 0m 0s (remain 0m 0s) Loss: 0.6036(0.5056) \n",
      "Epoch: [12][0/83]Data 0.093 (0.093)Elapsed 0m 0s (remain 0m 9s)Loss: 0.6266(0.6266)Grad: 0.1712  \n",
      "Epoch: [12][82/83]Data 0.000 (0.004)Elapsed 0m 0s (remain 0m 0s)Loss: 0.6513(0.6214)Grad: 0.3806  \n",
      "EVAL: [0/21] Data 0.111 (0.111) Elapsed 0m 0s (remain 0m 2s) Loss: 0.5891(0.5891) \n"
     ]
    },
    {
     "name": "stderr",
     "output_type": "stream",
     "text": [
      "Epoch 12 - avg_train_loss: 0.6214 avg_val_loss: 0.4787 time: 1s\n",
      "Epoch 12 - Accuracy: 0.8600987091875475\n",
      "Epoch 12 - Save Best Score: 0.8601 Mpdel\n"
     ]
    },
    {
     "name": "stdout",
     "output_type": "stream",
     "text": [
      "EVAL: [20/21] Data 0.002 (0.009) Elapsed 0m 0s (remain 0m 0s) Loss: 0.5781(0.4787) \n",
      "Epoch: [13][0/83]Data 0.110 (0.110)Elapsed 0m 0s (remain 0m 9s)Loss: 0.6378(0.6378)Grad: 0.2062  \n",
      "Epoch: [13][82/83]Data 0.000 (0.004)Elapsed 0m 0s (remain 0m 0s)Loss: 0.5495(0.5965)Grad: 0.2819  \n",
      "EVAL: [0/21] Data 0.105 (0.105) Elapsed 0m 0s (remain 0m 2s) Loss: 0.5807(0.5807) \n"
     ]
    },
    {
     "name": "stderr",
     "output_type": "stream",
     "text": [
      "Epoch 13 - avg_train_loss: 0.5965 avg_val_loss: 0.4635 time: 1s\n",
      "Epoch 13 - Accuracy: 0.8608580106302202\n",
      "Epoch 13 - Save Best Score: 0.8609 Mpdel\n"
     ]
    },
    {
     "name": "stdout",
     "output_type": "stream",
     "text": [
      "EVAL: [20/21] Data 0.000 (0.008) Elapsed 0m 0s (remain 0m 0s) Loss: 0.5643(0.4635) \n",
      "Epoch: [14][0/83]Data 0.111 (0.111)Elapsed 0m 0s (remain 0m 9s)Loss: 0.6691(0.6691)Grad: 0.2018  \n",
      "Epoch: [14][82/83]Data 0.000 (0.004)Elapsed 0m 0s (remain 0m 0s)Loss: 0.5888(0.5968)Grad: 0.2365  \n",
      "EVAL: [0/21] Data 0.095 (0.095) Elapsed 0m 0s (remain 0m 1s) Loss: 0.5711(0.5711) \n"
     ]
    },
    {
     "name": "stderr",
     "output_type": "stream",
     "text": [
      "Epoch 14 - avg_train_loss: 0.5968 avg_val_loss: 0.4550 time: 1s\n",
      "Epoch 14 - Accuracy: 0.868830675778284\n",
      "Epoch 14 - Save Best Score: 0.8688 Mpdel\n"
     ]
    },
    {
     "name": "stdout",
     "output_type": "stream",
     "text": [
      "EVAL: [20/21] Data 0.000 (0.008) Elapsed 0m 0s (remain 0m 0s) Loss: 0.5516(0.4550) \n",
      "Epoch: [15][0/83]Data 0.098 (0.098)Elapsed 0m 0s (remain 0m 8s)Loss: 0.7654(0.7654)Grad: 0.2640  \n",
      "Epoch: [15][82/83]Data 0.000 (0.004)Elapsed 0m 0s (remain 0m 0s)Loss: 0.6520(0.5894)Grad: 0.2323  \n",
      "EVAL: [0/21] Data 0.101 (0.101) Elapsed 0m 0s (remain 0m 2s) Loss: 0.5657(0.5657) \n"
     ]
    },
    {
     "name": "stderr",
     "output_type": "stream",
     "text": [
      "Epoch 15 - avg_train_loss: 0.5894 avg_val_loss: 0.4498 time: 1s\n",
      "Epoch 15 - Accuracy: 0.8802201974183751\n",
      "Epoch 15 - Save Best Score: 0.8802 Mpdel\n"
     ]
    },
    {
     "name": "stdout",
     "output_type": "stream",
     "text": [
      "EVAL: [20/21] Data 0.000 (0.007) Elapsed 0m 0s (remain 0m 0s) Loss: 0.5459(0.4498) \n",
      "Epoch: [16][0/83]Data 0.108 (0.108)Elapsed 0m 0s (remain 0m 9s)Loss: 0.4842(0.4842)Grad: 0.1606  \n",
      "Epoch: [16][82/83]Data 0.002 (0.004)Elapsed 0m 0s (remain 0m 0s)Loss: 0.4983(0.5871)Grad: 0.2935  \n",
      "EVAL: [0/21] Data 0.102 (0.102) Elapsed 0m 0s (remain 0m 2s) Loss: 0.5610(0.5610) \n"
     ]
    },
    {
     "name": "stderr",
     "output_type": "stream",
     "text": [
      "Epoch 16 - avg_train_loss: 0.5871 avg_val_loss: 0.4472 time: 1s\n",
      "Epoch 16 - Accuracy: 0.8823082763857252\n",
      "Epoch 16 - Save Best Score: 0.8823 Mpdel\n"
     ]
    },
    {
     "name": "stdout",
     "output_type": "stream",
     "text": [
      "EVAL: [20/21] Data 0.000 (0.009) Elapsed 0m 0s (remain 0m 0s) Loss: 0.5422(0.4472) \n",
      "Epoch: [17][0/83]Data 0.113 (0.113)Elapsed 0m 0s (remain 0m 9s)Loss: 0.5122(0.5122)Grad: 0.1387  \n",
      "Epoch: [17][82/83]Data 0.000 (0.004)Elapsed 0m 0s (remain 0m 0s)Loss: 0.5818(0.5845)Grad: 0.2998  \n",
      "EVAL: [0/21] Data 0.110 (0.110) Elapsed 0m 0s (remain 0m 2s) Loss: 0.5577(0.5577) \n"
     ]
    },
    {
     "name": "stderr",
     "output_type": "stream",
     "text": [
      "Epoch 17 - avg_train_loss: 0.5845 avg_val_loss: 0.4452 time: 1s\n",
      "Epoch 17 - Accuracy: 0.8826879271070615\n",
      "Epoch 17 - Save Best Score: 0.8827 Mpdel\n"
     ]
    },
    {
     "name": "stdout",
     "output_type": "stream",
     "text": [
      "EVAL: [20/21] Data 0.000 (0.008) Elapsed 0m 0s (remain 0m 0s) Loss: 0.5389(0.4452) \n",
      "Epoch: [18][0/83]Data 0.102 (0.102)Elapsed 0m 0s (remain 0m 9s)Loss: 0.6120(0.6120)Grad: 0.1776  \n",
      "Epoch: [18][82/83]Data 0.000 (0.004)Elapsed 0m 0s (remain 0m 0s)Loss: 0.5853(0.5896)Grad: 0.3767  \n",
      "EVAL: [0/21] Data 0.099 (0.099) Elapsed 0m 0s (remain 0m 2s) Loss: 0.5556(0.5556) \n"
     ]
    },
    {
     "name": "stderr",
     "output_type": "stream",
     "text": [
      "Epoch 18 - avg_train_loss: 0.5896 avg_val_loss: 0.4439 time: 1s\n",
      "Epoch 18 - Accuracy: 0.8826879271070615\n"
     ]
    },
    {
     "name": "stdout",
     "output_type": "stream",
     "text": [
      "EVAL: [20/21] Data 0.000 (0.008) Elapsed 0m 0s (remain 0m 0s) Loss: 0.5366(0.4439) \n",
      "Epoch: [19][0/83]Data 0.138 (0.138)Elapsed 0m 0s (remain 0m 12s)Loss: 0.6068(0.6068)Grad: 0.2581  \n",
      "Epoch: [19][82/83]Data 0.000 (0.005)Elapsed 0m 1s (remain 0m 0s)Loss: 0.6733(0.5872)Grad: 0.3074  \n",
      "EVAL: [0/21] Data 0.111 (0.111) Elapsed 0m 0s (remain 0m 2s) Loss: 0.5548(0.5548) \n"
     ]
    },
    {
     "name": "stderr",
     "output_type": "stream",
     "text": [
      "Epoch 19 - avg_train_loss: 0.5872 avg_val_loss: 0.4435 time: 1s\n",
      "Epoch 19 - Accuracy: 0.8826879271070615\n"
     ]
    },
    {
     "name": "stdout",
     "output_type": "stream",
     "text": [
      "EVAL: [20/21] Data 0.000 (0.008) Elapsed 0m 0s (remain 0m 0s) Loss: 0.5361(0.4435) \n",
      "Epoch: [20][0/83]Data 0.111 (0.111)Elapsed 0m 0s (remain 0m 9s)Loss: 0.6481(0.6481)Grad: 0.1552  \n",
      "Epoch: [20][82/83]Data 0.000 (0.004)Elapsed 0m 0s (remain 0m 0s)Loss: 0.7765(0.5859)Grad: 0.3109  \n",
      "EVAL: [0/21] Data 0.108 (0.108) Elapsed 0m 0s (remain 0m 2s) Loss: 0.5548(0.5548) \n"
     ]
    },
    {
     "name": "stderr",
     "output_type": "stream",
     "text": [
      "Epoch 20 - avg_train_loss: 0.5859 avg_val_loss: 0.4435 time: 1s\n",
      "Epoch 20 - Accuracy: 0.8828777524677297\n",
      "Epoch 20 - Save Best Score: 0.8829 Mpdel\n"
     ]
    },
    {
     "name": "stdout",
     "output_type": "stream",
     "text": [
      "EVAL: [20/21] Data 0.000 (0.009) Elapsed 0m 0s (remain 0m 0s) Loss: 0.5360(0.4435) \n",
      "Epoch: [21][0/83]Data 0.092 (0.092)Elapsed 0m 0s (remain 0m 8s)Loss: 0.5053(0.5053)Grad: 0.2073  \n",
      "Epoch: [21][82/83]Data 0.000 (0.004)Elapsed 0m 0s (remain 0m 0s)Loss: 0.6169(0.5897)Grad: 0.3070  \n",
      "EVAL: [0/21] Data 0.090 (0.090) Elapsed 0m 0s (remain 0m 2s) Loss: 0.5508(0.5508) \n"
     ]
    },
    {
     "name": "stderr",
     "output_type": "stream",
     "text": [
      "Epoch 21 - avg_train_loss: 0.5897 avg_val_loss: 0.4420 time: 1s\n",
      "Epoch 21 - Accuracy: 0.884206529992407\n",
      "Epoch 21 - Save Best Score: 0.8842 Mpdel\n"
     ]
    },
    {
     "name": "stdout",
     "output_type": "stream",
     "text": [
      "EVAL: [20/21] Data 0.000 (0.008) Elapsed 0m 0s (remain 0m 0s) Loss: 0.5340(0.4420) \n",
      "Epoch: [22][0/83]Data 0.109 (0.109)Elapsed 0m 0s (remain 0m 10s)Loss: 0.6093(0.6093)Grad: 0.1467  \n",
      "Epoch: [22][82/83]Data 0.000 (0.004)Elapsed 0m 0s (remain 0m 0s)Loss: 0.5778(0.5864)Grad: 0.2829  \n",
      "EVAL: [0/21] Data 0.103 (0.103) Elapsed 0m 0s (remain 0m 2s) Loss: 0.5469(0.5469) \n"
     ]
    },
    {
     "name": "stderr",
     "output_type": "stream",
     "text": [
      "Epoch 22 - avg_train_loss: 0.5864 avg_val_loss: 0.4390 time: 1s\n",
      "Epoch 22 - Accuracy: 0.8845861807137434\n",
      "Epoch 22 - Save Best Score: 0.8846 Mpdel\n"
     ]
    },
    {
     "name": "stdout",
     "output_type": "stream",
     "text": [
      "EVAL: [20/21] Data 0.000 (0.008) Elapsed 0m 0s (remain 0m 0s) Loss: 0.5320(0.4390) \n",
      "Epoch: [23][0/83]Data 0.107 (0.107)Elapsed 0m 0s (remain 0m 9s)Loss: 0.5473(0.5473)Grad: 0.1327  \n",
      "Epoch: [23][82/83]Data 0.002 (0.004)Elapsed 0m 0s (remain 0m 0s)Loss: 0.5875(0.5799)Grad: 0.3253  \n",
      "EVAL: [0/21] Data 0.102 (0.102) Elapsed 0m 0s (remain 0m 2s) Loss: 0.5435(0.5435) \n"
     ]
    },
    {
     "name": "stderr",
     "output_type": "stream",
     "text": [
      "Epoch 23 - avg_train_loss: 0.5799 avg_val_loss: 0.4360 time: 1s\n",
      "Epoch 23 - Accuracy: 0.8855353075170843\n",
      "Epoch 23 - Save Best Score: 0.8855 Mpdel\n"
     ]
    },
    {
     "name": "stdout",
     "output_type": "stream",
     "text": [
      "EVAL: [20/21] Data 0.000 (0.008) Elapsed 0m 0s (remain 0m 0s) Loss: 0.5299(0.4360) \n",
      "Epoch: [24][0/83]Data 0.105 (0.105)Elapsed 0m 0s (remain 0m 9s)Loss: 0.6077(0.6077)Grad: 0.2286  \n",
      "Epoch: [24][82/83]Data 0.000 (0.004)Elapsed 0m 0s (remain 0m 0s)Loss: 0.7401(0.5800)Grad: 0.3971  \n",
      "EVAL: [0/21] Data 0.109 (0.109) Elapsed 0m 0s (remain 0m 2s) Loss: 0.5376(0.5376) \n"
     ]
    },
    {
     "name": "stderr",
     "output_type": "stream",
     "text": [
      "Epoch 24 - avg_train_loss: 0.5800 avg_val_loss: 0.4329 time: 1s\n",
      "Epoch 24 - Accuracy: 0.8861047835990888\n",
      "Epoch 24 - Save Best Score: 0.8861 Mpdel\n"
     ]
    },
    {
     "name": "stdout",
     "output_type": "stream",
     "text": [
      "EVAL: [20/21] Data 0.000 (0.007) Elapsed 0m 0s (remain 0m 0s) Loss: 0.5220(0.4329) \n",
      "Epoch: [25][0/83]Data 0.118 (0.118)Elapsed 0m 0s (remain 0m 10s)Loss: 0.6346(0.6346)Grad: 0.2273  \n",
      "Epoch: [25][82/83]Data 0.000 (0.004)Elapsed 0m 0s (remain 0m 0s)Loss: 0.5840(0.5794)Grad: 0.2838  \n",
      "EVAL: [0/21] Data 0.106 (0.106) Elapsed 0m 0s (remain 0m 2s) Loss: 0.5360(0.5360) \n"
     ]
    },
    {
     "name": "stderr",
     "output_type": "stream",
     "text": [
      "Epoch 25 - avg_train_loss: 0.5794 avg_val_loss: 0.4328 time: 1s\n",
      "Epoch 25 - Accuracy: 0.886294608959757\n",
      "Epoch 25 - Save Best Score: 0.8863 Mpdel\n"
     ]
    },
    {
     "name": "stdout",
     "output_type": "stream",
     "text": [
      "EVAL: [20/21] Data 0.000 (0.007) Elapsed 0m 0s (remain 0m 0s) Loss: 0.5230(0.4328) \n",
      "Epoch: [26][0/83]Data 0.116 (0.116)Elapsed 0m 0s (remain 0m 10s)Loss: 0.5727(0.5727)Grad: 0.1464  \n",
      "Epoch: [26][82/83]Data 0.000 (0.004)Elapsed 0m 0s (remain 0m 0s)Loss: 0.7962(0.5764)Grad: 0.3829  \n",
      "EVAL: [0/21] Data 0.110 (0.110) Elapsed 0m 0s (remain 0m 2s) Loss: 0.5345(0.5345) \n"
     ]
    },
    {
     "name": "stderr",
     "output_type": "stream",
     "text": [
      "Epoch 26 - avg_train_loss: 0.5764 avg_val_loss: 0.4313 time: 1s\n",
      "Epoch 26 - Accuracy: 0.8872437357630979\n",
      "Epoch 26 - Save Best Score: 0.8872 Mpdel\n"
     ]
    },
    {
     "name": "stdout",
     "output_type": "stream",
     "text": [
      "EVAL: [20/21] Data 0.000 (0.008) Elapsed 0m 0s (remain 0m 0s) Loss: 0.5218(0.4313) \n",
      "Epoch: [27][0/83]Data 0.104 (0.104)Elapsed 0m 0s (remain 0m 9s)Loss: 0.5083(0.5083)Grad: 0.1772  \n",
      "Epoch: [27][82/83]Data 0.000 (0.004)Elapsed 0m 0s (remain 0m 0s)Loss: 0.5538(0.5759)Grad: 0.3611  \n",
      "EVAL: [0/21] Data 0.109 (0.109) Elapsed 0m 0s (remain 0m 2s) Loss: 0.5341(0.5341) \n"
     ]
    },
    {
     "name": "stderr",
     "output_type": "stream",
     "text": [
      "Epoch 27 - avg_train_loss: 0.5759 avg_val_loss: 0.4308 time: 1s\n",
      "Epoch 27 - Accuracy: 0.8876233864844343\n",
      "Epoch 27 - Save Best Score: 0.8876 Mpdel\n"
     ]
    },
    {
     "name": "stdout",
     "output_type": "stream",
     "text": [
      "EVAL: [20/21] Data 0.002 (0.007) Elapsed 0m 0s (remain 0m 0s) Loss: 0.5212(0.4308) \n",
      "Epoch: [28][0/83]Data 0.122 (0.122)Elapsed 0m 0s (remain 0m 10s)Loss: 0.5409(0.5409)Grad: 0.2051  \n",
      "Epoch: [28][82/83]Data 0.000 (0.004)Elapsed 0m 0s (remain 0m 0s)Loss: 0.5421(0.5758)Grad: 0.2512  \n",
      "EVAL: [0/21] Data 0.114 (0.114) Elapsed 0m 0s (remain 0m 2s) Loss: 0.5333(0.5333) \n"
     ]
    },
    {
     "name": "stderr",
     "output_type": "stream",
     "text": [
      "Epoch 28 - avg_train_loss: 0.5758 avg_val_loss: 0.4302 time: 1s\n",
      "Epoch 28 - Accuracy: 0.8878132118451025\n",
      "Epoch 28 - Save Best Score: 0.8878 Mpdel\n"
     ]
    },
    {
     "name": "stdout",
     "output_type": "stream",
     "text": [
      "EVAL: [20/21] Data 0.000 (0.009) Elapsed 0m 0s (remain 0m 0s) Loss: 0.5200(0.4302) \n",
      "Epoch: [29][0/83]Data 0.116 (0.116)Elapsed 0m 0s (remain 0m 10s)Loss: 0.6715(0.6715)Grad: 0.2368  \n",
      "Epoch: [29][82/83]Data 0.002 (0.004)Elapsed 0m 0s (remain 0m 0s)Loss: 0.8898(0.5781)Grad: 0.4678  \n",
      "EVAL: [0/21] Data 0.107 (0.107) Elapsed 0m 0s (remain 0m 2s) Loss: 0.5332(0.5332) \n"
     ]
    },
    {
     "name": "stderr",
     "output_type": "stream",
     "text": [
      "Epoch 29 - avg_train_loss: 0.5781 avg_val_loss: 0.4302 time: 1s\n",
      "Epoch 29 - Accuracy: 0.8878132118451025\n"
     ]
    },
    {
     "name": "stdout",
     "output_type": "stream",
     "text": [
      "EVAL: [20/21] Data 0.000 (0.008) Elapsed 0m 0s (remain 0m 0s) Loss: 0.5203(0.4302) \n",
      "Epoch: [30][0/83]Data 0.105 (0.105)Elapsed 0m 0s (remain 0m 9s)Loss: 0.5857(0.5857)Grad: 0.1860  \n",
      "Epoch: [30][82/83]Data 0.000 (0.004)Elapsed 0m 0s (remain 0m 0s)Loss: 0.6571(0.5699)Grad: 0.3242  \n",
      "EVAL: [0/21] Data 0.091 (0.091) Elapsed 0m 0s (remain 0m 1s) Loss: 0.5331(0.5331) \n"
     ]
    },
    {
     "name": "stderr",
     "output_type": "stream",
     "text": [
      "Epoch 30 - avg_train_loss: 0.5699 avg_val_loss: 0.4301 time: 1s\n",
      "Epoch 30 - Accuracy: 0.8878132118451025\n",
      "=============== fold: 1 result ================\n",
      "Score: 0.88781\n",
      "========== fold: 2 training ============\n"
     ]
    },
    {
     "name": "stdout",
     "output_type": "stream",
     "text": [
      "EVAL: [20/21] Data 0.000 (0.008) Elapsed 0m 0s (remain 0m 0s) Loss: 0.5202(0.4301) \n",
      "Epoch: [1][0/83]Data 0.095 (0.095)Elapsed 0m 0s (remain 0m 8s)Loss: 1.7150(1.7150)Grad: 0.5643  \n",
      "Epoch: [1][82/83]Data 0.000 (0.004)Elapsed 0m 0s (remain 0m 0s)Loss: 1.2788(1.5424)Grad: 0.7422  \n",
      "EVAL: [0/21] Data 0.097 (0.097) Elapsed 0m 0s (remain 0m 2s) Loss: 1.2295(1.2295) \n"
     ]
    },
    {
     "name": "stderr",
     "output_type": "stream",
     "text": [
      "Epoch 1 - avg_train_loss: 1.5424 avg_val_loss: 1.2345 time: 1s\n",
      "Epoch 1 - Accuracy: 0.587051452439719\n",
      "Epoch 1 - Save Best Score: 0.5871 Mpdel\n"
     ]
    },
    {
     "name": "stdout",
     "output_type": "stream",
     "text": [
      "EVAL: [20/21] Data 0.002 (0.008) Elapsed 0m 0s (remain 0m 0s) Loss: 1.2845(1.2345) \n",
      "Epoch: [2][0/83]Data 0.115 (0.115)Elapsed 0m 0s (remain 0m 10s)Loss: 1.2579(1.2579)Grad: 0.7809  \n",
      "Epoch: [2][82/83]Data 0.002 (0.004)Elapsed 0m 0s (remain 0m 0s)Loss: 0.6868(0.9717)Grad: 0.2829  \n",
      "EVAL: [0/21] Data 0.118 (0.118) Elapsed 0m 0s (remain 0m 2s) Loss: 0.7630(0.7630) \n"
     ]
    },
    {
     "name": "stderr",
     "output_type": "stream",
     "text": [
      "Epoch 2 - avg_train_loss: 0.9717 avg_val_loss: 0.7547 time: 1s\n",
      "Epoch 2 - Accuracy: 0.7742547940003798\n",
      "Epoch 2 - Save Best Score: 0.7743 Mpdel\n"
     ]
    },
    {
     "name": "stdout",
     "output_type": "stream",
     "text": [
      "EVAL: [20/21] Data 0.000 (0.008) Elapsed 0m 0s (remain 0m 0s) Loss: 0.8224(0.7547) \n",
      "Epoch: [3][0/83]Data 0.105 (0.105)Elapsed 0m 0s (remain 0m 10s)Loss: 0.8617(0.8617)Grad: 0.2340  \n",
      "Epoch: [3][82/83]Data 0.000 (0.004)Elapsed 0m 0s (remain 0m 0s)Loss: 0.7090(0.7458)Grad: 0.2372  \n",
      "EVAL: [0/21] Data 0.115 (0.115) Elapsed 0m 0s (remain 0m 2s) Loss: 0.6854(0.6854) \n"
     ]
    },
    {
     "name": "stderr",
     "output_type": "stream",
     "text": [
      "Epoch 3 - avg_train_loss: 0.7458 avg_val_loss: 0.6660 time: 1s\n",
      "Epoch 3 - Accuracy: 0.7816593886462883\n",
      "Epoch 3 - Save Best Score: 0.7817 Mpdel\n"
     ]
    },
    {
     "name": "stdout",
     "output_type": "stream",
     "text": [
      "EVAL: [20/21] Data 0.000 (0.008) Elapsed 0m 0s (remain 0m 0s) Loss: 0.6933(0.6660) \n",
      "Epoch: [4][0/83]Data 0.101 (0.101)Elapsed 0m 0s (remain 0m 8s)Loss: 0.7002(0.7002)Grad: 0.1695  \n",
      "Epoch: [4][82/83]Data 0.000 (0.004)Elapsed 0m 0s (remain 0m 0s)Loss: 0.6127(0.6712)Grad: 0.2150  \n",
      "EVAL: [0/21] Data 0.107 (0.107) Elapsed 0m 0s (remain 0m 2s) Loss: 0.6212(0.6212) \n"
     ]
    },
    {
     "name": "stderr",
     "output_type": "stream",
     "text": [
      "Epoch 4 - avg_train_loss: 0.6712 avg_val_loss: 0.5985 time: 1s\n",
      "Epoch 4 - Accuracy: 0.8384279475982532\n",
      "Epoch 4 - Save Best Score: 0.8384 Mpdel\n"
     ]
    },
    {
     "name": "stdout",
     "output_type": "stream",
     "text": [
      "EVAL: [20/21] Data 0.000 (0.009) Elapsed 0m 0s (remain 0m 0s) Loss: 0.5834(0.5985) \n",
      "Epoch: [5][0/83]Data 0.110 (0.110)Elapsed 0m 0s (remain 0m 9s)Loss: 0.6778(0.6778)Grad: 0.1359  \n",
      "Epoch: [5][82/83]Data 0.002 (0.004)Elapsed 0m 0s (remain 0m 0s)Loss: 0.5529(0.6350)Grad: 0.2247  \n",
      "EVAL: [0/21] Data 0.098 (0.098) Elapsed 0m 0s (remain 0m 2s) Loss: 0.5845(0.5845) \n"
     ]
    },
    {
     "name": "stderr",
     "output_type": "stream",
     "text": [
      "Epoch 5 - avg_train_loss: 0.6350 avg_val_loss: 0.5599 time: 1s\n",
      "Epoch 5 - Accuracy: 0.8526675526865388\n",
      "Epoch 5 - Save Best Score: 0.8527 Mpdel\n"
     ]
    },
    {
     "name": "stdout",
     "output_type": "stream",
     "text": [
      "EVAL: [20/21] Data 0.000 (0.009) Elapsed 0m 0s (remain 0m 0s) Loss: 0.5191(0.5599) \n",
      "Epoch: [6][0/83]Data 0.108 (0.108)Elapsed 0m 0s (remain 0m 9s)Loss: 0.6293(0.6293)Grad: 0.1692  \n",
      "Epoch: [6][82/83]Data 0.000 (0.004)Elapsed 0m 0s (remain 0m 0s)Loss: 0.4030(0.6106)Grad: 0.3436  \n",
      "EVAL: [0/21] Data 0.093 (0.093) Elapsed 0m 0s (remain 0m 2s) Loss: 0.5644(0.5644) \n"
     ]
    },
    {
     "name": "stderr",
     "output_type": "stream",
     "text": [
      "Epoch 6 - avg_train_loss: 0.6106 avg_val_loss: 0.5396 time: 1s\n",
      "Epoch 6 - Accuracy: 0.8564647807100816\n",
      "Epoch 6 - Save Best Score: 0.8565 Mpdel\n"
     ]
    },
    {
     "name": "stdout",
     "output_type": "stream",
     "text": [
      "EVAL: [20/21] Data 0.002 (0.007) Elapsed 0m 0s (remain 0m 0s) Loss: 0.4888(0.5396) \n",
      "Epoch: [7][0/83]Data 0.113 (0.113)Elapsed 0m 0s (remain 0m 10s)Loss: 0.6116(0.6116)Grad: 0.1649  \n",
      "Epoch: [7][82/83]Data 0.000 (0.004)Elapsed 0m 0s (remain 0m 0s)Loss: 0.7053(0.6004)Grad: 0.3213  \n",
      "EVAL: [0/21] Data 0.106 (0.106) Elapsed 0m 0s (remain 0m 2s) Loss: 0.5525(0.5525) \n"
     ]
    },
    {
     "name": "stderr",
     "output_type": "stream",
     "text": [
      "Epoch 7 - avg_train_loss: 0.6004 avg_val_loss: 0.5278 time: 1s\n",
      "Epoch 7 - Accuracy: 0.8581735333206759\n",
      "Epoch 7 - Save Best Score: 0.8582 Mpdel\n"
     ]
    },
    {
     "name": "stdout",
     "output_type": "stream",
     "text": [
      "EVAL: [20/21] Data 0.000 (0.008) Elapsed 0m 0s (remain 0m 0s) Loss: 0.4732(0.5278) \n",
      "Epoch: [8][0/83]Data 0.108 (0.108)Elapsed 0m 0s (remain 0m 9s)Loss: 0.5410(0.5410)Grad: 0.1741  \n",
      "Epoch: [8][82/83]Data 0.002 (0.004)Elapsed 0m 0s (remain 0m 0s)Loss: 0.5034(0.5912)Grad: 0.1661  \n",
      "EVAL: [0/21] Data 0.110 (0.110) Elapsed 0m 0s (remain 0m 2s) Loss: 0.5464(0.5464) \n"
     ]
    },
    {
     "name": "stderr",
     "output_type": "stream",
     "text": [
      "Epoch 8 - avg_train_loss: 0.5912 avg_val_loss: 0.5220 time: 1s\n",
      "Epoch 8 - Accuracy: 0.8587431175242073\n",
      "Epoch 8 - Save Best Score: 0.8587 Mpdel\n"
     ]
    },
    {
     "name": "stdout",
     "output_type": "stream",
     "text": [
      "EVAL: [20/21] Data 0.000 (0.009) Elapsed 0m 0s (remain 0m 0s) Loss: 0.4664(0.5220) \n",
      "Epoch: [9][0/83]Data 0.105 (0.105)Elapsed 0m 0s (remain 0m 9s)Loss: 0.6057(0.6057)Grad: 0.1530  \n",
      "Epoch: [9][82/83]Data 0.000 (0.004)Elapsed 0m 0s (remain 0m 0s)Loss: 0.5987(0.5861)Grad: 0.2519  \n",
      "EVAL: [0/21] Data 0.127 (0.127) Elapsed 0m 0s (remain 0m 2s) Loss: 0.5436(0.5436) \n"
     ]
    },
    {
     "name": "stderr",
     "output_type": "stream",
     "text": [
      "Epoch 9 - avg_train_loss: 0.5861 avg_val_loss: 0.5192 time: 1s\n",
      "Epoch 9 - Accuracy: 0.8593127017277388\n",
      "Epoch 9 - Save Best Score: 0.8593 Mpdel\n"
     ]
    },
    {
     "name": "stdout",
     "output_type": "stream",
     "text": [
      "EVAL: [20/21] Data 0.000 (0.010) Elapsed 0m 0s (remain 0m 0s) Loss: 0.4630(0.5192) \n",
      "Epoch: [10][0/83]Data 0.098 (0.098)Elapsed 0m 0s (remain 0m 9s)Loss: 0.6386(0.6386)Grad: 0.1830  \n",
      "Epoch: [10][82/83]Data 0.000 (0.004)Elapsed 0m 0s (remain 0m 0s)Loss: 0.5466(0.5928)Grad: 0.2485  \n",
      "EVAL: [0/21] Data 0.110 (0.110) Elapsed 0m 0s (remain 0m 2s) Loss: 0.5428(0.5428) \n"
     ]
    },
    {
     "name": "stderr",
     "output_type": "stream",
     "text": [
      "Epoch 10 - avg_train_loss: 0.5928 avg_val_loss: 0.5186 time: 1s\n",
      "Epoch 10 - Accuracy: 0.8593127017277388\n"
     ]
    },
    {
     "name": "stdout",
     "output_type": "stream",
     "text": [
      "EVAL: [20/21] Data 0.002 (0.009) Elapsed 0m 0s (remain 0m 0s) Loss: 0.4622(0.5186) \n",
      "Epoch: [11][0/83]Data 0.113 (0.113)Elapsed 0m 0s (remain 0m 10s)Loss: 0.6039(0.6039)Grad: 0.1697  \n",
      "Epoch: [11][82/83]Data 0.000 (0.004)Elapsed 0m 0s (remain 0m 0s)Loss: 0.7114(0.5807)Grad: 0.3292  \n",
      "EVAL: [0/21] Data 0.104 (0.104) Elapsed 0m 0s (remain 0m 2s) Loss: 0.5171(0.5171) \n"
     ]
    },
    {
     "name": "stderr",
     "output_type": "stream",
     "text": [
      "Epoch 11 - avg_train_loss: 0.5807 avg_val_loss: 0.4947 time: 1s\n",
      "Epoch 11 - Accuracy: 0.8632997911524587\n",
      "Epoch 11 - Save Best Score: 0.8633 Mpdel\n"
     ]
    },
    {
     "name": "stdout",
     "output_type": "stream",
     "text": [
      "EVAL: [20/21] Data 0.000 (0.008) Elapsed 0m 0s (remain 0m 0s) Loss: 0.4368(0.4947) \n",
      "Epoch: [12][0/83]Data 0.125 (0.125)Elapsed 0m 0s (remain 0m 10s)Loss: 0.6686(0.6686)Grad: 0.2380  \n",
      "Epoch: [12][82/83]Data 0.000 (0.004)Elapsed 0m 0s (remain 0m 0s)Loss: 0.7260(0.5694)Grad: 0.3922  \n",
      "EVAL: [0/21] Data 0.096 (0.096) Elapsed 0m 0s (remain 0m 1s) Loss: 0.5007(0.5007) \n"
     ]
    },
    {
     "name": "stderr",
     "output_type": "stream",
     "text": [
      "Epoch 12 - avg_train_loss: 0.5694 avg_val_loss: 0.4773 time: 1s\n",
      "Epoch 12 - Accuracy: 0.8887412189101955\n",
      "Epoch 12 - Save Best Score: 0.8887 Mpdel\n"
     ]
    },
    {
     "name": "stdout",
     "output_type": "stream",
     "text": [
      "EVAL: [20/21] Data 0.000 (0.009) Elapsed 0m 0s (remain 0m 0s) Loss: 0.4158(0.4773) \n",
      "Epoch: [13][0/83]Data 0.111 (0.111)Elapsed 0m 0s (remain 0m 10s)Loss: 0.6041(0.6041)Grad: 0.1440  \n",
      "Epoch: [13][82/83]Data 0.000 (0.004)Elapsed 0m 0s (remain 0m 0s)Loss: 0.5105(0.5597)Grad: 0.2021  \n",
      "EVAL: [0/21] Data 0.108 (0.108) Elapsed 0m 0s (remain 0m 2s) Loss: 0.4880(0.4880) \n"
     ]
    },
    {
     "name": "stderr",
     "output_type": "stream",
     "text": [
      "Epoch 13 - avg_train_loss: 0.5597 avg_val_loss: 0.4667 time: 1s\n",
      "Epoch 13 - Accuracy: 0.8898803873172584\n",
      "Epoch 13 - Save Best Score: 0.8899 Mpdel\n"
     ]
    },
    {
     "name": "stdout",
     "output_type": "stream",
     "text": [
      "EVAL: [20/21] Data 0.000 (0.008) Elapsed 0m 0s (remain 0m 0s) Loss: 0.4052(0.4667) \n",
      "Epoch: [14][0/83]Data 0.110 (0.110)Elapsed 0m 0s (remain 0m 9s)Loss: 0.5238(0.5238)Grad: 0.1238  \n",
      "Epoch: [14][82/83]Data 0.000 (0.004)Elapsed 0m 0s (remain 0m 0s)Loss: 0.5038(0.5607)Grad: 0.2851  \n",
      "EVAL: [0/21] Data 0.105 (0.105) Elapsed 0m 0s (remain 0m 2s) Loss: 0.4790(0.4790) \n"
     ]
    },
    {
     "name": "stderr",
     "output_type": "stream",
     "text": [
      "Epoch 14 - avg_train_loss: 0.5607 avg_val_loss: 0.4586 time: 1s\n",
      "Epoch 14 - Accuracy: 0.8904499715207899\n",
      "Epoch 14 - Save Best Score: 0.8904 Mpdel\n"
     ]
    },
    {
     "name": "stdout",
     "output_type": "stream",
     "text": [
      "EVAL: [20/21] Data 0.002 (0.007) Elapsed 0m 0s (remain 0m 0s) Loss: 0.3973(0.4586) \n",
      "Epoch: [15][0/83]Data 0.116 (0.116)Elapsed 0m 0s (remain 0m 10s)Loss: 0.5738(0.5738)Grad: 0.2064  \n",
      "Epoch: [15][82/83]Data 0.000 (0.004)Elapsed 0m 0s (remain 0m 0s)Loss: 0.5258(0.5515)Grad: 0.2955  \n",
      "EVAL: [0/21] Data 0.095 (0.095) Elapsed 0m 0s (remain 0m 2s) Loss: 0.4750(0.4750) \n"
     ]
    },
    {
     "name": "stderr",
     "output_type": "stream",
     "text": [
      "Epoch 15 - avg_train_loss: 0.5515 avg_val_loss: 0.4531 time: 1s\n",
      "Epoch 15 - Accuracy: 0.8923485855325612\n",
      "Epoch 15 - Save Best Score: 0.8923 Mpdel\n"
     ]
    },
    {
     "name": "stdout",
     "output_type": "stream",
     "text": [
      "EVAL: [20/21] Data 0.000 (0.009) Elapsed 0m 0s (remain 0m 0s) Loss: 0.3904(0.4531) \n",
      "Epoch: [16][0/83]Data 0.117 (0.117)Elapsed 0m 0s (remain 0m 10s)Loss: 0.5760(0.5760)Grad: 0.1431  \n",
      "Epoch: [16][82/83]Data 0.002 (0.004)Elapsed 0m 0s (remain 0m 0s)Loss: 0.4296(0.5543)Grad: 0.2499  \n",
      "EVAL: [0/21] Data 0.124 (0.124) Elapsed 0m 0s (remain 0m 2s) Loss: 0.4724(0.4724) \n"
     ]
    },
    {
     "name": "stderr",
     "output_type": "stream",
     "text": [
      "Epoch 16 - avg_train_loss: 0.5543 avg_val_loss: 0.4526 time: 1s\n",
      "Epoch 16 - Accuracy: 0.8915891399278527\n"
     ]
    },
    {
     "name": "stdout",
     "output_type": "stream",
     "text": [
      "EVAL: [20/21] Data 0.000 (0.008) Elapsed 0m 0s (remain 0m 0s) Loss: 0.3919(0.4526) \n",
      "Epoch: [17][0/83]Data 0.114 (0.114)Elapsed 0m 0s (remain 0m 10s)Loss: 0.5678(0.5678)Grad: 0.2048  \n",
      "Epoch: [17][82/83]Data 0.000 (0.004)Elapsed 0m 0s (remain 0m 0s)Loss: 0.5877(0.5444)Grad: 0.2752  \n",
      "EVAL: [0/21] Data 0.091 (0.091) Elapsed 0m 0s (remain 0m 1s) Loss: 0.4700(0.4700) \n"
     ]
    },
    {
     "name": "stderr",
     "output_type": "stream",
     "text": [
      "Epoch 17 - avg_train_loss: 0.5444 avg_val_loss: 0.4500 time: 1s\n",
      "Epoch 17 - Accuracy: 0.8915891399278527\n"
     ]
    },
    {
     "name": "stdout",
     "output_type": "stream",
     "text": [
      "EVAL: [20/21] Data 0.000 (0.008) Elapsed 0m 0s (remain 0m 0s) Loss: 0.3887(0.4500) \n",
      "Epoch: [18][0/83]Data 0.115 (0.115)Elapsed 0m 0s (remain 0m 10s)Loss: 0.5046(0.5046)Grad: 0.1705  \n",
      "Epoch: [18][82/83]Data 0.000 (0.005)Elapsed 0m 1s (remain 0m 0s)Loss: 0.4407(0.5447)Grad: 0.3107  \n",
      "EVAL: [0/21] Data 0.097 (0.097) Elapsed 0m 0s (remain 0m 2s) Loss: 0.4689(0.4689) \n"
     ]
    },
    {
     "name": "stderr",
     "output_type": "stream",
     "text": [
      "Epoch 18 - avg_train_loss: 0.5447 avg_val_loss: 0.4492 time: 1s\n",
      "Epoch 18 - Accuracy: 0.8913992785266756\n"
     ]
    },
    {
     "name": "stdout",
     "output_type": "stream",
     "text": [
      "EVAL: [20/21] Data 0.002 (0.011) Elapsed 0m 0s (remain 0m 0s) Loss: 0.3884(0.4492) \n",
      "Epoch: [19][0/83]Data 0.102 (0.102)Elapsed 0m 0s (remain 0m 8s)Loss: 0.5972(0.5972)Grad: 0.1445  \n",
      "Epoch: [19][82/83]Data 0.000 (0.004)Elapsed 0m 0s (remain 0m 0s)Loss: 0.5262(0.5455)Grad: 0.2745  \n",
      "EVAL: [0/21] Data 0.088 (0.088) Elapsed 0m 0s (remain 0m 1s) Loss: 0.4680(0.4680) \n"
     ]
    },
    {
     "name": "stderr",
     "output_type": "stream",
     "text": [
      "Epoch 19 - avg_train_loss: 0.5455 avg_val_loss: 0.4486 time: 1s\n",
      "Epoch 19 - Accuracy: 0.8913992785266756\n"
     ]
    },
    {
     "name": "stdout",
     "output_type": "stream",
     "text": [
      "EVAL: [20/21] Data 0.000 (0.010) Elapsed 0m 0s (remain 0m 0s) Loss: 0.3881(0.4486) \n",
      "Epoch: [20][0/83]Data 0.106 (0.106)Elapsed 0m 0s (remain 0m 9s)Loss: 0.5215(0.5215)Grad: 0.1715  \n",
      "Epoch: [20][82/83]Data 0.000 (0.004)Elapsed 0m 0s (remain 0m 0s)Loss: 0.6776(0.5440)Grad: 0.2781  \n",
      "EVAL: [0/21] Data 0.120 (0.120) Elapsed 0m 0s (remain 0m 2s) Loss: 0.4678(0.4678) \n"
     ]
    },
    {
     "name": "stderr",
     "output_type": "stream",
     "text": [
      "Epoch 20 - avg_train_loss: 0.5440 avg_val_loss: 0.4485 time: 1s\n",
      "Epoch 20 - Accuracy: 0.8913992785266756\n"
     ]
    },
    {
     "name": "stdout",
     "output_type": "stream",
     "text": [
      "EVAL: [20/21] Data 0.000 (0.009) Elapsed 0m 0s (remain 0m 0s) Loss: 0.3880(0.4485) \n",
      "Epoch: [21][0/83]Data 0.124 (0.124)Elapsed 0m 0s (remain 0m 10s)Loss: 0.5802(0.5802)Grad: 0.1787  \n",
      "Epoch: [21][82/83]Data 0.000 (0.004)Elapsed 0m 0s (remain 0m 0s)Loss: 0.7075(0.5501)Grad: 0.3914  \n",
      "EVAL: [0/21] Data 0.113 (0.113) Elapsed 0m 0s (remain 0m 2s) Loss: 0.4626(0.4626) \n"
     ]
    },
    {
     "name": "stderr",
     "output_type": "stream",
     "text": [
      "Epoch 21 - avg_train_loss: 0.5501 avg_val_loss: 0.4438 time: 1s\n",
      "Epoch 21 - Accuracy: 0.8908296943231441\n"
     ]
    },
    {
     "name": "stdout",
     "output_type": "stream",
     "text": [
      "EVAL: [20/21] Data 0.002 (0.008) Elapsed 0m 0s (remain 0m 0s) Loss: 0.3837(0.4438) \n",
      "Epoch: [22][0/83]Data 0.112 (0.112)Elapsed 0m 0s (remain 0m 9s)Loss: 0.5381(0.5381)Grad: 0.1391  \n",
      "Epoch: [22][82/83]Data 0.000 (0.004)Elapsed 0m 0s (remain 0m 0s)Loss: 0.3353(0.5409)Grad: 0.2681  \n",
      "EVAL: [0/21] Data 0.098 (0.098) Elapsed 0m 0s (remain 0m 2s) Loss: 0.4593(0.4593) \n"
     ]
    },
    {
     "name": "stderr",
     "output_type": "stream",
     "text": [
      "Epoch 22 - avg_train_loss: 0.5409 avg_val_loss: 0.4436 time: 1s\n",
      "Epoch 22 - Accuracy: 0.8912094171254984\n"
     ]
    },
    {
     "name": "stdout",
     "output_type": "stream",
     "text": [
      "EVAL: [20/21] Data 0.005 (0.009) Elapsed 0m 0s (remain 0m 0s) Loss: 0.3842(0.4436) \n",
      "Epoch: [23][0/83]Data 0.133 (0.133)Elapsed 0m 0s (remain 0m 11s)Loss: 0.5397(0.5397)Grad: 0.1405  \n",
      "Epoch: [23][82/83]Data 0.000 (0.004)Elapsed 0m 0s (remain 0m 0s)Loss: 0.4664(0.5439)Grad: 0.3293  \n",
      "EVAL: [0/21] Data 0.108 (0.108) Elapsed 0m 0s (remain 0m 2s) Loss: 0.4531(0.4531) \n"
     ]
    },
    {
     "name": "stderr",
     "output_type": "stream",
     "text": [
      "Epoch 23 - avg_train_loss: 0.5439 avg_val_loss: 0.4388 time: 1s\n",
      "Epoch 23 - Accuracy: 0.8910195557243212\n"
     ]
    },
    {
     "name": "stdout",
     "output_type": "stream",
     "text": [
      "EVAL: [20/21] Data 0.002 (0.008) Elapsed 0m 0s (remain 0m 0s) Loss: 0.3786(0.4388) \n",
      "Epoch: [24][0/83]Data 0.119 (0.119)Elapsed 0m 0s (remain 0m 10s)Loss: 0.5798(0.5798)Grad: 0.1517  \n",
      "Epoch: [24][82/83]Data 0.002 (0.004)Elapsed 0m 0s (remain 0m 0s)Loss: 0.4961(0.5416)Grad: 0.2997  \n",
      "EVAL: [0/21] Data 0.115 (0.115) Elapsed 0m 0s (remain 0m 2s) Loss: 0.4503(0.4503) \n"
     ]
    },
    {
     "name": "stderr",
     "output_type": "stream",
     "text": [
      "Epoch 24 - avg_train_loss: 0.5416 avg_val_loss: 0.4366 time: 1s\n",
      "Epoch 24 - Accuracy: 0.8912094171254984\n"
     ]
    },
    {
     "name": "stdout",
     "output_type": "stream",
     "text": [
      "EVAL: [20/21] Data 0.000 (0.008) Elapsed 0m 0s (remain 0m 0s) Loss: 0.3751(0.4366) \n",
      "Epoch: [25][0/83]Data 0.111 (0.111)Elapsed 0m 0s (remain 0m 9s)Loss: 0.6291(0.6291)Grad: 0.1882  \n",
      "Epoch: [25][82/83]Data 0.000 (0.004)Elapsed 0m 0s (remain 0m 0s)Loss: 0.3710(0.5466)Grad: 0.2995  \n",
      "EVAL: [0/21] Data 0.106 (0.106) Elapsed 0m 0s (remain 0m 2s) Loss: 0.4478(0.4478) \n"
     ]
    },
    {
     "name": "stderr",
     "output_type": "stream",
     "text": [
      "Epoch 25 - avg_train_loss: 0.5466 avg_val_loss: 0.4346 time: 1s\n",
      "Epoch 25 - Accuracy: 0.8910195557243212\n"
     ]
    },
    {
     "name": "stdout",
     "output_type": "stream",
     "text": [
      "EVAL: [20/21] Data 0.002 (0.009) Elapsed 0m 0s (remain 0m 0s) Loss: 0.3735(0.4346) \n",
      "Epoch: [26][0/83]Data 0.107 (0.107)Elapsed 0m 0s (remain 0m 9s)Loss: 0.5169(0.5169)Grad: 0.1201  \n",
      "Epoch: [26][82/83]Data 0.000 (0.004)Elapsed 0m 0s (remain 0m 0s)Loss: 0.4787(0.5352)Grad: 0.3459  \n",
      "EVAL: [0/21] Data 0.122 (0.122) Elapsed 0m 0s (remain 0m 2s) Loss: 0.4491(0.4491) \n"
     ]
    },
    {
     "name": "stderr",
     "output_type": "stream",
     "text": [
      "Epoch 26 - avg_train_loss: 0.5352 avg_val_loss: 0.4368 time: 1s\n",
      "Epoch 26 - Accuracy: 0.8912094171254984\n"
     ]
    },
    {
     "name": "stdout",
     "output_type": "stream",
     "text": [
      "EVAL: [20/21] Data 0.000 (0.009) Elapsed 0m 0s (remain 0m 0s) Loss: 0.3767(0.4368) \n",
      "Epoch: [27][0/83]Data 0.108 (0.108)Elapsed 0m 0s (remain 0m 9s)Loss: 0.5647(0.5647)Grad: 0.2059  \n",
      "Epoch: [27][82/83]Data 0.000 (0.004)Elapsed 0m 0s (remain 0m 0s)Loss: 0.3945(0.5377)Grad: 0.2395  \n",
      "EVAL: [0/21] Data 0.096 (0.096) Elapsed 0m 0s (remain 0m 1s) Loss: 0.4483(0.4483) \n"
     ]
    },
    {
     "name": "stderr",
     "output_type": "stream",
     "text": [
      "Epoch 27 - avg_train_loss: 0.5377 avg_val_loss: 0.4363 time: 1s\n",
      "Epoch 27 - Accuracy: 0.8908296943231441\n"
     ]
    },
    {
     "name": "stdout",
     "output_type": "stream",
     "text": [
      "EVAL: [20/21] Data 0.000 (0.009) Elapsed 0m 0s (remain 0m 0s) Loss: 0.3758(0.4363) \n",
      "Epoch: [28][0/83]Data 0.110 (0.110)Elapsed 0m 0s (remain 0m 9s)Loss: 0.5171(0.5171)Grad: 0.1824  \n",
      "Epoch: [28][82/83]Data 0.002 (0.004)Elapsed 0m 0s (remain 0m 0s)Loss: 0.3255(0.5296)Grad: 0.2714  \n",
      "EVAL: [0/21] Data 0.105 (0.105) Elapsed 0m 0s (remain 0m 2s) Loss: 0.4476(0.4476) \n"
     ]
    },
    {
     "name": "stderr",
     "output_type": "stream",
     "text": [
      "Epoch 28 - avg_train_loss: 0.5296 avg_val_loss: 0.4361 time: 1s\n",
      "Epoch 28 - Accuracy: 0.8908296943231441\n"
     ]
    },
    {
     "name": "stdout",
     "output_type": "stream",
     "text": [
      "EVAL: [20/21] Data 0.000 (0.008) Elapsed 0m 0s (remain 0m 0s) Loss: 0.3751(0.4361) \n",
      "Epoch: [29][0/83]Data 0.095 (0.095)Elapsed 0m 0s (remain 0m 8s)Loss: 0.5074(0.5074)Grad: 0.1604  \n",
      "Epoch: [29][82/83]Data 0.000 (0.004)Elapsed 0m 0s (remain 0m 0s)Loss: 0.7225(0.5349)Grad: 0.4713  \n",
      "EVAL: [0/21] Data 0.114 (0.114) Elapsed 0m 0s (remain 0m 2s) Loss: 0.4467(0.4467) \n"
     ]
    },
    {
     "name": "stderr",
     "output_type": "stream",
     "text": [
      "Epoch 29 - avg_train_loss: 0.5349 avg_val_loss: 0.4353 time: 1s\n",
      "Epoch 29 - Accuracy: 0.8908296943231441\n"
     ]
    },
    {
     "name": "stdout",
     "output_type": "stream",
     "text": [
      "EVAL: [20/21] Data 0.000 (0.010) Elapsed 0m 0s (remain 0m 0s) Loss: 0.3743(0.4353) \n",
      "Epoch: [30][0/83]Data 0.128 (0.128)Elapsed 0m 0s (remain 0m 11s)Loss: 0.5479(0.5479)Grad: 0.1268  \n",
      "Epoch: [30][82/83]Data 0.000 (0.004)Elapsed 0m 0s (remain 0m 0s)Loss: 0.4435(0.5391)Grad: 0.2548  \n",
      "EVAL: [0/21] Data 0.100 (0.100) Elapsed 0m 0s (remain 0m 2s) Loss: 0.4466(0.4466) \n"
     ]
    },
    {
     "name": "stderr",
     "output_type": "stream",
     "text": [
      "Epoch 30 - avg_train_loss: 0.5391 avg_val_loss: 0.4352 time: 1s\n",
      "Epoch 30 - Accuracy: 0.8908296943231441\n",
      "=============== fold: 2 result ================\n",
      "Score: 0.89235\n",
      "========== fold: 3 training ============\n"
     ]
    },
    {
     "name": "stdout",
     "output_type": "stream",
     "text": [
      "EVAL: [20/21] Data 0.000 (0.009) Elapsed 0m 0s (remain 0m 0s) Loss: 0.3742(0.4352) \n",
      "Epoch: [1][0/83]Data 0.118 (0.118)Elapsed 0m 0s (remain 0m 10s)Loss: 1.6719(1.6719)Grad: 0.6158  \n",
      "Epoch: [1][82/83]Data 0.000 (0.004)Elapsed 0m 0s (remain 0m 0s)Loss: 1.3148(1.5019)Grad: 0.5879  \n",
      "EVAL: [0/21] Data 0.111 (0.111) Elapsed 0m 0s (remain 0m 2s) Loss: 1.2929(1.2929) \n"
     ]
    },
    {
     "name": "stderr",
     "output_type": "stream",
     "text": [
      "Epoch 1 - avg_train_loss: 1.5019 avg_val_loss: 1.2774 time: 1s\n",
      "Epoch 1 - Accuracy: 0.6899563318777293\n",
      "Epoch 1 - Save Best Score: 0.6900 Mpdel\n"
     ]
    },
    {
     "name": "stdout",
     "output_type": "stream",
     "text": [
      "EVAL: [20/21] Data 0.002 (0.009) Elapsed 0m 0s (remain 0m 0s) Loss: 1.3227(1.2774) \n",
      "Epoch: [2][0/83]Data 0.117 (0.117)Elapsed 0m 0s (remain 0m 10s)Loss: 1.3175(1.3175)Grad: 0.6008  \n",
      "Epoch: [2][82/83]Data 0.000 (0.004)Elapsed 0m 0s (remain 0m 0s)Loss: 0.8335(1.0265)Grad: 0.2781  \n",
      "EVAL: [0/21] Data 0.105 (0.105) Elapsed 0m 0s (remain 0m 2s) Loss: 0.7743(0.7743) \n"
     ]
    },
    {
     "name": "stderr",
     "output_type": "stream",
     "text": [
      "Epoch 2 - avg_train_loss: 1.0265 avg_val_loss: 0.7304 time: 1s\n",
      "Epoch 2 - Accuracy: 0.7049553825707233\n",
      "Epoch 2 - Save Best Score: 0.7050 Mpdel\n"
     ]
    },
    {
     "name": "stdout",
     "output_type": "stream",
     "text": [
      "EVAL: [20/21] Data 0.000 (0.010) Elapsed 0m 0s (remain 0m 0s) Loss: 0.8623(0.7304) \n",
      "Epoch: [3][0/83]Data 0.123 (0.123)Elapsed 0m 0s (remain 0m 10s)Loss: 0.7849(0.7849)Grad: 0.2724  \n",
      "Epoch: [3][82/83]Data 0.000 (0.004)Elapsed 0m 0s (remain 0m 0s)Loss: 0.6502(0.7310)Grad: 0.2881  \n",
      "EVAL: [0/21] Data 0.119 (0.119) Elapsed 0m 0s (remain 0m 2s) Loss: 0.6264(0.6264) \n"
     ]
    },
    {
     "name": "stderr",
     "output_type": "stream",
     "text": [
      "Epoch 3 - avg_train_loss: 0.7310 avg_val_loss: 0.5794 time: 1s\n",
      "Epoch 3 - Accuracy: 0.8595025631289159\n",
      "Epoch 3 - Save Best Score: 0.8595 Mpdel\n"
     ]
    },
    {
     "name": "stdout",
     "output_type": "stream",
     "text": [
      "EVAL: [20/21] Data 0.000 (0.010) Elapsed 0m 0s (remain 0m 0s) Loss: 0.7094(0.5794) \n",
      "Epoch: [4][0/83]Data 0.099 (0.099)Elapsed 0m 0s (remain 0m 9s)Loss: 0.5980(0.5980)Grad: 0.1675  \n",
      "Epoch: [4][82/83]Data 0.000 (0.004)Elapsed 0m 0s (remain 0m 0s)Loss: 0.6271(0.6544)Grad: 0.2661  \n",
      "EVAL: [0/21] Data 0.114 (0.114) Elapsed 0m 0s (remain 0m 2s) Loss: 0.5678(0.5678) \n"
     ]
    },
    {
     "name": "stderr",
     "output_type": "stream",
     "text": [
      "Epoch 4 - avg_train_loss: 0.6544 avg_val_loss: 0.5239 time: 1s\n",
      "Epoch 4 - Accuracy: 0.8629200683501044\n",
      "Epoch 4 - Save Best Score: 0.8629 Mpdel\n"
     ]
    },
    {
     "name": "stdout",
     "output_type": "stream",
     "text": [
      "EVAL: [20/21] Data 0.000 (0.008) Elapsed 0m 0s (remain 0m 0s) Loss: 0.6635(0.5239) \n",
      "Epoch: [5][0/83]Data 0.096 (0.096)Elapsed 0m 0s (remain 0m 8s)Loss: 0.6958(0.6958)Grad: 0.1770  \n",
      "Epoch: [5][82/83]Data 0.002 (0.004)Elapsed 0m 0s (remain 0m 0s)Loss: 0.6590(0.6263)Grad: 0.3080  \n",
      "EVAL: [0/21] Data 0.117 (0.117) Elapsed 0m 0s (remain 0m 2s) Loss: 0.5363(0.5363) \n"
     ]
    },
    {
     "name": "stderr",
     "output_type": "stream",
     "text": [
      "Epoch 5 - avg_train_loss: 0.6263 avg_val_loss: 0.4932 time: 1s\n",
      "Epoch 5 - Accuracy: 0.8634896525536359\n",
      "Epoch 5 - Save Best Score: 0.8635 Mpdel\n"
     ]
    },
    {
     "name": "stdout",
     "output_type": "stream",
     "text": [
      "EVAL: [20/21] Data 0.000 (0.009) Elapsed 0m 0s (remain 0m 0s) Loss: 0.6362(0.4932) \n",
      "Epoch: [6][0/83]Data 0.111 (0.111)Elapsed 0m 0s (remain 0m 9s)Loss: 0.6659(0.6659)Grad: 0.1371  \n",
      "Epoch: [6][82/83]Data 0.000 (0.004)Elapsed 0m 0s (remain 0m 0s)Loss: 0.6116(0.6158)Grad: 0.3034  \n",
      "EVAL: [0/21] Data 0.109 (0.109) Elapsed 0m 0s (remain 0m 2s) Loss: 0.5197(0.5197) \n"
     ]
    },
    {
     "name": "stderr",
     "output_type": "stream",
     "text": [
      "Epoch 6 - avg_train_loss: 0.6158 avg_val_loss: 0.4760 time: 1s\n",
      "Epoch 6 - Accuracy: 0.8876020505031327\n",
      "Epoch 6 - Save Best Score: 0.8876 Mpdel\n"
     ]
    },
    {
     "name": "stdout",
     "output_type": "stream",
     "text": [
      "EVAL: [20/21] Data 0.000 (0.009) Elapsed 0m 0s (remain 0m 0s) Loss: 0.6204(0.4760) \n",
      "Epoch: [7][0/83]Data 0.101 (0.101)Elapsed 0m 0s (remain 0m 9s)Loss: 0.5644(0.5644)Grad: 0.1729  \n",
      "Epoch: [7][82/83]Data 0.000 (0.004)Elapsed 0m 0s (remain 0m 0s)Loss: 0.3993(0.6020)Grad: 0.2240  \n",
      "EVAL: [0/21] Data 0.115 (0.115) Elapsed 0m 0s (remain 0m 2s) Loss: 0.5096(0.5096) \n"
     ]
    },
    {
     "name": "stderr",
     "output_type": "stream",
     "text": [
      "Epoch 7 - avg_train_loss: 0.6020 avg_val_loss: 0.4649 time: 1s\n",
      "Epoch 7 - Accuracy: 0.8883614961078413\n",
      "Epoch 7 - Save Best Score: 0.8884 Mpdel\n"
     ]
    },
    {
     "name": "stdout",
     "output_type": "stream",
     "text": [
      "EVAL: [20/21] Data 0.000 (0.008) Elapsed 0m 0s (remain 0m 0s) Loss: 0.6100(0.4649) \n",
      "Epoch: [8][0/83]Data 0.109 (0.109)Elapsed 0m 0s (remain 0m 9s)Loss: 0.5681(0.5681)Grad: 0.1520  \n",
      "Epoch: [8][82/83]Data 0.000 (0.004)Elapsed 0m 0s (remain 0m 0s)Loss: 0.5576(0.5973)Grad: 0.2502  \n",
      "EVAL: [0/21] Data 0.106 (0.106) Elapsed 0m 0s (remain 0m 2s) Loss: 0.5041(0.5041) \n"
     ]
    },
    {
     "name": "stderr",
     "output_type": "stream",
     "text": [
      "Epoch 8 - avg_train_loss: 0.5973 avg_val_loss: 0.4589 time: 1s\n",
      "Epoch 8 - Accuracy: 0.887981773305487\n"
     ]
    },
    {
     "name": "stdout",
     "output_type": "stream",
     "text": [
      "EVAL: [20/21] Data 0.000 (0.008) Elapsed 0m 0s (remain 0m 0s) Loss: 0.6037(0.4589) \n",
      "Epoch: [9][0/83]Data 0.098 (0.098)Elapsed 0m 0s (remain 0m 8s)Loss: 0.5739(0.5739)Grad: 0.1318  \n",
      "Epoch: [9][82/83]Data 0.002 (0.004)Elapsed 0m 0s (remain 0m 0s)Loss: 0.5407(0.5974)Grad: 0.2939  \n",
      "EVAL: [0/21] Data 0.096 (0.096) Elapsed 0m 0s (remain 0m 1s) Loss: 0.5019(0.5019) \n"
     ]
    },
    {
     "name": "stderr",
     "output_type": "stream",
     "text": [
      "Epoch 9 - avg_train_loss: 0.5974 avg_val_loss: 0.4566 time: 1s\n",
      "Epoch 9 - Accuracy: 0.8877919119043098\n"
     ]
    },
    {
     "name": "stdout",
     "output_type": "stream",
     "text": [
      "EVAL: [20/21] Data 0.000 (0.010) Elapsed 0m 0s (remain 0m 0s) Loss: 0.6016(0.4566) \n",
      "Epoch: [10][0/83]Data 0.106 (0.106)Elapsed 0m 0s (remain 0m 9s)Loss: 0.5136(0.5136)Grad: 0.1779  \n",
      "Epoch: [10][82/83]Data 0.000 (0.004)Elapsed 0m 0s (remain 0m 0s)Loss: 0.5537(0.5880)Grad: 0.2572  \n",
      "EVAL: [0/21] Data 0.097 (0.097) Elapsed 0m 0s (remain 0m 1s) Loss: 0.5014(0.5014) \n"
     ]
    },
    {
     "name": "stderr",
     "output_type": "stream",
     "text": [
      "Epoch 10 - avg_train_loss: 0.5880 avg_val_loss: 0.4560 time: 1s\n",
      "Epoch 10 - Accuracy: 0.8877919119043098\n"
     ]
    },
    {
     "name": "stdout",
     "output_type": "stream",
     "text": [
      "EVAL: [20/21] Data 0.000 (0.008) Elapsed 0m 0s (remain 0m 0s) Loss: 0.6010(0.4560) \n",
      "Epoch: [11][0/83]Data 0.109 (0.109)Elapsed 0m 0s (remain 0m 9s)Loss: 0.5884(0.5884)Grad: 0.1513  \n",
      "Epoch: [11][82/83]Data 0.002 (0.004)Elapsed 0m 0s (remain 0m 0s)Loss: 0.5721(0.5867)Grad: 0.3336  \n",
      "EVAL: [0/21] Data 0.113 (0.113) Elapsed 0m 0s (remain 0m 2s) Loss: 0.4865(0.4865) \n"
     ]
    },
    {
     "name": "stderr",
     "output_type": "stream",
     "text": [
      "Epoch 11 - avg_train_loss: 0.5867 avg_val_loss: 0.4387 time: 1s\n",
      "Epoch 11 - Accuracy: 0.889310803113727\n",
      "Epoch 11 - Save Best Score: 0.8893 Mpdel\n"
     ]
    },
    {
     "name": "stdout",
     "output_type": "stream",
     "text": [
      "EVAL: [20/21] Data 0.001 (0.008) Elapsed 0m 0s (remain 0m 0s) Loss: 0.5874(0.4387) \n",
      "Epoch: [12][0/83]Data 0.119 (0.119)Elapsed 0m 0s (remain 0m 10s)Loss: 0.5753(0.5753)Grad: 0.1296  \n",
      "Epoch: [12][82/83]Data 0.000 (0.004)Elapsed 0m 0s (remain 0m 0s)Loss: 0.5222(0.5790)Grad: 0.2069  \n",
      "EVAL: [0/21] Data 0.110 (0.110) Elapsed 0m 0s (remain 0m 2s) Loss: 0.4794(0.4794) \n"
     ]
    },
    {
     "name": "stderr",
     "output_type": "stream",
     "text": [
      "Epoch 12 - avg_train_loss: 0.5790 avg_val_loss: 0.4288 time: 1s\n",
      "Epoch 12 - Accuracy: 0.8910195557243212\n",
      "Epoch 12 - Save Best Score: 0.8910 Mpdel\n"
     ]
    },
    {
     "name": "stdout",
     "output_type": "stream",
     "text": [
      "EVAL: [20/21] Data 0.000 (0.007) Elapsed 0m 0s (remain 0m 0s) Loss: 0.5781(0.4288) \n",
      "Epoch: [13][0/83]Data 0.113 (0.113)Elapsed 0m 0s (remain 0m 9s)Loss: 0.5742(0.5742)Grad: 0.1880  \n",
      "Epoch: [13][82/83]Data 0.002 (0.004)Elapsed 0m 0s (remain 0m 0s)Loss: 0.6348(0.5756)Grad: 0.3395  \n",
      "EVAL: [0/21] Data 0.100 (0.100) Elapsed 0m 0s (remain 0m 2s) Loss: 0.4760(0.4760) \n"
     ]
    },
    {
     "name": "stderr",
     "output_type": "stream",
     "text": [
      "Epoch 13 - avg_train_loss: 0.5756 avg_val_loss: 0.4209 time: 1s\n",
      "Epoch 13 - Accuracy: 0.8929181697360926\n",
      "Epoch 13 - Save Best Score: 0.8929 Mpdel\n"
     ]
    },
    {
     "name": "stdout",
     "output_type": "stream",
     "text": [
      "EVAL: [20/21] Data 0.000 (0.008) Elapsed 0m 0s (remain 0m 0s) Loss: 0.5680(0.4209) \n",
      "Epoch: [14][0/83]Data 0.101 (0.101)Elapsed 0m 0s (remain 0m 9s)Loss: 0.6862(0.6862)Grad: 0.2220  \n",
      "Epoch: [14][82/83]Data 0.000 (0.004)Elapsed 0m 0s (remain 0m 0s)Loss: 0.5361(0.5673)Grad: 0.3173  \n",
      "EVAL: [0/21] Data 0.126 (0.126) Elapsed 0m 0s (remain 0m 2s) Loss: 0.4736(0.4736) \n"
     ]
    },
    {
     "name": "stderr",
     "output_type": "stream",
     "text": [
      "Epoch 14 - avg_train_loss: 0.5673 avg_val_loss: 0.4156 time: 1s\n",
      "Epoch 14 - Accuracy: 0.8931080311372698\n",
      "Epoch 14 - Save Best Score: 0.8931 Mpdel\n"
     ]
    },
    {
     "name": "stdout",
     "output_type": "stream",
     "text": [
      "EVAL: [20/21] Data 0.005 (0.010) Elapsed 0m 0s (remain 0m 0s) Loss: 0.5656(0.4156) \n",
      "Epoch: [15][0/83]Data 0.122 (0.122)Elapsed 0m 0s (remain 0m 10s)Loss: 0.5287(0.5287)Grad: 0.1738  \n",
      "Epoch: [15][82/83]Data 0.000 (0.004)Elapsed 0m 0s (remain 0m 0s)Loss: 0.4792(0.5680)Grad: 0.2322  \n",
      "EVAL: [0/21] Data 0.101 (0.101) Elapsed 0m 0s (remain 0m 2s) Loss: 0.4732(0.4732) \n"
     ]
    },
    {
     "name": "stderr",
     "output_type": "stream",
     "text": [
      "Epoch 15 - avg_train_loss: 0.5680 avg_val_loss: 0.4140 time: 1s\n",
      "Epoch 15 - Accuracy: 0.8940573381431555\n",
      "Epoch 15 - Save Best Score: 0.8941 Mpdel\n"
     ]
    },
    {
     "name": "stdout",
     "output_type": "stream",
     "text": [
      "EVAL: [20/21] Data 0.000 (0.009) Elapsed 0m 0s (remain 0m 0s) Loss: 0.5641(0.4140) \n",
      "Epoch: [16][0/83]Data 0.097 (0.097)Elapsed 0m 0s (remain 0m 9s)Loss: 0.5430(0.5430)Grad: 0.1686  \n",
      "Epoch: [16][82/83]Data 0.000 (0.004)Elapsed 0m 0s (remain 0m 0s)Loss: 0.7286(0.5640)Grad: 0.3902  \n",
      "EVAL: [0/21] Data 0.096 (0.096) Elapsed 0m 0s (remain 0m 2s) Loss: 0.4719(0.4719) \n"
     ]
    },
    {
     "name": "stderr",
     "output_type": "stream",
     "text": [
      "Epoch 16 - avg_train_loss: 0.5640 avg_val_loss: 0.4115 time: 1s\n",
      "Epoch 16 - Accuracy: 0.8940573381431555\n"
     ]
    },
    {
     "name": "stdout",
     "output_type": "stream",
     "text": [
      "EVAL: [20/21] Data 0.000 (0.008) Elapsed 0m 0s (remain 0m 0s) Loss: 0.5614(0.4115) \n",
      "Epoch: [17][0/83]Data 0.119 (0.119)Elapsed 0m 0s (remain 0m 10s)Loss: 0.5366(0.5366)Grad: 0.1869  \n",
      "Epoch: [17][82/83]Data 0.000 (0.004)Elapsed 0m 1s (remain 0m 0s)Loss: 0.4211(0.5602)Grad: 0.2454  \n",
      "EVAL: [0/21] Data 0.135 (0.135) Elapsed 0m 0s (remain 0m 2s) Loss: 0.4708(0.4708) \n"
     ]
    },
    {
     "name": "stderr",
     "output_type": "stream",
     "text": [
      "Epoch 17 - avg_train_loss: 0.5602 avg_val_loss: 0.4101 time: 1s\n",
      "Epoch 17 - Accuracy: 0.8936776153408013\n"
     ]
    },
    {
     "name": "stdout",
     "output_type": "stream",
     "text": [
      "EVAL: [20/21] Data 0.002 (0.009) Elapsed 0m 0s (remain 0m 0s) Loss: 0.5610(0.4101) \n",
      "Epoch: [18][0/83]Data 0.130 (0.130)Elapsed 0m 0s (remain 0m 11s)Loss: 0.5381(0.5381)Grad: 0.1263  \n",
      "Epoch: [18][82/83]Data 0.002 (0.004)Elapsed 0m 0s (remain 0m 0s)Loss: 0.4685(0.5608)Grad: 0.3149  \n",
      "EVAL: [0/21] Data 0.092 (0.092) Elapsed 0m 0s (remain 0m 1s) Loss: 0.4710(0.4710) \n"
     ]
    },
    {
     "name": "stderr",
     "output_type": "stream",
     "text": [
      "Epoch 18 - avg_train_loss: 0.5608 avg_val_loss: 0.4094 time: 1s\n",
      "Epoch 18 - Accuracy: 0.8934877539396241\n"
     ]
    },
    {
     "name": "stdout",
     "output_type": "stream",
     "text": [
      "EVAL: [20/21] Data 0.000 (0.008) Elapsed 0m 0s (remain 0m 0s) Loss: 0.5605(0.4094) \n",
      "Epoch: [19][0/83]Data 0.110 (0.110)Elapsed 0m 0s (remain 0m 10s)Loss: 0.5907(0.5907)Grad: 0.1696  \n",
      "Epoch: [19][82/83]Data 0.000 (0.004)Elapsed 0m 0s (remain 0m 0s)Loss: 0.8226(0.5683)Grad: 0.4462  \n",
      "EVAL: [0/21] Data 0.146 (0.146) Elapsed 0m 0s (remain 0m 2s) Loss: 0.4707(0.4707) \n"
     ]
    },
    {
     "name": "stderr",
     "output_type": "stream",
     "text": [
      "Epoch 19 - avg_train_loss: 0.5683 avg_val_loss: 0.4092 time: 1s\n",
      "Epoch 19 - Accuracy: 0.8932978925384469\n"
     ]
    },
    {
     "name": "stdout",
     "output_type": "stream",
     "text": [
      "EVAL: [20/21] Data 0.000 (0.009) Elapsed 0m 0s (remain 0m 0s) Loss: 0.5597(0.4092) \n",
      "Epoch: [20][0/83]Data 0.112 (0.112)Elapsed 0m 0s (remain 0m 9s)Loss: 0.5344(0.5344)Grad: 0.1661  \n",
      "Epoch: [20][82/83]Data 0.000 (0.004)Elapsed 0m 0s (remain 0m 0s)Loss: 0.5872(0.5610)Grad: 0.3105  \n",
      "EVAL: [0/21] Data 0.109 (0.109) Elapsed 0m 0s (remain 0m 2s) Loss: 0.4707(0.4707) \n"
     ]
    },
    {
     "name": "stderr",
     "output_type": "stream",
     "text": [
      "Epoch 20 - avg_train_loss: 0.5610 avg_val_loss: 0.4091 time: 1s\n",
      "Epoch 20 - Accuracy: 0.8931080311372698\n"
     ]
    },
    {
     "name": "stdout",
     "output_type": "stream",
     "text": [
      "EVAL: [20/21] Data 0.002 (0.009) Elapsed 0m 0s (remain 0m 0s) Loss: 0.5597(0.4091) \n",
      "Epoch: [21][0/83]Data 0.099 (0.099)Elapsed 0m 0s (remain 0m 9s)Loss: 0.5257(0.5257)Grad: 0.1682  \n",
      "Epoch: [21][82/83]Data 0.000 (0.004)Elapsed 0m 0s (remain 0m 0s)Loss: 0.7161(0.5574)Grad: 0.3614  \n",
      "EVAL: [0/21] Data 0.117 (0.117) Elapsed 0m 0s (remain 0m 2s) Loss: 0.4697(0.4697) \n"
     ]
    },
    {
     "name": "stderr",
     "output_type": "stream",
     "text": [
      "Epoch 21 - avg_train_loss: 0.5574 avg_val_loss: 0.4077 time: 1s\n",
      "Epoch 21 - Accuracy: 0.8929181697360926\n"
     ]
    },
    {
     "name": "stdout",
     "output_type": "stream",
     "text": [
      "EVAL: [20/21] Data 0.002 (0.009) Elapsed 0m 0s (remain 0m 0s) Loss: 0.5610(0.4077) \n",
      "Epoch: [22][0/83]Data 0.110 (0.110)Elapsed 0m 0s (remain 0m 9s)Loss: 0.5490(0.5490)Grad: 0.1471  \n",
      "Epoch: [22][82/83]Data 0.000 (0.004)Elapsed 0m 0s (remain 0m 0s)Loss: 0.4986(0.5528)Grad: 0.2890  \n",
      "EVAL: [0/21] Data 0.096 (0.096) Elapsed 0m 0s (remain 0m 2s) Loss: 0.4668(0.4668) \n"
     ]
    },
    {
     "name": "stderr",
     "output_type": "stream",
     "text": [
      "Epoch 22 - avg_train_loss: 0.5528 avg_val_loss: 0.4040 time: 1s\n",
      "Epoch 22 - Accuracy: 0.8931080311372698\n"
     ]
    },
    {
     "name": "stdout",
     "output_type": "stream",
     "text": [
      "EVAL: [20/21] Data 0.000 (0.009) Elapsed 0m 0s (remain 0m 0s) Loss: 0.5574(0.4040) \n",
      "Epoch: [23][0/83]Data 0.116 (0.116)Elapsed 0m 0s (remain 0m 10s)Loss: 0.4837(0.4837)Grad: 0.2128  \n",
      "Epoch: [23][82/83]Data 0.000 (0.004)Elapsed 0m 0s (remain 0m 0s)Loss: 0.5316(0.5571)Grad: 0.2262  \n",
      "EVAL: [0/21] Data 0.100 (0.100) Elapsed 0m 0s (remain 0m 2s) Loss: 0.4656(0.4656) \n"
     ]
    },
    {
     "name": "stderr",
     "output_type": "stream",
     "text": [
      "Epoch 23 - avg_train_loss: 0.5571 avg_val_loss: 0.4035 time: 1s\n",
      "Epoch 23 - Accuracy: 0.8931080311372698\n"
     ]
    },
    {
     "name": "stdout",
     "output_type": "stream",
     "text": [
      "EVAL: [20/21] Data 0.000 (0.009) Elapsed 0m 0s (remain 0m 0s) Loss: 0.5567(0.4035) \n",
      "Epoch: [24][0/83]Data 0.100 (0.100)Elapsed 0m 0s (remain 0m 8s)Loss: 0.6778(0.6778)Grad: 0.2071  \n",
      "Epoch: [24][82/83]Data 0.000 (0.004)Elapsed 0m 0s (remain 0m 0s)Loss: 0.4266(0.5515)Grad: 0.3537  \n",
      "EVAL: [0/21] Data 0.106 (0.106) Elapsed 0m 0s (remain 0m 2s) Loss: 0.4653(0.4653) \n"
     ]
    },
    {
     "name": "stderr",
     "output_type": "stream",
     "text": [
      "Epoch 24 - avg_train_loss: 0.5515 avg_val_loss: 0.4022 time: 1s\n",
      "Epoch 24 - Accuracy: 0.8931080311372698\n"
     ]
    },
    {
     "name": "stdout",
     "output_type": "stream",
     "text": [
      "EVAL: [20/21] Data 0.002 (0.009) Elapsed 0m 0s (remain 0m 0s) Loss: 0.5553(0.4022) \n",
      "Epoch: [25][0/83]Data 0.108 (0.108)Elapsed 0m 0s (remain 0m 9s)Loss: 0.5770(0.5770)Grad: 0.1457  \n",
      "Epoch: [25][82/83]Data 0.000 (0.004)Elapsed 0m 0s (remain 0m 0s)Loss: 0.6362(0.5499)Grad: 0.3502  \n",
      "EVAL: [0/21] Data 0.118 (0.118) Elapsed 0m 0s (remain 0m 2s) Loss: 0.4646(0.4646) \n"
     ]
    },
    {
     "name": "stderr",
     "output_type": "stream",
     "text": [
      "Epoch 25 - avg_train_loss: 0.5499 avg_val_loss: 0.4014 time: 1s\n",
      "Epoch 25 - Accuracy: 0.8931080311372698\n"
     ]
    },
    {
     "name": "stdout",
     "output_type": "stream",
     "text": [
      "EVAL: [20/21] Data 0.000 (0.008) Elapsed 0m 0s (remain 0m 0s) Loss: 0.5561(0.4014) \n",
      "Epoch: [26][0/83]Data 0.111 (0.111)Elapsed 0m 0s (remain 0m 9s)Loss: 0.5634(0.5634)Grad: 0.1302  \n",
      "Epoch: [26][82/83]Data 0.002 (0.004)Elapsed 0m 0s (remain 0m 0s)Loss: 0.4604(0.5480)Grad: 0.2968  \n",
      "EVAL: [0/21] Data 0.121 (0.121) Elapsed 0m 0s (remain 0m 2s) Loss: 0.4641(0.4641) \n"
     ]
    },
    {
     "name": "stderr",
     "output_type": "stream",
     "text": [
      "Epoch 26 - avg_train_loss: 0.5480 avg_val_loss: 0.4014 time: 1s\n",
      "Epoch 26 - Accuracy: 0.8931080311372698\n"
     ]
    },
    {
     "name": "stdout",
     "output_type": "stream",
     "text": [
      "EVAL: [20/21] Data 0.002 (0.009) Elapsed 0m 0s (remain 0m 0s) Loss: 0.5577(0.4014) \n",
      "Epoch: [27][0/83]Data 0.119 (0.119)Elapsed 0m 0s (remain 0m 10s)Loss: 0.4929(0.4929)Grad: 0.1584  \n",
      "Epoch: [27][82/83]Data 0.000 (0.004)Elapsed 0m 0s (remain 0m 0s)Loss: 0.5611(0.5477)Grad: 0.3467  \n",
      "EVAL: [0/21] Data 0.113 (0.113) Elapsed 0m 0s (remain 0m 2s) Loss: 0.4624(0.4624) \n"
     ]
    },
    {
     "name": "stderr",
     "output_type": "stream",
     "text": [
      "Epoch 27 - avg_train_loss: 0.5477 avg_val_loss: 0.4005 time: 1s\n",
      "Epoch 27 - Accuracy: 0.8929181697360926\n"
     ]
    },
    {
     "name": "stdout",
     "output_type": "stream",
     "text": [
      "EVAL: [20/21] Data 0.000 (0.009) Elapsed 0m 0s (remain 0m 0s) Loss: 0.5566(0.4005) \n",
      "Epoch: [28][0/83]Data 0.116 (0.116)Elapsed 0m 0s (remain 0m 10s)Loss: 0.5144(0.5144)Grad: 0.2152  \n",
      "Epoch: [28][82/83]Data 0.002 (0.004)Elapsed 0m 0s (remain 0m 0s)Loss: 0.6266(0.5457)Grad: 0.3660  \n",
      "EVAL: [0/21] Data 0.104 (0.104) Elapsed 0m 0s (remain 0m 2s) Loss: 0.4625(0.4625) \n"
     ]
    },
    {
     "name": "stderr",
     "output_type": "stream",
     "text": [
      "Epoch 28 - avg_train_loss: 0.5457 avg_val_loss: 0.4003 time: 1s\n",
      "Epoch 28 - Accuracy: 0.8929181697360926\n"
     ]
    },
    {
     "name": "stdout",
     "output_type": "stream",
     "text": [
      "EVAL: [20/21] Data 0.000 (0.008) Elapsed 0m 0s (remain 0m 0s) Loss: 0.5574(0.4003) \n",
      "Epoch: [29][0/83]Data 0.116 (0.116)Elapsed 0m 0s (remain 0m 10s)Loss: 0.4995(0.4995)Grad: 0.1796  \n",
      "Epoch: [29][82/83]Data 0.000 (0.004)Elapsed 0m 0s (remain 0m 0s)Loss: 0.6311(0.5475)Grad: 0.4529  \n",
      "EVAL: [0/21] Data 0.113 (0.113) Elapsed 0m 0s (remain 0m 2s) Loss: 0.4625(0.4625) \n"
     ]
    },
    {
     "name": "stderr",
     "output_type": "stream",
     "text": [
      "Epoch 29 - avg_train_loss: 0.5475 avg_val_loss: 0.4004 time: 1s\n",
      "Epoch 29 - Accuracy: 0.8929181697360926\n"
     ]
    },
    {
     "name": "stdout",
     "output_type": "stream",
     "text": [
      "EVAL: [20/21] Data 0.002 (0.009) Elapsed 0m 0s (remain 0m 0s) Loss: 0.5576(0.4004) \n",
      "Epoch: [30][0/83]Data 0.120 (0.120)Elapsed 0m 0s (remain 0m 10s)Loss: 0.5617(0.5617)Grad: 0.1893  \n",
      "Epoch: [30][82/83]Data 0.000 (0.004)Elapsed 0m 0s (remain 0m 0s)Loss: 0.4739(0.5456)Grad: 0.2650  \n",
      "EVAL: [0/21] Data 0.102 (0.102) Elapsed 0m 0s (remain 0m 2s) Loss: 0.4625(0.4625) \n"
     ]
    },
    {
     "name": "stderr",
     "output_type": "stream",
     "text": [
      "Epoch 30 - avg_train_loss: 0.5456 avg_val_loss: 0.4004 time: 1s\n",
      "Epoch 30 - Accuracy: 0.8929181697360926\n",
      "=============== fold: 3 result ================\n",
      "Score: 0.89406\n",
      "========== fold: 4 training ============\n"
     ]
    },
    {
     "name": "stdout",
     "output_type": "stream",
     "text": [
      "EVAL: [20/21] Data 0.000 (0.009) Elapsed 0m 0s (remain 0m 0s) Loss: 0.5576(0.4004) \n",
      "Epoch: [1][0/83]Data 0.100 (0.100)Elapsed 0m 0s (remain 0m 9s)Loss: 1.7348(1.7348)Grad: 0.6737  \n",
      "Epoch: [1][82/83]Data 0.000 (0.004)Elapsed 0m 0s (remain 0m 0s)Loss: 1.4124(1.5718)Grad: 0.6659  \n",
      "EVAL: [0/21] Data 0.108 (0.108) Elapsed 0m 0s (remain 0m 2s) Loss: 1.3667(1.3667) \n"
     ]
    },
    {
     "name": "stderr",
     "output_type": "stream",
     "text": [
      "Epoch 1 - avg_train_loss: 1.5718 avg_val_loss: 1.3772 time: 1s\n",
      "Epoch 1 - Accuracy: 0.6700208847541295\n",
      "Epoch 1 - Save Best Score: 0.6700 Mpdel\n"
     ]
    },
    {
     "name": "stdout",
     "output_type": "stream",
     "text": [
      "EVAL: [20/21] Data 0.000 (0.009) Elapsed 0m 0s (remain 0m 0s) Loss: 1.4026(1.3772) \n",
      "Epoch: [2][0/83]Data 0.115 (0.115)Elapsed 0m 0s (remain 0m 10s)Loss: 1.3708(1.3708)Grad: 0.6957  \n",
      "Epoch: [2][82/83]Data 0.002 (0.004)Elapsed 0m 0s (remain 0m 0s)Loss: 0.8871(1.1576)Grad: 0.5948  \n",
      "EVAL: [0/21] Data 0.119 (0.119) Elapsed 0m 0s (remain 0m 2s) Loss: 0.7772(0.7772) \n"
     ]
    },
    {
     "name": "stderr",
     "output_type": "stream",
     "text": [
      "Epoch 2 - avg_train_loss: 1.1576 avg_val_loss: 0.8406 time: 1s\n",
      "Epoch 2 - Accuracy: 0.6740079741788494\n",
      "Epoch 2 - Save Best Score: 0.6740 Mpdel\n"
     ]
    },
    {
     "name": "stdout",
     "output_type": "stream",
     "text": [
      "EVAL: [20/21] Data 0.000 (0.009) Elapsed 0m 0s (remain 0m 0s) Loss: 0.9622(0.8406) \n",
      "Epoch: [3][0/83]Data 0.114 (0.114)Elapsed 0m 0s (remain 0m 10s)Loss: 0.9187(0.9187)Grad: 0.4453  \n",
      "Epoch: [3][82/83]Data 0.000 (0.004)Elapsed 0m 0s (remain 0m 0s)Loss: 0.6503(0.7899)Grad: 0.2791  \n",
      "EVAL: [0/21] Data 0.102 (0.102) Elapsed 0m 0s (remain 0m 2s) Loss: 0.5417(0.5417) \n"
     ]
    },
    {
     "name": "stderr",
     "output_type": "stream",
     "text": [
      "Epoch 3 - avg_train_loss: 0.7899 avg_val_loss: 0.6343 time: 1s\n",
      "Epoch 3 - Accuracy: 0.6749572811847352\n",
      "Epoch 3 - Save Best Score: 0.6750 Mpdel\n"
     ]
    },
    {
     "name": "stdout",
     "output_type": "stream",
     "text": [
      "EVAL: [20/21] Data 0.002 (0.008) Elapsed 0m 0s (remain 0m 0s) Loss: 0.7730(0.6343) \n",
      "Epoch: [4][0/83]Data 0.112 (0.112)Elapsed 0m 0s (remain 0m 9s)Loss: 0.6053(0.6053)Grad: 0.1916  \n",
      "Epoch: [4][82/83]Data 0.000 (0.004)Elapsed 0m 0s (remain 0m 0s)Loss: 0.9121(0.6880)Grad: 0.4784  \n",
      "EVAL: [0/21] Data 0.107 (0.107) Elapsed 0m 0s (remain 0m 2s) Loss: 0.4835(0.4835) \n"
     ]
    },
    {
     "name": "stderr",
     "output_type": "stream",
     "text": [
      "Epoch 4 - avg_train_loss: 0.6880 avg_val_loss: 0.5808 time: 1s\n",
      "Epoch 4 - Accuracy: 0.8640592367571672\n",
      "Epoch 4 - Save Best Score: 0.8641 Mpdel\n"
     ]
    },
    {
     "name": "stdout",
     "output_type": "stream",
     "text": [
      "EVAL: [20/21] Data 0.002 (0.009) Elapsed 0m 0s (remain 0m 0s) Loss: 0.7060(0.5808) \n",
      "Epoch: [5][0/83]Data 0.115 (0.115)Elapsed 0m 0s (remain 0m 10s)Loss: 0.6291(0.6291)Grad: 0.2544  \n",
      "Epoch: [5][82/83]Data 0.000 (0.004)Elapsed 0m 0s (remain 0m 0s)Loss: 0.4852(0.6462)Grad: 0.2420  \n",
      "EVAL: [0/21] Data 0.107 (0.107) Elapsed 0m 0s (remain 0m 2s) Loss: 0.4398(0.4398) \n"
     ]
    },
    {
     "name": "stderr",
     "output_type": "stream",
     "text": [
      "Epoch 5 - avg_train_loss: 0.6462 avg_val_loss: 0.5303 time: 1s\n",
      "Epoch 5 - Accuracy: 0.8657679893677616\n",
      "Epoch 5 - Save Best Score: 0.8658 Mpdel\n"
     ]
    },
    {
     "name": "stdout",
     "output_type": "stream",
     "text": [
      "EVAL: [20/21] Data 0.002 (0.008) Elapsed 0m 0s (remain 0m 0s) Loss: 0.6343(0.5303) \n",
      "Epoch: [6][0/83]Data 0.108 (0.108)Elapsed 0m 0s (remain 0m 9s)Loss: 0.5847(0.5847)Grad: 0.1829  \n",
      "Epoch: [6][82/83]Data 0.000 (0.004)Elapsed 0m 0s (remain 0m 0s)Loss: 0.6315(0.6155)Grad: 0.3489  \n",
      "EVAL: [0/21] Data 0.111 (0.111) Elapsed 0m 0s (remain 0m 2s) Loss: 0.4138(0.4138) \n"
     ]
    },
    {
     "name": "stderr",
     "output_type": "stream",
     "text": [
      "Epoch 6 - avg_train_loss: 0.6155 avg_val_loss: 0.4984 time: 1s\n",
      "Epoch 6 - Accuracy: 0.8657679893677616\n"
     ]
    },
    {
     "name": "stdout",
     "output_type": "stream",
     "text": [
      "EVAL: [20/21] Data 0.002 (0.009) Elapsed 0m 0s (remain 0m 0s) Loss: 0.5862(0.4984) \n",
      "Epoch: [7][0/83]Data 0.099 (0.099)Elapsed 0m 0s (remain 0m 9s)Loss: 0.4859(0.4859)Grad: 0.1860  \n",
      "Epoch: [7][82/83]Data 0.000 (0.004)Elapsed 0m 0s (remain 0m 0s)Loss: 0.5189(0.5952)Grad: 0.2988  \n",
      "EVAL: [0/21] Data 0.107 (0.107) Elapsed 0m 0s (remain 0m 2s) Loss: 0.4008(0.4008) \n"
     ]
    },
    {
     "name": "stderr",
     "output_type": "stream",
     "text": [
      "Epoch 7 - avg_train_loss: 0.5952 avg_val_loss: 0.4812 time: 1s\n",
      "Epoch 7 - Accuracy: 0.8877919119043098\n",
      "Epoch 7 - Save Best Score: 0.8878 Mpdel\n"
     ]
    },
    {
     "name": "stdout",
     "output_type": "stream",
     "text": [
      "EVAL: [20/21] Data 0.002 (0.008) Elapsed 0m 0s (remain 0m 0s) Loss: 0.5591(0.4812) \n",
      "Epoch: [8][0/83]Data 0.112 (0.112)Elapsed 0m 0s (remain 0m 9s)Loss: 0.6776(0.6776)Grad: 0.2402  \n",
      "Epoch: [8][82/83]Data 0.000 (0.004)Elapsed 0m 0s (remain 0m 0s)Loss: 0.5156(0.5843)Grad: 0.2392  \n",
      "EVAL: [0/21] Data 0.112 (0.112) Elapsed 0m 0s (remain 0m 2s) Loss: 0.3943(0.3943) \n"
     ]
    },
    {
     "name": "stderr",
     "output_type": "stream",
     "text": [
      "Epoch 8 - avg_train_loss: 0.5843 avg_val_loss: 0.4724 time: 1s\n",
      "Epoch 8 - Accuracy: 0.889310803113727\n",
      "Epoch 8 - Save Best Score: 0.8893 Mpdel\n"
     ]
    },
    {
     "name": "stdout",
     "output_type": "stream",
     "text": [
      "EVAL: [20/21] Data 0.000 (0.008) Elapsed 0m 0s (remain 0m 0s) Loss: 0.5444(0.4724) \n",
      "Epoch: [9][0/83]Data 0.114 (0.114)Elapsed 0m 0s (remain 0m 10s)Loss: 0.5904(0.5904)Grad: 0.1628  \n",
      "Epoch: [9][82/83]Data 0.002 (0.004)Elapsed 0m 0s (remain 0m 0s)Loss: 0.3719(0.5836)Grad: 0.2881  \n",
      "EVAL: [0/21] Data 0.100 (0.100) Elapsed 0m 0s (remain 0m 2s) Loss: 0.3918(0.3918) \n"
     ]
    },
    {
     "name": "stderr",
     "output_type": "stream",
     "text": [
      "Epoch 9 - avg_train_loss: 0.5836 avg_val_loss: 0.4690 time: 1s\n",
      "Epoch 9 - Accuracy: 0.8891209417125499\n"
     ]
    },
    {
     "name": "stdout",
     "output_type": "stream",
     "text": [
      "EVAL: [20/21] Data 0.002 (0.007) Elapsed 0m 0s (remain 0m 0s) Loss: 0.5389(0.4690) \n",
      "Epoch: [10][0/83]Data 0.120 (0.120)Elapsed 0m 0s (remain 0m 10s)Loss: 0.5625(0.5625)Grad: 0.1306  \n",
      "Epoch: [10][82/83]Data 0.000 (0.004)Elapsed 0m 0s (remain 0m 0s)Loss: 0.5799(0.5773)Grad: 0.2402  \n",
      "EVAL: [0/21] Data 0.109 (0.109) Elapsed 0m 0s (remain 0m 2s) Loss: 0.3912(0.3912) \n"
     ]
    },
    {
     "name": "stderr",
     "output_type": "stream",
     "text": [
      "Epoch 10 - avg_train_loss: 0.5773 avg_val_loss: 0.4681 time: 1s\n",
      "Epoch 10 - Accuracy: 0.8889310803113727\n"
     ]
    },
    {
     "name": "stdout",
     "output_type": "stream",
     "text": [
      "EVAL: [20/21] Data 0.000 (0.010) Elapsed 0m 0s (remain 0m 0s) Loss: 0.5374(0.4681) \n",
      "Epoch: [11][0/83]Data 0.106 (0.106)Elapsed 0m 0s (remain 0m 9s)Loss: 0.4812(0.4812)Grad: 0.1797  \n",
      "Epoch: [11][82/83]Data 0.000 (0.004)Elapsed 0m 0s (remain 0m 0s)Loss: 0.5061(0.5693)Grad: 0.2362  \n",
      "EVAL: [0/21] Data 0.110 (0.110) Elapsed 0m 0s (remain 0m 2s) Loss: 0.3715(0.3715) \n"
     ]
    },
    {
     "name": "stderr",
     "output_type": "stream",
     "text": [
      "Epoch 11 - avg_train_loss: 0.5693 avg_val_loss: 0.4364 time: 1s\n",
      "Epoch 11 - Accuracy: 0.887981773305487\n"
     ]
    },
    {
     "name": "stdout",
     "output_type": "stream",
     "text": [
      "EVAL: [20/21] Data 0.000 (0.010) Elapsed 0m 0s (remain 0m 0s) Loss: 0.4814(0.4364) \n",
      "Epoch: [12][0/83]Data 0.114 (0.114)Elapsed 0m 0s (remain 0m 10s)Loss: 0.4916(0.4916)Grad: 0.1496  \n",
      "Epoch: [12][82/83]Data 0.000 (0.004)Elapsed 0m 0s (remain 0m 0s)Loss: 0.5315(0.5502)Grad: 0.2747  \n",
      "EVAL: [0/21] Data 0.109 (0.109) Elapsed 0m 0s (remain 0m 2s) Loss: 0.3623(0.3623) \n"
     ]
    },
    {
     "name": "stderr",
     "output_type": "stream",
     "text": [
      "Epoch 12 - avg_train_loss: 0.5502 avg_val_loss: 0.4239 time: 1s\n",
      "Epoch 12 - Accuracy: 0.8902601101196127\n",
      "Epoch 12 - Save Best Score: 0.8903 Mpdel\n"
     ]
    },
    {
     "name": "stdout",
     "output_type": "stream",
     "text": [
      "EVAL: [20/21] Data 0.000 (0.009) Elapsed 0m 0s (remain 0m 0s) Loss: 0.4621(0.4239) \n",
      "Epoch: [13][0/83]Data 0.124 (0.124)Elapsed 0m 0s (remain 0m 10s)Loss: 0.5454(0.5454)Grad: 0.1935  \n",
      "Epoch: [13][82/83]Data 0.000 (0.004)Elapsed 0m 0s (remain 0m 0s)Loss: 0.8666(0.5429)Grad: 0.4847  \n",
      "EVAL: [0/21] Data 0.091 (0.091) Elapsed 0m 0s (remain 0m 1s) Loss: 0.3604(0.3604) \n"
     ]
    },
    {
     "name": "stderr",
     "output_type": "stream",
     "text": [
      "Epoch 13 - avg_train_loss: 0.5429 avg_val_loss: 0.4171 time: 1s\n",
      "Epoch 13 - Accuracy: 0.8902601101196127\n"
     ]
    },
    {
     "name": "stdout",
     "output_type": "stream",
     "text": [
      "EVAL: [20/21] Data 0.000 (0.009) Elapsed 0m 0s (remain 0m 0s) Loss: 0.4498(0.4171) \n",
      "Epoch: [14][0/83]Data 0.119 (0.119)Elapsed 0m 0s (remain 0m 10s)Loss: 0.5291(0.5291)Grad: 0.1889  \n",
      "Epoch: [14][82/83]Data 0.002 (0.004)Elapsed 0m 0s (remain 0m 0s)Loss: 0.7831(0.5359)Grad: 0.5484  \n",
      "EVAL: [0/21] Data 0.106 (0.106) Elapsed 0m 0s (remain 0m 2s) Loss: 0.3556(0.3556) \n"
     ]
    },
    {
     "name": "stderr",
     "output_type": "stream",
     "text": [
      "Epoch 14 - avg_train_loss: 0.5359 avg_val_loss: 0.4136 time: 1s\n",
      "Epoch 14 - Accuracy: 0.8904499715207899\n",
      "Epoch 14 - Save Best Score: 0.8904 Mpdel\n"
     ]
    },
    {
     "name": "stdout",
     "output_type": "stream",
     "text": [
      "EVAL: [20/21] Data 0.000 (0.007) Elapsed 0m 0s (remain 0m 0s) Loss: 0.4448(0.4136) \n",
      "Epoch: [15][0/83]Data 0.108 (0.108)Elapsed 0m 0s (remain 0m 9s)Loss: 0.5578(0.5578)Grad: 0.1623  \n",
      "Epoch: [15][82/83]Data 0.002 (0.004)Elapsed 0m 0s (remain 0m 0s)Loss: 0.4803(0.5345)Grad: 0.3547  \n",
      "EVAL: [0/21] Data 0.095 (0.095) Elapsed 0m 0s (remain 0m 2s) Loss: 0.3558(0.3558) \n"
     ]
    },
    {
     "name": "stderr",
     "output_type": "stream",
     "text": [
      "Epoch 15 - avg_train_loss: 0.5345 avg_val_loss: 0.4113 time: 1s\n",
      "Epoch 15 - Accuracy: 0.8906398329219669\n",
      "Epoch 15 - Save Best Score: 0.8906 Mpdel\n"
     ]
    },
    {
     "name": "stdout",
     "output_type": "stream",
     "text": [
      "EVAL: [20/21] Data 0.000 (0.007) Elapsed 0m 0s (remain 0m 0s) Loss: 0.4397(0.4113) \n",
      "Epoch: [16][0/83]Data 0.122 (0.122)Elapsed 0m 0s (remain 0m 10s)Loss: 0.4960(0.4960)Grad: 0.1260  \n",
      "Epoch: [16][82/83]Data 0.000 (0.004)Elapsed 0m 0s (remain 0m 0s)Loss: 0.5514(0.5334)Grad: 0.3146  \n",
      "EVAL: [0/21] Data 0.109 (0.109) Elapsed 0m 0s (remain 0m 2s) Loss: 0.3537(0.3537) \n"
     ]
    },
    {
     "name": "stderr",
     "output_type": "stream",
     "text": [
      "Epoch 16 - avg_train_loss: 0.5334 avg_val_loss: 0.4098 time: 1s\n"
     ]
    },
    {
     "name": "stdout",
     "output_type": "stream",
     "text": [
      "EVAL: [20/21] Data 0.000 (0.008) Elapsed 0m 0s (remain 0m 0s) Loss: 0.4384(0.4098) \n"
     ]
    },
    {
     "name": "stderr",
     "output_type": "stream",
     "text": [
      "Epoch 16 - Accuracy: 0.8896905259160812\n"
     ]
    },
    {
     "name": "stdout",
     "output_type": "stream",
     "text": [
      "Epoch: [17][0/83]Data 0.123 (0.123)Elapsed 0m 0s (remain 0m 11s)Loss: 0.4996(0.4996)Grad: 0.1788  \n",
      "Epoch: [17][82/83]Data 0.000 (0.004)Elapsed 0m 0s (remain 0m 0s)Loss: 0.4083(0.5295)Grad: 0.2215  \n",
      "EVAL: [0/21] Data 0.116 (0.116) Elapsed 0m 0s (remain 0m 2s) Loss: 0.3544(0.3544) \n"
     ]
    },
    {
     "name": "stderr",
     "output_type": "stream",
     "text": [
      "Epoch 17 - avg_train_loss: 0.5295 avg_val_loss: 0.4089 time: 1s\n",
      "Epoch 17 - Accuracy: 0.8896905259160812\n"
     ]
    },
    {
     "name": "stdout",
     "output_type": "stream",
     "text": [
      "EVAL: [20/21] Data 0.000 (0.009) Elapsed 0m 0s (remain 0m 0s) Loss: 0.4355(0.4089) \n",
      "Epoch: [18][0/83]Data 0.096 (0.096)Elapsed 0m 0s (remain 0m 9s)Loss: 0.4346(0.4346)Grad: 0.1356  \n",
      "Epoch: [18][82/83]Data 0.000 (0.004)Elapsed 0m 0s (remain 0m 0s)Loss: 0.5225(0.5288)Grad: 0.2533  \n",
      "EVAL: [0/21] Data 0.108 (0.108) Elapsed 0m 0s (remain 0m 2s) Loss: 0.3543(0.3543) \n"
     ]
    },
    {
     "name": "stderr",
     "output_type": "stream",
     "text": [
      "Epoch 18 - avg_train_loss: 0.5288 avg_val_loss: 0.4085 time: 1s\n",
      "Epoch 18 - Accuracy: 0.8896905259160812\n"
     ]
    },
    {
     "name": "stdout",
     "output_type": "stream",
     "text": [
      "EVAL: [20/21] Data 0.002 (0.008) Elapsed 0m 0s (remain 0m 0s) Loss: 0.4350(0.4085) \n",
      "Epoch: [19][0/83]Data 0.107 (0.107)Elapsed 0m 0s (remain 0m 9s)Loss: 0.4912(0.4912)Grad: 0.1953  \n",
      "Epoch: [19][82/83]Data 0.000 (0.004)Elapsed 0m 0s (remain 0m 0s)Loss: 0.5314(0.5331)Grad: 0.4028  \n"
     ]
    },
    {
     "name": "stderr",
     "output_type": "stream",
     "text": [
      "Epoch 19 - avg_train_loss: 0.5331 avg_val_loss: 0.4084 time: 1s\n",
      "Epoch 19 - Accuracy: 0.8896905259160812\n"
     ]
    },
    {
     "name": "stdout",
     "output_type": "stream",
     "text": [
      "EVAL: [0/21] Data 0.175 (0.175) Elapsed 0m 0s (remain 0m 3s) Loss: 0.3543(0.3543) \n",
      "EVAL: [20/21] Data 0.002 (0.012) Elapsed 0m 0s (remain 0m 0s) Loss: 0.4346(0.4084) \n",
      "Epoch: [20][0/83]Data 0.111 (0.111)Elapsed 0m 0s (remain 0m 9s)Loss: 0.5119(0.5119)Grad: 0.1336  \n",
      "Epoch: [20][82/83]Data 0.000 (0.004)Elapsed 0m 0s (remain 0m 0s)Loss: 0.3907(0.5289)Grad: 0.2047  \n",
      "EVAL: [0/21] Data 0.116 (0.116) Elapsed 0m 0s (remain 0m 2s) Loss: 0.3542(0.3542) \n"
     ]
    },
    {
     "name": "stderr",
     "output_type": "stream",
     "text": [
      "Epoch 20 - avg_train_loss: 0.5289 avg_val_loss: 0.4084 time: 1s\n",
      "Epoch 20 - Accuracy: 0.8896905259160812\n"
     ]
    },
    {
     "name": "stdout",
     "output_type": "stream",
     "text": [
      "EVAL: [20/21] Data 0.000 (0.009) Elapsed 0m 0s (remain 0m 0s) Loss: 0.4346(0.4084) \n",
      "Epoch: [21][0/83]Data 0.112 (0.112)Elapsed 0m 0s (remain 0m 9s)Loss: 0.5361(0.5361)Grad: 0.1987  \n",
      "Epoch: [21][82/83]Data 0.002 (0.004)Elapsed 0m 0s (remain 0m 0s)Loss: 0.5547(0.5290)Grad: 0.3171  \n",
      "EVAL: [0/21] Data 0.106 (0.106) Elapsed 0m 0s (remain 0m 2s) Loss: 0.3525(0.3525) \n"
     ]
    },
    {
     "name": "stderr",
     "output_type": "stream",
     "text": [
      "Epoch 21 - avg_train_loss: 0.5290 avg_val_loss: 0.4068 time: 1s\n",
      "Epoch 21 - Accuracy: 0.8889310803113727\n"
     ]
    },
    {
     "name": "stdout",
     "output_type": "stream",
     "text": [
      "EVAL: [20/21] Data 0.000 (0.008) Elapsed 0m 0s (remain 0m 0s) Loss: 0.4328(0.4068) \n",
      "Epoch: [22][0/83]Data 0.112 (0.112)Elapsed 0m 0s (remain 0m 10s)Loss: 0.5403(0.5403)Grad: 0.1597  \n",
      "Epoch: [22][82/83]Data 0.000 (0.004)Elapsed 0m 0s (remain 0m 0s)Loss: 0.5339(0.5251)Grad: 0.3486  \n",
      "EVAL: [0/21] Data 0.105 (0.105) Elapsed 0m 0s (remain 0m 2s) Loss: 0.3518(0.3518) \n"
     ]
    },
    {
     "name": "stderr",
     "output_type": "stream",
     "text": [
      "Epoch 22 - avg_train_loss: 0.5251 avg_val_loss: 0.4049 time: 1s\n",
      "Epoch 22 - Accuracy: 0.8887412189101955\n"
     ]
    },
    {
     "name": "stdout",
     "output_type": "stream",
     "text": [
      "EVAL: [20/21] Data 0.002 (0.007) Elapsed 0m 0s (remain 0m 0s) Loss: 0.4303(0.4049) \n",
      "Epoch: [23][0/83]Data 0.112 (0.112)Elapsed 0m 0s (remain 0m 9s)Loss: 0.5550(0.5550)Grad: 0.1838  \n",
      "Epoch: [23][82/83]Data 0.000 (0.004)Elapsed 0m 0s (remain 0m 0s)Loss: 0.4555(0.5229)Grad: 0.2151  \n",
      "EVAL: [0/21] Data 0.093 (0.093) Elapsed 0m 0s (remain 0m 1s) Loss: 0.3498(0.3498) \n"
     ]
    },
    {
     "name": "stderr",
     "output_type": "stream",
     "text": [
      "Epoch 23 - avg_train_loss: 0.5229 avg_val_loss: 0.4028 time: 1s\n",
      "Epoch 23 - Accuracy: 0.8908296943231441\n",
      "Epoch 23 - Save Best Score: 0.8908 Mpdel\n"
     ]
    },
    {
     "name": "stdout",
     "output_type": "stream",
     "text": [
      "EVAL: [20/21] Data 0.002 (0.008) Elapsed 0m 0s (remain 0m 0s) Loss: 0.4248(0.4028) \n",
      "Epoch: [24][0/83]Data 0.101 (0.101)Elapsed 0m 0s (remain 0m 9s)Loss: 0.5566(0.5566)Grad: 0.1655  \n",
      "Epoch: [24][82/83]Data 0.000 (0.004)Elapsed 0m 0s (remain 0m 0s)Loss: 0.5205(0.5257)Grad: 0.2696  \n",
      "EVAL: [0/21] Data 0.101 (0.101) Elapsed 0m 0s (remain 0m 2s) Loss: 0.3506(0.3506) \n"
     ]
    },
    {
     "name": "stderr",
     "output_type": "stream",
     "text": [
      "Epoch 24 - avg_train_loss: 0.5257 avg_val_loss: 0.4031 time: 1s\n",
      "Epoch 24 - Accuracy: 0.8910195557243212\n",
      "Epoch 24 - Save Best Score: 0.8910 Mpdel\n"
     ]
    },
    {
     "name": "stdout",
     "output_type": "stream",
     "text": [
      "EVAL: [20/21] Data 0.000 (0.008) Elapsed 0m 0s (remain 0m 0s) Loss: 0.4248(0.4031) \n",
      "Epoch: [25][0/83]Data 0.094 (0.094)Elapsed 0m 0s (remain 0m 9s)Loss: 0.5414(0.5414)Grad: 0.2699  \n",
      "Epoch: [25][82/83]Data 0.000 (0.004)Elapsed 0m 0s (remain 0m 0s)Loss: 0.3380(0.5227)Grad: 0.2522  \n",
      "EVAL: [0/21] Data 0.096 (0.096) Elapsed 0m 0s (remain 0m 2s) Loss: 0.3497(0.3497) \n"
     ]
    },
    {
     "name": "stderr",
     "output_type": "stream",
     "text": [
      "Epoch 25 - avg_train_loss: 0.5227 avg_val_loss: 0.4015 time: 1s\n",
      "Epoch 25 - Accuracy: 0.8902601101196127\n"
     ]
    },
    {
     "name": "stdout",
     "output_type": "stream",
     "text": [
      "EVAL: [20/21] Data 0.000 (0.008) Elapsed 0m 0s (remain 0m 0s) Loss: 0.4215(0.4015) \n",
      "Epoch: [26][0/83]Data 0.112 (0.112)Elapsed 0m 0s (remain 0m 10s)Loss: 0.4942(0.4942)Grad: 0.1672  \n",
      "Epoch: [26][82/83]Data 0.002 (0.004)Elapsed 0m 0s (remain 0m 0s)Loss: 0.2884(0.5241)Grad: 0.2974  \n",
      "EVAL: [0/21] Data 0.099 (0.099) Elapsed 0m 0s (remain 0m 2s) Loss: 0.3490(0.3490) \n"
     ]
    },
    {
     "name": "stderr",
     "output_type": "stream",
     "text": [
      "Epoch 26 - avg_train_loss: 0.5241 avg_val_loss: 0.4011 time: 1s\n",
      "Epoch 26 - Accuracy: 0.8904499715207899\n"
     ]
    },
    {
     "name": "stdout",
     "output_type": "stream",
     "text": [
      "EVAL: [20/21] Data 0.000 (0.009) Elapsed 0m 0s (remain 0m 0s) Loss: 0.4209(0.4011) \n",
      "Epoch: [27][0/83]Data 0.121 (0.121)Elapsed 0m 0s (remain 0m 10s)Loss: 0.6124(0.6124)Grad: 0.2593  \n",
      "Epoch: [27][82/83]Data 0.000 (0.004)Elapsed 0m 0s (remain 0m 0s)Loss: 0.2702(0.5234)Grad: 0.2780  \n",
      "EVAL: [0/21] Data 0.108 (0.108) Elapsed 0m 0s (remain 0m 2s) Loss: 0.3485(0.3485) \n"
     ]
    },
    {
     "name": "stderr",
     "output_type": "stream",
     "text": [
      "Epoch 27 - avg_train_loss: 0.5234 avg_val_loss: 0.4013 time: 1s\n",
      "Epoch 27 - Accuracy: 0.8904499715207899\n"
     ]
    },
    {
     "name": "stdout",
     "output_type": "stream",
     "text": [
      "EVAL: [20/21] Data 0.005 (0.009) Elapsed 0m 0s (remain 0m 0s) Loss: 0.4208(0.4013) \n",
      "Epoch: [28][0/83]Data 0.113 (0.113)Elapsed 0m 0s (remain 0m 9s)Loss: 0.5904(0.5904)Grad: 0.2671  \n",
      "Epoch: [28][82/83]Data 0.002 (0.004)Elapsed 0m 0s (remain 0m 0s)Loss: 0.6489(0.5221)Grad: 0.4283  \n",
      "EVAL: [0/21] Data 0.108 (0.108) Elapsed 0m 0s (remain 0m 2s) Loss: 0.3487(0.3487) \n"
     ]
    },
    {
     "name": "stderr",
     "output_type": "stream",
     "text": [
      "Epoch 28 - avg_train_loss: 0.5221 avg_val_loss: 0.4010 time: 1s\n",
      "Epoch 28 - Accuracy: 0.8904499715207899\n"
     ]
    },
    {
     "name": "stdout",
     "output_type": "stream",
     "text": [
      "EVAL: [20/21] Data 0.004 (0.009) Elapsed 0m 0s (remain 0m 0s) Loss: 0.4199(0.4010) \n",
      "Epoch: [29][0/83]Data 0.120 (0.120)Elapsed 0m 0s (remain 0m 10s)Loss: 0.5650(0.5650)Grad: 0.1988  \n",
      "Epoch: [29][82/83]Data 0.000 (0.004)Elapsed 0m 0s (remain 0m 0s)Loss: 0.3876(0.5202)Grad: 0.3277  \n",
      "EVAL: [0/21] Data 0.119 (0.119) Elapsed 0m 0s (remain 0m 2s) Loss: 0.3485(0.3485) \n"
     ]
    },
    {
     "name": "stderr",
     "output_type": "stream",
     "text": [
      "Epoch 29 - avg_train_loss: 0.5202 avg_val_loss: 0.4007 time: 1s\n",
      "Epoch 29 - Accuracy: 0.8904499715207899\n"
     ]
    },
    {
     "name": "stdout",
     "output_type": "stream",
     "text": [
      "EVAL: [20/21] Data 0.000 (0.009) Elapsed 0m 0s (remain 0m 0s) Loss: 0.4196(0.4007) \n",
      "Epoch: [30][0/83]Data 0.092 (0.092)Elapsed 0m 0s (remain 0m 8s)Loss: 0.4293(0.4293)Grad: 0.1646  \n",
      "Epoch: [30][82/83]Data 0.000 (0.004)Elapsed 0m 0s (remain 0m 0s)Loss: 0.4186(0.5240)Grad: 0.2592  \n",
      "EVAL: [0/21] Data 0.093 (0.093) Elapsed 0m 0s (remain 0m 1s) Loss: 0.3485(0.3485) \n"
     ]
    },
    {
     "name": "stderr",
     "output_type": "stream",
     "text": [
      "Epoch 30 - avg_train_loss: 0.5240 avg_val_loss: 0.4006 time: 1s\n",
      "Epoch 30 - Accuracy: 0.8904499715207899\n",
      "=============== fold: 4 result ================\n",
      "Score: 0.89102\n",
      "============ CV ============\n",
      "Score: 0.89376\n"
     ]
    },
    {
     "name": "stdout",
     "output_type": "stream",
     "text": [
      "EVAL: [20/21] Data 0.002 (0.008) Elapsed 0m 0s (remain 0m 0s) Loss: 0.4195(0.4006) \n"
     ]
    }
   ],
   "source": [
    "if __name__ == '__main__':\n",
    "    main()"
   ]
  }
 ],
 "metadata": {
  "kernelspec": {
   "display_name": "Python 3",
   "language": "python",
   "name": "python3"
  },
  "language_info": {
   "codemirror_mode": {
    "name": "ipython",
    "version": 3
   },
   "file_extension": ".py",
   "mimetype": "text/x-python",
   "name": "python",
   "nbconvert_exporter": "python",
   "pygments_lexer": "ipython3",
   "version": "3.7.6"
  },
  "papermill": {
   "duration": 177.596145,
   "end_time": "2021-02-17T12:26:40.657971",
   "environment_variables": {},
   "exception": null,
   "input_path": "__notebook__.ipynb",
   "output_path": "__notebook__.ipynb",
   "parameters": {},
   "start_time": "2021-02-17T12:23:43.061826",
   "version": "2.1.0"
  }
 },
 "nbformat": 4,
 "nbformat_minor": 4
}
