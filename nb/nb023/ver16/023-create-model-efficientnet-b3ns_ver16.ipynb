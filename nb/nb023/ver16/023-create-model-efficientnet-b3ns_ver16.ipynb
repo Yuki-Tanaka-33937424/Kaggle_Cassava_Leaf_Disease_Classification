{
 "cells": [
  {
   "cell_type": "code",
   "execution_count": 2,
   "metadata": {
    "_cell_guid": "79c7e3d0-c299-4dcb-8224-4455121ee9b0",
    "_uuid": "d629ff2d2480ee46fbb7e2d37f6b5fab8052498a",
    "execution": {
     "iopub.execute_input": "2021-01-10T23:44:31.641552Z",
     "iopub.status.busy": "2021-01-10T23:44:31.640708Z",
     "iopub.status.idle": "2021-01-10T23:44:32.651354Z",
     "shell.execute_reply": "2021-01-10T23:44:32.650663Z"
    },
    "papermill": {
     "duration": 1.044844,
     "end_time": "2021-01-10T23:44:32.651483",
     "exception": false,
     "start_time": "2021-01-10T23:44:31.606639",
     "status": "completed"
    },
    "tags": []
   },
   "outputs": [],
   "source": [
    "import numpy as np\n",
    "import pandas as pd\n",
    "import os"
   ]
  },
  {
   "cell_type": "code",
   "execution_count": 3,
   "metadata": {
    "execution": {
     "iopub.execute_input": "2021-01-10T23:44:32.712588Z",
     "iopub.status.busy": "2021-01-10T23:44:32.711616Z",
     "iopub.status.idle": "2021-01-10T23:44:32.718997Z",
     "shell.execute_reply": "2021-01-10T23:44:32.718469Z"
    },
    "papermill": {
     "duration": 0.038676,
     "end_time": "2021-01-10T23:44:32.719091",
     "exception": false,
     "start_time": "2021-01-10T23:44:32.680415",
     "status": "completed"
    },
    "tags": []
   },
   "outputs": [
    {
     "data": {
      "text/plain": [
       "['train_tfrecords',\n",
       " 'sample_submission.csv',\n",
       " 'test_tfrecords',\n",
       " 'label_num_to_disease_map.json',\n",
       " 'train_images',\n",
       " 'train.csv',\n",
       " 'test_images']"
      ]
     },
     "execution_count": 3,
     "metadata": {},
     "output_type": "execute_result"
    }
   ],
   "source": [
    "os.listdir('/home/yuki/kaggle/input/cassava-leaf-disease-classification/')"
   ]
  },
  {
   "cell_type": "code",
   "execution_count": 4,
   "metadata": {
    "execution": {
     "iopub.execute_input": "2021-01-10T23:44:32.786446Z",
     "iopub.status.busy": "2021-01-10T23:44:32.785660Z",
     "iopub.status.idle": "2021-01-10T23:44:33.177494Z",
     "shell.execute_reply": "2021-01-10T23:44:33.177946Z"
    },
    "papermill": {
     "duration": 0.430582,
     "end_time": "2021-01-10T23:44:33.178087",
     "exception": false,
     "start_time": "2021-01-10T23:44:32.747505",
     "status": "completed"
    },
    "tags": []
   },
   "outputs": [
    {
     "data": {
      "text/html": [
       "<div>\n",
       "<style scoped>\n",
       "    .dataframe tbody tr th:only-of-type {\n",
       "        vertical-align: middle;\n",
       "    }\n",
       "\n",
       "    .dataframe tbody tr th {\n",
       "        vertical-align: top;\n",
       "    }\n",
       "\n",
       "    .dataframe thead th {\n",
       "        text-align: right;\n",
       "    }\n",
       "</style>\n",
       "<table border=\"1\" class=\"dataframe\">\n",
       "  <thead>\n",
       "    <tr style=\"text-align: right;\">\n",
       "      <th></th>\n",
       "      <th>image_id</th>\n",
       "      <th>label</th>\n",
       "      <th>source</th>\n",
       "    </tr>\n",
       "  </thead>\n",
       "  <tbody>\n",
       "    <tr>\n",
       "      <th>0</th>\n",
       "      <td>1000015157.jpg</td>\n",
       "      <td>0</td>\n",
       "      <td>2020</td>\n",
       "    </tr>\n",
       "    <tr>\n",
       "      <th>1</th>\n",
       "      <td>1000201771.jpg</td>\n",
       "      <td>3</td>\n",
       "      <td>2020</td>\n",
       "    </tr>\n",
       "    <tr>\n",
       "      <th>2</th>\n",
       "      <td>100042118.jpg</td>\n",
       "      <td>1</td>\n",
       "      <td>2020</td>\n",
       "    </tr>\n",
       "    <tr>\n",
       "      <th>3</th>\n",
       "      <td>1000723321.jpg</td>\n",
       "      <td>1</td>\n",
       "      <td>2020</td>\n",
       "    </tr>\n",
       "    <tr>\n",
       "      <th>4</th>\n",
       "      <td>1000812911.jpg</td>\n",
       "      <td>3</td>\n",
       "      <td>2020</td>\n",
       "    </tr>\n",
       "  </tbody>\n",
       "</table>\n",
       "</div>"
      ],
      "text/plain": [
       "         image_id  label  source\n",
       "0  1000015157.jpg      0    2020\n",
       "1  1000201771.jpg      3    2020\n",
       "2   100042118.jpg      1    2020\n",
       "3  1000723321.jpg      1    2020\n",
       "4  1000812911.jpg      3    2020"
      ]
     },
     "metadata": {},
     "output_type": "display_data"
    },
    {
     "data": {
      "text/html": [
       "<div>\n",
       "<style scoped>\n",
       "    .dataframe tbody tr th:only-of-type {\n",
       "        vertical-align: middle;\n",
       "    }\n",
       "\n",
       "    .dataframe tbody tr th {\n",
       "        vertical-align: top;\n",
       "    }\n",
       "\n",
       "    .dataframe thead th {\n",
       "        text-align: right;\n",
       "    }\n",
       "</style>\n",
       "<table border=\"1\" class=\"dataframe\">\n",
       "  <thead>\n",
       "    <tr style=\"text-align: right;\">\n",
       "      <th></th>\n",
       "      <th>image_id</th>\n",
       "      <th>label</th>\n",
       "    </tr>\n",
       "  </thead>\n",
       "  <tbody>\n",
       "    <tr>\n",
       "      <th>0</th>\n",
       "      <td>2216849948.jpg</td>\n",
       "      <td>4</td>\n",
       "    </tr>\n",
       "  </tbody>\n",
       "</table>\n",
       "</div>"
      ],
      "text/plain": [
       "         image_id  label\n",
       "0  2216849948.jpg      4"
      ]
     },
     "metadata": {},
     "output_type": "display_data"
    },
    {
     "data": {
      "text/html": [
       "<div>\n",
       "<style scoped>\n",
       "    .dataframe tbody tr th:only-of-type {\n",
       "        vertical-align: middle;\n",
       "    }\n",
       "\n",
       "    .dataframe tbody tr th {\n",
       "        vertical-align: top;\n",
       "    }\n",
       "\n",
       "    .dataframe thead th {\n",
       "        text-align: right;\n",
       "    }\n",
       "</style>\n",
       "<table border=\"1\" class=\"dataframe\">\n",
       "  <thead>\n",
       "    <tr style=\"text-align: right;\">\n",
       "      <th></th>\n",
       "      <th>0</th>\n",
       "    </tr>\n",
       "  </thead>\n",
       "  <tbody>\n",
       "    <tr>\n",
       "      <th>0</th>\n",
       "      <td>Cassava Bacterial Blight (CBB)</td>\n",
       "    </tr>\n",
       "    <tr>\n",
       "      <th>1</th>\n",
       "      <td>Cassava Brown Streak Disease (CBSD)</td>\n",
       "    </tr>\n",
       "    <tr>\n",
       "      <th>2</th>\n",
       "      <td>Cassava Green Mottle (CGM)</td>\n",
       "    </tr>\n",
       "    <tr>\n",
       "      <th>3</th>\n",
       "      <td>Cassava Mosaic Disease (CMD)</td>\n",
       "    </tr>\n",
       "    <tr>\n",
       "      <th>4</th>\n",
       "      <td>Healthy</td>\n",
       "    </tr>\n",
       "  </tbody>\n",
       "</table>\n",
       "</div>"
      ],
      "text/plain": [
       "                                     0\n",
       "0       Cassava Bacterial Blight (CBB)\n",
       "1  Cassava Brown Streak Disease (CBSD)\n",
       "2           Cassava Green Mottle (CGM)\n",
       "3         Cassava Mosaic Disease (CMD)\n",
       "4                              Healthy"
      ]
     },
     "metadata": {},
     "output_type": "display_data"
    }
   ],
   "source": [
    "train = pd.read_csv('/home/yuki/kaggle/input/cassava-leaf-disease-merged/merged.csv')\n",
    "test = pd.read_csv('/home/yuki/kaggle/input/cassava-leaf-disease-classification//sample_submission.csv')\n",
    "label_map = pd.read_json('/home/yuki/kaggle/input/cassava-leaf-disease-classification/label_num_to_disease_map.json', orient='index')"
   ]
  },
  {
   "cell_type": "markdown",
   "metadata": {
    "papermill": {
     "duration": 0.029264,
     "end_time": "2021-01-10T23:44:33.238047",
     "exception": false,
     "start_time": "2021-01-10T23:44:33.208783",
     "status": "completed"
    },
    "tags": []
   },
   "source": [
    "## Directory settings"
   ]
  },
  {
   "cell_type": "code",
   "execution_count": 5,
   "metadata": {
    "execution": {
     "iopub.execute_input": "2021-01-10T23:44:33.308046Z",
     "iopub.status.busy": "2021-01-10T23:44:33.307186Z",
     "iopub.status.idle": "2021-01-10T23:44:33.309815Z",
     "shell.execute_reply": "2021-01-10T23:44:33.310307Z"
    },
    "papermill": {
     "duration": 0.040693,
     "end_time": "2021-01-10T23:44:33.310457",
     "exception": false,
     "start_time": "2021-01-10T23:44:33.269764",
     "status": "completed"
    },
    "tags": []
   },
   "outputs": [],
   "source": [
    "OUTPUT_DIR = './'\n",
    "if not os.path.exists(OUTPUT_DIR):\n",
    "    os.makedirs(OUTPUT_DIR)\n",
    "    \n",
    "TRAIN_PATH = '/home/yuki/kaggle/input/cassava-leaf-disease-merged/train'\n",
    "TEST_PATH = '/home/yuki/kaggle/input/cassava-leaf-disease-classification/test_images'"
   ]
  },
  {
   "cell_type": "markdown",
   "metadata": {
    "papermill": {
     "duration": 0.030811,
     "end_time": "2021-01-10T23:44:33.371498",
     "exception": false,
     "start_time": "2021-01-10T23:44:33.340687",
     "status": "completed"
    },
    "tags": []
   },
   "source": [
    "## CFG"
   ]
  },
  {
   "cell_type": "code",
   "execution_count": 6,
   "metadata": {
    "execution": {
     "iopub.execute_input": "2021-01-10T23:44:33.434987Z",
     "iopub.status.busy": "2021-01-10T23:44:33.434075Z",
     "iopub.status.idle": "2021-01-10T23:44:33.444340Z",
     "shell.execute_reply": "2021-01-10T23:44:33.443802Z"
    },
    "papermill": {
     "duration": 0.042772,
     "end_time": "2021-01-10T23:44:33.444444",
     "exception": false,
     "start_time": "2021-01-10T23:44:33.401672",
     "status": "completed"
    },
    "tags": []
   },
   "outputs": [],
   "source": [
    "class CFG:\n",
    "    debug = False\n",
    "    apex = False\n",
    "    print_freq = 100\n",
    "    num_workers = 4\n",
    "    model_name = 'tf_efficientnet_b3_ns'\n",
    "    size = 470\n",
    "    scheduler = 'CosineAnnealingWarmRestarts'\n",
    "    loss_train = 'TaylorCrossEntropyLoss'\n",
    "    epochs = 10\n",
    "    T_0 = 10\n",
    "    lr_1 = 2.5e-4\n",
    "    lr_2 = 2.5e-5\n",
    "    t1 = 0.9\n",
    "    t2 = 1.5\n",
    "    smoothing = 0.05\n",
    "    min_lr = 1e-6\n",
    "    batch_size = 8\n",
    "    weight_decay = 1e-6\n",
    "    gradient_accumulation_steps = 1\n",
    "    max_grad_norm = 1000\n",
    "    seed = 42\n",
    "    target_size = 5\n",
    "    target_col = 'label'\n",
    "    n_fold = 5\n",
    "    trn_fold = [0]\n",
    "    train = True\n",
    "    inference = False\n",
    "    \n",
    "if CFG.debug:\n",
    "    CFG.epochs = 3\n",
    "    train = train.sample(n=1000, random_state=CFG.seed).reset_index(drop=True)"
   ]
  },
  {
   "cell_type": "markdown",
   "metadata": {
    "papermill": {
     "duration": 0.029859,
     "end_time": "2021-01-10T23:44:33.505353",
     "exception": false,
     "start_time": "2021-01-10T23:44:33.475494",
     "status": "completed"
    },
    "tags": []
   },
   "source": [
    "## Library"
   ]
  },
  {
   "cell_type": "code",
   "execution_count": 7,
   "metadata": {
    "execution": {
     "iopub.execute_input": "2021-01-10T23:44:33.581634Z",
     "iopub.status.busy": "2021-01-10T23:44:33.578694Z",
     "iopub.status.idle": "2021-01-10T23:44:38.183416Z",
     "shell.execute_reply": "2021-01-10T23:44:38.182864Z"
    },
    "papermill": {
     "duration": 4.6479,
     "end_time": "2021-01-10T23:44:38.183538",
     "exception": false,
     "start_time": "2021-01-10T23:44:33.535638",
     "status": "completed"
    },
    "tags": []
   },
   "outputs": [],
   "source": [
    "import sys\n",
    "sys.path.append('/home/yuki/kaggle/input/pytorch-image-models/pytorch-image-models-master')\n",
    "\n",
    "import os\n",
    "import math\n",
    "import time\n",
    "import random\n",
    "import shutil\n",
    "from pathlib import Path\n",
    "from contextlib import contextmanager\n",
    "from collections import defaultdict, Counter\n",
    "\n",
    "import scipy as sp\n",
    "import numpy as np\n",
    "import pandas as pd\n",
    "\n",
    "from sklearn import preprocessing\n",
    "from sklearn.metrics import accuracy_score\n",
    "from sklearn.model_selection import StratifiedKFold\n",
    "\n",
    "from tqdm.auto import tqdm\n",
    "from functools import partial\n",
    "\n",
    "import cv2\n",
    "from PIL import Image\n",
    "\n",
    "import torch\n",
    "import torch.nn as nn\n",
    "import torch.nn.functional as F\n",
    "from torch.optim import Adam, SGD\n",
    "import torchvision.models as models\n",
    "from torch.nn.parameter import Parameter\n",
    "from torch.utils.data import DataLoader, Dataset\n",
    "from torch.optim.lr_scheduler import CosineAnnealingWarmRestarts, CosineAnnealingLR, ReduceLROnPlateau\n",
    "\n",
    "sys.path.append('/home/yuki/kaggle/input/pytorch-sam')\n",
    "from sam import SAM\n",
    "\n",
    "from albumentations import (\n",
    "    HorizontalFlip, VerticalFlip, IAAPerspective, ShiftScaleRotate, CLAHE, RandomRotate90,\n",
    "    Transpose, ShiftScaleRotate, Blur, OpticalDistortion, GridDistortion, HueSaturationValue,\n",
    "    IAAAdditiveGaussianNoise, GaussNoise, MotionBlur, MedianBlur, IAAPiecewiseAffine, RandomResizedCrop,\n",
    "    IAASharpen, IAAEmboss, RandomBrightnessContrast, Flip, OneOf, Compose, Normalize, Cutout, CoarseDropout, ShiftScaleRotate, CenterCrop, Resize\n",
    ")\n",
    "from albumentations.pytorch import ToTensorV2\n",
    "from albumentations import ImageOnlyTransform\n",
    "\n",
    "import timm\n",
    "\n",
    "import warnings \n",
    "warnings.filterwarnings('ignore')\n",
    "\n",
    "if CFG.apex:\n",
    "    from apex import amp\n",
    "\n",
    "device = torch.device('cuda' if torch.cuda.is_available() else 'cpu')"
   ]
  },
  {
   "cell_type": "markdown",
   "metadata": {
    "papermill": {
     "duration": 0.029927,
     "end_time": "2021-01-10T23:44:38.244935",
     "exception": false,
     "start_time": "2021-01-10T23:44:38.215008",
     "status": "completed"
    },
    "tags": []
   },
   "source": [
    "## Utils"
   ]
  },
  {
   "cell_type": "code",
   "execution_count": 8,
   "metadata": {
    "execution": {
     "iopub.execute_input": "2021-01-10T23:44:38.319565Z",
     "iopub.status.busy": "2021-01-10T23:44:38.318811Z",
     "iopub.status.idle": "2021-01-10T23:44:38.326217Z",
     "shell.execute_reply": "2021-01-10T23:44:38.325686Z"
    },
    "papermill": {
     "duration": 0.05071,
     "end_time": "2021-01-10T23:44:38.326321",
     "exception": false,
     "start_time": "2021-01-10T23:44:38.275611",
     "status": "completed"
    },
    "tags": []
   },
   "outputs": [],
   "source": [
    "def get_score(y_true, y_pred):\n",
    "    return accuracy_score(y_true, y_pred)\n",
    "\n",
    "@contextmanager\n",
    "def timer(name):\n",
    "    t0 = time.time()\n",
    "    LOGGER.info(f'[{name}] start')\n",
    "    yield\n",
    "    LOGGER.info(f'[{name}] done in {time.time() - t0:.0f}')\n",
    "    \n",
    "def init_logger(log_file=OUTPUT_DIR+'train.log'):\n",
    "    from logging import getLogger, INFO, FileHandler,  Formatter,  StreamHandler\n",
    "    logger = getLogger(__name__)\n",
    "    logger.setLevel(INFO)\n",
    "    handler1 = StreamHandler()\n",
    "    handler1.setFormatter(Formatter(\"%(message)s\"))\n",
    "    handler2 = FileHandler(filename=log_file)\n",
    "    handler2.setFormatter(Formatter(\"%(message)s\"))\n",
    "    logger.addHandler(handler1)\n",
    "    logger.addHandler(handler2)\n",
    "    return logger\n",
    "\n",
    "LOGGER = init_logger()\n",
    "\n",
    "def seed_torch(seed=42):\n",
    "    random.seed(seed)\n",
    "    os.environ['PYTHONHASHSEED'] = str(seed)\n",
    "    np.random.seed(seed)\n",
    "    torch.manual_seed(seed)\n",
    "    torch.cuda.manual_seed(seed)\n",
    "    torch.backends.cudnn.benchmark = False\n",
    "    torch.backends.cudnn.deterministic = True\n",
    "\n",
    "seed_torch(seed=CFG.seed)"
   ]
  },
  {
   "cell_type": "markdown",
   "metadata": {
    "papermill": {
     "duration": 0.029185,
     "end_time": "2021-01-10T23:44:38.385415",
     "exception": false,
     "start_time": "2021-01-10T23:44:38.356230",
     "status": "completed"
    },
    "tags": []
   },
   "source": [
    "## CV split"
   ]
  },
  {
   "cell_type": "code",
   "execution_count": 9,
   "metadata": {
    "execution": {
     "iopub.execute_input": "2021-01-10T23:44:38.490420Z",
     "iopub.status.busy": "2021-01-10T23:44:38.488289Z",
     "iopub.status.idle": "2021-01-10T23:44:38.514416Z",
     "shell.execute_reply": "2021-01-10T23:44:38.513637Z"
    },
    "papermill": {
     "duration": 0.063697,
     "end_time": "2021-01-10T23:44:38.514539",
     "exception": false,
     "start_time": "2021-01-10T23:44:38.450842",
     "status": "completed"
    },
    "tags": []
   },
   "outputs": [
    {
     "name": "stdout",
     "output_type": "stream",
     "text": [
      "fold  label\n",
      "0     0         299\n",
      "      1         695\n",
      "      2         604\n",
      "      3        3092\n",
      "      4         578\n",
      "1     0         299\n",
      "      1         695\n",
      "      2         604\n",
      "      3        3092\n",
      "      4         578\n",
      "2     0         298\n",
      "      1         695\n",
      "      2         603\n",
      "      3        3093\n",
      "      4         578\n",
      "3     0         298\n",
      "      1         695\n",
      "      2         603\n",
      "      3        3093\n",
      "      4         578\n",
      "4     0         298\n",
      "      1         696\n",
      "      2         603\n",
      "      3        3092\n",
      "      4         578\n",
      "dtype: int64\n"
     ]
    }
   ],
   "source": [
    "folds = train.copy()\n",
    "Fold = StratifiedKFold(n_splits=CFG.n_fold, shuffle=True, random_state=CFG.seed)\n",
    "for n, (train_index, val_index) in enumerate(Fold.split(folds, folds[CFG.target_col])):\n",
    "    folds.loc[val_index, 'fold'] = int(n)\n",
    "folds['fold'] = folds['fold'].astype(int)\n",
    "print(folds.groupby(['fold', CFG.target_col]).size())"
   ]
  },
  {
   "cell_type": "markdown",
   "metadata": {
    "papermill": {
     "duration": 0.038208,
     "end_time": "2021-01-10T23:44:38.586003",
     "exception": false,
     "start_time": "2021-01-10T23:44:38.547795",
     "status": "completed"
    },
    "tags": []
   },
   "source": [
    "## Dataset"
   ]
  },
  {
   "cell_type": "code",
   "execution_count": 10,
   "metadata": {
    "execution": {
     "iopub.execute_input": "2021-01-10T23:44:38.674723Z",
     "iopub.status.busy": "2021-01-10T23:44:38.673893Z",
     "iopub.status.idle": "2021-01-10T23:44:38.677502Z",
     "shell.execute_reply": "2021-01-10T23:44:38.677998Z"
    },
    "papermill": {
     "duration": 0.056762,
     "end_time": "2021-01-10T23:44:38.678153",
     "exception": false,
     "start_time": "2021-01-10T23:44:38.621391",
     "status": "completed"
    },
    "tags": []
   },
   "outputs": [],
   "source": [
    "class TrainDataset(Dataset):\n",
    "    def __init__(self, df, transform=None):\n",
    "        self.df = df\n",
    "        self.file_names = df['image_id'].values\n",
    "        self.labels = df['label'].values\n",
    "#         self.labels = pd.get_dummies(df['label']).values  # One Hot Encoding\n",
    "        self.transform = transform\n",
    "    \n",
    "    def __len__(self):\n",
    "        return len(self.df)\n",
    "    \n",
    "    def __getitem__(self, idx):\n",
    "        file_name = self.file_names[idx]\n",
    "        file_path = f'{TRAIN_PATH}/{file_name}'\n",
    "        image = cv2.imread(file_path)\n",
    "        image = cv2.cvtColor(image, cv2.COLOR_BGR2RGB)\n",
    "        if self.transform:\n",
    "            augmented = self.transform(image=image)\n",
    "            image = augmented['image']\n",
    "        label = torch.tensor(self.labels[idx]).long()\n",
    "        return image, label\n",
    "    \n",
    "class TestDataset(Dataset):\n",
    "    def __init__(self, df, transform=None):\n",
    "        self.df = df\n",
    "        self.file_names = df['image_id'].values\n",
    "        self.transform = transform\n",
    "        \n",
    "    def __len__(self):\n",
    "        return len(self.df)\n",
    "    \n",
    "    def __getitem__(self, idx):\n",
    "        file_name = self.file_names[idx]\n",
    "        file_path = f'{TEST_PATH}/{file_name}'\n",
    "        image = cv2.imread(file_path)\n",
    "        image = cv2.cvtColor(image, cv2.COLOR_BGR2RGB)\n",
    "        if self.transform:\n",
    "            augmented = self.transform(image=image)\n",
    "            image = augmented['image']\n",
    "        return image"
   ]
  },
  {
   "cell_type": "code",
   "execution_count": 11,
   "metadata": {
    "execution": {
     "iopub.execute_input": "2021-01-10T23:44:38.749252Z",
     "iopub.status.busy": "2021-01-10T23:44:38.747379Z",
     "iopub.status.idle": "2021-01-10T23:44:38.749927Z",
     "shell.execute_reply": "2021-01-10T23:44:38.750488Z"
    },
    "papermill": {
     "duration": 0.040421,
     "end_time": "2021-01-10T23:44:38.750616",
     "exception": false,
     "start_time": "2021-01-10T23:44:38.710195",
     "status": "completed"
    },
    "tags": []
   },
   "outputs": [],
   "source": [
    "# train_dataset = TrainDataset(train, transform=None)\n",
    "\n",
    "# for i in range(1):\n",
    "#     image, label = train_dataset[i]\n",
    "#     plt.imshow(image)\n",
    "#     plt.title(f'label: {label}')\n",
    "#     plt.show()"
   ]
  },
  {
   "cell_type": "markdown",
   "metadata": {
    "papermill": {
     "duration": 0.032394,
     "end_time": "2021-01-10T23:44:38.814655",
     "exception": false,
     "start_time": "2021-01-10T23:44:38.782261",
     "status": "completed"
    },
    "tags": []
   },
   "source": [
    "## Transforms"
   ]
  },
  {
   "cell_type": "code",
   "execution_count": 12,
   "metadata": {
    "execution": {
     "iopub.execute_input": "2021-01-10T23:44:38.887553Z",
     "iopub.status.busy": "2021-01-10T23:44:38.886744Z",
     "iopub.status.idle": "2021-01-10T23:44:38.890944Z",
     "shell.execute_reply": "2021-01-10T23:44:38.890443Z"
    },
    "papermill": {
     "duration": 0.045439,
     "end_time": "2021-01-10T23:44:38.891044",
     "exception": false,
     "start_time": "2021-01-10T23:44:38.845605",
     "status": "completed"
    },
    "tags": []
   },
   "outputs": [],
   "source": [
    "def get_transforms(*, data):\n",
    "    \n",
    "    if data == 'train':\n",
    "        return Compose([\n",
    "            RandomResizedCrop(CFG.size, CFG.size), \n",
    "            Transpose(p=0.5), \n",
    "            HorizontalFlip(p=0.5), \n",
    "            VerticalFlip(p=0.5), \n",
    "            ShiftScaleRotate(p=0.5), \n",
    "            HueSaturationValue(hue_shift_limit=0.2, sat_shift_limit=0.2, val_shift_limit=0.2, p=0.5), \n",
    "            RandomBrightnessContrast(brightness_limit=(-0.1, 0.1), contrast_limit=(-0.1, 0.1), p=0.5), \n",
    "            Normalize(\n",
    "                mean=[0.485, 0.456, 0.406], \n",
    "                std=[0.229, 0.224, 0.225], \n",
    "            ), \n",
    "            ToTensorV2(),\n",
    "        ])\n",
    "    \n",
    "    elif data == 'valid':\n",
    "        return Compose([\n",
    "            Resize(CFG.size, CFG.size), \n",
    "            Normalize(\n",
    "                mean=[0.485, 0.456, 0.406], \n",
    "                std=[0.229, 0.224, 0.225], \n",
    "            ), \n",
    "            ToTensorV2(),\n",
    "        ])"
   ]
  },
  {
   "cell_type": "code",
   "execution_count": 13,
   "metadata": {
    "execution": {
     "iopub.execute_input": "2021-01-10T23:44:38.959604Z",
     "iopub.status.busy": "2021-01-10T23:44:38.958866Z",
     "iopub.status.idle": "2021-01-10T23:44:38.963225Z",
     "shell.execute_reply": "2021-01-10T23:44:38.962697Z"
    },
    "papermill": {
     "duration": 0.040755,
     "end_time": "2021-01-10T23:44:38.963336",
     "exception": false,
     "start_time": "2021-01-10T23:44:38.922581",
     "status": "completed"
    },
    "tags": []
   },
   "outputs": [],
   "source": [
    "# train_dataset = TrainDataset(train, transform=get_transforms(data='train'))\n",
    "\n",
    "# for i in range(1):\n",
    "#     image, label = train_dataset[i]\n",
    "#     plt.imshow(image[0])\n",
    "#     plt.title(f'label: {label}')\n",
    "#     plt.show()"
   ]
  },
  {
   "cell_type": "markdown",
   "metadata": {
    "papermill": {
     "duration": 0.030495,
     "end_time": "2021-01-10T23:44:39.024817",
     "exception": false,
     "start_time": "2021-01-10T23:44:38.994322",
     "status": "completed"
    },
    "tags": []
   },
   "source": [
    "## MODEL"
   ]
  },
  {
   "cell_type": "code",
   "execution_count": 14,
   "metadata": {
    "execution": {
     "iopub.execute_input": "2021-01-10T23:44:39.093385Z",
     "iopub.status.busy": "2021-01-10T23:44:39.092644Z",
     "iopub.status.idle": "2021-01-10T23:44:39.095606Z",
     "shell.execute_reply": "2021-01-10T23:44:39.095104Z"
    },
    "papermill": {
     "duration": 0.040068,
     "end_time": "2021-01-10T23:44:39.095703",
     "exception": false,
     "start_time": "2021-01-10T23:44:39.055635",
     "status": "completed"
    },
    "tags": []
   },
   "outputs": [],
   "source": [
    "class CustomEfficientNetB3ns(nn.Module):\n",
    "    def __init__(self, model_name='tf_efficientnet_b3_ns', pretrained=False):\n",
    "        super().__init__()\n",
    "        self.model = timm.create_model(model_name, pretrained=pretrained)\n",
    "        n_features = self.model.classifier.in_features\n",
    "        self.model.classifier = nn.Linear(n_features, CFG.target_size)\n",
    "        \n",
    "    def forward(self, x):\n",
    "        x = self.model(x)\n",
    "        return x"
   ]
  },
  {
   "cell_type": "code",
   "execution_count": 15,
   "metadata": {
    "execution": {
     "iopub.execute_input": "2021-01-10T23:44:39.159945Z",
     "iopub.status.busy": "2021-01-10T23:44:39.159098Z",
     "iopub.status.idle": "2021-01-10T23:44:39.161536Z",
     "shell.execute_reply": "2021-01-10T23:44:39.162068Z"
    },
    "papermill": {
     "duration": 0.036979,
     "end_time": "2021-01-10T23:44:39.162200",
     "exception": false,
     "start_time": "2021-01-10T23:44:39.125221",
     "status": "completed"
    },
    "tags": []
   },
   "outputs": [],
   "source": [
    "# model = CustomEfficientNetB3ns(model_name=CFG.model_name, pretrained=False)\n",
    "# train_dataset = TrainDataset(train, transform=get_transforms(data='train'))\n",
    "# train_loader = DataLoader(train_dataset, batch_size=4, shuffle=True, \n",
    "#                           num_workers=4, pin_memory=True, drop_last=True)\n",
    "\n",
    "# for image, label in train_loader:\n",
    "#     print(image.size())\n",
    "#     output = model(image)\n",
    "#     print(output)\n",
    "#     break"
   ]
  },
  {
   "cell_type": "markdown",
   "metadata": {
    "papermill": {
     "duration": 0.030285,
     "end_time": "2021-01-10T23:44:39.223653",
     "exception": false,
     "start_time": "2021-01-10T23:44:39.193368",
     "status": "completed"
    },
    "tags": []
   },
   "source": [
    "## Loss Functions"
   ]
  },
  {
   "cell_type": "code",
   "execution_count": 16,
   "metadata": {
    "execution": {
     "iopub.execute_input": "2021-01-10T23:44:39.300889Z",
     "iopub.status.busy": "2021-01-10T23:44:39.298857Z",
     "iopub.status.idle": "2021-01-10T23:44:39.301732Z",
     "shell.execute_reply": "2021-01-10T23:44:39.302303Z"
    },
    "papermill": {
     "duration": 0.047777,
     "end_time": "2021-01-10T23:44:39.302441",
     "exception": false,
     "start_time": "2021-01-10T23:44:39.254664",
     "status": "completed"
    },
    "tags": []
   },
   "outputs": [],
   "source": [
    "# ====================================================\n",
    "# Label Smoothing\n",
    "# ====================================================\n",
    "class LabelSmoothingLoss(nn.Module): \n",
    "    def __init__(self, classes=5, smoothing=0.0, dim=-1): \n",
    "        super(LabelSmoothingLoss, self).__init__() \n",
    "        self.confidence = 1.0 - smoothing \n",
    "        self.smoothing = smoothing \n",
    "        self.cls = classes \n",
    "        self.dim = dim \n",
    "    def forward(self, pred, target): \n",
    "        pred = pred.log_softmax(dim=self.dim) \n",
    "        with torch.no_grad():\n",
    "            true_dist = torch.zeros_like(pred) \n",
    "            true_dist.fill_(self.smoothing / (self.cls - 1)) \n",
    "            true_dist.scatter_(1, target.data.unsqueeze(1), self.confidence) \n",
    "        return torch.mean(torch.sum(-true_dist * pred, dim=self.dim))"
   ]
  },
  {
   "cell_type": "code",
   "execution_count": 17,
   "metadata": {
    "execution": {
     "iopub.execute_input": "2021-01-10T23:44:39.379992Z",
     "iopub.status.busy": "2021-01-10T23:44:39.378337Z",
     "iopub.status.idle": "2021-01-10T23:44:39.380853Z",
     "shell.execute_reply": "2021-01-10T23:44:39.381366Z"
    },
    "papermill": {
     "duration": 0.045285,
     "end_time": "2021-01-10T23:44:39.381485",
     "exception": false,
     "start_time": "2021-01-10T23:44:39.336200",
     "status": "completed"
    },
    "tags": []
   },
   "outputs": [],
   "source": [
    "class FocalLoss(nn.Module):\n",
    "    def __init__(self, alpha=1, gamma=2, reduce=True):\n",
    "        super(FocalLoss, self).__init__()\n",
    "        self.alpha = alpha\n",
    "        self.gamma = gamma\n",
    "        self.reduce = reduce\n",
    "\n",
    "    def forward(self, inputs, targets):\n",
    "        BCE_loss = nn.CrossEntropyLoss()(inputs, targets)\n",
    "\n",
    "        pt = torch.exp(-BCE_loss)\n",
    "        F_loss = self.alpha * (1-pt)**self.gamma * BCE_loss\n",
    "\n",
    "        if self.reduce:\n",
    "            return torch.mean(F_loss)\n",
    "        else:\n",
    "            return F_loss"
   ]
  },
  {
   "cell_type": "code",
   "execution_count": 18,
   "metadata": {
    "execution": {
     "iopub.execute_input": "2021-01-10T23:44:39.459437Z",
     "iopub.status.busy": "2021-01-10T23:44:39.458536Z",
     "iopub.status.idle": "2021-01-10T23:44:39.461831Z",
     "shell.execute_reply": "2021-01-10T23:44:39.462336Z"
    },
    "papermill": {
     "duration": 0.048797,
     "end_time": "2021-01-10T23:44:39.462472",
     "exception": false,
     "start_time": "2021-01-10T23:44:39.413675",
     "status": "completed"
    },
    "tags": []
   },
   "outputs": [],
   "source": [
    "class FocalCosineLoss(nn.Module):\n",
    "    def __init__(self, alpha=1, gamma=2, xent=.1):\n",
    "        super(FocalCosineLoss, self).__init__()\n",
    "        self.alpha = alpha\n",
    "        self.gamma = gamma\n",
    "\n",
    "        self.xent = xent\n",
    "\n",
    "        self.y = torch.Tensor([1]).cuda()\n",
    "\n",
    "    def forward(self, input, target, reduction=\"mean\"):\n",
    "        cosine_loss = F.cosine_embedding_loss(input, F.one_hot(target, num_classes=input.size(-1)), self.y, reduction=reduction)\n",
    "\n",
    "        cent_loss = F.cross_entropy(F.normalize(input), target, reduce=False)\n",
    "        pt = torch.exp(-cent_loss)\n",
    "        focal_loss = self.alpha * (1-pt)**self.gamma * cent_loss\n",
    "\n",
    "        if reduction == \"mean\":\n",
    "            focal_loss = torch.mean(focal_loss)\n",
    "\n",
    "        return cosine_loss + self.xent * focal_loss"
   ]
  },
  {
   "cell_type": "code",
   "execution_count": 19,
   "metadata": {
    "execution": {
     "iopub.execute_input": "2021-01-10T23:44:39.541908Z",
     "iopub.status.busy": "2021-01-10T23:44:39.538439Z",
     "iopub.status.idle": "2021-01-10T23:44:39.544964Z",
     "shell.execute_reply": "2021-01-10T23:44:39.544351Z"
    },
    "papermill": {
     "duration": 0.048331,
     "end_time": "2021-01-10T23:44:39.545069",
     "exception": false,
     "start_time": "2021-01-10T23:44:39.496738",
     "status": "completed"
    },
    "tags": []
   },
   "outputs": [],
   "source": [
    "class SymmetricCrossEntropy(nn.Module):\n",
    "\n",
    "    def __init__(self, alpha=0.1, beta=1.0, num_classes=5):\n",
    "        super(SymmetricCrossEntropy, self).__init__()\n",
    "        self.alpha = alpha\n",
    "        self.beta = beta\n",
    "        self.num_classes = num_classes\n",
    "\n",
    "    def forward(self, logits, targets, reduction='mean'):\n",
    "        onehot_targets = torch.eye(self.num_classes)[targets].cuda()\n",
    "        ce_loss = F.cross_entropy(logits, targets, reduction=reduction)\n",
    "        rce_loss = (-onehot_targets*logits.softmax(1).clamp(1e-7, 1.0).log()).sum(1)\n",
    "        if reduction == 'mean':\n",
    "            rce_loss = rce_loss.mean()\n",
    "        elif reduction == 'sum':\n",
    "            rce_loss = rce_loss.sum()\n",
    "        return self.alpha * ce_loss + self.beta * rce_loss"
   ]
  },
  {
   "cell_type": "code",
   "execution_count": 20,
   "metadata": {
    "execution": {
     "iopub.execute_input": "2021-01-10T23:44:39.638927Z",
     "iopub.status.busy": "2021-01-10T23:44:39.618070Z",
     "iopub.status.idle": "2021-01-10T23:44:39.662083Z",
     "shell.execute_reply": "2021-01-10T23:44:39.661516Z"
    },
    "papermill": {
     "duration": 0.084023,
     "end_time": "2021-01-10T23:44:39.662221",
     "exception": false,
     "start_time": "2021-01-10T23:44:39.578198",
     "status": "completed"
    },
    "tags": []
   },
   "outputs": [],
   "source": [
    "def log_t(u, t):\n",
    "    \"\"\"Compute log_t for `u'.\"\"\"\n",
    "    if t==1.0:\n",
    "        return u.log()\n",
    "    else:\n",
    "        return (u.pow(1.0 - t) - 1.0) / (1.0 - t)\n",
    "\n",
    "def exp_t(u, t):\n",
    "    \"\"\"Compute exp_t for `u'.\"\"\"\n",
    "    if t==1:\n",
    "        return u.exp()\n",
    "    else:\n",
    "        return (1.0 + (1.0-t)*u).relu().pow(1.0 / (1.0 - t))\n",
    "\n",
    "def compute_normalization_fixed_point(activations, t, num_iters):\n",
    "\n",
    "    \"\"\"Returns the normalization value for each example (t > 1.0).\n",
    "    Args:\n",
    "      activations: A multi-dimensional tensor with last dimension `num_classes`.\n",
    "      t: Temperature 2 (> 1.0 for tail heaviness).\n",
    "      num_iters: Number of iterations to run the method.\n",
    "    Return: A tensor of same shape as activation with the last dimension being 1.\n",
    "    \"\"\"\n",
    "    mu, _ = torch.max(activations, -1, keepdim=True)\n",
    "    normalized_activations_step_0 = activations - mu\n",
    "\n",
    "    normalized_activations = normalized_activations_step_0\n",
    "\n",
    "    for _ in range(num_iters):\n",
    "        logt_partition = torch.sum(\n",
    "                exp_t(normalized_activations, t), -1, keepdim=True)\n",
    "        normalized_activations = normalized_activations_step_0 * \\\n",
    "                logt_partition.pow(1.0-t)\n",
    "\n",
    "    logt_partition = torch.sum(\n",
    "            exp_t(normalized_activations, t), -1, keepdim=True)\n",
    "    normalization_constants = - log_t(1.0 / logt_partition, t) + mu\n",
    "\n",
    "    return normalization_constants\n",
    "\n",
    "def compute_normalization_binary_search(activations, t, num_iters):\n",
    "\n",
    "    \"\"\"Returns the normalization value for each example (t < 1.0).\n",
    "    Args:\n",
    "      activations: A multi-dimensional tensor with last dimension `num_classes`.\n",
    "      t: Temperature 2 (< 1.0 for finite support).\n",
    "      num_iters: Number of iterations to run the method.\n",
    "    Return: A tensor of same rank as activation with the last dimension being 1.\n",
    "    \"\"\"\n",
    "\n",
    "    mu, _ = torch.max(activations, -1, keepdim=True)\n",
    "    normalized_activations = activations - mu\n",
    "\n",
    "    effective_dim = \\\n",
    "        torch.sum(\n",
    "                (normalized_activations > -1.0 / (1.0-t)).to(torch.int32),\n",
    "            dim=-1, keepdim=True).to(activations.dtype)\n",
    "\n",
    "    shape_partition = activations.shape[:-1] + (1,)\n",
    "    lower = torch.zeros(shape_partition, dtype=activations.dtype, device=activations.device)\n",
    "    upper = -log_t(1.0/effective_dim, t) * torch.ones_like(lower)\n",
    "\n",
    "    for _ in range(num_iters):\n",
    "        logt_partition = (upper + lower)/2.0\n",
    "        sum_probs = torch.sum(\n",
    "                exp_t(normalized_activations - logt_partition, t),\n",
    "                dim=-1, keepdim=True)\n",
    "        update = (sum_probs < 1.0).to(activations.dtype)\n",
    "        lower = torch.reshape(\n",
    "                lower * update + (1.0-update) * logt_partition,\n",
    "                shape_partition)\n",
    "        upper = torch.reshape(\n",
    "                upper * (1.0 - update) + update * logt_partition,\n",
    "                shape_partition)\n",
    "\n",
    "    logt_partition = (upper + lower)/2.0\n",
    "    return logt_partition + mu\n",
    "\n",
    "class ComputeNormalization(torch.autograd.Function):\n",
    "    \"\"\"\n",
    "    Class implementing custom backward pass for compute_normalization. See compute_normalization.\n",
    "    \"\"\"\n",
    "    @staticmethod\n",
    "    def forward(ctx, activations, t, num_iters):\n",
    "        if t < 1.0:\n",
    "            normalization_constants = compute_normalization_binary_search(activations, t, num_iters)\n",
    "        else:\n",
    "            normalization_constants = compute_normalization_fixed_point(activations, t, num_iters)\n",
    "\n",
    "        ctx.save_for_backward(activations, normalization_constants)\n",
    "        ctx.t=t\n",
    "        return normalization_constants\n",
    "\n",
    "    @staticmethod\n",
    "    def backward(ctx, grad_output):\n",
    "        activations, normalization_constants = ctx.saved_tensors\n",
    "        t = ctx.t\n",
    "        normalized_activations = activations - normalization_constants \n",
    "        probabilities = exp_t(normalized_activations, t)\n",
    "        escorts = probabilities.pow(t)\n",
    "        escorts = escorts / escorts.sum(dim=-1, keepdim=True)\n",
    "        grad_input = escorts * grad_output\n",
    "        \n",
    "        return grad_input, None, None\n",
    "\n",
    "def compute_normalization(activations, t, num_iters=5):\n",
    "    \"\"\"Returns the normalization value for each example. \n",
    "    Backward pass is implemented.\n",
    "    Args:\n",
    "      activations: A multi-dimensional tensor with last dimension `num_classes`.\n",
    "      t: Temperature 2 (> 1.0 for tail heaviness, < 1.0 for finite support).\n",
    "      num_iters: Number of iterations to run the method.\n",
    "    Return: A tensor of same rank as activation with the last dimension being 1.\n",
    "    \"\"\"\n",
    "    return ComputeNormalization.apply(activations, t, num_iters)\n",
    "\n",
    "def tempered_sigmoid(activations, t, num_iters = 5):\n",
    "    \"\"\"Tempered sigmoid function.\n",
    "    Args:\n",
    "      activations: Activations for the positive class for binary classification.\n",
    "      t: Temperature tensor > 0.0.\n",
    "      num_iters: Number of iterations to run the method.\n",
    "    Returns:\n",
    "      A probabilities tensor.\n",
    "    \"\"\"\n",
    "    internal_activations = torch.stack([activations,\n",
    "        torch.zeros_like(activations)],\n",
    "        dim=-1)\n",
    "    internal_probabilities = tempered_softmax(internal_activations, t, num_iters)\n",
    "    return internal_probabilities[..., 0]\n",
    "\n",
    "\n",
    "def tempered_softmax(activations, t, num_iters=5):\n",
    "    \"\"\"Tempered softmax function.\n",
    "    Args:\n",
    "      activations: A multi-dimensional tensor with last dimension `num_classes`.\n",
    "      t: Temperature > 1.0.\n",
    "      num_iters: Number of iterations to run the method.\n",
    "    Returns:\n",
    "      A probabilities tensor.\n",
    "    \"\"\"\n",
    "    if t == 1.0:\n",
    "        return activations.softmax(dim=-1)\n",
    "\n",
    "    normalization_constants = compute_normalization(activations, t, num_iters)\n",
    "    return exp_t(activations - normalization_constants, t)\n",
    "\n",
    "def bi_tempered_binary_logistic_loss(activations,\n",
    "        labels,\n",
    "        t1,\n",
    "        t2,\n",
    "        label_smoothing = 0.0,\n",
    "        num_iters=5,\n",
    "        reduction='mean'):\n",
    "\n",
    "    \"\"\"Bi-Tempered binary logistic loss.\n",
    "    Args:\n",
    "      activations: A tensor containing activations for class 1.\n",
    "      labels: A tensor with shape as activations, containing probabilities for class 1\n",
    "      t1: Temperature 1 (< 1.0 for boundedness).\n",
    "      t2: Temperature 2 (> 1.0 for tail heaviness, < 1.0 for finite support).\n",
    "      label_smoothing: Label smoothing\n",
    "      num_iters: Number of iterations to run the method.\n",
    "    Returns:\n",
    "      A loss tensor.\n",
    "    \"\"\"\n",
    "    internal_activations = torch.stack([activations,\n",
    "        torch.zeros_like(activations)],\n",
    "        dim=-1)\n",
    "    internal_labels = torch.stack([labels.to(activations.dtype),\n",
    "        1.0 - labels.to(activations.dtype)],\n",
    "        dim=-1)\n",
    "    return bi_tempered_logistic_loss(internal_activations, \n",
    "            internal_labels,\n",
    "            t1,\n",
    "            t2,\n",
    "            label_smoothing = label_smoothing,\n",
    "            num_iters = num_iters,\n",
    "            reduction = reduction)\n",
    "\n",
    "def bi_tempered_logistic_loss(activations,\n",
    "        labels,\n",
    "        t1,\n",
    "        t2,\n",
    "        label_smoothing=0.0,\n",
    "        num_iters=5,\n",
    "        reduction = 'mean'):\n",
    "\n",
    "    \"\"\"Bi-Tempered Logistic Loss.\n",
    "    Args:\n",
    "      activations: A multi-dimensional tensor with last dimension `num_classes`.\n",
    "      labels: A tensor with shape and dtype as activations (onehot), \n",
    "        or a long tensor of one dimension less than activations (pytorch standard)\n",
    "      t1: Temperature 1 (< 1.0 for boundedness).\n",
    "      t2: Temperature 2 (> 1.0 for tail heaviness, < 1.0 for finite support).\n",
    "      label_smoothing: Label smoothing parameter between [0, 1). Default 0.0.\n",
    "      num_iters: Number of iterations to run the method. Default 5.\n",
    "      reduction: ``'none'`` | ``'mean'`` | ``'sum'``. Default ``'mean'``.\n",
    "        ``'none'``: No reduction is applied, return shape is shape of\n",
    "        activations without the last dimension.\n",
    "        ``'mean'``: Loss is averaged over minibatch. Return shape (1,)\n",
    "        ``'sum'``: Loss is summed over minibatch. Return shape (1,)\n",
    "    Returns:\n",
    "      A loss tensor.\n",
    "    \"\"\"\n",
    "\n",
    "    if len(labels.shape)<len(activations.shape): #not one-hot\n",
    "        labels_onehot = torch.zeros_like(activations)\n",
    "        labels_onehot.scatter_(1, labels[..., None], 1)\n",
    "    else:\n",
    "        labels_onehot = labels\n",
    "\n",
    "    if label_smoothing > 0:\n",
    "        num_classes = labels_onehot.shape[-1]\n",
    "        labels_onehot = ( 1 - label_smoothing * num_classes / (num_classes - 1) ) \\\n",
    "                * labels_onehot + \\\n",
    "                label_smoothing / (num_classes - 1)\n",
    "\n",
    "    probabilities = tempered_softmax(activations, t2, num_iters)\n",
    "\n",
    "    loss_values = labels_onehot * log_t(labels_onehot + 1e-10, t1) \\\n",
    "            - labels_onehot * log_t(probabilities, t1) \\\n",
    "            - labels_onehot.pow(2.0 - t1) / (2.0 - t1) \\\n",
    "            + probabilities.pow(2.0 - t1) / (2.0 - t1)\n",
    "    loss_values = loss_values.sum(dim = -1) #sum over classes\n",
    "\n",
    "    if reduction == 'none':\n",
    "        return loss_values\n",
    "    if reduction == 'sum':\n",
    "        return loss_values.sum()\n",
    "    if reduction == 'mean':\n",
    "        return loss_values.mean()"
   ]
  },
  {
   "cell_type": "code",
   "execution_count": 21,
   "metadata": {
    "execution": {
     "iopub.execute_input": "2021-01-10T23:44:39.734228Z",
     "iopub.status.busy": "2021-01-10T23:44:39.733565Z",
     "iopub.status.idle": "2021-01-10T23:44:39.738064Z",
     "shell.execute_reply": "2021-01-10T23:44:39.737323Z"
    },
    "papermill": {
     "duration": 0.043696,
     "end_time": "2021-01-10T23:44:39.738195",
     "exception": false,
     "start_time": "2021-01-10T23:44:39.694499",
     "status": "completed"
    },
    "tags": []
   },
   "outputs": [],
   "source": [
    "class BiTemperedLogisticLoss(nn.Module): \n",
    "    def __init__(self, t1, t2, smoothing=0.0): \n",
    "        super(BiTemperedLogisticLoss, self).__init__() \n",
    "        self.t1 = t1\n",
    "        self.t2 = t2\n",
    "        self.smoothing = smoothing\n",
    "    def forward(self, logit_label, truth_label):\n",
    "        loss_label = bi_tempered_logistic_loss(\n",
    "            logit_label, truth_label,\n",
    "            t1=self.t1, t2=self.t2,\n",
    "            label_smoothing=self.smoothing,\n",
    "            reduction='none'\n",
    "        )\n",
    "        \n",
    "        loss_label = loss_label.mean()\n",
    "        return loss_label"
   ]
  },
  {
   "cell_type": "code",
   "execution_count": null,
   "metadata": {},
   "outputs": [],
   "source": [
    "class TaylorSoftmax(nn.Module):\n",
    "    '''\n",
    "    This is the autograd version\n",
    "    '''\n",
    "    def __init__(self, dim=1, n=2):\n",
    "        super(TaylorSoftmax, self).__init__()\n",
    "        assert n % 2 == 0\n",
    "        self.dim = dim\n",
    "        self.n = n\n",
    "\n",
    "    def forward(self, x):\n",
    "        '''\n",
    "        usage similar to nn.Softmax:\n",
    "            >>> mod = TaylorSoftmax(dim=1, n=4)\n",
    "            >>> inten = torch.randn(1, 32, 64, 64)\n",
    "            >>> out = mod(inten)\n",
    "        '''\n",
    "        fn = torch.ones_like(x)\n",
    "        denor = 1.\n",
    "        for i in range(1, self.n+1):\n",
    "            denor *= i\n",
    "            fn = fn + x.pow(i) / denor\n",
    "        out = fn / fn.sum(dim=self.dim, keepdims=True)\n",
    "        return out\n",
    "\n",
    "class TaylorCrossEntropyLoss(nn.Module):\n",
    "    def __init__(self, n=2, ignore_index=-1, reduction='mean', smoothing=0.05):\n",
    "        super(TaylorCrossEntropyLoss, self).__init__()\n",
    "        assert n % 2 == 0\n",
    "        self.taylor_softmax = TaylorSoftmax(dim=1, n=n)\n",
    "        self.reduction = reduction\n",
    "        self.ignore_index = ignore_index\n",
    "        self.lab_smooth = LabelSmoothingLoss(CFG.target_size, smoothing=smoothing)\n",
    "\n",
    "    def forward(self, logits, labels):\n",
    "        log_probs = self.taylor_softmax(logits).log()\n",
    "        loss = self.lab_smooth(log_probs, labels)\n",
    "        return loss"
   ]
  },
  {
   "cell_type": "code",
   "execution_count": 22,
   "metadata": {
    "execution": {
     "iopub.execute_input": "2021-01-10T23:44:39.827487Z",
     "iopub.status.busy": "2021-01-10T23:44:39.816863Z",
     "iopub.status.idle": "2021-01-10T23:44:39.851715Z",
     "shell.execute_reply": "2021-01-10T23:44:39.851140Z"
    },
    "papermill": {
     "duration": 0.08097,
     "end_time": "2021-01-10T23:44:39.851820",
     "exception": false,
     "start_time": "2021-01-10T23:44:39.770850",
     "status": "completed"
    },
    "tags": []
   },
   "outputs": [],
   "source": [
    "class AverageMeter(object):\n",
    "    \"\"\"Computes and stores the average and current value\"\"\"\n",
    "    def __init__(self):\n",
    "        self.reset()\n",
    "        \n",
    "    def reset(self):\n",
    "        self.val = 0\n",
    "        self.avg = 0\n",
    "        self.sum = 0\n",
    "        self.count = 0\n",
    "        \n",
    "    def update(self, val, n=1):\n",
    "        self.val = val\n",
    "        self.sum += val * n\n",
    "        self.count += n\n",
    "        self.avg = self.sum / self.count\n",
    "        \n",
    "def asMinutes(s):\n",
    "    \"\"\"秒を分に変換する関数\"\"\"\n",
    "    m = math.floor(s / 60)\n",
    "    s -= m * 60\n",
    "    return '%dm %ds' % (m, s)\n",
    "\n",
    "def timeSince(since, percent):\n",
    "    \"\"\"経過時間の測定と終了時間の予測を行う関数\n",
    "    Parameters\n",
    "    ----------\n",
    "    since : float\n",
    "        実験を始めた時刻\n",
    "    percent : float\n",
    "        実験が進んだ割合\n",
    "        \n",
    "    Returns\n",
    "    -------\n",
    "    s : 経過時間\n",
    "    re : 終了までの時間の予測\n",
    "    \"\"\"\n",
    "    now = time.time()\n",
    "    s = now - since  # 経過時間の測定\n",
    "    es = s / percent  # 終了時間の予測\n",
    "    re = es - s  # 残り時間の予想\n",
    "    return '%s (remain %s)' % (asMinutes(s), asMinutes(re))\n",
    "\n",
    "def train_fn(train_loader, model, loss_train, loss_metric, optimizer, epoch, shechduler, device):\n",
    "    batch_time = AverageMeter()\n",
    "    data_time = AverageMeter()\n",
    "    losses = AverageMeter()\n",
    "    scores = AverageMeter()\n",
    "    # switch to train mode\n",
    "    model.train()\n",
    "    start = end = time.time()\n",
    "    global_step = 0\n",
    "    for step, (images, labels) in enumerate(train_loader):\n",
    "        # measure data loading time\n",
    "        data_time.update(time.time() - end)\n",
    "        images = images.to(device)\n",
    "        labels = labels.to(device)\n",
    "        batch_size = labels.size(0)\n",
    "        y_preds = model(images)\n",
    "        metric = loss_metric(y_preds, labels)\n",
    "        loss = loss_train(y_preds, labels)\n",
    "        # record loss\n",
    "        losses.update(metric.item(), batch_size)\n",
    "        if CFG.gradient_accumulation_steps > 1:\n",
    "            loss = loss / CFG.gradient_accumulation_steps\n",
    "        if CFG.apex:\n",
    "            with amp.scale_loss(loss, optimizer) as scaled_loss:\n",
    "                scaled_loss.backward()\n",
    "        else: \n",
    "            loss.backward()\n",
    "        grad_norm = torch.nn.utils.clip_grad_norm_(model.parameters(), CFG.max_grad_norm)\n",
    "        if (step + 1) % CFG.gradient_accumulation_steps == 0:\n",
    "            optimizer.first_step(zero_grad=True)\n",
    "#             optimizer.zero_grad()\n",
    "            global_step += 1\n",
    "        # measure elapsed time\n",
    "        loss_train(model(images), labels).backward()\n",
    "#         loss = torch.mean(loss)\n",
    "#         loss.backward()\n",
    "        optimizer.second_step(zero_grad=True)\n",
    "        \n",
    "        batch_time.update(time.time() - end)\n",
    "        end = time.time()\n",
    "        if step % CFG.print_freq == 0 or step == (len(train_loader)-1):\n",
    "            print('Epoch: [{0}][{1}/{2}]'\n",
    "                  'Data {data_time.val:.3f} ({data_time.avg:.3f})'\n",
    "                  'Elapsed {remain:s}' \n",
    "                  'Loss: {loss.val:.4f}({loss.avg:.4f})' \n",
    "                  'Grad: {grad_norm:.4f}  '\n",
    "                  .format(epoch+1, step, len(train_loader), batch_time=batch_time, \n",
    "                          data_time=data_time, loss=losses, \n",
    "                          remain=timeSince(start, float(step+1)/len(train_loader)), \n",
    "                          grad_norm=grad_norm))\n",
    "    return losses.avg\n",
    "\n",
    "def valid_fn(valid_loader, model, loss_metric, device):\n",
    "    batch_time = AverageMeter()\n",
    "    data_time = AverageMeter()\n",
    "    losses = AverageMeter()\n",
    "    scores = AverageMeter()\n",
    "    # switch to evaluation mode\n",
    "    model.eval()\n",
    "    preds = []\n",
    "    start = end = time.time()\n",
    "    for step, (images, labels) in enumerate(valid_loader):\n",
    "        # measure data loading time\n",
    "        data_time.update(time.time() - end)\n",
    "        images = images.to(device)\n",
    "        labels = labels.to(device)\n",
    "        batch_size = labels.size(0)\n",
    "        # compute loss\n",
    "        with torch.no_grad():\n",
    "            y_preds = model(images)\n",
    "        loss = loss_metric(y_preds, labels)\n",
    "        losses.update(loss.item(), batch_size)\n",
    "        # record accuracy\n",
    "        preds.append(y_preds.softmax(1).to('cpu').numpy())\n",
    "        if CFG.gradient_accumulation_steps > 1:\n",
    "            loss = loss / CFG.gradient_accumulation_steps\n",
    "        # measure elapsed time\n",
    "        batch_time.update(time.time() - end)\n",
    "        end = time.time()\n",
    "        if step % CFG.print_freq == 0 or step == (len(valid_loader)-1):\n",
    "            print('EVAL: [{0}/{1}] '\n",
    "                  'Data {data_time.val:.3f} ({data_time.avg:.3f}) '\n",
    "                  'Elapsed {remain:s} '\n",
    "                  'Loss: {loss.val:.4f}({loss.avg:.4f}) '\n",
    "                  .format(\n",
    "                   step, len(valid_loader), batch_time=batch_time,\n",
    "                   data_time=data_time, loss=losses,\n",
    "                   remain=timeSince(start, float(step+1)/len(valid_loader)),\n",
    "                   ))\n",
    "            \n",
    "    predictions = np.concatenate(preds)\n",
    "    return losses.avg, predictions\n",
    "\n",
    "def inference(model, states, test_loader, device):\n",
    "    model.to(device)\n",
    "    tk0 = tqdm(enumerate(test_loader), total=len(test_loader))\n",
    "    probs = []\n",
    "    for i, (images) in tk0:\n",
    "        images = images.to(device)\n",
    "        avgpreds = []\n",
    "        for state in states:\n",
    "            model.load_state_dict(state['model'])\n",
    "            model.eval()\n",
    "            with torch.no_grad():\n",
    "                y_preds = model(images)\n",
    "            avg_preds.append(y_preds.softmax(1).to('cpu').numpy())\n",
    "        avg_preds = np.mean(avg_preds, axis=0)\n",
    "        probs.append(avg_preds)\n",
    "    probs = np.concatenate(probs)\n",
    "    return probs"
   ]
  },
  {
   "cell_type": "markdown",
   "metadata": {
    "papermill": {
     "duration": 0.03065,
     "end_time": "2021-01-10T23:44:39.914309",
     "exception": false,
     "start_time": "2021-01-10T23:44:39.883659",
     "status": "completed"
    },
    "tags": []
   },
   "source": [
    "## Train loop"
   ]
  },
  {
   "cell_type": "code",
   "execution_count": 23,
   "metadata": {
    "execution": {
     "iopub.execute_input": "2021-01-10T23:44:40.019948Z",
     "iopub.status.busy": "2021-01-10T23:44:40.004717Z",
     "iopub.status.idle": "2021-01-10T23:44:40.023102Z",
     "shell.execute_reply": "2021-01-10T23:44:40.022555Z"
    },
    "papermill": {
     "duration": 0.077083,
     "end_time": "2021-01-10T23:44:40.023235",
     "exception": false,
     "start_time": "2021-01-10T23:44:39.946152",
     "status": "completed"
    },
    "tags": []
   },
   "outputs": [],
   "source": [
    "# ======================================================\n",
    "# Train loop\n",
    "# ======================================================\n",
    "\n",
    "def train_loop(folds, fold):\n",
    "    \n",
    "    seed_torch(seed=CFG.seed)    \n",
    "    \n",
    "    LOGGER.info(f'========== fold: {fold} training ============')\n",
    "    \n",
    "    # ======================================================\n",
    "    # loader\n",
    "    # ======================================================\n",
    "    trn_idx = folds[folds['fold'] != fold].index\n",
    "    val_idx = folds[folds['fold'] == fold].index\n",
    "    \n",
    "    train_folds = folds.loc[trn_idx].reset_index(drop=True)\n",
    "    valid_folds = folds.loc[val_idx].reset_index(drop=True)\n",
    "    \n",
    "    train_dataset = TrainDataset(train_folds, \n",
    "                                 transform=get_transforms(data='train'))\n",
    "    valid_dataset = TrainDataset(valid_folds, \n",
    "                                 transform=get_transforms(data='valid'))\n",
    "    \n",
    "    train_loader = DataLoader(train_dataset, \n",
    "                              batch_size=CFG.batch_size, \n",
    "                              shuffle=True, \n",
    "                              num_workers=CFG.num_workers, \n",
    "                              pin_memory=True, \n",
    "                              drop_last=False)\n",
    "    valid_loader = DataLoader(valid_dataset, \n",
    "                              batch_size=CFG.batch_size, \n",
    "                              shuffle=False, \n",
    "                              num_workers=CFG.num_workers, \n",
    "                              pin_memory=True, \n",
    "                              drop_last=False)\n",
    "    \n",
    "    # ===============================================\n",
    "    # scheduler\n",
    "    # ===============================================\n",
    "    def get_scheduler(optimizer):\n",
    "        if CFG.scheduler=='ReduceLROnPlateau':\n",
    "            scheduler = ReduceLROnPlateau(optimizer, mode='min', factor=CFG.factor, patience=CFG.patience, verbose=True, eps=CFG.eps)\n",
    "        elif CFG.scheduler=='CosineAnnealingLR':\n",
    "            scheduler = CosineAnnealingLR(optimizer, T_max=CFG.T_max, eta_min=CFG.min_lr, last_epoch=-1)\n",
    "        elif CFG.scheduler=='CosineAnnealingWarmRestarts':\n",
    "            scheduler = CosineAnnealingWarmRestarts(optimizer, T_0=CFG.T_0, T_mult=1, eta_min=CFG.min_lr, last_epoch=-1)\n",
    "        return scheduler\n",
    "    \n",
    "    # ===============================================\n",
    "    # model & optimizer\n",
    "    # ===============================================\n",
    "    model = CustomEfficientNetB3ns(CFG.model_name, pretrained=True)\n",
    "    \n",
    "    # 最初の3epochはclassifier層以外全て凍結する。\n",
    "    for name, param in model.model.named_parameters():\n",
    "        if 'classifier' not in name:\n",
    "            param.requires_grad=False\n",
    "    \n",
    "    model.to(device)\n",
    "    \n",
    "    base_optimizer = Adam\n",
    "    optimizer = SAM(model.parameters(), base_optimizer, lr=CFG.lr_1, weight_decay=CFG.weight_decay, amsgrad=False)\n",
    "    \n",
    "    scheduler = get_scheduler(optimizer)\n",
    "    \n",
    "    # ===============================================\n",
    "    # apex \n",
    "    # ===============================================\n",
    "    if CFG.apex:\n",
    "        model.optimizer = amp.initialize(model, optimizer, opt_level='O1', verbosity=0)\n",
    "        \n",
    "    # ===============================================\n",
    "    # loop\n",
    "    # ===============================================\n",
    "    def get_loss_train():\n",
    "        if CFG.loss_train == 'CrossEntropyLoss':\n",
    "            loss_train = nn.CrossEntropyLoss()\n",
    "        elif CFG.loss_train == 'LabelSmoothing':\n",
    "            loss_train = LabelSmoothingLoss(classes=CFG.target_size, smoothing=CFG.smooth)\n",
    "        elif CFG.loss_train == 'FocalLoss':\n",
    "            loss_train = FocalLoss().to(device)\n",
    "        elif CFG.loss_train == 'FocalCosineLoss':\n",
    "            loss_train = FocalCosineLoss()\n",
    "        elif CFG.loss_train == 'SymmetricCrossEntropyLoss':\n",
    "            loss_train = SymmetricCrossEntropy().to(device)\n",
    "        elif CFG.loss_train == 'BiTemperedLoss':\n",
    "            loss_train = BiTemperedLogisticLoss(t1=CFG.t1, t2=CFG.t2, smoothing=CFG.smooth)\n",
    "        elif CFG.loss_train =='TaylorCrossEntropyLoss':\n",
    "            loss_train = TaylorCrossEntropyLoss(n=6, smoothing=CFG.smoothing)\n",
    "        return loss_train\n",
    "    \n",
    "    loss_train = get_loss_train()\n",
    "    LOGGER.info(f'loss_train: {loss_train}')\n",
    "    loss_metric = nn.CrossEntropyLoss()\n",
    "    \n",
    "    best_score = 0.\n",
    "    best_loss = np.inf\n",
    "    \n",
    "    for epoch in range(CFG.epochs):\n",
    "        \n",
    "        start_time = time.time()\n",
    "        \n",
    "        if epoch == 1:\n",
    "            \n",
    "            # 2epoch目に重みを全て解凍する\n",
    "            for param in model.model.parameters():\n",
    "                param.requires_grad = True\n",
    "                \n",
    "            # 学習率を4e-3から4e-4に落とす\n",
    "            base_optimizer = Adam\n",
    "            optimizer = SAM(model.parameters(), base_optimizer, lr=CFG.lr_2, weight_decay=CFG.weight_decay, amsgrad=False)\n",
    "            scheduler = get_scheduler(optimizer)\n",
    "\n",
    "            LOGGER.info('requires_grad of all parameters are unlocked')\n",
    "            \n",
    "        \n",
    "        # train\n",
    "        avg_loss = train_fn(train_loader, model, loss_train, loss_metric, optimizer, epoch, scheduler, device)\n",
    "        \n",
    "        # eval\n",
    "        avg_val_loss, preds = valid_fn(valid_loader, model, loss_metric, device)\n",
    "        valid_labels = valid_folds[CFG.target_col].values\n",
    "        \n",
    "        if isinstance(scheduler, ReduceLROnPlateau):\n",
    "            scheduler.step(avg_val_loss)\n",
    "        elif isinstance(scheduler, CosineAnnealingLR):\n",
    "            scheduler.step()\n",
    "        elif isinstance(scheduler, CosineAnnealingWarmRestarts):\n",
    "            scheduler.step()\n",
    "        \n",
    "        # scoring\n",
    "        score = get_score(valid_labels, preds.argmax(1))\n",
    "        \n",
    "        elapsed = time.time() - start_time\n",
    "        \n",
    "        LOGGER.info(f'Epoch {epoch+1} - avg_train_loss: {avg_loss:.4f} avg_val_loss: {avg_val_loss:.4f} time: {elapsed:.0f}s')\n",
    "        LOGGER.info(f'Epoch {epoch+1} - Accuracy: {score}')\n",
    "        \n",
    "        if score > best_score:\n",
    "            best_score = score\n",
    "            LOGGER.info(f'Epoch {epoch+1} - Save Best Score: {best_score:.4f} Model')\n",
    "            torch.save({'model': model.state_dict(), \n",
    "                        'preds': preds}, \n",
    "                        OUTPUT_DIR+f'{CFG.model_name}_fold{fold}_best.pth')\n",
    "            \n",
    "        # inference用に全て保存しておく        \n",
    "        torch.save({'model': model.state_dict()}, OUTPUT_DIR+f'{CFG.model_name}_fold{fold}_epoch{epoch+1}.pth')\n",
    "    \n",
    "    check_point = torch.load(OUTPUT_DIR+f'{CFG.model_name}_fold{fold}_best.pth')\n",
    "    valid_folds[[str(c) for c in range(5)]] = check_point['preds']\n",
    "    valid_folds['preds'] = check_point['preds'].argmax(1)\n",
    "    \n",
    "    return valid_folds"
   ]
  },
  {
   "cell_type": "code",
   "execution_count": 24,
   "metadata": {
    "execution": {
     "iopub.execute_input": "2021-01-10T23:44:40.101848Z",
     "iopub.status.busy": "2021-01-10T23:44:40.100940Z",
     "iopub.status.idle": "2021-01-10T23:44:40.103416Z",
     "shell.execute_reply": "2021-01-10T23:44:40.103942Z"
    },
    "papermill": {
     "duration": 0.048162,
     "end_time": "2021-01-10T23:44:40.104065",
     "exception": false,
     "start_time": "2021-01-10T23:44:40.055903",
     "status": "completed"
    },
    "tags": []
   },
   "outputs": [],
   "source": [
    "# ====================================================\n",
    "# main\n",
    "# ====================================================\n",
    "def main():\n",
    "    \n",
    "    \"\"\"\n",
    "    Prepare: 1.train 2.test 3.submission 4.folds\n",
    "    \"\"\"\n",
    "    \n",
    "    def get_result(result_df):\n",
    "        preds = result_df['preds'].values\n",
    "        labels = result_df[CFG.target_col].values\n",
    "        score = get_score(labels, preds)\n",
    "        LOGGER.info(f'Score: {score:<.5f}')\n",
    "        \n",
    "    if CFG.train:\n",
    "        # train\n",
    "        oof_df = pd.DataFrame()\n",
    "        for fold in range(CFG.n_fold):\n",
    "            if fold in CFG.trn_fold:\n",
    "                _oof_df = train_loop(folds, fold)\n",
    "                oof_df = pd.concat([oof_df, _oof_df])\n",
    "                LOGGER.info(f'=============== fold: {fold} result ================')\n",
    "                get_result(_oof_df)\n",
    "                \n",
    "        # CV result\n",
    "        LOGGER.info(f'============ CV ============')\n",
    "        get_result(oof_df)\n",
    "        # save result\n",
    "        oof_df.to_csv(OUTPUT_DIR+'oof_df.csv', index=False)\n",
    "        \n",
    "    if CFG.inference:\n",
    "        # inference\n",
    "        model = CustomEfficientNetB3ns(CFG.model_name, pretrained=False)\n",
    "        states = [torch.load(OUTPUT_DIR+f'{CFG.model_name}_fold{fold}_best.pth') for fold in CFG.trn_fold]\n",
    "        test_dataset = TestDataset(test, batch_size=CFG.batch_size, shuffle=False, pin_memory=True)\n",
    "        predictions = inference(model, states, test_loader, device)\n",
    "        # submission\n",
    "        test['label'] = predictions.argmax(1)\n",
    "        test[['image_id', 'label']].to_csv(OUTPUT_DIR+'submission.csv', index=False)"
   ]
  },
  {
   "cell_type": "code",
   "execution_count": 25,
   "metadata": {
    "execution": {
     "iopub.execute_input": "2021-01-10T23:44:40.171602Z",
     "iopub.status.busy": "2021-01-10T23:44:40.170625Z",
     "iopub.status.idle": "2021-01-10T23:44:40.175383Z",
     "shell.execute_reply": "2021-01-10T23:44:40.174852Z"
    },
    "papermill": {
     "duration": 0.039968,
     "end_time": "2021-01-10T23:44:40.175517",
     "exception": false,
     "start_time": "2021-01-10T23:44:40.135549",
     "status": "completed"
    },
    "tags": []
   },
   "outputs": [
    {
     "name": "stderr",
     "output_type": "stream",
     "text": [
      "used device: cuda\n"
     ]
    }
   ],
   "source": [
    "LOGGER.info(f'used device: {device}')"
   ]
  },
  {
   "cell_type": "code",
   "execution_count": 26,
   "metadata": {
    "execution": {
     "iopub.execute_input": "2021-01-10T23:44:40.246713Z",
     "iopub.status.busy": "2021-01-10T23:44:40.245678Z",
     "iopub.status.idle": "2021-01-11T03:33:32.065685Z",
     "shell.execute_reply": "2021-01-11T03:33:32.065097Z"
    },
    "papermill": {
     "duration": 13731.857505,
     "end_time": "2021-01-11T03:33:32.065808",
     "exception": false,
     "start_time": "2021-01-10T23:44:40.208303",
     "status": "completed"
    },
    "tags": []
   },
   "outputs": [
    {
     "name": "stderr",
     "output_type": "stream",
     "text": [
      "========== fold: 0 training ============\n",
      "Downloading: \"https://github.com/rwightman/pytorch-image-models/releases/download/v0.1-weights/tf_efficientnet_b3_ns-9d44bf68.pth\" to /root/.cache/torch/hub/checkpoints/tf_efficientnet_b3_ns-9d44bf68.pth\n",
      "loss_train: BiTemperedLogisticLoss()\n"
     ]
    },
    {
     "name": "stdout",
     "output_type": "stream",
     "text": [
      "Epoch: [1][0/1317]Data 1.571 (1.571)Elapsed 0m 3s (remain 74m 23s)Loss: 1.6433(1.6433)Grad: 0.6489  \n",
      "Epoch: [1][100/1317]Data 0.000 (0.017)Elapsed 0m 41s (remain 8m 17s)Loss: 1.5083(1.3950)Grad: 0.4773  \n",
      "Epoch: [1][200/1317]Data 0.003 (0.010)Elapsed 1m 18s (remain 7m 18s)Loss: 0.9306(1.3424)Grad: 0.4377  \n",
      "Epoch: [1][300/1317]Data 0.001 (0.007)Elapsed 1m 55s (remain 6m 28s)Loss: 0.8057(1.2788)Grad: 0.4556  \n",
      "Epoch: [1][400/1317]Data 0.003 (0.006)Elapsed 2m 31s (remain 5m 46s)Loss: 0.9048(1.2187)Grad: 0.4240  \n",
      "Epoch: [1][500/1317]Data 0.001 (0.005)Elapsed 3m 7s (remain 5m 5s)Loss: 1.1515(1.1815)Grad: 0.4220  \n",
      "Epoch: [1][600/1317]Data 0.000 (0.004)Elapsed 3m 44s (remain 4m 27s)Loss: 1.7716(1.1471)Grad: 0.5279  \n",
      "Epoch: [1][700/1317]Data 0.001 (0.004)Elapsed 4m 20s (remain 3m 49s)Loss: 1.6118(1.1259)Grad: 0.4356  \n",
      "Epoch: [1][800/1317]Data 0.000 (0.004)Elapsed 4m 57s (remain 3m 11s)Loss: 0.8485(1.1056)Grad: 0.4226  \n",
      "Epoch: [1][900/1317]Data 0.000 (0.004)Elapsed 5m 35s (remain 2m 34s)Loss: 0.5959(1.0941)Grad: 0.7561  \n",
      "Epoch: [1][1000/1317]Data 0.000 (0.003)Elapsed 6m 11s (remain 1m 57s)Loss: 1.2774(1.0791)Grad: 0.3431  \n",
      "Epoch: [1][1100/1317]Data 0.000 (0.003)Elapsed 6m 48s (remain 1m 20s)Loss: 0.9496(1.0654)Grad: 0.5115  \n",
      "Epoch: [1][1200/1317]Data 0.000 (0.003)Elapsed 7m 25s (remain 0m 43s)Loss: 0.5953(1.0551)Grad: 0.4389  \n",
      "Epoch: [1][1300/1317]Data 0.000 (0.003)Elapsed 8m 1s (remain 0m 5s)Loss: 1.5785(1.0471)Grad: 0.4708  \n",
      "Epoch: [1][1316/1317]Data 0.000 (0.003)Elapsed 8m 6s (remain 0m 0s)Loss: 1.1253(1.0442)Grad: 0.4583  \n",
      "EVAL: [0/330] Data 1.174 (1.174) Elapsed 0m 1s (remain 7m 6s) Loss: 1.2827(1.2827) \n",
      "EVAL: [100/330] Data 0.143 (0.141) Elapsed 0m 27s (remain 1m 2s) Loss: 1.1739(0.7935) \n",
      "EVAL: [200/330] Data 0.328 (0.141) Elapsed 0m 54s (remain 0m 35s) Loss: 1.5437(0.8182) \n",
      "EVAL: [300/330] Data 0.000 (0.139) Elapsed 1m 21s (remain 0m 7s) Loss: 0.5126(0.8158) \n"
     ]
    },
    {
     "name": "stderr",
     "output_type": "stream",
     "text": [
      "Epoch 1 - avg_train_loss: 1.0442 avg_val_loss: 0.8202 time: 575s\n",
      "Epoch 1 - Accuracy: 0.732536066818527\n",
      "Epoch 1 - Save Best Score: 0.7325 Model\n"
     ]
    },
    {
     "name": "stdout",
     "output_type": "stream",
     "text": [
      "EVAL: [329/330] Data 0.000 (0.136) Elapsed 1m 27s (remain 0m 0s) Loss: 0.1322(0.8202) \n"
     ]
    },
    {
     "name": "stderr",
     "output_type": "stream",
     "text": [
      "requires_grad of all parameters are unlocked\n"
     ]
    },
    {
     "name": "stdout",
     "output_type": "stream",
     "text": [
      "Epoch: [2][0/1317]Data 1.398 (1.398)Elapsed 0m 2s (remain 63m 24s)Loss: 0.6686(0.6686)Grad: 2.8704  \n",
      "Epoch: [2][100/1317]Data 0.000 (0.014)Elapsed 1m 47s (remain 21m 37s)Loss: 0.6552(0.9102)Grad: 3.3460  \n",
      "Epoch: [2][200/1317]Data 0.000 (0.007)Elapsed 3m 32s (remain 19m 40s)Loss: 0.5974(0.8253)Grad: 2.7605  \n",
      "Epoch: [2][300/1317]Data 0.000 (0.005)Elapsed 5m 17s (remain 17m 50s)Loss: 0.2608(0.8028)Grad: 1.9469  \n",
      "Epoch: [2][400/1317]Data 0.000 (0.004)Elapsed 7m 1s (remain 16m 3s)Loss: 1.3556(0.7631)Grad: 2.3453  \n",
      "Epoch: [2][500/1317]Data 0.000 (0.003)Elapsed 8m 46s (remain 14m 17s)Loss: 0.9585(0.7552)Grad: 1.4920  \n",
      "Epoch: [2][600/1317]Data 0.000 (0.002)Elapsed 10m 31s (remain 12m 32s)Loss: 0.2214(0.7338)Grad: 1.8566  \n",
      "Epoch: [2][700/1317]Data 0.000 (0.002)Elapsed 12m 15s (remain 10m 46s)Loss: 0.5596(0.7201)Grad: 1.9220  \n",
      "Epoch: [2][800/1317]Data 0.000 (0.002)Elapsed 14m 0s (remain 9m 1s)Loss: 0.1261(0.7109)Grad: 1.0046  \n",
      "Epoch: [2][900/1317]Data 0.000 (0.002)Elapsed 15m 45s (remain 7m 16s)Loss: 0.6753(0.7100)Grad: 1.4317  \n",
      "Epoch: [2][1000/1317]Data 0.000 (0.002)Elapsed 17m 29s (remain 5m 31s)Loss: 1.4105(0.7094)Grad: 1.9919  \n",
      "Epoch: [2][1100/1317]Data 0.000 (0.001)Elapsed 19m 15s (remain 3m 46s)Loss: 0.6991(0.6976)Grad: 1.1607  \n",
      "Epoch: [2][1200/1317]Data 0.000 (0.001)Elapsed 21m 0s (remain 2m 1s)Loss: 0.0545(0.6907)Grad: 1.0471  \n",
      "Epoch: [2][1300/1317]Data 0.000 (0.001)Elapsed 22m 45s (remain 0m 16s)Loss: 2.0759(0.6871)Grad: 1.9252  \n",
      "Epoch: [2][1316/1317]Data 0.000 (0.001)Elapsed 23m 1s (remain 0m 0s)Loss: 1.4461(0.6870)Grad: 1.7836  \n",
      "EVAL: [0/330] Data 1.359 (1.359) Elapsed 0m 1s (remain 8m 28s) Loss: 0.6607(0.6607) \n",
      "EVAL: [100/330] Data 0.000 (0.126) Elapsed 0m 26s (remain 0m 59s) Loss: 0.4103(0.5535) \n",
      "EVAL: [200/330] Data 0.000 (0.125) Elapsed 0m 51s (remain 0m 33s) Loss: 0.4102(0.5510) \n",
      "EVAL: [300/330] Data 0.122 (0.121) Elapsed 1m 16s (remain 0m 7s) Loss: 0.3624(0.5384) \n"
     ]
    },
    {
     "name": "stderr",
     "output_type": "stream",
     "text": [
      "Epoch 2 - avg_train_loss: 0.6870 avg_val_loss: 0.5431 time: 1465s\n",
      "Epoch 2 - Accuracy: 0.8604783599088838\n",
      "Epoch 2 - Save Best Score: 0.8605 Model\n"
     ]
    },
    {
     "name": "stdout",
     "output_type": "stream",
     "text": [
      "EVAL: [329/330] Data 0.000 (0.118) Elapsed 1m 22s (remain 0m 0s) Loss: 0.0067(0.5431) \n",
      "Epoch: [3][0/1317]Data 1.075 (1.075)Elapsed 0m 2s (remain 56m 54s)Loss: 0.6080(0.6080)Grad: 1.4818  \n",
      "Epoch: [3][100/1317]Data 0.000 (0.011)Elapsed 1m 47s (remain 21m 34s)Loss: 0.4206(0.5651)Grad: 1.8692  \n",
      "Epoch: [3][200/1317]Data 0.000 (0.006)Elapsed 3m 32s (remain 19m 37s)Loss: 0.6765(0.5700)Grad: 1.5069  \n",
      "Epoch: [3][300/1317]Data 0.000 (0.004)Elapsed 5m 17s (remain 17m 50s)Loss: 0.2686(0.6047)Grad: 2.4065  \n",
      "Epoch: [3][400/1317]Data 0.000 (0.003)Elapsed 7m 1s (remain 16m 3s)Loss: 0.5245(0.6098)Grad: 1.8941  \n",
      "Epoch: [3][500/1317]Data 0.000 (0.002)Elapsed 8m 47s (remain 14m 18s)Loss: 0.7239(0.6036)Grad: 1.4647  \n",
      "Epoch: [3][600/1317]Data 0.000 (0.002)Elapsed 10m 32s (remain 12m 33s)Loss: 0.0099(0.6008)Grad: 0.3451  \n",
      "Epoch: [3][700/1317]Data 0.000 (0.002)Elapsed 12m 16s (remain 10m 47s)Loss: 1.0661(0.6107)Grad: 1.7996  \n",
      "Epoch: [3][800/1317]Data 0.000 (0.002)Elapsed 14m 1s (remain 9m 2s)Loss: 0.3430(0.6039)Grad: 1.7316  \n",
      "Epoch: [3][900/1317]Data 0.000 (0.001)Elapsed 15m 46s (remain 7m 17s)Loss: 0.7826(0.6083)Grad: 0.7871  \n",
      "Epoch: [3][1000/1317]Data 0.000 (0.001)Elapsed 17m 31s (remain 5m 31s)Loss: 0.9326(0.6016)Grad: 1.8867  \n",
      "Epoch: [3][1100/1317]Data 0.000 (0.001)Elapsed 19m 16s (remain 3m 46s)Loss: 0.6302(0.6001)Grad: 1.8102  \n",
      "Epoch: [3][1200/1317]Data 0.000 (0.001)Elapsed 21m 1s (remain 2m 1s)Loss: 0.1893(0.5983)Grad: 0.5998  \n",
      "Epoch: [3][1300/1317]Data 0.000 (0.001)Elapsed 22m 46s (remain 0m 16s)Loss: 0.8261(0.6026)Grad: 1.7015  \n",
      "Epoch: [3][1316/1317]Data 0.000 (0.001)Elapsed 23m 2s (remain 0m 0s)Loss: 0.1517(0.6026)Grad: 1.2423  \n",
      "EVAL: [0/330] Data 1.130 (1.130) Elapsed 0m 1s (remain 6m 55s) Loss: 0.5126(0.5126) \n",
      "EVAL: [100/330] Data 0.411 (0.140) Elapsed 0m 27s (remain 1m 1s) Loss: 0.3899(0.4880) \n",
      "EVAL: [200/330] Data 0.000 (0.128) Elapsed 0m 51s (remain 0m 33s) Loss: 0.4657(0.4856) \n",
      "EVAL: [300/330] Data 0.000 (0.123) Elapsed 1m 17s (remain 0m 7s) Loss: 0.3696(0.4752) \n"
     ]
    },
    {
     "name": "stderr",
     "output_type": "stream",
     "text": [
      "Epoch 3 - avg_train_loss: 0.6026 avg_val_loss: 0.4759 time: 1466s\n",
      "Epoch 3 - Accuracy: 0.8726271829916477\n",
      "Epoch 3 - Save Best Score: 0.8726 Model\n"
     ]
    },
    {
     "name": "stdout",
     "output_type": "stream",
     "text": [
      "EVAL: [329/330] Data 0.000 (0.121) Elapsed 1m 23s (remain 0m 0s) Loss: 0.0229(0.4759) \n",
      "Epoch: [4][0/1317]Data 1.323 (1.323)Elapsed 0m 2s (remain 65m 30s)Loss: 0.1479(0.1479)Grad: 1.1833  \n",
      "Epoch: [4][100/1317]Data 0.000 (0.013)Elapsed 1m 47s (remain 21m 31s)Loss: 1.5034(0.5639)Grad: 1.3230  \n",
      "Epoch: [4][200/1317]Data 0.000 (0.007)Elapsed 3m 31s (remain 19m 36s)Loss: 0.6460(0.5323)Grad: 1.0265  \n",
      "Epoch: [4][300/1317]Data 0.000 (0.005)Elapsed 5m 16s (remain 17m 48s)Loss: 0.4522(0.5513)Grad: 1.0628  \n",
      "Epoch: [4][400/1317]Data 0.000 (0.003)Elapsed 7m 1s (remain 16m 3s)Loss: 0.5887(0.5435)Grad: 1.0192  \n",
      "Epoch: [4][500/1317]Data 0.000 (0.003)Elapsed 8m 46s (remain 14m 17s)Loss: 0.4383(0.5544)Grad: 0.9410  \n",
      "Epoch: [4][600/1317]Data 0.000 (0.002)Elapsed 10m 30s (remain 12m 31s)Loss: 0.3090(0.5664)Grad: 1.7330  \n",
      "Epoch: [4][700/1317]Data 0.000 (0.002)Elapsed 12m 15s (remain 10m 46s)Loss: 0.4120(0.5788)Grad: 1.4638  \n",
      "Epoch: [4][800/1317]Data 0.000 (0.002)Elapsed 14m 0s (remain 9m 1s)Loss: 1.2081(0.5778)Grad: 1.8710  \n",
      "Epoch: [4][900/1317]Data 0.000 (0.002)Elapsed 15m 46s (remain 7m 16s)Loss: 0.5916(0.5839)Grad: 1.0025  \n",
      "Epoch: [4][1000/1317]Data 0.000 (0.001)Elapsed 17m 31s (remain 5m 32s)Loss: 0.2351(0.5729)Grad: 1.1467  \n",
      "Epoch: [4][1100/1317]Data 0.000 (0.001)Elapsed 19m 16s (remain 3m 46s)Loss: 1.1248(0.5662)Grad: 1.3438  \n",
      "Epoch: [4][1200/1317]Data 0.000 (0.001)Elapsed 21m 2s (remain 2m 1s)Loss: 0.4367(0.5614)Grad: 1.1270  \n",
      "Epoch: [4][1300/1317]Data 0.000 (0.001)Elapsed 22m 47s (remain 0m 16s)Loss: 0.3668(0.5605)Grad: 0.6543  \n",
      "Epoch: [4][1316/1317]Data 0.000 (0.001)Elapsed 23m 4s (remain 0m 0s)Loss: 1.8126(0.5647)Grad: 2.2654  \n",
      "EVAL: [0/330] Data 1.086 (1.086) Elapsed 0m 1s (remain 6m 41s) Loss: 0.5622(0.5622) \n",
      "EVAL: [100/330] Data 0.142 (0.127) Elapsed 0m 26s (remain 0m 59s) Loss: 0.3284(0.5386) \n",
      "EVAL: [200/330] Data 0.199 (0.126) Elapsed 0m 51s (remain 0m 33s) Loss: 0.3891(0.5288) \n",
      "EVAL: [300/330] Data 0.126 (0.118) Elapsed 1m 15s (remain 0m 7s) Loss: 0.1331(0.5181) \n"
     ]
    },
    {
     "name": "stderr",
     "output_type": "stream",
     "text": [
      "Epoch 4 - avg_train_loss: 0.5647 avg_val_loss: 0.5231 time: 1466s\n",
      "Epoch 4 - Accuracy: 0.8768033409263477\n",
      "Epoch 4 - Save Best Score: 0.8768 Model\n"
     ]
    },
    {
     "name": "stdout",
     "output_type": "stream",
     "text": [
      "EVAL: [329/330] Data 0.000 (0.116) Elapsed 1m 21s (remain 0m 0s) Loss: 0.0433(0.5231) \n",
      "Epoch: [5][0/1317]Data 1.393 (1.393)Elapsed 0m 2s (remain 62m 57s)Loss: 0.4416(0.4416)Grad: 1.4785  \n",
      "Epoch: [5][100/1317]Data 0.000 (0.014)Elapsed 1m 47s (remain 21m 33s)Loss: 1.4487(0.5152)Grad: 1.6561  \n",
      "Epoch: [5][200/1317]Data 0.000 (0.007)Elapsed 3m 32s (remain 19m 37s)Loss: 0.1396(0.5114)Grad: 1.3142  \n",
      "Epoch: [5][300/1317]Data 0.000 (0.005)Elapsed 5m 16s (remain 17m 48s)Loss: 0.1921(0.5203)Grad: 0.8513  \n",
      "Epoch: [5][400/1317]Data 0.000 (0.004)Elapsed 7m 2s (remain 16m 5s)Loss: 0.3123(0.5286)Grad: 1.2849  \n",
      "Epoch: [5][500/1317]Data 0.000 (0.003)Elapsed 8m 47s (remain 14m 18s)Loss: 0.0186(0.5287)Grad: 0.4529  \n",
      "Epoch: [5][600/1317]Data 0.000 (0.002)Elapsed 10m 32s (remain 12m 32s)Loss: 0.6446(0.5309)Grad: 1.4585  \n",
      "Epoch: [5][700/1317]Data 0.000 (0.002)Elapsed 12m 16s (remain 10m 47s)Loss: 0.2147(0.5277)Grad: 1.4605  \n",
      "Epoch: [5][800/1317]Data 0.000 (0.002)Elapsed 14m 1s (remain 9m 1s)Loss: 0.1024(0.5251)Grad: 1.1250  \n",
      "Epoch: [5][900/1317]Data 0.000 (0.002)Elapsed 15m 46s (remain 7m 16s)Loss: 0.6014(0.5342)Grad: 1.4392  \n",
      "Epoch: [5][1000/1317]Data 0.000 (0.002)Elapsed 17m 32s (remain 5m 32s)Loss: 0.1750(0.5372)Grad: 0.6848  \n",
      "Epoch: [5][1100/1317]Data 0.000 (0.001)Elapsed 19m 18s (remain 3m 47s)Loss: 0.6247(0.5387)Grad: 1.2301  \n",
      "Epoch: [5][1200/1317]Data 0.000 (0.001)Elapsed 21m 5s (remain 2m 2s)Loss: 1.1362(0.5463)Grad: 1.5697  \n",
      "Epoch: [5][1300/1317]Data 0.000 (0.001)Elapsed 22m 51s (remain 0m 16s)Loss: 0.3152(0.5435)Grad: 1.4322  \n",
      "Epoch: [5][1316/1317]Data 0.000 (0.001)Elapsed 23m 7s (remain 0m 0s)Loss: 0.4592(0.5425)Grad: 1.0229  \n",
      "EVAL: [0/330] Data 1.238 (1.238) Elapsed 0m 1s (remain 7m 42s) Loss: 0.7756(0.7756) \n",
      "EVAL: [100/330] Data 0.000 (0.137) Elapsed 0m 27s (remain 1m 2s) Loss: 0.5360(0.5422) \n",
      "EVAL: [200/330] Data 0.000 (0.127) Elapsed 0m 52s (remain 0m 33s) Loss: 0.3951(0.5171) \n",
      "EVAL: [300/330] Data 0.000 (0.125) Elapsed 1m 17s (remain 0m 7s) Loss: 0.3026(0.5000) \n"
     ]
    },
    {
     "name": "stderr",
     "output_type": "stream",
     "text": [
      "Epoch 5 - avg_train_loss: 0.5425 avg_val_loss: 0.5035 time: 1472s\n",
      "Epoch 5 - Accuracy: 0.8851556567957479\n",
      "Epoch 5 - Save Best Score: 0.8852 Model\n"
     ]
    },
    {
     "name": "stdout",
     "output_type": "stream",
     "text": [
      "EVAL: [329/330] Data 0.000 (0.121) Elapsed 1m 24s (remain 0m 0s) Loss: 0.0057(0.5035) \n",
      "Epoch: [6][0/1317]Data 1.533 (1.533)Elapsed 0m 2s (remain 64m 33s)Loss: 0.6154(0.6154)Grad: 1.8285  \n",
      "Epoch: [6][100/1317]Data 0.000 (0.015)Elapsed 1m 47s (remain 21m 38s)Loss: 2.1625(0.5238)Grad: 1.2204  \n",
      "Epoch: [6][200/1317]Data 0.000 (0.008)Elapsed 3m 32s (remain 19m 42s)Loss: 0.5778(0.5183)Grad: 1.9357  \n",
      "Epoch: [6][300/1317]Data 0.000 (0.005)Elapsed 5m 17s (remain 17m 52s)Loss: 0.3078(0.4969)Grad: 1.0820  \n",
      "Epoch: [6][400/1317]Data 0.000 (0.004)Elapsed 7m 2s (remain 16m 5s)Loss: 0.7252(0.5136)Grad: 0.7251  \n",
      "Epoch: [6][500/1317]Data 0.000 (0.003)Elapsed 8m 47s (remain 14m 18s)Loss: 0.1632(0.4934)Grad: 1.5717  \n",
      "Epoch: [6][600/1317]Data 0.000 (0.003)Elapsed 10m 31s (remain 12m 32s)Loss: 0.0886(0.4924)Grad: 0.8719  \n",
      "Epoch: [6][700/1317]Data 0.000 (0.002)Elapsed 12m 16s (remain 10m 46s)Loss: 0.3568(0.4996)Grad: 1.5333  \n",
      "Epoch: [6][800/1317]Data 0.000 (0.002)Elapsed 14m 0s (remain 9m 1s)Loss: 1.1138(0.5095)Grad: 1.2505  \n",
      "Epoch: [6][900/1317]Data 0.000 (0.002)Elapsed 15m 44s (remain 7m 15s)Loss: 0.4458(0.5093)Grad: 1.1502  \n",
      "Epoch: [6][1000/1317]Data 0.000 (0.002)Elapsed 17m 29s (remain 5m 31s)Loss: 0.9703(0.5108)Grad: 2.1143  \n",
      "Epoch: [6][1100/1317]Data 0.000 (0.002)Elapsed 19m 13s (remain 3m 46s)Loss: 0.4295(0.5214)Grad: 0.9829  \n",
      "Epoch: [6][1200/1317]Data 0.000 (0.001)Elapsed 20m 59s (remain 2m 1s)Loss: 0.3899(0.5185)Grad: 0.9778  \n",
      "Epoch: [6][1300/1317]Data 0.000 (0.001)Elapsed 22m 44s (remain 0m 16s)Loss: 0.6127(0.5214)Grad: 1.3751  \n",
      "Epoch: [6][1316/1317]Data 0.000 (0.001)Elapsed 23m 1s (remain 0m 0s)Loss: 0.2209(0.5203)Grad: 1.4389  \n",
      "EVAL: [0/330] Data 1.115 (1.115) Elapsed 0m 1s (remain 6m 53s) Loss: 0.6847(0.6847) \n",
      "EVAL: [100/330] Data 0.291 (0.126) Elapsed 0m 25s (remain 0m 58s) Loss: 0.4011(0.5239) \n",
      "EVAL: [200/330] Data 0.000 (0.117) Elapsed 0m 49s (remain 0m 32s) Loss: 0.4874(0.5140) \n",
      "EVAL: [300/330] Data 0.000 (0.116) Elapsed 1m 14s (remain 0m 7s) Loss: 0.2725(0.4981) \n"
     ]
    },
    {
     "name": "stderr",
     "output_type": "stream",
     "text": [
      "Epoch 6 - avg_train_loss: 0.5203 avg_val_loss: 0.5006 time: 1462s\n",
      "Epoch 6 - Accuracy: 0.8851556567957479\n"
     ]
    },
    {
     "name": "stdout",
     "output_type": "stream",
     "text": [
      "EVAL: [329/330] Data 0.000 (0.112) Elapsed 1m 20s (remain 0m 0s) Loss: 0.0105(0.5006) \n",
      "Epoch: [7][0/1317]Data 1.439 (1.439)Elapsed 0m 2s (remain 62m 49s)Loss: 0.1414(0.1414)Grad: 1.7213  \n",
      "Epoch: [7][100/1317]Data 0.000 (0.014)Elapsed 1m 47s (remain 21m 33s)Loss: 0.3411(0.5320)Grad: 1.1593  \n",
      "Epoch: [7][200/1317]Data 0.000 (0.007)Elapsed 3m 32s (remain 19m 38s)Loss: 0.3057(0.5114)Grad: 1.6271  \n",
      "Epoch: [7][300/1317]Data 0.000 (0.005)Elapsed 5m 16s (remain 17m 48s)Loss: 0.9435(0.5131)Grad: 1.0514  \n",
      "Epoch: [7][400/1317]Data 0.000 (0.004)Elapsed 7m 0s (remain 16m 1s)Loss: 0.0048(0.5049)Grad: 0.3069  \n",
      "Epoch: [7][500/1317]Data 0.000 (0.003)Elapsed 8m 45s (remain 14m 16s)Loss: 0.5722(0.5010)Grad: 2.0441  \n",
      "Epoch: [7][600/1317]Data 0.000 (0.003)Elapsed 10m 30s (remain 12m 30s)Loss: 0.1832(0.4972)Grad: 1.4741  \n",
      "Epoch: [7][700/1317]Data 0.000 (0.002)Elapsed 12m 14s (remain 10m 45s)Loss: 0.1349(0.4932)Grad: 1.2399  \n",
      "Epoch: [7][800/1317]Data 0.006 (0.002)Elapsed 13m 58s (remain 9m 0s)Loss: 1.2593(0.4852)Grad: 1.6070  \n",
      "Epoch: [7][900/1317]Data 0.000 (0.002)Elapsed 15m 42s (remain 7m 15s)Loss: 0.7018(0.4898)Grad: 0.6089  \n",
      "Epoch: [7][1000/1317]Data 0.000 (0.002)Elapsed 17m 27s (remain 5m 30s)Loss: 0.1516(0.4861)Grad: 1.2980  \n",
      "Epoch: [7][1100/1317]Data 0.000 (0.001)Elapsed 19m 11s (remain 3m 45s)Loss: 0.3699(0.4840)Grad: 1.9712  \n",
      "Epoch: [7][1200/1317]Data 0.000 (0.001)Elapsed 20m 55s (remain 2m 1s)Loss: 0.2027(0.4913)Grad: 0.8249  \n",
      "Epoch: [7][1300/1317]Data 0.000 (0.001)Elapsed 22m 40s (remain 0m 16s)Loss: 0.8636(0.4940)Grad: 1.0675  \n",
      "Epoch: [7][1316/1317]Data 0.000 (0.001)Elapsed 22m 56s (remain 0m 0s)Loss: 0.3326(0.4956)Grad: 1.2418  \n",
      "EVAL: [0/330] Data 1.073 (1.073) Elapsed 0m 1s (remain 6m 37s) Loss: 0.6731(0.6731) \n",
      "EVAL: [100/330] Data 0.347 (0.117) Elapsed 0m 24s (remain 0m 56s) Loss: 0.2899(0.5030) \n",
      "EVAL: [200/330] Data 0.356 (0.117) Elapsed 0m 50s (remain 0m 32s) Loss: 0.4097(0.4925) \n",
      "EVAL: [300/330] Data 0.000 (0.111) Elapsed 1m 13s (remain 0m 7s) Loss: 0.4035(0.4779) \n"
     ]
    },
    {
     "name": "stderr",
     "output_type": "stream",
     "text": [
      "Epoch 7 - avg_train_loss: 0.4956 avg_val_loss: 0.4780 time: 1456s\n",
      "Epoch 7 - Accuracy: 0.8864844343204252\n",
      "Epoch 7 - Save Best Score: 0.8865 Model\n"
     ]
    },
    {
     "name": "stdout",
     "output_type": "stream",
     "text": [
      "EVAL: [329/330] Data 0.000 (0.109) Elapsed 1m 19s (remain 0m 0s) Loss: 0.0283(0.4780) \n",
      "Epoch: [8][0/1317]Data 1.198 (1.198)Elapsed 0m 2s (remain 57m 16s)Loss: 0.3886(0.3886)Grad: 1.6444  \n",
      "Epoch: [8][100/1317]Data 0.000 (0.012)Elapsed 1m 47s (remain 21m 33s)Loss: 0.3220(0.4571)Grad: 0.8472  \n",
      "Epoch: [8][200/1317]Data 0.000 (0.006)Elapsed 3m 32s (remain 19m 37s)Loss: 0.1547(0.4929)Grad: 1.2302  \n",
      "Epoch: [8][300/1317]Data 0.000 (0.004)Elapsed 5m 16s (remain 17m 48s)Loss: 1.0864(0.5132)Grad: 1.2669  \n",
      "Epoch: [8][400/1317]Data 0.000 (0.003)Elapsed 7m 0s (remain 16m 1s)Loss: 0.1018(0.5011)Grad: 1.2853  \n",
      "Epoch: [8][500/1317]Data 0.000 (0.003)Elapsed 8m 45s (remain 14m 15s)Loss: 0.3105(0.4995)Grad: 0.9260  \n",
      "Epoch: [8][600/1317]Data 0.000 (0.002)Elapsed 10m 29s (remain 12m 29s)Loss: 1.4860(0.5009)Grad: 1.1167  \n",
      "Epoch: [8][700/1317]Data 0.000 (0.002)Elapsed 12m 13s (remain 10m 44s)Loss: 0.3058(0.5000)Grad: 0.7512  \n",
      "Epoch: [8][800/1317]Data 0.000 (0.002)Elapsed 13m 57s (remain 8m 59s)Loss: 0.7051(0.4987)Grad: 1.6419  \n",
      "Epoch: [8][900/1317]Data 0.000 (0.001)Elapsed 15m 42s (remain 7m 14s)Loss: 0.6126(0.4991)Grad: 1.3908  \n",
      "Epoch: [8][1000/1317]Data 0.000 (0.001)Elapsed 17m 26s (remain 5m 30s)Loss: 0.2771(0.4919)Grad: 1.0966  \n",
      "Epoch: [8][1100/1317]Data 0.000 (0.001)Elapsed 19m 10s (remain 3m 45s)Loss: 0.1752(0.4908)Grad: 0.9459  \n",
      "Epoch: [8][1200/1317]Data 0.000 (0.001)Elapsed 20m 55s (remain 2m 1s)Loss: 0.6568(0.4864)Grad: 1.1793  \n",
      "Epoch: [8][1300/1317]Data 0.000 (0.001)Elapsed 22m 39s (remain 0m 16s)Loss: 1.3229(0.4870)Grad: 1.9203  \n",
      "Epoch: [8][1316/1317]Data 0.000 (0.001)Elapsed 22m 55s (remain 0m 0s)Loss: 0.0717(0.4858)Grad: 0.9351  \n",
      "EVAL: [0/330] Data 1.059 (1.059) Elapsed 0m 1s (remain 6m 45s) Loss: 0.8528(0.8528) \n",
      "EVAL: [100/330] Data 0.065 (0.120) Elapsed 0m 25s (remain 0m 58s) Loss: 0.4242(0.5786) \n",
      "EVAL: [200/330] Data 0.004 (0.116) Elapsed 0m 50s (remain 0m 32s) Loss: 0.4998(0.5551) \n",
      "EVAL: [300/330] Data 0.000 (0.113) Elapsed 1m 14s (remain 0m 7s) Loss: 0.4220(0.5376) \n"
     ]
    },
    {
     "name": "stderr",
     "output_type": "stream",
     "text": [
      "Epoch 8 - avg_train_loss: 0.4858 avg_val_loss: 0.5462 time: 1457s\n",
      "Epoch 8 - Accuracy: 0.8887623386484435\n",
      "Epoch 8 - Save Best Score: 0.8888 Model\n"
     ]
    },
    {
     "name": "stdout",
     "output_type": "stream",
     "text": [
      "EVAL: [329/330] Data 0.000 (0.112) Elapsed 1m 20s (remain 0m 0s) Loss: 0.0034(0.5462) \n",
      "Epoch: [9][0/1317]Data 1.243 (1.243)Elapsed 0m 2s (remain 58m 31s)Loss: 0.0414(0.0414)Grad: 0.5250  \n",
      "Epoch: [9][100/1317]Data 0.000 (0.013)Elapsed 1m 46s (remain 21m 25s)Loss: 0.6087(0.4153)Grad: 1.2333  \n",
      "Epoch: [9][200/1317]Data 0.000 (0.006)Elapsed 3m 31s (remain 19m 32s)Loss: 0.0817(0.4320)Grad: 1.0234  \n",
      "Epoch: [9][300/1317]Data 0.000 (0.004)Elapsed 5m 15s (remain 17m 45s)Loss: 0.1786(0.4702)Grad: 1.0829  \n",
      "Epoch: [9][400/1317]Data 0.000 (0.003)Elapsed 7m 0s (remain 16m 0s)Loss: 0.8602(0.4749)Grad: 1.0321  \n",
      "Epoch: [9][500/1317]Data 0.000 (0.003)Elapsed 8m 44s (remain 14m 14s)Loss: 0.3824(0.4767)Grad: 1.3354  \n",
      "Epoch: [9][600/1317]Data 0.000 (0.002)Elapsed 10m 28s (remain 12m 29s)Loss: 0.1515(0.4939)Grad: 0.8136  \n",
      "Epoch: [9][700/1317]Data 0.000 (0.002)Elapsed 12m 12s (remain 10m 43s)Loss: 1.0433(0.4994)Grad: 1.5259  \n",
      "Epoch: [9][800/1317]Data 0.000 (0.002)Elapsed 13m 56s (remain 8m 58s)Loss: 0.0937(0.4955)Grad: 0.6839  \n",
      "Epoch: [9][900/1317]Data 0.000 (0.002)Elapsed 15m 40s (remain 7m 14s)Loss: 0.4792(0.4903)Grad: 0.9007  \n",
      "Epoch: [9][1000/1317]Data 0.000 (0.001)Elapsed 17m 24s (remain 5m 29s)Loss: 0.9204(0.4886)Grad: 2.3248  \n",
      "Epoch: [9][1100/1317]Data 0.000 (0.001)Elapsed 19m 8s (remain 3m 45s)Loss: 0.2608(0.4899)Grad: 2.1006  \n",
      "Epoch: [9][1200/1317]Data 0.000 (0.001)Elapsed 20m 52s (remain 2m 0s)Loss: 0.5529(0.4823)Grad: 1.5776  \n",
      "Epoch: [9][1300/1317]Data 0.000 (0.001)Elapsed 22m 36s (remain 0m 16s)Loss: 0.4509(0.4807)Grad: 1.7892  \n",
      "Epoch: [9][1316/1317]Data 0.000 (0.001)Elapsed 22m 53s (remain 0m 0s)Loss: 0.3133(0.4816)Grad: 1.5141  \n",
      "EVAL: [0/330] Data 1.201 (1.201) Elapsed 0m 1s (remain 8m 1s) Loss: 0.8342(0.8342) \n",
      "EVAL: [100/330] Data 0.000 (0.121) Elapsed 0m 25s (remain 0m 58s) Loss: 0.3022(0.5376) \n",
      "EVAL: [200/330] Data 0.354 (0.114) Elapsed 0m 49s (remain 0m 31s) Loss: 0.4504(0.5140) \n",
      "EVAL: [300/330] Data 0.000 (0.111) Elapsed 1m 13s (remain 0m 7s) Loss: 0.4107(0.4932) \n"
     ]
    },
    {
     "name": "stderr",
     "output_type": "stream",
     "text": [
      "Epoch 9 - avg_train_loss: 0.4816 avg_val_loss: 0.4992 time: 1453s\n",
      "Epoch 9 - Accuracy: 0.8916097190584662\n",
      "Epoch 9 - Save Best Score: 0.8916 Model\n"
     ]
    },
    {
     "name": "stdout",
     "output_type": "stream",
     "text": [
      "EVAL: [329/330] Data 0.000 (0.108) Elapsed 1m 19s (remain 0m 0s) Loss: 0.0085(0.4992) \n",
      "Epoch: [10][0/1317]Data 1.242 (1.242)Elapsed 0m 2s (remain 60m 1s)Loss: 0.1661(0.1661)Grad: 1.1502  \n",
      "Epoch: [10][100/1317]Data 0.000 (0.012)Elapsed 1m 46s (remain 21m 27s)Loss: 0.7252(0.4669)Grad: 1.8149  \n",
      "Epoch: [10][200/1317]Data 0.000 (0.006)Elapsed 3m 30s (remain 19m 29s)Loss: 0.9423(0.4738)Grad: 1.5439  \n",
      "Epoch: [10][300/1317]Data 0.000 (0.004)Elapsed 5m 14s (remain 17m 42s)Loss: 1.5097(0.4701)Grad: 1.1412  \n",
      "Epoch: [10][400/1317]Data 0.000 (0.003)Elapsed 6m 59s (remain 15m 57s)Loss: 0.2502(0.4596)Grad: 1.3563  \n",
      "Epoch: [10][500/1317]Data 0.000 (0.003)Elapsed 8m 43s (remain 14m 12s)Loss: 0.0382(0.4686)Grad: 0.8479  \n",
      "Epoch: [10][600/1317]Data 0.000 (0.002)Elapsed 10m 27s (remain 12m 27s)Loss: 0.3303(0.4665)Grad: 1.2714  \n",
      "Epoch: [10][700/1317]Data 0.000 (0.002)Elapsed 12m 11s (remain 10m 42s)Loss: 1.3670(0.4597)Grad: 0.7986  \n",
      "Epoch: [10][800/1317]Data 0.000 (0.002)Elapsed 13m 55s (remain 8m 58s)Loss: 0.2715(0.4746)Grad: 1.5021  \n",
      "Epoch: [10][900/1317]Data 0.000 (0.002)Elapsed 15m 38s (remain 7m 13s)Loss: 0.0512(0.4817)Grad: 1.1480  \n",
      "Epoch: [10][1000/1317]Data 0.000 (0.001)Elapsed 17m 22s (remain 5m 29s)Loss: 0.2846(0.4859)Grad: 1.2014  \n",
      "Epoch: [10][1100/1317]Data 0.000 (0.001)Elapsed 19m 7s (remain 3m 45s)Loss: 0.7192(0.4772)Grad: 1.3987  \n",
      "Epoch: [10][1200/1317]Data 0.000 (0.001)Elapsed 20m 51s (remain 2m 0s)Loss: 0.3971(0.4757)Grad: 1.4363  \n",
      "Epoch: [10][1300/1317]Data 0.000 (0.001)Elapsed 22m 34s (remain 0m 16s)Loss: 1.7849(0.4740)Grad: 0.9008  \n",
      "Epoch: [10][1316/1317]Data 0.000 (0.001)Elapsed 22m 51s (remain 0m 0s)Loss: 0.2317(0.4740)Grad: 1.5582  \n",
      "EVAL: [0/330] Data 1.107 (1.107) Elapsed 0m 1s (remain 6m 46s) Loss: 0.7854(0.7854) \n",
      "EVAL: [100/330] Data 0.407 (0.120) Elapsed 0m 25s (remain 0m 57s) Loss: 0.3532(0.5230) \n",
      "EVAL: [200/330] Data 0.175 (0.113) Elapsed 0m 49s (remain 0m 31s) Loss: 0.4495(0.5051) \n",
      "EVAL: [300/330] Data 0.000 (0.115) Elapsed 1m 14s (remain 0m 7s) Loss: 0.4072(0.4858) \n"
     ]
    },
    {
     "name": "stderr",
     "output_type": "stream",
     "text": [
      "Epoch 10 - avg_train_loss: 0.4740 avg_val_loss: 0.4891 time: 1451s\n",
      "Epoch 10 - Accuracy: 0.8942672741078208\n",
      "Epoch 10 - Save Best Score: 0.8943 Model\n"
     ]
    },
    {
     "name": "stdout",
     "output_type": "stream",
     "text": [
      "EVAL: [329/330] Data 0.000 (0.111) Elapsed 1m 19s (remain 0m 0s) Loss: 0.0130(0.4891) \n"
     ]
    },
    {
     "name": "stderr",
     "output_type": "stream",
     "text": [
      "=============== fold: 0 result ================\n",
      "Score: 0.89427\n",
      "============ CV ============\n",
      "Score: 0.89427\n"
     ]
    }
   ],
   "source": [
    "if __name__ == '__main__':\n",
    "    main()"
   ]
  }
 ],
 "metadata": {
  "kernelspec": {
   "display_name": "Python 3",
   "language": "python",
   "name": "python3"
  },
  "language_info": {
   "codemirror_mode": {
    "name": "ipython",
    "version": 3
   },
   "file_extension": ".py",
   "mimetype": "text/x-python",
   "name": "python",
   "nbconvert_exporter": "python",
   "pygments_lexer": "ipython3",
   "version": "3.8.3"
  },
  "papermill": {
   "duration": 13746.948878,
   "end_time": "2021-01-11T03:33:33.733794",
   "environment_variables": {},
   "exception": null,
   "input_path": "__notebook__.ipynb",
   "output_path": "__notebook__.ipynb",
   "parameters": {},
   "start_time": "2021-01-10T23:44:26.784916",
   "version": "2.1.0"
  }
 },
 "nbformat": 4,
 "nbformat_minor": 4
}
